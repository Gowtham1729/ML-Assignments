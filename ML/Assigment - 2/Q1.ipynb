{
 "cells": [
  {
   "cell_type": "markdown",
   "metadata": {},
   "source": [
    "# Machine Learning\n",
    "# Homework 2 : Ensemble Methods"
   ]
  },
  {
   "cell_type": "markdown",
   "metadata": {},
   "source": [
    "## Q1"
   ]
  },
  {
   "cell_type": "markdown",
   "metadata": {},
   "source": [
    "**a) Random Forest from Decision Tree **"
   ]
  },
  {
   "cell_type": "code",
   "execution_count": 282,
   "metadata": {},
   "outputs": [],
   "source": [
    "import numpy as np\n",
    "import matplotlib.pyplot as plt\n",
    "import pandas as pd"
   ]
  },
  {
   "cell_type": "code",
   "execution_count": 283,
   "metadata": {},
   "outputs": [],
   "source": [
    "from sklearn.datasets import load_iris\n",
    "iris = load_iris()\n",
    "\n",
    "X = iris.data\n",
    "y = iris.target\n",
    "\n",
    "from sklearn.model_selection import train_test_split\n",
    "X_train, X_test, y_train, y_test = train_test_split(X, y, test_size = 0.3)\n",
    "from sklearn import tree"
   ]
  },
  {
   "cell_type": "code",
   "execution_count": 284,
   "metadata": {},
   "outputs": [],
   "source": [
    "class RandomForestClassifier:\n",
    "    \n",
    "    def __init__(self):\n",
    "        self.forest = []\n",
    "    \n",
    "    def bagging(self, X, y):\n",
    "        cols = X.shape[1] - int(np.sqrt(X.shape[1]))\n",
    "        indices = np.random.randint(0, len(X), size = (int(len(X)*0.6),))\n",
    "        X_ = X[indices]\n",
    "        features = np.random.randint(0, X.shape[1], size = (cols, ))\n",
    "        X_ = np.delete(X_, features, axis = 1)\n",
    "        return np.array([X_, indices, features])\n",
    "            \n",
    "    \n",
    "    def fit(self, X, y, n_estimators = 10):\n",
    "        for i in range(n_estimators):\n",
    "            model = tree.DecisionTreeClassifier()\n",
    "            bag = self.bagging(X, y)\n",
    "            model.fit(bag[0], y[bag[1]])\n",
    "            self.forest.append(np.array([model, bag[2]]))\n",
    "        \n",
    "    def predict(self, X_test):\n",
    "        y_pred = []\n",
    "        for i in range(len(self.forest)):\n",
    "            X_ = np.array(np.delete(X_test, self.forest[i][1], axis = 1))\n",
    "            y_pred.append(self.forest[i][0].predict(X_))\n",
    "        y_pred = pd.DataFrame(data = y_pred)\n",
    "        return np.array(y_pred.max())\n",
    "\n",
    "class RandomForestRegressor:\n",
    "    \n",
    "    def __init__(self):\n",
    "        self.forest = []\n",
    "    \n",
    "    def bagging(self, X, y):\n",
    "        cols = X.shape[1] - int(np.sqrt(X.shape[1]))\n",
    "        indices = np.random.randint(0, len(X), size = (int(len(X)*0.6),))\n",
    "        X_ = X[indices]\n",
    "        features = np.random.randint(0, X.shape[1], size = (cols, ))\n",
    "        X_ = np.delete(X_, features, axis = 1)\n",
    "        return np.array([X_, indices, features])\n",
    "            \n",
    "    \n",
    "    def fit(self, X, y, n_estimators = 10):\n",
    "        for i in range(n_estimators):\n",
    "            model = tree.DecisionTreeRegressor()\n",
    "            bag = self.bagging(X, y)\n",
    "            model.fit(bag[0], y[bag[1]])\n",
    "            self.forest.append(np.array([model, bag[2]]))\n",
    "        \n",
    "    def predict(self, X_test):\n",
    "        y_pred = []\n",
    "        for i in range(len(self.forest)):\n",
    "            X_ = np.array(np.delete(X_test, self.forest[i][1], axis = 1))\n",
    "            y_pred.append(self.forest[i][0].predict(X_))\n",
    "        y_pred = pd.DataFrame(data = y_pred)\n",
    "        return y_pred.mean()\n",
    "            \n",
    "            "
   ]
  },
  {
   "cell_type": "markdown",
   "metadata": {},
   "source": [
    "** d) Applying the Algorithms on IRIS datset**"
   ]
  },
  {
   "cell_type": "markdown",
   "metadata": {},
   "source": [
    "** Random forest with given Parameters **"
   ]
  },
  {
   "cell_type": "code",
   "execution_count": 221,
   "metadata": {},
   "outputs": [],
   "source": [
    "forest = RandomForestClassifier()\n",
    "forest.fit(X_train, y_train, 20)"
   ]
  },
  {
   "cell_type": "code",
   "execution_count": 222,
   "metadata": {},
   "outputs": [
    {
     "data": {
      "text/plain": [
       "array([0, 2, 2, 2, 0, 0, 1, 0, 0, 0, 0, 1, 1, 2, 2, 2, 2, 0, 0, 2, 2, 0,\n",
       "       2, 0, 0, 1, 2, 2, 1, 1, 0, 1, 0, 2, 2, 1, 2, 0, 2, 1, 0, 2, 2, 0,\n",
       "       0])"
      ]
     },
     "execution_count": 222,
     "metadata": {},
     "output_type": "execute_result"
    }
   ],
   "source": [
    "y_pred = forest.predict(X_test)\n",
    "y_pred"
   ]
  },
  {
   "cell_type": "code",
   "execution_count": 223,
   "metadata": {},
   "outputs": [
    {
     "data": {
      "text/plain": [
       "0.8888888888888888"
      ]
     },
     "execution_count": 223,
     "metadata": {},
     "output_type": "execute_result"
    }
   ],
   "source": [
    "from sklearn.metrics import accuracy_score\n",
    "accuracy_score(y_test, y_pred)"
   ]
  },
  {
   "cell_type": "markdown",
   "metadata": {},
   "source": [
    "** Decision Tree **"
   ]
  },
  {
   "cell_type": "code",
   "execution_count": 232,
   "metadata": {},
   "outputs": [
    {
     "data": {
      "text/plain": [
       "0.9555555555555556"
      ]
     },
     "execution_count": 232,
     "metadata": {},
     "output_type": "execute_result"
    }
   ],
   "source": [
    "from sklearn.tree import DecisionTreeClassifier\n",
    "model = DecisionTreeClassifier()\n",
    "model.fit(X_train, y_train)\n",
    "y_pred_ = model.predict(X_test)\n",
    "accuracy_score(y_test, y_pred_)"
   ]
  },
  {
   "cell_type": "markdown",
   "metadata": {},
   "source": [
    "** Random Forest with optimized Parameters **"
   ]
  },
  {
   "cell_type": "code",
   "execution_count": 241,
   "metadata": {},
   "outputs": [
    {
     "data": {
      "text/plain": [
       "0.9777777777777777"
      ]
     },
     "execution_count": 241,
     "metadata": {},
     "output_type": "execute_result"
    }
   ],
   "source": [
    "forest = RandomForestClassifier()\n",
    "forest.fit(X_train, y_train, 5)\n",
    "y_pred = forest.predict(X_test)\n",
    "accuracy_score(y_test, y_pred)"
   ]
  },
  {
   "cell_type": "markdown",
   "metadata": {},
   "source": [
    "** Observation: ** we can observe that Random forest with given parameters has less accuracy than a normal Decision Tree. However, when the parameters in the Random Forest are optimized we are getting a much better accuracy."
   ]
  },
  {
   "cell_type": "markdown",
   "metadata": {},
   "source": [
    "** b) Parallel Version of Random Forest ** "
   ]
  },
  {
   "cell_type": "code",
   "execution_count": 20,
   "metadata": {},
   "outputs": [],
   "source": [
    "import multiprocessing as mp"
   ]
  },
  {
   "cell_type": "code",
   "execution_count": 21,
   "metadata": {},
   "outputs": [],
   "source": [
    "class RandomForestClassifierMP:\n",
    "    \n",
    "    def __init__(self):\n",
    "        self.forest = []\n",
    "        self.output = mp.Queue()\n",
    "        self.trees = []\n",
    "        self.n_estimators = 10\n",
    "    \n",
    "    def bagging(self, X, y):\n",
    "        cols = X.shape[1] - int(np.sqrt(X.shape[1]))\n",
    "        indices = np.random.randint(0, len(X), size = (int(len(X)*0.6),))\n",
    "        X_ = X[indices]\n",
    "        features = np.random.randint(0, X.shape[1], size = (cols, ))\n",
    "        X_ = np.delete(X_, features, axis = 1)\n",
    "        return np.array([X_, indices, features])\n",
    "    \n",
    "    def mini_fit(self, model,i, y, bag,output):\n",
    "        model.fit(bag[0], y[bag[1]])\n",
    "        output.put((i, model))\n",
    "        \n",
    "        \n",
    "    def fit(self, X, y, n_estimators = 10):\n",
    "        self.n_estimators = n_estimators\n",
    "        processes = []\n",
    "        for i in range(n_estimators):\n",
    "            model = tree.DecisionTreeClassifier()\n",
    "            bag = self.bagging(X, y)\n",
    "            processes.append(mp.Process(target = self.mini_fit, args = (model,i, y, bag, self.output)))\n",
    "            self.forest.append(bag[2])\n",
    "            processes[-1].start()\n",
    "        for p in processes:\n",
    "            p.join()\n",
    "        \n",
    "    def predict(self, X_test):\n",
    "        y_pred = []\n",
    "        for i in range((self.n_estimators)):\n",
    "            tree = self.output.get()\n",
    "            X_ = np.array(np.delete(X_test, self.forest[tree[0]], axis = 1))\n",
    "            y_pred.append(tree[1].predict(X_))\n",
    "        y_pred = pd.DataFrame(data = y_pred)\n",
    "        return np.array(y_pred.max())\n",
    "    \n",
    "class RandomForestRegressorMP:\n",
    "    \n",
    "    def __init__(self):\n",
    "        self.forest = []\n",
    "        self.output = mp.Queue()\n",
    "        self.trees = []\n",
    "    \n",
    "    def bagging(self, X, y):\n",
    "        cols = X.shape[1] - int(np.sqrt(X.shape[1]))\n",
    "        indices = np.random.randint(0, len(X), size = (int(len(X)*0.6),))\n",
    "        X_ = X[indices]\n",
    "        features = np.random.randint(0, X.shape[1], size = (cols, ))\n",
    "        X_ = np.delete(X_, features, axis = 1)\n",
    "        return np.array([X_, indices, features])\n",
    "    \n",
    "    def mini_fit(self, model,i, y, bag,output):\n",
    "        model.fit(bag[0], y[bag[1]])\n",
    "        output.put((i, model))\n",
    "        \n",
    "        \n",
    "    def fit(self, X, y, n_estimators = 10):\n",
    "        processes = []\n",
    "        for i in range(n_estimators):\n",
    "            model = tree.DecisionTreeRegressor()\n",
    "            bag = self.bagging(X, y)\n",
    "            processes.append(mp.Process(target = self.mini_fit, args = (model,i, y, bag, self.output)))\n",
    "            self.forest.append(bag[2])\n",
    "        for p in proceses:\n",
    "            p.start()\n",
    "        for p in processes:\n",
    "            p.join()\n",
    "        for i in range(n_estimators):\n",
    "            self.trees.append(self.output.get())\n",
    "        \n",
    "    def predict(self, X_test):\n",
    "        y_pred = []\n",
    "        for i in range(len(self.trees)):\n",
    "            X_ = np.array(np.delete(X_test, self.forest[self.trees[i][0]], axis = 1))\n",
    "            y_pred.append(self.trees[i][1].predict(X_))\n",
    "        y_pred = pd.DataFrame(data = y_pred)\n",
    "        return np.array(y_pred.max())"
   ]
  },
  {
   "cell_type": "code",
   "execution_count": 70,
   "metadata": {},
   "outputs": [],
   "source": [
    "forestMP = RandomForestClassifierMP()\n",
    "forestMP.fit(X_train, y_train, 5)"
   ]
  },
  {
   "cell_type": "code",
   "execution_count": 71,
   "metadata": {},
   "outputs": [],
   "source": [
    "y_predMP = forestMP.predict(X_test)"
   ]
  },
  {
   "cell_type": "code",
   "execution_count": 72,
   "metadata": {},
   "outputs": [
    {
     "data": {
      "text/plain": [
       "array([2, 1, 0, 0, 0, 0, 0, 1, 2, 1, 2, 1, 2, 1, 0, 0, 2, 0, 1, 2, 0, 2,\n",
       "       0, 2, 1, 2, 0, 2, 2, 2, 1, 0, 1, 1, 1, 1, 1, 2, 2, 2, 1, 1, 1, 2,\n",
       "       2])"
      ]
     },
     "execution_count": 72,
     "metadata": {},
     "output_type": "execute_result"
    }
   ],
   "source": [
    "y_predMP"
   ]
  },
  {
   "cell_type": "code",
   "execution_count": 73,
   "metadata": {},
   "outputs": [
    {
     "data": {
      "text/plain": [
       "0.9333333333333333"
      ]
     },
     "execution_count": 73,
     "metadata": {},
     "output_type": "execute_result"
    }
   ],
   "source": [
    "from sklearn.metrics import accuracy_score\n",
    "accuracy_score(y_test, y_predMP)"
   ]
  },
  {
   "cell_type": "markdown",
   "metadata": {},
   "source": [
    "** d) Comparison of Serial and Parallel Versions of Random Forests **"
   ]
  },
  {
   "cell_type": "code",
   "execution_count": 135,
   "metadata": {},
   "outputs": [],
   "source": [
    "class RandomForestClassifier:\n",
    "    \n",
    "    def __init__(self):\n",
    "        self.forest = []\n",
    "        self.predictions = []\n",
    "    \n",
    "    def bagging(self, X, y):\n",
    "        cols = X.shape[1] - int(np.sqrt(X.shape[1]))\n",
    "        indices = np.random.randint(0, len(X), size = (int(len(X)*0.6),))\n",
    "        X_ = X[indices]\n",
    "        features = np.random.randint(0, X.shape[1], size = (cols, ))\n",
    "        X_ = np.delete(X_, features, axis = 1)\n",
    "        return np.array([X_, indices, features])\n",
    "            \n",
    "    \n",
    "    def fit(self, X, y, n_estimators = 10):\n",
    "        for i in range(n_estimators):\n",
    "            model = tree.DecisionTreeClassifier()\n",
    "            bag = self.bagging(X, y)\n",
    "            model.fit(bag[0], y[bag[1]])\n",
    "            time.sleep(0.01)\n",
    "            self.forest.append(np.array([model, bag[2]]))\n",
    "        \n",
    "    def predict(self, X_test):\n",
    "        y_pred = []\n",
    "        for i in range(len(self.forest)):\n",
    "            X_ = np.array(np.delete(X_test, self.forest[i][1], axis = 1))\n",
    "            y_pred.append(self.forest[i][0].predict(X_))\n",
    "        y_pred = pd.DataFrame(data = y_pred)\n",
    "        return np.array(y_pred.max())\n",
    "\n",
    "class RandomForestClassifierMP:\n",
    "    \n",
    "    def __init__(self):\n",
    "        self.forest = []\n",
    "        self.output = []\n",
    "        self.n_estimators = 10\n",
    "    \n",
    "    def bagging(self, X, y):\n",
    "        cols = X.shape[1] - int(np.sqrt(X.shape[1]))\n",
    "        indices = np.random.randint(0, len(X), size = (int(len(X)*0.6),))\n",
    "        X_ = X[indices]\n",
    "        features = np.random.randint(0, X.shape[1], size = (cols, ))\n",
    "        X_ = np.delete(X_, features, axis = 1)\n",
    "        return np.array([X_, indices, features])\n",
    "    \n",
    "    def mini_fit(self, model,i, y, bag,output):\n",
    "        model.fit(bag[0], y[bag[1]])\n",
    "        output.append((i, model))\n",
    "        \n",
    "        \n",
    "    def fit(self, X, y, n_estimators = 10):\n",
    "        self.n_estimators = n_estimators\n",
    "        processes = []\n",
    "        for i in range(n_estimators):\n",
    "            model = tree.DecisionTreeClassifier()\n",
    "            bag = self.bagging(X, y)\n",
    "            processes.append(mp.Process(target = self.mini_fit, args = (model,i, y, bag, self.output)))\n",
    "            self.forest.append(bag[2])\n",
    "            processes[-1].start()\n",
    "        for p in processes:\n",
    "            p.join()\n",
    "        \n",
    "    def predict(self, X_test):\n",
    "        y_pred = []\n",
    "        for i in range(len(self.output)):\n",
    "            tree = self.output[i]\n",
    "            X_ = np.array(np.delete(X_test, self.forest[tree[0]], axis = 1))\n",
    "            y_pred.append(tree[1].predict(X_))\n",
    "        y_pred = pd.DataFrame(data = y_pred)\n",
    "        return np.array(y_pred.max())"
   ]
  },
  {
   "cell_type": "markdown",
   "metadata": {},
   "source": [
    "** Serial Implemenation Runtime **"
   ]
  },
  {
   "cell_type": "code",
   "execution_count": 136,
   "metadata": {},
   "outputs": [
    {
     "name": "stdout",
     "output_type": "stream",
     "text": [
      "0.323933124542\n"
     ]
    }
   ],
   "source": [
    "import time\n",
    "a = time.time()\n",
    "forest = RandomForestClassifier()\n",
    "forest.fit(X_train, y_train, 25)\n",
    "b = time.time() - a\n",
    "print(b)"
   ]
  },
  {
   "cell_type": "markdown",
   "metadata": {},
   "source": [
    "** Parallel Implementation Runtime **"
   ]
  },
  {
   "cell_type": "code",
   "execution_count": 137,
   "metadata": {},
   "outputs": [
    {
     "name": "stdout",
     "output_type": "stream",
     "text": [
      "0.234215021133\n"
     ]
    }
   ],
   "source": [
    "c = time.time()\n",
    "main_d={}\n",
    "forestMP = RandomForestClassifierMP()\n",
    "forestMP.fit(X_train, y_train, 25)\n",
    "#forestMP.predict(X_test)\n",
    "d = time.time() - c\n",
    "print(d)"
   ]
  },
  {
   "cell_type": "markdown",
   "metadata": {},
   "source": [
    "### Observation:\n",
    "We can clearly observe that the time taken for serial Implementaion is taking 0.4 sec to run whereas the parallel implementation of the same is taking around 0.24 seconds for 25 estimators."
   ]
  },
  {
   "cell_type": "markdown",
   "metadata": {},
   "source": [
    "** Checking the same for breast cancer dataset **"
   ]
  },
  {
   "cell_type": "code",
   "execution_count": 138,
   "metadata": {},
   "outputs": [],
   "source": [
    "from sklearn.datasets import load_breast_cancer\n",
    "data = load_breast_cancer()"
   ]
  },
  {
   "cell_type": "code",
   "execution_count": 139,
   "metadata": {},
   "outputs": [],
   "source": [
    "X = data.data\n",
    "y = data.target\n",
    "\n",
    "from sklearn.model_selection import train_test_split\n",
    "X_train, X_test, y_train, y_test = train_test_split(X, y, test_size = 0.3)"
   ]
  },
  {
   "cell_type": "code",
   "execution_count": 140,
   "metadata": {},
   "outputs": [
    {
     "name": "stdout",
     "output_type": "stream",
     "text": [
      "0.23770403862\n",
      "0.179099798203\n"
     ]
    }
   ],
   "source": [
    "import time\n",
    "a = time.time()\n",
    "forest = RandomForestClassifier()\n",
    "forest.fit(X_train, y_train, 20)\n",
    "#forest.predict(X_test)\n",
    "b = time.time() - a\n",
    "print(b)\n",
    "\n",
    "c = time.time()\n",
    "main_d={}\n",
    "forestMP = RandomForestClassifierMP()\n",
    "forestMP.fit(X_train, y_train, 20)\n",
    "#forestMP.predict(X_test)\n",
    "d = time.time() - c\n",
    "print(d)"
   ]
  },
  {
   "cell_type": "markdown",
   "metadata": {},
   "source": [
    "** e) 5 - fold Cross Validation **"
   ]
  },
  {
   "cell_type": "code",
   "execution_count": 297,
   "metadata": {},
   "outputs": [],
   "source": [
    "from sklearn.datasets import load_iris\n",
    "iris = load_iris()\n",
    "\n",
    "X = iris.data\n",
    "y = iris.target\n",
    "randomize = np.arange(len(X))\n",
    "np.random.shuffle(randomize)\n",
    "X = X[randomize]\n",
    "y = y[randomize]"
   ]
  },
  {
   "cell_type": "code",
   "execution_count": null,
   "metadata": {},
   "outputs": [],
   "source": []
  },
  {
   "cell_type": "code",
   "execution_count": 298,
   "metadata": {},
   "outputs": [
    {
     "data": {
      "text/plain": [
       "30"
      ]
     },
     "execution_count": 298,
     "metadata": {},
     "output_type": "execute_result"
    }
   ],
   "source": [
    "l = len(X)\n",
    "l = l/5\n",
    "l"
   ]
  },
  {
   "cell_type": "code",
   "execution_count": 299,
   "metadata": {},
   "outputs": [
    {
     "name": "stdout",
     "output_type": "stream",
     "text": [
      "5\n",
      "5\n"
     ]
    },
    {
     "data": {
      "text/plain": [
       "(150, 4)"
      ]
     },
     "execution_count": 299,
     "metadata": {},
     "output_type": "execute_result"
    }
   ],
   "source": [
    "foldsX = []\n",
    "foldsy = []\n",
    "\n",
    "for i in range(5):\n",
    "    foldsX.append(X[i*l: (i+1)*l, :])\n",
    "    foldsy.append(y[i*l:(i+1)*l])\n",
    "from sklearn.metrics import accuracy_score\n",
    "\n",
    "print len(foldsX)\n",
    "print len(foldsy)\n",
    "a = np.vstack(foldsX)\n",
    "a.shape"
   ]
  },
  {
   "cell_type": "code",
   "execution_count": 307,
   "metadata": {},
   "outputs": [
    {
     "name": "stdout",
     "output_type": "stream",
     "text": [
      "(array([[5.9, 3.2, 4.8, 1.8],\n",
      "       [5.1, 3.4, 1.5, 0.2],\n",
      "       [5. , 3.4, 1.6, 0.4],\n",
      "       [5. , 3.3, 1.4, 0.2],\n",
      "       [7.2, 3.2, 6. , 1.8],\n",
      "       [5. , 2.3, 3.3, 1. ],\n",
      "       [5.1, 3.8, 1.5, 0.3],\n",
      "       [5.8, 2.7, 4.1, 1. ],\n",
      "       [4.8, 3.1, 1.6, 0.2],\n",
      "       [6.4, 2.9, 4.3, 1.3],\n",
      "       [6.7, 3.3, 5.7, 2.5],\n",
      "       [6.7, 3. , 5. , 1.7],\n",
      "       [6.7, 2.5, 5.8, 1.8],\n",
      "       [5. , 3.5, 1.6, 0.6],\n",
      "       [6.4, 3.2, 4.5, 1.5],\n",
      "       [6. , 3.4, 4.5, 1.6],\n",
      "       [5. , 3.4, 1.5, 0.2],\n",
      "       [5.6, 3. , 4.5, 1.5],\n",
      "       [6.8, 3. , 5.5, 2.1],\n",
      "       [6.2, 2.9, 4.3, 1.3],\n",
      "       [5.8, 2.7, 5.1, 1.9],\n",
      "       [4.8, 3. , 1.4, 0.1],\n",
      "       [6.3, 2.9, 5.6, 1.8],\n",
      "       [5.7, 3. , 4.2, 1.2],\n",
      "       [7.2, 3. , 5.8, 1.6],\n",
      "       [6. , 2.7, 5.1, 1.6],\n",
      "       [5.7, 3.8, 1.7, 0.3],\n",
      "       [6.1, 2.9, 4.7, 1.4],\n",
      "       [6.1, 3. , 4.6, 1.4],\n",
      "       [6.1, 2.6, 5.6, 1.4],\n",
      "       [5. , 3.2, 1.2, 0.2],\n",
      "       [5.6, 2.8, 4.9, 2. ],\n",
      "       [4.7, 3.2, 1.3, 0.2],\n",
      "       [5.1, 3.8, 1.6, 0.2],\n",
      "       [6.3, 2.3, 4.4, 1.3],\n",
      "       [4.5, 2.3, 1.3, 0.3],\n",
      "       [6.3, 2.8, 5.1, 1.5],\n",
      "       [7.9, 3.8, 6.4, 2. ],\n",
      "       [4.8, 3. , 1.4, 0.3],\n",
      "       [7.7, 2.8, 6.7, 2. ],\n",
      "       [7.2, 3.6, 6.1, 2.5],\n",
      "       [4.6, 3.6, 1. , 0.2],\n",
      "       [5.4, 3.4, 1.7, 0.2],\n",
      "       [5.5, 4.2, 1.4, 0.2],\n",
      "       [5.8, 2.6, 4. , 1.2],\n",
      "       [5.6, 2.9, 3.6, 1.3],\n",
      "       [5.4, 3.9, 1.3, 0.4],\n",
      "       [4.9, 3.1, 1.5, 0.1],\n",
      "       [6.5, 2.8, 4.6, 1.5],\n",
      "       [5.8, 2.7, 5.1, 1.9],\n",
      "       [5.4, 3.7, 1.5, 0.2],\n",
      "       [7.7, 2.6, 6.9, 2.3],\n",
      "       [6. , 2.2, 4. , 1. ],\n",
      "       [6.9, 3.1, 5.4, 2.1],\n",
      "       [6.7, 3. , 5.2, 2.3],\n",
      "       [6.7, 3.1, 4.7, 1.5],\n",
      "       [5.7, 2.9, 4.2, 1.3],\n",
      "       [5.4, 3.9, 1.7, 0.4],\n",
      "       [4.6, 3.4, 1.4, 0.3],\n",
      "       [4.9, 3.1, 1.5, 0.1],\n",
      "       [5.8, 4. , 1.2, 0.2],\n",
      "       [5.3, 3.7, 1.5, 0.2],\n",
      "       [5.7, 2.5, 5. , 2. ],\n",
      "       [5.9, 3. , 5.1, 1.8],\n",
      "       [6.1, 2.8, 4. , 1.3],\n",
      "       [4.4, 3. , 1.3, 0.2],\n",
      "       [5.5, 2.5, 4. , 1.3],\n",
      "       [4.4, 2.9, 1.4, 0.2],\n",
      "       [4.7, 3.2, 1.6, 0.2],\n",
      "       [5.7, 2.8, 4.5, 1.3],\n",
      "       [5.1, 3.5, 1.4, 0.2],\n",
      "       [7.6, 3. , 6.6, 2.1],\n",
      "       [6. , 3. , 4.8, 1.8],\n",
      "       [5.6, 2.7, 4.2, 1.3],\n",
      "       [6.3, 3.3, 6. , 2.5],\n",
      "       [5.2, 4.1, 1.5, 0.1],\n",
      "       [6.3, 2.5, 4.9, 1.5],\n",
      "       [5.2, 3.4, 1.4, 0.2],\n",
      "       [5. , 3.6, 1.4, 0.2],\n",
      "       [4.4, 3.2, 1.3, 0.2],\n",
      "       [6.4, 2.7, 5.3, 1.9],\n",
      "       [5. , 3. , 1.6, 0.2],\n",
      "       [5.5, 3.5, 1.3, 0.2],\n",
      "       [6.6, 2.9, 4.6, 1.3],\n",
      "       [6.8, 3.2, 5.9, 2.3],\n",
      "       [6.5, 3.2, 5.1, 2. ],\n",
      "       [5.1, 3.5, 1.4, 0.3],\n",
      "       [6.5, 3. , 5.8, 2.2],\n",
      "       [6.6, 3. , 4.4, 1.4],\n",
      "       [6.7, 3.1, 4.4, 1.4],\n",
      "       [5.6, 2.5, 3.9, 1.1],\n",
      "       [5.6, 3. , 4.1, 1.3],\n",
      "       [5.8, 2.8, 5.1, 2.4],\n",
      "       [4.9, 2.4, 3.3, 1. ],\n",
      "       [7.4, 2.8, 6.1, 1.9],\n",
      "       [6.9, 3.1, 5.1, 2.3],\n",
      "       [5.5, 2.3, 4. , 1.3],\n",
      "       [6.4, 3.1, 5.5, 1.8],\n",
      "       [6.3, 2.7, 4.9, 1.8],\n",
      "       [5.7, 4.4, 1.5, 0.4],\n",
      "       [6.3, 3.4, 5.6, 2.4],\n",
      "       [6.1, 3. , 4.9, 1.8],\n",
      "       [5.1, 3.8, 1.9, 0.4],\n",
      "       [6.9, 3.2, 5.7, 2.3],\n",
      "       [7.7, 3. , 6.1, 2.3],\n",
      "       [7. , 3.2, 4.7, 1.4],\n",
      "       [5.2, 3.5, 1.5, 0.2],\n",
      "       [6.8, 2.8, 4.8, 1.4],\n",
      "       [6. , 2.2, 5. , 1.5],\n",
      "       [6.5, 3. , 5.5, 1.8],\n",
      "       [5.8, 2.7, 3.9, 1.2],\n",
      "       [5.5, 2.4, 3.8, 1.1],\n",
      "       [6.9, 3.1, 4.9, 1.5],\n",
      "       [5.4, 3.4, 1.5, 0.4],\n",
      "       [6.3, 2.5, 5. , 1.9],\n",
      "       [4.6, 3.2, 1.4, 0.2],\n",
      "       [7.3, 2.9, 6.3, 1.8],\n",
      "       [5.1, 3.7, 1.5, 0.4],\n",
      "       [6.7, 3.3, 5.7, 2.1],\n",
      "       [6. , 2.9, 4.5, 1.5]]), array([[1, 0, 0, 0, 2, 1, 0, 1, 0, 1, 2, 1, 2, 0, 1, 1, 0, 1, 2, 1, 2, 0,\n",
      "        2, 1, 2, 1, 0, 1, 1, 2],\n",
      "       [0, 2, 0, 0, 1, 0, 2, 2, 0, 2, 2, 0, 0, 0, 1, 1, 0, 0, 1, 2, 0, 2,\n",
      "        1, 2, 2, 1, 1, 0, 0, 0],\n",
      "       [0, 0, 2, 2, 1, 0, 1, 0, 0, 1, 0, 2, 2, 1, 2, 0, 1, 0, 0, 0, 2, 0,\n",
      "        0, 1, 2, 2, 0, 2, 1, 1],\n",
      "       [1, 1, 2, 1, 2, 2, 1, 2, 2, 0, 2, 2, 0, 2, 2, 1, 0, 1, 2, 2, 1, 1,\n",
      "        1, 0, 2, 0, 2, 0, 2, 1]]), array([[4.9, 3.1, 1.5, 0.1],\n",
      "       [4.9, 3. , 1.4, 0.2],\n",
      "       [5.1, 3.3, 1.7, 0.5],\n",
      "       [4.9, 2.5, 4.5, 1.7],\n",
      "       [5.2, 2.7, 3.9, 1.4],\n",
      "       [6.2, 2.8, 4.8, 1.8],\n",
      "       [5.9, 3. , 4.2, 1.5],\n",
      "       [7.7, 3.8, 6.7, 2.2],\n",
      "       [7.1, 3. , 5.9, 2.1],\n",
      "       [4.3, 3. , 1.1, 0.1],\n",
      "       [6.2, 3.4, 5.4, 2.3],\n",
      "       [6.4, 3.2, 5.3, 2.3],\n",
      "       [5.5, 2.6, 4.4, 1.2],\n",
      "       [4.8, 3.4, 1.6, 0.2],\n",
      "       [6.4, 2.8, 5.6, 2.1],\n",
      "       [5. , 3.5, 1.3, 0.3],\n",
      "       [6.1, 2.8, 4.7, 1.2],\n",
      "       [5.1, 2.5, 3. , 1.1],\n",
      "       [6.7, 3.1, 5.6, 2.4],\n",
      "       [5.5, 2.4, 3.7, 1. ],\n",
      "       [6.4, 2.8, 5.6, 2.2],\n",
      "       [5. , 2. , 3.5, 1. ],\n",
      "       [4.6, 3.1, 1.5, 0.2],\n",
      "       [5.7, 2.8, 4.1, 1.3],\n",
      "       [4.8, 3.4, 1.9, 0.2],\n",
      "       [6.2, 2.2, 4.5, 1.5],\n",
      "       [6.5, 3. , 5.2, 2. ],\n",
      "       [6.3, 3.3, 4.7, 1.6],\n",
      "       [5.7, 2.6, 3.5, 1. ],\n",
      "       [5.4, 3. , 4.5, 1.5]]), array([[0],\n",
      "       [0],\n",
      "       [0],\n",
      "       [2],\n",
      "       [1],\n",
      "       [2],\n",
      "       [1],\n",
      "       [2],\n",
      "       [2],\n",
      "       [0],\n",
      "       [2],\n",
      "       [2],\n",
      "       [1],\n",
      "       [0],\n",
      "       [2],\n",
      "       [0],\n",
      "       [1],\n",
      "       [1],\n",
      "       [2],\n",
      "       [1],\n",
      "       [2],\n",
      "       [1],\n",
      "       [0],\n",
      "       [1],\n",
      "       [0],\n",
      "       [1],\n",
      "       [2],\n",
      "       [1],\n",
      "       [1],\n",
      "       [1]]))\n"
     ]
    },
    {
     "ename": "IndexError",
     "evalue": "index 32 is out of bounds for axis 0 with size 4",
     "output_type": "error",
     "traceback": [
      "\u001b[0;31m---------------------------------------------------------------------------\u001b[0m",
      "\u001b[0;31mIndexError\u001b[0m                                Traceback (most recent call last)",
      "\u001b[0;32m<ipython-input-307-c2ccd682f235>\u001b[0m in \u001b[0;36m<module>\u001b[0;34m()\u001b[0m\n\u001b[1;32m     13\u001b[0m         \u001b[0;32mprint\u001b[0m\u001b[0;34m(\u001b[0m\u001b[0mX_train\u001b[0m\u001b[0;34m,\u001b[0m \u001b[0my_train\u001b[0m\u001b[0;34m,\u001b[0m \u001b[0mX_test\u001b[0m\u001b[0;34m,\u001b[0m \u001b[0my_test\u001b[0m\u001b[0;34m)\u001b[0m\u001b[0;34m\u001b[0m\u001b[0m\n\u001b[1;32m     14\u001b[0m         \u001b[0mmodel\u001b[0m \u001b[0;34m=\u001b[0m \u001b[0mRandomForestClassifier\u001b[0m\u001b[0;34m(\u001b[0m\u001b[0;34m)\u001b[0m\u001b[0;34m\u001b[0m\u001b[0m\n\u001b[0;32m---> 15\u001b[0;31m         \u001b[0mmodel\u001b[0m\u001b[0;34m.\u001b[0m\u001b[0mfit\u001b[0m\u001b[0;34m(\u001b[0m\u001b[0mX_train\u001b[0m\u001b[0;34m,\u001b[0m \u001b[0my_train\u001b[0m\u001b[0;34m,\u001b[0m\u001b[0mestimators\u001b[0m\u001b[0;34m[\u001b[0m\u001b[0mi\u001b[0m\u001b[0;34m]\u001b[0m\u001b[0;34m)\u001b[0m\u001b[0;34m\u001b[0m\u001b[0m\n\u001b[0m\u001b[1;32m     16\u001b[0m         \u001b[0my_pred\u001b[0m \u001b[0;34m=\u001b[0m \u001b[0mmodel\u001b[0m\u001b[0;34m.\u001b[0m\u001b[0mpredict\u001b[0m\u001b[0;34m(\u001b[0m\u001b[0mX_test\u001b[0m\u001b[0;34m)\u001b[0m\u001b[0;34m\u001b[0m\u001b[0m\n\u001b[1;32m     17\u001b[0m         \u001b[0maccuracy\u001b[0m \u001b[0;34m=\u001b[0m \u001b[0maccuracy_score\u001b[0m\u001b[0;34m(\u001b[0m\u001b[0my_pred\u001b[0m\u001b[0;34m,\u001b[0m \u001b[0my_test\u001b[0m\u001b[0;34m)\u001b[0m\u001b[0;34m\u001b[0m\u001b[0m\n",
      "\u001b[0;32m<ipython-input-284-fc745d789ca1>\u001b[0m in \u001b[0;36mfit\u001b[0;34m(self, X, y, n_estimators)\u001b[0m\n\u001b[1;32m     17\u001b[0m             \u001b[0mmodel\u001b[0m \u001b[0;34m=\u001b[0m \u001b[0mtree\u001b[0m\u001b[0;34m.\u001b[0m\u001b[0mDecisionTreeClassifier\u001b[0m\u001b[0;34m(\u001b[0m\u001b[0;34m)\u001b[0m\u001b[0;34m\u001b[0m\u001b[0m\n\u001b[1;32m     18\u001b[0m             \u001b[0mbag\u001b[0m \u001b[0;34m=\u001b[0m \u001b[0mself\u001b[0m\u001b[0;34m.\u001b[0m\u001b[0mbagging\u001b[0m\u001b[0;34m(\u001b[0m\u001b[0mX\u001b[0m\u001b[0;34m,\u001b[0m \u001b[0my\u001b[0m\u001b[0;34m)\u001b[0m\u001b[0;34m\u001b[0m\u001b[0m\n\u001b[0;32m---> 19\u001b[0;31m             \u001b[0mmodel\u001b[0m\u001b[0;34m.\u001b[0m\u001b[0mfit\u001b[0m\u001b[0;34m(\u001b[0m\u001b[0mbag\u001b[0m\u001b[0;34m[\u001b[0m\u001b[0;36m0\u001b[0m\u001b[0;34m]\u001b[0m\u001b[0;34m,\u001b[0m \u001b[0my\u001b[0m\u001b[0;34m[\u001b[0m\u001b[0mbag\u001b[0m\u001b[0;34m[\u001b[0m\u001b[0;36m1\u001b[0m\u001b[0;34m]\u001b[0m\u001b[0;34m]\u001b[0m\u001b[0;34m)\u001b[0m\u001b[0;34m\u001b[0m\u001b[0m\n\u001b[0m\u001b[1;32m     20\u001b[0m             \u001b[0mself\u001b[0m\u001b[0;34m.\u001b[0m\u001b[0mforest\u001b[0m\u001b[0;34m.\u001b[0m\u001b[0mappend\u001b[0m\u001b[0;34m(\u001b[0m\u001b[0mnp\u001b[0m\u001b[0;34m.\u001b[0m\u001b[0marray\u001b[0m\u001b[0;34m(\u001b[0m\u001b[0;34m[\u001b[0m\u001b[0mmodel\u001b[0m\u001b[0;34m,\u001b[0m \u001b[0mbag\u001b[0m\u001b[0;34m[\u001b[0m\u001b[0;36m2\u001b[0m\u001b[0;34m]\u001b[0m\u001b[0;34m]\u001b[0m\u001b[0;34m)\u001b[0m\u001b[0;34m)\u001b[0m\u001b[0;34m\u001b[0m\u001b[0m\n\u001b[1;32m     21\u001b[0m \u001b[0;34m\u001b[0m\u001b[0m\n",
      "\u001b[0;31mIndexError\u001b[0m: index 32 is out of bounds for axis 0 with size 4"
     ]
    }
   ],
   "source": [
    "estimators = [1, 2, 5, 10, 20, 100]\n",
    "\n",
    "for i in range(len(estimators)):\n",
    "    for j in range(5):\n",
    "        folds_X = foldsX[:]\n",
    "        folds_y = foldsy[:]\n",
    "        folds_X.pop(j)\n",
    "        folds_y.pop(j)\n",
    "        X_train = np.vstack(folds_X)\n",
    "        y_train = np.vstack(folds_y)\n",
    "        X_test = np.vstack(foldsX[j])\n",
    "        y_test = np.vstack(foldsy[j])\n",
    "        print(X_train, y_train, X_test, y_test)\n",
    "        model = RandomForestClassifier()\n",
    "        model.fit(X_train, y_train,estimators[i])\n",
    "        y_pred = model.predict(X_test)\n",
    "        accuracy = accuracy_score(y_pred, y_test)\n",
    "        print(estimators[i], accuracy)\n",
    "        "
   ]
  },
  {
   "cell_type": "code",
   "execution_count": null,
   "metadata": {},
   "outputs": [],
   "source": []
  }
 ],
 "metadata": {
  "kernelspec": {
   "display_name": "Python 2",
   "language": "python",
   "name": "python2"
  },
  "language_info": {
   "codemirror_mode": {
    "name": "ipython",
    "version": 2
   },
   "file_extension": ".py",
   "mimetype": "text/x-python",
   "name": "python",
   "nbconvert_exporter": "python",
   "pygments_lexer": "ipython2",
   "version": "2.7.15"
  }
 },
 "nbformat": 4,
 "nbformat_minor": 2
}
