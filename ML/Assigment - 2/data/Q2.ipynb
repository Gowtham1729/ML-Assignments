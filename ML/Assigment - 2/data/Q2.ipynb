{
 "cells": [
  {
   "cell_type": "markdown",
   "metadata": {},
   "source": [
    "# Q2 Kaggle Competition\n",
    "## user id: https://www.kaggle.com/gowtham1729\n",
    "## username: AI_boy\n",
    "## Score Obtained: 3.11423"
   ]
  },
  {
   "cell_type": "code",
   "execution_count": 19,
   "metadata": {},
   "outputs": [
    {
     "data": {
      "text/html": [
       "<div>\n",
       "<style scoped>\n",
       "    .dataframe tbody tr th:only-of-type {\n",
       "        vertical-align: middle;\n",
       "    }\n",
       "\n",
       "    .dataframe tbody tr th {\n",
       "        vertical-align: top;\n",
       "    }\n",
       "\n",
       "    .dataframe thead th {\n",
       "        text-align: right;\n",
       "    }\n",
       "</style>\n",
       "<table border=\"1\" class=\"dataframe\">\n",
       "  <thead>\n",
       "    <tr style=\"text-align: right;\">\n",
       "      <th></th>\n",
       "      <th>SalesID</th>\n",
       "      <th>SalePrice</th>\n",
       "      <th>MachineID</th>\n",
       "      <th>ModelID</th>\n",
       "      <th>datasource</th>\n",
       "      <th>auctioneerID</th>\n",
       "      <th>YearMade</th>\n",
       "      <th>MachineHoursCurrentMeter</th>\n",
       "    </tr>\n",
       "  </thead>\n",
       "  <tbody>\n",
       "    <tr>\n",
       "      <th>count</th>\n",
       "      <td>4.126980e+05</td>\n",
       "      <td>412698.000000</td>\n",
       "      <td>4.126980e+05</td>\n",
       "      <td>412698.000000</td>\n",
       "      <td>412698.000000</td>\n",
       "      <td>392562.000000</td>\n",
       "      <td>412698.000000</td>\n",
       "      <td>1.475040e+05</td>\n",
       "    </tr>\n",
       "    <tr>\n",
       "      <th>mean</th>\n",
       "      <td>2.011161e+06</td>\n",
       "      <td>31215.181414</td>\n",
       "      <td>1.230061e+06</td>\n",
       "      <td>6947.201828</td>\n",
       "      <td>135.169361</td>\n",
       "      <td>6.585268</td>\n",
       "      <td>1899.049637</td>\n",
       "      <td>3.522988e+03</td>\n",
       "    </tr>\n",
       "    <tr>\n",
       "      <th>std</th>\n",
       "      <td>1.080068e+06</td>\n",
       "      <td>23141.743695</td>\n",
       "      <td>4.539533e+05</td>\n",
       "      <td>6280.824982</td>\n",
       "      <td>9.646749</td>\n",
       "      <td>17.158409</td>\n",
       "      <td>292.190243</td>\n",
       "      <td>2.716993e+04</td>\n",
       "    </tr>\n",
       "    <tr>\n",
       "      <th>min</th>\n",
       "      <td>1.139246e+06</td>\n",
       "      <td>4750.000000</td>\n",
       "      <td>0.000000e+00</td>\n",
       "      <td>28.000000</td>\n",
       "      <td>121.000000</td>\n",
       "      <td>0.000000</td>\n",
       "      <td>1000.000000</td>\n",
       "      <td>0.000000e+00</td>\n",
       "    </tr>\n",
       "    <tr>\n",
       "      <th>25%</th>\n",
       "      <td>1.421898e+06</td>\n",
       "      <td>14500.000000</td>\n",
       "      <td>1.088593e+06</td>\n",
       "      <td>3261.000000</td>\n",
       "      <td>132.000000</td>\n",
       "      <td>1.000000</td>\n",
       "      <td>1985.000000</td>\n",
       "      <td>0.000000e+00</td>\n",
       "    </tr>\n",
       "    <tr>\n",
       "      <th>50%</th>\n",
       "      <td>1.645852e+06</td>\n",
       "      <td>24000.000000</td>\n",
       "      <td>1.284397e+06</td>\n",
       "      <td>4605.000000</td>\n",
       "      <td>132.000000</td>\n",
       "      <td>2.000000</td>\n",
       "      <td>1995.000000</td>\n",
       "      <td>0.000000e+00</td>\n",
       "    </tr>\n",
       "    <tr>\n",
       "      <th>75%</th>\n",
       "      <td>2.261012e+06</td>\n",
       "      <td>40000.000000</td>\n",
       "      <td>1.478079e+06</td>\n",
       "      <td>8899.000000</td>\n",
       "      <td>136.000000</td>\n",
       "      <td>4.000000</td>\n",
       "      <td>2001.000000</td>\n",
       "      <td>3.209000e+03</td>\n",
       "    </tr>\n",
       "    <tr>\n",
       "      <th>max</th>\n",
       "      <td>6.333349e+06</td>\n",
       "      <td>142000.000000</td>\n",
       "      <td>2.486330e+06</td>\n",
       "      <td>37198.000000</td>\n",
       "      <td>173.000000</td>\n",
       "      <td>99.000000</td>\n",
       "      <td>2014.000000</td>\n",
       "      <td>2.483300e+06</td>\n",
       "    </tr>\n",
       "  </tbody>\n",
       "</table>\n",
       "</div>"
      ],
      "text/plain": [
       "            SalesID      SalePrice     MachineID        ModelID  \\\n",
       "count  4.126980e+05  412698.000000  4.126980e+05  412698.000000   \n",
       "mean   2.011161e+06   31215.181414  1.230061e+06    6947.201828   \n",
       "std    1.080068e+06   23141.743695  4.539533e+05    6280.824982   \n",
       "min    1.139246e+06    4750.000000  0.000000e+00      28.000000   \n",
       "25%    1.421898e+06   14500.000000  1.088593e+06    3261.000000   \n",
       "50%    1.645852e+06   24000.000000  1.284397e+06    4605.000000   \n",
       "75%    2.261012e+06   40000.000000  1.478079e+06    8899.000000   \n",
       "max    6.333349e+06  142000.000000  2.486330e+06   37198.000000   \n",
       "\n",
       "          datasource   auctioneerID       YearMade  MachineHoursCurrentMeter  \n",
       "count  412698.000000  392562.000000  412698.000000              1.475040e+05  \n",
       "mean      135.169361       6.585268    1899.049637              3.522988e+03  \n",
       "std         9.646749      17.158409     292.190243              2.716993e+04  \n",
       "min       121.000000       0.000000    1000.000000              0.000000e+00  \n",
       "25%       132.000000       1.000000    1985.000000              0.000000e+00  \n",
       "50%       132.000000       2.000000    1995.000000              0.000000e+00  \n",
       "75%       136.000000       4.000000    2001.000000              3.209000e+03  \n",
       "max       173.000000      99.000000    2014.000000              2.483300e+06  "
      ]
     },
     "execution_count": 19,
     "metadata": {},
     "output_type": "execute_result"
    }
   ],
   "source": [
    "import numpy as np\n",
    "import pandas as pd\n",
    "import matplotlib.pyplot as plt\n",
    "\n",
    "data = pd.read_csv(\"TrainAndValid.csv\")\n",
    "dataX = pd.read_csv(\"Test.csv\")\n",
    "data.describe()"
   ]
  },
  {
   "cell_type": "code",
   "execution_count": 20,
   "metadata": {},
   "outputs": [
    {
     "name": "stdout",
     "output_type": "stream",
     "text": [
      "['SalePrice', 'ModelID', 'datasource', 'auctioneerID', 'YearMade', 'MachineHoursCurrentMeter', 'fiModelDesc', 'fiBaseModel', 'ProductSize', 'state', 'ProductGroup', 'ProductGroupDesc', 'Enclosure', 'Hydraulics']\n",
      "(3522.988285063456, 'OROPS', 'Standard')\n",
      "13\n"
     ]
    }
   ],
   "source": [
    "heads = ['SalesID', 'MachineID', 'UsageBand', 'fiSecondaryDesc','saledate', 'fiModelSeries', 'fiModelDescriptor', 'fiProductClassDesc', 'Drive_System', 'Forks', 'Pad_Type', 'Ride_Control', 'Stick', 'Transmission', 'Turbocharged', 'Blade_Extension', 'Blade_Width', 'Enclosure_Type', 'Engine_Horsepower', 'Pushblock', 'Ripper', 'Scarifier', 'Tip_Control', 'Tire_Size', 'Coupler', 'Coupler_System', 'Grouser_Tracks', 'Hydraulics_Flow', 'Track_Type', 'Undercarriage_Pad_Width', 'Stick_Length', 'Thumb', 'Pattern_Changer', 'Grouser_Type', 'Backhoe_Mounting', 'Blade_Type', 'Travel_Controls', 'Differential_Type', 'Steering_Controls']\n",
    "\n",
    "data = data.drop(columns = heads)\n",
    "\n",
    "print list(data)\n",
    "\n",
    "hours = data['MachineHoursCurrentMeter'].mean()\n",
    "enclosure = data['Enclosure'].max()\n",
    "hydraulics = data['Hydraulics'].max()\n",
    "print(hours, enclosure, hydraulics)\n",
    "\n",
    "data['Enclosure']  = data['Enclosure'].fillna(enclosure)\n",
    "data['Hydraulics'] = data['Hydraulics'].fillna(hydraulics)\n",
    "data['MachineHoursCurrentMeter'] = data['MachineHoursCurrentMeter'].fillna(hours)\n",
    "data['auctioneerID'] = data['auctioneerID'].fillna(100)\n",
    "data['ProductSize'] = data['ProductSize'].fillna(100)\n",
    "y = data.iloc[:, 1].values\n",
    "X = data.drop(columns = ['SalePrice'])\n",
    "print(len(list(X)))\n",
    "X = np.array(X)\n",
    "\n",
    "\n",
    "##########################################################################################\n",
    "dataX = dataX.drop(columns = heads)\n",
    "dataX['Enclosure']  = dataX['Enclosure'].fillna(enclosure)\n",
    "dataX['Hydraulics'] = dataX['Hydraulics'].fillna(hydraulics)\n",
    "dataX['MachineHoursCurrentMeter'] = dataX['MachineHoursCurrentMeter'].fillna(hours)\n",
    "dataX['auctioneerID'] = dataX['auctioneerID'].fillna(100)\n",
    "dataX['ProductSize'] = dataX['ProductSize'].fillna(100)\n",
    "X_test = np.array(dataX)\n",
    "\n",
    "newX = np.concatenate([X, X_test])\n",
    "###########################################################################################\n",
    "\n",
    "\n",
    "# from sklearn.model_selection import train_test_split\n",
    "# X_train, X_test, y_train, y_test = train_test_split(X, y, test_size = 0.2, random_state = 0)"
   ]
  },
  {
   "cell_type": "code",
   "execution_count": 21,
   "metadata": {},
   "outputs": [
    {
     "data": {
      "text/plain": [
       "array([ 3157,    77,  7009, ..., 21435, 21435, 21436])"
      ]
     },
     "execution_count": 21,
     "metadata": {},
     "output_type": "execute_result"
    }
   ],
   "source": [
    "y"
   ]
  },
  {
   "cell_type": "code",
   "execution_count": 22,
   "metadata": {},
   "outputs": [
    {
     "name": "stdout",
     "output_type": "stream",
     "text": [
      "('SalePrice', 66000.0, 0)\n",
      "('ModelID', 3157, 0)\n",
      "('datasource', 121, 0)\n",
      "('auctioneerID', 3.0, 0)\n",
      "('YearMade', 2004, 0)\n",
      "('MachineHoursCurrentMeter', 68.0, 0)\n",
      "('fiModelDesc', '521D', 0)\n",
      "('fiBaseModel', '521', 0)\n",
      "('ProductSize', 100, 0)\n",
      "('state', 'Alabama', 0)\n",
      "('ProductGroup', 'WL', 0)\n",
      "('ProductGroupDesc', 'Wheel Loader', 0)\n",
      "('Enclosure', 'EROPS w AC', 0)\n",
      "('Hydraulics', '2 Valve', 0)\n"
     ]
    }
   ],
   "source": [
    "for i in range(data.shape[1]):\n",
    "    print (list(data)[i], data.iloc[0, i], len(data.iloc[:, i].values[data.iloc[:, i].isna()]))\n",
    "\n",
    "# from sklearn.preprocessing import LabelEncoder, OneHotEncoder, StandardScaler\n",
    "# sc = StandardScaler()\n",
    "# X[:, [3, 4]] = sc.fit_transform(X[:, [3, 4]])\n",
    "\n",
    "#['ModelID', 'datasource', 'auctioneerID', 'YearMade', 'MachineHoursCurrentMeter', 'fiModelDesc', 'fiBaseModel', 'ProductSize', 'state', 'ProductGroup', 'ProductGroupDesc', 'Enclosure', 'Hydraulics']"
   ]
  },
  {
   "cell_type": "code",
   "execution_count": 23,
   "metadata": {},
   "outputs": [],
   "source": [
    "from sklearn.preprocessing import LabelEncoder\n",
    "enc = []\n",
    "for i in [0, 1, 2, 3, 5, 6, 7, 8, 9, 10, 11, 12]:\n",
    "    encoder = LabelEncoder()\n",
    "    encoder.fit_transform(newX[:, i])\n",
    "    enc.append((i, encoder))\n",
    "    \n",
    "j = 0\n",
    "for i in [0, 1, 2, 3, 5, 6, 7, 8, 9, 10, 11, 12]:\n",
    "    encoder = enc[j][1]\n",
    "    X[:, i] = encoder.transform(X[:, i])\n",
    "    X_test[:, i] = encoder.transform(X_test[:, i])\n",
    "    j = j+1"
   ]
  },
  {
   "cell_type": "markdown",
   "metadata": {},
   "source": [
    "** Fitting the data to the model **"
   ]
  },
  {
   "cell_type": "code",
   "execution_count": 24,
   "metadata": {},
   "outputs": [
    {
     "data": {
      "text/plain": [
       "DecisionTreeRegressor(criterion='mse', max_depth=None, max_features=None,\n",
       "           max_leaf_nodes=None, min_impurity_decrease=0.0,\n",
       "           min_impurity_split=None, min_samples_leaf=1,\n",
       "           min_samples_split=2, min_weight_fraction_leaf=0.0,\n",
       "           presort=False, random_state=None, splitter='best')"
      ]
     },
     "execution_count": 24,
     "metadata": {},
     "output_type": "execute_result"
    }
   ],
   "source": [
    "# from sklearn.ensemble import RandomForestRegressor\n",
    "# regressor = RandomForestRegressor(n_estimators = 15, random_state = 0)\n",
    "# regressor.fit(X, y)\n",
    "\n",
    "from sklearn.tree import DecisionTreeRegressor\n",
    "regressor = DecisionTreeRegressor()\n",
    "regressor.fit(X, y)\n",
    "\n",
    "# from xgboost import XGBRegressor\n",
    "# regressor = XGBRegressor()\n",
    "# regressor.fit(X, y)"
   ]
  },
  {
   "cell_type": "code",
   "execution_count": 25,
   "metadata": {},
   "outputs": [
    {
     "data": {
      "text/plain": [
       "array([ 3168.,  7271., 22805., ..., 21437., 21437., 21446.])"
      ]
     },
     "execution_count": 25,
     "metadata": {},
     "output_type": "execute_result"
    }
   ],
   "source": [
    "y_pred = regressor.predict(X_test)\n",
    "y_pred"
   ]
  },
  {
   "cell_type": "markdown",
   "metadata": {},
   "source": [
    "** Writing the obtained predictions to a csv file **"
   ]
  },
  {
   "cell_type": "code",
   "execution_count": 26,
   "metadata": {},
   "outputs": [
    {
     "name": "stdout",
     "output_type": "stream",
     "text": [
      "       SalesID  SalePrice\n",
      "0      1227829  11.629357\n",
      "1      1227844  12.827938\n",
      "2      1227847  14.477063\n",
      "3      1227848  10.309476\n",
      "4      1227863  14.445532\n",
      "5      1227870  14.031615\n",
      "6      1227871  13.156873\n",
      "7      1227879  12.198138\n",
      "8      1227880  14.434693\n",
      "9      1227881   8.724514\n",
      "10     1227882  14.807053\n",
      "11     1227883  14.538613\n",
      "12     1227885   9.245553\n",
      "13     1227886   9.245553\n",
      "14     1227887  13.156873\n",
      "15     1227888  13.156873\n",
      "16     1227905  14.598518\n",
      "17     1227910   8.049849\n",
      "18     1227911  14.804585\n",
      "19     1227912  14.527905\n",
      "20     1227913   9.262095\n",
      "21     1227914  13.551468\n",
      "22     1227917  13.612408\n",
      "23     1227918   9.236014\n",
      "24     1227920  11.712957\n",
      "25     1227924  13.693378\n",
      "26     1227925  14.598518\n",
      "27     1227930  13.961902\n",
      "28     1227933  13.225509\n",
      "29     1227942  11.633903\n",
      "...        ...        ...\n",
      "12427  6642319  14.294980\n",
      "12428  6642320  14.294980\n",
      "12429  6642322  14.294980\n",
      "12430  6642323  14.294980\n",
      "12431  6642328  14.294980\n",
      "12432  6642329  14.295051\n",
      "12433  6642330  14.295051\n",
      "12434  6642337  14.295051\n",
      "12435  6642338  14.295051\n",
      "12436  6642356  14.295123\n",
      "12437  6642357  14.295123\n",
      "12438  6642363  14.295123\n",
      "12439  6642391  13.612408\n",
      "12440  6642418  14.295482\n",
      "12441  6642433  13.613329\n",
      "12442  6642434  13.414421\n",
      "12443  6642710  14.304637\n",
      "12444  6642711  14.304708\n",
      "12445  6642946  14.339780\n",
      "12446  6643123  14.388286\n",
      "12447  6643158  14.387613\n",
      "12448  6643164  14.387883\n",
      "12449  6643167  14.388825\n",
      "12450  6643168  14.388690\n",
      "12451  6643170  14.388825\n",
      "12452  6643171  14.388690\n",
      "12453  6643173  14.387613\n",
      "12454  6643184  14.387815\n",
      "12455  6643186  14.387815\n",
      "12456  6643196  14.388421\n",
      "\n",
      "[12457 rows x 2 columns]\n"
     ]
    }
   ],
   "source": [
    "y_pred = np.log2(y_pred)\n",
    "data = pd.read_csv(\"Test.csv\")\n",
    "data = data.iloc[:, 0]\n",
    "predictions = pd.DataFrame(y_pred, index = np.arange(len(y_pred)), columns = ['SalePrice'])\n",
    "final = pd.concat([data, predictions], axis = 1)\n",
    "print(final)\n",
    "\n",
    "final.to_csv(\"16110044.csv\", index = False)"
   ]
  },
  {
   "cell_type": "code",
   "execution_count": 27,
   "metadata": {},
   "outputs": [],
   "source": [
    "from sklearn.metrics import mean_squared_log_error\n",
    "error = mean_squared_log_error(regressor.predict(X), y)"
   ]
  },
  {
   "cell_type": "code",
   "execution_count": null,
   "metadata": {},
   "outputs": [],
   "source": []
  }
 ],
 "metadata": {
  "kernelspec": {
   "display_name": "Python 2",
   "language": "python",
   "name": "python2"
  },
  "language_info": {
   "codemirror_mode": {
    "name": "ipython",
    "version": 2
   },
   "file_extension": ".py",
   "mimetype": "text/x-python",
   "name": "python",
   "nbconvert_exporter": "python",
   "pygments_lexer": "ipython2",
   "version": "2.7.15"
  }
 },
 "nbformat": 4,
 "nbformat_minor": 2
}
