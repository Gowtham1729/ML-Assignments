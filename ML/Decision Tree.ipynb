{
 "cells": [
  {
   "cell_type": "code",
   "execution_count": 80,
   "metadata": {},
   "outputs": [],
   "source": [
    "import numpy as np\n",
    "import pandas as pd\n",
    "import matplotlib.pyplot as plts\n",
    "import math\n",
    "from sklearn.datasets import load_iris\n",
    "from __future__ import division\n",
    "\n",
    "iris = load_iris()\n",
    "\n",
    "log = math.log(4, 2)\n",
    "\n"
   ]
  },
  {
   "cell_type": "code",
   "execution_count": 81,
   "metadata": {},
   "outputs": [],
   "source": [
    "def entropy(classes):\n",
    "    rows = np.sum(classes)\n",
    "    entropy = 0\n",
    "    for i in classes:\n",
    "        if(i != 0):\n",
    "            entropy = entropy - (i/rows)*(np.log2((i)/rows))\n",
    "            \n",
    "    return entropy\n",
    "\n",
    "def max_gain(uniques, classes):\n",
    "    infg = []\n",
    "    for i in range(len(uniques)):\n",
    "        g = entropy(classes[1])\n",
    "        for j in range(len(uniques[i][0])):\n",
    "            g = g - (uniques[i][1][j]/(np.sum(uniques[i][1])))*entropy([uniques[i][2+k][j] for k in range(len(classes[0][0]))])\n",
    "        infg.append(g)\n",
    "    return infg.index(max(infg))"
   ]
  },
  {
   "cell_type": "code",
   "execution_count": 143,
   "metadata": {},
   "outputs": [],
   "source": [
    "class node:\n",
    "    \n",
    "    def __init__(self, data, index):\n",
    "        self.nodes = []\n",
    "        self.data = data\n",
    "        self.index = index\n",
    "        self.isleaf = False\n",
    "        self.leafdata = \"\"\n",
    "        \n",
    "    \n",
    "\n"
   ]
  },
  {
   "cell_type": "code",
   "execution_count": 176,
   "metadata": {},
   "outputs": [],
   "source": [
    "class dtreeclassifier:\n",
    "        \n",
    "    def entropy(self, classes):\n",
    "        rows = np.sum(classes)\n",
    "        entropy = 0\n",
    "        for i in classes:\n",
    "            if(i != 0):\n",
    "                entropy = entropy - (i/rows)*(np.log2((i)/rows))\n",
    "\n",
    "        return entropy\n",
    "\n",
    "    def max_gain(self, uniques, classes):\n",
    "        infg = []\n",
    "        for i in range(len(uniques)):\n",
    "            g = self.entropy(classes[1])\n",
    "            for j in range(len(uniques[i][0])):\n",
    "                g = g - (uniques[i][1][j]/(np.sum(uniques[i][1])))*self.entropy([uniques[i][2+k][j] for k in range(len(classes[0][0]))])\n",
    "            infg.append(g)\n",
    "        return infg.index(max(infg))\n",
    "    \n",
    "    \n",
    "    def unique(self, X, y):\n",
    "        uniques = []\n",
    "        for i in range(X.shape[1]):\n",
    "            uniques.append(list(np.unique(X[:, i], return_counts=True)))\n",
    "            for j in range(len(classes[0])):\n",
    "                uniques[i].append(np.zeros(len(uniques[i][0])))\n",
    "\n",
    "\n",
    "        for i in range(len(uniques)):\n",
    "            for j in range(X.shape[0]):\n",
    "                clas = np.where(classes[0] == (y[j]))\n",
    "                uniques[i][clas[0][0]+2][np.where(uniques[i][0] == (X[j][i]))[0][0]] += 1\n",
    "                \n",
    "        return uniques\n",
    "    \n",
    "    def recursion(self, root, X, y):\n",
    "        if(root.isleaf == False):\n",
    "                uniques = self.unique(X, y)\n",
    "                classes = np.unique(y)\n",
    "                print(root.isleaf)\n",
    "                max_index = self.max_gain(uniques, classes)\n",
    "                \n",
    "                for i in range(len(uniques[max_index][0])):\n",
    "                    root.nodes.append(node(uniques[max_index][0][i], max_index), max_index)\n",
    "                    for j in range(len(classes[0])):\n",
    "                        if(uniques[max_index][2+j][i] == 0):\n",
    "                            root.nodes[-1].isleaf = True\n",
    "                            root.nodes[-1].leafdata = classes[0][1]\n",
    "                    recursion(self, root.nodes[-1], X[X[:, root.index] == root.data], y[X[:, root.index] == root.data])\n",
    "    \n",
    "    def fit(self, X, y, typ, depth = 5):\n",
    "        print(\"Fitted\" + \" depth is \" + str(depth))\n",
    "        \n",
    "        if(typ == 1):            # continous and continous\n",
    "            print(\"do this\")\n",
    "            \n",
    "        elif(typ == 2):         # continous and discrete\n",
    "            print(\"do this\")\n",
    "        \n",
    "        elif(typ == 3):         # discrete and discrete\n",
    "            \n",
    "            classes = np.unique(y, return_counts=True)\n",
    "            uniques = self.unique(X, y)\n",
    "\n",
    "\n",
    "\n",
    "            print(self.max_gain(uniques, classes))\n",
    "            \n",
    "            \n",
    "            max_index = self.max_gain(uniques, classes)\n",
    "            \n",
    "            \n",
    "            root = node(max_index, max_index)\n",
    "            \n",
    "            for i in range(len(uniques[max_index][0])):\n",
    "                root.nodes.append(node(uniques[max_index][0][i], max_index))\n",
    "                for j in range(len(classes[0])):\n",
    "                    if(uniques[max_index][2+j][i] == 0):\n",
    "                        root.nodes[-1].isleaf = True\n",
    "                        root.nodes[-1].leafdata = classes[0][1]\n",
    "                self.recursion(root.nodes[-1], X[X[:, root.index] == root.data], y[X[:, root.index] == root.data])\n",
    "            \n",
    "                \n",
    "            return root \n",
    "            \n",
    "            print(\"do this\")\n",
    "        \n",
    "        elif(typ == 4):         # discrete and continous\n",
    "            print(\"error in input\")\n",
    "            \n",
    "        else:\n",
    "            print(\"Error in inputs\")\n",
    "        \n",
    "    def predict(self, X_test):\n",
    "        print(\"Predicted\")\n",
    "        \n",
    "    def accuracy(self, X_test, y_test):\n",
    "        print(\"accuracy is x%\")\n",
    "        \n",
    "    \n",
    "        "
   ]
  },
  {
   "cell_type": "code",
   "execution_count": 177,
   "metadata": {},
   "outputs": [],
   "source": [
    "tree = dtreeclassifier()"
   ]
  },
  {
   "cell_type": "code",
   "execution_count": 178,
   "metadata": {},
   "outputs": [
    {
     "name": "stdout",
     "output_type": "stream",
     "text": [
      "Fitted depth is 5\n",
      "0\n",
      "False\n"
     ]
    },
    {
     "name": "stderr",
     "output_type": "stream",
     "text": [
      "/home/gowtham/anaconda2/lib/python2.7/site-packages/ipykernel_launcher.py:84: FutureWarning: elementwise comparison failed; returning scalar instead, but in the future will perform elementwise comparison\n"
     ]
    },
    {
     "ename": "IndexError",
     "evalue": "index 1 is out of bounds for axis 0 with size 0",
     "output_type": "error",
     "traceback": [
      "\u001b[0;31m---------------------------------------------------------------------------\u001b[0m",
      "\u001b[0;31mIndexError\u001b[0m                                Traceback (most recent call last)",
      "\u001b[0;32m<ipython-input-178-0f586e10a78f>\u001b[0m in \u001b[0;36m<module>\u001b[0;34m()\u001b[0m\n\u001b[0;32m----> 1\u001b[0;31m \u001b[0ma\u001b[0m \u001b[0;34m=\u001b[0m \u001b[0mtree\u001b[0m\u001b[0;34m.\u001b[0m\u001b[0mfit\u001b[0m\u001b[0;34m(\u001b[0m\u001b[0mX\u001b[0m\u001b[0;34m,\u001b[0m \u001b[0my\u001b[0m\u001b[0;34m,\u001b[0m \u001b[0;36m3\u001b[0m\u001b[0;34m)\u001b[0m\u001b[0;34m\u001b[0m\u001b[0m\n\u001b[0m\u001b[1;32m      2\u001b[0m \u001b[0mtree\u001b[0m\u001b[0;34m.\u001b[0m\u001b[0mpredict\u001b[0m\u001b[0;34m(\u001b[0m\u001b[0my\u001b[0m\u001b[0;34m)\u001b[0m\u001b[0;34m\u001b[0m\u001b[0m\n\u001b[1;32m      3\u001b[0m \u001b[0mtree\u001b[0m\u001b[0;34m.\u001b[0m\u001b[0maccuracy\u001b[0m\u001b[0;34m(\u001b[0m\u001b[0mX\u001b[0m\u001b[0;34m,\u001b[0m \u001b[0my\u001b[0m\u001b[0;34m)\u001b[0m\u001b[0;34m\u001b[0m\u001b[0m\n\u001b[1;32m      4\u001b[0m \u001b[0mentropy\u001b[0m\u001b[0;34m(\u001b[0m\u001b[0mclasses\u001b[0m\u001b[0;34m[\u001b[0m\u001b[0;36m1\u001b[0m\u001b[0;34m]\u001b[0m\u001b[0;34m)\u001b[0m\u001b[0;34m\u001b[0m\u001b[0m\n\u001b[1;32m      5\u001b[0m \u001b[0ma\u001b[0m\u001b[0;34m.\u001b[0m\u001b[0mnodes\u001b[0m\u001b[0;34m[\u001b[0m\u001b[0;36m1\u001b[0m\u001b[0;34m]\u001b[0m\u001b[0;34m.\u001b[0m\u001b[0mleafdata\u001b[0m\u001b[0;34m\u001b[0m\u001b[0m\n",
      "\u001b[0;32m<ipython-input-176-53c784a5970b>\u001b[0m in \u001b[0;36mfit\u001b[0;34m(self, X, y, typ, depth)\u001b[0m\n\u001b[1;32m     82\u001b[0m                         \u001b[0mroot\u001b[0m\u001b[0;34m.\u001b[0m\u001b[0mnodes\u001b[0m\u001b[0;34m[\u001b[0m\u001b[0;34m-\u001b[0m\u001b[0;36m1\u001b[0m\u001b[0;34m]\u001b[0m\u001b[0;34m.\u001b[0m\u001b[0misleaf\u001b[0m \u001b[0;34m=\u001b[0m \u001b[0mTrue\u001b[0m\u001b[0;34m\u001b[0m\u001b[0m\n\u001b[1;32m     83\u001b[0m                         \u001b[0mroot\u001b[0m\u001b[0;34m.\u001b[0m\u001b[0mnodes\u001b[0m\u001b[0;34m[\u001b[0m\u001b[0;34m-\u001b[0m\u001b[0;36m1\u001b[0m\u001b[0;34m]\u001b[0m\u001b[0;34m.\u001b[0m\u001b[0mleafdata\u001b[0m \u001b[0;34m=\u001b[0m \u001b[0mclasses\u001b[0m\u001b[0;34m[\u001b[0m\u001b[0;36m0\u001b[0m\u001b[0;34m]\u001b[0m\u001b[0;34m[\u001b[0m\u001b[0;36m1\u001b[0m\u001b[0;34m]\u001b[0m\u001b[0;34m\u001b[0m\u001b[0m\n\u001b[0;32m---> 84\u001b[0;31m                 \u001b[0mself\u001b[0m\u001b[0;34m.\u001b[0m\u001b[0mrecursion\u001b[0m\u001b[0;34m(\u001b[0m\u001b[0mroot\u001b[0m\u001b[0;34m.\u001b[0m\u001b[0mnodes\u001b[0m\u001b[0;34m[\u001b[0m\u001b[0;34m-\u001b[0m\u001b[0;36m1\u001b[0m\u001b[0;34m]\u001b[0m\u001b[0;34m,\u001b[0m \u001b[0mX\u001b[0m\u001b[0;34m[\u001b[0m\u001b[0mX\u001b[0m\u001b[0;34m[\u001b[0m\u001b[0;34m:\u001b[0m\u001b[0;34m,\u001b[0m \u001b[0mroot\u001b[0m\u001b[0;34m.\u001b[0m\u001b[0mindex\u001b[0m\u001b[0;34m]\u001b[0m \u001b[0;34m==\u001b[0m \u001b[0mroot\u001b[0m\u001b[0;34m.\u001b[0m\u001b[0mdata\u001b[0m\u001b[0;34m]\u001b[0m\u001b[0;34m,\u001b[0m \u001b[0my\u001b[0m\u001b[0;34m[\u001b[0m\u001b[0mX\u001b[0m\u001b[0;34m[\u001b[0m\u001b[0;34m:\u001b[0m\u001b[0;34m,\u001b[0m \u001b[0mroot\u001b[0m\u001b[0;34m.\u001b[0m\u001b[0mindex\u001b[0m\u001b[0;34m]\u001b[0m \u001b[0;34m==\u001b[0m \u001b[0mroot\u001b[0m\u001b[0;34m.\u001b[0m\u001b[0mdata\u001b[0m\u001b[0;34m]\u001b[0m\u001b[0;34m)\u001b[0m\u001b[0;34m\u001b[0m\u001b[0m\n\u001b[0m\u001b[1;32m     85\u001b[0m \u001b[0;34m\u001b[0m\u001b[0m\n\u001b[1;32m     86\u001b[0m \u001b[0;34m\u001b[0m\u001b[0m\n",
      "\u001b[0;32m<ipython-input-176-53c784a5970b>\u001b[0m in \u001b[0;36mrecursion\u001b[0;34m(self, root, X, y)\u001b[0m\n\u001b[1;32m     40\u001b[0m                 \u001b[0mclasses\u001b[0m \u001b[0;34m=\u001b[0m \u001b[0mnp\u001b[0m\u001b[0;34m.\u001b[0m\u001b[0munique\u001b[0m\u001b[0;34m(\u001b[0m\u001b[0my\u001b[0m\u001b[0;34m)\u001b[0m\u001b[0;34m\u001b[0m\u001b[0m\n\u001b[1;32m     41\u001b[0m                 \u001b[0;32mprint\u001b[0m\u001b[0;34m(\u001b[0m\u001b[0mroot\u001b[0m\u001b[0;34m.\u001b[0m\u001b[0misleaf\u001b[0m\u001b[0;34m)\u001b[0m\u001b[0;34m\u001b[0m\u001b[0m\n\u001b[0;32m---> 42\u001b[0;31m                 \u001b[0mmax_index\u001b[0m \u001b[0;34m=\u001b[0m \u001b[0mself\u001b[0m\u001b[0;34m.\u001b[0m\u001b[0mmax_gain\u001b[0m\u001b[0;34m(\u001b[0m\u001b[0muniques\u001b[0m\u001b[0;34m,\u001b[0m \u001b[0mclasses\u001b[0m\u001b[0;34m)\u001b[0m\u001b[0;34m\u001b[0m\u001b[0m\n\u001b[0m\u001b[1;32m     43\u001b[0m \u001b[0;34m\u001b[0m\u001b[0m\n\u001b[1;32m     44\u001b[0m                 \u001b[0;32mfor\u001b[0m \u001b[0mi\u001b[0m \u001b[0;32min\u001b[0m \u001b[0mrange\u001b[0m\u001b[0;34m(\u001b[0m\u001b[0mlen\u001b[0m\u001b[0;34m(\u001b[0m\u001b[0muniques\u001b[0m\u001b[0;34m[\u001b[0m\u001b[0mmax_index\u001b[0m\u001b[0;34m]\u001b[0m\u001b[0;34m[\u001b[0m\u001b[0;36m0\u001b[0m\u001b[0;34m]\u001b[0m\u001b[0;34m)\u001b[0m\u001b[0;34m)\u001b[0m\u001b[0;34m:\u001b[0m\u001b[0;34m\u001b[0m\u001b[0m\n",
      "\u001b[0;32m<ipython-input-176-53c784a5970b>\u001b[0m in \u001b[0;36mmax_gain\u001b[0;34m(self, uniques, classes)\u001b[0m\n\u001b[1;32m     13\u001b[0m         \u001b[0minfg\u001b[0m \u001b[0;34m=\u001b[0m \u001b[0;34m[\u001b[0m\u001b[0;34m]\u001b[0m\u001b[0;34m\u001b[0m\u001b[0m\n\u001b[1;32m     14\u001b[0m         \u001b[0;32mfor\u001b[0m \u001b[0mi\u001b[0m \u001b[0;32min\u001b[0m \u001b[0mrange\u001b[0m\u001b[0;34m(\u001b[0m\u001b[0mlen\u001b[0m\u001b[0;34m(\u001b[0m\u001b[0muniques\u001b[0m\u001b[0;34m)\u001b[0m\u001b[0;34m)\u001b[0m\u001b[0;34m:\u001b[0m\u001b[0;34m\u001b[0m\u001b[0m\n\u001b[0;32m---> 15\u001b[0;31m             \u001b[0mg\u001b[0m \u001b[0;34m=\u001b[0m \u001b[0mself\u001b[0m\u001b[0;34m.\u001b[0m\u001b[0mentropy\u001b[0m\u001b[0;34m(\u001b[0m\u001b[0mclasses\u001b[0m\u001b[0;34m[\u001b[0m\u001b[0;36m1\u001b[0m\u001b[0;34m]\u001b[0m\u001b[0;34m)\u001b[0m\u001b[0;34m\u001b[0m\u001b[0m\n\u001b[0m\u001b[1;32m     16\u001b[0m             \u001b[0;32mfor\u001b[0m \u001b[0mj\u001b[0m \u001b[0;32min\u001b[0m \u001b[0mrange\u001b[0m\u001b[0;34m(\u001b[0m\u001b[0mlen\u001b[0m\u001b[0;34m(\u001b[0m\u001b[0muniques\u001b[0m\u001b[0;34m[\u001b[0m\u001b[0mi\u001b[0m\u001b[0;34m]\u001b[0m\u001b[0;34m[\u001b[0m\u001b[0;36m0\u001b[0m\u001b[0;34m]\u001b[0m\u001b[0;34m)\u001b[0m\u001b[0;34m)\u001b[0m\u001b[0;34m:\u001b[0m\u001b[0;34m\u001b[0m\u001b[0m\n\u001b[1;32m     17\u001b[0m                 \u001b[0mg\u001b[0m \u001b[0;34m=\u001b[0m \u001b[0mg\u001b[0m \u001b[0;34m-\u001b[0m \u001b[0;34m(\u001b[0m\u001b[0muniques\u001b[0m\u001b[0;34m[\u001b[0m\u001b[0mi\u001b[0m\u001b[0;34m]\u001b[0m\u001b[0;34m[\u001b[0m\u001b[0;36m1\u001b[0m\u001b[0;34m]\u001b[0m\u001b[0;34m[\u001b[0m\u001b[0mj\u001b[0m\u001b[0;34m]\u001b[0m\u001b[0;34m/\u001b[0m\u001b[0;34m(\u001b[0m\u001b[0mnp\u001b[0m\u001b[0;34m.\u001b[0m\u001b[0msum\u001b[0m\u001b[0;34m(\u001b[0m\u001b[0muniques\u001b[0m\u001b[0;34m[\u001b[0m\u001b[0mi\u001b[0m\u001b[0;34m]\u001b[0m\u001b[0;34m[\u001b[0m\u001b[0;36m1\u001b[0m\u001b[0;34m]\u001b[0m\u001b[0;34m)\u001b[0m\u001b[0;34m)\u001b[0m\u001b[0;34m)\u001b[0m\u001b[0;34m*\u001b[0m\u001b[0mself\u001b[0m\u001b[0;34m.\u001b[0m\u001b[0mentropy\u001b[0m\u001b[0;34m(\u001b[0m\u001b[0;34m[\u001b[0m\u001b[0muniques\u001b[0m\u001b[0;34m[\u001b[0m\u001b[0mi\u001b[0m\u001b[0;34m]\u001b[0m\u001b[0;34m[\u001b[0m\u001b[0;36m2\u001b[0m\u001b[0;34m+\u001b[0m\u001b[0mk\u001b[0m\u001b[0;34m]\u001b[0m\u001b[0;34m[\u001b[0m\u001b[0mj\u001b[0m\u001b[0;34m]\u001b[0m \u001b[0;32mfor\u001b[0m \u001b[0mk\u001b[0m \u001b[0;32min\u001b[0m \u001b[0mrange\u001b[0m\u001b[0;34m(\u001b[0m\u001b[0mlen\u001b[0m\u001b[0;34m(\u001b[0m\u001b[0mclasses\u001b[0m\u001b[0;34m[\u001b[0m\u001b[0;36m0\u001b[0m\u001b[0;34m]\u001b[0m\u001b[0;34m[\u001b[0m\u001b[0;36m0\u001b[0m\u001b[0;34m]\u001b[0m\u001b[0;34m)\u001b[0m\u001b[0;34m)\u001b[0m\u001b[0;34m]\u001b[0m\u001b[0;34m)\u001b[0m\u001b[0;34m\u001b[0m\u001b[0m\n",
      "\u001b[0;31mIndexError\u001b[0m: index 1 is out of bounds for axis 0 with size 0"
     ]
    }
   ],
   "source": [
    "a = tree.fit(X, y, 3)\n",
    "tree.predict(y)\n",
    "tree.accuracy(X, y)\n",
    "entropy(classes[1])\n",
    "a.nodes[1].leafdata\n",
    "\n"
   ]
  },
  {
   "cell_type": "code",
   "execution_count": 182,
   "metadata": {},
   "outputs": [
    {
     "ename": "AttributeError",
     "evalue": "node instance has no attribute 'index'",
     "output_type": "error",
     "traceback": [
      "\u001b[0;31m---------------------------------------------------------------------------\u001b[0m",
      "\u001b[0;31mAttributeError\u001b[0m                            Traceback (most recent call last)",
      "\u001b[0;32m<ipython-input-182-63abcfba7a65>\u001b[0m in \u001b[0;36m<module>\u001b[0;34m()\u001b[0m\n\u001b[0;32m----> 1\u001b[0;31m \u001b[0ma\u001b[0m\u001b[0;34m.\u001b[0m\u001b[0mindex\u001b[0m\u001b[0;34m\u001b[0m\u001b[0m\n\u001b[0m",
      "\u001b[0;31mAttributeError\u001b[0m: node instance has no attribute 'index'"
     ]
    }
   ],
   "source": [
    "a.index"
   ]
  },
  {
   "cell_type": "code",
   "execution_count": 453,
   "metadata": {},
   "outputs": [
    {
     "data": {
      "text/plain": [
       "(array([0, 0, 0, 0, 0, 0, 0, 0, 0, 0, 0, 0, 0, 0, 0, 0, 0, 0, 0, 0, 0, 0,\n",
       "        0, 0, 0, 0, 0, 0, 0, 0, 0, 0, 0, 0, 0, 0, 0, 0, 0, 0, 1, 1, 1, 1,\n",
       "        1, 1]), 150)"
      ]
     },
     "execution_count": 453,
     "metadata": {},
     "output_type": "execute_result"
    }
   ],
   "source": [
    "iris.target[10:56], len(iris.target)"
   ]
  },
  {
   "cell_type": "code",
   "execution_count": 454,
   "metadata": {},
   "outputs": [],
   "source": [
    "X = iris.data\n",
    "y = iris.target\n",
    "from sklearn.model_selection import train_test_split\n",
    "X_train, X_test, y_train, y_test = train_test_split(X, y)"
   ]
  },
  {
   "cell_type": "code",
   "execution_count": 455,
   "metadata": {},
   "outputs": [
    {
     "data": {
      "text/plain": [
       "(array([[5. , 3.5, 1.3, 0.3],\n",
       "        [5. , 3.3, 1.4, 0.2],\n",
       "        [6.3, 2.8, 5.1, 1.5],\n",
       "        [6.7, 3.3, 5.7, 2.1],\n",
       "        [7.3, 2.9, 6.3, 1.8]]), array([0, 0, 2, 2, 2]))"
      ]
     },
     "execution_count": 455,
     "metadata": {},
     "output_type": "execute_result"
    }
   ],
   "source": [
    "X_train[:5], y_train[:5]"
   ]
  },
  {
   "cell_type": "code",
   "execution_count": 456,
   "metadata": {},
   "outputs": [],
   "source": [
    "data = open(\"tennis.csv\", 'r')\n",
    "dataset = []\n",
    "for i in data.readlines():\n",
    "    dataset.append(i.rstrip().split(','))\n",
    "\n",
    "    \n",
    "data = pd.read_csv('tennis.csv')"
   ]
  },
  {
   "cell_type": "code",
   "execution_count": 457,
   "metadata": {},
   "outputs": [],
   "source": [
    "X = data.iloc[:, :-1].values\n",
    "y = data.iloc[:, -1].values"
   ]
  },
  {
   "cell_type": "code",
   "execution_count": 458,
   "metadata": {},
   "outputs": [
    {
     "data": {
      "text/plain": [
       "(array([['sunny', 'hot', 'high', False],\n",
       "        ['sunny', 'hot', 'high', True],\n",
       "        ['overcast', 'hot', 'high', False],\n",
       "        ['rainy', 'mild', 'high', False],\n",
       "        ['rainy', 'cool', 'normal', False],\n",
       "        ['rainy', 'cool', 'normal', True],\n",
       "        ['overcast', 'cool', 'normal', True],\n",
       "        ['sunny', 'mild', 'high', False],\n",
       "        ['sunny', 'cool', 'normal', False],\n",
       "        ['rainy', 'mild', 'normal', False],\n",
       "        ['sunny', 'mild', 'normal', True],\n",
       "        ['overcast', 'mild', 'high', True],\n",
       "        ['overcast', 'hot', 'normal', False],\n",
       "        ['rainy', 'mild', 'high', True]], dtype=object),\n",
       " array(['no', 'no', 'yes', 'yes', 'yes', 'no', 'yes', 'no', 'yes', 'yes',\n",
       "        'yes', 'yes', 'yes', 'no'], dtype=object))"
      ]
     },
     "execution_count": 458,
     "metadata": {},
     "output_type": "execute_result"
    }
   ],
   "source": [
    "X, y"
   ]
  },
  {
   "cell_type": "code",
   "execution_count": 460,
   "metadata": {},
   "outputs": [
    {
     "data": {
      "text/plain": [
       "(array(['overcast', 'rainy', 'sunny'], dtype=object),\n",
       " array([2., 2., 2.]),\n",
       " array([2., 3., 3.]))"
      ]
     },
     "execution_count": 460,
     "metadata": {},
     "output_type": "execute_result"
    }
   ],
   "source": [
    "attrs, pos, neg"
   ]
  },
  {
   "cell_type": "code",
   "execution_count": 109,
   "metadata": {},
   "outputs": [],
   "source": [
    "string = \"Day Outlook Temp Humidity Wind PlayTennis\\nD1 Sunny Hot High Weak No\\nD2 Sunny Hot High Strong No\\nD3 Overcast Hot High Weak Yes\\nD4 Rain Mild High Weak Yes\\nD5 Rain Cool Normal Weak Yes\\nD6 Rain Cool Normal Strong No\\nD7 Overcast Cool Normal Strong Yes\\nD8 Sunny Mild High Weak No\\nD9 Sunny Cool Normal Weak Yes\\nD10 Rain Mild Normal Weak Yes\\nD11 Sunny Mild High Strong Yes\\nD12 Overcast Mild High Strong Yes\\nD13 Overcast Hot Normal Weak Yes\\nD14 Rain Mild High Strong No\""
   ]
  },
  {
   "cell_type": "code",
   "execution_count": 110,
   "metadata": {},
   "outputs": [],
   "source": [
    "string = string.split('\\n')\n",
    "data = []\n",
    "for i in string:\n",
    "    data.append(i.split(' '))"
   ]
  },
  {
   "cell_type": "code",
   "execution_count": 111,
   "metadata": {},
   "outputs": [],
   "source": [
    "data = np.array(data)\n",
    "data\n",
    "X = data[1:, 1:-1]\n",
    "y = data[1:, -1]"
   ]
  },
  {
   "cell_type": "code",
   "execution_count": 112,
   "metadata": {},
   "outputs": [
    {
     "data": {
      "text/plain": [
       "(array(['No', 'Yes'], dtype='|S10'), array([5, 9]))"
      ]
     },
     "execution_count": 112,
     "metadata": {},
     "output_type": "execute_result"
    }
   ],
   "source": [
    "classes = np.unique(y, return_counts=True)\n",
    "classes"
   ]
  },
  {
   "cell_type": "code",
   "execution_count": 113,
   "metadata": {},
   "outputs": [],
   "source": [
    "uniques = []\n",
    "for i in range(X.shape[1]):\n",
    "    uniques.append(list(np.unique(X[:, i], return_counts=True)))\n",
    "    for j in range(len(classes[0])):\n",
    "        uniques[i].append(np.zeros(len(uniques[i][0])))"
   ]
  },
  {
   "cell_type": "code",
   "execution_count": 114,
   "metadata": {},
   "outputs": [
    {
     "data": {
      "text/plain": [
       "[[array(['Overcast', 'Rain', 'Sunny'], dtype='|S10'),\n",
       "  array([4, 5, 5]),\n",
       "  array([0., 0., 0.]),\n",
       "  array([0., 0., 0.])],\n",
       " [array(['Cool', 'Hot', 'Mild'], dtype='|S10'),\n",
       "  array([4, 4, 6]),\n",
       "  array([0., 0., 0.]),\n",
       "  array([0., 0., 0.])],\n",
       " [array(['High', 'Normal'], dtype='|S10'),\n",
       "  array([8, 6]),\n",
       "  array([0., 0.]),\n",
       "  array([0., 0.])],\n",
       " [array(['Strong', 'Weak'], dtype='|S10'),\n",
       "  array([6, 8]),\n",
       "  array([0., 0.]),\n",
       "  array([0., 0.])]]"
      ]
     },
     "execution_count": 114,
     "metadata": {},
     "output_type": "execute_result"
    }
   ],
   "source": [
    "uniques"
   ]
  },
  {
   "cell_type": "code",
   "execution_count": 115,
   "metadata": {},
   "outputs": [],
   "source": [
    "def entropy(classes):\n",
    "    rows = np.sum(classes)\n",
    "    print rows\n",
    "    entropy = 0\n",
    "    for i in classes:\n",
    "        if(i != 0):\n",
    "            entropy = entropy - (i/rows)*(np.log2((i)/rows))\n",
    "            \n",
    "    return entropy"
   ]
  },
  {
   "cell_type": "code",
   "execution_count": 116,
   "metadata": {},
   "outputs": [
    {
     "name": "stdout",
     "output_type": "stream",
     "text": [
      "14\n"
     ]
    },
    {
     "data": {
      "text/plain": [
       "0.9402859586706309"
      ]
     },
     "execution_count": 116,
     "metadata": {},
     "output_type": "execute_result"
    }
   ],
   "source": [
    "a = entropy(classes[1])\n",
    "a"
   ]
  },
  {
   "cell_type": "code",
   "execution_count": 117,
   "metadata": {},
   "outputs": [
    {
     "data": {
      "text/plain": [
       "[array(['Overcast', 'Rain', 'Sunny'], dtype='|S10'),\n",
       " array([4, 5, 5]),\n",
       " array([0., 0., 0.]),\n",
       " array([0., 0., 0.])]"
      ]
     },
     "execution_count": 117,
     "metadata": {},
     "output_type": "execute_result"
    }
   ],
   "source": [
    "uniques[0]"
   ]
  },
  {
   "cell_type": "code",
   "execution_count": 118,
   "metadata": {},
   "outputs": [],
   "source": [
    "for i in range(len(uniques)):\n",
    "    for j in range(X.shape[0]):\n",
    "        clas = np.where(classes[0] == (y[j]))\n",
    "        uniques[i][clas[0][0]+2][np.where(uniques[i][0] == (X[j][i]))[0][0]] += 1"
   ]
  },
  {
   "cell_type": "code",
   "execution_count": 119,
   "metadata": {},
   "outputs": [
    {
     "data": {
      "text/plain": [
       "[[array(['Overcast', 'Rain', 'Sunny'], dtype='|S10'),\n",
       "  array([4, 5, 5]),\n",
       "  array([0., 2., 3.]),\n",
       "  array([4., 3., 2.])],\n",
       " [array(['Cool', 'Hot', 'Mild'], dtype='|S10'),\n",
       "  array([4, 4, 6]),\n",
       "  array([1., 2., 2.]),\n",
       "  array([3., 2., 4.])],\n",
       " [array(['High', 'Normal'], dtype='|S10'),\n",
       "  array([8, 6]),\n",
       "  array([4., 1.]),\n",
       "  array([4., 5.])],\n",
       " [array(['Strong', 'Weak'], dtype='|S10'),\n",
       "  array([6, 8]),\n",
       "  array([3., 2.]),\n",
       "  array([3., 6.])]]"
      ]
     },
     "execution_count": 119,
     "metadata": {},
     "output_type": "execute_result"
    }
   ],
   "source": [
    "uniques"
   ]
  },
  {
   "cell_type": "code",
   "execution_count": 508,
   "metadata": {},
   "outputs": [],
   "source": [
    "def max_gain(uniques, classes):\n",
    "    infg = []\n",
    "    for i in range(len(uniques)):\n",
    "        g = entropy(classes[0])\n",
    "        for j in range(len(uniques[i][0])):\n",
    "            g = g - (uniques[i][1][j]/(np.sum(uniques[i][1])))*entropy([uniques[i][2+k][j] for k in range(len(classes[0][0]))])\n",
    "        infg.append(g)\n",
    "    return infg.index(max(infg))"
   ]
  },
  {
   "cell_type": "code",
   "execution_count": 509,
   "metadata": {},
   "outputs": [
    {
     "name": "stdout",
     "output_type": "stream",
     "text": [
      "20.0\n",
      "25.0\n",
      "25.0\n",
      "20.0\n",
      "20.0\n",
      "30.0\n",
      "40.0\n",
      "30.0\n",
      "30.0\n",
      "40.0\n"
     ]
    },
    {
     "data": {
      "text/plain": [
       "0"
      ]
     },
     "execution_count": 509,
     "metadata": {},
     "output_type": "execute_result"
    }
   ],
   "source": [
    "max_gain(uniques, classes)"
   ]
  },
  {
   "cell_type": "code",
   "execution_count": 134,
   "metadata": {},
   "outputs": [
    {
     "data": {
      "text/plain": [
       "array([['Sunny', 'Hot', 'High', 'Weak'],\n",
       "       ['Sunny', 'Hot', 'High', 'Strong'],\n",
       "       ['Overcast', 'Hot', 'High', 'Weak'],\n",
       "       ['Rain', 'Mild', 'High', 'Weak'],\n",
       "       ['Rain', 'Cool', 'Normal', 'Weak'],\n",
       "       ['Rain', 'Cool', 'Normal', 'Strong'],\n",
       "       ['Overcast', 'Cool', 'Normal', 'Strong'],\n",
       "       ['Sunny', 'Mild', 'High', 'Weak'],\n",
       "       ['Sunny', 'Cool', 'Normal', 'Weak'],\n",
       "       ['Rain', 'Mild', 'Normal', 'Weak'],\n",
       "       ['Sunny', 'Mild', 'High', 'Strong'],\n",
       "       ['Overcast', 'Mild', 'High', 'Strong'],\n",
       "       ['Overcast', 'Hot', 'Normal', 'Weak'],\n",
       "       ['Rain', 'Mild', 'High', 'Strong']], dtype='|S10')"
      ]
     },
     "execution_count": 134,
     "metadata": {},
     "output_type": "execute_result"
    }
   ],
   "source": [
    "X"
   ]
  },
  {
   "cell_type": "code",
   "execution_count": 135,
   "metadata": {},
   "outputs": [
    {
     "data": {
      "text/plain": [
       "array(['No', 'No', 'Yes', 'Yes', 'Yes', 'No', 'Yes', 'No', 'Yes', 'Yes',\n",
       "       'Yes', 'Yes', 'Yes', 'No'], dtype='|S10')"
      ]
     },
     "execution_count": 135,
     "metadata": {},
     "output_type": "execute_result"
    }
   ],
   "source": [
    "y"
   ]
  },
  {
   "cell_type": "code",
   "execution_count": 138,
   "metadata": {},
   "outputs": [
    {
     "data": {
      "text/plain": [
       "array(['No', 'No', 'No', 'Yes', 'Yes'], dtype='|S10')"
      ]
     },
     "execution_count": 138,
     "metadata": {},
     "output_type": "execute_result"
    }
   ],
   "source": [
    "y[X[:, 0] == 'Sunny']"
   ]
  },
  {
   "cell_type": "code",
   "execution_count": null,
   "metadata": {},
   "outputs": [],
   "source": []
  }
 ],
 "metadata": {
  "kernelspec": {
   "display_name": "Python 2",
   "language": "python",
   "name": "python2"
  },
  "language_info": {
   "codemirror_mode": {
    "name": "ipython",
    "version": 2
   },
   "file_extension": ".py",
   "mimetype": "text/x-python",
   "name": "python",
   "nbconvert_exporter": "python",
   "pygments_lexer": "ipython2",
   "version": "2.7.15"
  }
 },
 "nbformat": 4,
 "nbformat_minor": 2
}
