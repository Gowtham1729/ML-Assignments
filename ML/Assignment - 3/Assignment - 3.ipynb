{
 "cells": [
  {
   "cell_type": "markdown",
   "metadata": {},
   "source": [
    "# Assignment 3"
   ]
  },
  {
   "cell_type": "markdown",
   "metadata": {},
   "source": [
    "## Q2"
   ]
  },
  {
   "cell_type": "code",
   "execution_count": 1,
   "metadata": {},
   "outputs": [],
   "source": [
    "import numpy as np\n",
    "import pandas as pd\n",
    "import matplotlib.pyplot as plt\n",
    "import seaborn as sns\n",
    "# sns.set(style = \"darkgrid\")\n",
    "import matplotlib.style as mplstyle\n",
    "mplstyle.use(['dark_background', 'ggplot', 'fast'])"
   ]
  },
  {
   "cell_type": "code",
   "execution_count": 2,
   "metadata": {},
   "outputs": [],
   "source": [
    "X = np.array([1, 3, 6]).reshape([-1, 1])\n",
    "y = np.array([6, 10, 16]).reshape([-1, 1])"
   ]
  },
  {
   "cell_type": "markdown",
   "metadata": {},
   "source": [
    "** a) Linear Regression using Sklearn**"
   ]
  },
  {
   "cell_type": "code",
   "execution_count": 3,
   "metadata": {},
   "outputs": [
    {
     "data": {
      "text/plain": [
       "LinearRegression(copy_X=True, fit_intercept=True, n_jobs=None,\n",
       "         normalize=False)"
      ]
     },
     "execution_count": 3,
     "metadata": {},
     "output_type": "execute_result"
    }
   ],
   "source": [
    "from sklearn.linear_model import LinearRegression\n",
    "reg = LinearRegression()\n",
    "reg.fit(X, y)"
   ]
  },
  {
   "cell_type": "code",
   "execution_count": 4,
   "metadata": {},
   "outputs": [
    {
     "data": {
      "text/plain": [
       "array([[2.]])"
      ]
     },
     "execution_count": 4,
     "metadata": {},
     "output_type": "execute_result"
    }
   ],
   "source": [
    "reg.coef_"
   ]
  },
  {
   "cell_type": "code",
   "execution_count": 5,
   "metadata": {},
   "outputs": [
    {
     "data": {
      "image/png": "[encoded data removed]",
      "text/plain": [
       "<Figure size 432x288 with 1 Axes>"
      ]
     },
     "metadata": {
      "needs_background": "light"
     },
     "output_type": "display_data"
    }
   ],
   "source": [
    "plt.scatter(X, y)\n",
    "plt.plot(np.arange(7), reg.predict(np.arange(7).reshape([-1, 1])), color = 'b')\n",
    "plt.show()"
   ]
  },
  {
   "cell_type": "markdown",
   "metadata": {},
   "source": [
    "** b) Linear Regression new X and y using Sklearn **"
   ]
  },
  {
   "cell_type": "code",
   "execution_count": 6,
   "metadata": {},
   "outputs": [],
   "source": [
    "X = np.array([1,2,2,4,3,6,4,8]).reshape([4, 2])\n",
    "y = np.array([2,3,4,5]).reshape([-1, 1])"
   ]
  },
  {
   "cell_type": "code",
   "execution_count": 7,
   "metadata": {},
   "outputs": [
    {
     "data": {
      "text/plain": [
       "array([[2],\n",
       "       [3],\n",
       "       [4],\n",
       "       [5]])"
      ]
     },
     "execution_count": 7,
     "metadata": {},
     "output_type": "execute_result"
    }
   ],
   "source": [
    "y"
   ]
  },
  {
   "cell_type": "code",
   "execution_count": 8,
   "metadata": {},
   "outputs": [
    {
     "data": {
      "text/plain": [
       "array([[0.2, 0.4]])"
      ]
     },
     "execution_count": 8,
     "metadata": {},
     "output_type": "execute_result"
    }
   ],
   "source": [
    "reg2 = LinearRegression()\n",
    "reg2.fit(X, y)\n",
    "reg2.coef_"
   ]
  },
  {
   "cell_type": "markdown",
   "metadata": {},
   "source": [
    "** Working Perfectly fine with Sklearn because it does SV decomposition**"
   ]
  },
  {
   "cell_type": "code",
   "execution_count": 9,
   "metadata": {},
   "outputs": [],
   "source": [
    "def NormalEquationRegression(X, y):\n",
    "    one = np.ones(X.shape[0]).reshape([-1, 1])\n",
    "    X = np.concatenate((one, X), axis = 1)\n",
    "    XXT = np.matmul(np.transpose(X), X)\n",
    "    XXTY = np.matmul(np.linalg.inv(XXT+alpha*np.indentity(X.shape[0])), np.transpose(X))\n",
    "    reg = np.matmul(XXTY, y)\n",
    "    return reg"
   ]
  },
  {
   "cell_type": "code",
   "execution_count": 10,
   "metadata": {},
   "outputs": [
    {
     "ename": "LinAlgError",
     "evalue": "Singular matrix",
     "output_type": "error",
     "traceback": [
      "\u001b[0;31m---------------------------------------------------------------------------\u001b[0m",
      "\u001b[0;31mLinAlgError\u001b[0m                               Traceback (most recent call last)",
      "\u001b[0;32m<ipython-input-10-3b66e14cee51>\u001b[0m in \u001b[0;36m<module>\u001b[0;34m\u001b[0m\n\u001b[0;32m----> 1\u001b[0;31m \u001b[0mprint\u001b[0m\u001b[0;34m(\u001b[0m\u001b[0mNormalEquationRegression\u001b[0m\u001b[0;34m(\u001b[0m\u001b[0mX\u001b[0m\u001b[0;34m,\u001b[0m \u001b[0my\u001b[0m\u001b[0;34m)\u001b[0m\u001b[0;34m)\u001b[0m\u001b[0;34m\u001b[0m\u001b[0;34m\u001b[0m\u001b[0m\n\u001b[0m",
      "\u001b[0;32m<ipython-input-9-c2b4c05bd969>\u001b[0m in \u001b[0;36mNormalEquationRegression\u001b[0;34m(X, y)\u001b[0m\n\u001b[1;32m      3\u001b[0m     \u001b[0mX\u001b[0m \u001b[0;34m=\u001b[0m \u001b[0mnp\u001b[0m\u001b[0;34m.\u001b[0m\u001b[0mconcatenate\u001b[0m\u001b[0;34m(\u001b[0m\u001b[0;34m(\u001b[0m\u001b[0mone\u001b[0m\u001b[0;34m,\u001b[0m \u001b[0mX\u001b[0m\u001b[0;34m)\u001b[0m\u001b[0;34m,\u001b[0m \u001b[0maxis\u001b[0m \u001b[0;34m=\u001b[0m \u001b[0;36m1\u001b[0m\u001b[0;34m)\u001b[0m\u001b[0;34m\u001b[0m\u001b[0;34m\u001b[0m\u001b[0m\n\u001b[1;32m      4\u001b[0m     \u001b[0mXXT\u001b[0m \u001b[0;34m=\u001b[0m \u001b[0mnp\u001b[0m\u001b[0;34m.\u001b[0m\u001b[0mmatmul\u001b[0m\u001b[0;34m(\u001b[0m\u001b[0mnp\u001b[0m\u001b[0;34m.\u001b[0m\u001b[0mtranspose\u001b[0m\u001b[0;34m(\u001b[0m\u001b[0mX\u001b[0m\u001b[0;34m)\u001b[0m\u001b[0;34m,\u001b[0m \u001b[0mX\u001b[0m\u001b[0;34m)\u001b[0m\u001b[0;34m\u001b[0m\u001b[0;34m\u001b[0m\u001b[0m\n\u001b[0;32m----> 5\u001b[0;31m     \u001b[0mXXTY\u001b[0m \u001b[0;34m=\u001b[0m \u001b[0mnp\u001b[0m\u001b[0;34m.\u001b[0m\u001b[0mmatmul\u001b[0m\u001b[0;34m(\u001b[0m\u001b[0mnp\u001b[0m\u001b[0;34m.\u001b[0m\u001b[0mlinalg\u001b[0m\u001b[0;34m.\u001b[0m\u001b[0minv\u001b[0m\u001b[0;34m(\u001b[0m\u001b[0mXXT\u001b[0m\u001b[0;34m)\u001b[0m\u001b[0;34m,\u001b[0m \u001b[0mnp\u001b[0m\u001b[0;34m.\u001b[0m\u001b[0mtranspose\u001b[0m\u001b[0;34m(\u001b[0m\u001b[0mX\u001b[0m\u001b[0;34m)\u001b[0m\u001b[0;34m)\u001b[0m\u001b[0;34m\u001b[0m\u001b[0;34m\u001b[0m\u001b[0m\n\u001b[0m\u001b[1;32m      6\u001b[0m     \u001b[0mreg\u001b[0m \u001b[0;34m=\u001b[0m \u001b[0mnp\u001b[0m\u001b[0;34m.\u001b[0m\u001b[0mmatmul\u001b[0m\u001b[0;34m(\u001b[0m\u001b[0mXXTY\u001b[0m\u001b[0;34m,\u001b[0m \u001b[0my\u001b[0m\u001b[0;34m)\u001b[0m\u001b[0;34m\u001b[0m\u001b[0;34m\u001b[0m\u001b[0m\n\u001b[1;32m      7\u001b[0m     \u001b[0;32mreturn\u001b[0m \u001b[0mreg\u001b[0m\u001b[0;34m\u001b[0m\u001b[0;34m\u001b[0m\u001b[0m\n",
      "\u001b[0;32m~/anaconda3/lib/python3.6/site-packages/numpy/linalg/linalg.py\u001b[0m in \u001b[0;36minv\u001b[0;34m(a)\u001b[0m\n\u001b[1;32m    530\u001b[0m     \u001b[0msignature\u001b[0m \u001b[0;34m=\u001b[0m \u001b[0;34m'D->D'\u001b[0m \u001b[0;32mif\u001b[0m \u001b[0misComplexType\u001b[0m\u001b[0;34m(\u001b[0m\u001b[0mt\u001b[0m\u001b[0;34m)\u001b[0m \u001b[0;32melse\u001b[0m \u001b[0;34m'd->d'\u001b[0m\u001b[0;34m\u001b[0m\u001b[0;34m\u001b[0m\u001b[0m\n\u001b[1;32m    531\u001b[0m     \u001b[0mextobj\u001b[0m \u001b[0;34m=\u001b[0m \u001b[0mget_linalg_error_extobj\u001b[0m\u001b[0;34m(\u001b[0m\u001b[0m_raise_linalgerror_singular\u001b[0m\u001b[0;34m)\u001b[0m\u001b[0;34m\u001b[0m\u001b[0;34m\u001b[0m\u001b[0m\n\u001b[0;32m--> 532\u001b[0;31m     \u001b[0mainv\u001b[0m \u001b[0;34m=\u001b[0m \u001b[0m_umath_linalg\u001b[0m\u001b[0;34m.\u001b[0m\u001b[0minv\u001b[0m\u001b[0;34m(\u001b[0m\u001b[0ma\u001b[0m\u001b[0;34m,\u001b[0m \u001b[0msignature\u001b[0m\u001b[0;34m=\u001b[0m\u001b[0msignature\u001b[0m\u001b[0;34m,\u001b[0m \u001b[0mextobj\u001b[0m\u001b[0;34m=\u001b[0m\u001b[0mextobj\u001b[0m\u001b[0;34m)\u001b[0m\u001b[0;34m\u001b[0m\u001b[0;34m\u001b[0m\u001b[0m\n\u001b[0m\u001b[1;32m    533\u001b[0m     \u001b[0;32mreturn\u001b[0m \u001b[0mwrap\u001b[0m\u001b[0;34m(\u001b[0m\u001b[0mainv\u001b[0m\u001b[0;34m.\u001b[0m\u001b[0mastype\u001b[0m\u001b[0;34m(\u001b[0m\u001b[0mresult_t\u001b[0m\u001b[0;34m,\u001b[0m \u001b[0mcopy\u001b[0m\u001b[0;34m=\u001b[0m\u001b[0;32mFalse\u001b[0m\u001b[0;34m)\u001b[0m\u001b[0;34m)\u001b[0m\u001b[0;34m\u001b[0m\u001b[0;34m\u001b[0m\u001b[0m\n\u001b[1;32m    534\u001b[0m \u001b[0;34m\u001b[0m\u001b[0m\n",
      "\u001b[0;32m~/anaconda3/lib/python3.6/site-packages/numpy/linalg/linalg.py\u001b[0m in \u001b[0;36m_raise_linalgerror_singular\u001b[0;34m(err, flag)\u001b[0m\n\u001b[1;32m     87\u001b[0m \u001b[0;34m\u001b[0m\u001b[0m\n\u001b[1;32m     88\u001b[0m \u001b[0;32mdef\u001b[0m \u001b[0m_raise_linalgerror_singular\u001b[0m\u001b[0;34m(\u001b[0m\u001b[0merr\u001b[0m\u001b[0;34m,\u001b[0m \u001b[0mflag\u001b[0m\u001b[0;34m)\u001b[0m\u001b[0;34m:\u001b[0m\u001b[0;34m\u001b[0m\u001b[0;34m\u001b[0m\u001b[0m\n\u001b[0;32m---> 89\u001b[0;31m     \u001b[0;32mraise\u001b[0m \u001b[0mLinAlgError\u001b[0m\u001b[0;34m(\u001b[0m\u001b[0;34m\"Singular matrix\"\u001b[0m\u001b[0;34m)\u001b[0m\u001b[0;34m\u001b[0m\u001b[0;34m\u001b[0m\u001b[0m\n\u001b[0m\u001b[1;32m     90\u001b[0m \u001b[0;34m\u001b[0m\u001b[0m\n\u001b[1;32m     91\u001b[0m \u001b[0;32mdef\u001b[0m \u001b[0m_raise_linalgerror_nonposdef\u001b[0m\u001b[0;34m(\u001b[0m\u001b[0merr\u001b[0m\u001b[0;34m,\u001b[0m \u001b[0mflag\u001b[0m\u001b[0;34m)\u001b[0m\u001b[0;34m:\u001b[0m\u001b[0;34m\u001b[0m\u001b[0;34m\u001b[0m\u001b[0m\n",
      "\u001b[0;31mLinAlgError\u001b[0m: Singular matrix"
     ]
    }
   ],
   "source": [
    "print(NormalEquationRegression(X, y))"
   ]
  },
  {
   "cell_type": "markdown",
   "metadata": {},
   "source": [
    "** Did not worked because inverse doesn't exist for one of the matrix**"
   ]
  },
  {
   "cell_type": "markdown",
   "metadata": {},
   "source": [
    "## Q3: Real Estate Prediction problem"
   ]
  },
  {
   "cell_type": "code",
   "execution_count": 11,
   "metadata": {},
   "outputs": [
    {
     "data": {
      "text/html": [
       "<div>\n",
       "<style scoped>\n",
       "    .dataframe tbody tr th:only-of-type {\n",
       "        vertical-align: middle;\n",
       "    }\n",
       "\n",
       "    .dataframe tbody tr th {\n",
       "        vertical-align: top;\n",
       "    }\n",
       "\n",
       "    .dataframe thead th {\n",
       "        text-align: right;\n",
       "    }\n",
       "</style>\n",
       "<table border=\"1\" class=\"dataframe\">\n",
       "  <thead>\n",
       "    <tr style=\"text-align: right;\">\n",
       "      <th></th>\n",
       "      <th>No</th>\n",
       "      <th>X1 transaction date</th>\n",
       "      <th>X2 house age</th>\n",
       "      <th>X3 distance to the nearest MRT station</th>\n",
       "      <th>X4 number of convenience stores</th>\n",
       "      <th>X5 latitude</th>\n",
       "      <th>X6 longitude</th>\n",
       "      <th>Y house price of unit area</th>\n",
       "    </tr>\n",
       "  </thead>\n",
       "  <tbody>\n",
       "    <tr>\n",
       "      <th>0</th>\n",
       "      <td>1</td>\n",
       "      <td>2012.916667</td>\n",
       "      <td>32.0</td>\n",
       "      <td>84.87882</td>\n",
       "      <td>10</td>\n",
       "      <td>24.98298</td>\n",
       "      <td>121.54024</td>\n",
       "      <td>37.9</td>\n",
       "    </tr>\n",
       "    <tr>\n",
       "      <th>1</th>\n",
       "      <td>2</td>\n",
       "      <td>2012.916667</td>\n",
       "      <td>19.5</td>\n",
       "      <td>306.59470</td>\n",
       "      <td>9</td>\n",
       "      <td>24.98034</td>\n",
       "      <td>121.53951</td>\n",
       "      <td>42.2</td>\n",
       "    </tr>\n",
       "    <tr>\n",
       "      <th>2</th>\n",
       "      <td>3</td>\n",
       "      <td>2013.583333</td>\n",
       "      <td>13.3</td>\n",
       "      <td>561.98450</td>\n",
       "      <td>5</td>\n",
       "      <td>24.98746</td>\n",
       "      <td>121.54391</td>\n",
       "      <td>47.3</td>\n",
       "    </tr>\n",
       "    <tr>\n",
       "      <th>3</th>\n",
       "      <td>4</td>\n",
       "      <td>2013.500000</td>\n",
       "      <td>13.3</td>\n",
       "      <td>561.98450</td>\n",
       "      <td>5</td>\n",
       "      <td>24.98746</td>\n",
       "      <td>121.54391</td>\n",
       "      <td>54.8</td>\n",
       "    </tr>\n",
       "    <tr>\n",
       "      <th>4</th>\n",
       "      <td>5</td>\n",
       "      <td>2012.833333</td>\n",
       "      <td>5.0</td>\n",
       "      <td>390.56840</td>\n",
       "      <td>5</td>\n",
       "      <td>24.97937</td>\n",
       "      <td>121.54245</td>\n",
       "      <td>43.1</td>\n",
       "    </tr>\n",
       "  </tbody>\n",
       "</table>\n",
       "</div>"
      ],
      "text/plain": [
       "   No  X1 transaction date  X2 house age  \\\n",
       "0   1          2012.916667          32.0   \n",
       "1   2          2012.916667          19.5   \n",
       "2   3          2013.583333          13.3   \n",
       "3   4          2013.500000          13.3   \n",
       "4   5          2012.833333           5.0   \n",
       "\n",
       "   X3 distance to the nearest MRT station  X4 number of convenience stores  \\\n",
       "0                                84.87882                               10   \n",
       "1                               306.59470                                9   \n",
       "2                               561.98450                                5   \n",
       "3                               561.98450                                5   \n",
       "4                               390.56840                                5   \n",
       "\n",
       "   X5 latitude  X6 longitude  Y house price of unit area  \n",
       "0     24.98298     121.54024                        37.9  \n",
       "1     24.98034     121.53951                        42.2  \n",
       "2     24.98746     121.54391                        47.3  \n",
       "3     24.98746     121.54391                        54.8  \n",
       "4     24.97937     121.54245                        43.1  "
      ]
     },
     "execution_count": 11,
     "metadata": {},
     "output_type": "execute_result"
    }
   ],
   "source": [
    "data = pd.read_excel(\"Real estate valuation data set.xlsx\")\n",
    "data.head()"
   ]
  },
  {
   "cell_type": "code",
   "execution_count": 12,
   "metadata": {},
   "outputs": [],
   "source": [
    "data.head()\n",
    "X = data.iloc[:, 1:-1].values\n",
    "y = data.iloc[:, -1].values\n",
    "# sns.pairplot(data.iloc[:, 2:])\n",
    "\n",
    "\n",
    "from sklearn.model_selection import train_test_split\n",
    "X_train, X_test, y_train, y_test = train_test_split(X, y, random_state = 10, test_size = 0.2)"
   ]
  },
  {
   "cell_type": "code",
   "execution_count": 13,
   "metadata": {},
   "outputs": [
    {
     "data": {
      "text/plain": [
       "array([ 6.14448467e+00, -2.68206471e-01, -4.15899608e-03,  1.11718716e+00,\n",
       "        2.25982906e+02, -2.52590668e+00])"
      ]
     },
     "execution_count": 13,
     "metadata": {},
     "output_type": "execute_result"
    }
   ],
   "source": [
    "reg3 = LinearRegression()\n",
    "reg3.fit(X_train, y_train)\n",
    "reg3.coef_"
   ]
  },
  {
   "cell_type": "code",
   "execution_count": 14,
   "metadata": {},
   "outputs": [],
   "source": [
    "y_pred = reg3.predict(X_test)"
   ]
  },
  {
   "cell_type": "markdown",
   "metadata": {},
   "source": [
    "** RMSE error for sklearn linear regression **"
   ]
  },
  {
   "cell_type": "code",
   "execution_count": 15,
   "metadata": {},
   "outputs": [
    {
     "name": "stdout",
     "output_type": "stream",
     "text": [
      "test RMSE: 8.336848574083264\n",
      "train RMSE: 8.910994240894988\n"
     ]
    }
   ],
   "source": [
    "from sklearn.metrics import mean_squared_error\n",
    "mse = mean_squared_error(y_test, y_pred)\n",
    "rmse = np.sqrt(mse)\n",
    "print(\"test RMSE: \" + str(rmse))\n",
    "\n",
    "rmse_train = np.sqrt(mean_squared_error(reg3.predict(X_train), y_train))\n",
    "print(\"train RMSE: \" + str(rmse_train))"
   ]
  },
  {
   "cell_type": "markdown",
   "metadata": {},
   "source": [
    "#### Checking the coefficient"
   ]
  },
  {
   "cell_type": "code",
   "execution_count": 16,
   "metadata": {},
   "outputs": [
    {
     "data": {
      "text/html": [
       "<div>\n",
       "<style scoped>\n",
       "    .dataframe tbody tr th:only-of-type {\n",
       "        vertical-align: middle;\n",
       "    }\n",
       "\n",
       "    .dataframe tbody tr th {\n",
       "        vertical-align: top;\n",
       "    }\n",
       "\n",
       "    .dataframe thead th {\n",
       "        text-align: right;\n",
       "    }\n",
       "</style>\n",
       "<table border=\"1\" class=\"dataframe\">\n",
       "  <thead>\n",
       "    <tr style=\"text-align: right;\">\n",
       "      <th></th>\n",
       "      <th>No</th>\n",
       "      <th>X1 transaction date</th>\n",
       "      <th>X2 house age</th>\n",
       "      <th>X3 distance to the nearest MRT station</th>\n",
       "      <th>X4 number of convenience stores</th>\n",
       "      <th>X5 latitude</th>\n",
       "      <th>X6 longitude</th>\n",
       "      <th>Y house price of unit area</th>\n",
       "    </tr>\n",
       "  </thead>\n",
       "  <tbody>\n",
       "    <tr>\n",
       "      <th>count</th>\n",
       "      <td>414.000000</td>\n",
       "      <td>414.000000</td>\n",
       "      <td>414.000000</td>\n",
       "      <td>414.000000</td>\n",
       "      <td>414.000000</td>\n",
       "      <td>414.000000</td>\n",
       "      <td>414.000000</td>\n",
       "      <td>414.000000</td>\n",
       "    </tr>\n",
       "    <tr>\n",
       "      <th>mean</th>\n",
       "      <td>207.500000</td>\n",
       "      <td>2013.148953</td>\n",
       "      <td>17.712560</td>\n",
       "      <td>1083.885689</td>\n",
       "      <td>4.094203</td>\n",
       "      <td>24.969030</td>\n",
       "      <td>121.533361</td>\n",
       "      <td>37.980193</td>\n",
       "    </tr>\n",
       "    <tr>\n",
       "      <th>std</th>\n",
       "      <td>119.655756</td>\n",
       "      <td>0.281995</td>\n",
       "      <td>11.392485</td>\n",
       "      <td>1262.109595</td>\n",
       "      <td>2.945562</td>\n",
       "      <td>0.012410</td>\n",
       "      <td>0.015347</td>\n",
       "      <td>13.606488</td>\n",
       "    </tr>\n",
       "    <tr>\n",
       "      <th>min</th>\n",
       "      <td>1.000000</td>\n",
       "      <td>2012.666667</td>\n",
       "      <td>0.000000</td>\n",
       "      <td>23.382840</td>\n",
       "      <td>0.000000</td>\n",
       "      <td>24.932070</td>\n",
       "      <td>121.473530</td>\n",
       "      <td>7.600000</td>\n",
       "    </tr>\n",
       "    <tr>\n",
       "      <th>25%</th>\n",
       "      <td>104.250000</td>\n",
       "      <td>2012.916667</td>\n",
       "      <td>9.025000</td>\n",
       "      <td>289.324800</td>\n",
       "      <td>1.000000</td>\n",
       "      <td>24.963000</td>\n",
       "      <td>121.528085</td>\n",
       "      <td>27.700000</td>\n",
       "    </tr>\n",
       "    <tr>\n",
       "      <th>50%</th>\n",
       "      <td>207.500000</td>\n",
       "      <td>2013.166667</td>\n",
       "      <td>16.100000</td>\n",
       "      <td>492.231300</td>\n",
       "      <td>4.000000</td>\n",
       "      <td>24.971100</td>\n",
       "      <td>121.538630</td>\n",
       "      <td>38.450000</td>\n",
       "    </tr>\n",
       "    <tr>\n",
       "      <th>75%</th>\n",
       "      <td>310.750000</td>\n",
       "      <td>2013.416667</td>\n",
       "      <td>28.150000</td>\n",
       "      <td>1454.279000</td>\n",
       "      <td>6.000000</td>\n",
       "      <td>24.977455</td>\n",
       "      <td>121.543305</td>\n",
       "      <td>46.600000</td>\n",
       "    </tr>\n",
       "    <tr>\n",
       "      <th>max</th>\n",
       "      <td>414.000000</td>\n",
       "      <td>2013.583333</td>\n",
       "      <td>43.800000</td>\n",
       "      <td>6488.021000</td>\n",
       "      <td>10.000000</td>\n",
       "      <td>25.014590</td>\n",
       "      <td>121.566270</td>\n",
       "      <td>117.500000</td>\n",
       "    </tr>\n",
       "  </tbody>\n",
       "</table>\n",
       "</div>"
      ],
      "text/plain": [
       "               No  X1 transaction date  X2 house age  \\\n",
       "count  414.000000           414.000000    414.000000   \n",
       "mean   207.500000          2013.148953     17.712560   \n",
       "std    119.655756             0.281995     11.392485   \n",
       "min      1.000000          2012.666667      0.000000   \n",
       "25%    104.250000          2012.916667      9.025000   \n",
       "50%    207.500000          2013.166667     16.100000   \n",
       "75%    310.750000          2013.416667     28.150000   \n",
       "max    414.000000          2013.583333     43.800000   \n",
       "\n",
       "       X3 distance to the nearest MRT station  \\\n",
       "count                              414.000000   \n",
       "mean                              1083.885689   \n",
       "std                               1262.109595   \n",
       "min                                 23.382840   \n",
       "25%                                289.324800   \n",
       "50%                                492.231300   \n",
       "75%                               1454.279000   \n",
       "max                               6488.021000   \n",
       "\n",
       "       X4 number of convenience stores  X5 latitude  X6 longitude  \\\n",
       "count                       414.000000   414.000000    414.000000   \n",
       "mean                          4.094203    24.969030    121.533361   \n",
       "std                           2.945562     0.012410      0.015347   \n",
       "min                           0.000000    24.932070    121.473530   \n",
       "25%                           1.000000    24.963000    121.528085   \n",
       "50%                           4.000000    24.971100    121.538630   \n",
       "75%                           6.000000    24.977455    121.543305   \n",
       "max                          10.000000    25.014590    121.566270   \n",
       "\n",
       "       Y house price of unit area  \n",
       "count                  414.000000  \n",
       "mean                    37.980193  \n",
       "std                     13.606488  \n",
       "min                      7.600000  \n",
       "25%                     27.700000  \n",
       "50%                     38.450000  \n",
       "75%                     46.600000  \n",
       "max                    117.500000  "
      ]
     },
     "execution_count": 16,
     "metadata": {},
     "output_type": "execute_result"
    }
   ],
   "source": [
    "data.describe()"
   ]
  },
  {
   "cell_type": "code",
   "execution_count": 17,
   "metadata": {},
   "outputs": [
    {
     "data": {
      "text/plain": [
       "array([ 6.14448467e+00, -2.68206471e-01, -4.15899608e-03,  1.11718716e+00,\n",
       "        2.25982906e+02, -2.52590668e+00])"
      ]
     },
     "execution_count": 17,
     "metadata": {},
     "output_type": "execute_result"
    }
   ],
   "source": [
    "reg3.coef_"
   ]
  },
  {
   "cell_type": "markdown",
   "metadata": {},
   "source": [
    "** Some coefficients have very high value when compared to others **"
   ]
  },
  {
   "cell_type": "markdown",
   "metadata": {},
   "source": [
    "** Scaling the data **"
   ]
  },
  {
   "cell_type": "code",
   "execution_count": 18,
   "metadata": {},
   "outputs": [],
   "source": [
    "from sklearn.preprocessing import MinMaxScaler\n",
    "scaler = MinMaxScaler()\n",
    "X = scaler.fit_transform(X)"
   ]
  },
  {
   "cell_type": "markdown",
   "metadata": {},
   "source": [
    "** Scaled X **"
   ]
  },
  {
   "cell_type": "code",
   "execution_count": 19,
   "metadata": {},
   "outputs": [
    {
     "data": {
      "text/plain": [
       "array([[0.27272729, 0.73059361, 0.00951267, 1.        , 0.61694135,\n",
       "        0.71932284],\n",
       "       [0.27272729, 0.44520548, 0.04380939, 0.9       , 0.5849491 ,\n",
       "        0.71145137],\n",
       "       [1.        , 0.30365297, 0.08331505, 0.5       , 0.67123122,\n",
       "        0.75889584],\n",
       "       ...,\n",
       "       [0.63636365, 0.42922374, 0.05686115, 0.7       , 0.57149782,\n",
       "        0.71522536],\n",
       "       [0.36363635, 0.18493151, 0.0125958 , 0.5       , 0.42014057,\n",
       "        0.72395946],\n",
       "       [0.90909094, 0.14840183, 0.0103754 , 0.9       , 0.51211827,\n",
       "        0.75016174]])"
      ]
     },
     "execution_count": 19,
     "metadata": {},
     "output_type": "execute_result"
    }
   ],
   "source": [
    "X"
   ]
  },
  {
   "cell_type": "code",
   "execution_count": 20,
   "metadata": {},
   "outputs": [],
   "source": [
    "from sklearn.model_selection import train_test_split\n",
    "X_train, X_test, y_train, y_test = train_test_split(X, y, random_state = 10, test_size = 0.3)"
   ]
  },
  {
   "cell_type": "code",
   "execution_count": 21,
   "metadata": {},
   "outputs": [],
   "source": [
    "reg4 = LinearRegression()\n",
    "reg4.fit(X_train, y_train)\n",
    "reg4.coef_\n",
    "\n",
    "y_pred = reg4.predict(X_test)"
   ]
  },
  {
   "cell_type": "code",
   "execution_count": 22,
   "metadata": {},
   "outputs": [
    {
     "name": "stdout",
     "output_type": "stream",
     "text": [
      "test RMSE: 8.744335384833603\n",
      "train RMSE: 8.84415853378926\n"
     ]
    }
   ],
   "source": [
    "from sklearn.metrics import mean_squared_error\n",
    "mse = mean_squared_error(y_test, y_pred)\n",
    "rmse = np.sqrt(mse)\n",
    "print(\"test RMSE: \" + str(rmse))\n",
    "\n",
    "rmse_train = np.sqrt(mean_squared_error(reg4.predict(X_train), y_train))\n",
    "print(\"train RMSE: \" + str(rmse_train))"
   ]
  },
  {
   "cell_type": "code",
   "execution_count": 23,
   "metadata": {},
   "outputs": [
    {
     "data": {
      "text/plain": [
       "array([  6.23732136, -12.04822992, -25.10044332,  11.66489368,\n",
       "        18.3173235 ,   1.28035352])"
      ]
     },
     "execution_count": 23,
     "metadata": {},
     "output_type": "execute_result"
    }
   ],
   "source": [
    "reg4.coef_"
   ]
  },
  {
   "cell_type": "markdown",
   "metadata": {},
   "source": [
    "** Coefficients are scaled well **"
   ]
  },
  {
   "cell_type": "markdown",
   "metadata": {},
   "source": [
    "### Residual Plots"
   ]
  },
  {
   "cell_type": "code",
   "execution_count": 24,
   "metadata": {},
   "outputs": [
    {
     "data": {
      "image/png": "[encoded data removed]",
      "text/plain": [
       "<Figure size 432x288 with 1 Axes>"
      ]
     },
     "metadata": {
      "needs_background": "light"
     },
     "output_type": "display_data"
    },
    {
     "data": {
      "image/png": "[encoded data removed]",
      "text/plain": [
       "<Figure size 432x288 with 1 Axes>"
      ]
     },
     "metadata": {
      "needs_background": "light"
     },
     "output_type": "display_data"
    }
   ],
   "source": [
    "%matplotlib inline\n",
    "plt.scatter(y_pred, y_pred - y_test, c = 'g', s = 40)\n",
    "plt.hlines(y = 0, xmin=0, xmax=60)\n",
    "plt.title(\"Residual Plot\")\n",
    "plt.show()\n",
    "plt.hist(y_pred-y_test, density = True)\n",
    "plt.title(\"Residual Distribution\")\n",
    "plt.show()"
   ]
  },
  {
   "cell_type": "markdown",
   "metadata": {},
   "source": [
    "** Finding Optimal features using all possible combinations **"
   ]
  },
  {
   "cell_type": "code",
   "execution_count": 25,
   "metadata": {},
   "outputs": [],
   "source": [
    "from itertools import combinations\n",
    "mini = 99999\n",
    "features = None\n",
    "arr = range(6)\n",
    "\n",
    "for i in range(1,7):\n",
    "    for j in combinations(arr, i):\n",
    "        reg = LinearRegression()\n",
    "        reg.fit(X_train[:, j], y_train)\n",
    "        RMSE = np.sqrt(mean_squared_error(reg.predict(X_test[:, list(j)]), y_test))\n",
    "        if(RMSE < mini):\n",
    "            mini = RMSE\n",
    "            features = j\n",
    "        "
   ]
  },
  {
   "cell_type": "code",
   "execution_count": 26,
   "metadata": {},
   "outputs": [
    {
     "data": {
      "text/plain": [
       "8.603306902250354"
      ]
     },
     "execution_count": 26,
     "metadata": {},
     "output_type": "execute_result"
    }
   ],
   "source": [
    "mini"
   ]
  },
  {
   "cell_type": "markdown",
   "metadata": {},
   "source": [
    "** Important Features **"
   ]
  },
  {
   "cell_type": "code",
   "execution_count": 27,
   "metadata": {},
   "outputs": [
    {
     "data": {
      "text/plain": [
       "(1, 2, 3, 4)"
      ]
     },
     "execution_count": 27,
     "metadata": {},
     "output_type": "execute_result"
    }
   ],
   "source": [
    "features"
   ]
  },
  {
   "cell_type": "markdown",
   "metadata": {},
   "source": [
    "**  Forward Selection **"
   ]
  },
  {
   "cell_type": "code",
   "execution_count": 28,
   "metadata": {},
   "outputs": [],
   "source": [
    "def ForwardSelection(X_train, X_test, y_train, y_test):\n",
    "    cols = range(X.shape[1])\n",
    "    num = 1\n",
    "    mini = 99999\n",
    "    features = None\n",
    "    \n",
    "    for i in cols:\n",
    "        reg = LinearRegression()\n",
    "        reg.fit(X_train[:, [i]], y_train)\n",
    "        RMSE = np.sqrt(mean_squared_error(reg.predict(X_test[:, [i]]), y_test))\n",
    "        if(RMSE < mini):\n",
    "            mini = RMSE\n",
    "            features = [i]\n",
    "#         print i\n",
    "    print(features, RMSE)\n",
    "    num = 1\n",
    "    \n",
    "    while(num != 4):\n",
    "        cols = []\n",
    "        num = num + 1\n",
    "        for j in combinations(arr, num):\n",
    "            if(all(elem in j for elem in features)):\n",
    "                cols.append(j)\n",
    "        for i in cols:\n",
    "#             print i\n",
    "            reg = LinearRegression()\n",
    "            reg.fit(X_train[:, i], y_train)\n",
    "            RMSE = np.sqrt(mean_squared_error(reg.predict(X_test[:, i]), y_test))\n",
    "            if(RMSE < mini):\n",
    "                mini = RMSE\n",
    "                features = i\n",
    "        print(features, RMSE)"
   ]
  },
  {
   "cell_type": "code",
   "execution_count": 29,
   "metadata": {},
   "outputs": [
    {
     "name": "stdout",
     "output_type": "stream",
     "text": [
      "[2] 11.296153000146196\n",
      "(1, 2) 9.579383034983467\n",
      "(1, 2, 3) 9.280448380147233\n",
      "(1, 2, 3, 4) 8.908331438464796\n"
     ]
    }
   ],
   "source": [
    "ForwardSelection(X_train,X_test, y_train, y_test)"
   ]
  },
  {
   "cell_type": "markdown",
   "metadata": {},
   "source": [
    "## Q4"
   ]
  },
  {
   "cell_type": "markdown",
   "metadata": {},
   "source": [
    "** Normal Equation Regression **"
   ]
  },
  {
   "cell_type": "code",
   "execution_count": 30,
   "metadata": {},
   "outputs": [],
   "source": [
    "import time\n",
    "def NormalEquationRegression(X, y):\n",
    "    one = np.ones(X.shape[0]).reshape([-1, 1])\n",
    "    X = np.concatenate((one, X), axis = 1)\n",
    "    XXT = np.matmul(np.transpose(X), X)\n",
    "    XXTY = np.matmul(np.linalg.inv(XXT), np.transpose(X))\n",
    "    reg = np.matmul(XXTY, y)\n",
    "    return reg\n",
    "    "
   ]
  },
  {
   "cell_type": "code",
   "execution_count": 31,
   "metadata": {},
   "outputs": [
    {
     "data": {
      "text/plain": [
       "0.0006799697875976562"
      ]
     },
     "execution_count": 31,
     "metadata": {},
     "output_type": "execute_result"
    }
   ],
   "source": [
    "a = time.time()\n",
    "reg = NormalEquationRegression(X_train, y_train)\n",
    "b = time.time() - a\n",
    "b"
   ]
  },
  {
   "cell_type": "code",
   "execution_count": 32,
   "metadata": {},
   "outputs": [
    {
     "data": {
      "text/plain": [
       "array([ 29.58841599,   6.23732136, -12.04822992, -25.10044332,\n",
       "        11.66489368,  18.3173235 ,   1.28035352])"
      ]
     },
     "execution_count": 32,
     "metadata": {},
     "output_type": "execute_result"
    }
   ],
   "source": [
    "reg"
   ]
  },
  {
   "cell_type": "markdown",
   "metadata": {},
   "source": [
    "** Gradient Descent Regression **"
   ]
  },
  {
   "cell_type": "code",
   "execution_count": 33,
   "metadata": {},
   "outputs": [],
   "source": [
    "def gradientDescentRegression(X, y, alpha = 0.1):\n",
    "    w = np.zeros(X.shape[1]+1)\n",
    "    \n",
    "    X = np.concatenate((np.ones(X.shape[0]).reshape([-1, 1]), X), axis = 1)\n",
    "    for i in range(10000):\n",
    "        y_ = np.matmul(X, w)\n",
    "        errors = alpha*np.subtract(y_,y)\n",
    "        w = np.subtract(w, (2*np.matmul(X.T, errors))/len(X))\n",
    "    return w"
   ]
  },
  {
   "cell_type": "code",
   "execution_count": 34,
   "metadata": {},
   "outputs": [
    {
     "name": "stdout",
     "output_type": "stream",
     "text": [
      "0.17652559280395508\n",
      "[ 29.58027107   6.23733285 -12.04804137 -25.09228226  11.66576327\n",
      "  18.32056951   1.28787584]\n"
     ]
    }
   ],
   "source": [
    "a = time.time()\n",
    "reg = gradientDescentRegression(X_train, y_train)\n",
    "b = time.time() - a\n",
    "print(b)\n",
    "print(reg)"
   ]
  },
  {
   "cell_type": "markdown",
   "metadata": {},
   "source": [
    "** Gradient Descent Autograd Regression **"
   ]
  },
  {
   "cell_type": "code",
   "execution_count": 38,
   "metadata": {},
   "outputs": [],
   "source": [
    "X = np.arange(0,50,5).reshape((-1,1))\n",
    "y = 2*X+3"
   ]
  },
  {
   "cell_type": "code",
   "execution_count": 39,
   "metadata": {},
   "outputs": [],
   "source": [
    "from autograd import grad\n",
    "\n",
    "def c(weights):\n",
    "    global X,y\n",
    "    X_ = np.concatenate((np.ones(X.shape[0]).reshape([-1, 1]), X), axis = 1)\n",
    "    pred = np.dot(X_,weights)\n",
    "    \n",
    "    \n",
    "    return np.sum(np.square(pred - y))/len(X_)\n",
    "\n",
    "\n",
    "\n",
    "def gradientDescentAutogradRegression(alpha = 0.1):\n",
    "    \n",
    "    training_gradient_fun = grad(c)\n",
    "    weights = np.zeros((X.shape[1]+1,1))\n",
    "    print(\"Initial loss:\", c(weights))\n",
    "    \n",
    "    for i in range(100):\n",
    "    \n",
    "        weights -= training_gradient_fun(weights) * alpha\n",
    "#         print (i,training_loss(weights))\n",
    "        \n",
    "    return weights\n",
    "\n",
    "\n"
   ]
  },
  {
   "cell_type": "code",
   "execution_count": 40,
   "metadata": {},
   "outputs": [
    {
     "name": "stdout",
     "output_type": "stream",
     "text": [
      "Initial loss: 3129.0\n",
      "1549892169.70347\n",
      "[[0.05209249]\n",
      " [1.59517509]]\n"
     ]
    }
   ],
   "source": [
    "a = time.time()\n",
    "weights = gradientDescentAutogradRegression(.00001)\n",
    "print(time.time() - b)\n",
    "print(weights)"
   ]
  },
  {
   "cell_type": "markdown",
   "metadata": {},
   "source": [
    "** Gradient Descent Pytorch Regression **"
   ]
  },
  {
   "cell_type": "code",
   "execution_count": 41,
   "metadata": {},
   "outputs": [
    {
     "name": "stdout",
     "output_type": "stream",
     "text": [
      "0 1710.78271484375\n",
      "1 1697.2086181640625\n",
      "2 1683.757568359375\n",
      "3 1670.4290771484375\n",
      "4 1657.2215576171875\n",
      "5 1644.1337890625\n",
      "6 1631.1649169921875\n",
      "7 1618.313720703125\n",
      "8 1605.5797119140625\n",
      "9 1592.9608154296875\n",
      "10 1580.456787109375\n",
      "11 1568.06591796875\n",
      "12 1555.787841796875\n",
      "13 1543.62109375\n",
      "14 1531.564697265625\n",
      "15 1519.6181640625\n",
      "16 1507.77978515625\n",
      "17 1496.048828125\n",
      "18 1484.424560546875\n",
      "19 1472.906005859375\n",
      "20 1461.49169921875\n",
      "21 1450.18115234375\n",
      "22 1438.9735107421875\n",
      "23 1427.866943359375\n",
      "24 1416.86181640625\n",
      "25 1405.956787109375\n",
      "26 1395.1500244140625\n",
      "27 1384.442138671875\n",
      "28 1373.830810546875\n",
      "29 1363.3160400390625\n",
      "30 1352.89697265625\n",
      "31 1342.5721435546875\n",
      "32 1332.34130859375\n",
      "33 1322.2032470703125\n",
      "34 1312.1572265625\n",
      "35 1302.2027587890625\n",
      "36 1292.3380126953125\n",
      "37 1282.563232421875\n",
      "38 1272.8770751953125\n",
      "39 1263.2789306640625\n",
      "40 1253.7679443359375\n",
      "41 1244.3428955078125\n",
      "42 1235.0040283203125\n",
      "43 1225.74951171875\n",
      "44 1216.5791015625\n",
      "45 1207.4920654296875\n",
      "46 1198.4874267578125\n",
      "47 1189.564453125\n",
      "48 1180.7227783203125\n",
      "49 1171.9608154296875\n",
      "50 1163.2786865234375\n",
      "51 1154.6754150390625\n",
      "52 1146.1505126953125\n",
      "53 1137.7025146484375\n",
      "54 1129.331298828125\n",
      "55 1121.0362548828125\n",
      "56 1112.81640625\n",
      "57 1104.671142578125\n",
      "58 1096.5997314453125\n",
      "59 1088.6015625\n",
      "60 1080.6763916015625\n",
      "61 1072.8228759765625\n",
      "62 1065.0406494140625\n",
      "63 1057.328857421875\n",
      "64 1049.6873779296875\n",
      "65 1042.114990234375\n",
      "66 1034.6114501953125\n",
      "67 1027.1759033203125\n",
      "68 1019.8081665039062\n",
      "69 1012.5069580078125\n",
      "70 1005.2722778320312\n",
      "71 998.1030883789062\n",
      "72 990.9990844726562\n",
      "73 983.9594116210938\n",
      "74 976.9837036132812\n",
      "75 970.0712280273438\n",
      "76 963.2216186523438\n",
      "77 956.4341430664062\n",
      "78 949.7081909179688\n",
      "79 943.0433959960938\n",
      "80 936.4390869140625\n",
      "81 929.89453125\n",
      "82 923.409423828125\n",
      "83 916.9833984375\n",
      "84 910.615234375\n",
      "85 904.3052368164062\n",
      "86 898.0523681640625\n",
      "87 891.8562622070312\n",
      "88 885.7164306640625\n",
      "89 879.6322631835938\n",
      "90 873.6033325195312\n",
      "91 867.6289672851562\n",
      "92 861.7091064453125\n",
      "93 855.8428344726562\n",
      "94 850.0293579101562\n",
      "95 844.269287109375\n",
      "96 838.5611572265625\n",
      "97 832.9048461914062\n",
      "98 827.2997436523438\n",
      "99 821.7457885742188\n",
      "100 816.2420654296875\n",
      "101 810.7882690429688\n",
      "102 805.384033203125\n",
      "103 800.0287475585938\n",
      "104 794.7220458984375\n",
      "105 789.4635009765625\n",
      "106 784.2526245117188\n",
      "107 779.0891723632812\n",
      "108 773.9724731445312\n",
      "109 768.9022216796875\n",
      "110 763.8778686523438\n",
      "111 758.899169921875\n",
      "112 753.9656372070312\n",
      "113 749.0768432617188\n",
      "114 744.2322998046875\n",
      "115 739.431884765625\n",
      "116 734.675048828125\n",
      "117 729.961181640625\n",
      "118 725.2901000976562\n",
      "119 720.66162109375\n",
      "120 716.0748291015625\n",
      "121 711.5299072265625\n",
      "122 707.0259399414062\n",
      "123 702.5630493164062\n",
      "124 698.140380859375\n",
      "125 693.758056640625\n",
      "126 689.41552734375\n",
      "127 685.1121215820312\n",
      "128 680.8479614257812\n",
      "129 676.6224365234375\n",
      "130 672.4351196289062\n",
      "131 668.2859497070312\n",
      "132 664.17431640625\n",
      "133 660.1000366210938\n",
      "134 656.0626220703125\n",
      "135 652.0619506835938\n",
      "136 648.0972290039062\n",
      "137 644.1688842773438\n",
      "138 640.2760009765625\n",
      "139 636.4183959960938\n",
      "140 632.5957641601562\n",
      "141 628.8077392578125\n",
      "142 625.0542602539062\n",
      "143 621.3346557617188\n",
      "144 617.6487426757812\n",
      "145 613.996337890625\n",
      "146 610.376953125\n",
      "147 606.79052734375\n",
      "148 603.2366333007812\n",
      "149 599.7147827148438\n",
      "150 596.2249755859375\n",
      "151 592.7667846679688\n",
      "152 589.340087890625\n",
      "153 585.9442749023438\n",
      "154 582.579345703125\n",
      "155 579.2448120117188\n",
      "156 575.9407348632812\n",
      "157 572.6663208007812\n",
      "158 569.4216918945312\n",
      "159 566.20654296875\n",
      "160 563.0205078125\n",
      "161 559.8633422851562\n",
      "162 556.7349243164062\n",
      "163 553.6346435546875\n",
      "164 550.5625610351562\n",
      "165 547.5183715820312\n",
      "166 544.501708984375\n",
      "167 541.5125122070312\n",
      "168 538.5502319335938\n",
      "169 535.6149291992188\n",
      "170 532.7062377929688\n",
      "171 529.8237915039062\n",
      "172 526.967529296875\n",
      "173 524.1371459960938\n",
      "174 521.3324584960938\n",
      "175 518.5531005859375\n",
      "176 515.7989501953125\n",
      "177 513.0697631835938\n",
      "178 510.3653869628906\n",
      "179 507.6854553222656\n",
      "180 505.02978515625\n",
      "181 502.39825439453125\n",
      "182 499.79052734375\n",
      "183 497.206298828125\n",
      "184 494.64556884765625\n",
      "185 492.108154296875\n",
      "186 489.5935974121094\n",
      "187 487.10186767578125\n",
      "188 484.6326904296875\n",
      "189 482.1858825683594\n",
      "190 479.76129150390625\n",
      "191 477.358642578125\n",
      "192 474.9777526855469\n",
      "193 472.61834716796875\n",
      "194 470.2803955078125\n",
      "195 467.9636535644531\n",
      "196 465.6679382324219\n",
      "197 463.39288330078125\n",
      "198 461.13848876953125\n",
      "199 458.90447998046875\n",
      "200 456.6907043457031\n",
      "201 454.49700927734375\n",
      "202 452.3231201171875\n",
      "203 450.1689758300781\n",
      "204 448.0343933105469\n",
      "205 445.9190368652344\n",
      "206 443.8230285644531\n",
      "207 441.7458190917969\n",
      "208 439.6874084472656\n",
      "209 437.6477355957031\n",
      "210 435.6264953613281\n",
      "211 433.6235046386719\n",
      "212 431.6386413574219\n",
      "213 429.67181396484375\n",
      "214 427.7227478027344\n",
      "215 425.79132080078125\n",
      "216 423.8774108886719\n",
      "217 421.9808044433594\n",
      "218 420.10137939453125\n",
      "219 418.239013671875\n",
      "220 416.39337158203125\n",
      "221 414.5645751953125\n",
      "222 412.7522888183594\n",
      "223 410.9563293457031\n",
      "224 409.1766662597656\n",
      "225 407.4131774902344\n",
      "226 405.6655578613281\n",
      "227 403.9338684082031\n",
      "228 402.2176513671875\n",
      "229 400.51715087890625\n",
      "230 398.83197021484375\n",
      "231 397.1620178222656\n",
      "232 395.507080078125\n",
      "233 393.8673095703125\n",
      "234 392.2422180175781\n",
      "235 390.6319274902344\n",
      "236 389.03619384765625\n",
      "237 387.454833984375\n",
      "238 385.8878173828125\n",
      "239 384.3349914550781\n",
      "240 382.7961730957031\n",
      "241 381.2713623046875\n",
      "242 379.76025390625\n",
      "243 378.2628173828125\n",
      "244 376.7789001464844\n",
      "245 375.3084716796875\n",
      "246 373.85125732421875\n",
      "247 372.40728759765625\n",
      "248 370.976318359375\n",
      "249 369.5583801269531\n",
      "250 368.1531982421875\n",
      "251 366.7607116699219\n",
      "252 365.380859375\n",
      "253 364.013427734375\n",
      "254 362.65838623046875\n",
      "255 361.3155517578125\n",
      "256 359.98486328125\n",
      "257 358.6662292480469\n",
      "258 357.3595275878906\n",
      "259 356.06463623046875\n",
      "260 354.7813720703125\n",
      "261 353.50982666015625\n",
      "262 352.2497253417969\n",
      "263 351.0009765625\n",
      "264 349.7635498046875\n",
      "265 348.5372619628906\n",
      "266 347.3220520019531\n",
      "267 346.1178283691406\n",
      "268 344.92449951171875\n",
      "269 343.741943359375\n",
      "270 342.570068359375\n",
      "271 341.4087219238281\n",
      "272 340.25799560546875\n",
      "273 339.1175842285156\n",
      "274 337.9873962402344\n",
      "275 336.8675842285156\n",
      "276 335.75775146484375\n",
      "277 334.65802001953125\n",
      "278 333.5681457519531\n",
      "279 332.4881286621094\n",
      "280 331.4179382324219\n",
      "281 330.3573303222656\n",
      "282 329.3062438964844\n",
      "283 328.2647399902344\n",
      "284 327.2326354980469\n",
      "285 326.2098083496094\n",
      "286 325.1962585449219\n",
      "287 324.1917419433594\n",
      "288 323.1964416503906\n",
      "289 322.2100524902344\n",
      "290 321.2325134277344\n",
      "291 320.2638854980469\n",
      "292 319.3039245605469\n",
      "293 318.35272216796875\n",
      "294 317.4100341796875\n",
      "295 316.4758605957031\n",
      "296 315.5500793457031\n",
      "297 314.6326904296875\n",
      "298 313.7235107421875\n",
      "299 312.8226318359375\n",
      "300 311.9298095703125\n",
      "301 311.04498291015625\n",
      "302 310.168212890625\n",
      "303 309.2993469238281\n",
      "304 308.43829345703125\n",
      "305 307.5849914550781\n",
      "306 306.73944091796875\n",
      "307 305.9013977050781\n",
      "308 305.0710144042969\n",
      "309 304.2480773925781\n",
      "310 303.43255615234375\n",
      "311 302.62432861328125\n",
      "312 301.8234558105469\n",
      "313 301.02978515625\n",
      "314 300.2432556152344\n",
      "315 299.46380615234375\n",
      "316 298.6913757324219\n",
      "317 297.9258728027344\n",
      "318 297.1672668457031\n",
      "319 296.4155578613281\n",
      "320 295.6705627441406\n",
      "321 294.9322814941406\n",
      "322 294.2006530761719\n",
      "323 293.4757080078125\n",
      "324 292.75714111328125\n",
      "325 292.0450439453125\n",
      "326 291.3395080566406\n",
      "327 290.6401672363281\n",
      "328 289.9471740722656\n",
      "329 289.2604064941406\n",
      "330 288.57989501953125\n",
      "331 287.9053649902344\n",
      "332 287.2370300292969\n",
      "333 286.57464599609375\n",
      "334 285.918212890625\n",
      "335 285.2677001953125\n",
      "336 284.6230163574219\n",
      "337 283.984130859375\n",
      "338 283.35107421875\n",
      "339 282.72357177734375\n",
      "340 282.101806640625\n",
      "341 281.4856262207031\n",
      "342 280.87493896484375\n",
      "343 280.2697448730469\n",
      "344 279.6700134277344\n",
      "345 279.0757141113281\n",
      "346 278.4866027832031\n",
      "347 277.9029541015625\n",
      "348 277.3244934082031\n",
      "349 276.7511901855469\n",
      "350 276.1830749511719\n",
      "351 275.6200256347656\n",
      "352 275.0620422363281\n",
      "353 274.5090637207031\n",
      "354 273.9610900878906\n",
      "355 273.41796875\n",
      "356 272.8797302246094\n",
      "357 272.3463439941406\n",
      "358 271.8177490234375\n",
      "359 271.29388427734375\n",
      "360 270.7747497558594\n",
      "361 270.26025390625\n",
      "362 269.7503967285156\n",
      "363 269.2450866699219\n",
      "364 268.7442932128906\n",
      "365 268.2480163574219\n",
      "366 267.756103515625\n",
      "367 267.2686767578125\n",
      "368 266.7856750488281\n",
      "369 266.3069152832031\n",
      "370 265.83245849609375\n",
      "371 265.36224365234375\n",
      "372 264.896240234375\n",
      "373 264.4344482421875\n",
      "374 263.976806640625\n",
      "375 263.5232238769531\n",
      "376 263.07366943359375\n",
      "377 262.6281433105469\n",
      "378 262.1866760253906\n",
      "379 261.7491760253906\n",
      "380 261.31549072265625\n",
      "381 260.8857116699219\n",
      "382 260.45977783203125\n",
      "383 260.0376892089844\n",
      "384 259.6194152832031\n",
      "385 259.2048034667969\n",
      "386 258.7939453125\n",
      "387 258.38671875\n",
      "388 257.983154296875\n",
      "389 257.58319091796875\n",
      "390 257.18682861328125\n",
      "391 256.7939758300781\n",
      "392 256.4046936035156\n",
      "393 256.0188293457031\n",
      "394 255.6363525390625\n",
      "395 255.25741577148438\n",
      "396 254.88182067871094\n",
      "397 254.5095672607422\n",
      "398 254.14060974121094\n",
      "399 253.77500915527344\n",
      "400 253.41258239746094\n",
      "401 253.05348205566406\n",
      "402 252.69752502441406\n",
      "403 252.34475708007812\n",
      "404 251.9951629638672\n",
      "405 251.64862060546875\n",
      "406 251.30520629882812\n",
      "407 250.96485900878906\n",
      "408 250.62754821777344\n",
      "409 250.29324340820312\n",
      "410 249.96189880371094\n",
      "411 249.6334991455078\n",
      "412 249.30807495117188\n"
     ]
    },
    {
     "name": "stdout",
     "output_type": "stream",
     "text": [
      "413 248.9855499267578\n",
      "414 248.6658477783203\n",
      "415 248.34898376464844\n",
      "416 248.03494262695312\n",
      "417 247.7237091064453\n",
      "418 247.4152374267578\n",
      "419 247.10951232910156\n",
      "420 246.80654907226562\n",
      "421 246.5062255859375\n",
      "422 246.20858764648438\n",
      "423 245.91360473632812\n",
      "424 245.62124633789062\n",
      "425 245.33145141601562\n",
      "426 245.0442352294922\n",
      "427 244.75965881347656\n",
      "428 244.47747802734375\n",
      "429 244.19789123535156\n",
      "430 243.92076110839844\n",
      "431 243.64610290527344\n",
      "432 243.37388610839844\n",
      "433 243.10403442382812\n",
      "434 242.83660888671875\n",
      "435 242.57159423828125\n",
      "436 242.308837890625\n",
      "437 242.04844665527344\n",
      "438 241.7904052734375\n",
      "439 241.53460693359375\n",
      "440 241.28111267089844\n",
      "441 241.0298309326172\n",
      "442 240.78073120117188\n",
      "443 240.53395080566406\n",
      "444 240.28924560546875\n",
      "445 240.04676818847656\n",
      "446 239.80642700195312\n",
      "447 239.56817626953125\n",
      "448 239.33209228515625\n",
      "449 239.09805297851562\n",
      "450 238.86605834960938\n",
      "451 238.6361541748047\n",
      "452 238.4082794189453\n",
      "453 238.18240356445312\n",
      "454 237.9585723876953\n",
      "455 237.7366180419922\n",
      "456 237.51669311523438\n",
      "457 237.29869079589844\n",
      "458 237.0825958251953\n",
      "459 236.86846923828125\n",
      "460 236.6561279296875\n",
      "461 236.44573974609375\n",
      "462 236.2371826171875\n",
      "463 236.0304412841797\n",
      "464 235.82554626464844\n",
      "465 235.62242126464844\n",
      "466 235.42115783691406\n",
      "467 235.22158813476562\n",
      "468 235.02381896972656\n",
      "469 234.82774353027344\n",
      "470 234.63343811035156\n",
      "471 234.44082641601562\n",
      "472 234.24990844726562\n",
      "473 234.06063842773438\n",
      "474 233.8730926513672\n",
      "475 233.68711853027344\n",
      "476 233.5028076171875\n",
      "477 233.32009887695312\n",
      "478 233.13906860351562\n",
      "479 232.9595489501953\n",
      "480 232.7816162109375\n",
      "481 232.60523986816406\n",
      "482 232.43040466308594\n",
      "483 232.2571258544922\n",
      "484 232.08534240722656\n",
      "485 231.91506958007812\n",
      "486 231.74632263183594\n",
      "487 231.5789794921875\n",
      "488 231.41314697265625\n",
      "489 231.2487335205078\n",
      "490 231.08578491210938\n",
      "491 230.92430114746094\n",
      "492 230.7641143798828\n",
      "493 230.60540771484375\n",
      "494 230.44805908203125\n",
      "495 230.2921142578125\n",
      "496 230.1375274658203\n",
      "497 229.98422241210938\n",
      "498 229.83230590820312\n",
      "499 229.6816864013672\n",
      "500 229.53240966796875\n",
      "501 229.38441467285156\n",
      "502 229.23773193359375\n",
      "503 229.09226989746094\n",
      "504 228.94808959960938\n",
      "505 228.80520629882812\n",
      "506 228.66354370117188\n",
      "507 228.52310180664062\n",
      "508 228.38388061523438\n",
      "509 228.245849609375\n",
      "510 228.10902404785156\n",
      "511 227.97344970703125\n",
      "512 227.83900451660156\n",
      "513 227.70570373535156\n",
      "514 227.57351684570312\n",
      "515 227.44253540039062\n",
      "516 227.31268310546875\n",
      "517 227.1839599609375\n",
      "518 227.05633544921875\n",
      "519 226.92982482910156\n",
      "520 226.80441284179688\n",
      "521 226.68003845214844\n",
      "522 226.5567626953125\n",
      "523 226.43455505371094\n",
      "524 226.3134002685547\n",
      "525 226.19329833984375\n",
      "526 226.07420349121094\n",
      "527 225.9561767578125\n",
      "528 225.83912658691406\n",
      "529 225.72311401367188\n",
      "530 225.60812377929688\n",
      "531 225.49404907226562\n",
      "532 225.38096618652344\n",
      "533 225.26885986328125\n",
      "534 225.15777587890625\n",
      "535 225.04759216308594\n",
      "536 224.9383544921875\n",
      "537 224.83006286621094\n",
      "538 224.72268676757812\n",
      "539 224.6162567138672\n",
      "540 224.5107421875\n",
      "541 224.4061279296875\n",
      "542 224.30233764648438\n",
      "543 224.19947814941406\n",
      "544 224.09750366210938\n",
      "545 223.9963836669922\n",
      "546 223.89614868164062\n",
      "547 223.7967987060547\n",
      "548 223.69821166992188\n",
      "549 223.6005096435547\n",
      "550 223.50364685058594\n",
      "551 223.4076385498047\n",
      "552 223.31239318847656\n",
      "553 223.21798706054688\n",
      "554 223.12435913085938\n",
      "555 223.0315704345703\n",
      "556 222.9394989013672\n",
      "557 222.84823608398438\n",
      "558 222.7577667236328\n",
      "559 222.6680450439453\n",
      "560 222.57908630371094\n",
      "561 222.4908905029297\n",
      "562 222.4034423828125\n",
      "563 222.31674194335938\n",
      "564 222.230712890625\n",
      "565 222.14547729492188\n",
      "566 222.0609130859375\n",
      "567 221.97708129882812\n",
      "568 221.8939208984375\n",
      "569 221.8114776611328\n",
      "570 221.72979736328125\n",
      "571 221.64871215820312\n",
      "572 221.56837463378906\n",
      "573 221.48867797851562\n",
      "574 221.40968322753906\n",
      "575 221.331298828125\n",
      "576 221.25357055664062\n",
      "577 221.17654418945312\n",
      "578 221.10015869140625\n",
      "579 221.02438354492188\n",
      "580 220.94920349121094\n",
      "581 220.87469482421875\n",
      "582 220.8008270263672\n",
      "583 220.72750854492188\n",
      "584 220.6549072265625\n",
      "585 220.58282470703125\n",
      "586 220.51133728027344\n",
      "587 220.4405059814453\n",
      "588 220.37020874023438\n",
      "589 220.30055236816406\n",
      "590 220.23141479492188\n",
      "591 220.16290283203125\n",
      "592 220.0949249267578\n",
      "593 220.0275115966797\n",
      "594 219.96063232421875\n",
      "595 219.8943328857422\n",
      "596 219.8285675048828\n",
      "597 219.76333618164062\n",
      "598 219.69866943359375\n",
      "599 219.63450622558594\n",
      "600 219.57090759277344\n",
      "601 219.50784301757812\n",
      "602 219.4452667236328\n",
      "603 219.3832244873047\n",
      "604 219.3215789794922\n",
      "605 219.26058959960938\n",
      "606 219.20005798339844\n",
      "607 219.13998413085938\n",
      "608 219.08042907714844\n",
      "609 219.02134704589844\n",
      "610 218.96275329589844\n",
      "611 218.90463256835938\n",
      "612 218.8470001220703\n",
      "613 218.78981018066406\n",
      "614 218.7331085205078\n",
      "615 218.6768798828125\n",
      "616 218.62106323242188\n",
      "617 218.5657196044922\n",
      "618 218.51084899902344\n",
      "619 218.45639038085938\n",
      "620 218.40234375\n",
      "621 218.3488006591797\n",
      "622 218.29563903808594\n",
      "623 218.24293518066406\n",
      "624 218.1906280517578\n",
      "625 218.1387939453125\n",
      "626 218.08731079101562\n",
      "627 218.03628540039062\n",
      "628 217.98562622070312\n",
      "629 217.93539428710938\n",
      "630 217.88558959960938\n",
      "631 217.83616638183594\n",
      "632 217.78713989257812\n",
      "633 217.73851013183594\n",
      "634 217.6902313232422\n",
      "635 217.642333984375\n",
      "636 217.59487915039062\n",
      "637 217.54782104492188\n",
      "638 217.5010528564453\n",
      "639 217.45472717285156\n",
      "640 217.40870666503906\n",
      "641 217.3630828857422\n",
      "642 217.31777954101562\n",
      "643 217.2729034423828\n",
      "644 217.2283172607422\n",
      "645 217.18408203125\n",
      "646 217.14024353027344\n",
      "647 217.09671020507812\n",
      "648 217.0535125732422\n",
      "649 217.0106658935547\n",
      "650 216.9681396484375\n",
      "651 216.92596435546875\n",
      "652 216.88414001464844\n",
      "653 216.84259033203125\n",
      "654 216.80142211914062\n",
      "655 216.7605438232422\n",
      "656 216.71998596191406\n",
      "657 216.6797332763672\n",
      "658 216.63983154296875\n",
      "659 216.60015869140625\n",
      "660 216.56088256835938\n",
      "661 216.52188110351562\n",
      "662 216.48313903808594\n",
      "663 216.4447479248047\n",
      "664 216.40660095214844\n",
      "665 216.3688201904297\n",
      "666 216.3312225341797\n",
      "667 216.2939910888672\n",
      "668 216.2570343017578\n",
      "669 216.22032165527344\n",
      "670 216.1838836669922\n",
      "671 216.14781188964844\n",
      "672 216.11192321777344\n",
      "673 216.0763397216797\n",
      "674 216.041015625\n",
      "675 216.0059814453125\n",
      "676 215.9712371826172\n",
      "677 215.9366912841797\n",
      "678 215.90245056152344\n",
      "679 215.86846923828125\n",
      "680 215.83470153808594\n",
      "681 215.8012237548828\n",
      "682 215.76795959472656\n",
      "683 215.73501586914062\n",
      "684 215.7022247314453\n",
      "685 215.66973876953125\n",
      "686 215.63748168945312\n",
      "687 215.60543823242188\n",
      "688 215.57366943359375\n",
      "689 215.54214477539062\n",
      "690 215.51083374023438\n",
      "691 215.47972106933594\n",
      "692 215.4488525390625\n",
      "693 215.418212890625\n",
      "694 215.38784790039062\n",
      "695 215.357666015625\n",
      "696 215.32766723632812\n",
      "697 215.2978973388672\n",
      "698 215.26840209960938\n",
      "699 215.23912048339844\n",
      "700 215.21002197265625\n",
      "701 215.18113708496094\n",
      "702 215.15243530273438\n",
      "703 215.1239776611328\n",
      "704 215.09571838378906\n",
      "705 215.06768798828125\n",
      "706 215.03981018066406\n",
      "707 215.0121307373047\n",
      "708 214.9846649169922\n",
      "709 214.95745849609375\n",
      "710 214.93035888671875\n",
      "711 214.9034881591797\n",
      "712 214.87681579589844\n",
      "713 214.8502960205078\n",
      "714 214.82400512695312\n",
      "715 214.79788208007812\n",
      "716 214.77197265625\n",
      "717 214.74618530273438\n",
      "718 214.7206268310547\n",
      "719 214.69525146484375\n",
      "720 214.67005920410156\n",
      "721 214.64495849609375\n",
      "722 214.62013244628906\n",
      "723 214.5954132080078\n",
      "724 214.5709228515625\n",
      "725 214.54653930664062\n",
      "726 214.5223846435547\n",
      "727 214.4983367919922\n",
      "728 214.47451782226562\n",
      "729 214.4508056640625\n",
      "730 214.42727661132812\n",
      "731 214.4039764404297\n",
      "732 214.38072204589844\n",
      "733 214.3577117919922\n",
      "734 214.3347930908203\n",
      "735 214.3120880126953\n",
      "736 214.28948974609375\n",
      "737 214.26707458496094\n",
      "738 214.2448272705078\n",
      "739 214.2227020263672\n",
      "740 214.20071411132812\n",
      "741 214.17892456054688\n",
      "742 214.1572265625\n",
      "743 214.1356964111328\n",
      "744 214.11427307128906\n",
      "745 214.09304809570312\n",
      "746 214.07192993164062\n",
      "747 214.05096435546875\n",
      "748 214.03012084960938\n",
      "749 214.00938415527344\n",
      "750 213.9888916015625\n",
      "751 213.9684600830078\n",
      "752 213.94815063476562\n",
      "753 213.92799377441406\n",
      "754 213.90794372558594\n",
      "755 213.8881072998047\n",
      "756 213.86830139160156\n",
      "757 213.84866333007812\n",
      "758 213.8291473388672\n",
      "759 213.8097686767578\n",
      "760 213.79046630859375\n",
      "761 213.77133178710938\n",
      "762 213.75238037109375\n",
      "763 213.73342895507812\n",
      "764 213.71463012695312\n",
      "765 213.69590759277344\n",
      "766 213.67742919921875\n",
      "767 213.6589813232422\n",
      "768 213.6406707763672\n",
      "769 213.62246704101562\n",
      "770 213.60433959960938\n",
      "771 213.58642578125\n",
      "772 213.5685577392578\n",
      "773 213.55079650878906\n",
      "774 213.5331268310547\n",
      "775 213.515625\n",
      "776 213.49818420410156\n",
      "777 213.48089599609375\n",
      "778 213.46365356445312\n",
      "779 213.44656372070312\n",
      "780 213.42958068847656\n",
      "781 213.4126434326172\n",
      "782 213.39585876464844\n",
      "783 213.37911987304688\n",
      "784 213.362548828125\n",
      "785 213.34603881835938\n",
      "786 213.32965087890625\n",
      "787 213.31332397460938\n",
      "788 213.2971649169922\n",
      "789 213.28102111816406\n",
      "790 213.26499938964844\n",
      "791 213.2490692138672\n",
      "792 213.23324584960938\n",
      "793 213.2174835205078\n",
      "794 213.20187377929688\n",
      "795 213.18630981445312\n",
      "796 213.1708221435547\n",
      "797 213.1554718017578\n",
      "798 213.14019775390625\n",
      "799 213.12498474121094\n",
      "800 213.10987854003906\n",
      "801 213.09483337402344\n",
      "802 213.07986450195312\n",
      "803 213.06503295898438\n",
      "804 213.0502471923828\n",
      "805 213.0355987548828\n",
      "806 213.0209197998047\n",
      "807 213.0064239501953\n",
      "808 212.99195861816406\n",
      "809 212.9776153564453\n",
      "810 212.9633026123047\n",
      "811 212.9490966796875\n",
      "812 212.93496704101562\n",
      "813 212.9208984375\n",
      "814 212.9069366455078\n",
      "815 212.89306640625\n",
      "816 212.87921142578125\n",
      "817 212.86546325683594\n",
      "818 212.85179138183594\n"
     ]
    },
    {
     "name": "stdout",
     "output_type": "stream",
     "text": [
      "819 212.83816528320312\n",
      "820 212.8246307373047\n",
      "821 212.81117248535156\n",
      "822 212.79776000976562\n",
      "823 212.7844696044922\n",
      "824 212.77122497558594\n",
      "825 212.758056640625\n",
      "826 212.74493408203125\n",
      "827 212.73191833496094\n",
      "828 212.71888732910156\n",
      "829 212.7060089111328\n",
      "830 212.6931610107422\n",
      "831 212.68035888671875\n",
      "832 212.66769409179688\n",
      "833 212.65501403808594\n",
      "834 212.64242553710938\n",
      "835 212.62989807128906\n",
      "836 212.61749267578125\n",
      "837 212.60508728027344\n",
      "838 212.59274291992188\n",
      "839 212.58047485351562\n",
      "840 212.56826782226562\n",
      "841 212.55612182617188\n",
      "842 212.54405212402344\n",
      "843 212.5320281982422\n",
      "844 212.5200653076172\n",
      "845 212.50811767578125\n",
      "846 212.4962615966797\n",
      "847 212.48448181152344\n",
      "848 212.47271728515625\n",
      "849 212.46107482910156\n",
      "850 212.44940185546875\n",
      "851 212.43785095214844\n",
      "852 212.42633056640625\n",
      "853 212.4148712158203\n",
      "854 212.4034423828125\n",
      "855 212.39212036132812\n",
      "856 212.38076782226562\n",
      "857 212.3695068359375\n",
      "858 212.3583221435547\n",
      "859 212.34716796875\n",
      "860 212.33609008789062\n",
      "861 212.32504272460938\n",
      "862 212.31402587890625\n",
      "863 212.30308532714844\n",
      "864 212.2921600341797\n",
      "865 212.28134155273438\n",
      "866 212.27052307128906\n",
      "867 212.25975036621094\n",
      "868 212.2490692138672\n",
      "869 212.23838806152344\n",
      "870 212.22779846191406\n",
      "871 212.2172088623047\n",
      "872 212.20668029785156\n",
      "873 212.19619750976562\n",
      "874 212.18577575683594\n",
      "875 212.17539978027344\n",
      "876 212.1650848388672\n",
      "877 212.1547393798828\n",
      "878 212.14447021484375\n",
      "879 212.13429260253906\n",
      "880 212.12411499023438\n",
      "881 212.114013671875\n",
      "882 212.1039276123047\n",
      "883 212.0938720703125\n",
      "884 212.0838623046875\n",
      "885 212.0738983154297\n",
      "886 212.06398010253906\n",
      "887 212.0540771484375\n",
      "888 212.04429626464844\n",
      "889 212.03448486328125\n",
      "890 212.0247344970703\n",
      "891 212.01498413085938\n",
      "892 212.0052947998047\n",
      "893 211.99566650390625\n",
      "894 211.98606872558594\n",
      "895 211.97645568847656\n",
      "896 211.96693420410156\n",
      "897 211.9574737548828\n",
      "898 211.94801330566406\n",
      "899 211.9385528564453\n",
      "900 211.92921447753906\n",
      "901 211.91983032226562\n",
      "902 211.91053771972656\n",
      "903 211.9012451171875\n",
      "904 211.89199829101562\n",
      "905 211.8828125\n",
      "906 211.8736114501953\n",
      "907 211.86448669433594\n",
      "908 211.8553466796875\n",
      "909 211.8463134765625\n",
      "910 211.83726501464844\n",
      "911 211.82823181152344\n",
      "912 211.8192596435547\n",
      "913 211.810302734375\n",
      "914 211.8013916015625\n",
      "915 211.7925262451172\n",
      "916 211.78367614746094\n",
      "917 211.77484130859375\n",
      "918 211.76605224609375\n",
      "919 211.75726318359375\n",
      "920 211.74856567382812\n",
      "921 211.73989868164062\n",
      "922 211.731201171875\n",
      "923 211.7225341796875\n",
      "924 211.7139434814453\n",
      "925 211.7053680419922\n",
      "926 211.69683837890625\n",
      "927 211.68829345703125\n",
      "928 211.6798095703125\n",
      "929 211.67129516601562\n",
      "930 211.6628875732422\n",
      "931 211.65447998046875\n",
      "932 211.64605712890625\n",
      "933 211.6377410888672\n",
      "934 211.6294403076172\n",
      "935 211.62109375\n",
      "936 211.61282348632812\n",
      "937 211.60455322265625\n",
      "938 211.5963592529297\n",
      "939 211.5881805419922\n",
      "940 211.57998657226562\n",
      "941 211.57183837890625\n",
      "942 211.563720703125\n",
      "943 211.5555877685547\n",
      "944 211.54754638671875\n",
      "945 211.53952026367188\n",
      "946 211.5314483642578\n",
      "947 211.52346801757812\n",
      "948 211.51547241210938\n",
      "949 211.5075225830078\n",
      "950 211.49957275390625\n",
      "951 211.49169921875\n",
      "952 211.4838409423828\n",
      "953 211.47596740722656\n",
      "954 211.46810913085938\n",
      "955 211.4602813720703\n",
      "956 211.4525146484375\n",
      "957 211.44471740722656\n",
      "958 211.43698120117188\n",
      "959 211.42921447753906\n",
      "960 211.4215545654297\n",
      "961 211.41384887695312\n",
      "962 211.4062042236328\n",
      "963 211.39852905273438\n",
      "964 211.39088439941406\n",
      "965 211.38328552246094\n",
      "966 211.37570190429688\n",
      "967 211.36813354492188\n",
      "968 211.36061096191406\n",
      "969 211.35311889648438\n",
      "970 211.34559631347656\n",
      "971 211.33810424804688\n",
      "972 211.33065795898438\n",
      "973 211.32321166992188\n",
      "974 211.3157958984375\n",
      "975 211.30841064453125\n",
      "976 211.30101013183594\n",
      "977 211.29364013671875\n",
      "978 211.28628540039062\n",
      "979 211.27896118164062\n",
      "980 211.2716827392578\n",
      "981 211.2643585205078\n",
      "982 211.257080078125\n",
      "983 211.24984741210938\n",
      "984 211.2426300048828\n",
      "985 211.2353973388672\n",
      "986 211.22816467285156\n",
      "987 211.2209930419922\n",
      "988 211.21385192871094\n",
      "989 211.20669555664062\n",
      "990 211.19955444335938\n",
      "991 211.19244384765625\n",
      "992 211.18533325195312\n",
      "993 211.17823791503906\n",
      "994 211.17115783691406\n",
      "995 211.1641082763672\n",
      "996 211.15707397460938\n",
      "997 211.15005493164062\n",
      "998 211.14303588867188\n",
      "999 211.13604736328125\n",
      "1.4829506874084473\n"
     ]
    }
   ],
   "source": [
    "import torch\n",
    "from torch.autograd import Variable\n",
    "\n",
    "def gradientDescentPyTorchRegression(X, y, alpha = 0.001):\n",
    "#     print \"X\"\n",
    "    \n",
    "    torch.manual_seed(10)\n",
    "    \n",
    "    \n",
    "    X = np.concatenate((np.ones(X.shape[0]).reshape([-1, 1]), X), axis = 1)\n",
    "    X = torch.from_numpy(X)\n",
    "    y = torch.from_numpy(y)\n",
    "    X = X.type(torch.FloatTensor)\n",
    "    y = y.type(torch.FloatTensor)\n",
    "    w = torch.randn(X.shape[1], 1)\n",
    "    w.requires_grad = True\n",
    "\n",
    "    \n",
    "    for i in range(1000):\n",
    "        y_pred = X.mm(w)\n",
    "\n",
    "        loss = (y_pred - y).pow(2).mean()\n",
    "        print(i, loss.item())\n",
    "        loss.backward()\n",
    "\n",
    "        with torch.no_grad():\n",
    "            w = w - alpha * w.grad\n",
    "\n",
    "        w.requires_grad = True\n",
    "    return w\n",
    "\n",
    "a = time.time()\n",
    "w = gradientDescentPyTorchRegression(X_train, y_train)\n",
    "print(time.time()-a)"
   ]
  },
  {
   "cell_type": "markdown",
   "metadata": {},
   "source": [
    "** Normal Equations gives the fastest result while auto grad version is the slowest **"
   ]
  },
  {
   "cell_type": "markdown",
   "metadata": {},
   "source": [
    "## Q5"
   ]
  },
  {
   "cell_type": "markdown",
   "metadata": {},
   "source": [
    "** Polynomial Regression **"
   ]
  },
  {
   "cell_type": "code",
   "execution_count": 42,
   "metadata": {},
   "outputs": [
    {
     "data": {
      "text/plain": [
       "<matplotlib.collections.PathCollection at 0x7fb4ac1985f8>"
      ]
     },
     "execution_count": 42,
     "metadata": {},
     "output_type": "execute_result"
    },
    {
     "data": {
      "image/png": "[encoded data removed]",
      "text/plain": [
       "<Figure size 432x288 with 1 Axes>"
      ]
     },
     "metadata": {
      "needs_background": "light"
     },
     "output_type": "display_data"
    }
   ],
   "source": [
    "import numpy as np\n",
    "x = np.arange(0, 20.1, 0.1)\n",
    "np.random.seed(0)\n",
    "y = 1*x**5 + 3*x**4 - 100*x**3 + 8*x**2 -300*x - 1e5 + np.random.randn(len(x))*1e5\n",
    "\n",
    "plt.scatter(x, y, s = 10)\n",
    "\n"
   ]
  },
  {
   "cell_type": "code",
   "execution_count": null,
   "metadata": {},
   "outputs": [],
   "source": []
  },
  {
   "cell_type": "code",
   "execution_count": 43,
   "metadata": {},
   "outputs": [],
   "source": [
    "def polynomialRegression(x, y, p):\n",
    "    X = x.reshape([-1, 1])\n",
    "    x = X[:]\n",
    "    for i in range(2,p+1):\n",
    "        X = np.concatenate((X, x**i), axis = 1)\n",
    "#     X = np.concatenate((np.ones(X.shape[0]).reshape([-1, 1]), X), axis = 1)\n",
    "    return NormalEquationRegression(X, y)\n",
    "    "
   ]
  },
  {
   "cell_type": "code",
   "execution_count": 44,
   "metadata": {},
   "outputs": [
    {
     "data": {
      "text/plain": [
       "array([ 5.29201684e+04, -1.26089185e+05,  2.78067073e+04, -2.48850506e+03,\n",
       "        8.78523715e+01])"
      ]
     },
     "execution_count": 44,
     "metadata": {},
     "output_type": "execute_result"
    }
   ],
   "source": [
    "polynomialRegression(x, y, 4) # for p = 4"
   ]
  },
  {
   "cell_type": "code",
   "execution_count": 45,
   "metadata": {},
   "outputs": [
    {
     "data": {
      "text/plain": [
       "array([ 8.82345685e+03, -5.75536517e+04,  3.57964583e+03,  7.53760679e+02,\n",
       "       -9.47499055e+01,  3.65204554e+00])"
      ]
     },
     "execution_count": 45,
     "metadata": {},
     "output_type": "execute_result"
    }
   ],
   "source": [
    "polynomialRegression(x, y, 5) # for p = 5"
   ]
  },
  {
   "cell_type": "code",
   "execution_count": 46,
   "metadata": {},
   "outputs": [],
   "source": [
    "theta0 = np.arange(-15, 15, 0.2)\n",
    "theta1 = np.arange(-15, 15, 0.2)\n",
    "\n",
    "x_axis, y_axis = np.meshgrid(theta0, theta1)"
   ]
  },
  {
   "cell_type": "code",
   "execution_count": 47,
   "metadata": {},
   "outputs": [],
   "source": [
    "Z = []\n",
    "x = np.array([1, 3, 6]).reshape([-1, 1])\n",
    "y = np.array([6, 10, 16]).reshape([-1, 1])\n",
    "for i in theta0:\n",
    "\n",
    "    for j in theta1:\n",
    "        Z.append(np.sum((np.subtract((j*x + i), y))**2))"
   ]
  },
  {
   "cell_type": "code",
   "execution_count": 48,
   "metadata": {},
   "outputs": [],
   "source": [
    "Z = np.array(Z).reshape(x_axis.shape)"
   ]
  },
  {
   "cell_type": "code",
   "execution_count": 1,
   "metadata": {},
   "outputs": [
    {
     "ename": "NameError",
     "evalue": "name 'Z' is not defined",
     "output_type": "error",
     "traceback": [
      "\u001b[0;31m---------------------------------------------------------------------------\u001b[0m",
      "\u001b[0;31mNameError\u001b[0m                                 Traceback (most recent call last)",
      "\u001b[0;32m<ipython-input-1-169b8d08a5b4>\u001b[0m in \u001b[0;36m<module>\u001b[0;34m\u001b[0m\n\u001b[1;32m      5\u001b[0m data = [\n\u001b[1;32m      6\u001b[0m      go.Contour(\n\u001b[0;32m----> 7\u001b[0;31m         \u001b[0mz\u001b[0m\u001b[0;34m=\u001b[0m\u001b[0mZ\u001b[0m\u001b[0;34m,\u001b[0m\u001b[0;34m\u001b[0m\u001b[0;34m\u001b[0m\u001b[0m\n\u001b[0m\u001b[1;32m      8\u001b[0m          \u001b[0mx\u001b[0m \u001b[0;34m=\u001b[0m \u001b[0mtheta0\u001b[0m\u001b[0;34m,\u001b[0m \u001b[0my\u001b[0m \u001b[0;34m=\u001b[0m \u001b[0mtheta1\u001b[0m\u001b[0;34m,\u001b[0m\u001b[0;34m\u001b[0m\u001b[0;34m\u001b[0m\u001b[0m\n\u001b[1;32m      9\u001b[0m         \u001b[0mcolorscale\u001b[0m\u001b[0;34m=\u001b[0m\u001b[0;34m'Jet'\u001b[0m\u001b[0;34m\u001b[0m\u001b[0;34m\u001b[0m\u001b[0m\n",
      "\u001b[0;31mNameError\u001b[0m: name 'Z' is not defined"
     ]
    }
   ],
   "source": [
    "\n",
    "import plotly.plotly as py\n",
    "import plotly.graph_objs as go\n",
    "\n",
    "data = [\n",
    "     go.Contour(\n",
    "        z=Z,\n",
    "         x = theta0, y = theta1, \n",
    "        colorscale='Jet'\n",
    "    )]\n",
    "py.iplot(data)"
   ]
  },
  {
   "cell_type": "code",
   "execution_count": 50,
   "metadata": {},
   "outputs": [
    {
     "data": {
      "image/png": "[encoded data removed]",
      "text/plain": [
       "<Figure size 432x288 with 1 Axes>"
      ]
     },
     "metadata": {
      "needs_background": "light"
     },
     "output_type": "display_data"
    }
   ],
   "source": [
    "plt.contour(x_axis, y_axis, Z, 300)\n",
    "plt.show()"
   ]
  },
  {
   "cell_type": "code",
   "execution_count": null,
   "metadata": {},
   "outputs": [],
   "source": []
  },
  {
   "cell_type": "code",
   "execution_count": 51,
   "metadata": {},
   "outputs": [
    {
     "name": "stdout",
     "output_type": "stream",
     "text": [
      "0 252.7008056640625\n",
      "1 236.95887756347656\n",
      "2 222.21238708496094\n",
      "3 208.3983612060547\n",
      "4 195.457763671875\n",
      "5 183.33543395996094\n",
      "6 171.9795684814453\n",
      "7 161.3417205810547\n",
      "8 151.3764190673828\n",
      "9 142.04119873046875\n",
      "10 133.29615783691406\n",
      "11 125.10399627685547\n",
      "12 117.42972564697266\n",
      "13 110.24059295654297\n",
      "14 103.50594329833984\n",
      "15 97.19696807861328\n",
      "16 91.28680419921875\n",
      "17 85.75019073486328\n",
      "18 80.56352996826172\n",
      "19 75.70465850830078\n",
      "20 71.15287017822266\n",
      "21 66.88873291015625\n",
      "22 62.894046783447266\n",
      "23 59.15177536010742\n",
      "24 55.64595031738281\n",
      "25 52.36162185668945\n",
      "26 49.2847785949707\n",
      "27 46.40229415893555\n",
      "28 43.701873779296875\n",
      "29 41.1720085144043\n",
      "30 38.801918029785156\n",
      "31 36.581485748291016\n",
      "32 34.501251220703125\n",
      "33 32.552337646484375\n",
      "34 30.726449966430664\n",
      "35 29.01580238342285\n",
      "36 27.41310691833496\n",
      "37 25.911535263061523\n",
      "38 24.50469207763672\n",
      "39 23.186594009399414\n",
      "40 21.951614379882812\n",
      "41 20.794504165649414\n",
      "42 19.710344314575195\n",
      "43 18.694503784179688\n",
      "44 17.742677688598633\n",
      "45 16.850812911987305\n",
      "46 16.01511573791504\n",
      "47 15.23203182220459\n",
      "48 14.498237609863281\n",
      "49 13.810615539550781\n",
      "50 13.166239738464355\n",
      "51 12.562381744384766\n",
      "52 11.996479034423828\n",
      "53 11.46612548828125\n",
      "54 10.969080924987793\n",
      "55 10.503230094909668\n",
      "56 10.066601753234863\n",
      "57 9.657356262207031\n",
      "58 9.27375602722168\n",
      "59 8.914176940917969\n",
      "60 8.577105522155762\n",
      "61 8.261112213134766\n",
      "62 7.964869022369385\n",
      "63 7.687124729156494\n",
      "64 7.426712512969971\n",
      "65 7.182529926300049\n",
      "66 6.953558444976807\n",
      "67 6.738829135894775\n",
      "68 6.537449359893799\n",
      "69 6.348569393157959\n",
      "70 6.171396732330322\n",
      "71 6.005199432373047\n",
      "72 5.849274158477783\n",
      "73 5.702978134155273\n",
      "74 5.565699100494385\n",
      "75 5.4368672370910645\n",
      "76 5.315950870513916\n",
      "77 5.202449321746826\n",
      "78 5.095890998840332\n",
      "79 4.995838165283203\n",
      "80 4.901879787445068\n",
      "81 4.813632488250732\n",
      "82 4.7307329177856445\n",
      "83 4.652844429016113\n",
      "84 4.579650402069092\n",
      "85 4.5108537673950195\n",
      "86 4.4461750984191895\n",
      "87 4.385354995727539\n",
      "88 4.328152179718018\n",
      "89 4.274332523345947\n",
      "90 4.223690032958984\n",
      "91 4.176018238067627\n",
      "92 4.131130695343018\n",
      "93 4.088851451873779\n",
      "94 4.049016952514648\n",
      "95 4.011472702026367\n",
      "96 3.9760725498199463\n",
      "97 3.9426815509796143\n",
      "98 3.911174774169922\n",
      "99 3.881431818008423\n",
      "100 3.8533401489257812\n",
      "101 3.826796770095825\n",
      "102 3.8017055988311768\n",
      "103 3.7779722213745117\n",
      "104 3.7555129528045654\n",
      "105 3.7342464923858643\n",
      "106 3.714097261428833\n",
      "107 3.694995641708374\n",
      "108 3.676875352859497\n",
      "109 3.6596758365631104\n",
      "110 3.6433372497558594\n",
      "111 3.627805709838867\n",
      "112 3.6130311489105225\n",
      "113 3.5989644527435303\n",
      "114 3.5855636596679688\n",
      "115 3.572784662246704\n",
      "116 3.5605900287628174\n",
      "117 3.5489413738250732\n",
      "118 3.537803888320923\n",
      "119 3.527148485183716\n",
      "120 3.5169427394866943\n",
      "121 3.5071592330932617\n",
      "122 3.497770071029663\n",
      "123 3.4887516498565674\n",
      "124 3.4800825119018555\n",
      "125 3.471736192703247\n",
      "126 3.463696241378784\n",
      "127 3.455944061279297\n",
      "128 3.448458671569824\n",
      "129 3.441225290298462\n",
      "130 3.434227705001831\n",
      "131 3.427452802658081\n",
      "132 3.420883893966675\n",
      "133 3.4145095348358154\n",
      "134 3.4083173274993896\n",
      "135 3.402296781539917\n",
      "136 3.396437644958496\n",
      "137 3.3907291889190674\n",
      "138 3.385160446166992\n",
      "139 3.379725456237793\n",
      "140 3.374415636062622\n",
      "141 3.3692219257354736\n",
      "142 3.364138603210449\n",
      "143 3.359156608581543\n",
      "144 3.3542728424072266\n",
      "145 3.3494794368743896\n",
      "146 3.3447721004486084\n",
      "147 3.340144395828247\n",
      "148 3.3355910778045654\n",
      "149 3.331109046936035\n",
      "150 3.3266947269439697\n",
      "151 3.3223421573638916\n",
      "152 3.318047285079956\n",
      "153 3.3138086795806885\n",
      "154 3.3096234798431396\n",
      "155 3.3054847717285156\n",
      "156 3.3013947010040283\n",
      "157 3.297344446182251\n",
      "158 3.2933387756347656\n",
      "159 3.28937029838562\n",
      "160 3.28543758392334\n",
      "161 3.281538963317871\n",
      "162 3.2776734828948975\n",
      "163 3.2738397121429443\n",
      "164 3.2700328826904297\n",
      "165 3.266253709793091\n",
      "166 3.262500524520874\n",
      "167 3.258770704269409\n",
      "168 3.2550642490386963\n",
      "169 3.2513797283172607\n",
      "170 3.2477152347564697\n",
      "171 3.2440717220306396\n",
      "172 3.240445375442505\n",
      "173 3.2368390560150146\n",
      "174 3.233245611190796\n",
      "175 3.2296698093414307\n",
      "176 3.226109266281128\n",
      "177 3.2225635051727295\n",
      "178 3.2190303802490234\n",
      "179 3.2155113220214844\n",
      "180 3.212003707885742\n",
      "181 3.2085087299346924\n",
      "182 3.2050249576568604\n",
      "183 3.2015504837036133\n",
      "184 3.198087453842163\n",
      "185 3.194636106491089\n",
      "186 3.191190004348755\n",
      "187 3.187757730484009\n",
      "188 3.184330940246582\n",
      "189 3.180913209915161\n",
      "190 3.177504301071167\n",
      "191 3.1741034984588623\n",
      "192 3.1707096099853516\n",
      "193 3.167323350906372\n",
      "194 3.1639442443847656\n",
      "195 3.160571813583374\n",
      "196 3.157205820083618\n",
      "197 3.1538455486297607\n",
      "198 3.1504926681518555\n",
      "199 3.1471452713012695\n",
      "200 3.1438045501708984\n",
      "201 3.140467643737793\n",
      "202 3.1371371746063232\n",
      "203 3.13381290435791\n",
      "204 3.1304943561553955\n",
      "205 3.1271793842315674\n",
      "206 3.1238715648651123\n",
      "207 3.1205666065216064\n",
      "208 3.117267608642578\n",
      "209 3.113971710205078\n",
      "210 3.110682725906372\n",
      "211 3.1073970794677734\n",
      "212 3.1041171550750732\n",
      "213 3.100841522216797\n",
      "214 3.0975687503814697\n",
      "215 3.094301223754883\n",
      "216 3.0910379886627197\n",
      "217 3.0877792835235596\n",
      "218 3.084524393081665\n",
      "219 3.081273317337036\n",
      "220 3.0780258178710938\n",
      "221 3.07478404045105\n",
      "222 3.0715458393096924\n",
      "223 3.0683095455169678\n",
      "224 3.065080404281616\n",
      "225 3.0618526935577393\n",
      "226 3.0586283206939697\n",
      "227 3.0554096698760986\n",
      "228 3.0521934032440186\n",
      "229 3.0489816665649414\n",
      "230 3.0457732677459717\n",
      "231 3.0425689220428467\n",
      "232 3.039367437362671\n",
      "233 3.036170244216919\n",
      "234 3.032977342605591\n",
      "235 3.0297858715057373\n",
      "236 3.0266008377075195\n",
      "237 3.0234172344207764\n",
      "238 3.020238161087036\n",
      "239 3.017062187194824\n",
      "240 3.0138893127441406\n",
      "241 3.0107204914093018\n",
      "242 3.0075550079345703\n",
      "243 3.0043933391571045\n",
      "244 3.0012340545654297\n",
      "245 2.998079538345337\n",
      "246 2.994927406311035\n",
      "247 2.9917795658111572\n",
      "248 2.988633871078491\n",
      "249 2.985492706298828\n",
      "250 2.9823553562164307\n",
      "251 2.979220390319824\n",
      "252 2.9760894775390625\n",
      "253 2.97296142578125\n",
      "254 2.9698379039764404\n",
      "255 2.9667165279388428\n",
      "256 2.963597536087036\n",
      "257 2.960484266281128\n",
      "258 2.957371950149536\n",
      "259 2.954263687133789\n",
      "260 2.9511592388153076\n",
      "261 2.9480583667755127\n",
      "262 2.944960832595825\n",
      "263 2.941866636276245\n",
      "264 2.938775062561035\n",
      "265 2.9356861114501953\n",
      "266 2.932602643966675\n",
      "267 2.92952036857605\n",
      "268 2.926441192626953\n",
      "269 2.923365831375122\n",
      "270 2.920295000076294\n",
      "271 2.917226552963257\n",
      "272 2.914160966873169\n",
      "273 2.911099433898926\n",
      "274 2.908039093017578\n",
      "275 2.904984474182129\n",
      "276 2.9019317626953125\n",
      "277 2.8988828659057617\n",
      "278 2.8958370685577393\n",
      "279 2.8927948474884033\n",
      "280 2.8897550106048584\n",
      "281 2.8867197036743164\n",
      "282 2.883686065673828\n",
      "283 2.880655288696289\n",
      "284 2.877629041671753\n",
      "285 2.874606132507324\n",
      "286 2.8715860843658447\n",
      "287 2.8685693740844727\n",
      "288 2.86555552482605\n",
      "289 2.862543821334839\n",
      "290 2.8595359325408936\n",
      "291 2.856532335281372\n",
      "292 2.8535311222076416\n",
      "293 2.850531578063965\n",
      "294 2.8475372791290283\n",
      "295 2.8445451259613037\n",
      "296 2.841557264328003\n",
      "297 2.8385708332061768\n",
      "298 2.835588216781616\n",
      "299 2.8326094150543213\n",
      "300 2.8296334743499756\n",
      "301 2.8266613483428955\n",
      "302 2.8236913681030273\n",
      "303 2.8207242488861084\n",
      "304 2.8177595138549805\n",
      "305 2.8148000240325928\n",
      "306 2.811842203140259\n",
      "307 2.8088877201080322\n",
      "308 2.8059370517730713\n",
      "309 2.8029892444610596\n",
      "310 2.800044059753418\n",
      "311 2.7971019744873047\n",
      "312 2.794163465499878\n",
      "313 2.791227102279663\n",
      "314 2.788295030593872\n",
      "315 2.7853658199310303\n",
      "316 2.7824392318725586\n",
      "317 2.7795162200927734\n",
      "318 2.7765953540802\n",
      "319 2.7736785411834717\n",
      "320 2.770763397216797\n",
      "321 2.767852783203125\n",
      "322 2.7649450302124023\n",
      "323 2.76203989982605\n",
      "324 2.7591373920440674\n",
      "325 2.7562382221221924\n",
      "326 2.7533442974090576\n",
      "327 2.750450849533081\n",
      "328 2.74756121635437\n",
      "329 2.7446744441986084\n",
      "330 2.741790771484375\n",
      "331 2.738909959793091\n",
      "332 2.736032485961914\n",
      "333 2.7331573963165283\n",
      "334 2.7302865982055664\n",
      "335 2.727417230606079\n",
      "336 2.7245514392852783\n",
      "337 2.7216899394989014\n",
      "338 2.7188303470611572\n",
      "339 2.715972661972046\n",
      "340 2.7131197452545166\n",
      "341 2.7102692127227783\n",
      "342 2.7074222564697266\n",
      "343 2.704577684402466\n",
      "344 2.7017362117767334\n",
      "345 2.69889760017395\n",
      "346 2.6960620880126953\n",
      "347 2.6932294368743896\n",
      "348 2.6903984546661377\n",
      "349 2.687572479248047\n",
      "350 2.6847493648529053\n",
      "351 2.6819283962249756\n",
      "352 2.679110288619995\n",
      "353 2.6762969493865967\n",
      "354 2.6734836101531982\n",
      "355 2.67067551612854\n",
      "356 2.6678688526153564\n",
      "357 2.665066719055176\n",
      "358 2.6622655391693115\n",
      "359 2.6594693660736084\n",
      "360 2.6566760540008545\n",
      "361 2.653883934020996\n",
      "362 2.6510956287384033\n",
      "363 2.6483101844787598\n",
      "364 2.6455276012420654\n",
      "365 2.6427488327026367\n",
      "366 2.639971971511841\n",
      "367 2.637197494506836\n",
      "368 2.634427547454834\n",
      "369 2.631659746170044\n",
      "370 2.628894567489624\n",
      "371 2.6261329650878906\n",
      "372 2.6233742237091064\n",
      "373 2.620617628097534\n",
      "374 2.6178641319274902\n",
      "375 2.615112543106079\n",
      "376 2.61236572265625\n",
      "377 2.6096208095550537\n",
      "378 2.606879234313965\n",
      "379 2.6041409969329834\n",
      "380 2.601404905319214\n",
      "381 2.5986711978912354\n",
      "382 2.5959408283233643\n",
      "383 2.593214273452759\n",
      "384 2.5904901027679443\n",
      "385 2.5877668857574463\n",
      "386 2.5850493907928467\n",
      "387 2.582332134246826\n",
      "388 2.579619884490967\n",
      "389 2.576909303665161\n",
      "390 2.574202299118042\n",
      "391 2.5714972019195557\n",
      "392 2.568795919418335\n",
      "393 2.566096544265747\n",
      "394 2.563401699066162\n",
      "395 2.5607073307037354\n",
      "396 2.5580170154571533\n",
      "397 2.5553293228149414\n",
      "398 2.552644968032837\n",
      "399 2.54996395111084\n",
      "400 2.5472846031188965\n",
      "401 2.544607400894165\n",
      "402 2.541933298110962\n",
      "403 2.5392634868621826\n",
      "404 2.536595106124878\n",
      "405 2.533930540084839\n",
      "406 2.531268835067749\n",
      "407 2.5286099910736084\n",
      "408 2.525952100753784\n",
      "409 2.5232980251312256\n",
      "410 2.5206475257873535\n",
      "411 2.517998456954956\n",
      "412 2.5153536796569824\n",
      "413 2.5127105712890625\n",
      "414 2.51007080078125\n",
      "415 2.5074331760406494\n",
      "416 2.504798650741577\n",
      "417 2.5021674633026123\n",
      "418 2.4995391368865967\n",
      "419 2.4969122409820557\n",
      "420 2.4942891597747803\n",
      "421 2.491668462753296\n",
      "422 2.48905086517334\n",
      "423 2.486435651779175\n",
      "424 2.483823776245117\n",
      "425 2.4812138080596924\n",
      "426 2.4786064624786377\n",
      "427 2.4760026931762695\n",
      "428 2.4734010696411133\n",
      "429 2.4708030223846436\n",
      "430 2.4682061672210693\n",
      "431 2.465613603591919\n",
      "432 2.4630234241485596\n",
      "433 2.460435628890991\n",
      "434 2.457850217819214\n",
      "435 2.455268144607544\n",
      "436 2.452688217163086\n",
      "437 2.4501116275787354\n",
      "438 2.4475364685058594\n",
      "439 2.444965124130249\n",
      "440 2.442397356033325\n",
      "441 2.439831495285034\n",
      "442 2.437267541885376\n",
      "443 2.434706926345825\n",
      "444 2.4321491718292236\n",
      "445 2.429593086242676\n",
      "446 2.4270408153533936\n",
      "447 2.4244911670684814\n",
      "448 2.4219439029693604\n",
      "449 2.4193994998931885\n",
      "450 2.4168574810028076\n",
      "451 2.4143178462982178\n",
      "452 2.411781072616577\n",
      "453 2.4092471599578857\n",
      "454 2.4067163467407227\n",
      "455 2.4041876792907715\n",
      "456 2.4016621112823486\n",
      "457 2.3991386890411377\n",
      "458 2.396617889404297\n",
      "459 2.3941004276275635\n",
      "460 2.3915841579437256\n",
      "461 2.3890721797943115\n",
      "462 2.3865625858306885\n",
      "463 2.3840548992156982\n",
      "464 2.3815500736236572\n",
      "465 2.3790476322174072\n",
      "466 2.3765478134155273\n",
      "467 2.374051332473755\n",
      "468 2.3715567588806152\n",
      "469 2.369065523147583\n",
      "470 2.3665759563446045\n",
      "471 2.3640897274017334\n",
      "472 2.3616058826446533\n",
      "473 2.3591253757476807\n",
      "474 2.356646776199341\n",
      "475 2.354170560836792\n",
      "476 2.351696729660034\n",
      "477 2.349226236343384\n",
      "478 2.346757650375366\n",
      "479 2.3442916870117188\n",
      "480 2.341829538345337\n",
      "481 2.3393688201904297\n",
      "482 2.336911916732788\n",
      "483 2.334455966949463\n",
      "484 2.332002878189087\n",
      "485 2.3295528888702393\n",
      "486 2.3271055221557617\n",
      "487 2.324660062789917\n",
      "488 2.3222177028656006\n",
      "489 2.3197786808013916\n",
      "490 2.3173413276672363\n",
      "491 2.314906120300293\n",
      "492 2.312474250793457\n",
      "493 2.310045003890991\n",
      "494 2.307617425918579\n"
     ]
    },
    {
     "name": "stdout",
     "output_type": "stream",
     "text": [
      "495 2.3051931858062744\n",
      "496 2.3027710914611816\n",
      "497 2.300352096557617\n",
      "498 2.2979352474212646\n",
      "499 2.2955214977264404\n",
      "500 2.2931082248687744\n",
      "501 2.290698766708374\n",
      "502 2.2882936000823975\n",
      "503 2.285888433456421\n",
      "504 2.2834866046905518\n",
      "505 2.281087875366211\n",
      "506 2.2786920070648193\n",
      "507 2.276296854019165\n",
      "508 2.2739055156707764\n",
      "509 2.2715160846710205\n",
      "510 2.269129753112793\n",
      "511 2.2667453289031982\n",
      "512 2.264364719390869\n",
      "513 2.2619857788085938\n",
      "514 2.259608030319214\n",
      "515 2.2572343349456787\n",
      "516 2.254863977432251\n",
      "517 2.2524948120117188\n",
      "518 2.2501273155212402\n",
      "519 2.2477643489837646\n",
      "520 2.245401620864868\n",
      "521 2.2430431842803955\n",
      "522 2.2406857013702393\n",
      "523 2.2383320331573486\n",
      "524 2.2359797954559326\n",
      "525 2.2336313724517822\n",
      "526 2.2312846183776855\n",
      "527 2.2289392948150635\n",
      "528 2.2265985012054443\n",
      "529 2.2242591381073\n",
      "530 2.2219221591949463\n",
      "531 2.219587564468384\n",
      "532 2.2172563076019287\n",
      "533 2.2149264812469482\n",
      "534 2.212599515914917\n",
      "535 2.210275411605835\n",
      "536 2.2079522609710693\n",
      "537 2.2056329250335693\n",
      "538 2.203315019607544\n",
      "539 2.2009999752044678\n",
      "540 2.198688507080078\n",
      "541 2.196377992630005\n",
      "542 2.19407057762146\n",
      "543 2.191765069961548\n",
      "544 2.1894619464874268\n",
      "545 2.187161445617676\n",
      "546 2.184863328933716\n",
      "547 2.1825687885284424\n",
      "548 2.1802756786346436\n",
      "549 2.1779847145080566\n",
      "550 2.175697088241577\n",
      "551 2.173410177230835\n",
      "552 2.1711266040802\n",
      "553 2.1688456535339355\n",
      "554 2.166566848754883\n",
      "555 2.1642906665802\n",
      "556 2.1620171070098877\n",
      "557 2.1597461700439453\n",
      "558 2.1574761867523193\n",
      "559 2.1552093029022217\n",
      "560 2.1529452800750732\n",
      "561 2.150683641433716\n",
      "562 2.148423671722412\n",
      "563 2.1461660861968994\n",
      "564 2.143911600112915\n",
      "565 2.1416590213775635\n",
      "566 2.1394083499908447\n",
      "567 2.1371614933013916\n",
      "568 2.134916305541992\n",
      "569 2.1326730251312256\n",
      "570 2.13043212890625\n",
      "571 2.1281940937042236\n",
      "572 2.125957727432251\n",
      "573 2.1237242221832275\n",
      "574 2.1214935779571533\n",
      "575 2.119264602661133\n",
      "576 2.1170384883880615\n",
      "577 2.114813804626465\n",
      "578 2.1125922203063965\n",
      "579 2.1103711128234863\n",
      "580 2.108154296875\n",
      "581 2.1059396266937256\n",
      "582 2.103727340698242\n",
      "583 2.1015169620513916\n",
      "584 2.0993082523345947\n",
      "585 2.0971035957336426\n",
      "586 2.094900369644165\n",
      "587 2.0926990509033203\n",
      "588 2.0904998779296875\n",
      "589 2.088304281234741\n",
      "590 2.086109161376953\n",
      "591 2.0839178562164307\n",
      "592 2.0817291736602783\n",
      "593 2.0795419216156006\n",
      "594 2.0773565769195557\n",
      "595 2.0751736164093018\n",
      "596 2.072993040084839\n",
      "597 2.0708155632019043\n",
      "598 2.0686404705047607\n",
      "599 2.0664663314819336\n",
      "600 2.0642948150634766\n",
      "601 2.0621261596679688\n",
      "602 2.059960126876831\n",
      "603 2.057795763015747\n",
      "604 2.055634021759033\n",
      "605 2.053473711013794\n",
      "606 2.051316261291504\n",
      "607 2.049161195755005\n",
      "608 2.047008752822876\n",
      "609 2.044857978820801\n",
      "610 2.042710065841675\n",
      "611 2.0405631065368652\n",
      "612 2.038419485092163\n",
      "613 2.036278009414673\n",
      "614 2.034137725830078\n",
      "615 2.032001495361328\n",
      "616 2.0298664569854736\n",
      "617 2.027733564376831\n",
      "618 2.0256035327911377\n",
      "619 2.02347469329834\n",
      "620 2.0213496685028076\n",
      "621 2.0192248821258545\n",
      "622 2.017103672027588\n",
      "623 2.0149848461151123\n",
      "624 2.0128672122955322\n",
      "625 2.0107526779174805\n",
      "626 2.0086405277252197\n",
      "627 2.0065295696258545\n",
      "628 2.0044214725494385\n",
      "629 2.0023157596588135\n",
      "630 2.0002119541168213\n",
      "631 1.9981107711791992\n",
      "632 1.996011734008789\n",
      "633 1.993914246559143\n",
      "634 1.9918195009231567\n",
      "635 1.9897265434265137\n",
      "636 1.9876362085342407\n",
      "637 1.985547661781311\n",
      "638 1.9834610223770142\n",
      "639 1.981377124786377\n",
      "640 1.9792958498001099\n",
      "641 1.977216362953186\n",
      "642 1.975138545036316\n",
      "643 1.9730638265609741\n",
      "644 1.9709910154342651\n",
      "645 1.968920111656189\n",
      "646 1.9668511152267456\n",
      "647 1.9647854566574097\n",
      "648 1.9627207517623901\n",
      "649 1.9606584310531616\n",
      "650 1.9585986137390137\n",
      "651 1.9565401077270508\n",
      "652 1.9544845819473267\n",
      "653 1.9524321556091309\n",
      "654 1.9503798484802246\n",
      "655 1.9483312368392944\n",
      "656 1.946284294128418\n",
      "657 1.9442394971847534\n",
      "658 1.942197322845459\n",
      "659 1.940156102180481\n",
      "660 1.9381179809570312\n",
      "661 1.936081886291504\n",
      "662 1.934048056602478\n",
      "663 1.932015299797058\n",
      "664 1.929985523223877\n",
      "665 1.9279578924179077\n",
      "666 1.9259322881698608\n",
      "667 1.9239083528518677\n",
      "668 1.9218870401382446\n",
      "669 1.91986882686615\n",
      "670 1.9178518056869507\n",
      "671 1.9158353805541992\n",
      "672 1.913823127746582\n",
      "673 1.9118132591247559\n",
      "674 1.9098035097122192\n",
      "675 1.9077969789505005\n",
      "676 1.9057918787002563\n",
      "677 1.9037904739379883\n",
      "678 1.9017902612686157\n",
      "679 1.8997920751571655\n",
      "680 1.8977960348129272\n",
      "681 1.89580237865448\n",
      "682 1.8938112258911133\n",
      "683 1.891821265220642\n",
      "684 1.8898330926895142\n",
      "685 1.8878474235534668\n",
      "686 1.8858647346496582\n",
      "687 1.8838831186294556\n",
      "688 1.8819032907485962\n",
      "689 1.879926085472107\n",
      "690 1.8779510259628296\n",
      "691 1.8759785890579224\n",
      "692 1.8740073442459106\n",
      "693 1.8720375299453735\n",
      "694 1.8700710535049438\n",
      "695 1.8681063652038574\n",
      "696 1.866143822669983\n",
      "697 1.8641835451126099\n",
      "698 1.8622244596481323\n",
      "699 1.8602676391601562\n",
      "700 1.8583135604858398\n",
      "701 1.8563610315322876\n",
      "702 1.8544102907180786\n",
      "703 1.852462887763977\n",
      "704 1.8505162000656128\n",
      "705 1.848572850227356\n",
      "706 1.8466297388076782\n",
      "707 1.844690203666687\n",
      "708 1.8427523374557495\n",
      "709 1.8408154249191284\n",
      "710 1.8388816118240356\n",
      "711 1.8369503021240234\n",
      "712 1.8350201845169067\n",
      "713 1.8330917358398438\n",
      "714 1.8311666250228882\n",
      "715 1.8292421102523804\n",
      "716 1.8273206949234009\n",
      "717 1.825400471687317\n",
      "718 1.8234831094741821\n",
      "719 1.821567416191101\n",
      "720 1.8196525573730469\n",
      "721 1.8177417516708374\n",
      "722 1.8158316612243652\n",
      "723 1.8139234781265259\n",
      "724 1.8120174407958984\n",
      "725 1.8101145029067993\n",
      "726 1.8082118034362793\n",
      "727 1.8063125610351562\n",
      "728 1.8044137954711914\n",
      "729 1.8025182485580444\n",
      "730 1.800625205039978\n",
      "731 1.7987333536148071\n",
      "732 1.796843409538269\n",
      "733 1.794956088066101\n",
      "734 1.7930704355239868\n",
      "735 1.7911858558654785\n",
      "736 1.7893034219741821\n",
      "737 1.7874239683151245\n",
      "738 1.7855463027954102\n",
      "739 1.783669114112854\n",
      "740 1.7817955017089844\n",
      "741 1.779923915863037\n",
      "742 1.7780542373657227\n",
      "743 1.7761869430541992\n",
      "744 1.7743202447891235\n",
      "745 1.7724556922912598\n",
      "746 1.7705937623977661\n",
      "747 1.7687331438064575\n",
      "748 1.76687490940094\n",
      "749 1.7650190591812134\n",
      "750 1.763163685798645\n",
      "751 1.7613121271133423\n",
      "752 1.759461760520935\n",
      "753 1.7576128244400024\n",
      "754 1.7557660341262817\n",
      "755 1.753921389579773\n",
      "756 1.752078890800476\n",
      "757 1.750238060951233\n",
      "758 1.748399257659912\n",
      "759 1.7465620040893555\n",
      "760 1.744726300239563\n",
      "761 1.7428935766220093\n",
      "762 1.7410632371902466\n",
      "763 1.7392338514328003\n",
      "764 1.7374062538146973\n",
      "765 1.735580563545227\n",
      "766 1.7337568998336792\n",
      "767 1.7319355010986328\n",
      "768 1.7301160097122192\n",
      "769 1.728298544883728\n",
      "770 1.7264825105667114\n",
      "771 1.724669337272644\n",
      "772 1.7228565216064453\n",
      "773 1.7210469245910645\n",
      "774 1.71923828125\n",
      "775 1.7174321413040161\n",
      "776 1.7156271934509277\n",
      "777 1.7138255834579468\n",
      "778 1.7120248079299927\n",
      "779 1.7102257013320923\n",
      "780 1.7084283828735352\n",
      "781 1.7066340446472168\n",
      "782 1.7048407793045044\n",
      "783 1.7030495405197144\n",
      "784 1.7012604475021362\n",
      "785 1.699472427368164\n",
      "786 1.697686791419983\n",
      "787 1.6959041357040405\n",
      "788 1.6941226720809937\n",
      "789 1.6923424005508423\n",
      "790 1.6905632019042969\n",
      "791 1.688788890838623\n",
      "792 1.6870131492614746\n",
      "793 1.6852407455444336\n",
      "794 1.6834708452224731\n",
      "795 1.6817021369934082\n",
      "796 1.6799343824386597\n",
      "797 1.6781702041625977\n",
      "798 1.6764063835144043\n",
      "799 1.6746463775634766\n",
      "800 1.6728863716125488\n",
      "801 1.6711292266845703\n",
      "802 1.66937255859375\n",
      "803 1.667618751525879\n",
      "804 1.6658669710159302\n",
      "805 1.6641167402267456\n",
      "806 1.6623681783676147\n",
      "807 1.6606215238571167\n",
      "808 1.6588773727416992\n",
      "809 1.6571348905563354\n",
      "810 1.6553932428359985\n",
      "811 1.6536544561386108\n",
      "812 1.6519159078598022\n",
      "813 1.6501808166503906\n",
      "814 1.648447036743164\n",
      "815 1.6467145681381226\n",
      "816 1.6449847221374512\n",
      "817 1.643256664276123\n",
      "818 1.6415303945541382\n",
      "819 1.639804482460022\n",
      "820 1.6380828619003296\n",
      "821 1.6363624334335327\n",
      "822 1.6346426010131836\n",
      "823 1.6329246759414673\n",
      "824 1.631208896636963\n",
      "825 1.6294952630996704\n",
      "826 1.6277838945388794\n",
      "827 1.6260738372802734\n",
      "828 1.6243647336959839\n",
      "829 1.6226587295532227\n",
      "830 1.6209536790847778\n",
      "831 1.6192502975463867\n",
      "832 1.6175488233566284\n",
      "833 1.6158493757247925\n",
      "834 1.614151954650879\n",
      "835 1.6124553680419922\n",
      "836 1.6107615232467651\n",
      "837 1.6090701818466187\n",
      "838 1.607378602027893\n",
      "839 1.605690598487854\n",
      "840 1.60400390625\n",
      "841 1.6023173332214355\n",
      "842 1.6006354093551636\n",
      "843 1.598953366279602\n",
      "844 1.5972728729248047\n",
      "845 1.5955944061279297\n",
      "846 1.5939184427261353\n",
      "847 1.592244029045105\n",
      "848 1.5905709266662598\n",
      "849 1.5888999700546265\n",
      "850 1.5872310400009155\n",
      "851 1.5855633020401\n",
      "852 1.5838961601257324\n",
      "853 1.5822325944900513\n",
      "854 1.5805705785751343\n",
      "855 1.578910231590271\n",
      "856 1.5772510766983032\n",
      "857 1.5755938291549683\n",
      "858 1.573938250541687\n",
      "859 1.5722845792770386\n",
      "860 1.570631980895996\n",
      "861 1.5689822435379028\n",
      "862 1.5673340559005737\n",
      "863 1.565688133239746\n",
      "864 1.564042568206787\n",
      "865 1.5623990297317505\n",
      "866 1.560758113861084\n",
      "867 1.5591182708740234\n",
      "868 1.557479977607727\n",
      "869 1.5558438301086426\n",
      "870 1.5542092323303223\n",
      "871 1.5525764226913452\n",
      "872 1.55094575881958\n",
      "873 1.5493158102035522\n",
      "874 1.5476874113082886\n",
      "875 1.5460615158081055\n",
      "876 1.5444375276565552\n",
      "877 1.5428146123886108\n",
      "878 1.541193962097168\n",
      "879 1.539574146270752\n",
      "880 1.5379570722579956\n",
      "881 1.5363413095474243\n",
      "882 1.5347267389297485\n",
      "883 1.5331145524978638\n",
      "884 1.5315035581588745\n",
      "885 1.5298951864242554\n",
      "886 1.528287410736084\n",
      "887 1.5266817808151245\n",
      "888 1.52507746219635\n",
      "889 1.5234752893447876\n",
      "890 1.5218744277954102\n",
      "891 1.5202754735946655\n",
      "892 1.5186794996261597\n",
      "893 1.5170828104019165\n",
      "894 1.515489101409912\n",
      "895 1.5138968229293823\n",
      "896 1.512306571006775\n",
      "897 1.510717749595642\n",
      "898 1.5091301202774048\n",
      "899 1.507544994354248\n",
      "900 1.5059601068496704\n",
      "901 1.5043779611587524\n",
      "902 1.502798080444336\n",
      "903 1.5012197494506836\n",
      "904 1.4996417760849\n",
      "905 1.4980665445327759\n",
      "906 1.49649178981781\n",
      "907 1.4949194192886353\n",
      "908 1.493349552154541\n",
      "909 1.4917799234390259\n",
      "910 1.4902129173278809\n",
      "911 1.4886468648910522\n",
      "912 1.4870834350585938\n",
      "913 1.4855214357376099\n",
      "914 1.4839593172073364\n",
      "915 1.4824018478393555\n",
      "916 1.4808439016342163\n",
      "917 1.4792876243591309\n",
      "918 1.4777336120605469\n",
      "919 1.4761805534362793\n",
      "920 1.474630355834961\n",
      "921 1.4730801582336426\n",
      "922 1.471533179283142\n",
      "923 1.4699870347976685\n",
      "924 1.4684429168701172\n",
      "925 1.4669002294540405\n",
      "926 1.4653592109680176\n",
      "927 1.4638186693191528\n",
      "928 1.4622811079025269\n",
      "929 1.4607447385787964\n",
      "930 1.4592103958129883\n",
      "931 1.4576764106750488\n",
      "932 1.456145167350769\n"
     ]
    },
    {
     "name": "stdout",
     "output_type": "stream",
     "text": [
      "933 1.4546159505844116\n",
      "934 1.4530863761901855\n",
      "935 1.451560378074646\n",
      "936 1.4500356912612915\n",
      "937 1.4485117197036743\n",
      "938 1.4469900131225586\n",
      "939 1.445469856262207\n",
      "940 1.4439510107040405\n",
      "941 1.4424346685409546\n",
      "942 1.4409180879592896\n",
      "943 1.4394044876098633\n",
      "944 1.4378923177719116\n",
      "945 1.4363816976547241\n",
      "946 1.4348726272583008\n",
      "947 1.4333643913269043\n",
      "948 1.4318594932556152\n",
      "949 1.430355429649353\n",
      "950 1.4288517236709595\n",
      "951 1.427350640296936\n",
      "952 1.4258508682250977\n",
      "953 1.4243531227111816\n",
      "954 1.4228572845458984\n",
      "955 1.4213613271713257\n",
      "956 1.4198681116104126\n",
      "957 1.4183769226074219\n",
      "958 1.4168858528137207\n",
      "959 1.4153976440429688\n",
      "960 1.413909912109375\n",
      "961 1.4124245643615723\n",
      "962 1.4109407663345337\n",
      "963 1.4094589948654175\n",
      "964 1.4079780578613281\n",
      "965 1.4064979553222656\n",
      "966 1.4050216674804688\n",
      "967 1.4035450220108032\n",
      "968 1.4020695686340332\n",
      "969 1.400597095489502\n",
      "970 1.3991254568099976\n",
      "971 1.3976558446884155\n",
      "972 1.3961868286132812\n",
      "973 1.394720435142517\n",
      "974 1.3932546377182007\n",
      "975 1.3917902708053589\n",
      "976 1.390328049659729\n",
      "977 1.3888673782348633\n",
      "978 1.3874093294143677\n",
      "979 1.385951042175293\n",
      "980 1.384495735168457\n",
      "981 1.3830403089523315\n",
      "982 1.3815865516662598\n",
      "983 1.3801360130310059\n",
      "984 1.3786863088607788\n",
      "985 1.3772369623184204\n",
      "986 1.3757909536361694\n",
      "987 1.3743443489074707\n",
      "988 1.3728998899459839\n",
      "989 1.3714576959609985\n",
      "990 1.370017409324646\n",
      "991 1.368578314781189\n",
      "992 1.3671401739120483\n",
      "993 1.36570405960083\n",
      "994 1.3642688989639282\n",
      "995 1.3628350496292114\n",
      "996 1.3614040613174438\n",
      "997 1.3599733114242554\n",
      "998 1.3585448265075684\n",
      "999 1.3571175336837769\n"
     ]
    },
    {
     "data": {
      "text/plain": [
       "tensor([[1.7820],\n",
       "        [2.4906]], requires_grad=True)"
      ]
     },
     "execution_count": 51,
     "metadata": {},
     "output_type": "execute_result"
    }
   ],
   "source": [
    "# {'x': [3, 4], 'y': [3, 4]}\n",
    "\n",
    "import torch\n",
    "from torch.autograd import Variable\n",
    "li = []\n",
    "def gradientDescentPyTorchRegression(X, y, alpha = 0.001):\n",
    "#     print \"X\"\n",
    "    \n",
    "    torch.manual_seed(10)\n",
    "    \n",
    "    x = X[:].flatten()\n",
    "    X = np.concatenate((np.ones(X.shape[0]).reshape([-1, 1]), X), axis = 1)\n",
    "    X = torch.from_numpy(X)\n",
    "    y = torch.from_numpy(y)\n",
    "    X = X.type(torch.FloatTensor)\n",
    "    y = y.type(torch.FloatTensor)\n",
    "    w = torch.randn(X.shape[1], 1)\n",
    "    w.requires_grad = True\n",
    "\n",
    "#     print X, y, w\n",
    "    \n",
    "    for i in range(1000):\n",
    "        y_pred = X.mm(w)\n",
    "        \n",
    "        loss = (y_pred - y).pow(2).mean()\n",
    "        print(i, loss.item())\n",
    "        loss.backward()\n",
    "\n",
    "        with torch.no_grad():\n",
    "            w = w - alpha * w.grad\n",
    "        y_ = y_pred.data.numpy().flatten()\n",
    "        w.requires_grad = True\n",
    "        li.append({'data': [{'x':x, 'y':y_}]})\n",
    "    return w\n",
    "\n",
    "\n",
    "x = np.array([1, 3, 6]).reshape([-1, 1])\n",
    "y = np.array([6, 10, 16]).reshape([-1, 1])\n",
    "\n",
    "gradientDescentPyTorchRegression(x, y)\n",
    "\n",
    "# {'data': [{'x': [1, 2], 'y': [1, 4, ]}]}"
   ]
  },
  {
   "cell_type": "code",
   "execution_count": 56,
   "metadata": {},
   "outputs": [
    {
     "data": {
      "application/javascript": [
       "IPython.OutputArea.prototype._should_scroll = function(lines) {\n",
       "    return false;\n",
       "}\n"
      ],
      "text/plain": [
       "<IPython.core.display.Javascript object>"
      ]
     },
     "metadata": {},
     "output_type": "display_data"
    }
   ],
   "source": [
    "%%javascript\n",
    "IPython.OutputArea.prototype._should_scroll = function(lines) {\n",
    "    return false;\n",
    "}"
   ]
  },
  {
   "cell_type": "code",
   "execution_count": 59,
   "metadata": {
    "scrolled": true
   },
   "outputs": [
    {
     "data": {
      "text/html": [
       "<script type=\"text/javascript\">window.PlotlyConfig = {MathJaxConfig: 'local'};</script><script type=\"text/javascript\">if (window.MathJax) {MathJax.Hub.Config({SVG: {font: \"STIX-Web\"}});}</script><script>requirejs.config({paths: { 'plotly': ['https://cdn.plot.ly/plotly-latest.min']},});if(!window._Plotly) {require(['plotly'],function(plotly) {window._Plotly=plotly;});}</script>"
      ],
      "text/vnd.plotly.v1+html": [
       "<script type=\"text/javascript\">window.PlotlyConfig = {MathJaxConfig: 'local'};</script><script type=\"text/javascript\">if (window.MathJax) {MathJax.Hub.Config({SVG: {font: \"STIX-Web\"}});}</script><script>requirejs.config({paths: { 'plotly': ['https://cdn.plot.ly/plotly-latest.min']},});if(!window._Plotly) {require(['plotly'],function(plotly) {window._Plotly=plotly;});}</script>"
      ]
     },
     "metadata": {},
     "output_type": "display_data"
    },
    {
     "data": {
      "application/vnd.plotly.v1+json": {
       "config": {
        "linkText": "Export to plot.ly",
        "plotlyServerURL": "https://plot.ly",
        "showLink": false
       },
       "data": [
        {
         "type": "scatter",
         "uid": "52fa167a-c514-4ddd-a176-93e5cb908b6e",
         "x": [
          1,
          3,
          6
         ],
         "y": [
          6,
          10,
          16
         ]
        }
       ],
       "frames": [
        {
         "data": [
          {
           "type": "scatter",
           "x": [
            1,
            3,
            6
           ],
           "y": [
            -1.613602638244629,
            -3.638021945953369,
            -6.674651145935059
           ]
          }
         ]
        },
        {
         "data": [
          {
           "type": "scatter",
           "x": [
            1,
            3,
            6
           ],
           "y": [
            -1.4612679481506348,
            -3.23958683013916,
            -5.907064914703369
           ]
          }
         ]
        },
        {
         "data": [
          {
           "type": "scatter",
           "x": [
            1,
            3,
            6
           ],
           "y": [
            -1.3137810230255127,
            -2.8539366722106934,
            -5.164170265197754
           ]
          }
         ]
        },
        {
         "data": [
          {
           "type": "scatter",
           "x": [
            1,
            3,
            6
           ],
           "y": [
            -1.1709861755371094,
            -2.480660915374756,
            -4.4451727867126465
           ]
          }
         ]
        },
        {
         "data": [
          {
           "type": "scatter",
           "x": [
            1,
            3,
            6
           ],
           "y": [
            -1.0327322483062744,
            -2.119361639022827,
            -3.7493057250976562
           ]
          }
         ]
        },
        {
         "data": [
          {
           "type": "scatter",
           "x": [
            1,
            3,
            6
           ],
           "y": [
            -0.8988734483718872,
            -1.7696539163589478,
            -3.075824737548828
           ]
          }
         ]
        },
        {
         "data": [
          {
           "type": "scatter",
           "x": [
            1,
            3,
            6
           ],
           "y": [
            -0.7692687511444092,
            -1.4311654567718506,
            -2.424010753631592
           ]
          }
         ]
        },
        {
         "data": [
          {
           "type": "scatter",
           "x": [
            1,
            3,
            6
           ],
           "y": [
            -0.6437811851501465,
            -1.103535532951355,
            -1.793166995048523
           ]
          }
         ]
        },
        {
         "data": [
          {
           "type": "scatter",
           "x": [
            1,
            3,
            6
           ],
           "y": [
            -0.5222786068916321,
            -0.7864150404930115,
            -1.1826196908950806
           ]
          }
         ]
        },
        {
         "data": [
          {
           "type": "scatter",
           "x": [
            1,
            3,
            6
           ],
           "y": [
            -0.40463289618492126,
            -0.4794663190841675,
            -0.591716468334198
           ]
          }
         ]
        },
        {
         "data": [
          {
           "type": "scatter",
           "x": [
            1,
            3,
            6
           ],
           "y": [
            -0.290720134973526,
            -0.18236243724822998,
            -0.019825905561447144
           ]
          }
         ]
        },
        {
         "data": [
          {
           "type": "scatter",
           "x": [
            1,
            3,
            6
           ],
           "y": [
            -0.18042033910751343,
            0.10521304607391357,
            0.5336631536483765
           ]
          }
         ]
        },
        {
         "data": [
          {
           "type": "scatter",
           "x": [
            1,
            3,
            6
           ],
           "y": [
            -0.07361744344234467,
            0.38356634974479675,
            1.069342017173767
           ]
          }
         ]
        },
        {
         "data": [
          {
           "type": "scatter",
           "x": [
            1,
            3,
            6
           ],
           "y": [
            0.02980095148086548,
            0.65299391746521,
            1.5877833366394043
           ]
          }
         ]
        },
        {
         "data": [
          {
           "type": "scatter",
           "x": [
            1,
            3,
            6
           ],
           "y": [
            0.1299435794353485,
            0.9137825965881348,
            2.089540958404541
           ]
          }
         ]
        },
        {
         "data": [
          {
           "type": "scatter",
           "x": [
            1,
            3,
            6
           ],
           "y": [
            0.22691571712493896,
            1.1662099361419678,
            2.5751514434814453
           ]
          }
         ]
        },
        {
         "data": [
          {
           "type": "scatter",
           "x": [
            1,
            3,
            6
           ],
           "y": [
            0.32081925868988037,
            1.410544991493225,
            3.045133590698242
           ]
          }
         ]
        },
        {
         "data": [
          {
           "type": "scatter",
           "x": [
            1,
            3,
            6
           ],
           "y": [
            0.41175276041030884,
            1.6470474004745483,
            3.4999892711639404
           ]
          }
         ]
        },
        {
         "data": [
          {
           "type": "scatter",
           "x": [
            1,
            3,
            6
           ],
           "y": [
            0.49981170892715454,
            1.8759692907333374,
            3.9402055740356445
           ]
          }
         ]
        },
        {
         "data": [
          {
           "type": "scatter",
           "x": [
            1,
            3,
            6
           ],
           "y": [
            0.5850883722305298,
            2.0975542068481445,
            4.366252899169922
           ]
          }
         ]
        },
        {
         "data": [
          {
           "type": "scatter",
           "x": [
            1,
            3,
            6
           ],
           "y": [
            0.6676722764968872,
            2.312037467956543,
            4.778585433959961
           ]
          }
         ]
        },
        {
         "data": [
          {
           "type": "scatter",
           "x": [
            1,
            3,
            6
           ],
           "y": [
            0.7476499080657959,
            2.5196480751037598,
            5.177645683288574
           ]
          }
         ]
        },
        {
         "data": [
          {
           "type": "scatter",
           "x": [
            1,
            3,
            6
           ],
           "y": [
            0.8251049518585205,
            2.720606565475464,
            5.563858985900879
           ]
          }
         ]
        },
        {
         "data": [
          {
           "type": "scatter",
           "x": [
            1,
            3,
            6
           ],
           "y": [
            0.9001185297966003,
            2.9151268005371094,
            5.937639236450195
           ]
          }
         ]
        },
        {
         "data": [
          {
           "type": "scatter",
           "x": [
            1,
            3,
            6
           ],
           "y": [
            0.9727690815925598,
            3.1034154891967773,
            6.299385070800781
           ]
          }
         ]
        },
        {
         "data": [
          {
           "type": "scatter",
           "x": [
            1,
            3,
            6
           ],
           "y": [
            1.0431324243545532,
            3.285673141479492,
            6.649484157562256
           ]
          }
         ]
        },
        {
         "data": [
          {
           "type": "scatter",
           "x": [
            1,
            3,
            6
           ],
           "y": [
            1.111282229423523,
            3.4620935916900635,
            6.98831033706665
           ]
          }
         ]
        },
        {
         "data": [
          {
           "type": "scatter",
           "x": [
            1,
            3,
            6
           ],
           "y": [
            1.1772894859313965,
            3.632864236831665,
            7.316226005554199
           ]
          }
         ]
        },
        {
         "data": [
          {
           "type": "scatter",
           "x": [
            1,
            3,
            6
           ],
           "y": [
            1.2412232160568237,
            3.7981669902801514,
            7.633583068847656
           ]
          }
         ]
        },
        {
         "data": [
          {
           "type": "scatter",
           "x": [
            1,
            3,
            6
           ],
           "y": [
            1.303149700164795,
            3.9581775665283203,
            7.940719127655029
           ]
          }
         ]
        },
        {
         "data": [
          {
           "type": "scatter",
           "x": [
            1,
            3,
            6
           ],
           "y": [
            1.3631336688995361,
            4.113065242767334,
            8.23796272277832
           ]
          }
         ]
        },
        {
         "data": [
          {
           "type": "scatter",
           "x": [
            1,
            3,
            6
           ],
           "y": [
            1.4212374687194824,
            4.262995719909668,
            8.525632858276367
           ]
          }
         ]
        },
        {
         "data": [
          {
           "type": "scatter",
           "x": [
            1,
            3,
            6
           ],
           "y": [
            1.4775214195251465,
            4.408127307891846,
            8.804036140441895
           ]
          }
         ]
        },
        {
         "data": [
          {
           "type": "scatter",
           "x": [
            1,
            3,
            6
           ],
           "y": [
            1.5320442914962769,
            4.548615455627441,
            9.073472023010254
           ]
          }
         ]
        },
        {
         "data": [
          {
           "type": "scatter",
           "x": [
            1,
            3,
            6
           ],
           "y": [
            1.5848623514175415,
            4.684608459472656,
            9.334227561950684
           ]
          }
         ]
        },
        {
         "data": [
          {
           "type": "scatter",
           "x": [
            1,
            3,
            6
           ],
           "y": [
            1.6360304355621338,
            4.816251277923584,
            9.58658218383789
           ]
          }
         ]
        },
        {
         "data": [
          {
           "type": "scatter",
           "x": [
            1,
            3,
            6
           ],
           "y": [
            1.685601830482483,
            4.943683624267578,
            9.830805778503418
           ]
          }
         ]
        },
        {
         "data": [
          {
           "type": "scatter",
           "x": [
            1,
            3,
            6
           ],
           "y": [
            1.733627438545227,
            5.06704044342041,
            10.067160606384277
           ]
          }
         ]
        },
        {
         "data": [
          {
           "type": "scatter",
           "x": [
            1,
            3,
            6
           ],
           "y": [
            1.7801570892333984,
            5.186453819274902,
            10.2958984375
           ]
          }
         ]
        },
        {
         "data": [
          {
           "type": "scatter",
           "x": [
            1,
            3,
            6
           ],
           "y": [
            1.825238823890686,
            5.302048683166504,
            10.517263412475586
           ]
          }
         ]
        },
        {
         "data": [
          {
           "type": "scatter",
           "x": [
            1,
            3,
            6
           ],
           "y": [
            1.8689192533493042,
            5.413949012756348,
            10.731493949890137
           ]
          }
         ]
        },
        {
         "data": [
          {
           "type": "scatter",
           "x": [
            1,
            3,
            6
           ],
           "y": [
            1.911243200302124,
            5.522273540496826,
            10.93881893157959
           ]
          }
         ]
        },
        {
         "data": [
          {
           "type": "scatter",
           "x": [
            1,
            3,
            6
           ],
           "y": [
            1.9522544145584106,
            5.627136707305908,
            11.139459609985352
           ]
          }
         ]
        },
        {
         "data": [
          {
           "type": "scatter",
           "x": [
            1,
            3,
            6
           ],
           "y": [
            1.991994857788086,
            5.728650093078613,
            11.333633422851562
           ]
          }
         ]
        },
        {
         "data": [
          {
           "type": "scatter",
           "x": [
            1,
            3,
            6
           ],
           "y": [
            2.030505657196045,
            5.826921463012695,
            11.521544456481934
           ]
          }
         ]
        },
        {
         "data": [
          {
           "type": "scatter",
           "x": [
            1,
            3,
            6
           ],
           "y": [
            2.0678257942199707,
            5.922054290771484,
            11.703396797180176
           ]
          }
         ]
        },
        {
         "data": [
          {
           "type": "scatter",
           "x": [
            1,
            3,
            6
           ],
           "y": [
            2.103994131088257,
            6.0141496658325195,
            11.879383087158203
           ]
          }
         ]
        },
        {
         "data": [
          {
           "type": "scatter",
           "x": [
            1,
            3,
            6
           ],
           "y": [
            2.139047145843506,
            6.103306293487549,
            12.049694061279297
           ]
          }
         ]
        },
        {
         "data": [
          {
           "type": "scatter",
           "x": [
            1,
            3,
            6
           ],
           "y": [
            2.173021078109741,
            6.189617156982422,
            12.214510917663574
           ]
          }
         ]
        },
        {
         "data": [
          {
           "type": "scatter",
           "x": [
            1,
            3,
            6
           ],
           "y": [
            2.2059504985809326,
            6.273174285888672,
            12.37401008605957
           ]
          }
         ]
        },
        {
         "data": [
          {
           "type": "scatter",
           "x": [
            1,
            3,
            6
           ],
           "y": [
            2.2378687858581543,
            6.354066848754883,
            12.528364181518555
           ]
          }
         ]
        },
        {
         "data": [
          {
           "type": "scatter",
           "x": [
            1,
            3,
            6
           ],
           "y": [
            2.268808364868164,
            6.432379245758057,
            12.677736282348633
           ]
          }
         ]
        },
        {
         "data": [
          {
           "type": "scatter",
           "x": [
            1,
            3,
            6
           ],
           "y": [
            2.2988007068634033,
            6.508195400238037,
            12.822286605834961
           ]
          }
         ]
        },
        {
         "data": [
          {
           "type": "scatter",
           "x": [
            1,
            3,
            6
           ],
           "y": [
            2.327876567840576,
            6.581594944000244,
            12.962172508239746
           ]
          }
         ]
        },
        {
         "data": [
          {
           "type": "scatter",
           "x": [
            1,
            3,
            6
           ],
           "y": [
            2.356065034866333,
            6.652655601501465,
            13.097541809082031
           ]
          }
         ]
        },
        {
         "data": [
          {
           "type": "scatter",
           "x": [
            1,
            3,
            6
           ],
           "y": [
            2.383394718170166,
            6.7214531898498535,
            13.228540420532227
           ]
          }
         ]
        },
        {
         "data": [
          {
           "type": "scatter",
           "x": [
            1,
            3,
            6
           ],
           "y": [
            2.409893274307251,
            6.788060188293457,
            13.355310440063477
           ]
          }
         ]
        },
        {
         "data": [
          {
           "type": "scatter",
           "x": [
            1,
            3,
            6
           ],
           "y": [
            2.435587167739868,
            6.852545738220215,
            13.477984428405762
           ]
          }
         ]
        },
        {
         "data": [
          {
           "type": "scatter",
           "x": [
            1,
            3,
            6
           ],
           "y": [
            2.4605021476745605,
            6.914979457855225,
            13.596695899963379
           ]
          }
         ]
        },
        {
         "data": [
          {
           "type": "scatter",
           "x": [
            1,
            3,
            6
           ],
           "y": [
            2.484663724899292,
            6.975427150726318,
            13.711572647094727
           ]
          }
         ]
        },
        {
         "data": [
          {
           "type": "scatter",
           "x": [
            1,
            3,
            6
           ],
           "y": [
            2.5080957412719727,
            7.033951759338379,
            13.822735786437988
           ]
          }
         ]
        },
        {
         "data": [
          {
           "type": "scatter",
           "x": [
            1,
            3,
            6
           ],
           "y": [
            2.5308218002319336,
            7.090616226196289,
            13.930307388305664
           ]
          }
         ]
        },
        {
         "data": [
          {
           "type": "scatter",
           "x": [
            1,
            3,
            6
           ],
           "y": [
            2.5528643131256104,
            7.145479202270508,
            14.034401893615723
           ]
          }
         ]
        },
        {
         "data": [
          {
           "type": "scatter",
           "x": [
            1,
            3,
            6
           ],
           "y": [
            2.5742454528808594,
            7.198599815368652,
            14.135130882263184
           ]
          }
         ]
        },
        {
         "data": [
          {
           "type": "scatter",
           "x": [
            1,
            3,
            6
           ],
           "y": [
            2.5949859619140625,
            7.250032424926758,
            14.2326021194458
           ]
          }
         ]
        },
        {
         "data": [
          {
           "type": "scatter",
           "x": [
            1,
            3,
            6
           ],
           "y": [
            2.615107297897339,
            7.299833297729492,
            14.326921463012695
           ]
          }
         ]
        },
        {
         "data": [
          {
           "type": "scatter",
           "x": [
            1,
            3,
            6
           ],
           "y": [
            2.6346287727355957,
            7.348052501678467,
            14.41818904876709
           ]
          }
         ]
        },
        {
         "data": [
          {
           "type": "scatter",
           "x": [
            1,
            3,
            6
           ],
           "y": [
            2.653569459915161,
            7.3947434425354,
            14.50650405883789
           ]
          }
         ]
        },
        {
         "data": [
          {
           "type": "scatter",
           "x": [
            1,
            3,
            6
           ],
           "y": [
            2.6719484329223633,
            7.439952850341797,
            14.591958999633789
           ]
          }
         ]
        },
        {
         "data": [
          {
           "type": "scatter",
           "x": [
            1,
            3,
            6
           ],
           "y": [
            2.6897833347320557,
            7.483729362487793,
            14.674649238586426
           ]
          }
         ]
        },
        {
         "data": [
          {
           "type": "scatter",
           "x": [
            1,
            3,
            6
           ],
           "y": [
            2.707092046737671,
            7.526120185852051,
            14.754661560058594
           ]
          }
         ]
        },
        {
         "data": [
          {
           "type": "scatter",
           "x": [
            1,
            3,
            6
           ],
           "y": [
            2.723891019821167,
            7.567167282104492,
            14.83208179473877
           ]
          }
         ]
        },
        {
         "data": [
          {
           "type": "scatter",
           "x": [
            1,
            3,
            6
           ],
           "y": [
            2.74019718170166,
            7.606916427612305,
            14.906994819641113
           ]
          }
         ]
        },
        {
         "data": [
          {
           "type": "scatter",
           "x": [
            1,
            3,
            6
           ],
           "y": [
            2.756025552749634,
            7.645407676696777,
            14.979480743408203
           ]
          }
         ]
        },
        {
         "data": [
          {
           "type": "scatter",
           "x": [
            1,
            3,
            6
           ],
           "y": [
            2.771392345428467,
            7.682682037353516,
            15.049616813659668
           ]
          }
         ]
        },
        {
         "data": [
          {
           "type": "scatter",
           "x": [
            1,
            3,
            6
           ],
           "y": [
            2.7863118648529053,
            7.71877908706665,
            15.11747932434082
           ]
          }
         ]
        },
        {
         "data": [
          {
           "type": "scatter",
           "x": [
            1,
            3,
            6
           ],
           "y": [
            2.8007984161376953,
            7.753735542297363,
            15.183141708374023
           ]
          }
         ]
        },
        {
         "data": [
          {
           "type": "scatter",
           "x": [
            1,
            3,
            6
           ],
           "y": [
            2.814866065979004,
            7.787588119506836,
            15.246671676635742
           ]
          }
         ]
        },
        {
         "data": [
          {
           "type": "scatter",
           "x": [
            1,
            3,
            6
           ],
           "y": [
            2.8285281658172607,
            7.82037353515625,
            15.308141708374023
           ]
          }
         ]
        },
        {
         "data": [
          {
           "type": "scatter",
           "x": [
            1,
            3,
            6
           ],
           "y": [
            2.8417978286743164,
            7.852125644683838,
            15.367616653442383
           ]
          }
         ]
        },
        {
         "data": [
          {
           "type": "scatter",
           "x": [
            1,
            3,
            6
           ],
           "y": [
            2.8546876907348633,
            7.882876873016357,
            15.425161361694336
           ]
          }
         ]
        },
        {
         "data": [
          {
           "type": "scatter",
           "x": [
            1,
            3,
            6
           ],
           "y": [
            2.8672096729278564,
            7.912659645080566,
            15.4808349609375
           ]
          }
         ]
        },
        {
         "data": [
          {
           "type": "scatter",
           "x": [
            1,
            3,
            6
           ],
           "y": [
            2.879375696182251,
            7.9415059089660645,
            15.534700393676758
           ]
          }
         ]
        },
        {
         "data": [
          {
           "type": "scatter",
           "x": [
            1,
            3,
            6
           ],
           "y": [
            2.8911972045898438,
            7.969444274902344,
            15.586814880371094
           ]
          }
         ]
        },
        {
         "data": [
          {
           "type": "scatter",
           "x": [
            1,
            3,
            6
           ],
           "y": [
            2.9026851654052734,
            7.996504783630371,
            15.63723373413086
           ]
          }
         ]
        },
        {
         "data": [
          {
           "type": "scatter",
           "x": [
            1,
            3,
            6
           ],
           "y": [
            2.9138503074645996,
            8.02271556854248,
            15.686013221740723
           ]
          }
         ]
        },
        {
         "data": [
          {
           "type": "scatter",
           "x": [
            1,
            3,
            6
           ],
           "y": [
            2.924703359603882,
            8.048104286193848,
            15.733205795288086
           ]
          }
         ]
        },
        {
         "data": [
          {
           "type": "scatter",
           "x": [
            1,
            3,
            6
           ],
           "y": [
            2.935253858566284,
            8.072697639465332,
            15.778862953186035
           ]
          }
         ]
        },
        {
         "data": [
          {
           "type": "scatter",
           "x": [
            1,
            3,
            6
           ],
           "y": [
            2.94551157951355,
            8.096519470214844,
            15.823031425476074
           ]
          }
         ]
        },
        {
         "data": [
          {
           "type": "scatter",
           "x": [
            1,
            3,
            6
           ],
           "y": [
            2.9554860591888428,
            8.119597434997559,
            15.865763664245605
           ]
          }
         ]
        },
        {
         "data": [
          {
           "type": "scatter",
           "x": [
            1,
            3,
            6
           ],
           "y": [
            2.96518611907959,
            8.141951560974121,
            15.907099723815918
           ]
          }
         ]
        },
        {
         "data": [
          {
           "type": "scatter",
           "x": [
            1,
            3,
            6
           ],
           "y": [
            2.974621057510376,
            8.163607597351074,
            15.947088241577148
           ]
          }
         ]
        },
        {
         "data": [
          {
           "type": "scatter",
           "x": [
            1,
            3,
            6
           ],
           "y": [
            2.9837987422943115,
            8.184588432312012,
            15.985773086547852
           ]
          }
         ]
        },
        {
         "data": [
          {
           "type": "scatter",
           "x": [
            1,
            3,
            6
           ],
           "y": [
            2.992727756500244,
            8.204915046691895,
            16.023195266723633
           ]
          }
         ]
        },
        {
         "data": [
          {
           "type": "scatter",
           "x": [
            1,
            3,
            6
           ],
           "y": [
            3.0014162063598633,
            8.224607467651367,
            16.05939483642578
           ]
          }
         ]
        },
        {
         "data": [
          {
           "type": "scatter",
           "x": [
            1,
            3,
            6
           ],
           "y": [
            3.009871482849121,
            8.24368667602539,
            16.094409942626953
           ]
          }
         ]
        },
        {
         "data": [
          {
           "type": "scatter",
           "x": [
            1,
            3,
            6
           ],
           "y": [
            3.018101215362549,
            8.262173652648926,
            16.12828254699707
           ]
          }
         ]
        },
        {
         "data": [
          {
           "type": "scatter",
           "x": [
            1,
            3,
            6
           ],
           "y": [
            3.0261125564575195,
            8.280086517333984,
            16.161046981811523
           ]
          }
         ]
        },
        {
         "data": [
          {
           "type": "scatter",
           "x": [
            1,
            3,
            6
           ],
           "y": [
            3.0339126586914062,
            8.297442436218262,
            16.192737579345703
           ]
          }
         ]
        },
        {
         "data": [
          {
           "type": "scatter",
           "x": [
            1,
            3,
            6
           ],
           "y": [
            3.0415079593658447,
            8.314260482788086,
            16.223390579223633
           ]
          }
         ]
        },
        {
         "data": [
          {
           "type": "scatter",
           "x": [
            1,
            3,
            6
           ],
           "y": [
            3.048905611038208,
            8.330558776855469,
            16.25303840637207
           ]
          }
         ]
        },
        {
         "data": [
          {
           "type": "scatter",
           "x": [
            1,
            3,
            6
           ],
           "y": [
            3.0561113357543945,
            8.346353530883789,
            16.281715393066406
           ]
          }
         ]
        },
        {
         "data": [
          {
           "type": "scatter",
           "x": [
            1,
            3,
            6
           ],
           "y": [
            3.06313157081604,
            8.361659049987793,
            16.309450149536133
           ]
          }
         ]
        },
        {
         "data": [
          {
           "type": "scatter",
           "x": [
            1,
            3,
            6
           ],
           "y": [
            3.069972276687622,
            8.376493453979492,
            16.336275100708008
           ]
          }
         ]
        },
        {
         "data": [
          {
           "type": "scatter",
           "x": [
            1,
            3,
            6
           ],
           "y": [
            3.07663893699646,
            8.390871047973633,
            16.362218856811523
           ]
          }
         ]
        },
        {
         "data": [
          {
           "type": "scatter",
           "x": [
            1,
            3,
            6
           ],
           "y": [
            3.0831375122070312,
            8.404806137084961,
            16.387310028076172
           ]
          }
         ]
        },
        {
         "data": [
          {
           "type": "scatter",
           "x": [
            1,
            3,
            6
           ],
           "y": [
            3.089473247528076,
            8.418313026428223,
            16.41157341003418
           ]
          }
         ]
        },
        {
         "data": [
          {
           "type": "scatter",
           "x": [
            1,
            3,
            6
           ],
           "y": [
            3.095651149749756,
            8.43140697479248,
            16.435039520263672
           ]
          }
         ]
        },
        {
         "data": [
          {
           "type": "scatter",
           "x": [
            1,
            3,
            6
           ],
           "y": [
            3.1016764640808105,
            8.444098472595215,
            16.457731246948242
           ]
          }
         ]
        },
        {
         "data": [
          {
           "type": "scatter",
           "x": [
            1,
            3,
            6
           ],
           "y": [
            3.1075539588928223,
            8.456401824951172,
            16.47967529296875
           ]
          }
         ]
        },
        {
         "data": [
          {
           "type": "scatter",
           "x": [
            1,
            3,
            6
           ],
           "y": [
            3.113288402557373,
            8.468330383300781,
            16.50089454650879
           ]
          }
         ]
        },
        {
         "data": [
          {
           "type": "scatter",
           "x": [
            1,
            3,
            6
           ],
           "y": [
            3.118884325027466,
            8.479894638061523,
            16.52140998840332
           ]
          }
         ]
        },
        {
         "data": [
          {
           "type": "scatter",
           "x": [
            1,
            3,
            6
           ],
           "y": [
            3.1243460178375244,
            8.491107940673828,
            16.541250228881836
           ]
          }
         ]
        },
        {
         "data": [
          {
           "type": "scatter",
           "x": [
            1,
            3,
            6
           ],
           "y": [
            3.129678249359131,
            8.50197982788086,
            16.5604305267334
           ]
          }
         ]
        },
        {
         "data": [
          {
           "type": "scatter",
           "x": [
            1,
            3,
            6
           ],
           "y": [
            3.134884834289551,
            8.512521743774414,
            16.578977584838867
           ]
          }
         ]
        },
        {
         "data": [
          {
           "type": "scatter",
           "x": [
            1,
            3,
            6
           ],
           "y": [
            3.139969825744629,
            8.522745132446289,
            16.596908569335938
           ]
          }
         ]
        },
        {
         "data": [
          {
           "type": "scatter",
           "x": [
            1,
            3,
            6
           ],
           "y": [
            3.1449368000030518,
            8.532659530639648,
            16.61424446105957
           ]
          }
         ]
        },
        {
         "data": [
          {
           "type": "scatter",
           "x": [
            1,
            3,
            6
           ],
           "y": [
            3.149790048599243,
            8.542274475097656,
            16.63100242614746
           ]
          }
         ]
        },
        {
         "data": [
          {
           "type": "scatter",
           "x": [
            1,
            3,
            6
           ],
           "y": [
            3.1545331478118896,
            8.55160140991211,
            16.64720344543457
           ]
          }
         ]
        },
        {
         "data": [
          {
           "type": "scatter",
           "x": [
            1,
            3,
            6
           ],
           "y": [
            3.1591689586639404,
            8.560647010803223,
            16.66286277770996
           ]
          }
         ]
        },
        {
         "data": [
          {
           "type": "scatter",
           "x": [
            1,
            3,
            6
           ],
           "y": [
            3.1637017726898193,
            8.569422721862793,
            16.678003311157227
           ]
          }
         ]
        },
        {
         "data": [
          {
           "type": "scatter",
           "x": [
            1,
            3,
            6
           ],
           "y": [
            3.1681342124938965,
            8.577934265136719,
            16.69263458251953
           ]
          }
         ]
        },
        {
         "data": [
          {
           "type": "scatter",
           "x": [
            1,
            3,
            6
           ],
           "y": [
            3.1724700927734375,
            8.586193084716797,
            16.706777572631836
           ]
          }
         ]
        },
        {
         "data": [
          {
           "type": "scatter",
           "x": [
            1,
            3,
            6
           ],
           "y": [
            3.1767117977142334,
            8.594205856323242,
            16.72044563293457
           ]
          }
         ]
        },
        {
         "data": [
          {
           "type": "scatter",
           "x": [
            1,
            3,
            6
           ],
           "y": [
            3.1808629035949707,
            8.601980209350586,
            16.733657836914062
           ]
          }
         ]
        },
        {
         "data": [
          {
           "type": "scatter",
           "x": [
            1,
            3,
            6
           ],
           "y": [
            3.1849260330200195,
            8.609526634216309,
            16.74642562866211
           ]
          }
         ]
        },
        {
         "data": [
          {
           "type": "scatter",
           "x": [
            1,
            3,
            6
           ],
           "y": [
            3.188904285430908,
            8.61684799194336,
            16.75876235961914
           ]
          }
         ]
        },
        {
         "data": [
          {
           "type": "scatter",
           "x": [
            1,
            3,
            6
           ],
           "y": [
            3.1927998065948486,
            8.623953819274902,
            16.77068519592285
           ]
          }
         ]
        },
        {
         "data": [
          {
           "type": "scatter",
           "x": [
            1,
            3,
            6
           ],
           "y": [
            3.196615695953369,
            8.630851745605469,
            16.78220558166504
           ]
          }
         ]
        },
        {
         "data": [
          {
           "type": "scatter",
           "x": [
            1,
            3,
            6
           ],
           "y": [
            3.2003543376922607,
            8.637547492980957,
            16.793336868286133
           ]
          }
         ]
        },
        {
         "data": [
          {
           "type": "scatter",
           "x": [
            1,
            3,
            6
           ],
           "y": [
            3.2040181159973145,
            8.644046783447266,
            16.804088592529297
           ]
          }
         ]
        },
        {
         "data": [
          {
           "type": "scatter",
           "x": [
            1,
            3,
            6
           ],
           "y": [
            3.2076094150543213,
            8.650357246398926,
            16.81447982788086
           ]
          }
         ]
        },
        {
         "data": [
          {
           "type": "scatter",
           "x": [
            1,
            3,
            6
           ],
           "y": [
            3.2111308574676514,
            8.65648365020752,
            16.824514389038086
           ]
          }
         ]
        },
        {
         "data": [
          {
           "type": "scatter",
           "x": [
            1,
            3,
            6
           ],
           "y": [
            3.2145841121673584,
            8.662434577941895,
            16.834209442138672
           ]
          }
         ]
        },
        {
         "data": [
          {
           "type": "scatter",
           "x": [
            1,
            3,
            6
           ],
           "y": [
            3.2179718017578125,
            8.668211936950684,
            16.843570709228516
           ]
          }
         ]
        },
        {
         "data": [
          {
           "type": "scatter",
           "x": [
            1,
            3,
            6
           ],
           "y": [
            3.2212960720062256,
            8.673824310302734,
            16.852615356445312
           ]
          }
         ]
        },
        {
         "data": [
          {
           "type": "scatter",
           "x": [
            1,
            3,
            6
           ],
           "y": [
            3.2245585918426514,
            8.679275512695312,
            16.861351013183594
           ]
          }
         ]
        },
        {
         "data": [
          {
           "type": "scatter",
           "x": [
            1,
            3,
            6
           ],
           "y": [
            3.2277615070343018,
            8.6845703125,
            16.86978530883789
           ]
          }
         ]
        },
        {
         "data": [
          {
           "type": "scatter",
           "x": [
            1,
            3,
            6
           ],
           "y": [
            3.2309067249298096,
            8.689716339111328,
            16.8779296875
           ]
          }
         ]
        },
        {
         "data": [
          {
           "type": "scatter",
           "x": [
            1,
            3,
            6
           ],
           "y": [
            3.2339959144592285,
            8.694714546203613,
            16.885791778564453
           ]
          }
         ]
        },
        {
         "data": [
          {
           "type": "scatter",
           "x": [
            1,
            3,
            6
           ],
           "y": [
            3.2370309829711914,
            8.699573516845703,
            16.893386840820312
           ]
          }
         ]
        },
        {
         "data": [
          {
           "type": "scatter",
           "x": [
            1,
            3,
            6
           ],
           "y": [
            3.240013599395752,
            8.704294204711914,
            16.900714874267578
           ]
          }
         ]
        },
        {
         "data": [
          {
           "type": "scatter",
           "x": [
            1,
            3,
            6
           ],
           "y": [
            3.242945432662964,
            8.708882331848145,
            16.90778923034668
           ]
          }
         ]
        },
        {
         "data": [
          {
           "type": "scatter",
           "x": [
            1,
            3,
            6
           ],
           "y": [
            3.245828151702881,
            8.71334457397461,
            16.91461753845215
           ]
          }
         ]
        },
        {
         "data": [
          {
           "type": "scatter",
           "x": [
            1,
            3,
            6
           ],
           "y": [
            3.2486634254455566,
            8.717681884765625,
            16.92120933532715
           ]
          }
         ]
        },
        {
         "data": [
          {
           "type": "scatter",
           "x": [
            1,
            3,
            6
           ],
           "y": [
            3.2514524459838867,
            8.721899032592773,
            16.927568435668945
           ]
          }
         ]
        },
        {
         "data": [
          {
           "type": "scatter",
           "x": [
            1,
            3,
            6
           ],
           "y": [
            3.2541966438293457,
            8.72599983215332,
            16.933704376220703
           ]
          }
         ]
        },
        {
         "data": [
          {
           "type": "scatter",
           "x": [
            1,
            3,
            6
           ],
           "y": [
            3.2568979263305664,
            8.729987144470215,
            16.93962287902832
           ]
          }
         ]
        },
        {
         "data": [
          {
           "type": "scatter",
           "x": [
            1,
            3,
            6
           ],
           "y": [
            3.2595572471618652,
            8.733867645263672,
            16.94533348083496
           ]
          }
         ]
        },
        {
         "data": [
          {
           "type": "scatter",
           "x": [
            1,
            3,
            6
           ],
           "y": [
            3.262176036834717,
            8.737642288208008,
            16.950841903686523
           ]
          }
         ]
        },
        {
         "data": [
          {
           "type": "scatter",
           "x": [
            1,
            3,
            6
           ],
           "y": [
            3.2647552490234375,
            8.741315841674805,
            16.95615577697754
           ]
          }
         ]
        },
        {
         "data": [
          {
           "type": "scatter",
           "x": [
            1,
            3,
            6
           ],
           "y": [
            3.267296552658081,
            8.744888305664062,
            16.96127700805664
           ]
          }
         ]
        },
        {
         "data": [
          {
           "type": "scatter",
           "x": [
            1,
            3,
            6
           ],
           "y": [
            3.269801139831543,
            8.748367309570312,
            16.966215133666992
           ]
          }
         ]
        },
        {
         "data": [
          {
           "type": "scatter",
           "x": [
            1,
            3,
            6
           ],
           "y": [
            3.2722699642181396,
            8.751752853393555,
            16.970975875854492
           ]
          }
         ]
        },
        {
         "data": [
          {
           "type": "scatter",
           "x": [
            1,
            3,
            6
           ],
           "y": [
            3.2747044563293457,
            8.755048751831055,
            16.975566864013672
           ]
          }
         ]
        },
        {
         "data": [
          {
           "type": "scatter",
           "x": [
            1,
            3,
            6
           ],
           "y": [
            3.2771053314208984,
            8.758259773254395,
            16.979990005493164
           ]
          }
         ]
        },
        {
         "data": [
          {
           "type": "scatter",
           "x": [
            1,
            3,
            6
           ],
           "y": [
            3.2794740200042725,
            8.761385917663574,
            16.984254837036133
           ]
          }
         ]
        },
        {
         "data": [
          {
           "type": "scatter",
           "x": [
            1,
            3,
            6
           ],
           "y": [
            3.281811237335205,
            8.764430046081543,
            16.988357543945312
           ]
          }
         ]
        },
        {
         "data": [
          {
           "type": "scatter",
           "x": [
            1,
            3,
            6
           ],
           "y": [
            3.2841176986694336,
            8.767396926879883,
            16.9923152923584
           ]
          }
         ]
        },
        {
         "data": [
          {
           "type": "scatter",
           "x": [
            1,
            3,
            6
           ],
           "y": [
            3.2863950729370117,
            8.770286560058594,
            16.996124267578125
           ]
          }
         ]
        },
        {
         "data": [
          {
           "type": "scatter",
           "x": [
            1,
            3,
            6
           ],
           "y": [
            3.2886438369750977,
            8.773104667663574,
            16.999794006347656
           ]
          }
         ]
        },
        {
         "data": [
          {
           "type": "scatter",
           "x": [
            1,
            3,
            6
           ],
           "y": [
            3.290865182876587,
            8.775849342346191,
            17.003324508666992
           ]
          }
         ]
        },
        {
         "data": [
          {
           "type": "scatter",
           "x": [
            1,
            3,
            6
           ],
           "y": [
            3.2930595874786377,
            8.778526306152344,
            17.006725311279297
           ]
          }
         ]
        },
        {
         "data": [
          {
           "type": "scatter",
           "x": [
            1,
            3,
            6
           ],
           "y": [
            3.2952280044555664,
            8.781135559082031,
            17.009998321533203
           ]
          }
         ]
        },
        {
         "data": [
          {
           "type": "scatter",
           "x": [
            1,
            3,
            6
           ],
           "y": [
            3.2973713874816895,
            8.783681869506836,
            17.013147354125977
           ]
          }
         ]
        },
        {
         "data": [
          {
           "type": "scatter",
           "x": [
            1,
            3,
            6
           ],
           "y": [
            3.2994906902313232,
            8.786164283752441,
            17.016176223754883
           ]
          }
         ]
        },
        {
         "data": [
          {
           "type": "scatter",
           "x": [
            1,
            3,
            6
           ],
           "y": [
            3.301586151123047,
            8.788586616516113,
            17.019088745117188
           ]
          }
         ]
        },
        {
         "data": [
          {
           "type": "scatter",
           "x": [
            1,
            3,
            6
           ],
           "y": [
            3.3036584854125977,
            8.790949821472168,
            17.021886825561523
           ]
          }
         ]
        },
        {
         "data": [
          {
           "type": "scatter",
           "x": [
            1,
            3,
            6
           ],
           "y": [
            3.305708885192871,
            8.793256759643555,
            17.024578094482422
           ]
          }
         ]
        },
        {
         "data": [
          {
           "type": "scatter",
           "x": [
            1,
            3,
            6
           ],
           "y": [
            3.3077378273010254,
            8.79550838470459,
            17.027162551879883
           ]
          }
         ]
        },
        {
         "data": [
          {
           "type": "scatter",
           "x": [
            1,
            3,
            6
           ],
           "y": [
            3.309746265411377,
            8.797706604003906,
            17.029645919799805
           ]
          }
         ]
        },
        {
         "data": [
          {
           "type": "scatter",
           "x": [
            1,
            3,
            6
           ],
           "y": [
            3.311734199523926,
            8.799853324890137,
            17.032032012939453
           ]
          }
         ]
        },
        {
         "data": [
          {
           "type": "scatter",
           "x": [
            1,
            3,
            6
           ],
           "y": [
            3.3137028217315674,
            8.80195140838623,
            17.03432273864746
           ]
          }
         ]
        },
        {
         "data": [
          {
           "type": "scatter",
           "x": [
            1,
            3,
            6
           ],
           "y": [
            3.315652370452881,
            8.803999900817871,
            17.036521911621094
           ]
          }
         ]
        },
        {
         "data": [
          {
           "type": "scatter",
           "x": [
            1,
            3,
            6
           ],
           "y": [
            3.3175837993621826,
            8.806001663208008,
            17.03862762451172
           ]
          }
         ]
        },
        {
         "data": [
          {
           "type": "scatter",
           "x": [
            1,
            3,
            6
           ],
           "y": [
            3.3194973468780518,
            8.80795955657959,
            17.040651321411133
           ]
          }
         ]
        },
        {
         "data": [
          {
           "type": "scatter",
           "x": [
            1,
            3,
            6
           ],
           "y": [
            3.3213939666748047,
            8.809871673583984,
            17.04258918762207
           ]
          }
         ]
        },
        {
         "data": [
          {
           "type": "scatter",
           "x": [
            1,
            3,
            6
           ],
           "y": [
            3.3232736587524414,
            8.81174373626709,
            17.044448852539062
           ]
          }
         ]
        },
        {
         "data": [
          {
           "type": "scatter",
           "x": [
            1,
            3,
            6
           ],
           "y": [
            3.3251373767852783,
            8.813573837280273,
            17.046228408813477
           ]
          }
         ]
        },
        {
         "data": [
          {
           "type": "scatter",
           "x": [
            1,
            3,
            6
           ],
           "y": [
            3.3269851207733154,
            8.815364837646484,
            17.04793357849121
           ]
          }
         ]
        },
        {
         "data": [
          {
           "type": "scatter",
           "x": [
            1,
            3,
            6
           ],
           "y": [
            3.328817844390869,
            8.817115783691406,
            17.049562454223633
           ]
          }
         ]
        },
        {
         "data": [
          {
           "type": "scatter",
           "x": [
            1,
            3,
            6
           ],
           "y": [
            3.3306357860565186,
            8.818830490112305,
            17.051122665405273
           ]
          }
         ]
        },
        {
         "data": [
          {
           "type": "scatter",
           "x": [
            1,
            3,
            6
           ],
           "y": [
            3.332439422607422,
            8.82050895690918,
            17.052614212036133
           ]
          }
         ]
        },
        {
         "data": [
          {
           "type": "scatter",
           "x": [
            1,
            3,
            6
           ],
           "y": [
            3.3342292308807373,
            8.822153091430664,
            17.05403709411621
           ]
          }
         ]
        },
        {
         "data": [
          {
           "type": "scatter",
           "x": [
            1,
            3,
            6
           ],
           "y": [
            3.336005687713623,
            8.823762893676758,
            17.055397033691406
           ]
          }
         ]
        },
        {
         "data": [
          {
           "type": "scatter",
           "x": [
            1,
            3,
            6
           ],
           "y": [
            3.337769031524658,
            8.825339317321777,
            17.05669593811035
           ]
          }
         ]
        },
        {
         "data": [
          {
           "type": "scatter",
           "x": [
            1,
            3,
            6
           ],
           "y": [
            3.33951997756958,
            8.826884269714355,
            17.05792999267578
           ]
          }
         ]
        },
        {
         "data": [
          {
           "type": "scatter",
           "x": [
            1,
            3,
            6
           ],
           "y": [
            3.3412585258483887,
            8.828399658203125,
            17.059112548828125
           ]
          }
         ]
        },
        {
         "data": [
          {
           "type": "scatter",
           "x": [
            1,
            3,
            6
           ],
           "y": [
            3.3429853916168213,
            8.82988452911377,
            17.06023406982422
           ]
          }
         ]
        },
        {
         "data": [
          {
           "type": "scatter",
           "x": [
            1,
            3,
            6
           ],
           "y": [
            3.344700336456299,
            8.831341743469238,
            17.061302185058594
           ]
          }
         ]
        },
        {
         "data": [
          {
           "type": "scatter",
           "x": [
            1,
            3,
            6
           ],
           "y": [
            3.346404552459717,
            8.832769393920898,
            17.06231689453125
           ]
          }
         ]
        },
        {
         "data": [
          {
           "type": "scatter",
           "x": [
            1,
            3,
            6
           ],
           "y": [
            3.348097801208496,
            8.834171295166016,
            17.063282012939453
           ]
          }
         ]
        },
        {
         "data": [
          {
           "type": "scatter",
           "x": [
            1,
            3,
            6
           ],
           "y": [
            3.349780559539795,
            8.83554744720459,
            17.064197540283203
           ]
          }
         ]
        },
        {
         "data": [
          {
           "type": "scatter",
           "x": [
            1,
            3,
            6
           ],
           "y": [
            3.3514530658721924,
            8.836896896362305,
            17.0650634765625
           ]
          }
         ]
        },
        {
         "data": [
          {
           "type": "scatter",
           "x": [
            1,
            3,
            6
           ],
           "y": [
            3.3531157970428467,
            8.838223457336426,
            17.065885543823242
           ]
          }
         ]
        },
        {
         "data": [
          {
           "type": "scatter",
           "x": [
            1,
            3,
            6
           ],
           "y": [
            3.354768753051758,
            8.839526176452637,
            17.066661834716797
           ]
          }
         ]
        },
        {
         "data": [
          {
           "type": "scatter",
           "x": [
            1,
            3,
            6
           ],
           "y": [
            3.356412649154663,
            8.840805053710938,
            17.067394256591797
           ]
          }
         ]
        },
        {
         "data": [
          {
           "type": "scatter",
           "x": [
            1,
            3,
            6
           ],
           "y": [
            3.3580474853515625,
            8.842062950134277,
            17.068084716796875
           ]
          }
         ]
        },
        {
         "data": [
          {
           "type": "scatter",
           "x": [
            1,
            3,
            6
           ],
           "y": [
            3.359673500061035,
            8.843297958374023,
            17.068735122680664
           ]
          }
         ]
        },
        {
         "data": [
          {
           "type": "scatter",
           "x": [
            1,
            3,
            6
           ],
           "y": [
            3.36129093170166,
            8.844512939453125,
            17.069345474243164
           ]
          }
         ]
        },
        {
         "data": [
          {
           "type": "scatter",
           "x": [
            1,
            3,
            6
           ],
           "y": [
            3.3629002571105957,
            8.845707893371582,
            17.06991958618164
           ]
          }
         ]
        },
        {
         "data": [
          {
           "type": "scatter",
           "x": [
            1,
            3,
            6
           ],
           "y": [
            3.364501476287842,
            8.846882820129395,
            17.070453643798828
           ]
          }
         ]
        },
        {
         "data": [
          {
           "type": "scatter",
           "x": [
            1,
            3,
            6
           ],
           "y": [
            3.3660950660705566,
            8.848038673400879,
            17.070953369140625
           ]
          }
         ]
        },
        {
         "data": [
          {
           "type": "scatter",
           "x": [
            1,
            3,
            6
           ],
           "y": [
            3.3676810264587402,
            8.849177360534668,
            17.071420669555664
           ]
          }
         ]
        },
        {
         "data": [
          {
           "type": "scatter",
           "x": [
            1,
            3,
            6
           ],
           "y": [
            3.369259834289551,
            8.850297927856445,
            17.071855545043945
           ]
          }
         ]
        },
        {
         "data": [
          {
           "type": "scatter",
           "x": [
            1,
            3,
            6
           ],
           "y": [
            3.3708314895629883,
            8.851401329040527,
            17.072256088256836
           ]
          }
         ]
        },
        {
         "data": [
          {
           "type": "scatter",
           "x": [
            1,
            3,
            6
           ],
           "y": [
            3.3723959922790527,
            8.852487564086914,
            17.0726261138916
           ]
          }
         ]
        },
        {
         "data": [
          {
           "type": "scatter",
           "x": [
            1,
            3,
            6
           ],
           "y": [
            3.3739538192749023,
            8.853557586669922,
            17.07296371459961
           ]
          }
         ]
        },
        {
         "data": [
          {
           "type": "scatter",
           "x": [
            1,
            3,
            6
           ],
           "y": [
            3.3755054473876953,
            8.8546142578125,
            17.07327651977539
           ]
          }
         ]
        },
        {
         "data": [
          {
           "type": "scatter",
           "x": [
            1,
            3,
            6
           ],
           "y": [
            3.3770503997802734,
            8.855652809143066,
            17.07355499267578
           ]
          }
         ]
        },
        {
         "data": [
          {
           "type": "scatter",
           "x": [
            1,
            3,
            6
           ],
           "y": [
            3.378589630126953,
            8.85667896270752,
            17.07381248474121
           ]
          }
         ]
        },
        {
         "data": [
          {
           "type": "scatter",
           "x": [
            1,
            3,
            6
           ],
           "y": [
            3.380122423171997,
            8.85768985748291,
            17.074039459228516
           ]
          }
         ]
        },
        {
         "data": [
          {
           "type": "scatter",
           "x": [
            1,
            3,
            6
           ],
           "y": [
            3.3816494941711426,
            8.858686447143555,
            17.074241638183594
           ]
          }
         ]
        },
        {
         "data": [
          {
           "type": "scatter",
           "x": [
            1,
            3,
            6
           ],
           "y": [
            3.3831710815429688,
            8.859670639038086,
            17.074420928955078
           ]
          }
         ]
        },
        {
         "data": [
          {
           "type": "scatter",
           "x": [
            1,
            3,
            6
           ],
           "y": [
            3.3846871852874756,
            8.860641479492188,
            17.074573516845703
           ]
          }
         ]
        },
        {
         "data": [
          {
           "type": "scatter",
           "x": [
            1,
            3,
            6
           ],
           "y": [
            3.386197805404663,
            8.861599922180176,
            17.074703216552734
           ]
          }
         ]
        },
        {
         "data": [
          {
           "type": "scatter",
           "x": [
            1,
            3,
            6
           ],
           "y": [
            3.3877034187316895,
            8.862546920776367,
            17.074811935424805
           ]
          }
         ]
        },
        {
         "data": [
          {
           "type": "scatter",
           "x": [
            1,
            3,
            6
           ],
           "y": [
            3.3892037868499756,
            8.863482475280762,
            17.074899673461914
           ]
          }
         ]
        },
        {
         "data": [
          {
           "type": "scatter",
           "x": [
            1,
            3,
            6
           ],
           "y": [
            3.3906993865966797,
            8.864405632019043,
            17.07496452331543
           ]
          }
         ]
        },
        {
         "data": [
          {
           "type": "scatter",
           "x": [
            1,
            3,
            6
           ],
           "y": [
            3.3921899795532227,
            8.865317344665527,
            17.075008392333984
           ]
          }
         ]
        },
        {
         "data": [
          {
           "type": "scatter",
           "x": [
            1,
            3,
            6
           ],
           "y": [
            3.393676280975342,
            8.866219520568848,
            17.07503318786621
           ]
          }
         ]
        },
        {
         "data": [
          {
           "type": "scatter",
           "x": [
            1,
            3,
            6
           ],
           "y": [
            3.395158052444458,
            8.867111206054688,
            17.075040817260742
           ]
          }
         ]
        },
        {
         "data": [
          {
           "type": "scatter",
           "x": [
            1,
            3,
            6
           ],
           "y": [
            3.3966355323791504,
            8.867993354797363,
            17.075031280517578
           ]
          }
         ]
        },
        {
         "data": [
          {
           "type": "scatter",
           "x": [
            1,
            3,
            6
           ],
           "y": [
            3.39810848236084,
            8.868865013122559,
            17.07499885559082
           ]
          }
         ]
        },
        {
         "data": [
          {
           "type": "scatter",
           "x": [
            1,
            3,
            6
           ],
           "y": [
            3.3995773792266846,
            8.869728088378906,
            17.074954986572266
           ]
          }
         ]
        },
        {
         "data": [
          {
           "type": "scatter",
           "x": [
            1,
            3,
            6
           ],
           "y": [
            3.4010422229766846,
            8.870580673217773,
            17.07489013671875
           ]
          }
         ]
        },
        {
         "data": [
          {
           "type": "scatter",
           "x": [
            1,
            3,
            6
           ],
           "y": [
            3.402503252029419,
            8.87142562866211,
            17.074810028076172
           ]
          }
         ]
        },
        {
         "data": [
          {
           "type": "scatter",
           "x": [
            1,
            3,
            6
           ],
           "y": [
            3.4039602279663086,
            8.872262954711914,
            17.074716567993164
           ]
          }
         ]
        },
        {
         "data": [
          {
           "type": "scatter",
           "x": [
            1,
            3,
            6
           ],
           "y": [
            3.4054136276245117,
            8.873090744018555,
            17.07460594177246
           ]
          }
         ]
        },
        {
         "data": [
          {
           "type": "scatter",
           "x": [
            1,
            3,
            6
           ],
           "y": [
            3.406863212585449,
            8.873909950256348,
            17.074480056762695
           ]
          }
         ]
        },
        {
         "data": [
          {
           "type": "scatter",
           "x": [
            1,
            3,
            6
           ],
           "y": [
            3.4083092212677,
            8.874722480773926,
            17.0743408203125
           ]
          }
         ]
        },
        {
         "data": [
          {
           "type": "scatter",
           "x": [
            1,
            3,
            6
           ],
           "y": [
            3.4097518920898438,
            8.875526428222656,
            17.074188232421875
           ]
          }
         ]
        },
        {
         "data": [
          {
           "type": "scatter",
           "x": [
            1,
            3,
            6
           ],
           "y": [
            3.411191463470459,
            8.876323699951172,
            17.07402229309082
           ]
          }
         ]
        },
        {
         "data": [
          {
           "type": "scatter",
           "x": [
            1,
            3,
            6
           ],
           "y": [
            3.412627696990967,
            8.877114295959473,
            17.07384490966797
           ]
          }
         ]
        },
        {
         "data": [
          {
           "type": "scatter",
           "x": [
            1,
            3,
            6
           ],
           "y": [
            3.414060592651367,
            8.877898216247559,
            17.07365608215332
           ]
          }
         ]
        },
        {
         "data": [
          {
           "type": "scatter",
           "x": [
            1,
            3,
            6
           ],
           "y": [
            3.4154903888702393,
            8.87867546081543,
            17.07345199584961
           ]
          }
         ]
        },
        {
         "data": [
          {
           "type": "scatter",
           "x": [
            1,
            3,
            6
           ],
           "y": [
            3.416917324066162,
            8.879446029663086,
            17.073240280151367
           ]
          }
         ]
        },
        {
         "data": [
          {
           "type": "scatter",
           "x": [
            1,
            3,
            6
           ],
           "y": [
            3.4183411598205566,
            8.880210876464844,
            17.073015213012695
           ]
          }
         ]
        },
        {
         "data": [
          {
           "type": "scatter",
           "x": [
            1,
            3,
            6
           ],
           "y": [
            3.419761896133423,
            8.88096809387207,
            17.072778701782227
           ]
          }
         ]
        },
        {
         "data": [
          {
           "type": "scatter",
           "x": [
            1,
            3,
            6
           ],
           "y": [
            3.421180248260498,
            8.881720542907715,
            17.072532653808594
           ]
          }
         ]
        },
        {
         "data": [
          {
           "type": "scatter",
           "x": [
            1,
            3,
            6
           ],
           "y": [
            3.422595500946045,
            8.882467269897461,
            17.072275161743164
           ]
          }
         ]
        },
        {
         "data": [
          {
           "type": "scatter",
           "x": [
            1,
            3,
            6
           ],
           "y": [
            3.424008369445801,
            8.883208274841309,
            17.072010040283203
           ]
          }
         ]
        },
        {
         "data": [
          {
           "type": "scatter",
           "x": [
            1,
            3,
            6
           ],
           "y": [
            3.4254183769226074,
            8.88394546508789,
            17.071735382080078
           ]
          }
         ]
        },
        {
         "data": [
          {
           "type": "scatter",
           "x": [
            1,
            3,
            6
           ],
           "y": [
            3.426825761795044,
            8.884675025939941,
            17.071449279785156
           ]
          }
         ]
        },
        {
         "data": [
          {
           "type": "scatter",
           "x": [
            1,
            3,
            6
           ],
           "y": [
            3.4282307624816895,
            8.885400772094727,
            17.071155548095703
           ]
          }
         ]
        },
        {
         "data": [
          {
           "type": "scatter",
           "x": [
            1,
            3,
            6
           ],
           "y": [
            3.429633140563965,
            8.88612174987793,
            17.07085418701172
           ]
          }
         ]
        },
        {
         "data": [
          {
           "type": "scatter",
           "x": [
            1,
            3,
            6
           ],
           "y": [
            3.4310333728790283,
            8.88683795928955,
            17.07054328918457
           ]
          }
         ]
        },
        {
         "data": [
          {
           "type": "scatter",
           "x": [
            1,
            3,
            6
           ],
           "y": [
            3.432431221008301,
            8.887548446655273,
            17.07022476196289
           ]
          }
         ]
        },
        {
         "data": [
          {
           "type": "scatter",
           "x": [
            1,
            3,
            6
           ],
           "y": [
            3.4338266849517822,
            8.88825511932373,
            17.069896697998047
           ]
          }
         ]
        },
        {
         "data": [
          {
           "type": "scatter",
           "x": [
            1,
            3,
            6
           ],
           "y": [
            3.435220241546631,
            8.888957977294922,
            17.069564819335938
           ]
          }
         ]
        },
        {
         "data": [
          {
           "type": "scatter",
           "x": [
            1,
            3,
            6
           ],
           "y": [
            3.4366111755371094,
            8.889657020568848,
            17.069225311279297
           ]
          }
         ]
        },
        {
         "data": [
          {
           "type": "scatter",
           "x": [
            1,
            3,
            6
           ],
           "y": [
            3.438000202178955,
            8.890350341796875,
            17.068876266479492
           ]
          }
         ]
        },
        {
         "data": [
          {
           "type": "scatter",
           "x": [
            1,
            3,
            6
           ],
           "y": [
            3.439387321472168,
            8.89104175567627,
            17.068523406982422
           ]
          }
         ]
        },
        {
         "data": [
          {
           "type": "scatter",
           "x": [
            1,
            3,
            6
           ],
           "y": [
            3.440772294998169,
            8.891728401184082,
            17.06816291809082
           ]
          }
         ]
        },
        {
         "data": [
          {
           "type": "scatter",
           "x": [
            1,
            3,
            6
           ],
           "y": [
            3.442155122756958,
            8.892411231994629,
            17.06779670715332
           ]
          }
         ]
        },
        {
         "data": [
          {
           "type": "scatter",
           "x": [
            1,
            3,
            6
           ],
           "y": [
            3.4435362815856934,
            8.893091201782227,
            17.067424774169922
           ]
          }
         ]
        },
        {
         "data": [
          {
           "type": "scatter",
           "x": [
            1,
            3,
            6
           ],
           "y": [
            3.4449150562286377,
            8.893766403198242,
            17.06704330444336
           ]
          }
         ]
        },
        {
         "data": [
          {
           "type": "scatter",
           "x": [
            1,
            3,
            6
           ],
           "y": [
            3.4462921619415283,
            8.894438743591309,
            17.066659927368164
           ]
          }
         ]
        },
        {
         "data": [
          {
           "type": "scatter",
           "x": [
            1,
            3,
            6
           ],
           "y": [
            3.4476675987243652,
            8.895108222961426,
            17.066268920898438
           ]
          }
         ]
        },
        {
         "data": [
          {
           "type": "scatter",
           "x": [
            1,
            3,
            6
           ],
           "y": [
            3.4490408897399902,
            8.895773887634277,
            17.065872192382812
           ]
          }
         ]
        },
        {
         "data": [
          {
           "type": "scatter",
           "x": [
            1,
            3,
            6
           ],
           "y": [
            3.4504129886627197,
            8.896437644958496,
            17.065473556518555
           ]
          }
         ]
        },
        {
         "data": [
          {
           "type": "scatter",
           "x": [
            1,
            3,
            6
           ],
           "y": [
            3.4517831802368164,
            8.89709758758545,
            17.0650691986084
           ]
          }
         ]
        },
        {
         "data": [
          {
           "type": "scatter",
           "x": [
            1,
            3,
            6
           ],
           "y": [
            3.453151226043701,
            8.897754669189453,
            17.064659118652344
           ]
          }
         ]
        },
        {
         "data": [
          {
           "type": "scatter",
           "x": [
            1,
            3,
            6
           ],
           "y": [
            3.4545180797576904,
            8.898408889770508,
            17.064245223999023
           ]
          }
         ]
        },
        {
         "data": [
          {
           "type": "scatter",
           "x": [
            1,
            3,
            6
           ],
           "y": [
            3.455883026123047,
            8.899060249328613,
            17.063825607299805
           ]
          }
         ]
        },
        {
         "data": [
          {
           "type": "scatter",
           "x": [
            1,
            3,
            6
           ],
           "y": [
            3.4572465419769287,
            8.899707794189453,
            17.063400268554688
           ]
          }
         ]
        },
        {
         "data": [
          {
           "type": "scatter",
           "x": [
            1,
            3,
            6
           ],
           "y": [
            3.458608388900757,
            8.900354385375977,
            17.06297492980957
           ]
          }
         ]
        },
        {
         "data": [
          {
           "type": "scatter",
           "x": [
            1,
            3,
            6
           ],
           "y": [
            3.4599688053131104,
            8.900999069213867,
            17.062543869018555
           ]
          }
         ]
        },
        {
         "data": [
          {
           "type": "scatter",
           "x": [
            1,
            3,
            6
           ],
           "y": [
            3.46132755279541,
            8.901639938354492,
            17.06210708618164
           ]
          }
         ]
        },
        {
         "data": [
          {
           "type": "scatter",
           "x": [
            1,
            3,
            6
           ],
           "y": [
            3.4626848697662354,
            8.902277946472168,
            17.06166648864746
           ]
          }
         ]
        },
        {
         "data": [
          {
           "type": "scatter",
           "x": [
            1,
            3,
            6
           ],
           "y": [
            3.464040756225586,
            8.902915000915527,
            17.06122589111328
           ]
          }
         ]
        },
        {
         "data": [
          {
           "type": "scatter",
           "x": [
            1,
            3,
            6
           ],
           "y": [
            3.465395212173462,
            8.903549194335938,
            17.060779571533203
           ]
          }
         ]
        },
        {
         "data": [
          {
           "type": "scatter",
           "x": [
            1,
            3,
            6
           ],
           "y": [
            3.4667482376098633,
            8.904180526733398,
            17.06032943725586
           ]
          }
         ]
        },
        {
         "data": [
          {
           "type": "scatter",
           "x": [
            1,
            3,
            6
           ],
           "y": [
            3.468100070953369,
            8.90481185913086,
            17.059879302978516
           ]
          }
         ]
        },
        {
         "data": [
          {
           "type": "scatter",
           "x": [
            1,
            3,
            6
           ],
           "y": [
            3.4694504737854004,
            8.905439376831055,
            17.05942153930664
           ]
          }
         ]
        },
        {
         "data": [
          {
           "type": "scatter",
           "x": [
            1,
            3,
            6
           ],
           "y": [
            3.470799446105957,
            8.906064987182617,
            17.058963775634766
           ]
          }
         ]
        },
        {
         "data": [
          {
           "type": "scatter",
           "x": [
            1,
            3,
            6
           ],
           "y": [
            3.472146987915039,
            8.906689643859863,
            17.058502197265625
           ]
          }
         ]
        },
        {
         "data": [
          {
           "type": "scatter",
           "x": [
            1,
            3,
            6
           ],
           "y": [
            3.4734930992126465,
            8.907310485839844,
            17.05803680419922
           ]
          }
         ]
        },
        {
         "data": [
          {
           "type": "scatter",
           "x": [
            1,
            3,
            6
           ],
           "y": [
            3.4748382568359375,
            8.907930374145508,
            17.05756950378418
           ]
          }
         ]
        },
        {
         "data": [
          {
           "type": "scatter",
           "x": [
            1,
            3,
            6
           ],
           "y": [
            3.476181983947754,
            8.908550262451172,
            17.05710220336914
           ]
          }
         ]
        },
        {
         "data": [
          {
           "type": "scatter",
           "x": [
            1,
            3,
            6
           ],
           "y": [
            3.477524757385254,
            8.90916633605957,
            17.056629180908203
           ]
          }
         ]
        },
        {
         "data": [
          {
           "type": "scatter",
           "x": [
            1,
            3,
            6
           ],
           "y": [
            3.4788661003112793,
            8.909781455993652,
            17.056156158447266
           ]
          }
         ]
        },
        {
         "data": [
          {
           "type": "scatter",
           "x": [
            1,
            3,
            6
           ],
           "y": [
            3.48020601272583,
            8.910395622253418,
            17.055679321289062
           ]
          }
         ]
        },
        {
         "data": [
          {
           "type": "scatter",
           "x": [
            1,
            3,
            6
           ],
           "y": [
            3.4815449714660645,
            8.911006927490234,
            17.055198669433594
           ]
          }
         ]
        },
        {
         "data": [
          {
           "type": "scatter",
           "x": [
            1,
            3,
            6
           ],
           "y": [
            3.482882499694824,
            8.911617279052734,
            17.054718017578125
           ]
          }
         ]
        },
        {
         "data": [
          {
           "type": "scatter",
           "x": [
            1,
            3,
            6
           ],
           "y": [
            3.4842190742492676,
            8.912225723266602,
            17.054235458374023
           ]
          }
         ]
        },
        {
         "data": [
          {
           "type": "scatter",
           "x": [
            1,
            3,
            6
           ],
           "y": [
            3.4855542182922363,
            8.912832260131836,
            17.053749084472656
           ]
          }
         ]
        },
        {
         "data": [
          {
           "type": "scatter",
           "x": [
            1,
            3,
            6
           ],
           "y": [
            3.4868886470794678,
            8.913437843322754,
            17.05326271057129
           ]
          }
         ]
        },
        {
         "data": [
          {
           "type": "scatter",
           "x": [
            1,
            3,
            6
           ],
           "y": [
            3.4882216453552246,
            8.914041519165039,
            17.052772521972656
           ]
          }
         ]
        },
        {
         "data": [
          {
           "type": "scatter",
           "x": [
            1,
            3,
            6
           ],
           "y": [
            3.489553689956665,
            8.914644241333008,
            17.05228042602539
           ]
          }
         ]
        },
        {
         "data": [
          {
           "type": "scatter",
           "x": [
            1,
            3,
            6
           ],
           "y": [
            3.490884780883789,
            8.915245056152344,
            17.051786422729492
           ]
          }
         ]
        },
        {
         "data": [
          {
           "type": "scatter",
           "x": [
            1,
            3,
            6
           ],
           "y": [
            3.4922146797180176,
            8.91584587097168,
            17.051294326782227
           ]
          }
         ]
        },
        {
         "data": [
          {
           "type": "scatter",
           "x": [
            1,
            3,
            6
           ],
           "y": [
            3.4935433864593506,
            8.916444778442383,
            17.050798416137695
           ]
          }
         ]
        },
        {
         "data": [
          {
           "type": "scatter",
           "x": [
            1,
            3,
            6
           ],
           "y": [
            3.494871139526367,
            8.91704273223877,
            17.0502986907959
           ]
          }
         ]
        },
        {
         "data": [
          {
           "type": "scatter",
           "x": [
            1,
            3,
            6
           ],
           "y": [
            3.4961977005004883,
            8.91763973236084,
            17.049800872802734
           ]
          }
         ]
        },
        {
         "data": [
          {
           "type": "scatter",
           "x": [
            1,
            3,
            6
           ],
           "y": [
            3.497523546218872,
            8.918233871459961,
            17.049299240112305
           ]
          }
         ]
        },
        {
         "data": [
          {
           "type": "scatter",
           "x": [
            1,
            3,
            6
           ],
           "y": [
            3.4988481998443604,
            8.918828964233398,
            17.048799514770508
           ]
          }
         ]
        },
        {
         "data": [
          {
           "type": "scatter",
           "x": [
            1,
            3,
            6
           ],
           "y": [
            3.500171661376953,
            8.919421195983887,
            17.048294067382812
           ]
          }
         ]
        },
        {
         "data": [
          {
           "type": "scatter",
           "x": [
            1,
            3,
            6
           ],
           "y": [
            3.5014944076538086,
            8.920012474060059,
            17.047788619995117
           ]
          }
         ]
        },
        {
         "data": [
          {
           "type": "scatter",
           "x": [
            1,
            3,
            6
           ],
           "y": [
            3.5028159618377686,
            8.920602798461914,
            17.047283172607422
           ]
          }
         ]
        },
        {
         "data": [
          {
           "type": "scatter",
           "x": [
            1,
            3,
            6
           ],
           "y": [
            3.504136562347412,
            8.921192169189453,
            17.046775817871094
           ]
          }
         ]
        },
        {
         "data": [
          {
           "type": "scatter",
           "x": [
            1,
            3,
            6
           ],
           "y": [
            3.5054564476013184,
            8.921781539916992,
            17.0462703704834
           ]
          }
         ]
        },
        {
         "data": [
          {
           "type": "scatter",
           "x": [
            1,
            3,
            6
           ],
           "y": [
            3.50677490234375,
            8.922368049621582,
            17.045759201049805
           ]
          }
         ]
        },
        {
         "data": [
          {
           "type": "scatter",
           "x": [
            1,
            3,
            6
           ],
           "y": [
            3.5080926418304443,
            8.922954559326172,
            17.04524803161621
           ]
          }
         ]
        },
        {
         "data": [
          {
           "type": "scatter",
           "x": [
            1,
            3,
            6
           ],
           "y": [
            3.5094094276428223,
            8.923540115356445,
            17.044734954833984
           ]
          }
         ]
        },
        {
         "data": [
          {
           "type": "scatter",
           "x": [
            1,
            3,
            6
           ],
           "y": [
            3.510725259780884,
            8.924124717712402,
            17.04422378540039
           ]
          }
         ]
        },
        {
         "data": [
          {
           "type": "scatter",
           "x": [
            1,
            3,
            6
           ],
           "y": [
            3.512040138244629,
            8.924707412719727,
            17.04370880126953
           ]
          }
         ]
        },
        {
         "data": [
          {
           "type": "scatter",
           "x": [
            1,
            3,
            6
           ],
           "y": [
            3.5133543014526367,
            8.925291061401367,
            17.043195724487305
           ]
          }
         ]
        },
        {
         "data": [
          {
           "type": "scatter",
           "x": [
            1,
            3,
            6
           ],
           "y": [
            3.514667510986328,
            8.925873756408691,
            17.042682647705078
           ]
          }
         ]
        },
        {
         "data": [
          {
           "type": "scatter",
           "x": [
            1,
            3,
            6
           ],
           "y": [
            3.5159800052642822,
            8.926454544067383,
            17.04216766357422
           ]
          }
         ]
        },
        {
         "data": [
          {
           "type": "scatter",
           "x": [
            1,
            3,
            6
           ],
           "y": [
            3.517291307449341,
            8.927035331726074,
            17.041650772094727
           ]
          }
         ]
        },
        {
         "data": [
          {
           "type": "scatter",
           "x": [
            1,
            3,
            6
           ],
           "y": [
            3.518601894378662,
            8.92761516571045,
            17.041133880615234
           ]
          }
         ]
        },
        {
         "data": [
          {
           "type": "scatter",
           "x": [
            1,
            3,
            6
           ],
           "y": [
            3.519911527633667,
            8.928194046020508,
            17.040616989135742
           ]
          }
         ]
        },
        {
         "data": [
          {
           "type": "scatter",
           "x": [
            1,
            3,
            6
           ],
           "y": [
            3.5212202072143555,
            8.928771018981934,
            17.040096282958984
           ]
          }
         ]
        },
        {
         "data": [
          {
           "type": "scatter",
           "x": [
            1,
            3,
            6
           ],
           "y": [
            3.5225279331207275,
            8.92934799194336,
            17.03957748413086
           ]
          }
         ]
        },
        {
         "data": [
          {
           "type": "scatter",
           "x": [
            1,
            3,
            6
           ],
           "y": [
            3.5238351821899414,
            8.929924011230469,
            17.039058685302734
           ]
          }
         ]
        },
        {
         "data": [
          {
           "type": "scatter",
           "x": [
            1,
            3,
            6
           ],
           "y": [
            3.5251412391662598,
            8.930500030517578,
            17.038537979125977
           ]
          }
         ]
        },
        {
         "data": [
          {
           "type": "scatter",
           "x": [
            1,
            3,
            6
           ],
           "y": [
            3.526446580886841,
            8.931074142456055,
            17.03801727294922
           ]
          }
         ]
        },
        {
         "data": [
          {
           "type": "scatter",
           "x": [
            1,
            3,
            6
           ],
           "y": [
            3.5277509689331055,
            8.931648254394531,
            17.037494659423828
           ]
          }
         ]
        },
        {
         "data": [
          {
           "type": "scatter",
           "x": [
            1,
            3,
            6
           ],
           "y": [
            3.529054641723633,
            8.932222366333008,
            17.03697395324707
           ]
          }
         ]
        },
        {
         "data": [
          {
           "type": "scatter",
           "x": [
            1,
            3,
            6
           ],
           "y": [
            3.530357599258423,
            8.932795524597168,
            17.03645133972168
           ]
          }
         ]
        },
        {
         "data": [
          {
           "type": "scatter",
           "x": [
            1,
            3,
            6
           ],
           "y": [
            3.5316593647003174,
            8.933367729187012,
            17.03592872619629
           ]
          }
         ]
        },
        {
         "data": [
          {
           "type": "scatter",
           "x": [
            1,
            3,
            6
           ],
           "y": [
            3.5329606533050537,
            8.933938980102539,
            17.0354061126709
           ]
          }
         ]
        },
        {
         "data": [
          {
           "type": "scatter",
           "x": [
            1,
            3,
            6
           ],
           "y": [
            3.5342609882354736,
            8.93450927734375,
            17.034881591796875
           ]
          }
         ]
        },
        {
         "data": [
          {
           "type": "scatter",
           "x": [
            1,
            3,
            6
           ],
           "y": [
            3.535560369491577,
            8.935079574584961,
            17.03435707092285
           ]
          }
         ]
        },
        {
         "data": [
          {
           "type": "scatter",
           "x": [
            1,
            3,
            6
           ],
           "y": [
            3.5368592739105225,
            8.935648918151855,
            17.033832550048828
           ]
          }
         ]
        },
        {
         "data": [
          {
           "type": "scatter",
           "x": [
            1,
            3,
            6
           ],
           "y": [
            3.5381569862365723,
            8.93621826171875,
            17.033309936523438
           ]
          }
         ]
        },
        {
         "data": [
          {
           "type": "scatter",
           "x": [
            1,
            3,
            6
           ],
           "y": [
            3.5394539833068848,
            8.936785697937012,
            17.03278350830078
           ]
          }
         ]
        },
        {
         "data": [
          {
           "type": "scatter",
           "x": [
            1,
            3,
            6
           ],
           "y": [
            3.540750503540039,
            8.93735408782959,
            17.032258987426758
           ]
          }
         ]
        },
        {
         "data": [
          {
           "type": "scatter",
           "x": [
            1,
            3,
            6
           ],
           "y": [
            3.542045831680298,
            8.937920570373535,
            17.0317325592041
           ]
          }
         ]
        },
        {
         "data": [
          {
           "type": "scatter",
           "x": [
            1,
            3,
            6
           ],
           "y": [
            3.5433406829833984,
            8.938488006591797,
            17.031208038330078
           ]
          }
         ]
        },
        {
         "data": [
          {
           "type": "scatter",
           "x": [
            1,
            3,
            6
           ],
           "y": [
            3.5446345806121826,
            8.93905258178711,
            17.03067970275879
           ]
          }
         ]
        },
        {
         "data": [
          {
           "type": "scatter",
           "x": [
            1,
            3,
            6
           ],
           "y": [
            3.5459277629852295,
            8.939619064331055,
            17.030155181884766
           ]
          }
         ]
        },
        {
         "data": [
          {
           "type": "scatter",
           "x": [
            1,
            3,
            6
           ],
           "y": [
            3.547220230102539,
            8.94018268585205,
            17.029626846313477
           ]
          }
         ]
        },
        {
         "data": [
          {
           "type": "scatter",
           "x": [
            1,
            3,
            6
           ],
           "y": [
            3.5485119819641113,
            8.94074821472168,
            17.029102325439453
           ]
          }
         ]
        },
        {
         "data": [
          {
           "type": "scatter",
           "x": [
            1,
            3,
            6
           ],
           "y": [
            3.549802780151367,
            8.941311836242676,
            17.028573989868164
           ]
          }
         ]
        },
        {
         "data": [
          {
           "type": "scatter",
           "x": [
            1,
            3,
            6
           ],
           "y": [
            3.551093101501465,
            8.941875457763672,
            17.028047561645508
           ]
          }
         ]
        },
        {
         "data": [
          {
           "type": "scatter",
           "x": [
            1,
            3,
            6
           ],
           "y": [
            3.552382230758667,
            8.942438125610352,
            17.02752113342285
           ]
          }
         ]
        },
        {
         "data": [
          {
           "type": "scatter",
           "x": [
            1,
            3,
            6
           ],
           "y": [
            3.553670883178711,
            8.943000793457031,
            17.026994705200195
           ]
          }
         ]
        },
        {
         "data": [
          {
           "type": "scatter",
           "x": [
            1,
            3,
            6
           ],
           "y": [
            3.5549588203430176,
            8.943561553955078,
            17.026464462280273
           ]
          }
         ]
        },
        {
         "data": [
          {
           "type": "scatter",
           "x": [
            1,
            3,
            6
           ],
           "y": [
            3.556245803833008,
            8.944123268127441,
            17.025938034057617
           ]
          }
         ]
        },
        {
         "data": [
          {
           "type": "scatter",
           "x": [
            1,
            3,
            6
           ],
           "y": [
            3.5575320720672607,
            8.944683074951172,
            17.025409698486328
           ]
          }
         ]
        },
        {
         "data": [
          {
           "type": "scatter",
           "x": [
            1,
            3,
            6
           ],
           "y": [
            3.5588178634643555,
            8.945243835449219,
            17.024883270263672
           ]
          }
         ]
        },
        {
         "data": [
          {
           "type": "scatter",
           "x": [
            1,
            3,
            6
           ],
           "y": [
            3.5601024627685547,
            8.94580364227295,
            17.024354934692383
           ]
          }
         ]
        },
        {
         "data": [
          {
           "type": "scatter",
           "x": [
            1,
            3,
            6
           ],
           "y": [
            3.5613865852355957,
            8.946362495422363,
            17.023826599121094
           ]
          }
         ]
        },
        {
         "data": [
          {
           "type": "scatter",
           "x": [
            1,
            3,
            6
           ],
           "y": [
            3.5626697540283203,
            8.946921348571777,
            17.023298263549805
           ]
          }
         ]
        },
        {
         "data": [
          {
           "type": "scatter",
           "x": [
            1,
            3,
            6
           ],
           "y": [
            3.5639524459838867,
            8.947479248046875,
            17.022769927978516
           ]
          }
         ]
        },
        {
         "data": [
          {
           "type": "scatter",
           "x": [
            1,
            3,
            6
           ],
           "y": [
            3.5652341842651367,
            8.948037147521973,
            17.022241592407227
           ]
          }
         ]
        },
        {
         "data": [
          {
           "type": "scatter",
           "x": [
            1,
            3,
            6
           ],
           "y": [
            3.5665154457092285,
            8.948594093322754,
            17.021711349487305
           ]
          }
         ]
        },
        {
         "data": [
          {
           "type": "scatter",
           "x": [
            1,
            3,
            6
           ],
           "y": [
            3.567795753479004,
            8.949151992797852,
            17.02118492126465
           ]
          }
         ]
        },
        {
         "data": [
          {
           "type": "scatter",
           "x": [
            1,
            3,
            6
           ],
           "y": [
            3.569075345993042,
            8.949707984924316,
            17.02065658569336
           ]
          }
         ]
        },
        {
         "data": [
          {
           "type": "scatter",
           "x": [
            1,
            3,
            6
           ],
           "y": [
            3.570354461669922,
            8.950263977050781,
            17.02012825012207
           ]
          }
         ]
        },
        {
         "data": [
          {
           "type": "scatter",
           "x": [
            1,
            3,
            6
           ],
           "y": [
            3.5716326236724854,
            8.950819969177246,
            17.01959991455078
           ]
          }
         ]
        },
        {
         "data": [
          {
           "type": "scatter",
           "x": [
            1,
            3,
            6
           ],
           "y": [
            3.5729100704193115,
            8.951375007629395,
            17.019073486328125
           ]
          }
         ]
        },
        {
         "data": [
          {
           "type": "scatter",
           "x": [
            1,
            3,
            6
           ],
           "y": [
            3.5741868019104004,
            8.951930046081543,
            17.018543243408203
           ]
          }
         ]
        },
        {
         "data": [
          {
           "type": "scatter",
           "x": [
            1,
            3,
            6
           ],
           "y": [
            3.575463056564331,
            8.952484130859375,
            17.018016815185547
           ]
          }
         ]
        },
        {
         "data": [
          {
           "type": "scatter",
           "x": [
            1,
            3,
            6
           ],
           "y": [
            3.5767383575439453,
            8.95303726196289,
            17.017486572265625
           ]
          }
         ]
        },
        {
         "data": [
          {
           "type": "scatter",
           "x": [
            1,
            3,
            6
           ],
           "y": [
            3.5780129432678223,
            8.953591346740723,
            17.01696014404297
           ]
          }
         ]
        },
        {
         "data": [
          {
           "type": "scatter",
           "x": [
            1,
            3,
            6
           ],
           "y": [
            3.579287052154541,
            8.954145431518555,
            17.01643180847168
           ]
          }
         ]
        },
        {
         "data": [
          {
           "type": "scatter",
           "x": [
            1,
            3,
            6
           ],
           "y": [
            3.5805602073669434,
            8.95469856262207,
            17.015905380249023
           ]
          }
         ]
        },
        {
         "data": [
          {
           "type": "scatter",
           "x": [
            1,
            3,
            6
           ],
           "y": [
            3.5818328857421875,
            8.95525074005127,
            17.015378952026367
           ]
          }
         ]
        },
        {
         "data": [
          {
           "type": "scatter",
           "x": [
            1,
            3,
            6
           ],
           "y": [
            3.583104372024536,
            8.955801963806152,
            17.014848709106445
           ]
          }
         ]
        },
        {
         "data": [
          {
           "type": "scatter",
           "x": [
            1,
            3,
            6
           ],
           "y": [
            3.5843753814697266,
            8.956353187561035,
            17.014320373535156
           ]
          }
         ]
        },
        {
         "data": [
          {
           "type": "scatter",
           "x": [
            1,
            3,
            6
           ],
           "y": [
            3.585645914077759,
            8.956905364990234,
            17.0137939453125
           ]
          }
         ]
        },
        {
         "data": [
          {
           "type": "scatter",
           "x": [
            1,
            3,
            6
           ],
           "y": [
            3.5869154930114746,
            8.9574556350708,
            17.01326560974121
           ]
          }
         ]
        },
        {
         "data": [
          {
           "type": "scatter",
           "x": [
            1,
            3,
            6
           ],
           "y": [
            3.588184356689453,
            8.958005905151367,
            17.012739181518555
           ]
          }
         ]
        },
        {
         "data": [
          {
           "type": "scatter",
           "x": [
            1,
            3,
            6
           ],
           "y": [
            3.5894527435302734,
            8.95855712890625,
            17.0122127532959
           ]
          }
         ]
        },
        {
         "data": [
          {
           "type": "scatter",
           "x": [
            1,
            3,
            6
           ],
           "y": [
            3.5907204151153564,
            8.9591064453125,
            17.01168441772461
           ]
          }
         ]
        },
        {
         "data": [
          {
           "type": "scatter",
           "x": [
            1,
            3,
            6
           ],
           "y": [
            3.591987133026123,
            8.95965576171875,
            17.011157989501953
           ]
          }
         ]
        },
        {
         "data": [
          {
           "type": "scatter",
           "x": [
            1,
            3,
            6
           ],
           "y": [
            3.5932536125183105,
            8.960204124450684,
            17.010631561279297
           ]
          }
         ]
        },
        {
         "data": [
          {
           "type": "scatter",
           "x": [
            1,
            3,
            6
           ],
           "y": [
            3.5945191383361816,
            8.960753440856934,
            17.01010513305664
           ]
          }
         ]
        },
        {
         "data": [
          {
           "type": "scatter",
           "x": [
            1,
            3,
            6
           ],
           "y": [
            3.5957837104797363,
            8.961301803588867,
            17.009578704833984
           ]
          }
         ]
        },
        {
         "data": [
          {
           "type": "scatter",
           "x": [
            1,
            3,
            6
           ],
           "y": [
            3.597047805786133,
            8.961849212646484,
            17.009052276611328
           ]
          }
         ]
        },
        {
         "data": [
          {
           "type": "scatter",
           "x": [
            1,
            3,
            6
           ],
           "y": [
            3.598311424255371,
            8.962396621704102,
            17.008525848388672
           ]
          }
         ]
        },
        {
         "data": [
          {
           "type": "scatter",
           "x": [
            1,
            3,
            6
           ],
           "y": [
            3.599574089050293,
            8.962944030761719,
            17.007999420166016
           ]
          }
         ]
        },
        {
         "data": [
          {
           "type": "scatter",
           "x": [
            1,
            3,
            6
           ],
           "y": [
            3.6008360385894775,
            8.96349048614502,
            17.007471084594727
           ]
          }
         ]
        },
        {
         "data": [
          {
           "type": "scatter",
           "x": [
            1,
            3,
            6
           ],
           "y": [
            3.602097511291504,
            8.96403694152832,
            17.006946563720703
           ]
          }
         ]
        },
        {
         "data": [
          {
           "type": "scatter",
           "x": [
            1,
            3,
            6
           ],
           "y": [
            3.603358268737793,
            8.964584350585938,
            17.00642204284668
           ]
          }
         ]
        },
        {
         "data": [
          {
           "type": "scatter",
           "x": [
            1,
            3,
            6
           ],
           "y": [
            3.6046183109283447,
            8.965128898620605,
            17.005895614624023
           ]
          }
         ]
        },
        {
         "data": [
          {
           "type": "scatter",
           "x": [
            1,
            3,
            6
           ],
           "y": [
            3.605877637863159,
            8.96567440032959,
            17.00537109375
           ]
          }
         ]
        },
        {
         "data": [
          {
           "type": "scatter",
           "x": [
            1,
            3,
            6
           ],
           "y": [
            3.6071362495422363,
            8.966219902038574,
            17.004846572875977
           ]
          }
         ]
        },
        {
         "data": [
          {
           "type": "scatter",
           "x": [
            1,
            3,
            6
           ],
           "y": [
            3.608394145965576,
            8.966764450073242,
            17.00432014465332
           ]
          }
         ]
        },
        {
         "data": [
          {
           "type": "scatter",
           "x": [
            1,
            3,
            6
           ],
           "y": [
            3.6096513271331787,
            8.96730899810791,
            17.003795623779297
           ]
          }
         ]
        },
        {
         "data": [
          {
           "type": "scatter",
           "x": [
            1,
            3,
            6
           ],
           "y": [
            3.610908031463623,
            8.967853546142578,
            17.003273010253906
           ]
          }
         ]
        },
        {
         "data": [
          {
           "type": "scatter",
           "x": [
            1,
            3,
            6
           ],
           "y": [
            3.61216402053833,
            8.96839714050293,
            17.002748489379883
           ]
          }
         ]
        },
        {
         "data": [
          {
           "type": "scatter",
           "x": [
            1,
            3,
            6
           ],
           "y": [
            3.6134190559387207,
            8.968940734863281,
            17.002222061157227
           ]
          }
         ]
        },
        {
         "data": [
          {
           "type": "scatter",
           "x": [
            1,
            3,
            6
           ],
           "y": [
            3.614673614501953,
            8.969483375549316,
            17.001699447631836
           ]
          }
         ]
        },
        {
         "data": [
          {
           "type": "scatter",
           "x": [
            1,
            3,
            6
           ],
           "y": [
            3.6159276962280273,
            8.970026969909668,
            17.001174926757812
           ]
          }
         ]
        },
        {
         "data": [
          {
           "type": "scatter",
           "x": [
            1,
            3,
            6
           ],
           "y": [
            3.617180824279785,
            8.970569610595703,
            17.000652313232422
           ]
          }
         ]
        },
        {
         "data": [
          {
           "type": "scatter",
           "x": [
            1,
            3,
            6
           ],
           "y": [
            3.6184332370758057,
            8.971111297607422,
            17.0001277923584
           ]
          }
         ]
        },
        {
         "data": [
          {
           "type": "scatter",
           "x": [
            1,
            3,
            6
           ],
           "y": [
            3.619685173034668,
            8.97165298461914,
            16.999605178833008
           ]
          }
         ]
        },
        {
         "data": [
          {
           "type": "scatter",
           "x": [
            1,
            3,
            6
           ],
           "y": [
            3.620936393737793,
            8.972195625305176,
            16.999082565307617
           ]
          }
         ]
        },
        {
         "data": [
          {
           "type": "scatter",
           "x": [
            1,
            3,
            6
           ],
           "y": [
            3.6221868991851807,
            8.972736358642578,
            16.998559951782227
           ]
          }
         ]
        },
        {
         "data": [
          {
           "type": "scatter",
           "x": [
            1,
            3,
            6
           ],
           "y": [
            3.623436689376831,
            8.973276138305664,
            16.998035430908203
           ]
          }
         ]
        },
        {
         "data": [
          {
           "type": "scatter",
           "x": [
            1,
            3,
            6
           ],
           "y": [
            3.624685764312744,
            8.973816871643066,
            16.997514724731445
           ]
          }
         ]
        },
        {
         "data": [
          {
           "type": "scatter",
           "x": [
            1,
            3,
            6
           ],
           "y": [
            3.625934600830078,
            8.974357604980469,
            16.996992111206055
           ]
          }
         ]
        },
        {
         "data": [
          {
           "type": "scatter",
           "x": [
            1,
            3,
            6
           ],
           "y": [
            3.6271822452545166,
            8.974897384643555,
            16.996469497680664
           ]
          }
         ]
        },
        {
         "data": [
          {
           "type": "scatter",
           "x": [
            1,
            3,
            6
           ],
           "y": [
            3.628429412841797,
            8.975436210632324,
            16.995946884155273
           ]
          }
         ]
        },
        {
         "data": [
          {
           "type": "scatter",
           "x": [
            1,
            3,
            6
           ],
           "y": [
            3.62967586517334,
            8.97597599029541,
            16.995426177978516
           ]
          }
         ]
        },
        {
         "data": [
          {
           "type": "scatter",
           "x": [
            1,
            3,
            6
           ],
           "y": [
            3.6309218406677246,
            8.976515769958496,
            16.99490737915039
           ]
          }
         ]
        },
        {
         "data": [
          {
           "type": "scatter",
           "x": [
            1,
            3,
            6
           ],
           "y": [
            3.632166862487793,
            8.97705364227295,
            16.994384765625
           ]
          }
         ]
        },
        {
         "data": [
          {
           "type": "scatter",
           "x": [
            1,
            3,
            6
           ],
           "y": [
            3.633411407470703,
            8.977591514587402,
            16.99386215209961
           ]
          }
         ]
        },
        {
         "data": [
          {
           "type": "scatter",
           "x": [
            1,
            3,
            6
           ],
           "y": [
            3.634655475616455,
            8.978130340576172,
            16.99334144592285
           ]
          }
         ]
        },
        {
         "data": [
          {
           "type": "scatter",
           "x": [
            1,
            3,
            6
           ],
           "y": [
            3.6358985900878906,
            8.978668212890625,
            16.992822647094727
           ]
          }
         ]
        },
        {
         "data": [
          {
           "type": "scatter",
           "x": [
            1,
            3,
            6
           ],
           "y": [
            3.637141227722168,
            8.979206085205078,
            16.99230194091797
           ]
          }
         ]
        },
        {
         "data": [
          {
           "type": "scatter",
           "x": [
            1,
            3,
            6
           ],
           "y": [
            3.638382911682129,
            8.979742050170898,
            16.99178123474121
           ]
          }
         ]
        },
        {
         "data": [
          {
           "type": "scatter",
           "x": [
            1,
            3,
            6
           ],
           "y": [
            3.6396241188049316,
            8.980278968811035,
            16.991262435913086
           ]
          }
         ]
        },
        {
         "data": [
          {
           "type": "scatter",
           "x": [
            1,
            3,
            6
           ],
           "y": [
            3.640864849090576,
            8.980816841125488,
            16.990745544433594
           ]
          }
         ]
        },
        {
         "data": [
          {
           "type": "scatter",
           "x": [
            1,
            3,
            6
           ],
           "y": [
            3.6421046257019043,
            8.981351852416992,
            16.990222930908203
           ]
          }
         ]
        },
        {
         "data": [
          {
           "type": "scatter",
           "x": [
            1,
            3,
            6
           ],
           "y": [
            3.643343925476074,
            8.981887817382812,
            16.989704132080078
           ]
          }
         ]
        },
        {
         "data": [
          {
           "type": "scatter",
           "x": [
            1,
            3,
            6
           ],
           "y": [
            3.644582509994507,
            8.98242473602295,
            16.989187240600586
           ]
          }
         ]
        },
        {
         "data": [
          {
           "type": "scatter",
           "x": [
            1,
            3,
            6
           ],
           "y": [
            3.645820379257202,
            8.982958793640137,
            16.988666534423828
           ]
          }
         ]
        },
        {
         "data": [
          {
           "type": "scatter",
           "x": [
            1,
            3,
            6
           ],
           "y": [
            3.64705753326416,
            8.983492851257324,
            16.988147735595703
           ]
          }
         ]
        },
        {
         "data": [
          {
           "type": "scatter",
           "x": [
            1,
            3,
            6
           ],
           "y": [
            3.648293972015381,
            8.984027862548828,
            16.987628936767578
           ]
          }
         ]
        },
        {
         "data": [
          {
           "type": "scatter",
           "x": [
            1,
            3,
            6
           ],
           "y": [
            3.6495299339294434,
            8.984562873840332,
            16.987112045288086
           ]
          }
         ]
        },
        {
         "data": [
          {
           "type": "scatter",
           "x": [
            1,
            3,
            6
           ],
           "y": [
            3.6507654190063477,
            8.985097885131836,
            16.986595153808594
           ]
          }
         ]
        },
        {
         "data": [
          {
           "type": "scatter",
           "x": [
            1,
            3,
            6
           ],
           "y": [
            3.6519999504089355,
            8.985630989074707,
            16.98607635498047
           ]
          }
         ]
        },
        {
         "data": [
          {
           "type": "scatter",
           "x": [
            1,
            3,
            6
           ],
           "y": [
            3.653233766555786,
            8.986164093017578,
            16.985559463500977
           ]
          }
         ]
        },
        {
         "data": [
          {
           "type": "scatter",
           "x": [
            1,
            3,
            6
           ],
           "y": [
            3.6544671058654785,
            8.986698150634766,
            16.985044479370117
           ]
          }
         ]
        },
        {
         "data": [
          {
           "type": "scatter",
           "x": [
            1,
            3,
            6
           ],
           "y": [
            3.6556997299194336,
            8.98723030090332,
            16.984525680541992
           ]
          }
         ]
        },
        {
         "data": [
          {
           "type": "scatter",
           "x": [
            1,
            3,
            6
           ],
           "y": [
            3.6569316387176514,
            8.987762451171875,
            16.9840087890625
           ]
          }
         ]
        },
        {
         "data": [
          {
           "type": "scatter",
           "x": [
            1,
            3,
            6
           ],
           "y": [
            3.658163070678711,
            8.988295555114746,
            16.98349380493164
           ]
          }
         ]
        },
        {
         "data": [
          {
           "type": "scatter",
           "x": [
            1,
            3,
            6
           ],
           "y": [
            3.659393787384033,
            8.988826751708984,
            16.98297691345215
           ]
          }
         ]
        },
        {
         "data": [
          {
           "type": "scatter",
           "x": [
            1,
            3,
            6
           ],
           "y": [
            3.6606240272521973,
            8.989358901977539,
            16.98246192932129
           ]
          }
         ]
        },
        {
         "data": [
          {
           "type": "scatter",
           "x": [
            1,
            3,
            6
           ],
           "y": [
            3.661853313446045,
            8.989890098571777,
            16.98194694519043
           ]
          }
         ]
        },
        {
         "data": [
          {
           "type": "scatter",
           "x": [
            1,
            3,
            6
           ],
           "y": [
            3.6630821228027344,
            8.990422248840332,
            16.98143196105957
           ]
          }
         ]
        },
        {
         "data": [
          {
           "type": "scatter",
           "x": [
            1,
            3,
            6
           ],
           "y": [
            3.6643099784851074,
            8.990952491760254,
            16.980915069580078
           ]
          }
         ]
        },
        {
         "data": [
          {
           "type": "scatter",
           "x": [
            1,
            3,
            6
           ],
           "y": [
            3.6655375957489014,
            8.991483688354492,
            16.98040199279785
           ]
          }
         ]
        },
        {
         "data": [
          {
           "type": "scatter",
           "x": [
            1,
            3,
            6
           ],
           "y": [
            3.666764259338379,
            8.992013931274414,
            16.979887008666992
           ]
          }
         ]
        },
        {
         "data": [
          {
           "type": "scatter",
           "x": [
            1,
            3,
            6
           ],
           "y": [
            3.6679904460906982,
            8.992544174194336,
            16.979373931884766
           ]
          }
         ]
        },
        {
         "data": [
          {
           "type": "scatter",
           "x": [
            1,
            3,
            6
           ],
           "y": [
            3.6692161560058594,
            8.993073463439941,
            16.978858947753906
           ]
          }
         ]
        },
        {
         "data": [
          {
           "type": "scatter",
           "x": [
            1,
            3,
            6
           ],
           "y": [
            3.670441150665283,
            8.993602752685547,
            16.97834587097168
           ]
          }
         ]
        },
        {
         "data": [
          {
           "type": "scatter",
           "x": [
            1,
            3,
            6
           ],
           "y": [
            3.6716651916503906,
            8.994132041931152,
            16.977832794189453
           ]
          }
         ]
        },
        {
         "data": [
          {
           "type": "scatter",
           "x": [
            1,
            3,
            6
           ],
           "y": [
            3.67288875579834,
            8.994661331176758,
            16.977319717407227
           ]
          }
         ]
        },
        {
         "data": [
          {
           "type": "scatter",
           "x": [
            1,
            3,
            6
           ],
           "y": [
            3.674111843109131,
            8.995189666748047,
            16.976806640625
           ]
          }
         ]
        },
        {
         "data": [
          {
           "type": "scatter",
           "x": [
            1,
            3,
            6
           ],
           "y": [
            3.6753339767456055,
            8.995718002319336,
            16.976293563842773
           ]
          }
         ]
        },
        {
         "data": [
          {
           "type": "scatter",
           "x": [
            1,
            3,
            6
           ],
           "y": [
            3.676555633544922,
            8.996245384216309,
            16.975780487060547
           ]
          }
         ]
        },
        {
         "data": [
          {
           "type": "scatter",
           "x": [
            1,
            3,
            6
           ],
           "y": [
            3.677776575088501,
            8.996773719787598,
            16.975269317626953
           ]
          }
         ]
        },
        {
         "data": [
          {
           "type": "scatter",
           "x": [
            1,
            3,
            6
           ],
           "y": [
            3.678997039794922,
            8.99730110168457,
            16.974756240844727
           ]
          }
         ]
        },
        {
         "data": [
          {
           "type": "scatter",
           "x": [
            1,
            3,
            6
           ],
           "y": [
            3.6802167892456055,
            8.997828483581543,
            16.974245071411133
           ]
          }
         ]
        },
        {
         "data": [
          {
           "type": "scatter",
           "x": [
            1,
            3,
            6
           ],
           "y": [
            3.6814355850219727,
            8.9983549118042,
            16.97373390197754
           ]
          }
         ]
        },
        {
         "data": [
          {
           "type": "scatter",
           "x": [
            1,
            3,
            6
           ],
           "y": [
            3.6826539039611816,
            8.998881340026855,
            16.973222732543945
           ]
          }
         ]
        },
        {
         "data": [
          {
           "type": "scatter",
           "x": [
            1,
            3,
            6
           ],
           "y": [
            3.6838717460632324,
            8.999407768249512,
            16.97271156311035
           ]
          }
         ]
        },
        {
         "data": [
          {
           "type": "scatter",
           "x": [
            1,
            3,
            6
           ],
           "y": [
            3.685089111328125,
            8.999934196472168,
            16.97220230102539
           ]
          }
         ]
        },
        {
         "data": [
          {
           "type": "scatter",
           "x": [
            1,
            3,
            6
           ],
           "y": [
            3.686305522918701,
            9.000459671020508,
            16.971691131591797
           ]
          }
         ]
        },
        {
         "data": [
          {
           "type": "scatter",
           "x": [
            1,
            3,
            6
           ],
           "y": [
            3.68752121925354,
            9.000985145568848,
            16.971179962158203
           ]
          }
         ]
        },
        {
         "data": [
          {
           "type": "scatter",
           "x": [
            1,
            3,
            6
           ],
           "y": [
            3.6887364387512207,
            9.001510620117188,
            16.970670700073242
           ]
          }
         ]
        },
        {
         "data": [
          {
           "type": "scatter",
           "x": [
            1,
            3,
            6
           ],
           "y": [
            3.689950942993164,
            9.002035140991211,
            16.97016143798828
           ]
          }
         ]
        },
        {
         "data": [
          {
           "type": "scatter",
           "x": [
            1,
            3,
            6
           ],
           "y": [
            3.691164970397949,
            9.002559661865234,
            16.96965217590332
           ]
          }
         ]
        },
        {
         "data": [
          {
           "type": "scatter",
           "x": [
            1,
            3,
            6
           ],
           "y": [
            3.692378044128418,
            9.003084182739258,
            16.96914291381836
           ]
          }
         ]
        },
        {
         "data": [
          {
           "type": "scatter",
           "x": [
            1,
            3,
            6
           ],
           "y": [
            3.6935906410217285,
            9.003607749938965,
            16.9686336517334
           ]
          }
         ]
        },
        {
         "data": [
          {
           "type": "scatter",
           "x": [
            1,
            3,
            6
           ],
           "y": [
            3.694802761077881,
            9.004131317138672,
            16.968124389648438
           ]
          }
         ]
        },
        {
         "data": [
          {
           "type": "scatter",
           "x": [
            1,
            3,
            6
           ],
           "y": [
            3.696013927459717,
            9.004654884338379,
            16.967615127563477
           ]
          }
         ]
        },
        {
         "data": [
          {
           "type": "scatter",
           "x": [
            1,
            3,
            6
           ],
           "y": [
            3.6972246170043945,
            9.005178451538086,
            16.96710777282715
           ]
          }
         ]
        },
        {
         "data": [
          {
           "type": "scatter",
           "x": [
            1,
            3,
            6
           ],
           "y": [
            3.698434829711914,
            9.005701065063477,
            16.96660041809082
           ]
          }
         ]
        },
        {
         "data": [
          {
           "type": "scatter",
           "x": [
            1,
            3,
            6
           ],
           "y": [
            3.6996443271636963,
            9.006223678588867,
            16.966093063354492
           ]
          }
         ]
        },
        {
         "data": [
          {
           "type": "scatter",
           "x": [
            1,
            3,
            6
           ],
           "y": [
            3.700852870941162,
            9.006746292114258,
            16.965585708618164
           ]
          }
         ]
        },
        {
         "data": [
          {
           "type": "scatter",
           "x": [
            1,
            3,
            6
           ],
           "y": [
            3.702061176300049,
            9.007267951965332,
            16.965078353881836
           ]
          }
         ]
        },
        {
         "data": [
          {
           "type": "scatter",
           "x": [
            1,
            3,
            6
           ],
           "y": [
            3.703268527984619,
            9.007789611816406,
            16.964570999145508
           ]
          }
         ]
        },
        {
         "data": [
          {
           "type": "scatter",
           "x": [
            1,
            3,
            6
           ],
           "y": [
            3.7044756412506104,
            9.00831127166748,
            16.964065551757812
           ]
          }
         ]
        },
        {
         "data": [
          {
           "type": "scatter",
           "x": [
            1,
            3,
            6
           ],
           "y": [
            3.705681800842285,
            9.008832931518555,
            16.963558197021484
           ]
          }
         ]
        },
        {
         "data": [
          {
           "type": "scatter",
           "x": [
            1,
            3,
            6
           ],
           "y": [
            3.7068872451782227,
            9.009353637695312,
            16.96305274963379
           ]
          }
         ]
        },
        {
         "data": [
          {
           "type": "scatter",
           "x": [
            1,
            3,
            6
           ],
           "y": [
            3.708092212677002,
            9.00987434387207,
            16.962547302246094
           ]
          }
         ]
        },
        {
         "data": [
          {
           "type": "scatter",
           "x": [
            1,
            3,
            6
           ],
           "y": [
            3.709296703338623,
            9.010395050048828,
            16.9620418548584
           ]
          }
         ]
        },
        {
         "data": [
          {
           "type": "scatter",
           "x": [
            1,
            3,
            6
           ],
           "y": [
            3.710500478744507,
            9.01091480255127,
            16.961536407470703
           ]
          }
         ]
        },
        {
         "data": [
          {
           "type": "scatter",
           "x": [
            1,
            3,
            6
           ],
           "y": [
            3.7117035388946533,
            9.011434555053711,
            16.961030960083008
           ]
          }
         ]
        },
        {
         "data": [
          {
           "type": "scatter",
           "x": [
            1,
            3,
            6
           ],
           "y": [
            3.7129058837890625,
            9.011954307556152,
            16.960525512695312
           ]
          }
         ]
        },
        {
         "data": [
          {
           "type": "scatter",
           "x": [
            1,
            3,
            6
           ],
           "y": [
            3.7141079902648926,
            9.012473106384277,
            16.96002197265625
           ]
          }
         ]
        },
        {
         "data": [
          {
           "type": "scatter",
           "x": [
            1,
            3,
            6
           ],
           "y": [
            3.715308904647827,
            9.012991905212402,
            16.959516525268555
           ]
          }
         ]
        },
        {
         "data": [
          {
           "type": "scatter",
           "x": [
            1,
            3,
            6
           ],
           "y": [
            3.7165093421936035,
            9.013510704040527,
            16.959012985229492
           ]
          }
         ]
        },
        {
         "data": [
          {
           "type": "scatter",
           "x": [
            1,
            3,
            6
           ],
           "y": [
            3.717709541320801,
            9.014029502868652,
            16.95850944519043
           ]
          }
         ]
        },
        {
         "data": [
          {
           "type": "scatter",
           "x": [
            1,
            3,
            6
           ],
           "y": [
            3.7189087867736816,
            9.014547348022461,
            16.958005905151367
           ]
          }
         ]
        },
        {
         "data": [
          {
           "type": "scatter",
           "x": [
            1,
            3,
            6
           ],
           "y": [
            3.720107316970825,
            9.01506519317627,
            16.957502365112305
           ]
          }
         ]
        },
        {
         "data": [
          {
           "type": "scatter",
           "x": [
            1,
            3,
            6
           ],
           "y": [
            3.7213053703308105,
            9.015583038330078,
            16.957000732421875
           ]
          }
         ]
        },
        {
         "data": [
          {
           "type": "scatter",
           "x": [
            1,
            3,
            6
           ],
           "y": [
            3.7225027084350586,
            9.01609992980957,
            16.956497192382812
           ]
          }
         ]
        },
        {
         "data": [
          {
           "type": "scatter",
           "x": [
            1,
            3,
            6
           ],
           "y": [
            3.7236995697021484,
            9.016617774963379,
            16.955995559692383
           ]
          }
         ]
        },
        {
         "data": [
          {
           "type": "scatter",
           "x": [
            1,
            3,
            6
           ],
           "y": [
            3.724895477294922,
            9.017134666442871,
            16.95549201965332
           ]
          }
         ]
        },
        {
         "data": [
          {
           "type": "scatter",
           "x": [
            1,
            3,
            6
           ],
           "y": [
            3.726090908050537,
            9.017650604248047,
            16.95499038696289
           ]
          }
         ]
        },
        {
         "data": [
          {
           "type": "scatter",
           "x": [
            1,
            3,
            6
           ],
           "y": [
            3.727285861968994,
            9.018167495727539,
            16.95448875427246
           ]
          }
         ]
        },
        {
         "data": [
          {
           "type": "scatter",
           "x": [
            1,
            3,
            6
           ],
           "y": [
            3.728480339050293,
            9.018683433532715,
            16.95398712158203
           ]
          }
         ]
        },
        {
         "data": [
          {
           "type": "scatter",
           "x": [
            1,
            3,
            6
           ],
           "y": [
            3.7296738624572754,
            9.01919937133789,
            16.953487396240234
           ]
          }
         ]
        },
        {
         "data": [
          {
           "type": "scatter",
           "x": [
            1,
            3,
            6
           ],
           "y": [
            3.7308669090270996,
            9.01971435546875,
            16.952985763549805
           ]
          }
         ]
        },
        {
         "data": [
          {
           "type": "scatter",
           "x": [
            1,
            3,
            6
           ],
           "y": [
            3.7320592403411865,
            9.02022933959961,
            16.952486038208008
           ]
          }
         ]
        },
        {
         "data": [
          {
           "type": "scatter",
           "x": [
            1,
            3,
            6
           ],
           "y": [
            3.733250856399536,
            9.020744323730469,
            16.951984405517578
           ]
          }
         ]
        },
        {
         "data": [
          {
           "type": "scatter",
           "x": [
            1,
            3,
            6
           ],
           "y": [
            3.7344417572021484,
            9.021258354187012,
            16.95148277282715
           ]
          }
         ]
        },
        {
         "data": [
          {
           "type": "scatter",
           "x": [
            1,
            3,
            6
           ],
           "y": [
            3.7356324195861816,
            9.021772384643555,
            16.95098304748535
           ]
          }
         ]
        },
        {
         "data": [
          {
           "type": "scatter",
           "x": [
            1,
            3,
            6
           ],
           "y": [
            3.7368221282958984,
            9.022286415100098,
            16.950483322143555
           ]
          }
         ]
        },
        {
         "data": [
          {
           "type": "scatter",
           "x": [
            1,
            3,
            6
           ],
           "y": [
            3.738011360168457,
            9.02280044555664,
            16.949983596801758
           ]
          }
         ]
        },
        {
         "data": [
          {
           "type": "scatter",
           "x": [
            1,
            3,
            6
           ],
           "y": [
            3.7391998767852783,
            9.023313522338867,
            16.94948387145996
           ]
          }
         ]
        },
        {
         "data": [
          {
           "type": "scatter",
           "x": [
            1,
            3,
            6
           ],
           "y": [
            3.7403879165649414,
            9.023826599121094,
            16.948986053466797
           ]
          }
         ]
        },
        {
         "data": [
          {
           "type": "scatter",
           "x": [
            1,
            3,
            6
           ],
           "y": [
            3.741575241088867,
            9.024340629577637,
            16.948488235473633
           ]
          }
         ]
        },
        {
         "data": [
          {
           "type": "scatter",
           "x": [
            1,
            3,
            6
           ],
           "y": [
            3.7427618503570557,
            9.024852752685547,
            16.947988510131836
           ]
          }
         ]
        },
        {
         "data": [
          {
           "type": "scatter",
           "x": [
            1,
            3,
            6
           ],
           "y": [
            3.743947982788086,
            9.025364875793457,
            16.947490692138672
           ]
          }
         ]
        },
        {
         "data": [
          {
           "type": "scatter",
           "x": [
            1,
            3,
            6
           ],
           "y": [
            3.745133399963379,
            9.025876998901367,
            16.946992874145508
           ]
          }
         ]
        },
        {
         "data": [
          {
           "type": "scatter",
           "x": [
            1,
            3,
            6
           ],
           "y": [
            3.7463183403015137,
            9.026389122009277,
            16.946495056152344
           ]
          }
         ]
        },
        {
         "data": [
          {
           "type": "scatter",
           "x": [
            1,
            3,
            6
           ],
           "y": [
            3.747502326965332,
            9.026900291442871,
            16.94599723815918
           ]
          }
         ]
        },
        {
         "data": [
          {
           "type": "scatter",
           "x": [
            1,
            3,
            6
           ],
           "y": [
            3.748685836791992,
            9.027411460876465,
            16.945499420166016
           ]
          }
         ]
        },
        {
         "data": [
          {
           "type": "scatter",
           "x": [
            1,
            3,
            6
           ],
           "y": [
            3.749868869781494,
            9.027922630310059,
            16.945003509521484
           ]
          }
         ]
        },
        {
         "data": [
          {
           "type": "scatter",
           "x": [
            1,
            3,
            6
           ],
           "y": [
            3.751051425933838,
            9.028433799743652,
            16.944507598876953
           ]
          }
         ]
        },
        {
         "data": [
          {
           "type": "scatter",
           "x": [
            1,
            3,
            6
           ],
           "y": [
            3.7522330284118652,
            9.02894401550293,
            16.944011688232422
           ]
          }
         ]
        },
        {
         "data": [
          {
           "type": "scatter",
           "x": [
            1,
            3,
            6
           ],
           "y": [
            3.7534141540527344,
            9.029454231262207,
            16.943513870239258
           ]
          }
         ]
        },
        {
         "data": [
          {
           "type": "scatter",
           "x": [
            1,
            3,
            6
           ],
           "y": [
            3.7545948028564453,
            9.029964447021484,
            16.943017959594727
           ]
          }
         ]
        },
        {
         "data": [
          {
           "type": "scatter",
           "x": [
            1,
            3,
            6
           ],
           "y": [
            3.75577449798584,
            9.030473709106445,
            16.942523956298828
           ]
          }
         ]
        },
        {
         "data": [
          {
           "type": "scatter",
           "x": [
            1,
            3,
            6
           ],
           "y": [
            3.756953716278076,
            9.030983924865723,
            16.942028045654297
           ]
          }
         ]
        },
        {
         "data": [
          {
           "type": "scatter",
           "x": [
            1,
            3,
            6
           ],
           "y": [
            3.7581324577331543,
            9.031492233276367,
            16.941532135009766
           ]
          }
         ]
        },
        {
         "data": [
          {
           "type": "scatter",
           "x": [
            1,
            3,
            6
           ],
           "y": [
            3.759310483932495,
            9.032001495361328,
            16.941038131713867
           ]
          }
         ]
        },
        {
         "data": [
          {
           "type": "scatter",
           "x": [
            1,
            3,
            6
           ],
           "y": [
            3.7604880332946777,
            9.032510757446289,
            16.9405460357666
           ]
          }
         ]
        },
        {
         "data": [
          {
           "type": "scatter",
           "x": [
            1,
            3,
            6
           ],
           "y": [
            3.761664867401123,
            9.033019065856934,
            16.94005012512207
           ]
          }
         ]
        },
        {
         "data": [
          {
           "type": "scatter",
           "x": [
            1,
            3,
            6
           ],
           "y": [
            3.762840747833252,
            9.033527374267578,
            16.939556121826172
           ]
          }
         ]
        },
        {
         "data": [
          {
           "type": "scatter",
           "x": [
            1,
            3,
            6
           ],
           "y": [
            3.764016628265381,
            9.034034729003906,
            16.939062118530273
           ]
          }
         ]
        },
        {
         "data": [
          {
           "type": "scatter",
           "x": [
            1,
            3,
            6
           ],
           "y": [
            3.7651915550231934,
            9.03454303741455,
            16.938570022583008
           ]
          }
         ]
        },
        {
         "data": [
          {
           "type": "scatter",
           "x": [
            1,
            3,
            6
           ],
           "y": [
            3.7663657665252686,
            9.035050392150879,
            16.93807601928711
           ]
          }
         ]
        },
        {
         "data": [
          {
           "type": "scatter",
           "x": [
            1,
            3,
            6
           ],
           "y": [
            3.7675395011901855,
            9.03555679321289,
            16.937583923339844
           ]
          }
         ]
        },
        {
         "data": [
          {
           "type": "scatter",
           "x": [
            1,
            3,
            6
           ],
           "y": [
            3.7687125205993652,
            9.036064147949219,
            16.937091827392578
           ]
          }
         ]
        },
        {
         "data": [
          {
           "type": "scatter",
           "x": [
            1,
            3,
            6
           ],
           "y": [
            3.7698850631713867,
            9.03657054901123,
            16.93659782409668
           ]
          }
         ]
        },
        {
         "data": [
          {
           "type": "scatter",
           "x": [
            1,
            3,
            6
           ],
           "y": [
            3.771056652069092,
            9.037076950073242,
            16.936105728149414
           ]
          }
         ]
        },
        {
         "data": [
          {
           "type": "scatter",
           "x": [
            1,
            3,
            6
           ],
           "y": [
            3.7722280025482178,
            9.037582397460938,
            16.93561553955078
           ]
          }
         ]
        },
        {
         "data": [
          {
           "type": "scatter",
           "x": [
            1,
            3,
            6
           ],
           "y": [
            3.7733986377716064,
            9.038087844848633,
            16.935123443603516
           ]
          }
         ]
        },
        {
         "data": [
          {
           "type": "scatter",
           "x": [
            1,
            3,
            6
           ],
           "y": [
            3.774568557739258,
            9.038594245910645,
            16.93463134765625
           ]
          }
         ]
        },
        {
         "data": [
          {
           "type": "scatter",
           "x": [
            1,
            3,
            6
           ],
           "y": [
            3.775737762451172,
            9.039098739624023,
            16.934141159057617
           ]
          }
         ]
        },
        {
         "data": [
          {
           "type": "scatter",
           "x": [
            1,
            3,
            6
           ],
           "y": [
            3.776906728744507,
            9.039604187011719,
            16.93364906311035
           ]
          }
         ]
        },
        {
         "data": [
          {
           "type": "scatter",
           "x": [
            1,
            3,
            6
           ],
           "y": [
            3.7780749797821045,
            9.040109634399414,
            16.93316078186035
           ]
          }
         ]
        },
        {
         "data": [
          {
           "type": "scatter",
           "x": [
            1,
            3,
            6
           ],
           "y": [
            3.779242515563965,
            9.040613174438477,
            16.932668685913086
           ]
          }
         ]
        },
        {
         "data": [
          {
           "type": "scatter",
           "x": [
            1,
            3,
            6
           ],
           "y": [
            3.780409336090088,
            9.041116714477539,
            16.932178497314453
           ]
          }
         ]
        },
        {
         "data": [
          {
           "type": "scatter",
           "x": [
            1,
            3,
            6
           ],
           "y": [
            3.7815756797790527,
            9.041621208190918,
            16.93168830871582
           ]
          }
         ]
        },
        {
         "data": [
          {
           "type": "scatter",
           "x": [
            1,
            3,
            6
           ],
           "y": [
            3.7827413082122803,
            9.04212474822998,
            16.93120002746582
           ]
          }
         ]
        },
        {
         "data": [
          {
           "type": "scatter",
           "x": [
            1,
            3,
            6
           ],
           "y": [
            3.7839064598083496,
            9.042627334594727,
            16.930709838867188
           ]
          }
         ]
        },
        {
         "data": [
          {
           "type": "scatter",
           "x": [
            1,
            3,
            6
           ],
           "y": [
            3.7850708961486816,
            9.043130874633789,
            16.930219650268555
           ]
          }
         ]
        },
        {
         "data": [
          {
           "type": "scatter",
           "x": [
            1,
            3,
            6
           ],
           "y": [
            3.7862348556518555,
            9.043634414672852,
            16.929733276367188
           ]
          }
         ]
        },
        {
         "data": [
          {
           "type": "scatter",
           "x": [
            1,
            3,
            6
           ],
           "y": [
            3.787397861480713,
            9.044136047363281,
            16.929243087768555
           ]
          }
         ]
        },
        {
         "data": [
          {
           "type": "scatter",
           "x": [
            1,
            3,
            6
           ],
           "y": [
            3.788560390472412,
            9.044638633728027,
            16.928754806518555
           ]
          }
         ]
        },
        {
         "data": [
          {
           "type": "scatter",
           "x": [
            1,
            3,
            6
           ],
           "y": [
            3.789722442626953,
            9.045140266418457,
            16.928266525268555
           ]
          }
         ]
        },
        {
         "data": [
          {
           "type": "scatter",
           "x": [
            1,
            3,
            6
           ],
           "y": [
            3.790884017944336,
            9.045641899108887,
            16.927780151367188
           ]
          }
         ]
        },
        {
         "data": [
          {
           "type": "scatter",
           "x": [
            1,
            3,
            6
           ],
           "y": [
            3.7920446395874023,
            9.046143531799316,
            16.927291870117188
           ]
          }
         ]
        },
        {
         "data": [
          {
           "type": "scatter",
           "x": [
            1,
            3,
            6
           ],
           "y": [
            3.7932047843933105,
            9.046645164489746,
            16.92680549621582
           ]
          }
         ]
        },
        {
         "data": [
          {
           "type": "scatter",
           "x": [
            1,
            3,
            6
           ],
           "y": [
            3.7943644523620605,
            9.04714584350586,
            16.926319122314453
           ]
          }
         ]
        },
        {
         "data": [
          {
           "type": "scatter",
           "x": [
            1,
            3,
            6
           ],
           "y": [
            3.7955234050750732,
            9.047646522521973,
            16.925830841064453
           ]
          }
         ]
        },
        {
         "data": [
          {
           "type": "scatter",
           "x": [
            1,
            3,
            6
           ],
           "y": [
            3.7966818809509277,
            9.04814624786377,
            16.925344467163086
           ]
          }
         ]
        },
        {
         "data": [
          {
           "type": "scatter",
           "x": [
            1,
            3,
            6
           ],
           "y": [
            3.797839641571045,
            9.048646926879883,
            16.92485809326172
           ]
          }
         ]
        },
        {
         "data": [
          {
           "type": "scatter",
           "x": [
            1,
            3,
            6
           ],
           "y": [
            3.798996925354004,
            9.04914665222168,
            16.92437171936035
           ]
          }
         ]
        },
        {
         "data": [
          {
           "type": "scatter",
           "x": [
            1,
            3,
            6
           ],
           "y": [
            3.8001532554626465,
            9.049646377563477,
            16.923887252807617
           ]
          }
         ]
        },
        {
         "data": [
          {
           "type": "scatter",
           "x": [
            1,
            3,
            6
           ],
           "y": [
            3.801309108734131,
            9.050146102905273,
            16.92340087890625
           ]
          }
         ]
        },
        {
         "data": [
          {
           "type": "scatter",
           "x": [
            1,
            3,
            6
           ],
           "y": [
            3.802464485168457,
            9.050644874572754,
            16.922916412353516
           ]
          }
         ]
        },
        {
         "data": [
          {
           "type": "scatter",
           "x": [
            1,
            3,
            6
           ],
           "y": [
            3.803619384765625,
            9.05114459991455,
            16.92243194580078
           ]
          }
         ]
        },
        {
         "data": [
          {
           "type": "scatter",
           "x": [
            1,
            3,
            6
           ],
           "y": [
            3.8047733306884766,
            9.051642417907715,
            16.921945571899414
           ]
          }
         ]
        },
        {
         "data": [
          {
           "type": "scatter",
           "x": [
            1,
            3,
            6
           ],
           "y": [
            3.80592679977417,
            9.052141189575195,
            16.92146110534668
           ]
          }
         ]
        },
        {
         "data": [
          {
           "type": "scatter",
           "x": [
            1,
            3,
            6
           ],
           "y": [
            3.807079792022705,
            9.05263900756836,
            16.920976638793945
           ]
          }
         ]
        },
        {
         "data": [
          {
           "type": "scatter",
           "x": [
            1,
            3,
            6
           ],
           "y": [
            3.808231830596924,
            9.053136825561523,
            16.920494079589844
           ]
          }
         ]
        },
        {
         "data": [
          {
           "type": "scatter",
           "x": [
            1,
            3,
            6
           ],
           "y": [
            3.8093836307525635,
            9.053633689880371,
            16.92000961303711
           ]
          }
         ]
        },
        {
         "data": [
          {
           "type": "scatter",
           "x": [
            1,
            3,
            6
           ],
           "y": [
            3.810534715652466,
            9.054130554199219,
            16.919525146484375
           ]
          }
         ]
        },
        {
         "data": [
          {
           "type": "scatter",
           "x": [
            1,
            3,
            6
           ],
           "y": [
            3.81168532371521,
            9.054628372192383,
            16.919044494628906
           ]
          }
         ]
        },
        {
         "data": [
          {
           "type": "scatter",
           "x": [
            1,
            3,
            6
           ],
           "y": [
            3.812835216522217,
            9.05512523651123,
            16.918560028076172
           ]
          }
         ]
        },
        {
         "data": [
          {
           "type": "scatter",
           "x": [
            1,
            3,
            6
           ],
           "y": [
            3.8139843940734863,
            9.055622100830078,
            16.91807746887207
           ]
          }
         ]
        },
        {
         "data": [
          {
           "type": "scatter",
           "x": [
            1,
            3,
            6
           ],
           "y": [
            3.8151330947875977,
            9.05611801147461,
            16.91759490966797
           ]
          }
         ]
        },
        {
         "data": [
          {
           "type": "scatter",
           "x": [
            1,
            3,
            6
           ],
           "y": [
            3.8162810802459717,
            9.05661392211914,
            16.917112350463867
           ]
          }
         ]
        },
        {
         "data": [
          {
           "type": "scatter",
           "x": [
            1,
            3,
            6
           ],
           "y": [
            3.8174285888671875,
            9.057108879089355,
            16.916629791259766
           ]
          }
         ]
        },
        {
         "data": [
          {
           "type": "scatter",
           "x": [
            1,
            3,
            6
           ],
           "y": [
            3.818575382232666,
            9.057604789733887,
            16.916149139404297
           ]
          }
         ]
        },
        {
         "data": [
          {
           "type": "scatter",
           "x": [
            1,
            3,
            6
           ],
           "y": [
            3.8197216987609863,
            9.058099746704102,
            16.915668487548828
           ]
          }
         ]
        },
        {
         "data": [
          {
           "type": "scatter",
           "x": [
            1,
            3,
            6
           ],
           "y": [
            3.8208673000335693,
            9.058594703674316,
            16.915185928344727
           ]
          }
         ]
        },
        {
         "data": [
          {
           "type": "scatter",
           "x": [
            1,
            3,
            6
           ],
           "y": [
            3.822012424468994,
            9.059089660644531,
            16.914705276489258
           ]
          }
         ]
        },
        {
         "data": [
          {
           "type": "scatter",
           "x": [
            1,
            3,
            6
           ],
           "y": [
            3.8231568336486816,
            9.05958366394043,
            16.91422462463379
           ]
          }
         ]
        },
        {
         "data": [
          {
           "type": "scatter",
           "x": [
            1,
            3,
            6
           ],
           "y": [
            3.824300765991211,
            9.060078620910645,
            16.913745880126953
           ]
          }
         ]
        },
        {
         "data": [
          {
           "type": "scatter",
           "x": [
            1,
            3,
            6
           ],
           "y": [
            3.825443983078003,
            9.060572624206543,
            16.913265228271484
           ]
          }
         ]
        },
        {
         "data": [
          {
           "type": "scatter",
           "x": [
            1,
            3,
            6
           ],
           "y": [
            3.8265867233276367,
            9.061065673828125,
            16.912784576416016
           ]
          }
         ]
        },
        {
         "data": [
          {
           "type": "scatter",
           "x": [
            1,
            3,
            6
           ],
           "y": [
            3.827728748321533,
            9.061559677124023,
            16.91230583190918
           ]
          }
         ]
        },
        {
         "data": [
          {
           "type": "scatter",
           "x": [
            1,
            3,
            6
           ],
           "y": [
            3.8288700580596924,
            9.062051773071289,
            16.91182518005371
           ]
          }
         ]
        },
        {
         "data": [
          {
           "type": "scatter",
           "x": [
            1,
            3,
            6
           ],
           "y": [
            3.8300108909606934,
            9.062545776367188,
            16.911346435546875
           ]
          }
         ]
        },
        {
         "data": [
          {
           "type": "scatter",
           "x": [
            1,
            3,
            6
           ],
           "y": [
            3.831151008605957,
            9.063037872314453,
            16.91086769104004
           ]
          }
         ]
        },
        {
         "data": [
          {
           "type": "scatter",
           "x": [
            1,
            3,
            6
           ],
           "y": [
            3.8322908878326416,
            9.063530921936035,
            16.910390853881836
           ]
          }
         ]
        },
        {
         "data": [
          {
           "type": "scatter",
           "x": [
            1,
            3,
            6
           ],
           "y": [
            3.8334298133850098,
            9.0640230178833,
            16.909912109375
           ]
          }
         ]
        },
        {
         "data": [
          {
           "type": "scatter",
           "x": [
            1,
            3,
            6
           ],
           "y": [
            3.834568500518799,
            9.06451416015625,
            16.909433364868164
           ]
          }
         ]
        },
        {
         "data": [
          {
           "type": "scatter",
           "x": [
            1,
            3,
            6
           ],
           "y": [
            3.8357062339782715,
            9.065006256103516,
            16.90895652770996
           ]
          }
         ]
        },
        {
         "data": [
          {
           "type": "scatter",
           "x": [
            1,
            3,
            6
           ],
           "y": [
            3.836843490600586,
            9.065497398376465,
            16.908477783203125
           ]
          }
         ]
        },
        {
         "data": [
          {
           "type": "scatter",
           "x": [
            1,
            3,
            6
           ],
           "y": [
            3.837980270385742,
            9.065988540649414,
            16.908000946044922
           ]
          }
         ]
        },
        {
         "data": [
          {
           "type": "scatter",
           "x": [
            1,
            3,
            6
           ],
           "y": [
            3.839116096496582,
            9.066478729248047,
            16.90752410888672
           ]
          }
         ]
        },
        {
         "data": [
          {
           "type": "scatter",
           "x": [
            1,
            3,
            6
           ],
           "y": [
            3.8402514457702637,
            9.066969871520996,
            16.907047271728516
           ]
          }
         ]
        },
        {
         "data": [
          {
           "type": "scatter",
           "x": [
            1,
            3,
            6
           ],
           "y": [
            3.841386318206787,
            9.067459106445312,
            16.906570434570312
           ]
          }
         ]
        },
        {
         "data": [
          {
           "type": "scatter",
           "x": [
            1,
            3,
            6
           ],
           "y": [
            3.8425207138061523,
            9.067949295043945,
            16.90609359741211
           ]
          }
         ]
        },
        {
         "data": [
          {
           "type": "scatter",
           "x": [
            1,
            3,
            6
           ],
           "y": [
            3.8436543941497803,
            9.068439483642578,
            16.90561866760254
           ]
          }
         ]
        },
        {
         "data": [
          {
           "type": "scatter",
           "x": [
            1,
            3,
            6
           ],
           "y": [
            3.844787359237671,
            9.068928718566895,
            16.905139923095703
           ]
          }
         ]
        },
        {
         "data": [
          {
           "type": "scatter",
           "x": [
            1,
            3,
            6
           ],
           "y": [
            3.8459198474884033,
            9.069417953491211,
            16.904664993286133
           ]
          }
         ]
        },
        {
         "data": [
          {
           "type": "scatter",
           "x": [
            1,
            3,
            6
           ],
           "y": [
            3.8470516204833984,
            9.069907188415527,
            16.904190063476562
           ]
          }
         ]
        },
        {
         "data": [
          {
           "type": "scatter",
           "x": [
            1,
            3,
            6
           ],
           "y": [
            3.8481829166412354,
            9.070395469665527,
            16.903715133666992
           ]
          }
         ]
        },
        {
         "data": [
          {
           "type": "scatter",
           "x": [
            1,
            3,
            6
           ],
           "y": [
            3.849313735961914,
            9.070883750915527,
            16.903240203857422
           ]
          }
         ]
        },
        {
         "data": [
          {
           "type": "scatter",
           "x": [
            1,
            3,
            6
           ],
           "y": [
            3.8504438400268555,
            9.071372985839844,
            16.90276527404785
           ]
          }
         ]
        },
        {
         "data": [
          {
           "type": "scatter",
           "x": [
            1,
            3,
            6
           ],
           "y": [
            3.8515734672546387,
            9.071860313415527,
            16.902292251586914
           ]
          }
         ]
        },
        {
         "data": [
          {
           "type": "scatter",
           "x": [
            1,
            3,
            6
           ],
           "y": [
            3.8527021408081055,
            9.072347640991211,
            16.901817321777344
           ]
          }
         ]
        },
        {
         "data": [
          {
           "type": "scatter",
           "x": [
            1,
            3,
            6
           ],
           "y": [
            3.853830337524414,
            9.072834968566895,
            16.901342391967773
           ]
          }
         ]
        },
        {
         "data": [
          {
           "type": "scatter",
           "x": [
            1,
            3,
            6
           ],
           "y": [
            3.8549582958221436,
            9.073323249816895,
            16.900869369506836
           ]
          }
         ]
        },
        {
         "data": [
          {
           "type": "scatter",
           "x": [
            1,
            3,
            6
           ],
           "y": [
            3.8560853004455566,
            9.073809623718262,
            16.9003963470459
           ]
          }
         ]
        },
        {
         "data": [
          {
           "type": "scatter",
           "x": [
            1,
            3,
            6
           ],
           "y": [
            3.8572118282318115,
            9.074295997619629,
            16.899921417236328
           ]
          }
         ]
        },
        {
         "data": [
          {
           "type": "scatter",
           "x": [
            1,
            3,
            6
           ],
           "y": [
            3.858337879180908,
            9.074783325195312,
            16.899450302124023
           ]
          }
         ]
        },
        {
         "data": [
          {
           "type": "scatter",
           "x": [
            1,
            3,
            6
           ],
           "y": [
            3.8594632148742676,
            9.07526969909668,
            16.89897918701172
           ]
          }
         ]
        },
        {
         "data": [
          {
           "type": "scatter",
           "x": [
            1,
            3,
            6
           ],
           "y": [
            3.8605880737304688,
            9.07575511932373,
            16.89850616455078
           ]
          }
         ]
        },
        {
         "data": [
          {
           "type": "scatter",
           "x": [
            1,
            3,
            6
           ],
           "y": [
            3.8617122173309326,
            9.076240539550781,
            16.898033142089844
           ]
          }
         ]
        },
        {
         "data": [
          {
           "type": "scatter",
           "x": [
            1,
            3,
            6
           ],
           "y": [
            3.8628358840942383,
            9.076726913452148,
            16.89756202697754
           ]
          }
         ]
        },
        {
         "data": [
          {
           "type": "scatter",
           "x": [
            1,
            3,
            6
           ],
           "y": [
            3.8639588356018066,
            9.077211380004883,
            16.8970890045166
           ]
          }
         ]
        },
        {
         "data": [
          {
           "type": "scatter",
           "x": [
            1,
            3,
            6
           ],
           "y": [
            3.865081310272217,
            9.077695846557617,
            16.896617889404297
           ]
          }
         ]
        },
        {
         "data": [
          {
           "type": "scatter",
           "x": [
            1,
            3,
            6
           ],
           "y": [
            3.8662030696868896,
            9.078181266784668,
            16.896148681640625
           ]
          }
         ]
        },
        {
         "data": [
          {
           "type": "scatter",
           "x": [
            1,
            3,
            6
           ],
           "y": [
            3.8673243522644043,
            9.078664779663086,
            16.895675659179688
           ]
          }
         ]
        },
        {
         "data": [
          {
           "type": "scatter",
           "x": [
            1,
            3,
            6
           ],
           "y": [
            3.8684449195861816,
            9.07914924621582,
            16.895204544067383
           ]
          }
         ]
        },
        {
         "data": [
          {
           "type": "scatter",
           "x": [
            1,
            3,
            6
           ],
           "y": [
            3.869565010070801,
            9.079633712768555,
            16.89473533630371
           ]
          }
         ]
        },
        {
         "data": [
          {
           "type": "scatter",
           "x": [
            1,
            3,
            6
           ],
           "y": [
            3.8706846237182617,
            9.080117225646973,
            16.89426612854004
           ]
          }
         ]
        },
        {
         "data": [
          {
           "type": "scatter",
           "x": [
            1,
            3,
            6
           ],
           "y": [
            3.8718032836914062,
            9.080599784851074,
            16.893795013427734
           ]
          }
         ]
        },
        {
         "data": [
          {
           "type": "scatter",
           "x": [
            1,
            3,
            6
           ],
           "y": [
            3.8729214668273926,
            9.081083297729492,
            16.893325805664062
           ]
          }
         ]
        },
        {
         "data": [
          {
           "type": "scatter",
           "x": [
            1,
            3,
            6
           ],
           "y": [
            3.8740394115448,
            9.08156681060791,
            16.89285659790039
           ]
          }
         ]
        },
        {
         "data": [
          {
           "type": "scatter",
           "x": [
            1,
            3,
            6
           ],
           "y": [
            3.8751564025878906,
            9.082049369812012,
            16.89238739013672
           ]
          }
         ]
        },
        {
         "data": [
          {
           "type": "scatter",
           "x": [
            1,
            3,
            6
           ],
           "y": [
            3.8762729167938232,
            9.082530975341797,
            16.891918182373047
           ]
          }
         ]
        },
        {
         "data": [
          {
           "type": "scatter",
           "x": [
            1,
            3,
            6
           ],
           "y": [
            3.8773889541625977,
            9.083013534545898,
            16.891450881958008
           ]
          }
         ]
        },
        {
         "data": [
          {
           "type": "scatter",
           "x": [
            1,
            3,
            6
           ],
           "y": [
            3.8785042762756348,
            9.083495140075684,
            16.890981674194336
           ]
          }
         ]
        },
        {
         "data": [
          {
           "type": "scatter",
           "x": [
            1,
            3,
            6
           ],
           "y": [
            3.8796188831329346,
            9.083976745605469,
            16.890514373779297
           ]
          }
         ]
        },
        {
         "data": [
          {
           "type": "scatter",
           "x": [
            1,
            3,
            6
           ],
           "y": [
            3.880733013153076,
            9.084458351135254,
            16.890045166015625
           ]
          }
         ]
        },
        {
         "data": [
          {
           "type": "scatter",
           "x": [
            1,
            3,
            6
           ],
           "y": [
            3.8818469047546387,
            9.084939002990723,
            16.889577865600586
           ]
          }
         ]
        },
        {
         "data": [
          {
           "type": "scatter",
           "x": [
            1,
            3,
            6
           ],
           "y": [
            3.8829598426818848,
            9.085419654846191,
            16.889110565185547
           ]
          }
         ]
        },
        {
         "data": [
          {
           "type": "scatter",
           "x": [
            1,
            3,
            6
           ],
           "y": [
            3.8840723037719727,
            9.085901260375977,
            16.888643264770508
           ]
          }
         ]
        },
        {
         "data": [
          {
           "type": "scatter",
           "x": [
            1,
            3,
            6
           ],
           "y": [
            3.8851840496063232,
            9.086381912231445,
            16.8881778717041
           ]
          }
         ]
        },
        {
         "data": [
          {
           "type": "scatter",
           "x": [
            1,
            3,
            6
           ],
           "y": [
            3.8862953186035156,
            9.086861610412598,
            16.887710571289062
           ]
          }
         ]
        },
        {
         "data": [
          {
           "type": "scatter",
           "x": [
            1,
            3,
            6
           ],
           "y": [
            3.8874058723449707,
            9.08734130859375,
            16.887243270874023
           ]
          }
         ]
        },
        {
         "data": [
          {
           "type": "scatter",
           "x": [
            1,
            3,
            6
           ],
           "y": [
            3.8885159492492676,
            9.087821006774902,
            16.886777877807617
           ]
          }
         ]
        },
        {
         "data": [
          {
           "type": "scatter",
           "x": [
            1,
            3,
            6
           ],
           "y": [
            3.8896255493164062,
            9.088299751281738,
            16.886310577392578
           ]
          }
         ]
        },
        {
         "data": [
          {
           "type": "scatter",
           "x": [
            1,
            3,
            6
           ],
           "y": [
            3.8907341957092285,
            9.088778495788574,
            16.885845184326172
           ]
          }
         ]
        },
        {
         "data": [
          {
           "type": "scatter",
           "x": [
            1,
            3,
            6
           ],
           "y": [
            3.891842842102051,
            9.089258193969727,
            16.885379791259766
           ]
          }
         ]
        },
        {
         "data": [
          {
           "type": "scatter",
           "x": [
            1,
            3,
            6
           ],
           "y": [
            3.8929505348205566,
            9.089735984802246,
            16.88491439819336
           ]
          }
         ]
        },
        {
         "data": [
          {
           "type": "scatter",
           "x": [
            1,
            3,
            6
           ],
           "y": [
            3.894057512283325,
            9.090213775634766,
            16.884449005126953
           ]
          }
         ]
        },
        {
         "data": [
          {
           "type": "scatter",
           "x": [
            1,
            3,
            6
           ],
           "y": [
            3.8951640129089355,
            9.090692520141602,
            16.883983612060547
           ]
          }
         ]
        },
        {
         "data": [
          {
           "type": "scatter",
           "x": [
            1,
            3,
            6
           ],
           "y": [
            3.896270275115967,
            9.091170310974121,
            16.883520126342773
           ]
          }
         ]
        },
        {
         "data": [
          {
           "type": "scatter",
           "x": [
            1,
            3,
            6
           ],
           "y": [
            3.8973755836486816,
            9.09164810180664,
            16.883056640625
           ]
          }
         ]
        },
        {
         "data": [
          {
           "type": "scatter",
           "x": [
            1,
            3,
            6
           ],
           "y": [
            3.8984804153442383,
            9.092124938964844,
            16.882591247558594
           ]
          }
         ]
        },
        {
         "data": [
          {
           "type": "scatter",
           "x": [
            1,
            3,
            6
           ],
           "y": [
            3.8995847702026367,
            9.092601776123047,
            16.88212776184082
           ]
          }
         ]
        },
        {
         "data": [
          {
           "type": "scatter",
           "x": [
            1,
            3,
            6
           ],
           "y": [
            3.900688409805298,
            9.09307861328125,
            16.881664276123047
           ]
          }
         ]
        },
        {
         "data": [
          {
           "type": "scatter",
           "x": [
            1,
            3,
            6
           ],
           "y": [
            3.901791572570801,
            9.093555450439453,
            16.881200790405273
           ]
          }
         ]
        },
        {
         "data": [
          {
           "type": "scatter",
           "x": [
            1,
            3,
            6
           ],
           "y": [
            3.9028940200805664,
            9.094032287597656,
            16.880739212036133
           ]
          }
         ]
        },
        {
         "data": [
          {
           "type": "scatter",
           "x": [
            1,
            3,
            6
           ],
           "y": [
            3.903995990753174,
            9.094507217407227,
            16.88027572631836
           ]
          }
         ]
        },
        {
         "data": [
          {
           "type": "scatter",
           "x": [
            1,
            3,
            6
           ],
           "y": [
            3.905097246170044,
            9.094983100891113,
            16.879812240600586
           ]
          }
         ]
        },
        {
         "data": [
          {
           "type": "scatter",
           "x": [
            1,
            3,
            6
           ],
           "y": [
            3.906198024749756,
            9.095458984375,
            16.879350662231445
           ]
          }
         ]
        },
        {
         "data": [
          {
           "type": "scatter",
           "x": [
            1,
            3,
            6
           ],
           "y": [
            3.9072980880737305,
            9.09593391418457,
            16.878887176513672
           ]
          }
         ]
        },
        {
         "data": [
          {
           "type": "scatter",
           "x": [
            1,
            3,
            6
           ],
           "y": [
            3.908397674560547,
            9.09640884399414,
            16.87842559814453
           ]
          }
         ]
        },
        {
         "data": [
          {
           "type": "scatter",
           "x": [
            1,
            3,
            6
           ],
           "y": [
            3.909496784210205,
            9.096883773803711,
            16.87796401977539
           ]
          }
         ]
        },
        {
         "data": [
          {
           "type": "scatter",
           "x": [
            1,
            3,
            6
           ],
           "y": [
            3.910595417022705,
            9.097358703613281,
            16.87750244140625
           ]
          }
         ]
        },
        {
         "data": [
          {
           "type": "scatter",
           "x": [
            1,
            3,
            6
           ],
           "y": [
            3.9116933345794678,
            9.097832679748535,
            16.87704086303711
           ]
          }
         ]
        },
        {
         "data": [
          {
           "type": "scatter",
           "x": [
            1,
            3,
            6
           ],
           "y": [
            3.9127907752990723,
            9.098306655883789,
            16.8765811920166
           ]
          }
         ]
        },
        {
         "data": [
          {
           "type": "scatter",
           "x": [
            1,
            3,
            6
           ],
           "y": [
            3.9138875007629395,
            9.09878158569336,
            16.876121520996094
           ]
          }
         ]
        },
        {
         "data": [
          {
           "type": "scatter",
           "x": [
            1,
            3,
            6
           ],
           "y": [
            3.9149837493896484,
            9.099254608154297,
            16.875659942626953
           ]
          }
         ]
        },
        {
         "data": [
          {
           "type": "scatter",
           "x": [
            1,
            3,
            6
           ],
           "y": [
            3.91607928276062,
            9.099727630615234,
            16.875200271606445
           ]
          }
         ]
        },
        {
         "data": [
          {
           "type": "scatter",
           "x": [
            1,
            3,
            6
           ],
           "y": [
            3.9171743392944336,
            9.100200653076172,
            16.874740600585938
           ]
          }
         ]
        },
        {
         "data": [
          {
           "type": "scatter",
           "x": [
            1,
            3,
            6
           ],
           "y": [
            3.9182686805725098,
            9.10067367553711,
            16.87428092956543
           ]
          }
         ]
        },
        {
         "data": [
          {
           "type": "scatter",
           "x": [
            1,
            3,
            6
           ],
           "y": [
            3.9193625450134277,
            9.101146697998047,
            16.873821258544922
           ]
          }
         ]
        },
        {
         "data": [
          {
           "type": "scatter",
           "x": [
            1,
            3,
            6
           ],
           "y": [
            3.9204559326171875,
            9.101618766784668,
            16.873363494873047
           ]
          }
         ]
        },
        {
         "data": [
          {
           "type": "scatter",
           "x": [
            1,
            3,
            6
           ],
           "y": [
            3.92154860496521,
            9.102090835571289,
            16.87290382385254
           ]
          }
         ]
        },
        {
         "data": [
          {
           "type": "scatter",
           "x": [
            1,
            3,
            6
           ],
           "y": [
            3.922640800476074,
            9.102561950683594,
            16.87244415283203
           ]
          }
         ]
        },
        {
         "data": [
          {
           "type": "scatter",
           "x": [
            1,
            3,
            6
           ],
           "y": [
            3.923732280731201,
            9.103034019470215,
            16.871986389160156
           ]
          }
         ]
        },
        {
         "data": [
          {
           "type": "scatter",
           "x": [
            1,
            3,
            6
           ],
           "y": [
            3.92482328414917,
            9.10350513458252,
            16.87152671813965
           ]
          }
         ]
        },
        {
         "data": [
          {
           "type": "scatter",
           "x": [
            1,
            3,
            6
           ],
           "y": [
            3.9259135723114014,
            9.103976249694824,
            16.871068954467773
           ]
          }
         ]
        },
        {
         "data": [
          {
           "type": "scatter",
           "x": [
            1,
            3,
            6
           ],
           "y": [
            3.9270033836364746,
            9.104447364807129,
            16.87061309814453
           ]
          }
         ]
        },
        {
         "data": [
          {
           "type": "scatter",
           "x": [
            1,
            3,
            6
           ],
           "y": [
            3.9280927181243896,
            9.104917526245117,
            16.870153427124023
           ]
          }
         ]
        },
        {
         "data": [
          {
           "type": "scatter",
           "x": [
            1,
            3,
            6
           ],
           "y": [
            3.9291813373565674,
            9.105386734008789,
            16.86969566345215
           ]
          }
         ]
        },
        {
         "data": [
          {
           "type": "scatter",
           "x": [
            1,
            3,
            6
           ],
           "y": [
            3.930269479751587,
            9.105857849121094,
            16.869239807128906
           ]
          }
         ]
        },
        {
         "data": [
          {
           "type": "scatter",
           "x": [
            1,
            3,
            6
           ],
           "y": [
            3.9313571453094482,
            9.106328010559082,
            16.868783950805664
           ]
          }
         ]
        },
        {
         "data": [
          {
           "type": "scatter",
           "x": [
            1,
            3,
            6
           ],
           "y": [
            3.9324440956115723,
            9.106797218322754,
            16.868328094482422
           ]
          }
         ]
        },
        {
         "data": [
          {
           "type": "scatter",
           "x": [
            1,
            3,
            6
           ],
           "y": [
            3.933530569076538,
            9.107266426086426,
            16.867870330810547
           ]
          }
         ]
        },
        {
         "data": [
          {
           "type": "scatter",
           "x": [
            1,
            3,
            6
           ],
           "y": [
            3.9346165657043457,
            9.107736587524414,
            16.867416381835938
           ]
          }
         ]
        },
        {
         "data": [
          {
           "type": "scatter",
           "x": [
            1,
            3,
            6
           ],
           "y": [
            3.935701847076416,
            9.10820484161377,
            16.866960525512695
           ]
          }
         ]
        },
        {
         "data": [
          {
           "type": "scatter",
           "x": [
            1,
            3,
            6
           ],
           "y": [
            3.936786413192749,
            9.108673095703125,
            16.866504669189453
           ]
          }
         ]
        },
        {
         "data": [
          {
           "type": "scatter",
           "x": [
            1,
            3,
            6
           ],
           "y": [
            3.937870502471924,
            9.109142303466797,
            16.86604881286621
           ]
          }
         ]
        },
        {
         "data": [
          {
           "type": "scatter",
           "x": [
            1,
            3,
            6
           ],
           "y": [
            3.9389541149139404,
            9.109609603881836,
            16.86559295654297
           ]
          }
         ]
        },
        {
         "data": [
          {
           "type": "scatter",
           "x": [
            1,
            3,
            6
           ],
           "y": [
            3.940037250518799,
            9.110077857971191,
            16.86513900756836
           ]
          }
         ]
        },
        {
         "data": [
          {
           "type": "scatter",
           "x": [
            1,
            3,
            6
           ],
           "y": [
            3.94111967086792,
            9.110546112060547,
            16.86468505859375
           ]
          }
         ]
        },
        {
         "data": [
          {
           "type": "scatter",
           "x": [
            1,
            3,
            6
           ],
           "y": [
            3.942201614379883,
            9.11101245880127,
            16.864229202270508
           ]
          }
         ]
        },
        {
         "data": [
          {
           "type": "scatter",
           "x": [
            1,
            3,
            6
           ],
           "y": [
            3.9432828426361084,
            9.111479759216309,
            16.8637752532959
           ]
          }
         ]
        },
        {
         "data": [
          {
           "type": "scatter",
           "x": [
            1,
            3,
            6
           ],
           "y": [
            3.944363594055176,
            9.111947059631348,
            16.863323211669922
           ]
          }
         ]
        },
        {
         "data": [
          {
           "type": "scatter",
           "x": [
            1,
            3,
            6
           ],
           "y": [
            3.945443630218506,
            9.11241340637207,
            16.862869262695312
           ]
          }
         ]
        },
        {
         "data": [
          {
           "type": "scatter",
           "x": [
            1,
            3,
            6
           ],
           "y": [
            3.9465231895446777,
            9.112879753112793,
            16.86241340637207
           ]
          }
         ]
        },
        {
         "data": [
          {
           "type": "scatter",
           "x": [
            1,
            3,
            6
           ],
           "y": [
            3.9476022720336914,
            9.113346099853516,
            16.861961364746094
           ]
          }
         ]
        },
        {
         "data": [
          {
           "type": "scatter",
           "x": [
            1,
            3,
            6
           ],
           "y": [
            3.9486806392669678,
            9.113811492919922,
            16.861509323120117
           ]
          }
         ]
        },
        {
         "data": [
          {
           "type": "scatter",
           "x": [
            1,
            3,
            6
           ],
           "y": [
            3.949758529663086,
            9.114277839660645,
            16.861055374145508
           ]
          }
         ]
        },
        {
         "data": [
          {
           "type": "scatter",
           "x": [
            1,
            3,
            6
           ],
           "y": [
            3.950835943222046,
            9.11474323272705,
            16.86060333251953
           ]
          }
         ]
        },
        {
         "data": [
          {
           "type": "scatter",
           "x": [
            1,
            3,
            6
           ],
           "y": [
            3.9519126415252686,
            9.11520767211914,
            16.860149383544922
           ]
          }
         ]
        },
        {
         "data": [
          {
           "type": "scatter",
           "x": [
            1,
            3,
            6
           ],
           "y": [
            3.952988862991333,
            9.115673065185547,
            16.859699249267578
           ]
          }
         ]
        },
        {
         "data": [
          {
           "type": "scatter",
           "x": [
            1,
            3,
            6
           ],
           "y": [
            3.95406436920166,
            9.116137504577637,
            16.8592472076416
           ]
          }
         ]
        },
        {
         "data": [
          {
           "type": "scatter",
           "x": [
            1,
            3,
            6
           ],
           "y": [
            3.955139398574829,
            9.116601943969727,
            16.858795166015625
           ]
          }
         ]
        },
        {
         "data": [
          {
           "type": "scatter",
           "x": [
            1,
            3,
            6
           ],
           "y": [
            3.95621395111084,
            9.1170654296875,
            16.85834312438965
           ]
          }
         ]
        },
        {
         "data": [
          {
           "type": "scatter",
           "x": [
            1,
            3,
            6
           ],
           "y": [
            3.9572877883911133,
            9.11752986907959,
            16.857892990112305
           ]
          }
         ]
        },
        {
         "data": [
          {
           "type": "scatter",
           "x": [
            1,
            3,
            6
           ],
           "y": [
            3.9583611488342285,
            9.117993354797363,
            16.85744285583496
           ]
          }
         ]
        },
        {
         "data": [
          {
           "type": "scatter",
           "x": [
            1,
            3,
            6
           ],
           "y": [
            3.9594337940216064,
            9.11845588684082,
            16.856990814208984
           ]
          }
         ]
        },
        {
         "data": [
          {
           "type": "scatter",
           "x": [
            1,
            3,
            6
           ],
           "y": [
            3.960505962371826,
            9.11892032623291,
            16.85654067993164
           ]
          }
         ]
        },
        {
         "data": [
          {
           "type": "scatter",
           "x": [
            1,
            3,
            6
           ],
           "y": [
            3.961577892303467,
            9.119382858276367,
            16.856090545654297
           ]
          }
         ]
        },
        {
         "data": [
          {
           "type": "scatter",
           "x": [
            1,
            3,
            6
           ],
           "y": [
            3.962648868560791,
            9.11984634399414,
            16.855642318725586
           ]
          }
         ]
        },
        {
         "data": [
          {
           "type": "scatter",
           "x": [
            1,
            3,
            6
           ],
           "y": [
            3.963719606399536,
            9.120307922363281,
            16.855192184448242
           ]
          }
         ]
        },
        {
         "data": [
          {
           "type": "scatter",
           "x": [
            1,
            3,
            6
           ],
           "y": [
            3.964789867401123,
            9.120771408081055,
            16.85474395751953
           ]
          }
         ]
        },
        {
         "data": [
          {
           "type": "scatter",
           "x": [
            1,
            3,
            6
           ],
           "y": [
            3.9658591747283936,
            9.121232986450195,
            16.854293823242188
           ]
          }
         ]
        },
        {
         "data": [
          {
           "type": "scatter",
           "x": [
            1,
            3,
            6
           ],
           "y": [
            3.966928005218506,
            9.121695518493652,
            16.853845596313477
           ]
          }
         ]
        },
        {
         "data": [
          {
           "type": "scatter",
           "x": [
            1,
            3,
            6
           ],
           "y": [
            3.96799635887146,
            9.122156143188477,
            16.853397369384766
           ]
          }
         ]
        },
        {
         "data": [
          {
           "type": "scatter",
           "x": [
            1,
            3,
            6
           ],
           "y": [
            3.969064235687256,
            9.122617721557617,
            16.852949142456055
           ]
          }
         ]
        },
        {
         "data": [
          {
           "type": "scatter",
           "x": [
            1,
            3,
            6
           ],
           "y": [
            3.9701313972473145,
            9.123078346252441,
            16.85249900817871
           ]
          }
         ]
        },
        {
         "data": [
          {
           "type": "scatter",
           "x": [
            1,
            3,
            6
           ],
           "y": [
            3.971198081970215,
            9.123539924621582,
            16.852052688598633
           ]
          }
         ]
        },
        {
         "data": [
          {
           "type": "scatter",
           "x": [
            1,
            3,
            6
           ],
           "y": [
            3.972263813018799,
            9.124000549316406,
            16.851604461669922
           ]
          }
         ]
        },
        {
         "data": [
          {
           "type": "scatter",
           "x": [
            1,
            3,
            6
           ],
           "y": [
            3.973329544067383,
            9.12446117401123,
            16.851158142089844
           ]
          }
         ]
        },
        {
         "data": [
          {
           "type": "scatter",
           "x": [
            1,
            3,
            6
           ],
           "y": [
            3.9743943214416504,
            9.124919891357422,
            16.850709915161133
           ]
          }
         ]
        },
        {
         "data": [
          {
           "type": "scatter",
           "x": [
            1,
            3,
            6
           ],
           "y": [
            3.9754586219787598,
            9.12537956237793,
            16.850261688232422
           ]
          }
         ]
        },
        {
         "data": [
          {
           "type": "scatter",
           "x": [
            1,
            3,
            6
           ],
           "y": [
            3.976522445678711,
            9.125840187072754,
            16.849815368652344
           ]
          }
         ]
        },
        {
         "data": [
          {
           "type": "scatter",
           "x": [
            1,
            3,
            6
           ],
           "y": [
            3.977585792541504,
            9.126298904418945,
            16.849369049072266
           ]
          }
         ]
        },
        {
         "data": [
          {
           "type": "scatter",
           "x": [
            1,
            3,
            6
           ],
           "y": [
            3.9786481857299805,
            9.126758575439453,
            16.848922729492188
           ]
          }
         ]
        },
        {
         "data": [
          {
           "type": "scatter",
           "x": [
            1,
            3,
            6
           ],
           "y": [
            3.979710578918457,
            9.127217292785645,
            16.84847640991211
           ]
          }
         ]
        },
        {
         "data": [
          {
           "type": "scatter",
           "x": [
            1,
            3,
            6
           ],
           "y": [
            3.980772018432617,
            9.127676010131836,
            16.848031997680664
           ]
          }
         ]
        },
        {
         "data": [
          {
           "type": "scatter",
           "x": [
            1,
            3,
            6
           ],
           "y": [
            3.981832981109619,
            9.128134727478027,
            16.847585678100586
           ]
          }
         ]
        },
        {
         "data": [
          {
           "type": "scatter",
           "x": [
            1,
            3,
            6
           ],
           "y": [
            3.982893466949463,
            9.128592491149902,
            16.84714126586914
           ]
          }
         ]
        },
        {
         "data": [
          {
           "type": "scatter",
           "x": [
            1,
            3,
            6
           ],
           "y": [
            3.9839534759521484,
            9.129050254821777,
            16.846694946289062
           ]
          }
         ]
        },
        {
         "data": [
          {
           "type": "scatter",
           "x": [
            1,
            3,
            6
           ],
           "y": [
            3.9850125312805176,
            9.129508018493652,
            16.846250534057617
           ]
          }
         ]
        },
        {
         "data": [
          {
           "type": "scatter",
           "x": [
            1,
            3,
            6
           ],
           "y": [
            3.9860715866088867,
            9.129964828491211,
            16.845806121826172
           ]
          }
         ]
        },
        {
         "data": [
          {
           "type": "scatter",
           "x": [
            1,
            3,
            6
           ],
           "y": [
            3.9871296882629395,
            9.13042163848877,
            16.845359802246094
           ]
          }
         ]
        },
        {
         "data": [
          {
           "type": "scatter",
           "x": [
            1,
            3,
            6
           ],
           "y": [
            3.988187313079834,
            9.130878448486328,
            16.84491539001465
           ]
          }
         ]
        },
        {
         "data": [
          {
           "type": "scatter",
           "x": [
            1,
            3,
            6
           ],
           "y": [
            3.9892444610595703,
            9.131335258483887,
            16.844472885131836
           ]
          }
         ]
        },
        {
         "data": [
          {
           "type": "scatter",
           "x": [
            1,
            3,
            6
           ],
           "y": [
            3.9903006553649902,
            9.131792068481445,
            16.84402847290039
           ]
          }
         ]
        },
        {
         "data": [
          {
           "type": "scatter",
           "x": [
            1,
            3,
            6
           ],
           "y": [
            3.99135684967041,
            9.132247924804688,
            16.843584060668945
           ]
          }
         ]
        },
        {
         "data": [
          {
           "type": "scatter",
           "x": [
            1,
            3,
            6
           ],
           "y": [
            3.9924120903015137,
            9.13270378112793,
            16.843141555786133
           ]
          }
         ]
        },
        {
         "data": [
          {
           "type": "scatter",
           "x": [
            1,
            3,
            6
           ],
           "y": [
            3.993466854095459,
            9.133159637451172,
            16.842697143554688
           ]
          }
         ]
        },
        {
         "data": [
          {
           "type": "scatter",
           "x": [
            1,
            3,
            6
           ],
           "y": [
            3.994521141052246,
            9.133614540100098,
            16.842254638671875
           ]
          }
         ]
        },
        {
         "data": [
          {
           "type": "scatter",
           "x": [
            1,
            3,
            6
           ],
           "y": [
            3.995574951171875,
            9.13407039642334,
            16.841812133789062
           ]
          }
         ]
        },
        {
         "data": [
          {
           "type": "scatter",
           "x": [
            1,
            3,
            6
           ],
           "y": [
            3.9966282844543457,
            9.13452434539795,
            16.84136962890625
           ]
          }
         ]
        },
        {
         "data": [
          {
           "type": "scatter",
           "x": [
            1,
            3,
            6
           ],
           "y": [
            3.9976806640625,
            9.134979248046875,
            16.840927124023438
           ]
          }
         ]
        },
        {
         "data": [
          {
           "type": "scatter",
           "x": [
            1,
            3,
            6
           ],
           "y": [
            3.9987330436706543,
            9.1354341506958,
            16.840484619140625
           ]
          }
         ]
        },
        {
         "data": [
          {
           "type": "scatter",
           "x": [
            1,
            3,
            6
           ],
           "y": [
            3.999784469604492,
            9.13588809967041,
            16.840044021606445
           ]
          }
         ]
        },
        {
         "data": [
          {
           "type": "scatter",
           "x": [
            1,
            3,
            6
           ],
           "y": [
            4.000835418701172,
            9.13634204864502,
            16.839601516723633
           ]
          }
         ]
        },
        {
         "data": [
          {
           "type": "scatter",
           "x": [
            1,
            3,
            6
           ],
           "y": [
            4.001886367797852,
            9.136795997619629,
            16.839160919189453
           ]
          }
         ]
        },
        {
         "data": [
          {
           "type": "scatter",
           "x": [
            1,
            3,
            6
           ],
           "y": [
            4.002936363220215,
            9.137249946594238,
            16.838720321655273
           ]
          }
         ]
        },
        {
         "data": [
          {
           "type": "scatter",
           "x": [
            1,
            3,
            6
           ],
           "y": [
            4.003985404968262,
            9.137702941894531,
            16.838279724121094
           ]
          }
         ]
        },
        {
         "data": [
          {
           "type": "scatter",
           "x": [
            1,
            3,
            6
           ],
           "y": [
            4.005034446716309,
            9.13815689086914,
            16.837839126586914
           ]
          }
         ]
        },
        {
         "data": [
          {
           "type": "scatter",
           "x": [
            1,
            3,
            6
           ],
           "y": [
            4.006082534790039,
            9.138608932495117,
            16.837398529052734
           ]
          }
         ]
        },
        {
         "data": [
          {
           "type": "scatter",
           "x": [
            1,
            3,
            6
           ],
           "y": [
            4.0071306228637695,
            9.13906192779541,
            16.836957931518555
           ]
          }
         ]
        },
        {
         "data": [
          {
           "type": "scatter",
           "x": [
            1,
            3,
            6
           ],
           "y": [
            4.008177757263184,
            9.139514923095703,
            16.836519241333008
           ]
          }
         ]
        },
        {
         "data": [
          {
           "type": "scatter",
           "x": [
            1,
            3,
            6
           ],
           "y": [
            4.009223937988281,
            9.139966011047363,
            16.836078643798828
           ]
          }
         ]
        },
        {
         "data": [
          {
           "type": "scatter",
           "x": [
            1,
            3,
            6
           ],
           "y": [
            4.010270118713379,
            9.14041805267334,
            16.83563995361328
           ]
          }
         ]
        },
        {
         "data": [
          {
           "type": "scatter",
           "x": [
            1,
            3,
            6
           ],
           "y": [
            4.011315822601318,
            9.140870094299316,
            16.835201263427734
           ]
          }
         ]
        },
        {
         "data": [
          {
           "type": "scatter",
           "x": [
            1,
            3,
            6
           ],
           "y": [
            4.012360572814941,
            9.141321182250977,
            16.834762573242188
           ]
          }
         ]
        },
        {
         "data": [
          {
           "type": "scatter",
           "x": [
            1,
            3,
            6
           ],
           "y": [
            4.013404846191406,
            9.141772270202637,
            16.83432388305664
           ]
          }
         ]
        },
        {
         "data": [
          {
           "type": "scatter",
           "x": [
            1,
            3,
            6
           ],
           "y": [
            4.014449119567871,
            9.142223358154297,
            16.833885192871094
           ]
          }
         ]
        },
        {
         "data": [
          {
           "type": "scatter",
           "x": [
            1,
            3,
            6
           ],
           "y": [
            4.0154924392700195,
            9.142674446105957,
            16.833446502685547
           ]
          }
         ]
        },
        {
         "data": [
          {
           "type": "scatter",
           "x": [
            1,
            3,
            6
           ],
           "y": [
            4.01653528213501,
            9.143125534057617,
            16.833009719848633
           ]
          }
         ]
        },
        {
         "data": [
          {
           "type": "scatter",
           "x": [
            1,
            3,
            6
           ],
           "y": [
            4.017577648162842,
            9.143575668334961,
            16.83257293701172
           ]
          }
         ]
        },
        {
         "data": [
          {
           "type": "scatter",
           "x": [
            1,
            3,
            6
           ],
           "y": [
            4.018619537353516,
            9.144025802612305,
            16.832134246826172
           ]
          }
         ]
        },
        {
         "data": [
          {
           "type": "scatter",
           "x": [
            1,
            3,
            6
           ],
           "y": [
            4.019660472869873,
            9.144475936889648,
            16.831697463989258
           ]
          }
         ]
        },
        {
         "data": [
          {
           "type": "scatter",
           "x": [
            1,
            3,
            6
           ],
           "y": [
            4.0207014083862305,
            9.144926071166992,
            16.831262588500977
           ]
          }
         ]
        },
        {
         "data": [
          {
           "type": "scatter",
           "x": [
            1,
            3,
            6
           ],
           "y": [
            4.021740913391113,
            9.145374298095703,
            16.83082389831543
           ]
          }
         ]
        },
        {
         "data": [
          {
           "type": "scatter",
           "x": [
            1,
            3,
            6
           ],
           "y": [
            4.022780418395996,
            9.14582347869873,
            16.83038902282715
           ]
          }
         ]
        },
        {
         "data": [
          {
           "type": "scatter",
           "x": [
            1,
            3,
            6
           ],
           "y": [
            4.023819446563721,
            9.146272659301758,
            16.829952239990234
           ]
          }
         ]
        },
        {
         "data": [
          {
           "type": "scatter",
           "x": [
            1,
            3,
            6
           ],
           "y": [
            4.024857997894287,
            9.146720886230469,
            16.82951545715332
           ]
          }
         ]
        },
        {
         "data": [
          {
           "type": "scatter",
           "x": [
            1,
            3,
            6
           ],
           "y": [
            4.025896072387695,
            9.14716911315918,
            16.82908058166504
           ]
          }
         ]
        },
        {
         "data": [
          {
           "type": "scatter",
           "x": [
            1,
            3,
            6
           ],
           "y": [
            4.026933193206787,
            9.14761734008789,
            16.828643798828125
           ]
          }
         ]
        },
        {
         "data": [
          {
           "type": "scatter",
           "x": [
            1,
            3,
            6
           ],
           "y": [
            4.027969837188721,
            9.148065567016602,
            16.828208923339844
           ]
          }
         ]
        },
        {
         "data": [
          {
           "type": "scatter",
           "x": [
            1,
            3,
            6
           ],
           "y": [
            4.029006004333496,
            9.148512840270996,
            16.827774047851562
           ]
          }
         ]
        },
        {
         "data": [
          {
           "type": "scatter",
           "x": [
            1,
            3,
            6
           ],
           "y": [
            4.030041694641113,
            9.14896011352539,
            16.82733726501465
           ]
          }
         ]
        },
        {
         "data": [
          {
           "type": "scatter",
           "x": [
            1,
            3,
            6
           ],
           "y": [
            4.031076908111572,
            9.149407386779785,
            16.826904296875
           ]
          }
         ]
        },
        {
         "data": [
          {
           "type": "scatter",
           "x": [
            1,
            3,
            6
           ],
           "y": [
            4.032111167907715,
            9.14985466003418,
            16.82646942138672
           ]
          }
         ]
        },
        {
         "data": [
          {
           "type": "scatter",
           "x": [
            1,
            3,
            6
           ],
           "y": [
            4.033145427703857,
            9.150300979614258,
            16.826034545898438
           ]
          }
         ]
        },
        {
         "data": [
          {
           "type": "scatter",
           "x": [
            1,
            3,
            6
           ],
           "y": [
            4.034178733825684,
            9.150747299194336,
            16.825599670410156
           ]
          }
         ]
        },
        {
         "data": [
          {
           "type": "scatter",
           "x": [
            1,
            3,
            6
           ],
           "y": [
            4.03521203994751,
            9.151193618774414,
            16.825166702270508
           ]
          }
         ]
        },
        {
         "data": [
          {
           "type": "scatter",
           "x": [
            1,
            3,
            6
           ],
           "y": [
            4.0362443923950195,
            9.151639938354492,
            16.82473373413086
           ]
          }
         ]
        },
        {
         "data": [
          {
           "type": "scatter",
           "x": [
            1,
            3,
            6
           ],
           "y": [
            4.037276268005371,
            9.15208625793457,
            16.82430076599121
           ]
          }
         ]
        },
        {
         "data": [
          {
           "type": "scatter",
           "x": [
            1,
            3,
            6
           ],
           "y": [
            4.0383076667785645,
            9.152531623840332,
            16.823867797851562
           ]
          }
         ]
        },
        {
         "data": [
          {
           "type": "scatter",
           "x": [
            1,
            3,
            6
           ],
           "y": [
            4.0393385887146,
            9.152976989746094,
            16.823434829711914
           ]
          }
         ]
        },
        {
         "data": [
          {
           "type": "scatter",
           "x": [
            1,
            3,
            6
           ],
           "y": [
            4.040369033813477,
            9.153422355651855,
            16.823001861572266
           ]
          }
         ]
        },
        {
         "data": [
          {
           "type": "scatter",
           "x": [
            1,
            3,
            6
           ],
           "y": [
            4.041398525238037,
            9.1538667678833,
            16.822568893432617
           ]
          }
         ]
        },
        {
         "data": [
          {
           "type": "scatter",
           "x": [
            1,
            3,
            6
           ],
           "y": [
            4.0424275398254395,
            9.154311180114746,
            16.8221378326416
           ]
          }
         ]
        },
        {
         "data": [
          {
           "type": "scatter",
           "x": [
            1,
            3,
            6
           ],
           "y": [
            4.043456077575684,
            9.154755592346191,
            16.821704864501953
           ]
          }
         ]
        },
        {
         "data": [
          {
           "type": "scatter",
           "x": [
            1,
            3,
            6
           ],
           "y": [
            4.0444841384887695,
            9.15519905090332,
            16.821271896362305
           ]
          }
         ]
        },
        {
         "data": [
          {
           "type": "scatter",
           "x": [
            1,
            3,
            6
           ],
           "y": [
            4.045511722564697,
            9.155643463134766,
            16.82084083557129
           ]
          }
         ]
        },
        {
         "data": [
          {
           "type": "scatter",
           "x": [
            1,
            3,
            6
           ],
           "y": [
            4.046538829803467,
            9.156087875366211,
            16.820409774780273
           ]
          }
         ]
        },
        {
         "data": [
          {
           "type": "scatter",
           "x": [
            1,
            3,
            6
           ],
           "y": [
            4.047565460205078,
            9.156530380249023,
            16.819978713989258
           ]
          }
         ]
        },
        {
         "data": [
          {
           "type": "scatter",
           "x": [
            1,
            3,
            6
           ],
           "y": [
            4.048591136932373,
            9.156973838806152,
            16.819547653198242
           ]
          }
         ]
        },
        {
         "data": [
          {
           "type": "scatter",
           "x": [
            1,
            3,
            6
           ],
           "y": [
            4.049616813659668,
            9.157417297363281,
            16.81911849975586
           ]
          }
         ]
        },
        {
         "data": [
          {
           "type": "scatter",
           "x": [
            1,
            3,
            6
           ],
           "y": [
            4.0506415367126465,
            9.157859802246094,
            16.818687438964844
           ]
          }
         ]
        },
        {
         "data": [
          {
           "type": "scatter",
           "x": [
            1,
            3,
            6
           ],
           "y": [
            4.051665782928467,
            9.158302307128906,
            16.81825828552246
           ]
          }
         ]
        },
        {
         "data": [
          {
           "type": "scatter",
           "x": [
            1,
            3,
            6
           ],
           "y": [
            4.052689552307129,
            9.158744812011719,
            16.817827224731445
           ]
          }
         ]
        },
        {
         "data": [
          {
           "type": "scatter",
           "x": [
            1,
            3,
            6
           ],
           "y": [
            4.053712844848633,
            9.159186363220215,
            16.817398071289062
           ]
          }
         ]
        },
        {
         "data": [
          {
           "type": "scatter",
           "x": [
            1,
            3,
            6
           ],
           "y": [
            4.0547356605529785,
            9.159628868103027,
            16.81696891784668
           ]
          }
         ]
        },
        {
         "data": [
          {
           "type": "scatter",
           "x": [
            1,
            3,
            6
           ],
           "y": [
            4.055757522583008,
            9.160069465637207,
            16.816537857055664
           ]
          }
         ]
        },
        {
         "data": [
          {
           "type": "scatter",
           "x": [
            1,
            3,
            6
           ],
           "y": [
            4.056779384613037,
            9.160511016845703,
            16.81610870361328
           ]
          }
         ]
        },
        {
         "data": [
          {
           "type": "scatter",
           "x": [
            1,
            3,
            6
           ],
           "y": [
            4.05780029296875,
            9.1609525680542,
            16.81568145751953
           ]
          }
         ]
        },
        {
         "data": [
          {
           "type": "scatter",
           "x": [
            1,
            3,
            6
           ],
           "y": [
            4.058820724487305,
            9.161393165588379,
            16.81525230407715
           ]
          }
         ]
        },
        {
         "data": [
          {
           "type": "scatter",
           "x": [
            1,
            3,
            6
           ],
           "y": [
            4.059840679168701,
            9.161833763122559,
            16.814823150634766
           ]
          }
         ]
        },
        {
         "data": [
          {
           "type": "scatter",
           "x": [
            1,
            3,
            6
           ],
           "y": [
            4.060860633850098,
            9.162275314331055,
            16.814395904541016
           ]
          }
         ]
        },
        {
         "data": [
          {
           "type": "scatter",
           "x": [
            1,
            3,
            6
           ],
           "y": [
            4.0618791580200195,
            9.162714004516602,
            16.813966751098633
           ]
          }
         ]
        },
        {
         "data": [
          {
           "type": "scatter",
           "x": [
            1,
            3,
            6
           ],
           "y": [
            4.062897682189941,
            9.163154602050781,
            16.813539505004883
           ]
          }
         ]
        },
        {
         "data": [
          {
           "type": "scatter",
           "x": [
            1,
            3,
            6
           ],
           "y": [
            4.063915729522705,
            9.163594245910645,
            16.813112258911133
           ]
          }
         ]
        },
        {
         "data": [
          {
           "type": "scatter",
           "x": [
            1,
            3,
            6
           ],
           "y": [
            4.064932823181152,
            9.164033889770508,
            16.812685012817383
           ]
          }
         ]
        },
        {
         "data": [
          {
           "type": "scatter",
           "x": [
            1,
            3,
            6
           ],
           "y": [
            4.0659499168396,
            9.164473533630371,
            16.812257766723633
           ]
          }
         ]
        },
        {
         "data": [
          {
           "type": "scatter",
           "x": [
            1,
            3,
            6
           ],
           "y": [
            4.0669660568237305,
            9.164912223815918,
            16.811830520629883
           ]
          }
         ]
        },
        {
         "data": [
          {
           "type": "scatter",
           "x": [
            1,
            3,
            6
           ],
           "y": [
            4.067981719970703,
            9.165350914001465,
            16.811405181884766
           ]
          }
         ]
        },
        {
         "data": [
          {
           "type": "scatter",
           "x": [
            1,
            3,
            6
           ],
           "y": [
            4.068996906280518,
            9.165789604187012,
            16.81097984313965
           ]
          }
         ]
        },
        {
         "data": [
          {
           "type": "scatter",
           "x": [
            1,
            3,
            6
           ],
           "y": [
            4.070011615753174,
            9.166227340698242,
            16.8105525970459
           ]
          }
         ]
        },
        {
         "data": [
          {
           "type": "scatter",
           "x": [
            1,
            3,
            6
           ],
           "y": [
            4.071025848388672,
            9.166666030883789,
            16.81012535095215
           ]
          }
         ]
        },
        {
         "data": [
          {
           "type": "scatter",
           "x": [
            1,
            3,
            6
           ],
           "y": [
            4.0720391273498535,
            9.16710376739502,
            16.809701919555664
           ]
          }
         ]
        },
        {
         "data": [
          {
           "type": "scatter",
           "x": [
            1,
            3,
            6
           ],
           "y": [
            4.073052406311035,
            9.16754150390625,
            16.809274673461914
           ]
          }
         ]
        },
        {
         "data": [
          {
           "type": "scatter",
           "x": [
            1,
            3,
            6
           ],
           "y": [
            4.0740647315979,
            9.16797924041748,
            16.808849334716797
           ]
          }
         ]
        },
        {
         "data": [
          {
           "type": "scatter",
           "x": [
            1,
            3,
            6
           ],
           "y": [
            4.075077056884766,
            9.168416023254395,
            16.808425903320312
           ]
          }
         ]
        },
        {
         "data": [
          {
           "type": "scatter",
           "x": [
            1,
            3,
            6
           ],
           "y": [
            4.0760884284973145,
            9.168852806091309,
            16.808000564575195
           ]
          }
         ]
        },
        {
         "data": [
          {
           "type": "scatter",
           "x": [
            1,
            3,
            6
           ],
           "y": [
            4.077099323272705,
            9.169290542602539,
            16.807575225830078
           ]
          }
         ]
        },
        {
         "data": [
          {
           "type": "scatter",
           "x": [
            1,
            3,
            6
           ],
           "y": [
            4.0781097412109375,
            9.169726371765137,
            16.807151794433594
           ]
          }
         ]
        },
        {
         "data": [
          {
           "type": "scatter",
           "x": [
            1,
            3,
            6
           ],
           "y": [
            4.079119682312012,
            9.170162200927734,
            16.806726455688477
           ]
          }
         ]
        },
        {
         "data": [
          {
           "type": "scatter",
           "x": [
            1,
            3,
            6
           ],
           "y": [
            4.0801286697387695,
            9.170598983764648,
            16.806304931640625
           ]
          }
         ]
        },
        {
         "data": [
          {
           "type": "scatter",
           "x": [
            1,
            3,
            6
           ],
           "y": [
            4.081137657165527,
            9.17103385925293,
            16.805879592895508
           ]
          }
         ]
        },
        {
         "data": [
          {
           "type": "scatter",
           "x": [
            1,
            3,
            6
           ],
           "y": [
            4.082145690917969,
            9.171469688415527,
            16.805456161499023
           ]
          }
         ]
        },
        {
         "data": [
          {
           "type": "scatter",
           "x": [
            1,
            3,
            6
           ],
           "y": [
            4.08315372467041,
            9.171905517578125,
            16.80503273010254
           ]
          }
         ]
        },
        {
         "data": [
          {
           "type": "scatter",
           "x": [
            1,
            3,
            6
           ],
           "y": [
            4.084160804748535,
            9.172340393066406,
            16.804609298706055
           ]
          }
         ]
        },
        {
         "data": [
          {
           "type": "scatter",
           "x": [
            1,
            3,
            6
           ],
           "y": [
            4.08516788482666,
            9.172775268554688,
            16.804187774658203
           ]
          }
         ]
        },
        {
         "data": [
          {
           "type": "scatter",
           "x": [
            1,
            3,
            6
           ],
           "y": [
            4.0861735343933105,
            9.173210144042969,
            16.80376434326172
           ]
          }
         ]
        },
        {
         "data": [
          {
           "type": "scatter",
           "x": [
            1,
            3,
            6
           ],
           "y": [
            4.087179183959961,
            9.173644065856934,
            16.803340911865234
           ]
          }
         ]
        },
        {
         "data": [
          {
           "type": "scatter",
           "x": [
            1,
            3,
            6
           ],
           "y": [
            4.088184356689453,
            9.174078941345215,
            16.802919387817383
           ]
          }
         ]
        },
        {
         "data": [
          {
           "type": "scatter",
           "x": [
            1,
            3,
            6
           ],
           "y": [
            4.089189052581787,
            9.174511909484863,
            16.80249786376953
           ]
          }
         ]
        },
        {
         "data": [
          {
           "type": "scatter",
           "x": [
            1,
            3,
            6
           ],
           "y": [
            4.090192794799805,
            9.174945831298828,
            16.80207633972168
           ]
          }
         ]
        },
        {
         "data": [
          {
           "type": "scatter",
           "x": [
            1,
            3,
            6
           ],
           "y": [
            4.091196537017822,
            9.175379753112793,
            16.801654815673828
           ]
          }
         ]
        },
        {
         "data": [
          {
           "type": "scatter",
           "x": [
            1,
            3,
            6
           ],
           "y": [
            4.092199325561523,
            9.175812721252441,
            16.801233291625977
           ]
          }
         ]
        },
        {
         "data": [
          {
           "type": "scatter",
           "x": [
            1,
            3,
            6
           ],
           "y": [
            4.093202114105225,
            9.176246643066406,
            16.800811767578125
           ]
          }
         ]
        },
        {
         "data": [
          {
           "type": "scatter",
           "x": [
            1,
            3,
            6
           ],
           "y": [
            4.094203948974609,
            9.176679611206055,
            16.800392150878906
           ]
          }
         ]
        },
        {
         "data": [
          {
           "type": "scatter",
           "x": [
            1,
            3,
            6
           ],
           "y": [
            4.095205307006836,
            9.177111625671387,
            16.799970626831055
           ]
          }
         ]
        },
        {
         "data": [
          {
           "type": "scatter",
           "x": [
            1,
            3,
            6
           ],
           "y": [
            4.0962066650390625,
            9.177544593811035,
            16.799551010131836
           ]
          }
         ]
        },
        {
         "data": [
          {
           "type": "scatter",
           "x": [
            1,
            3,
            6
           ],
           "y": [
            4.097207069396973,
            9.177976608276367,
            16.799131393432617
           ]
          }
         ]
        },
        {
         "data": [
          {
           "type": "scatter",
           "x": [
            1,
            3,
            6
           ],
           "y": [
            4.098206520080566,
            9.178407669067383,
            16.798709869384766
           ]
          }
         ]
        },
        {
         "data": [
          {
           "type": "scatter",
           "x": [
            1,
            3,
            6
           ],
           "y": [
            4.09920597076416,
            9.178840637207031,
            16.79829216003418
           ]
          }
         ]
        },
        {
         "data": [
          {
           "type": "scatter",
           "x": [
            1,
            3,
            6
           ],
           "y": [
            4.100204944610596,
            9.179271697998047,
            16.797870635986328
           ]
          }
         ]
        },
        {
         "data": [
          {
           "type": "scatter",
           "x": [
            1,
            3,
            6
           ],
           "y": [
            4.101202964782715,
            9.179702758789062,
            16.797452926635742
           ]
          }
         ]
        },
        {
         "data": [
          {
           "type": "scatter",
           "x": [
            1,
            3,
            6
           ],
           "y": [
            4.102200984954834,
            9.180133819580078,
            16.797035217285156
           ]
          }
         ]
        },
        {
         "data": [
          {
           "type": "scatter",
           "x": [
            1,
            3,
            6
           ],
           "y": [
            4.103198051452637,
            9.180564880371094,
            16.796615600585938
           ]
          }
         ]
        },
        {
         "data": [
          {
           "type": "scatter",
           "x": [
            1,
            3,
            6
           ],
           "y": [
            4.104194641113281,
            9.18099594116211,
            16.79619598388672
           ]
          }
         ]
        },
        {
         "data": [
          {
           "type": "scatter",
           "x": [
            1,
            3,
            6
           ],
           "y": [
            4.105191230773926,
            9.181426048278809,
            16.795778274536133
           ]
          }
         ]
        },
        {
         "data": [
          {
           "type": "scatter",
           "x": [
            1,
            3,
            6
           ],
           "y": [
            4.106186866760254,
            9.181856155395508,
            16.795360565185547
           ]
          }
         ]
        },
        {
         "data": [
          {
           "type": "scatter",
           "x": [
            1,
            3,
            6
           ],
           "y": [
            4.107181549072266,
            9.182286262512207,
            16.79494285583496
           ]
          }
         ]
        },
        {
         "data": [
          {
           "type": "scatter",
           "x": [
            1,
            3,
            6
           ],
           "y": [
            4.108176231384277,
            9.18271541595459,
            16.794525146484375
           ]
          }
         ]
        },
        {
         "data": [
          {
           "type": "scatter",
           "x": [
            1,
            3,
            6
           ],
           "y": [
            4.109170436859131,
            9.183145523071289,
            16.79410743713379
           ]
          }
         ]
        },
        {
         "data": [
          {
           "type": "scatter",
           "x": [
            1,
            3,
            6
           ],
           "y": [
            4.110164165496826,
            9.183574676513672,
            16.793691635131836
           ]
          }
         ]
        },
        {
         "data": [
          {
           "type": "scatter",
           "x": [
            1,
            3,
            6
           ],
           "y": [
            4.111156940460205,
            9.184003829956055,
            16.79327392578125
           ]
          }
         ]
        },
        {
         "data": [
          {
           "type": "scatter",
           "x": [
            1,
            3,
            6
           ],
           "y": [
            4.112149715423584,
            9.184432029724121,
            16.792856216430664
           ]
          }
         ]
        },
        {
         "data": [
          {
           "type": "scatter",
           "x": [
            1,
            3,
            6
           ],
           "y": [
            4.1131415367126465,
            9.184860229492188,
            16.792438507080078
           ]
          }
         ]
        },
        {
         "data": [
          {
           "type": "scatter",
           "x": [
            1,
            3,
            6
           ],
           "y": [
            4.114132881164551,
            9.18528938293457,
            16.792022705078125
           ]
          }
         ]
        },
        {
         "data": [
          {
           "type": "scatter",
           "x": [
            1,
            3,
            6
           ],
           "y": [
            4.115123748779297,
            9.185717582702637,
            16.791606903076172
           ]
          }
         ]
        },
        {
         "data": [
          {
           "type": "scatter",
           "x": [
            1,
            3,
            6
           ],
           "y": [
            4.116114616394043,
            9.186145782470703,
            16.79119110107422
           ]
          }
         ]
        },
        {
         "data": [
          {
           "type": "scatter",
           "x": [
            1,
            3,
            6
           ],
           "y": [
            4.117104530334473,
            9.186573028564453,
            16.790775299072266
           ]
          }
         ]
        },
        {
         "data": [
          {
           "type": "scatter",
           "x": [
            1,
            3,
            6
           ],
           "y": [
            4.118093490600586,
            9.186999320983887,
            16.790359497070312
           ]
          }
         ]
        },
        {
         "data": [
          {
           "type": "scatter",
           "x": [
            1,
            3,
            6
           ],
           "y": [
            4.119082450866699,
            9.187427520751953,
            16.78994369506836
           ]
          }
         ]
        },
        {
         "data": [
          {
           "type": "scatter",
           "x": [
            1,
            3,
            6
           ],
           "y": [
            4.120070934295654,
            9.187853813171387,
            16.78952980041504
           ]
          }
         ]
        },
        {
         "data": [
          {
           "type": "scatter",
           "x": [
            1,
            3,
            6
           ],
           "y": [
            4.121058464050293,
            9.18828010559082,
            16.789113998413086
           ]
          }
         ]
        },
        {
         "data": [
          {
           "type": "scatter",
           "x": [
            1,
            3,
            6
           ],
           "y": [
            4.122045993804932,
            9.18870735168457,
            16.788698196411133
           ]
          }
         ]
        },
        {
         "data": [
          {
           "type": "scatter",
           "x": [
            1,
            3,
            6
           ],
           "y": [
            4.123032569885254,
            9.189133644104004,
            16.788286209106445
           ]
          }
         ]
        },
        {
         "data": [
          {
           "type": "scatter",
           "x": [
            1,
            3,
            6
           ],
           "y": [
            4.124019145965576,
            9.189559936523438,
            16.787872314453125
           ]
          }
         ]
        },
        {
         "data": [
          {
           "type": "scatter",
           "x": [
            1,
            3,
            6
           ],
           "y": [
            4.125004768371582,
            9.189985275268555,
            16.787456512451172
           ]
          }
         ]
        },
        {
         "data": [
          {
           "type": "scatter",
           "x": [
            1,
            3,
            6
           ],
           "y": [
            4.12598991394043,
            9.190411567687988,
            16.78704261779785
           ]
          }
         ]
        },
        {
         "data": [
          {
           "type": "scatter",
           "x": [
            1,
            3,
            6
           ],
           "y": [
            4.126974582672119,
            9.190835952758789,
            16.78662872314453
           ]
          }
         ]
        },
        {
         "data": [
          {
           "type": "scatter",
           "x": [
            1,
            3,
            6
           ],
           "y": [
            4.12795877456665,
            9.191262245178223,
            16.786216735839844
           ]
          }
         ]
        },
        {
         "data": [
          {
           "type": "scatter",
           "x": [
            1,
            3,
            6
           ],
           "y": [
            4.128942489624023,
            9.191686630249023,
            16.785802841186523
           ]
          }
         ]
        },
        {
         "data": [
          {
           "type": "scatter",
           "x": [
            1,
            3,
            6
           ],
           "y": [
            4.129925727844238,
            9.19211196899414,
            16.785390853881836
           ]
          }
         ]
        },
        {
         "data": [
          {
           "type": "scatter",
           "x": [
            1,
            3,
            6
           ],
           "y": [
            4.130908012390137,
            9.192535400390625,
            16.784976959228516
           ]
          }
         ]
        },
        {
         "data": [
          {
           "type": "scatter",
           "x": [
            1,
            3,
            6
           ],
           "y": [
            4.131890296936035,
            9.192959785461426,
            16.784564971923828
           ]
          }
         ]
        },
        {
         "data": [
          {
           "type": "scatter",
           "x": [
            1,
            3,
            6
           ],
           "y": [
            4.132872104644775,
            9.193384170532227,
            16.784151077270508
           ]
          }
         ]
        },
        {
         "data": [
          {
           "type": "scatter",
           "x": [
            1,
            3,
            6
           ],
           "y": [
            4.133852958679199,
            9.193807601928711,
            16.78373908996582
           ]
          }
         ]
        },
        {
         "data": [
          {
           "type": "scatter",
           "x": [
            1,
            3,
            6
           ],
           "y": [
            4.134833335876465,
            9.194231033325195,
            16.783327102661133
           ]
          }
         ]
        },
        {
         "data": [
          {
           "type": "scatter",
           "x": [
            1,
            3,
            6
           ],
           "y": [
            4.1358137130737305,
            9.19465446472168,
            16.782917022705078
           ]
          }
         ]
        },
        {
         "data": [
          {
           "type": "scatter",
           "x": [
            1,
            3,
            6
           ],
           "y": [
            4.13679313659668,
            9.195077896118164,
            16.78250503540039
           ]
          }
         ]
        },
        {
         "data": [
          {
           "type": "scatter",
           "x": [
            1,
            3,
            6
           ],
           "y": [
            4.137772560119629,
            9.195501327514648,
            16.782094955444336
           ]
          }
         ]
        },
        {
         "data": [
          {
           "type": "scatter",
           "x": [
            1,
            3,
            6
           ],
           "y": [
            4.138751029968262,
            9.195923805236816,
            16.78168296813965
           ]
          }
         ]
        },
        {
         "data": [
          {
           "type": "scatter",
           "x": [
            1,
            3,
            6
           ],
           "y": [
            4.139728546142578,
            9.196346282958984,
            16.78127098083496
           ]
          }
         ]
        },
        {
         "data": [
          {
           "type": "scatter",
           "x": [
            1,
            3,
            6
           ],
           "y": [
            4.140706539154053,
            9.196768760681152,
            16.780860900878906
           ]
          }
         ]
        },
        {
         "data": [
          {
           "type": "scatter",
           "x": [
            1,
            3,
            6
           ],
           "y": [
            4.141683578491211,
            9.197190284729004,
            16.78045082092285
           ]
          }
         ]
        },
        {
         "data": [
          {
           "type": "scatter",
           "x": [
            1,
            3,
            6
           ],
           "y": [
            4.142659664154053,
            9.197612762451172,
            16.780040740966797
           ]
          }
         ]
        },
        {
         "data": [
          {
           "type": "scatter",
           "x": [
            1,
            3,
            6
           ],
           "y": [
            4.1436357498168945,
            9.198034286499023,
            16.779632568359375
           ]
          }
         ]
        },
        {
         "data": [
          {
           "type": "scatter",
           "x": [
            1,
            3,
            6
           ],
           "y": [
            4.144611358642578,
            9.198455810546875,
            16.77922248840332
           ]
          }
         ]
        },
        {
         "data": [
          {
           "type": "scatter",
           "x": [
            1,
            3,
            6
           ],
           "y": [
            4.145586013793945,
            9.198877334594727,
            16.778812408447266
           ]
          }
         ]
        },
        {
         "data": [
          {
           "type": "scatter",
           "x": [
            1,
            3,
            6
           ],
           "y": [
            4.1465606689453125,
            9.199297904968262,
            16.778404235839844
           ]
          }
         ]
        },
        {
         "data": [
          {
           "type": "scatter",
           "x": [
            1,
            3,
            6
           ],
           "y": [
            4.147534370422363,
            9.199718475341797,
            16.77799415588379
           ]
          }
         ]
        },
        {
         "data": [
          {
           "type": "scatter",
           "x": [
            1,
            3,
            6
           ],
           "y": [
            4.148508071899414,
            9.200139045715332,
            16.777585983276367
           ]
          }
         ]
        },
        {
         "data": [
          {
           "type": "scatter",
           "x": [
            1,
            3,
            6
           ],
           "y": [
            4.149480819702148,
            9.200559616088867,
            16.777177810668945
           ]
          }
         ]
        },
        {
         "data": [
          {
           "type": "scatter",
           "x": [
            1,
            3,
            6
           ],
           "y": [
            4.150453090667725,
            9.200980186462402,
            16.776769638061523
           ]
          }
         ]
        },
        {
         "data": [
          {
           "type": "scatter",
           "x": [
            1,
            3,
            6
           ],
           "y": [
            4.151424884796143,
            9.201399803161621,
            16.7763614654541
           ]
          }
         ]
        },
        {
         "data": [
          {
           "type": "scatter",
           "x": [
            1,
            3,
            6
           ],
           "y": [
            4.152396202087402,
            9.201818466186523,
            16.77595329284668
           ]
          }
         ]
        },
        {
         "data": [
          {
           "type": "scatter",
           "x": [
            1,
            3,
            6
           ],
           "y": [
            4.153367042541504,
            9.202238082885742,
            16.775545120239258
           ]
          }
         ]
        },
        {
         "data": [
          {
           "type": "scatter",
           "x": [
            1,
            3,
            6
           ],
           "y": [
            4.154337406158447,
            9.202657699584961,
            16.775136947631836
           ]
          }
         ]
        },
        {
         "data": [
          {
           "type": "scatter",
           "x": [
            1,
            3,
            6
           ],
           "y": [
            4.155307292938232,
            9.20307731628418,
            16.774730682373047
           ]
          }
         ]
        },
        {
         "data": [
          {
           "type": "scatter",
           "x": [
            1,
            3,
            6
           ],
           "y": [
            4.156276702880859,
            9.203495979309082,
            16.774324417114258
           ]
          }
         ]
        },
        {
         "data": [
          {
           "type": "scatter",
           "x": [
            1,
            3,
            6
           ],
           "y": [
            4.157245635986328,
            9.203913688659668,
            16.773916244506836
           ]
          }
         ]
        },
        {
         "data": [
          {
           "type": "scatter",
           "x": [
            1,
            3,
            6
           ],
           "y": [
            4.1582136154174805,
            9.20433235168457,
            16.773509979248047
           ]
          }
         ]
        },
        {
         "data": [
          {
           "type": "scatter",
           "x": [
            1,
            3,
            6
           ],
           "y": [
            4.159181594848633,
            9.204751014709473,
            16.773103713989258
           ]
          }
         ]
        },
        {
         "data": [
          {
           "type": "scatter",
           "x": [
            1,
            3,
            6
           ],
           "y": [
            4.160148620605469,
            9.205168724060059,
            16.77269744873047
           ]
          }
         ]
        },
        {
         "data": [
          {
           "type": "scatter",
           "x": [
            1,
            3,
            6
           ],
           "y": [
            4.161115646362305,
            9.205585479736328,
            16.77229118347168
           ]
          }
         ]
        },
        {
         "data": [
          {
           "type": "scatter",
           "x": [
            1,
            3,
            6
           ],
           "y": [
            4.162081718444824,
            9.206003189086914,
            16.77188491821289
           ]
          }
         ]
        },
        {
         "data": [
          {
           "type": "scatter",
           "x": [
            1,
            3,
            6
           ],
           "y": [
            4.163047790527344,
            9.2064208984375,
            16.771480560302734
           ]
          }
         ]
        },
        {
         "data": [
          {
           "type": "scatter",
           "x": [
            1,
            3,
            6
           ],
           "y": [
            4.164012908935547,
            9.20683765411377,
            16.771074295043945
           ]
          }
         ]
        },
        {
         "data": [
          {
           "type": "scatter",
           "x": [
            1,
            3,
            6
           ],
           "y": [
            4.164977550506592,
            9.207254409790039,
            16.77066993713379
           ]
          }
         ]
        },
        {
         "data": [
          {
           "type": "scatter",
           "x": [
            1,
            3,
            6
           ],
           "y": [
            4.1659417152404785,
            9.207670211791992,
            16.770263671875
           ]
          }
         ]
        },
        {
         "data": [
          {
           "type": "scatter",
           "x": [
            1,
            3,
            6
           ],
           "y": [
            4.166905403137207,
            9.208086967468262,
            16.769859313964844
           ]
          }
         ]
        },
        {
         "data": [
          {
           "type": "scatter",
           "x": [
            1,
            3,
            6
           ],
           "y": [
            4.167868614196777,
            9.208503723144531,
            16.769454956054688
           ]
          }
         ]
        },
        {
         "data": [
          {
           "type": "scatter",
           "x": [
            1,
            3,
            6
           ],
           "y": [
            4.1688313484191895,
            9.208919525146484,
            16.76905059814453
           ]
          }
         ]
        },
        {
         "data": [
          {
           "type": "scatter",
           "x": [
            1,
            3,
            6
           ],
           "y": [
            4.169793605804443,
            9.209335327148438,
            16.768646240234375
           ]
          }
         ]
        },
        {
         "data": [
          {
           "type": "scatter",
           "x": [
            1,
            3,
            6
           ],
           "y": [
            4.170755386352539,
            9.209750175476074,
            16.76824188232422
           ]
          }
         ]
        },
        {
         "data": [
          {
           "type": "scatter",
           "x": [
            1,
            3,
            6
           ],
           "y": [
            4.171716213226318,
            9.210165023803711,
            16.767839431762695
           ]
          }
         ]
        },
        {
         "data": [
          {
           "type": "scatter",
           "x": [
            1,
            3,
            6
           ],
           "y": [
            4.172677040100098,
            9.210580825805664,
            16.76743507385254
           ]
          }
         ]
        },
        {
         "data": [
          {
           "type": "scatter",
           "x": [
            1,
            3,
            6
           ],
           "y": [
            4.173637390136719,
            9.2109956741333,
            16.767032623291016
           ]
          }
         ]
        },
        {
         "data": [
          {
           "type": "scatter",
           "x": [
            1,
            3,
            6
           ],
           "y": [
            4.174596786499023,
            9.211409568786621,
            16.76662826538086
           ]
          }
         ]
        },
        {
         "data": [
          {
           "type": "scatter",
           "x": [
            1,
            3,
            6
           ],
           "y": [
            4.175556182861328,
            9.211823463439941,
            16.766225814819336
           ]
          }
         ]
        },
        {
         "data": [
          {
           "type": "scatter",
           "x": [
            1,
            3,
            6
           ],
           "y": [
            4.176514625549316,
            9.212238311767578,
            16.765823364257812
           ]
          }
         ]
        },
        {
         "data": [
          {
           "type": "scatter",
           "x": [
            1,
            3,
            6
           ],
           "y": [
            4.177473068237305,
            9.212652206420898,
            16.76542091369629
           ]
          }
         ]
        },
        {
         "data": [
          {
           "type": "scatter",
           "x": [
            1,
            3,
            6
           ],
           "y": [
            4.178430557250977,
            9.213065147399902,
            16.765018463134766
           ]
          }
         ]
        },
        {
         "data": [
          {
           "type": "scatter",
           "x": [
            1,
            3,
            6
           ],
           "y": [
            4.179388046264648,
            9.213479042053223,
            16.764616012573242
           ]
          }
         ]
        },
        {
         "data": [
          {
           "type": "scatter",
           "x": [
            1,
            3,
            6
           ],
           "y": [
            4.180344581604004,
            9.213891983032227,
            16.76421356201172
           ]
          }
         ]
        },
        {
         "data": [
          {
           "type": "scatter",
           "x": [
            1,
            3,
            6
           ],
           "y": [
            4.181300640106201,
            9.21430492401123,
            16.763813018798828
           ]
          }
         ]
        },
        {
         "data": [
          {
           "type": "scatter",
           "x": [
            1,
            3,
            6
           ],
           "y": [
            4.18225622177124,
            9.214717864990234,
            16.763412475585938
           ]
          }
         ]
        },
        {
         "data": [
          {
           "type": "scatter",
           "x": [
            1,
            3,
            6
           ],
           "y": [
            4.183211326599121,
            9.215130805969238,
            16.763010025024414
           ]
          }
         ]
        },
        {
         "data": [
          {
           "type": "scatter",
           "x": [
            1,
            3,
            6
           ],
           "y": [
            4.184165954589844,
            9.215542793273926,
            16.762609481811523
           ]
          }
         ]
        },
        {
         "data": [
          {
           "type": "scatter",
           "x": [
            1,
            3,
            6
           ],
           "y": [
            4.185120105743408,
            9.215954780578613,
            16.76220703125
           ]
          }
         ]
        },
        {
         "data": [
          {
           "type": "scatter",
           "x": [
            1,
            3,
            6
           ],
           "y": [
            4.1860737800598145,
            9.2163667678833,
            16.76180648803711
           ]
          }
         ]
        },
        {
         "data": [
          {
           "type": "scatter",
           "x": [
            1,
            3,
            6
           ],
           "y": [
            4.1870269775390625,
            9.216778755187988,
            16.76140785217285
           ]
          }
         ]
        },
        {
         "data": [
          {
           "type": "scatter",
           "x": [
            1,
            3,
            6
           ],
           "y": [
            4.187979698181152,
            9.217190742492676,
            16.76100730895996
           ]
          }
         ]
        },
        {
         "data": [
          {
           "type": "scatter",
           "x": [
            1,
            3,
            6
           ],
           "y": [
            4.188931465148926,
            9.217601776123047,
            16.76060676574707
           ]
          }
         ]
        },
        {
         "data": [
          {
           "type": "scatter",
           "x": [
            1,
            3,
            6
           ],
           "y": [
            4.189883232116699,
            9.218012809753418,
            16.76020622253418
           ]
          }
         ]
        },
        {
         "data": [
          {
           "type": "scatter",
           "x": [
            1,
            3,
            6
           ],
           "y": [
            4.190834045410156,
            9.218423843383789,
            16.759807586669922
           ]
          }
         ]
        },
        {
         "data": [
          {
           "type": "scatter",
           "x": [
            1,
            3,
            6
           ],
           "y": [
            4.191784858703613,
            9.218833923339844,
            16.759408950805664
           ]
          }
         ]
        },
        {
         "data": [
          {
           "type": "scatter",
           "x": [
            1,
            3,
            6
           ],
           "y": [
            4.192735195159912,
            9.219244956970215,
            16.759008407592773
           ]
          }
         ]
        },
        {
         "data": [
          {
           "type": "scatter",
           "x": [
            1,
            3,
            6
           ],
           "y": [
            4.1936845779418945,
            9.21965503692627,
            16.75861167907715
           ]
          }
         ]
        },
        {
         "data": [
          {
           "type": "scatter",
           "x": [
            1,
            3,
            6
           ],
           "y": [
            4.194633960723877,
            9.220065116882324,
            16.75821304321289
           ]
          }
         ]
        },
        {
         "data": [
          {
           "type": "scatter",
           "x": [
            1,
            3,
            6
           ],
           "y": [
            4.195582389831543,
            9.220474243164062,
            16.7578125
           ]
          }
         ]
        },
        {
         "data": [
          {
           "type": "scatter",
           "x": [
            1,
            3,
            6
           ],
           "y": [
            4.196530818939209,
            9.220884323120117,
            16.757415771484375
           ]
          }
         ]
        },
        {
         "data": [
          {
           "type": "scatter",
           "x": [
            1,
            3,
            6
           ],
           "y": [
            4.197478294372559,
            9.221294403076172,
            16.757017135620117
           ]
          }
         ]
        },
        {
         "data": [
          {
           "type": "scatter",
           "x": [
            1,
            3,
            6
           ],
           "y": [
            4.19842529296875,
            9.22170352935791,
            16.756620407104492
           ]
          }
         ]
        },
        {
         "data": [
          {
           "type": "scatter",
           "x": [
            1,
            3,
            6
           ],
           "y": [
            4.199372291564941,
            9.222112655639648,
            16.756221771240234
           ]
          }
         ]
        },
        {
         "data": [
          {
           "type": "scatter",
           "x": [
            1,
            3,
            6
           ],
           "y": [
            4.200318336486816,
            9.22252082824707,
            16.75582504272461
           ]
          }
         ]
        },
        {
         "data": [
          {
           "type": "scatter",
           "x": [
            1,
            3,
            6
           ],
           "y": [
            4.201263904571533,
            9.222929954528809,
            16.755428314208984
           ]
          }
         ]
        },
        {
         "data": [
          {
           "type": "scatter",
           "x": [
            1,
            3,
            6
           ],
           "y": [
            4.202208995819092,
            9.22333812713623,
            16.75503158569336
           ]
          }
         ]
        },
        {
         "data": [
          {
           "type": "scatter",
           "x": [
            1,
            3,
            6
           ],
           "y": [
            4.203153610229492,
            9.223746299743652,
            16.754634857177734
           ]
          }
         ]
        },
        {
         "data": [
          {
           "type": "scatter",
           "x": [
            1,
            3,
            6
           ],
           "y": [
            4.204097747802734,
            9.224153518676758,
            16.75423812866211
           ]
          }
         ]
        },
        {
         "data": [
          {
           "type": "scatter",
           "x": [
            1,
            3,
            6
           ],
           "y": [
            4.205041885375977,
            9.22456169128418,
            16.753841400146484
           ]
          }
         ]
        },
        {
         "data": [
          {
           "type": "scatter",
           "x": [
            1,
            3,
            6
           ],
           "y": [
            4.205985069274902,
            9.224969863891602,
            16.753446578979492
           ]
          }
         ]
        },
        {
         "data": [
          {
           "type": "scatter",
           "x": [
            1,
            3,
            6
           ],
           "y": [
            4.20692777633667,
            9.22537612915039,
            16.753049850463867
           ]
          }
         ]
        },
        {
         "data": [
          {
           "type": "scatter",
           "x": [
            1,
            3,
            6
           ],
           "y": [
            4.207870006561279,
            9.225783348083496,
            16.752655029296875
           ]
          }
         ]
        },
        {
         "data": [
          {
           "type": "scatter",
           "x": [
            1,
            3,
            6
           ],
           "y": [
            4.2088117599487305,
            9.226190567016602,
            16.75225830078125
           ]
          }
         ]
        },
        {
         "data": [
          {
           "type": "scatter",
           "x": [
            1,
            3,
            6
           ],
           "y": [
            4.209753036499023,
            9.22659683227539,
            16.751863479614258
           ]
          }
         ]
        },
        {
         "data": [
          {
           "type": "scatter",
           "x": [
            1,
            3,
            6
           ],
           "y": [
            4.210693359375,
            9.22700309753418,
            16.751468658447266
           ]
          }
         ]
        },
        {
         "data": [
          {
           "type": "scatter",
           "x": [
            1,
            3,
            6
           ],
           "y": [
            4.211633682250977,
            9.227409362792969,
            16.75107192993164
           ]
          }
         ]
        },
        {
         "data": [
          {
           "type": "scatter",
           "x": [
            1,
            3,
            6
           ],
           "y": [
            4.212573528289795,
            9.227815628051758,
            16.75067901611328
           ]
          }
         ]
        },
        {
         "data": [
          {
           "type": "scatter",
           "x": [
            1,
            3,
            6
           ],
           "y": [
            4.213512420654297,
            9.22822093963623,
            16.75028419494629
           ]
          }
         ]
        },
        {
         "data": [
          {
           "type": "scatter",
           "x": [
            1,
            3,
            6
           ],
           "y": [
            4.214451313018799,
            9.228626251220703,
            16.749889373779297
           ]
          }
         ]
        },
        {
         "data": [
          {
           "type": "scatter",
           "x": [
            1,
            3,
            6
           ],
           "y": [
            4.215389251708984,
            9.229031562805176,
            16.749494552612305
           ]
          }
         ]
        },
        {
         "data": [
          {
           "type": "scatter",
           "x": [
            1,
            3,
            6
           ],
           "y": [
            4.21632719039917,
            9.229436874389648,
            16.749101638793945
           ]
          }
         ]
        },
        {
         "data": [
          {
           "type": "scatter",
           "x": [
            1,
            3,
            6
           ],
           "y": [
            4.217264652252197,
            9.229842185974121,
            16.748708724975586
           ]
          }
         ]
        },
        {
         "data": [
          {
           "type": "scatter",
           "x": [
            1,
            3,
            6
           ],
           "y": [
            4.218201160430908,
            9.230246543884277,
            16.748315811157227
           ]
          }
         ]
        },
        {
         "data": [
          {
           "type": "scatter",
           "x": [
            1,
            3,
            6
           ],
           "y": [
            4.219137668609619,
            9.230650901794434,
            16.747920989990234
           ]
          }
         ]
        },
        {
         "data": [
          {
           "type": "scatter",
           "x": [
            1,
            3,
            6
           ],
           "y": [
            4.220073223114014,
            9.23105525970459,
            16.747528076171875
           ]
          }
         ]
        },
        {
         "data": [
          {
           "type": "scatter",
           "x": [
            1,
            3,
            6
           ],
           "y": [
            4.22100830078125,
            9.231459617614746,
            16.747135162353516
           ]
          }
         ]
        },
        {
         "data": [
          {
           "type": "scatter",
           "x": [
            1,
            3,
            6
           ],
           "y": [
            4.221943378448486,
            9.231863975524902,
            16.74674415588379
           ]
          }
         ]
        },
        {
         "data": [
          {
           "type": "scatter",
           "x": [
            1,
            3,
            6
           ],
           "y": [
            4.222877502441406,
            9.232267379760742,
            16.74635124206543
           ]
          }
         ]
        },
        {
         "data": [
          {
           "type": "scatter",
           "x": [
            1,
            3,
            6
           ],
           "y": [
            4.223811626434326,
            9.232670783996582,
            16.74595832824707
           ]
          }
         ]
        },
        {
         "data": [
          {
           "type": "scatter",
           "x": [
            1,
            3,
            6
           ],
           "y": [
            4.22474479675293,
            9.233073234558105,
            16.745567321777344
           ]
          }
         ]
        },
        {
         "data": [
          {
           "type": "scatter",
           "x": [
            1,
            3,
            6
           ],
           "y": [
            4.225677490234375,
            9.233476638793945,
            16.745176315307617
           ]
          }
         ]
        },
        {
         "data": [
          {
           "type": "scatter",
           "x": [
            1,
            3,
            6
           ],
           "y": [
            4.22661018371582,
            9.233879089355469,
            16.744783401489258
           ]
          }
         ]
        },
        {
         "data": [
          {
           "type": "scatter",
           "x": [
            1,
            3,
            6
           ],
           "y": [
            4.227541923522949,
            9.234281539916992,
            16.74439239501953
           ]
          }
         ]
        },
        {
         "data": [
          {
           "type": "scatter",
           "x": [
            1,
            3,
            6
           ],
           "y": [
            4.22847318649292,
            9.234684944152832,
            16.744001388549805
           ]
          }
         ]
        },
        {
         "data": [
          {
           "type": "scatter",
           "x": [
            1,
            3,
            6
           ],
           "y": [
            4.229403972625732,
            9.235086441040039,
            16.743610382080078
           ]
          }
         ]
        },
        {
         "data": [
          {
           "type": "scatter",
           "x": [
            1,
            3,
            6
           ],
           "y": [
            4.230334281921387,
            9.235488891601562,
            16.743221282958984
           ]
          }
         ]
        },
        {
         "data": [
          {
           "type": "scatter",
           "x": [
            1,
            3,
            6
           ],
           "y": [
            4.231264114379883,
            9.23589038848877,
            16.742828369140625
           ]
          }
         ]
        },
        {
         "data": [
          {
           "type": "scatter",
           "x": [
            1,
            3,
            6
           ],
           "y": [
            4.232193946838379,
            9.236291885375977,
            16.74243927001953
           ]
          }
         ]
        },
        {
         "data": [
          {
           "type": "scatter",
           "x": [
            1,
            3,
            6
           ],
           "y": [
            4.233122825622559,
            9.236693382263184,
            16.742050170898438
           ]
          }
         ]
        },
        {
         "data": [
          {
           "type": "scatter",
           "x": [
            1,
            3,
            6
           ],
           "y": [
            4.23405122756958,
            9.23709487915039,
            16.74165916442871
           ]
          }
         ]
        },
        {
         "data": [
          {
           "type": "scatter",
           "x": [
            1,
            3,
            6
           ],
           "y": [
            4.234979152679443,
            9.237495422363281,
            16.741270065307617
           ]
          }
         ]
        },
        {
         "data": [
          {
           "type": "scatter",
           "x": [
            1,
            3,
            6
           ],
           "y": [
            4.235906600952148,
            9.237895965576172,
            16.74087905883789
           ]
          }
         ]
        },
        {
         "data": [
          {
           "type": "scatter",
           "x": [
            1,
            3,
            6
           ],
           "y": [
            4.236833572387695,
            9.238296508789062,
            16.740489959716797
           ]
          }
         ]
        },
        {
         "data": [
          {
           "type": "scatter",
           "x": [
            1,
            3,
            6
           ],
           "y": [
            4.237760066986084,
            9.238696098327637,
            16.740100860595703
           ]
          }
         ]
        },
        {
         "data": [
          {
           "type": "scatter",
           "x": [
            1,
            3,
            6
           ],
           "y": [
            4.2386860847473145,
            9.239096641540527,
            16.739713668823242
           ]
          }
         ]
        },
        {
         "data": [
          {
           "type": "scatter",
           "x": [
            1,
            3,
            6
           ],
           "y": [
            4.239611625671387,
            9.239496231079102,
            16.73932456970215
           ]
          }
         ]
        },
        {
         "data": [
          {
           "type": "scatter",
           "x": [
            1,
            3,
            6
           ],
           "y": [
            4.240536689758301,
            9.239896774291992,
            16.738935470581055
           ]
          }
         ]
        },
        {
         "data": [
          {
           "type": "scatter",
           "x": [
            1,
            3,
            6
           ],
           "y": [
            4.241460800170898,
            9.24029541015625,
            16.738548278808594
           ]
          }
         ]
        },
        {
         "data": [
          {
           "type": "scatter",
           "x": [
            1,
            3,
            6
           ],
           "y": [
            4.242384910583496,
            9.240694046020508,
            16.7381591796875
           ]
          }
         ]
        },
        {
         "data": [
          {
           "type": "scatter",
           "x": [
            1,
            3,
            6
           ],
           "y": [
            4.2433085441589355,
            9.241093635559082,
            16.737770080566406
           ]
          }
         ]
        },
        {
         "data": [
          {
           "type": "scatter",
           "x": [
            1,
            3,
            6
           ],
           "y": [
            4.244231700897217,
            9.241493225097656,
            16.737384796142578
           ]
          }
         ]
        },
        {
         "data": [
          {
           "type": "scatter",
           "x": [
            1,
            3,
            6
           ],
           "y": [
            4.24515438079834,
            9.241891860961914,
            16.736997604370117
           ]
          }
         ]
        },
        {
         "data": [
          {
           "type": "scatter",
           "x": [
            1,
            3,
            6
           ],
           "y": [
            4.246076583862305,
            9.242289543151855,
            16.736610412597656
           ]
          }
         ]
        },
        {
         "data": [
          {
           "type": "scatter",
           "x": [
            1,
            3,
            6
           ],
           "y": [
            4.246998310089111,
            9.242688179016113,
            16.736223220825195
           ]
          }
         ]
        },
        {
         "data": [
          {
           "type": "scatter",
           "x": [
            1,
            3,
            6
           ],
           "y": [
            4.247919082641602,
            9.243085861206055,
            16.735836029052734
           ]
          }
         ]
        },
        {
         "data": [
          {
           "type": "scatter",
           "x": [
            1,
            3,
            6
           ],
           "y": [
            4.248839855194092,
            9.243483543395996,
            16.735448837280273
           ]
          }
         ]
        },
        {
         "data": [
          {
           "type": "scatter",
           "x": [
            1,
            3,
            6
           ],
           "y": [
            4.249760150909424,
            9.243881225585938,
            16.735061645507812
           ]
          }
         ]
        },
        {
         "data": [
          {
           "type": "scatter",
           "x": [
            1,
            3,
            6
           ],
           "y": [
            4.250679969787598,
            9.244278907775879,
            16.734676361083984
           ]
          }
         ]
        },
        {
         "data": [
          {
           "type": "scatter",
           "x": [
            1,
            3,
            6
           ],
           "y": [
            4.251599311828613,
            9.24467658996582,
            16.734291076660156
           ]
          }
         ]
        },
        {
         "data": [
          {
           "type": "scatter",
           "x": [
            1,
            3,
            6
           ],
           "y": [
            4.2525177001953125,
            9.245072364807129,
            16.733905792236328
           ]
          }
         ]
        },
        {
         "data": [
          {
           "type": "scatter",
           "x": [
            1,
            3,
            6
           ],
           "y": [
            4.253436088562012,
            9.24547004699707,
            16.7335205078125
           ]
          }
         ]
        },
        {
         "data": [
          {
           "type": "scatter",
           "x": [
            1,
            3,
            6
           ],
           "y": [
            4.2543535232543945,
            9.245865821838379,
            16.733135223388672
           ]
          }
         ]
        },
        {
         "data": [
          {
           "type": "scatter",
           "x": [
            1,
            3,
            6
           ],
           "y": [
            4.255270957946777,
            9.246261596679688,
            16.73274803161621
           ]
          }
         ]
        },
        {
         "data": [
          {
           "type": "scatter",
           "x": [
            1,
            3,
            6
           ],
           "y": [
            4.256187915802002,
            9.246658325195312,
            16.732362747192383
           ]
          }
         ]
        },
        {
         "data": [
          {
           "type": "scatter",
           "x": [
            1,
            3,
            6
           ],
           "y": [
            4.25710391998291,
            9.247054100036621,
            16.731979370117188
           ]
          }
         ]
        },
        {
         "data": [
          {
           "type": "scatter",
           "x": [
            1,
            3,
            6
           ],
           "y": [
            4.258019924163818,
            9.24744987487793,
            16.731595993041992
           ]
          }
         ]
        },
        {
         "data": [
          {
           "type": "scatter",
           "x": [
            1,
            3,
            6
           ],
           "y": [
            4.258935451507568,
            9.247845649719238,
            16.731210708618164
           ]
          }
         ]
        },
        {
         "data": [
          {
           "type": "scatter",
           "x": [
            1,
            3,
            6
           ],
           "y": [
            4.259850025177002,
            9.24824047088623,
            16.73082733154297
           ]
          }
         ]
        },
        {
         "data": [
          {
           "type": "scatter",
           "x": [
            1,
            3,
            6
           ],
           "y": [
            4.2607645988464355,
            9.248636245727539,
            16.73044204711914
           ]
          }
         ]
        },
        {
         "data": [
          {
           "type": "scatter",
           "x": [
            1,
            3,
            6
           ],
           "y": [
            4.261678695678711,
            9.249030113220215,
            16.730056762695312
           ]
          }
         ]
        },
        {
         "data": [
          {
           "type": "scatter",
           "x": [
            1,
            3,
            6
           ],
           "y": [
            4.26259183883667,
            9.249424934387207,
            16.729673385620117
           ]
          }
         ]
        },
        {
         "data": [
          {
           "type": "scatter",
           "x": [
            1,
            3,
            6
           ],
           "y": [
            4.263504981994629,
            9.2498197555542,
            16.729291915893555
           ]
          }
         ]
        },
        {
         "data": [
          {
           "type": "scatter",
           "x": [
            1,
            3,
            6
           ],
           "y": [
            4.2644171714782715,
            9.250213623046875,
            16.72890853881836
           ]
          }
         ]
        },
        {
         "data": [
          {
           "type": "scatter",
           "x": [
            1,
            3,
            6
           ],
           "y": [
            4.265329360961914,
            9.25060749053955,
            16.728525161743164
           ]
          }
         ]
        },
        {
         "data": [
          {
           "type": "scatter",
           "x": [
            1,
            3,
            6
           ],
           "y": [
            4.266241073608398,
            9.251001358032227,
            16.7281436920166
           ]
          }
         ]
        },
        {
         "data": [
          {
           "type": "scatter",
           "x": [
            1,
            3,
            6
           ],
           "y": [
            4.267151832580566,
            9.251395225524902,
            16.727760314941406
           ]
          }
         ]
        },
        {
         "data": [
          {
           "type": "scatter",
           "x": [
            1,
            3,
            6
           ],
           "y": [
            4.268062591552734,
            9.251788139343262,
            16.72737693786621
           ]
          }
         ]
        },
        {
         "data": [
          {
           "type": "scatter",
           "x": [
            1,
            3,
            6
           ],
           "y": [
            4.268972396850586,
            9.252181053161621,
            16.72699546813965
           ]
          }
         ]
        },
        {
         "data": [
          {
           "type": "scatter",
           "x": [
            1,
            3,
            6
           ],
           "y": [
            4.2698822021484375,
            9.252574920654297,
            16.726613998413086
           ]
          }
         ]
        },
        {
         "data": [
          {
           "type": "scatter",
           "x": [
            1,
            3,
            6
           ],
           "y": [
            4.270791053771973,
            9.252967834472656,
            16.726232528686523
           ]
          }
         ]
        },
        {
         "data": [
          {
           "type": "scatter",
           "x": [
            1,
            3,
            6
           ],
           "y": [
            4.271699905395508,
            9.2533597946167,
            16.72585105895996
           ]
          }
         ]
        }
       ],
       "layout": {
        "title": {
         "text": "Gradient Descent"
        },
        "updatemenus": [
         {
          "buttons": [
           {
            "args": [
             null
            ],
            "label": "Play",
            "method": "animate"
           }
          ],
          "type": "buttons"
         }
        ],
        "xaxis": {
         "autorange": false,
         "range": [
          0,
          10
         ]
        },
        "yaxis": {
         "autorange": false,
         "range": [
          0,
          20
         ]
        }
       }
      },
      "text/html": [
       "<div id=\"77bd7e5b-5a00-4d41-a58a-402a0af3826a\" style=\"height: 525px; width: 100%;\" class=\"plotly-graph-div\"></div><script type=\"text/javascript\">require([\"plotly\"], function(Plotly) { window.PLOTLYENV=window.PLOTLYENV || {};window.PLOTLYENV.BASE_URL=\"https://plot.ly\";\n",
       "        Plotly.plot(\n",
       "            '77bd7e5b-5a00-4d41-a58a-402a0af3826a',\n",
       "            [{\"x\": [1, 3, 6], \"y\": [6, 10, 16], \"type\": \"scatter\", \"uid\": \"2cfb5b25-4679-438a-943d-7485c4436ae5\"}],\n",
       "            {\"title\": {\"text\": \"Gradient Descent\"}, \"updatemenus\": [{\"buttons\": [{\"args\": [null], \"label\": \"Play\", \"method\": \"animate\"}], \"type\": \"buttons\"}], \"xaxis\": {\"autorange\": false, \"range\": [0, 10]}, \"yaxis\": {\"autorange\": false, \"range\": [0, 20]}},\n",
       "            {\"showLink\": false, \"linkText\": \"Export to plot.ly\", \"plotlyServerURL\": \"https://plot.ly\"}\n",
       "        ).then(function () {return Plotly.addFrames('77bd7e5b-5a00-4d41-a58a-402a0af3826a',[{\"data\": [{\"x\": [1, 3, 6], \"y\": [-1.613602638244629, -3.638021945953369, -6.674651145935059], \"type\": \"scatter\"}]}, {\"data\": [{\"x\": [1, 3, 6], \"y\": [-1.4612679481506348, -3.23958683013916, -5.907064914703369], \"type\": \"scatter\"}]}, {\"data\": [{\"x\": [1, 3, 6], \"y\": [-1.3137810230255127, -2.8539366722106934, -5.164170265197754], \"type\": \"scatter\"}]}, {\"data\": [{\"x\": [1, 3, 6], \"y\": [-1.1709861755371094, -2.480660915374756, -4.4451727867126465], \"type\": \"scatter\"}]}, {\"data\": [{\"x\": [1, 3, 6], \"y\": [-1.0327322483062744, -2.119361639022827, -3.7493057250976562], \"type\": \"scatter\"}]}, {\"data\": [{\"x\": [1, 3, 6], \"y\": [-0.8988734483718872, -1.7696539163589478, -3.075824737548828], \"type\": \"scatter\"}]}, {\"data\": [{\"x\": [1, 3, 6], \"y\": [-0.7692687511444092, -1.4311654567718506, -2.424010753631592], \"type\": \"scatter\"}]}, {\"data\": [{\"x\": [1, 3, 6], \"y\": [-0.6437811851501465, -1.103535532951355, -1.793166995048523], \"type\": \"scatter\"}]}, {\"data\": [{\"x\": [1, 3, 6], \"y\": [-0.5222786068916321, -0.7864150404930115, -1.1826196908950806], \"type\": \"scatter\"}]}, {\"data\": [{\"x\": [1, 3, 6], \"y\": [-0.40463289618492126, -0.4794663190841675, -0.591716468334198], \"type\": \"scatter\"}]}, {\"data\": [{\"x\": [1, 3, 6], \"y\": [-0.290720134973526, -0.18236243724822998, -0.019825905561447144], \"type\": \"scatter\"}]}, {\"data\": [{\"x\": [1, 3, 6], \"y\": [-0.18042033910751343, 0.10521304607391357, 0.5336631536483765], \"type\": \"scatter\"}]}, {\"data\": [{\"x\": [1, 3, 6], \"y\": [-0.07361744344234467, 0.38356634974479675, 1.069342017173767], \"type\": \"scatter\"}]}, {\"data\": [{\"x\": [1, 3, 6], \"y\": [0.02980095148086548, 0.65299391746521, 1.5877833366394043], \"type\": \"scatter\"}]}, {\"data\": [{\"x\": [1, 3, 6], \"y\": [0.1299435794353485, 0.9137825965881348, 2.089540958404541], \"type\": \"scatter\"}]}, {\"data\": [{\"x\": [1, 3, 6], \"y\": [0.22691571712493896, 1.1662099361419678, 2.5751514434814453], \"type\": \"scatter\"}]}, {\"data\": [{\"x\": [1, 3, 6], \"y\": [0.32081925868988037, 1.410544991493225, 3.045133590698242], \"type\": \"scatter\"}]}, {\"data\": [{\"x\": [1, 3, 6], \"y\": [0.41175276041030884, 1.6470474004745483, 3.4999892711639404], \"type\": \"scatter\"}]}, {\"data\": [{\"x\": [1, 3, 6], \"y\": [0.49981170892715454, 1.8759692907333374, 3.9402055740356445], \"type\": \"scatter\"}]}, {\"data\": [{\"x\": [1, 3, 6], \"y\": [0.5850883722305298, 2.0975542068481445, 4.366252899169922], \"type\": \"scatter\"}]}, {\"data\": [{\"x\": [1, 3, 6], \"y\": [0.6676722764968872, 2.312037467956543, 4.778585433959961], \"type\": \"scatter\"}]}, {\"data\": [{\"x\": [1, 3, 6], \"y\": [0.7476499080657959, 2.5196480751037598, 5.177645683288574], \"type\": \"scatter\"}]}, {\"data\": [{\"x\": [1, 3, 6], \"y\": [0.8251049518585205, 2.720606565475464, 5.563858985900879], \"type\": \"scatter\"}]}, {\"data\": [{\"x\": [1, 3, 6], \"y\": [0.9001185297966003, 2.9151268005371094, 5.937639236450195], \"type\": \"scatter\"}]}, {\"data\": [{\"x\": [1, 3, 6], \"y\": [0.9727690815925598, 3.1034154891967773, 6.299385070800781], \"type\": \"scatter\"}]}, {\"data\": [{\"x\": [1, 3, 6], \"y\": [1.0431324243545532, 3.285673141479492, 6.649484157562256], \"type\": \"scatter\"}]}, {\"data\": [{\"x\": [1, 3, 6], \"y\": [1.111282229423523, 3.4620935916900635, 6.98831033706665], \"type\": \"scatter\"}]}, {\"data\": [{\"x\": [1, 3, 6], \"y\": [1.1772894859313965, 3.632864236831665, 7.316226005554199], \"type\": \"scatter\"}]}, {\"data\": [{\"x\": [1, 3, 6], \"y\": [1.2412232160568237, 3.7981669902801514, 7.633583068847656], \"type\": \"scatter\"}]}, {\"data\": [{\"x\": [1, 3, 6], \"y\": [1.303149700164795, 3.9581775665283203, 7.940719127655029], \"type\": \"scatter\"}]}, {\"data\": [{\"x\": [1, 3, 6], \"y\": [1.3631336688995361, 4.113065242767334, 8.23796272277832], \"type\": \"scatter\"}]}, {\"data\": [{\"x\": [1, 3, 6], \"y\": [1.4212374687194824, 4.262995719909668, 8.525632858276367], \"type\": \"scatter\"}]}, {\"data\": [{\"x\": [1, 3, 6], \"y\": [1.4775214195251465, 4.408127307891846, 8.804036140441895], \"type\": \"scatter\"}]}, {\"data\": [{\"x\": [1, 3, 6], \"y\": [1.5320442914962769, 4.548615455627441, 9.073472023010254], \"type\": \"scatter\"}]}, {\"data\": [{\"x\": [1, 3, 6], \"y\": [1.5848623514175415, 4.684608459472656, 9.334227561950684], \"type\": \"scatter\"}]}, {\"data\": [{\"x\": [1, 3, 6], \"y\": [1.6360304355621338, 4.816251277923584, 9.58658218383789], \"type\": \"scatter\"}]}, {\"data\": [{\"x\": [1, 3, 6], \"y\": [1.685601830482483, 4.943683624267578, 9.830805778503418], \"type\": \"scatter\"}]}, {\"data\": [{\"x\": [1, 3, 6], \"y\": [1.733627438545227, 5.06704044342041, 10.067160606384277], \"type\": \"scatter\"}]}, {\"data\": [{\"x\": [1, 3, 6], \"y\": [1.7801570892333984, 5.186453819274902, 10.2958984375], \"type\": \"scatter\"}]}, {\"data\": [{\"x\": [1, 3, 6], \"y\": [1.825238823890686, 5.302048683166504, 10.517263412475586], \"type\": \"scatter\"}]}, {\"data\": [{\"x\": [1, 3, 6], \"y\": [1.8689192533493042, 5.413949012756348, 10.731493949890137], \"type\": \"scatter\"}]}, {\"data\": [{\"x\": [1, 3, 6], \"y\": [1.911243200302124, 5.522273540496826, 10.93881893157959], \"type\": \"scatter\"}]}, {\"data\": [{\"x\": [1, 3, 6], \"y\": [1.9522544145584106, 5.627136707305908, 11.139459609985352], \"type\": \"scatter\"}]}, {\"data\": [{\"x\": [1, 3, 6], \"y\": [1.991994857788086, 5.728650093078613, 11.333633422851562], \"type\": \"scatter\"}]}, {\"data\": [{\"x\": [1, 3, 6], \"y\": [2.030505657196045, 5.826921463012695, 11.521544456481934], \"type\": \"scatter\"}]}, {\"data\": [{\"x\": [1, 3, 6], \"y\": [2.0678257942199707, 5.922054290771484, 11.703396797180176], \"type\": \"scatter\"}]}, {\"data\": [{\"x\": [1, 3, 6], \"y\": [2.103994131088257, 6.0141496658325195, 11.879383087158203], \"type\": \"scatter\"}]}, {\"data\": [{\"x\": [1, 3, 6], \"y\": [2.139047145843506, 6.103306293487549, 12.049694061279297], \"type\": \"scatter\"}]}, {\"data\": [{\"x\": [1, 3, 6], \"y\": [2.173021078109741, 6.189617156982422, 12.214510917663574], \"type\": \"scatter\"}]}, {\"data\": [{\"x\": [1, 3, 6], \"y\": [2.2059504985809326, 6.273174285888672, 12.37401008605957], \"type\": \"scatter\"}]}, {\"data\": [{\"x\": [1, 3, 6], \"y\": [2.2378687858581543, 6.354066848754883, 12.528364181518555], \"type\": \"scatter\"}]}, {\"data\": [{\"x\": [1, 3, 6], \"y\": [2.268808364868164, 6.432379245758057, 12.677736282348633], \"type\": \"scatter\"}]}, {\"data\": [{\"x\": [1, 3, 6], \"y\": [2.2988007068634033, 6.508195400238037, 12.822286605834961], \"type\": \"scatter\"}]}, {\"data\": [{\"x\": [1, 3, 6], \"y\": [2.327876567840576, 6.581594944000244, 12.962172508239746], \"type\": \"scatter\"}]}, {\"data\": [{\"x\": [1, 3, 6], \"y\": [2.356065034866333, 6.652655601501465, 13.097541809082031], \"type\": \"scatter\"}]}, {\"data\": [{\"x\": [1, 3, 6], \"y\": [2.383394718170166, 6.7214531898498535, 13.228540420532227], \"type\": \"scatter\"}]}, {\"data\": [{\"x\": [1, 3, 6], \"y\": [2.409893274307251, 6.788060188293457, 13.355310440063477], \"type\": \"scatter\"}]}, {\"data\": [{\"x\": [1, 3, 6], \"y\": [2.435587167739868, 6.852545738220215, 13.477984428405762], \"type\": \"scatter\"}]}, {\"data\": [{\"x\": [1, 3, 6], \"y\": [2.4605021476745605, 6.914979457855225, 13.596695899963379], \"type\": \"scatter\"}]}, {\"data\": [{\"x\": [1, 3, 6], \"y\": [2.484663724899292, 6.975427150726318, 13.711572647094727], \"type\": \"scatter\"}]}, {\"data\": [{\"x\": [1, 3, 6], \"y\": [2.5080957412719727, 7.033951759338379, 13.822735786437988], \"type\": \"scatter\"}]}, {\"data\": [{\"x\": [1, 3, 6], \"y\": [2.5308218002319336, 7.090616226196289, 13.930307388305664], \"type\": \"scatter\"}]}, {\"data\": [{\"x\": [1, 3, 6], \"y\": [2.5528643131256104, 7.145479202270508, 14.034401893615723], \"type\": \"scatter\"}]}, {\"data\": [{\"x\": [1, 3, 6], \"y\": [2.5742454528808594, 7.198599815368652, 14.135130882263184], \"type\": \"scatter\"}]}, {\"data\": [{\"x\": [1, 3, 6], \"y\": [2.5949859619140625, 7.250032424926758, 14.2326021194458], \"type\": \"scatter\"}]}, {\"data\": [{\"x\": [1, 3, 6], \"y\": [2.615107297897339, 7.299833297729492, 14.326921463012695], \"type\": \"scatter\"}]}, {\"data\": [{\"x\": [1, 3, 6], \"y\": [2.6346287727355957, 7.348052501678467, 14.41818904876709], \"type\": \"scatter\"}]}, {\"data\": [{\"x\": [1, 3, 6], \"y\": [2.653569459915161, 7.3947434425354, 14.50650405883789], \"type\": \"scatter\"}]}, {\"data\": [{\"x\": [1, 3, 6], \"y\": [2.6719484329223633, 7.439952850341797, 14.591958999633789], \"type\": \"scatter\"}]}, {\"data\": [{\"x\": [1, 3, 6], \"y\": [2.6897833347320557, 7.483729362487793, 14.674649238586426], \"type\": \"scatter\"}]}, {\"data\": [{\"x\": [1, 3, 6], \"y\": [2.707092046737671, 7.526120185852051, 14.754661560058594], \"type\": \"scatter\"}]}, {\"data\": [{\"x\": [1, 3, 6], \"y\": [2.723891019821167, 7.567167282104492, 14.83208179473877], \"type\": \"scatter\"}]}, {\"data\": [{\"x\": [1, 3, 6], \"y\": [2.74019718170166, 7.606916427612305, 14.906994819641113], \"type\": \"scatter\"}]}, {\"data\": [{\"x\": [1, 3, 6], \"y\": [2.756025552749634, 7.645407676696777, 14.979480743408203], \"type\": \"scatter\"}]}, {\"data\": [{\"x\": [1, 3, 6], \"y\": [2.771392345428467, 7.682682037353516, 15.049616813659668], \"type\": \"scatter\"}]}, {\"data\": [{\"x\": [1, 3, 6], \"y\": [2.7863118648529053, 7.71877908706665, 15.11747932434082], \"type\": \"scatter\"}]}, {\"data\": [{\"x\": [1, 3, 6], \"y\": [2.8007984161376953, 7.753735542297363, 15.183141708374023], \"type\": \"scatter\"}]}, {\"data\": [{\"x\": [1, 3, 6], \"y\": [2.814866065979004, 7.787588119506836, 15.246671676635742], \"type\": \"scatter\"}]}, {\"data\": [{\"x\": [1, 3, 6], \"y\": [2.8285281658172607, 7.82037353515625, 15.308141708374023], \"type\": \"scatter\"}]}, {\"data\": [{\"x\": [1, 3, 6], \"y\": [2.8417978286743164, 7.852125644683838, 15.367616653442383], \"type\": \"scatter\"}]}, {\"data\": [{\"x\": [1, 3, 6], \"y\": [2.8546876907348633, 7.882876873016357, 15.425161361694336], \"type\": \"scatter\"}]}, {\"data\": [{\"x\": [1, 3, 6], \"y\": [2.8672096729278564, 7.912659645080566, 15.4808349609375], \"type\": \"scatter\"}]}, {\"data\": [{\"x\": [1, 3, 6], \"y\": [2.879375696182251, 7.9415059089660645, 15.534700393676758], \"type\": \"scatter\"}]}, {\"data\": [{\"x\": [1, 3, 6], \"y\": [2.8911972045898438, 7.969444274902344, 15.586814880371094], \"type\": \"scatter\"}]}, {\"data\": [{\"x\": [1, 3, 6], \"y\": [2.9026851654052734, 7.996504783630371, 15.63723373413086], \"type\": \"scatter\"}]}, {\"data\": [{\"x\": [1, 3, 6], \"y\": [2.9138503074645996, 8.02271556854248, 15.686013221740723], \"type\": \"scatter\"}]}, {\"data\": [{\"x\": [1, 3, 6], \"y\": [2.924703359603882, 8.048104286193848, 15.733205795288086], \"type\": \"scatter\"}]}, {\"data\": [{\"x\": [1, 3, 6], \"y\": [2.935253858566284, 8.072697639465332, 15.778862953186035], \"type\": \"scatter\"}]}, {\"data\": [{\"x\": [1, 3, 6], \"y\": [2.94551157951355, 8.096519470214844, 15.823031425476074], \"type\": \"scatter\"}]}, {\"data\": [{\"x\": [1, 3, 6], \"y\": [2.9554860591888428, 8.119597434997559, 15.865763664245605], \"type\": \"scatter\"}]}, {\"data\": [{\"x\": [1, 3, 6], \"y\": [2.96518611907959, 8.141951560974121, 15.907099723815918], \"type\": \"scatter\"}]}, {\"data\": [{\"x\": [1, 3, 6], \"y\": [2.974621057510376, 8.163607597351074, 15.947088241577148], \"type\": \"scatter\"}]}, {\"data\": [{\"x\": [1, 3, 6], \"y\": [2.9837987422943115, 8.184588432312012, 15.985773086547852], \"type\": \"scatter\"}]}, {\"data\": [{\"x\": [1, 3, 6], \"y\": [2.992727756500244, 8.204915046691895, 16.023195266723633], \"type\": \"scatter\"}]}, {\"data\": [{\"x\": [1, 3, 6], \"y\": [3.0014162063598633, 8.224607467651367, 16.05939483642578], \"type\": \"scatter\"}]}, {\"data\": [{\"x\": [1, 3, 6], \"y\": [3.009871482849121, 8.24368667602539, 16.094409942626953], \"type\": \"scatter\"}]}, {\"data\": [{\"x\": [1, 3, 6], \"y\": [3.018101215362549, 8.262173652648926, 16.12828254699707], \"type\": \"scatter\"}]}, {\"data\": [{\"x\": [1, 3, 6], \"y\": [3.0261125564575195, 8.280086517333984, 16.161046981811523], \"type\": \"scatter\"}]}, {\"data\": [{\"x\": [1, 3, 6], \"y\": [3.0339126586914062, 8.297442436218262, 16.192737579345703], \"type\": \"scatter\"}]}, {\"data\": [{\"x\": [1, 3, 6], \"y\": [3.0415079593658447, 8.314260482788086, 16.223390579223633], \"type\": \"scatter\"}]}, {\"data\": [{\"x\": [1, 3, 6], \"y\": [3.048905611038208, 8.330558776855469, 16.25303840637207], \"type\": \"scatter\"}]}, {\"data\": [{\"x\": [1, 3, 6], \"y\": [3.0561113357543945, 8.346353530883789, 16.281715393066406], \"type\": \"scatter\"}]}, {\"data\": [{\"x\": [1, 3, 6], \"y\": [3.06313157081604, 8.361659049987793, 16.309450149536133], \"type\": \"scatter\"}]}, {\"data\": [{\"x\": [1, 3, 6], \"y\": [3.069972276687622, 8.376493453979492, 16.336275100708008], \"type\": \"scatter\"}]}, {\"data\": [{\"x\": [1, 3, 6], \"y\": [3.07663893699646, 8.390871047973633, 16.362218856811523], \"type\": \"scatter\"}]}, {\"data\": [{\"x\": [1, 3, 6], \"y\": [3.0831375122070312, 8.404806137084961, 16.387310028076172], \"type\": \"scatter\"}]}, {\"data\": [{\"x\": [1, 3, 6], \"y\": [3.089473247528076, 8.418313026428223, 16.41157341003418], \"type\": \"scatter\"}]}, {\"data\": [{\"x\": [1, 3, 6], \"y\": [3.095651149749756, 8.43140697479248, 16.435039520263672], \"type\": \"scatter\"}]}, {\"data\": [{\"x\": [1, 3, 6], \"y\": [3.1016764640808105, 8.444098472595215, 16.457731246948242], \"type\": \"scatter\"}]}, {\"data\": [{\"x\": [1, 3, 6], \"y\": [3.1075539588928223, 8.456401824951172, 16.47967529296875], \"type\": \"scatter\"}]}, {\"data\": [{\"x\": [1, 3, 6], \"y\": [3.113288402557373, 8.468330383300781, 16.50089454650879], \"type\": \"scatter\"}]}, {\"data\": [{\"x\": [1, 3, 6], \"y\": [3.118884325027466, 8.479894638061523, 16.52140998840332], \"type\": \"scatter\"}]}, {\"data\": [{\"x\": [1, 3, 6], \"y\": [3.1243460178375244, 8.491107940673828, 16.541250228881836], \"type\": \"scatter\"}]}, {\"data\": [{\"x\": [1, 3, 6], \"y\": [3.129678249359131, 8.50197982788086, 16.5604305267334], \"type\": \"scatter\"}]}, {\"data\": [{\"x\": [1, 3, 6], \"y\": [3.134884834289551, 8.512521743774414, 16.578977584838867], \"type\": \"scatter\"}]}, {\"data\": [{\"x\": [1, 3, 6], \"y\": [3.139969825744629, 8.522745132446289, 16.596908569335938], \"type\": \"scatter\"}]}, {\"data\": [{\"x\": [1, 3, 6], \"y\": [3.1449368000030518, 8.532659530639648, 16.61424446105957], \"type\": \"scatter\"}]}, {\"data\": [{\"x\": [1, 3, 6], \"y\": [3.149790048599243, 8.542274475097656, 16.63100242614746], \"type\": \"scatter\"}]}, {\"data\": [{\"x\": [1, 3, 6], \"y\": [3.1545331478118896, 8.55160140991211, 16.64720344543457], \"type\": \"scatter\"}]}, {\"data\": [{\"x\": [1, 3, 6], \"y\": [3.1591689586639404, 8.560647010803223, 16.66286277770996], \"type\": \"scatter\"}]}, {\"data\": [{\"x\": [1, 3, 6], \"y\": [3.1637017726898193, 8.569422721862793, 16.678003311157227], \"type\": \"scatter\"}]}, {\"data\": [{\"x\": [1, 3, 6], \"y\": [3.1681342124938965, 8.577934265136719, 16.69263458251953], \"type\": \"scatter\"}]}, {\"data\": [{\"x\": [1, 3, 6], \"y\": [3.1724700927734375, 8.586193084716797, 16.706777572631836], \"type\": \"scatter\"}]}, {\"data\": [{\"x\": [1, 3, 6], \"y\": [3.1767117977142334, 8.594205856323242, 16.72044563293457], \"type\": \"scatter\"}]}, {\"data\": [{\"x\": [1, 3, 6], \"y\": [3.1808629035949707, 8.601980209350586, 16.733657836914062], \"type\": \"scatter\"}]}, {\"data\": [{\"x\": [1, 3, 6], \"y\": [3.1849260330200195, 8.609526634216309, 16.74642562866211], \"type\": \"scatter\"}]}, {\"data\": [{\"x\": [1, 3, 6], \"y\": [3.188904285430908, 8.61684799194336, 16.75876235961914], \"type\": \"scatter\"}]}, {\"data\": [{\"x\": [1, 3, 6], \"y\": [3.1927998065948486, 8.623953819274902, 16.77068519592285], \"type\": \"scatter\"}]}, {\"data\": [{\"x\": [1, 3, 6], \"y\": [3.196615695953369, 8.630851745605469, 16.78220558166504], \"type\": \"scatter\"}]}, {\"data\": [{\"x\": [1, 3, 6], \"y\": [3.2003543376922607, 8.637547492980957, 16.793336868286133], \"type\": \"scatter\"}]}, {\"data\": [{\"x\": [1, 3, 6], \"y\": [3.2040181159973145, 8.644046783447266, 16.804088592529297], \"type\": \"scatter\"}]}, {\"data\": [{\"x\": [1, 3, 6], \"y\": [3.2076094150543213, 8.650357246398926, 16.81447982788086], \"type\": \"scatter\"}]}, {\"data\": [{\"x\": [1, 3, 6], \"y\": [3.2111308574676514, 8.65648365020752, 16.824514389038086], \"type\": \"scatter\"}]}, {\"data\": [{\"x\": [1, 3, 6], \"y\": [3.2145841121673584, 8.662434577941895, 16.834209442138672], \"type\": \"scatter\"}]}, {\"data\": [{\"x\": [1, 3, 6], \"y\": [3.2179718017578125, 8.668211936950684, 16.843570709228516], \"type\": \"scatter\"}]}, {\"data\": [{\"x\": [1, 3, 6], \"y\": [3.2212960720062256, 8.673824310302734, 16.852615356445312], \"type\": \"scatter\"}]}, {\"data\": [{\"x\": [1, 3, 6], \"y\": [3.2245585918426514, 8.679275512695312, 16.861351013183594], \"type\": \"scatter\"}]}, {\"data\": [{\"x\": [1, 3, 6], \"y\": [3.2277615070343018, 8.6845703125, 16.86978530883789], \"type\": \"scatter\"}]}, {\"data\": [{\"x\": [1, 3, 6], \"y\": [3.2309067249298096, 8.689716339111328, 16.8779296875], \"type\": \"scatter\"}]}, {\"data\": [{\"x\": [1, 3, 6], \"y\": [3.2339959144592285, 8.694714546203613, 16.885791778564453], \"type\": \"scatter\"}]}, {\"data\": [{\"x\": [1, 3, 6], \"y\": [3.2370309829711914, 8.699573516845703, 16.893386840820312], \"type\": \"scatter\"}]}, {\"data\": [{\"x\": [1, 3, 6], \"y\": [3.240013599395752, 8.704294204711914, 16.900714874267578], \"type\": \"scatter\"}]}, {\"data\": [{\"x\": [1, 3, 6], \"y\": [3.242945432662964, 8.708882331848145, 16.90778923034668], \"type\": \"scatter\"}]}, {\"data\": [{\"x\": [1, 3, 6], \"y\": [3.245828151702881, 8.71334457397461, 16.91461753845215], \"type\": \"scatter\"}]}, {\"data\": [{\"x\": [1, 3, 6], \"y\": [3.2486634254455566, 8.717681884765625, 16.92120933532715], \"type\": \"scatter\"}]}, {\"data\": [{\"x\": [1, 3, 6], \"y\": [3.2514524459838867, 8.721899032592773, 16.927568435668945], \"type\": \"scatter\"}]}, {\"data\": [{\"x\": [1, 3, 6], \"y\": [3.2541966438293457, 8.72599983215332, 16.933704376220703], \"type\": \"scatter\"}]}, {\"data\": [{\"x\": [1, 3, 6], \"y\": [3.2568979263305664, 8.729987144470215, 16.93962287902832], \"type\": \"scatter\"}]}, {\"data\": [{\"x\": [1, 3, 6], \"y\": [3.2595572471618652, 8.733867645263672, 16.94533348083496], \"type\": \"scatter\"}]}, {\"data\": [{\"x\": [1, 3, 6], \"y\": [3.262176036834717, 8.737642288208008, 16.950841903686523], \"type\": \"scatter\"}]}, {\"data\": [{\"x\": [1, 3, 6], \"y\": [3.2647552490234375, 8.741315841674805, 16.95615577697754], \"type\": \"scatter\"}]}, {\"data\": [{\"x\": [1, 3, 6], \"y\": [3.267296552658081, 8.744888305664062, 16.96127700805664], \"type\": \"scatter\"}]}, {\"data\": [{\"x\": [1, 3, 6], \"y\": [3.269801139831543, 8.748367309570312, 16.966215133666992], \"type\": \"scatter\"}]}, {\"data\": [{\"x\": [1, 3, 6], \"y\": [3.2722699642181396, 8.751752853393555, 16.970975875854492], \"type\": \"scatter\"}]}, {\"data\": [{\"x\": [1, 3, 6], \"y\": [3.2747044563293457, 8.755048751831055, 16.975566864013672], \"type\": \"scatter\"}]}, {\"data\": [{\"x\": [1, 3, 6], \"y\": [3.2771053314208984, 8.758259773254395, 16.979990005493164], \"type\": \"scatter\"}]}, {\"data\": [{\"x\": [1, 3, 6], \"y\": [3.2794740200042725, 8.761385917663574, 16.984254837036133], \"type\": \"scatter\"}]}, {\"data\": [{\"x\": [1, 3, 6], \"y\": [3.281811237335205, 8.764430046081543, 16.988357543945312], \"type\": \"scatter\"}]}, {\"data\": [{\"x\": [1, 3, 6], \"y\": [3.2841176986694336, 8.767396926879883, 16.9923152923584], \"type\": \"scatter\"}]}, {\"data\": [{\"x\": [1, 3, 6], \"y\": [3.2863950729370117, 8.770286560058594, 16.996124267578125], \"type\": \"scatter\"}]}, {\"data\": [{\"x\": [1, 3, 6], \"y\": [3.2886438369750977, 8.773104667663574, 16.999794006347656], \"type\": \"scatter\"}]}, {\"data\": [{\"x\": [1, 3, 6], \"y\": [3.290865182876587, 8.775849342346191, 17.003324508666992], \"type\": \"scatter\"}]}, {\"data\": [{\"x\": [1, 3, 6], \"y\": [3.2930595874786377, 8.778526306152344, 17.006725311279297], \"type\": \"scatter\"}]}, {\"data\": [{\"x\": [1, 3, 6], \"y\": [3.2952280044555664, 8.781135559082031, 17.009998321533203], \"type\": \"scatter\"}]}, {\"data\": [{\"x\": [1, 3, 6], \"y\": [3.2973713874816895, 8.783681869506836, 17.013147354125977], \"type\": \"scatter\"}]}, {\"data\": [{\"x\": [1, 3, 6], \"y\": [3.2994906902313232, 8.786164283752441, 17.016176223754883], \"type\": \"scatter\"}]}, {\"data\": [{\"x\": [1, 3, 6], \"y\": [3.301586151123047, 8.788586616516113, 17.019088745117188], \"type\": \"scatter\"}]}, {\"data\": [{\"x\": [1, 3, 6], \"y\": [3.3036584854125977, 8.790949821472168, 17.021886825561523], \"type\": \"scatter\"}]}, {\"data\": [{\"x\": [1, 3, 6], \"y\": [3.305708885192871, 8.793256759643555, 17.024578094482422], \"type\": \"scatter\"}]}, {\"data\": [{\"x\": [1, 3, 6], \"y\": [3.3077378273010254, 8.79550838470459, 17.027162551879883], \"type\": \"scatter\"}]}, {\"data\": [{\"x\": [1, 3, 6], \"y\": [3.309746265411377, 8.797706604003906, 17.029645919799805], \"type\": \"scatter\"}]}, {\"data\": [{\"x\": [1, 3, 6], \"y\": [3.311734199523926, 8.799853324890137, 17.032032012939453], \"type\": \"scatter\"}]}, {\"data\": [{\"x\": [1, 3, 6], \"y\": [3.3137028217315674, 8.80195140838623, 17.03432273864746], \"type\": \"scatter\"}]}, {\"data\": [{\"x\": [1, 3, 6], \"y\": [3.315652370452881, 8.803999900817871, 17.036521911621094], \"type\": \"scatter\"}]}, {\"data\": [{\"x\": [1, 3, 6], \"y\": [3.3175837993621826, 8.806001663208008, 17.03862762451172], \"type\": \"scatter\"}]}, {\"data\": [{\"x\": [1, 3, 6], \"y\": [3.3194973468780518, 8.80795955657959, 17.040651321411133], \"type\": \"scatter\"}]}, {\"data\": [{\"x\": [1, 3, 6], \"y\": [3.3213939666748047, 8.809871673583984, 17.04258918762207], \"type\": \"scatter\"}]}, {\"data\": [{\"x\": [1, 3, 6], \"y\": [3.3232736587524414, 8.81174373626709, 17.044448852539062], \"type\": \"scatter\"}]}, {\"data\": [{\"x\": [1, 3, 6], \"y\": [3.3251373767852783, 8.813573837280273, 17.046228408813477], \"type\": \"scatter\"}]}, {\"data\": [{\"x\": [1, 3, 6], \"y\": [3.3269851207733154, 8.815364837646484, 17.04793357849121], \"type\": \"scatter\"}]}, {\"data\": [{\"x\": [1, 3, 6], \"y\": [3.328817844390869, 8.817115783691406, 17.049562454223633], \"type\": \"scatter\"}]}, {\"data\": [{\"x\": [1, 3, 6], \"y\": [3.3306357860565186, 8.818830490112305, 17.051122665405273], \"type\": \"scatter\"}]}, {\"data\": [{\"x\": [1, 3, 6], \"y\": [3.332439422607422, 8.82050895690918, 17.052614212036133], \"type\": \"scatter\"}]}, {\"data\": [{\"x\": [1, 3, 6], \"y\": [3.3342292308807373, 8.822153091430664, 17.05403709411621], \"type\": \"scatter\"}]}, {\"data\": [{\"x\": [1, 3, 6], \"y\": [3.336005687713623, 8.823762893676758, 17.055397033691406], \"type\": \"scatter\"}]}, {\"data\": [{\"x\": [1, 3, 6], \"y\": [3.337769031524658, 8.825339317321777, 17.05669593811035], \"type\": \"scatter\"}]}, {\"data\": [{\"x\": [1, 3, 6], \"y\": [3.33951997756958, 8.826884269714355, 17.05792999267578], \"type\": \"scatter\"}]}, {\"data\": [{\"x\": [1, 3, 6], \"y\": [3.3412585258483887, 8.828399658203125, 17.059112548828125], \"type\": \"scatter\"}]}, {\"data\": [{\"x\": [1, 3, 6], \"y\": [3.3429853916168213, 8.82988452911377, 17.06023406982422], \"type\": \"scatter\"}]}, {\"data\": [{\"x\": [1, 3, 6], \"y\": [3.344700336456299, 8.831341743469238, 17.061302185058594], \"type\": \"scatter\"}]}, {\"data\": [{\"x\": [1, 3, 6], \"y\": [3.346404552459717, 8.832769393920898, 17.06231689453125], \"type\": \"scatter\"}]}, {\"data\": [{\"x\": [1, 3, 6], \"y\": [3.348097801208496, 8.834171295166016, 17.063282012939453], \"type\": \"scatter\"}]}, {\"data\": [{\"x\": [1, 3, 6], \"y\": [3.349780559539795, 8.83554744720459, 17.064197540283203], \"type\": \"scatter\"}]}, {\"data\": [{\"x\": [1, 3, 6], \"y\": [3.3514530658721924, 8.836896896362305, 17.0650634765625], \"type\": \"scatter\"}]}, {\"data\": [{\"x\": [1, 3, 6], \"y\": [3.3531157970428467, 8.838223457336426, 17.065885543823242], \"type\": \"scatter\"}]}, {\"data\": [{\"x\": [1, 3, 6], \"y\": [3.354768753051758, 8.839526176452637, 17.066661834716797], \"type\": \"scatter\"}]}, {\"data\": [{\"x\": [1, 3, 6], \"y\": [3.356412649154663, 8.840805053710938, 17.067394256591797], \"type\": \"scatter\"}]}, {\"data\": [{\"x\": [1, 3, 6], \"y\": [3.3580474853515625, 8.842062950134277, 17.068084716796875], \"type\": \"scatter\"}]}, {\"data\": [{\"x\": [1, 3, 6], \"y\": [3.359673500061035, 8.843297958374023, 17.068735122680664], \"type\": \"scatter\"}]}, {\"data\": [{\"x\": [1, 3, 6], \"y\": [3.36129093170166, 8.844512939453125, 17.069345474243164], \"type\": \"scatter\"}]}, {\"data\": [{\"x\": [1, 3, 6], \"y\": [3.3629002571105957, 8.845707893371582, 17.06991958618164], \"type\": \"scatter\"}]}, {\"data\": [{\"x\": [1, 3, 6], \"y\": [3.364501476287842, 8.846882820129395, 17.070453643798828], \"type\": \"scatter\"}]}, {\"data\": [{\"x\": [1, 3, 6], \"y\": [3.3660950660705566, 8.848038673400879, 17.070953369140625], \"type\": \"scatter\"}]}, {\"data\": [{\"x\": [1, 3, 6], \"y\": [3.3676810264587402, 8.849177360534668, 17.071420669555664], \"type\": \"scatter\"}]}, {\"data\": [{\"x\": [1, 3, 6], \"y\": [3.369259834289551, 8.850297927856445, 17.071855545043945], \"type\": \"scatter\"}]}, {\"data\": [{\"x\": [1, 3, 6], \"y\": [3.3708314895629883, 8.851401329040527, 17.072256088256836], \"type\": \"scatter\"}]}, {\"data\": [{\"x\": [1, 3, 6], \"y\": [3.3723959922790527, 8.852487564086914, 17.0726261138916], \"type\": \"scatter\"}]}, {\"data\": [{\"x\": [1, 3, 6], \"y\": [3.3739538192749023, 8.853557586669922, 17.07296371459961], \"type\": \"scatter\"}]}, {\"data\": [{\"x\": [1, 3, 6], \"y\": [3.3755054473876953, 8.8546142578125, 17.07327651977539], \"type\": \"scatter\"}]}, {\"data\": [{\"x\": [1, 3, 6], \"y\": [3.3770503997802734, 8.855652809143066, 17.07355499267578], \"type\": \"scatter\"}]}, {\"data\": [{\"x\": [1, 3, 6], \"y\": [3.378589630126953, 8.85667896270752, 17.07381248474121], \"type\": \"scatter\"}]}, {\"data\": [{\"x\": [1, 3, 6], \"y\": [3.380122423171997, 8.85768985748291, 17.074039459228516], \"type\": \"scatter\"}]}, {\"data\": [{\"x\": [1, 3, 6], \"y\": [3.3816494941711426, 8.858686447143555, 17.074241638183594], \"type\": \"scatter\"}]}, {\"data\": [{\"x\": [1, 3, 6], \"y\": [3.3831710815429688, 8.859670639038086, 17.074420928955078], \"type\": \"scatter\"}]}, {\"data\": [{\"x\": [1, 3, 6], \"y\": [3.3846871852874756, 8.860641479492188, 17.074573516845703], \"type\": \"scatter\"}]}, {\"data\": [{\"x\": [1, 3, 6], \"y\": [3.386197805404663, 8.861599922180176, 17.074703216552734], \"type\": \"scatter\"}]}, {\"data\": [{\"x\": [1, 3, 6], \"y\": [3.3877034187316895, 8.862546920776367, 17.074811935424805], \"type\": \"scatter\"}]}, {\"data\": [{\"x\": [1, 3, 6], \"y\": [3.3892037868499756, 8.863482475280762, 17.074899673461914], \"type\": \"scatter\"}]}, {\"data\": [{\"x\": [1, 3, 6], \"y\": [3.3906993865966797, 8.864405632019043, 17.07496452331543], \"type\": \"scatter\"}]}, {\"data\": [{\"x\": [1, 3, 6], \"y\": [3.3921899795532227, 8.865317344665527, 17.075008392333984], \"type\": \"scatter\"}]}, {\"data\": [{\"x\": [1, 3, 6], \"y\": [3.393676280975342, 8.866219520568848, 17.07503318786621], \"type\": \"scatter\"}]}, {\"data\": [{\"x\": [1, 3, 6], \"y\": [3.395158052444458, 8.867111206054688, 17.075040817260742], \"type\": \"scatter\"}]}, {\"data\": [{\"x\": [1, 3, 6], \"y\": [3.3966355323791504, 8.867993354797363, 17.075031280517578], \"type\": \"scatter\"}]}, {\"data\": [{\"x\": [1, 3, 6], \"y\": [3.39810848236084, 8.868865013122559, 17.07499885559082], \"type\": \"scatter\"}]}, {\"data\": [{\"x\": [1, 3, 6], \"y\": [3.3995773792266846, 8.869728088378906, 17.074954986572266], \"type\": \"scatter\"}]}, {\"data\": [{\"x\": [1, 3, 6], \"y\": [3.4010422229766846, 8.870580673217773, 17.07489013671875], \"type\": \"scatter\"}]}, {\"data\": [{\"x\": [1, 3, 6], \"y\": [3.402503252029419, 8.87142562866211, 17.074810028076172], \"type\": \"scatter\"}]}, {\"data\": [{\"x\": [1, 3, 6], \"y\": [3.4039602279663086, 8.872262954711914, 17.074716567993164], \"type\": \"scatter\"}]}, {\"data\": [{\"x\": [1, 3, 6], \"y\": [3.4054136276245117, 8.873090744018555, 17.07460594177246], \"type\": \"scatter\"}]}, {\"data\": [{\"x\": [1, 3, 6], \"y\": [3.406863212585449, 8.873909950256348, 17.074480056762695], \"type\": \"scatter\"}]}, {\"data\": [{\"x\": [1, 3, 6], \"y\": [3.4083092212677, 8.874722480773926, 17.0743408203125], \"type\": \"scatter\"}]}, {\"data\": [{\"x\": [1, 3, 6], \"y\": [3.4097518920898438, 8.875526428222656, 17.074188232421875], \"type\": \"scatter\"}]}, {\"data\": [{\"x\": [1, 3, 6], \"y\": [3.411191463470459, 8.876323699951172, 17.07402229309082], \"type\": \"scatter\"}]}, {\"data\": [{\"x\": [1, 3, 6], \"y\": [3.412627696990967, 8.877114295959473, 17.07384490966797], \"type\": \"scatter\"}]}, {\"data\": [{\"x\": [1, 3, 6], \"y\": [3.414060592651367, 8.877898216247559, 17.07365608215332], \"type\": \"scatter\"}]}, {\"data\": [{\"x\": [1, 3, 6], \"y\": [3.4154903888702393, 8.87867546081543, 17.07345199584961], \"type\": \"scatter\"}]}, {\"data\": [{\"x\": [1, 3, 6], \"y\": [3.416917324066162, 8.879446029663086, 17.073240280151367], \"type\": \"scatter\"}]}, {\"data\": [{\"x\": [1, 3, 6], \"y\": [3.4183411598205566, 8.880210876464844, 17.073015213012695], \"type\": \"scatter\"}]}, {\"data\": [{\"x\": [1, 3, 6], \"y\": [3.419761896133423, 8.88096809387207, 17.072778701782227], \"type\": \"scatter\"}]}, {\"data\": [{\"x\": [1, 3, 6], \"y\": [3.421180248260498, 8.881720542907715, 17.072532653808594], \"type\": \"scatter\"}]}, {\"data\": [{\"x\": [1, 3, 6], \"y\": [3.422595500946045, 8.882467269897461, 17.072275161743164], \"type\": \"scatter\"}]}, {\"data\": [{\"x\": [1, 3, 6], \"y\": [3.424008369445801, 8.883208274841309, 17.072010040283203], \"type\": \"scatter\"}]}, {\"data\": [{\"x\": [1, 3, 6], \"y\": [3.4254183769226074, 8.88394546508789, 17.071735382080078], \"type\": \"scatter\"}]}, {\"data\": [{\"x\": [1, 3, 6], \"y\": [3.426825761795044, 8.884675025939941, 17.071449279785156], \"type\": \"scatter\"}]}, {\"data\": [{\"x\": [1, 3, 6], \"y\": [3.4282307624816895, 8.885400772094727, 17.071155548095703], \"type\": \"scatter\"}]}, {\"data\": [{\"x\": [1, 3, 6], \"y\": [3.429633140563965, 8.88612174987793, 17.07085418701172], \"type\": \"scatter\"}]}, {\"data\": [{\"x\": [1, 3, 6], \"y\": [3.4310333728790283, 8.88683795928955, 17.07054328918457], \"type\": \"scatter\"}]}, {\"data\": [{\"x\": [1, 3, 6], \"y\": [3.432431221008301, 8.887548446655273, 17.07022476196289], \"type\": \"scatter\"}]}, {\"data\": [{\"x\": [1, 3, 6], \"y\": [3.4338266849517822, 8.88825511932373, 17.069896697998047], \"type\": \"scatter\"}]}, {\"data\": [{\"x\": [1, 3, 6], \"y\": [3.435220241546631, 8.888957977294922, 17.069564819335938], \"type\": \"scatter\"}]}, {\"data\": [{\"x\": [1, 3, 6], \"y\": [3.4366111755371094, 8.889657020568848, 17.069225311279297], \"type\": \"scatter\"}]}, {\"data\": [{\"x\": [1, 3, 6], \"y\": [3.438000202178955, 8.890350341796875, 17.068876266479492], \"type\": \"scatter\"}]}, {\"data\": [{\"x\": [1, 3, 6], \"y\": [3.439387321472168, 8.89104175567627, 17.068523406982422], \"type\": \"scatter\"}]}, {\"data\": [{\"x\": [1, 3, 6], \"y\": [3.440772294998169, 8.891728401184082, 17.06816291809082], \"type\": \"scatter\"}]}, {\"data\": [{\"x\": [1, 3, 6], \"y\": [3.442155122756958, 8.892411231994629, 17.06779670715332], \"type\": \"scatter\"}]}, {\"data\": [{\"x\": [1, 3, 6], \"y\": [3.4435362815856934, 8.893091201782227, 17.067424774169922], \"type\": \"scatter\"}]}, {\"data\": [{\"x\": [1, 3, 6], \"y\": [3.4449150562286377, 8.893766403198242, 17.06704330444336], \"type\": \"scatter\"}]}, {\"data\": [{\"x\": [1, 3, 6], \"y\": [3.4462921619415283, 8.894438743591309, 17.066659927368164], \"type\": \"scatter\"}]}, {\"data\": [{\"x\": [1, 3, 6], \"y\": [3.4476675987243652, 8.895108222961426, 17.066268920898438], \"type\": \"scatter\"}]}, {\"data\": [{\"x\": [1, 3, 6], \"y\": [3.4490408897399902, 8.895773887634277, 17.065872192382812], \"type\": \"scatter\"}]}, {\"data\": [{\"x\": [1, 3, 6], \"y\": [3.4504129886627197, 8.896437644958496, 17.065473556518555], \"type\": \"scatter\"}]}, {\"data\": [{\"x\": [1, 3, 6], \"y\": [3.4517831802368164, 8.89709758758545, 17.0650691986084], \"type\": \"scatter\"}]}, {\"data\": [{\"x\": [1, 3, 6], \"y\": [3.453151226043701, 8.897754669189453, 17.064659118652344], \"type\": \"scatter\"}]}, {\"data\": [{\"x\": [1, 3, 6], \"y\": [3.4545180797576904, 8.898408889770508, 17.064245223999023], \"type\": \"scatter\"}]}, {\"data\": [{\"x\": [1, 3, 6], \"y\": [3.455883026123047, 8.899060249328613, 17.063825607299805], \"type\": \"scatter\"}]}, {\"data\": [{\"x\": [1, 3, 6], \"y\": [3.4572465419769287, 8.899707794189453, 17.063400268554688], \"type\": \"scatter\"}]}, {\"data\": [{\"x\": [1, 3, 6], \"y\": [3.458608388900757, 8.900354385375977, 17.06297492980957], \"type\": \"scatter\"}]}, {\"data\": [{\"x\": [1, 3, 6], \"y\": [3.4599688053131104, 8.900999069213867, 17.062543869018555], \"type\": \"scatter\"}]}, {\"data\": [{\"x\": [1, 3, 6], \"y\": [3.46132755279541, 8.901639938354492, 17.06210708618164], \"type\": \"scatter\"}]}, {\"data\": [{\"x\": [1, 3, 6], \"y\": [3.4626848697662354, 8.902277946472168, 17.06166648864746], \"type\": \"scatter\"}]}, {\"data\": [{\"x\": [1, 3, 6], \"y\": [3.464040756225586, 8.902915000915527, 17.06122589111328], \"type\": \"scatter\"}]}, {\"data\": [{\"x\": [1, 3, 6], \"y\": [3.465395212173462, 8.903549194335938, 17.060779571533203], \"type\": \"scatter\"}]}, {\"data\": [{\"x\": [1, 3, 6], \"y\": [3.4667482376098633, 8.904180526733398, 17.06032943725586], \"type\": \"scatter\"}]}, {\"data\": [{\"x\": [1, 3, 6], \"y\": [3.468100070953369, 8.90481185913086, 17.059879302978516], \"type\": \"scatter\"}]}, {\"data\": [{\"x\": [1, 3, 6], \"y\": [3.4694504737854004, 8.905439376831055, 17.05942153930664], \"type\": \"scatter\"}]}, {\"data\": [{\"x\": [1, 3, 6], \"y\": [3.470799446105957, 8.906064987182617, 17.058963775634766], \"type\": \"scatter\"}]}, {\"data\": [{\"x\": [1, 3, 6], \"y\": [3.472146987915039, 8.906689643859863, 17.058502197265625], \"type\": \"scatter\"}]}, {\"data\": [{\"x\": [1, 3, 6], \"y\": [3.4734930992126465, 8.907310485839844, 17.05803680419922], \"type\": \"scatter\"}]}, {\"data\": [{\"x\": [1, 3, 6], \"y\": [3.4748382568359375, 8.907930374145508, 17.05756950378418], \"type\": \"scatter\"}]}, {\"data\": [{\"x\": [1, 3, 6], \"y\": [3.476181983947754, 8.908550262451172, 17.05710220336914], \"type\": \"scatter\"}]}, {\"data\": [{\"x\": [1, 3, 6], \"y\": [3.477524757385254, 8.90916633605957, 17.056629180908203], \"type\": \"scatter\"}]}, {\"data\": [{\"x\": [1, 3, 6], \"y\": [3.4788661003112793, 8.909781455993652, 17.056156158447266], \"type\": \"scatter\"}]}, {\"data\": [{\"x\": [1, 3, 6], \"y\": [3.48020601272583, 8.910395622253418, 17.055679321289062], \"type\": \"scatter\"}]}, {\"data\": [{\"x\": [1, 3, 6], \"y\": [3.4815449714660645, 8.911006927490234, 17.055198669433594], \"type\": \"scatter\"}]}, {\"data\": [{\"x\": [1, 3, 6], \"y\": [3.482882499694824, 8.911617279052734, 17.054718017578125], \"type\": \"scatter\"}]}, {\"data\": [{\"x\": [1, 3, 6], \"y\": [3.4842190742492676, 8.912225723266602, 17.054235458374023], \"type\": \"scatter\"}]}, {\"data\": [{\"x\": [1, 3, 6], \"y\": [3.4855542182922363, 8.912832260131836, 17.053749084472656], \"type\": \"scatter\"}]}, {\"data\": [{\"x\": [1, 3, 6], \"y\": [3.4868886470794678, 8.913437843322754, 17.05326271057129], \"type\": \"scatter\"}]}, {\"data\": [{\"x\": [1, 3, 6], \"y\": [3.4882216453552246, 8.914041519165039, 17.052772521972656], \"type\": \"scatter\"}]}, {\"data\": [{\"x\": [1, 3, 6], \"y\": [3.489553689956665, 8.914644241333008, 17.05228042602539], \"type\": \"scatter\"}]}, {\"data\": [{\"x\": [1, 3, 6], \"y\": [3.490884780883789, 8.915245056152344, 17.051786422729492], \"type\": \"scatter\"}]}, {\"data\": [{\"x\": [1, 3, 6], \"y\": [3.4922146797180176, 8.91584587097168, 17.051294326782227], \"type\": \"scatter\"}]}, {\"data\": [{\"x\": [1, 3, 6], \"y\": [3.4935433864593506, 8.916444778442383, 17.050798416137695], \"type\": \"scatter\"}]}, {\"data\": [{\"x\": [1, 3, 6], \"y\": [3.494871139526367, 8.91704273223877, 17.0502986907959], \"type\": \"scatter\"}]}, {\"data\": [{\"x\": [1, 3, 6], \"y\": [3.4961977005004883, 8.91763973236084, 17.049800872802734], \"type\": \"scatter\"}]}, {\"data\": [{\"x\": [1, 3, 6], \"y\": [3.497523546218872, 8.918233871459961, 17.049299240112305], \"type\": \"scatter\"}]}, {\"data\": [{\"x\": [1, 3, 6], \"y\": [3.4988481998443604, 8.918828964233398, 17.048799514770508], \"type\": \"scatter\"}]}, {\"data\": [{\"x\": [1, 3, 6], \"y\": [3.500171661376953, 8.919421195983887, 17.048294067382812], \"type\": \"scatter\"}]}, {\"data\": [{\"x\": [1, 3, 6], \"y\": [3.5014944076538086, 8.920012474060059, 17.047788619995117], \"type\": \"scatter\"}]}, {\"data\": [{\"x\": [1, 3, 6], \"y\": [3.5028159618377686, 8.920602798461914, 17.047283172607422], \"type\": \"scatter\"}]}, {\"data\": [{\"x\": [1, 3, 6], \"y\": [3.504136562347412, 8.921192169189453, 17.046775817871094], \"type\": \"scatter\"}]}, {\"data\": [{\"x\": [1, 3, 6], \"y\": [3.5054564476013184, 8.921781539916992, 17.0462703704834], \"type\": \"scatter\"}]}, {\"data\": [{\"x\": [1, 3, 6], \"y\": [3.50677490234375, 8.922368049621582, 17.045759201049805], \"type\": \"scatter\"}]}, {\"data\": [{\"x\": [1, 3, 6], \"y\": [3.5080926418304443, 8.922954559326172, 17.04524803161621], \"type\": \"scatter\"}]}, {\"data\": [{\"x\": [1, 3, 6], \"y\": [3.5094094276428223, 8.923540115356445, 17.044734954833984], \"type\": \"scatter\"}]}, {\"data\": [{\"x\": [1, 3, 6], \"y\": [3.510725259780884, 8.924124717712402, 17.04422378540039], \"type\": \"scatter\"}]}, {\"data\": [{\"x\": [1, 3, 6], \"y\": [3.512040138244629, 8.924707412719727, 17.04370880126953], \"type\": \"scatter\"}]}, {\"data\": [{\"x\": [1, 3, 6], \"y\": [3.5133543014526367, 8.925291061401367, 17.043195724487305], \"type\": \"scatter\"}]}, {\"data\": [{\"x\": [1, 3, 6], \"y\": [3.514667510986328, 8.925873756408691, 17.042682647705078], \"type\": \"scatter\"}]}, {\"data\": [{\"x\": [1, 3, 6], \"y\": [3.5159800052642822, 8.926454544067383, 17.04216766357422], \"type\": \"scatter\"}]}, {\"data\": [{\"x\": [1, 3, 6], \"y\": [3.517291307449341, 8.927035331726074, 17.041650772094727], \"type\": \"scatter\"}]}, {\"data\": [{\"x\": [1, 3, 6], \"y\": [3.518601894378662, 8.92761516571045, 17.041133880615234], \"type\": \"scatter\"}]}, {\"data\": [{\"x\": [1, 3, 6], \"y\": [3.519911527633667, 8.928194046020508, 17.040616989135742], \"type\": \"scatter\"}]}, {\"data\": [{\"x\": [1, 3, 6], \"y\": [3.5212202072143555, 8.928771018981934, 17.040096282958984], \"type\": \"scatter\"}]}, {\"data\": [{\"x\": [1, 3, 6], \"y\": [3.5225279331207275, 8.92934799194336, 17.03957748413086], \"type\": \"scatter\"}]}, {\"data\": [{\"x\": [1, 3, 6], \"y\": [3.5238351821899414, 8.929924011230469, 17.039058685302734], \"type\": \"scatter\"}]}, {\"data\": [{\"x\": [1, 3, 6], \"y\": [3.5251412391662598, 8.930500030517578, 17.038537979125977], \"type\": \"scatter\"}]}, {\"data\": [{\"x\": [1, 3, 6], \"y\": [3.526446580886841, 8.931074142456055, 17.03801727294922], \"type\": \"scatter\"}]}, {\"data\": [{\"x\": [1, 3, 6], \"y\": [3.5277509689331055, 8.931648254394531, 17.037494659423828], \"type\": \"scatter\"}]}, {\"data\": [{\"x\": [1, 3, 6], \"y\": [3.529054641723633, 8.932222366333008, 17.03697395324707], \"type\": \"scatter\"}]}, {\"data\": [{\"x\": [1, 3, 6], \"y\": [3.530357599258423, 8.932795524597168, 17.03645133972168], \"type\": \"scatter\"}]}, {\"data\": [{\"x\": [1, 3, 6], \"y\": [3.5316593647003174, 8.933367729187012, 17.03592872619629], \"type\": \"scatter\"}]}, {\"data\": [{\"x\": [1, 3, 6], \"y\": [3.5329606533050537, 8.933938980102539, 17.0354061126709], \"type\": \"scatter\"}]}, {\"data\": [{\"x\": [1, 3, 6], \"y\": [3.5342609882354736, 8.93450927734375, 17.034881591796875], \"type\": \"scatter\"}]}, {\"data\": [{\"x\": [1, 3, 6], \"y\": [3.535560369491577, 8.935079574584961, 17.03435707092285], \"type\": \"scatter\"}]}, {\"data\": [{\"x\": [1, 3, 6], \"y\": [3.5368592739105225, 8.935648918151855, 17.033832550048828], \"type\": \"scatter\"}]}, {\"data\": [{\"x\": [1, 3, 6], \"y\": [3.5381569862365723, 8.93621826171875, 17.033309936523438], \"type\": \"scatter\"}]}, {\"data\": [{\"x\": [1, 3, 6], \"y\": [3.5394539833068848, 8.936785697937012, 17.03278350830078], \"type\": \"scatter\"}]}, {\"data\": [{\"x\": [1, 3, 6], \"y\": [3.540750503540039, 8.93735408782959, 17.032258987426758], \"type\": \"scatter\"}]}, {\"data\": [{\"x\": [1, 3, 6], \"y\": [3.542045831680298, 8.937920570373535, 17.0317325592041], \"type\": \"scatter\"}]}, {\"data\": [{\"x\": [1, 3, 6], \"y\": [3.5433406829833984, 8.938488006591797, 17.031208038330078], \"type\": \"scatter\"}]}, {\"data\": [{\"x\": [1, 3, 6], \"y\": [3.5446345806121826, 8.93905258178711, 17.03067970275879], \"type\": \"scatter\"}]}, {\"data\": [{\"x\": [1, 3, 6], \"y\": [3.5459277629852295, 8.939619064331055, 17.030155181884766], \"type\": \"scatter\"}]}, {\"data\": [{\"x\": [1, 3, 6], \"y\": [3.547220230102539, 8.94018268585205, 17.029626846313477], \"type\": \"scatter\"}]}, {\"data\": [{\"x\": [1, 3, 6], \"y\": [3.5485119819641113, 8.94074821472168, 17.029102325439453], \"type\": \"scatter\"}]}, {\"data\": [{\"x\": [1, 3, 6], \"y\": [3.549802780151367, 8.941311836242676, 17.028573989868164], \"type\": \"scatter\"}]}, {\"data\": [{\"x\": [1, 3, 6], \"y\": [3.551093101501465, 8.941875457763672, 17.028047561645508], \"type\": \"scatter\"}]}, {\"data\": [{\"x\": [1, 3, 6], \"y\": [3.552382230758667, 8.942438125610352, 17.02752113342285], \"type\": \"scatter\"}]}, {\"data\": [{\"x\": [1, 3, 6], \"y\": [3.553670883178711, 8.943000793457031, 17.026994705200195], \"type\": \"scatter\"}]}, {\"data\": [{\"x\": [1, 3, 6], \"y\": [3.5549588203430176, 8.943561553955078, 17.026464462280273], \"type\": \"scatter\"}]}, {\"data\": [{\"x\": [1, 3, 6], \"y\": [3.556245803833008, 8.944123268127441, 17.025938034057617], \"type\": \"scatter\"}]}, {\"data\": [{\"x\": [1, 3, 6], \"y\": [3.5575320720672607, 8.944683074951172, 17.025409698486328], \"type\": \"scatter\"}]}, {\"data\": [{\"x\": [1, 3, 6], \"y\": [3.5588178634643555, 8.945243835449219, 17.024883270263672], \"type\": \"scatter\"}]}, {\"data\": [{\"x\": [1, 3, 6], \"y\": [3.5601024627685547, 8.94580364227295, 17.024354934692383], \"type\": \"scatter\"}]}, {\"data\": [{\"x\": [1, 3, 6], \"y\": [3.5613865852355957, 8.946362495422363, 17.023826599121094], \"type\": \"scatter\"}]}, {\"data\": [{\"x\": [1, 3, 6], \"y\": [3.5626697540283203, 8.946921348571777, 17.023298263549805], \"type\": \"scatter\"}]}, {\"data\": [{\"x\": [1, 3, 6], \"y\": [3.5639524459838867, 8.947479248046875, 17.022769927978516], \"type\": \"scatter\"}]}, {\"data\": [{\"x\": [1, 3, 6], \"y\": [3.5652341842651367, 8.948037147521973, 17.022241592407227], \"type\": \"scatter\"}]}, {\"data\": [{\"x\": [1, 3, 6], \"y\": [3.5665154457092285, 8.948594093322754, 17.021711349487305], \"type\": \"scatter\"}]}, {\"data\": [{\"x\": [1, 3, 6], \"y\": [3.567795753479004, 8.949151992797852, 17.02118492126465], \"type\": \"scatter\"}]}, {\"data\": [{\"x\": [1, 3, 6], \"y\": [3.569075345993042, 8.949707984924316, 17.02065658569336], \"type\": \"scatter\"}]}, {\"data\": [{\"x\": [1, 3, 6], \"y\": [3.570354461669922, 8.950263977050781, 17.02012825012207], \"type\": \"scatter\"}]}, {\"data\": [{\"x\": [1, 3, 6], \"y\": [3.5716326236724854, 8.950819969177246, 17.01959991455078], \"type\": \"scatter\"}]}, {\"data\": [{\"x\": [1, 3, 6], \"y\": [3.5729100704193115, 8.951375007629395, 17.019073486328125], \"type\": \"scatter\"}]}, {\"data\": [{\"x\": [1, 3, 6], \"y\": [3.5741868019104004, 8.951930046081543, 17.018543243408203], \"type\": \"scatter\"}]}, {\"data\": [{\"x\": [1, 3, 6], \"y\": [3.575463056564331, 8.952484130859375, 17.018016815185547], \"type\": \"scatter\"}]}, {\"data\": [{\"x\": [1, 3, 6], \"y\": [3.5767383575439453, 8.95303726196289, 17.017486572265625], \"type\": \"scatter\"}]}, {\"data\": [{\"x\": [1, 3, 6], \"y\": [3.5780129432678223, 8.953591346740723, 17.01696014404297], \"type\": \"scatter\"}]}, {\"data\": [{\"x\": [1, 3, 6], \"y\": [3.579287052154541, 8.954145431518555, 17.01643180847168], \"type\": \"scatter\"}]}, {\"data\": [{\"x\": [1, 3, 6], \"y\": [3.5805602073669434, 8.95469856262207, 17.015905380249023], \"type\": \"scatter\"}]}, {\"data\": [{\"x\": [1, 3, 6], \"y\": [3.5818328857421875, 8.95525074005127, 17.015378952026367], \"type\": \"scatter\"}]}, {\"data\": [{\"x\": [1, 3, 6], \"y\": [3.583104372024536, 8.955801963806152, 17.014848709106445], \"type\": \"scatter\"}]}, {\"data\": [{\"x\": [1, 3, 6], \"y\": [3.5843753814697266, 8.956353187561035, 17.014320373535156], \"type\": \"scatter\"}]}, {\"data\": [{\"x\": [1, 3, 6], \"y\": [3.585645914077759, 8.956905364990234, 17.0137939453125], \"type\": \"scatter\"}]}, {\"data\": [{\"x\": [1, 3, 6], \"y\": [3.5869154930114746, 8.9574556350708, 17.01326560974121], \"type\": \"scatter\"}]}, {\"data\": [{\"x\": [1, 3, 6], \"y\": [3.588184356689453, 8.958005905151367, 17.012739181518555], \"type\": \"scatter\"}]}, {\"data\": [{\"x\": [1, 3, 6], \"y\": [3.5894527435302734, 8.95855712890625, 17.0122127532959], \"type\": \"scatter\"}]}, {\"data\": [{\"x\": [1, 3, 6], \"y\": [3.5907204151153564, 8.9591064453125, 17.01168441772461], \"type\": \"scatter\"}]}, {\"data\": [{\"x\": [1, 3, 6], \"y\": [3.591987133026123, 8.95965576171875, 17.011157989501953], \"type\": \"scatter\"}]}, {\"data\": [{\"x\": [1, 3, 6], \"y\": [3.5932536125183105, 8.960204124450684, 17.010631561279297], \"type\": \"scatter\"}]}, {\"data\": [{\"x\": [1, 3, 6], \"y\": [3.5945191383361816, 8.960753440856934, 17.01010513305664], \"type\": \"scatter\"}]}, {\"data\": [{\"x\": [1, 3, 6], \"y\": [3.5957837104797363, 8.961301803588867, 17.009578704833984], \"type\": \"scatter\"}]}, {\"data\": [{\"x\": [1, 3, 6], \"y\": [3.597047805786133, 8.961849212646484, 17.009052276611328], \"type\": \"scatter\"}]}, {\"data\": [{\"x\": [1, 3, 6], \"y\": [3.598311424255371, 8.962396621704102, 17.008525848388672], \"type\": \"scatter\"}]}, {\"data\": [{\"x\": [1, 3, 6], \"y\": [3.599574089050293, 8.962944030761719, 17.007999420166016], \"type\": \"scatter\"}]}, {\"data\": [{\"x\": [1, 3, 6], \"y\": [3.6008360385894775, 8.96349048614502, 17.007471084594727], \"type\": \"scatter\"}]}, {\"data\": [{\"x\": [1, 3, 6], \"y\": [3.602097511291504, 8.96403694152832, 17.006946563720703], \"type\": \"scatter\"}]}, {\"data\": [{\"x\": [1, 3, 6], \"y\": [3.603358268737793, 8.964584350585938, 17.00642204284668], \"type\": \"scatter\"}]}, {\"data\": [{\"x\": [1, 3, 6], \"y\": [3.6046183109283447, 8.965128898620605, 17.005895614624023], \"type\": \"scatter\"}]}, {\"data\": [{\"x\": [1, 3, 6], \"y\": [3.605877637863159, 8.96567440032959, 17.00537109375], \"type\": \"scatter\"}]}, {\"data\": [{\"x\": [1, 3, 6], \"y\": [3.6071362495422363, 8.966219902038574, 17.004846572875977], \"type\": \"scatter\"}]}, {\"data\": [{\"x\": [1, 3, 6], \"y\": [3.608394145965576, 8.966764450073242, 17.00432014465332], \"type\": \"scatter\"}]}, {\"data\": [{\"x\": [1, 3, 6], \"y\": [3.6096513271331787, 8.96730899810791, 17.003795623779297], \"type\": \"scatter\"}]}, {\"data\": [{\"x\": [1, 3, 6], \"y\": [3.610908031463623, 8.967853546142578, 17.003273010253906], \"type\": \"scatter\"}]}, {\"data\": [{\"x\": [1, 3, 6], \"y\": [3.61216402053833, 8.96839714050293, 17.002748489379883], \"type\": \"scatter\"}]}, {\"data\": [{\"x\": [1, 3, 6], \"y\": [3.6134190559387207, 8.968940734863281, 17.002222061157227], \"type\": \"scatter\"}]}, {\"data\": [{\"x\": [1, 3, 6], \"y\": [3.614673614501953, 8.969483375549316, 17.001699447631836], \"type\": \"scatter\"}]}, {\"data\": [{\"x\": [1, 3, 6], \"y\": [3.6159276962280273, 8.970026969909668, 17.001174926757812], \"type\": \"scatter\"}]}, {\"data\": [{\"x\": [1, 3, 6], \"y\": [3.617180824279785, 8.970569610595703, 17.000652313232422], \"type\": \"scatter\"}]}, {\"data\": [{\"x\": [1, 3, 6], \"y\": [3.6184332370758057, 8.971111297607422, 17.0001277923584], \"type\": \"scatter\"}]}, {\"data\": [{\"x\": [1, 3, 6], \"y\": [3.619685173034668, 8.97165298461914, 16.999605178833008], \"type\": \"scatter\"}]}, {\"data\": [{\"x\": [1, 3, 6], \"y\": [3.620936393737793, 8.972195625305176, 16.999082565307617], \"type\": \"scatter\"}]}, {\"data\": [{\"x\": [1, 3, 6], \"y\": [3.6221868991851807, 8.972736358642578, 16.998559951782227], \"type\": \"scatter\"}]}, {\"data\": [{\"x\": [1, 3, 6], \"y\": [3.623436689376831, 8.973276138305664, 16.998035430908203], \"type\": \"scatter\"}]}, {\"data\": [{\"x\": [1, 3, 6], \"y\": [3.624685764312744, 8.973816871643066, 16.997514724731445], \"type\": \"scatter\"}]}, {\"data\": [{\"x\": [1, 3, 6], \"y\": [3.625934600830078, 8.974357604980469, 16.996992111206055], \"type\": \"scatter\"}]}, {\"data\": [{\"x\": [1, 3, 6], \"y\": [3.6271822452545166, 8.974897384643555, 16.996469497680664], \"type\": \"scatter\"}]}, {\"data\": [{\"x\": [1, 3, 6], \"y\": [3.628429412841797, 8.975436210632324, 16.995946884155273], \"type\": \"scatter\"}]}, {\"data\": [{\"x\": [1, 3, 6], \"y\": [3.62967586517334, 8.97597599029541, 16.995426177978516], \"type\": \"scatter\"}]}, {\"data\": [{\"x\": [1, 3, 6], \"y\": [3.6309218406677246, 8.976515769958496, 16.99490737915039], \"type\": \"scatter\"}]}, {\"data\": [{\"x\": [1, 3, 6], \"y\": [3.632166862487793, 8.97705364227295, 16.994384765625], \"type\": \"scatter\"}]}, {\"data\": [{\"x\": [1, 3, 6], \"y\": [3.633411407470703, 8.977591514587402, 16.99386215209961], \"type\": \"scatter\"}]}, {\"data\": [{\"x\": [1, 3, 6], \"y\": [3.634655475616455, 8.978130340576172, 16.99334144592285], \"type\": \"scatter\"}]}, {\"data\": [{\"x\": [1, 3, 6], \"y\": [3.6358985900878906, 8.978668212890625, 16.992822647094727], \"type\": \"scatter\"}]}, {\"data\": [{\"x\": [1, 3, 6], \"y\": [3.637141227722168, 8.979206085205078, 16.99230194091797], \"type\": \"scatter\"}]}, {\"data\": [{\"x\": [1, 3, 6], \"y\": [3.638382911682129, 8.979742050170898, 16.99178123474121], \"type\": \"scatter\"}]}, {\"data\": [{\"x\": [1, 3, 6], \"y\": [3.6396241188049316, 8.980278968811035, 16.991262435913086], \"type\": \"scatter\"}]}, {\"data\": [{\"x\": [1, 3, 6], \"y\": [3.640864849090576, 8.980816841125488, 16.990745544433594], \"type\": \"scatter\"}]}, {\"data\": [{\"x\": [1, 3, 6], \"y\": [3.6421046257019043, 8.981351852416992, 16.990222930908203], \"type\": \"scatter\"}]}, {\"data\": [{\"x\": [1, 3, 6], \"y\": [3.643343925476074, 8.981887817382812, 16.989704132080078], \"type\": \"scatter\"}]}, {\"data\": [{\"x\": [1, 3, 6], \"y\": [3.644582509994507, 8.98242473602295, 16.989187240600586], \"type\": \"scatter\"}]}, {\"data\": [{\"x\": [1, 3, 6], \"y\": [3.645820379257202, 8.982958793640137, 16.988666534423828], \"type\": \"scatter\"}]}, {\"data\": [{\"x\": [1, 3, 6], \"y\": [3.64705753326416, 8.983492851257324, 16.988147735595703], \"type\": \"scatter\"}]}, {\"data\": [{\"x\": [1, 3, 6], \"y\": [3.648293972015381, 8.984027862548828, 16.987628936767578], \"type\": \"scatter\"}]}, {\"data\": [{\"x\": [1, 3, 6], \"y\": [3.6495299339294434, 8.984562873840332, 16.987112045288086], \"type\": \"scatter\"}]}, {\"data\": [{\"x\": [1, 3, 6], \"y\": [3.6507654190063477, 8.985097885131836, 16.986595153808594], \"type\": \"scatter\"}]}, {\"data\": [{\"x\": [1, 3, 6], \"y\": [3.6519999504089355, 8.985630989074707, 16.98607635498047], \"type\": \"scatter\"}]}, {\"data\": [{\"x\": [1, 3, 6], \"y\": [3.653233766555786, 8.986164093017578, 16.985559463500977], \"type\": \"scatter\"}]}, {\"data\": [{\"x\": [1, 3, 6], \"y\": [3.6544671058654785, 8.986698150634766, 16.985044479370117], \"type\": \"scatter\"}]}, {\"data\": [{\"x\": [1, 3, 6], \"y\": [3.6556997299194336, 8.98723030090332, 16.984525680541992], \"type\": \"scatter\"}]}, {\"data\": [{\"x\": [1, 3, 6], \"y\": [3.6569316387176514, 8.987762451171875, 16.9840087890625], \"type\": \"scatter\"}]}, {\"data\": [{\"x\": [1, 3, 6], \"y\": [3.658163070678711, 8.988295555114746, 16.98349380493164], \"type\": \"scatter\"}]}, {\"data\": [{\"x\": [1, 3, 6], \"y\": [3.659393787384033, 8.988826751708984, 16.98297691345215], \"type\": \"scatter\"}]}, {\"data\": [{\"x\": [1, 3, 6], \"y\": [3.6606240272521973, 8.989358901977539, 16.98246192932129], \"type\": \"scatter\"}]}, {\"data\": [{\"x\": [1, 3, 6], \"y\": [3.661853313446045, 8.989890098571777, 16.98194694519043], \"type\": \"scatter\"}]}, {\"data\": [{\"x\": [1, 3, 6], \"y\": [3.6630821228027344, 8.990422248840332, 16.98143196105957], \"type\": \"scatter\"}]}, {\"data\": [{\"x\": [1, 3, 6], \"y\": [3.6643099784851074, 8.990952491760254, 16.980915069580078], \"type\": \"scatter\"}]}, {\"data\": [{\"x\": [1, 3, 6], \"y\": [3.6655375957489014, 8.991483688354492, 16.98040199279785], \"type\": \"scatter\"}]}, {\"data\": [{\"x\": [1, 3, 6], \"y\": [3.666764259338379, 8.992013931274414, 16.979887008666992], \"type\": \"scatter\"}]}, {\"data\": [{\"x\": [1, 3, 6], \"y\": [3.6679904460906982, 8.992544174194336, 16.979373931884766], \"type\": \"scatter\"}]}, {\"data\": [{\"x\": [1, 3, 6], \"y\": [3.6692161560058594, 8.993073463439941, 16.978858947753906], \"type\": \"scatter\"}]}, {\"data\": [{\"x\": [1, 3, 6], \"y\": [3.670441150665283, 8.993602752685547, 16.97834587097168], \"type\": \"scatter\"}]}, {\"data\": [{\"x\": [1, 3, 6], \"y\": [3.6716651916503906, 8.994132041931152, 16.977832794189453], \"type\": \"scatter\"}]}, {\"data\": [{\"x\": [1, 3, 6], \"y\": [3.67288875579834, 8.994661331176758, 16.977319717407227], \"type\": \"scatter\"}]}, {\"data\": [{\"x\": [1, 3, 6], \"y\": [3.674111843109131, 8.995189666748047, 16.976806640625], \"type\": \"scatter\"}]}, {\"data\": [{\"x\": [1, 3, 6], \"y\": [3.6753339767456055, 8.995718002319336, 16.976293563842773], \"type\": \"scatter\"}]}, {\"data\": [{\"x\": [1, 3, 6], \"y\": [3.676555633544922, 8.996245384216309, 16.975780487060547], \"type\": \"scatter\"}]}, {\"data\": [{\"x\": [1, 3, 6], \"y\": [3.677776575088501, 8.996773719787598, 16.975269317626953], \"type\": \"scatter\"}]}, {\"data\": [{\"x\": [1, 3, 6], \"y\": [3.678997039794922, 8.99730110168457, 16.974756240844727], \"type\": \"scatter\"}]}, {\"data\": [{\"x\": [1, 3, 6], \"y\": [3.6802167892456055, 8.997828483581543, 16.974245071411133], \"type\": \"scatter\"}]}, {\"data\": [{\"x\": [1, 3, 6], \"y\": [3.6814355850219727, 8.9983549118042, 16.97373390197754], \"type\": \"scatter\"}]}, {\"data\": [{\"x\": [1, 3, 6], \"y\": [3.6826539039611816, 8.998881340026855, 16.973222732543945], \"type\": \"scatter\"}]}, {\"data\": [{\"x\": [1, 3, 6], \"y\": [3.6838717460632324, 8.999407768249512, 16.97271156311035], \"type\": \"scatter\"}]}, {\"data\": [{\"x\": [1, 3, 6], \"y\": [3.685089111328125, 8.999934196472168, 16.97220230102539], \"type\": \"scatter\"}]}, {\"data\": [{\"x\": [1, 3, 6], \"y\": [3.686305522918701, 9.000459671020508, 16.971691131591797], \"type\": \"scatter\"}]}, {\"data\": [{\"x\": [1, 3, 6], \"y\": [3.68752121925354, 9.000985145568848, 16.971179962158203], \"type\": \"scatter\"}]}, {\"data\": [{\"x\": [1, 3, 6], \"y\": [3.6887364387512207, 9.001510620117188, 16.970670700073242], \"type\": \"scatter\"}]}, {\"data\": [{\"x\": [1, 3, 6], \"y\": [3.689950942993164, 9.002035140991211, 16.97016143798828], \"type\": \"scatter\"}]}, {\"data\": [{\"x\": [1, 3, 6], \"y\": [3.691164970397949, 9.002559661865234, 16.96965217590332], \"type\": \"scatter\"}]}, {\"data\": [{\"x\": [1, 3, 6], \"y\": [3.692378044128418, 9.003084182739258, 16.96914291381836], \"type\": \"scatter\"}]}, {\"data\": [{\"x\": [1, 3, 6], \"y\": [3.6935906410217285, 9.003607749938965, 16.9686336517334], \"type\": \"scatter\"}]}, {\"data\": [{\"x\": [1, 3, 6], \"y\": [3.694802761077881, 9.004131317138672, 16.968124389648438], \"type\": \"scatter\"}]}, {\"data\": [{\"x\": [1, 3, 6], \"y\": [3.696013927459717, 9.004654884338379, 16.967615127563477], \"type\": \"scatter\"}]}, {\"data\": [{\"x\": [1, 3, 6], \"y\": [3.6972246170043945, 9.005178451538086, 16.96710777282715], \"type\": \"scatter\"}]}, {\"data\": [{\"x\": [1, 3, 6], \"y\": [3.698434829711914, 9.005701065063477, 16.96660041809082], \"type\": \"scatter\"}]}, {\"data\": [{\"x\": [1, 3, 6], \"y\": [3.6996443271636963, 9.006223678588867, 16.966093063354492], \"type\": \"scatter\"}]}, {\"data\": [{\"x\": [1, 3, 6], \"y\": [3.700852870941162, 9.006746292114258, 16.965585708618164], \"type\": \"scatter\"}]}, {\"data\": [{\"x\": [1, 3, 6], \"y\": [3.702061176300049, 9.007267951965332, 16.965078353881836], \"type\": \"scatter\"}]}, {\"data\": [{\"x\": [1, 3, 6], \"y\": [3.703268527984619, 9.007789611816406, 16.964570999145508], \"type\": \"scatter\"}]}, {\"data\": [{\"x\": [1, 3, 6], \"y\": [3.7044756412506104, 9.00831127166748, 16.964065551757812], \"type\": \"scatter\"}]}, {\"data\": [{\"x\": [1, 3, 6], \"y\": [3.705681800842285, 9.008832931518555, 16.963558197021484], \"type\": \"scatter\"}]}, {\"data\": [{\"x\": [1, 3, 6], \"y\": [3.7068872451782227, 9.009353637695312, 16.96305274963379], \"type\": \"scatter\"}]}, {\"data\": [{\"x\": [1, 3, 6], \"y\": [3.708092212677002, 9.00987434387207, 16.962547302246094], \"type\": \"scatter\"}]}, {\"data\": [{\"x\": [1, 3, 6], \"y\": [3.709296703338623, 9.010395050048828, 16.9620418548584], \"type\": \"scatter\"}]}, {\"data\": [{\"x\": [1, 3, 6], \"y\": [3.710500478744507, 9.01091480255127, 16.961536407470703], \"type\": \"scatter\"}]}, {\"data\": [{\"x\": [1, 3, 6], \"y\": [3.7117035388946533, 9.011434555053711, 16.961030960083008], \"type\": \"scatter\"}]}, {\"data\": [{\"x\": [1, 3, 6], \"y\": [3.7129058837890625, 9.011954307556152, 16.960525512695312], \"type\": \"scatter\"}]}, {\"data\": [{\"x\": [1, 3, 6], \"y\": [3.7141079902648926, 9.012473106384277, 16.96002197265625], \"type\": \"scatter\"}]}, {\"data\": [{\"x\": [1, 3, 6], \"y\": [3.715308904647827, 9.012991905212402, 16.959516525268555], \"type\": \"scatter\"}]}, {\"data\": [{\"x\": [1, 3, 6], \"y\": [3.7165093421936035, 9.013510704040527, 16.959012985229492], \"type\": \"scatter\"}]}, {\"data\": [{\"x\": [1, 3, 6], \"y\": [3.717709541320801, 9.014029502868652, 16.95850944519043], \"type\": \"scatter\"}]}, {\"data\": [{\"x\": [1, 3, 6], \"y\": [3.7189087867736816, 9.014547348022461, 16.958005905151367], \"type\": \"scatter\"}]}, {\"data\": [{\"x\": [1, 3, 6], \"y\": [3.720107316970825, 9.01506519317627, 16.957502365112305], \"type\": \"scatter\"}]}, {\"data\": [{\"x\": [1, 3, 6], \"y\": [3.7213053703308105, 9.015583038330078, 16.957000732421875], \"type\": \"scatter\"}]}, {\"data\": [{\"x\": [1, 3, 6], \"y\": [3.7225027084350586, 9.01609992980957, 16.956497192382812], \"type\": \"scatter\"}]}, {\"data\": [{\"x\": [1, 3, 6], \"y\": [3.7236995697021484, 9.016617774963379, 16.955995559692383], \"type\": \"scatter\"}]}, {\"data\": [{\"x\": [1, 3, 6], \"y\": [3.724895477294922, 9.017134666442871, 16.95549201965332], \"type\": \"scatter\"}]}, {\"data\": [{\"x\": [1, 3, 6], \"y\": [3.726090908050537, 9.017650604248047, 16.95499038696289], \"type\": \"scatter\"}]}, {\"data\": [{\"x\": [1, 3, 6], \"y\": [3.727285861968994, 9.018167495727539, 16.95448875427246], \"type\": \"scatter\"}]}, {\"data\": [{\"x\": [1, 3, 6], \"y\": [3.728480339050293, 9.018683433532715, 16.95398712158203], \"type\": \"scatter\"}]}, {\"data\": [{\"x\": [1, 3, 6], \"y\": [3.7296738624572754, 9.01919937133789, 16.953487396240234], \"type\": \"scatter\"}]}, {\"data\": [{\"x\": [1, 3, 6], \"y\": [3.7308669090270996, 9.01971435546875, 16.952985763549805], \"type\": \"scatter\"}]}, {\"data\": [{\"x\": [1, 3, 6], \"y\": [3.7320592403411865, 9.02022933959961, 16.952486038208008], \"type\": \"scatter\"}]}, {\"data\": [{\"x\": [1, 3, 6], \"y\": [3.733250856399536, 9.020744323730469, 16.951984405517578], \"type\": \"scatter\"}]}, {\"data\": [{\"x\": [1, 3, 6], \"y\": [3.7344417572021484, 9.021258354187012, 16.95148277282715], \"type\": \"scatter\"}]}, {\"data\": [{\"x\": [1, 3, 6], \"y\": [3.7356324195861816, 9.021772384643555, 16.95098304748535], \"type\": \"scatter\"}]}, {\"data\": [{\"x\": [1, 3, 6], \"y\": [3.7368221282958984, 9.022286415100098, 16.950483322143555], \"type\": \"scatter\"}]}, {\"data\": [{\"x\": [1, 3, 6], \"y\": [3.738011360168457, 9.02280044555664, 16.949983596801758], \"type\": \"scatter\"}]}, {\"data\": [{\"x\": [1, 3, 6], \"y\": [3.7391998767852783, 9.023313522338867, 16.94948387145996], \"type\": \"scatter\"}]}, {\"data\": [{\"x\": [1, 3, 6], \"y\": [3.7403879165649414, 9.023826599121094, 16.948986053466797], \"type\": \"scatter\"}]}, {\"data\": [{\"x\": [1, 3, 6], \"y\": [3.741575241088867, 9.024340629577637, 16.948488235473633], \"type\": \"scatter\"}]}, {\"data\": [{\"x\": [1, 3, 6], \"y\": [3.7427618503570557, 9.024852752685547, 16.947988510131836], \"type\": \"scatter\"}]}, {\"data\": [{\"x\": [1, 3, 6], \"y\": [3.743947982788086, 9.025364875793457, 16.947490692138672], \"type\": \"scatter\"}]}, {\"data\": [{\"x\": [1, 3, 6], \"y\": [3.745133399963379, 9.025876998901367, 16.946992874145508], \"type\": \"scatter\"}]}, {\"data\": [{\"x\": [1, 3, 6], \"y\": [3.7463183403015137, 9.026389122009277, 16.946495056152344], \"type\": \"scatter\"}]}, {\"data\": [{\"x\": [1, 3, 6], \"y\": [3.747502326965332, 9.026900291442871, 16.94599723815918], \"type\": \"scatter\"}]}, {\"data\": [{\"x\": [1, 3, 6], \"y\": [3.748685836791992, 9.027411460876465, 16.945499420166016], \"type\": \"scatter\"}]}, {\"data\": [{\"x\": [1, 3, 6], \"y\": [3.749868869781494, 9.027922630310059, 16.945003509521484], \"type\": \"scatter\"}]}, {\"data\": [{\"x\": [1, 3, 6], \"y\": [3.751051425933838, 9.028433799743652, 16.944507598876953], \"type\": \"scatter\"}]}, {\"data\": [{\"x\": [1, 3, 6], \"y\": [3.7522330284118652, 9.02894401550293, 16.944011688232422], \"type\": \"scatter\"}]}, {\"data\": [{\"x\": [1, 3, 6], \"y\": [3.7534141540527344, 9.029454231262207, 16.943513870239258], \"type\": \"scatter\"}]}, {\"data\": [{\"x\": [1, 3, 6], \"y\": [3.7545948028564453, 9.029964447021484, 16.943017959594727], \"type\": \"scatter\"}]}, {\"data\": [{\"x\": [1, 3, 6], \"y\": [3.75577449798584, 9.030473709106445, 16.942523956298828], \"type\": \"scatter\"}]}, {\"data\": [{\"x\": [1, 3, 6], \"y\": [3.756953716278076, 9.030983924865723, 16.942028045654297], \"type\": \"scatter\"}]}, {\"data\": [{\"x\": [1, 3, 6], \"y\": [3.7581324577331543, 9.031492233276367, 16.941532135009766], \"type\": \"scatter\"}]}, {\"data\": [{\"x\": [1, 3, 6], \"y\": [3.759310483932495, 9.032001495361328, 16.941038131713867], \"type\": \"scatter\"}]}, {\"data\": [{\"x\": [1, 3, 6], \"y\": [3.7604880332946777, 9.032510757446289, 16.9405460357666], \"type\": \"scatter\"}]}, {\"data\": [{\"x\": [1, 3, 6], \"y\": [3.761664867401123, 9.033019065856934, 16.94005012512207], \"type\": \"scatter\"}]}, {\"data\": [{\"x\": [1, 3, 6], \"y\": [3.762840747833252, 9.033527374267578, 16.939556121826172], \"type\": \"scatter\"}]}, {\"data\": [{\"x\": [1, 3, 6], \"y\": [3.764016628265381, 9.034034729003906, 16.939062118530273], \"type\": \"scatter\"}]}, {\"data\": [{\"x\": [1, 3, 6], \"y\": [3.7651915550231934, 9.03454303741455, 16.938570022583008], \"type\": \"scatter\"}]}, {\"data\": [{\"x\": [1, 3, 6], \"y\": [3.7663657665252686, 9.035050392150879, 16.93807601928711], \"type\": \"scatter\"}]}, {\"data\": [{\"x\": [1, 3, 6], \"y\": [3.7675395011901855, 9.03555679321289, 16.937583923339844], \"type\": \"scatter\"}]}, {\"data\": [{\"x\": [1, 3, 6], \"y\": [3.7687125205993652, 9.036064147949219, 16.937091827392578], \"type\": \"scatter\"}]}, {\"data\": [{\"x\": [1, 3, 6], \"y\": [3.7698850631713867, 9.03657054901123, 16.93659782409668], \"type\": \"scatter\"}]}, {\"data\": [{\"x\": [1, 3, 6], \"y\": [3.771056652069092, 9.037076950073242, 16.936105728149414], \"type\": \"scatter\"}]}, {\"data\": [{\"x\": [1, 3, 6], \"y\": [3.7722280025482178, 9.037582397460938, 16.93561553955078], \"type\": \"scatter\"}]}, {\"data\": [{\"x\": [1, 3, 6], \"y\": [3.7733986377716064, 9.038087844848633, 16.935123443603516], \"type\": \"scatter\"}]}, {\"data\": [{\"x\": [1, 3, 6], \"y\": [3.774568557739258, 9.038594245910645, 16.93463134765625], \"type\": \"scatter\"}]}, {\"data\": [{\"x\": [1, 3, 6], \"y\": [3.775737762451172, 9.039098739624023, 16.934141159057617], \"type\": \"scatter\"}]}, {\"data\": [{\"x\": [1, 3, 6], \"y\": [3.776906728744507, 9.039604187011719, 16.93364906311035], \"type\": \"scatter\"}]}, {\"data\": [{\"x\": [1, 3, 6], \"y\": [3.7780749797821045, 9.040109634399414, 16.93316078186035], \"type\": \"scatter\"}]}, {\"data\": [{\"x\": [1, 3, 6], \"y\": [3.779242515563965, 9.040613174438477, 16.932668685913086], \"type\": \"scatter\"}]}, {\"data\": [{\"x\": [1, 3, 6], \"y\": [3.780409336090088, 9.041116714477539, 16.932178497314453], \"type\": \"scatter\"}]}, {\"data\": [{\"x\": [1, 3, 6], \"y\": [3.7815756797790527, 9.041621208190918, 16.93168830871582], \"type\": \"scatter\"}]}, {\"data\": [{\"x\": [1, 3, 6], \"y\": [3.7827413082122803, 9.04212474822998, 16.93120002746582], \"type\": \"scatter\"}]}, {\"data\": [{\"x\": [1, 3, 6], \"y\": [3.7839064598083496, 9.042627334594727, 16.930709838867188], \"type\": \"scatter\"}]}, {\"data\": [{\"x\": [1, 3, 6], \"y\": [3.7850708961486816, 9.043130874633789, 16.930219650268555], \"type\": \"scatter\"}]}, {\"data\": [{\"x\": [1, 3, 6], \"y\": [3.7862348556518555, 9.043634414672852, 16.929733276367188], \"type\": \"scatter\"}]}, {\"data\": [{\"x\": [1, 3, 6], \"y\": [3.787397861480713, 9.044136047363281, 16.929243087768555], \"type\": \"scatter\"}]}, {\"data\": [{\"x\": [1, 3, 6], \"y\": [3.788560390472412, 9.044638633728027, 16.928754806518555], \"type\": \"scatter\"}]}, {\"data\": [{\"x\": [1, 3, 6], \"y\": [3.789722442626953, 9.045140266418457, 16.928266525268555], \"type\": \"scatter\"}]}, {\"data\": [{\"x\": [1, 3, 6], \"y\": [3.790884017944336, 9.045641899108887, 16.927780151367188], \"type\": \"scatter\"}]}, {\"data\": [{\"x\": [1, 3, 6], \"y\": [3.7920446395874023, 9.046143531799316, 16.927291870117188], \"type\": \"scatter\"}]}, {\"data\": [{\"x\": [1, 3, 6], \"y\": [3.7932047843933105, 9.046645164489746, 16.92680549621582], \"type\": \"scatter\"}]}, {\"data\": [{\"x\": [1, 3, 6], \"y\": [3.7943644523620605, 9.04714584350586, 16.926319122314453], \"type\": \"scatter\"}]}, {\"data\": [{\"x\": [1, 3, 6], \"y\": [3.7955234050750732, 9.047646522521973, 16.925830841064453], \"type\": \"scatter\"}]}, {\"data\": [{\"x\": [1, 3, 6], \"y\": [3.7966818809509277, 9.04814624786377, 16.925344467163086], \"type\": \"scatter\"}]}, {\"data\": [{\"x\": [1, 3, 6], \"y\": [3.797839641571045, 9.048646926879883, 16.92485809326172], \"type\": \"scatter\"}]}, {\"data\": [{\"x\": [1, 3, 6], \"y\": [3.798996925354004, 9.04914665222168, 16.92437171936035], \"type\": \"scatter\"}]}, {\"data\": [{\"x\": [1, 3, 6], \"y\": [3.8001532554626465, 9.049646377563477, 16.923887252807617], \"type\": \"scatter\"}]}, {\"data\": [{\"x\": [1, 3, 6], \"y\": [3.801309108734131, 9.050146102905273, 16.92340087890625], \"type\": \"scatter\"}]}, {\"data\": [{\"x\": [1, 3, 6], \"y\": [3.802464485168457, 9.050644874572754, 16.922916412353516], \"type\": \"scatter\"}]}, {\"data\": [{\"x\": [1, 3, 6], \"y\": [3.803619384765625, 9.05114459991455, 16.92243194580078], \"type\": \"scatter\"}]}, {\"data\": [{\"x\": [1, 3, 6], \"y\": [3.8047733306884766, 9.051642417907715, 16.921945571899414], \"type\": \"scatter\"}]}, {\"data\": [{\"x\": [1, 3, 6], \"y\": [3.80592679977417, 9.052141189575195, 16.92146110534668], \"type\": \"scatter\"}]}, {\"data\": [{\"x\": [1, 3, 6], \"y\": [3.807079792022705, 9.05263900756836, 16.920976638793945], \"type\": \"scatter\"}]}, {\"data\": [{\"x\": [1, 3, 6], \"y\": [3.808231830596924, 9.053136825561523, 16.920494079589844], \"type\": \"scatter\"}]}, {\"data\": [{\"x\": [1, 3, 6], \"y\": [3.8093836307525635, 9.053633689880371, 16.92000961303711], \"type\": \"scatter\"}]}, {\"data\": [{\"x\": [1, 3, 6], \"y\": [3.810534715652466, 9.054130554199219, 16.919525146484375], \"type\": \"scatter\"}]}, {\"data\": [{\"x\": [1, 3, 6], \"y\": [3.81168532371521, 9.054628372192383, 16.919044494628906], \"type\": \"scatter\"}]}, {\"data\": [{\"x\": [1, 3, 6], \"y\": [3.812835216522217, 9.05512523651123, 16.918560028076172], \"type\": \"scatter\"}]}, {\"data\": [{\"x\": [1, 3, 6], \"y\": [3.8139843940734863, 9.055622100830078, 16.91807746887207], \"type\": \"scatter\"}]}, {\"data\": [{\"x\": [1, 3, 6], \"y\": [3.8151330947875977, 9.05611801147461, 16.91759490966797], \"type\": \"scatter\"}]}, {\"data\": [{\"x\": [1, 3, 6], \"y\": [3.8162810802459717, 9.05661392211914, 16.917112350463867], \"type\": \"scatter\"}]}, {\"data\": [{\"x\": [1, 3, 6], \"y\": [3.8174285888671875, 9.057108879089355, 16.916629791259766], \"type\": \"scatter\"}]}, {\"data\": [{\"x\": [1, 3, 6], \"y\": [3.818575382232666, 9.057604789733887, 16.916149139404297], \"type\": \"scatter\"}]}, {\"data\": [{\"x\": [1, 3, 6], \"y\": [3.8197216987609863, 9.058099746704102, 16.915668487548828], \"type\": \"scatter\"}]}, {\"data\": [{\"x\": [1, 3, 6], \"y\": [3.8208673000335693, 9.058594703674316, 16.915185928344727], \"type\": \"scatter\"}]}, {\"data\": [{\"x\": [1, 3, 6], \"y\": [3.822012424468994, 9.059089660644531, 16.914705276489258], \"type\": \"scatter\"}]}, {\"data\": [{\"x\": [1, 3, 6], \"y\": [3.8231568336486816, 9.05958366394043, 16.91422462463379], \"type\": \"scatter\"}]}, {\"data\": [{\"x\": [1, 3, 6], \"y\": [3.824300765991211, 9.060078620910645, 16.913745880126953], \"type\": \"scatter\"}]}, {\"data\": [{\"x\": [1, 3, 6], \"y\": [3.825443983078003, 9.060572624206543, 16.913265228271484], \"type\": \"scatter\"}]}, {\"data\": [{\"x\": [1, 3, 6], \"y\": [3.8265867233276367, 9.061065673828125, 16.912784576416016], \"type\": \"scatter\"}]}, {\"data\": [{\"x\": [1, 3, 6], \"y\": [3.827728748321533, 9.061559677124023, 16.91230583190918], \"type\": \"scatter\"}]}, {\"data\": [{\"x\": [1, 3, 6], \"y\": [3.8288700580596924, 9.062051773071289, 16.91182518005371], \"type\": \"scatter\"}]}, {\"data\": [{\"x\": [1, 3, 6], \"y\": [3.8300108909606934, 9.062545776367188, 16.911346435546875], \"type\": \"scatter\"}]}, {\"data\": [{\"x\": [1, 3, 6], \"y\": [3.831151008605957, 9.063037872314453, 16.91086769104004], \"type\": \"scatter\"}]}, {\"data\": [{\"x\": [1, 3, 6], \"y\": [3.8322908878326416, 9.063530921936035, 16.910390853881836], \"type\": \"scatter\"}]}, {\"data\": [{\"x\": [1, 3, 6], \"y\": [3.8334298133850098, 9.0640230178833, 16.909912109375], \"type\": \"scatter\"}]}, {\"data\": [{\"x\": [1, 3, 6], \"y\": [3.834568500518799, 9.06451416015625, 16.909433364868164], \"type\": \"scatter\"}]}, {\"data\": [{\"x\": [1, 3, 6], \"y\": [3.8357062339782715, 9.065006256103516, 16.90895652770996], \"type\": \"scatter\"}]}, {\"data\": [{\"x\": [1, 3, 6], \"y\": [3.836843490600586, 9.065497398376465, 16.908477783203125], \"type\": \"scatter\"}]}, {\"data\": [{\"x\": [1, 3, 6], \"y\": [3.837980270385742, 9.065988540649414, 16.908000946044922], \"type\": \"scatter\"}]}, {\"data\": [{\"x\": [1, 3, 6], \"y\": [3.839116096496582, 9.066478729248047, 16.90752410888672], \"type\": \"scatter\"}]}, {\"data\": [{\"x\": [1, 3, 6], \"y\": [3.8402514457702637, 9.066969871520996, 16.907047271728516], \"type\": \"scatter\"}]}, {\"data\": [{\"x\": [1, 3, 6], \"y\": [3.841386318206787, 9.067459106445312, 16.906570434570312], \"type\": \"scatter\"}]}, {\"data\": [{\"x\": [1, 3, 6], \"y\": [3.8425207138061523, 9.067949295043945, 16.90609359741211], \"type\": \"scatter\"}]}, {\"data\": [{\"x\": [1, 3, 6], \"y\": [3.8436543941497803, 9.068439483642578, 16.90561866760254], \"type\": \"scatter\"}]}, {\"data\": [{\"x\": [1, 3, 6], \"y\": [3.844787359237671, 9.068928718566895, 16.905139923095703], \"type\": \"scatter\"}]}, {\"data\": [{\"x\": [1, 3, 6], \"y\": [3.8459198474884033, 9.069417953491211, 16.904664993286133], \"type\": \"scatter\"}]}, {\"data\": [{\"x\": [1, 3, 6], \"y\": [3.8470516204833984, 9.069907188415527, 16.904190063476562], \"type\": \"scatter\"}]}, {\"data\": [{\"x\": [1, 3, 6], \"y\": [3.8481829166412354, 9.070395469665527, 16.903715133666992], \"type\": \"scatter\"}]}, {\"data\": [{\"x\": [1, 3, 6], \"y\": [3.849313735961914, 9.070883750915527, 16.903240203857422], \"type\": \"scatter\"}]}, {\"data\": [{\"x\": [1, 3, 6], \"y\": [3.8504438400268555, 9.071372985839844, 16.90276527404785], \"type\": \"scatter\"}]}, {\"data\": [{\"x\": [1, 3, 6], \"y\": [3.8515734672546387, 9.071860313415527, 16.902292251586914], \"type\": \"scatter\"}]}, {\"data\": [{\"x\": [1, 3, 6], \"y\": [3.8527021408081055, 9.072347640991211, 16.901817321777344], \"type\": \"scatter\"}]}, {\"data\": [{\"x\": [1, 3, 6], \"y\": [3.853830337524414, 9.072834968566895, 16.901342391967773], \"type\": \"scatter\"}]}, {\"data\": [{\"x\": [1, 3, 6], \"y\": [3.8549582958221436, 9.073323249816895, 16.900869369506836], \"type\": \"scatter\"}]}, {\"data\": [{\"x\": [1, 3, 6], \"y\": [3.8560853004455566, 9.073809623718262, 16.9003963470459], \"type\": \"scatter\"}]}, {\"data\": [{\"x\": [1, 3, 6], \"y\": [3.8572118282318115, 9.074295997619629, 16.899921417236328], \"type\": \"scatter\"}]}, {\"data\": [{\"x\": [1, 3, 6], \"y\": [3.858337879180908, 9.074783325195312, 16.899450302124023], \"type\": \"scatter\"}]}, {\"data\": [{\"x\": [1, 3, 6], \"y\": [3.8594632148742676, 9.07526969909668, 16.89897918701172], \"type\": \"scatter\"}]}, {\"data\": [{\"x\": [1, 3, 6], \"y\": [3.8605880737304688, 9.07575511932373, 16.89850616455078], \"type\": \"scatter\"}]}, {\"data\": [{\"x\": [1, 3, 6], \"y\": [3.8617122173309326, 9.076240539550781, 16.898033142089844], \"type\": \"scatter\"}]}, {\"data\": [{\"x\": [1, 3, 6], \"y\": [3.8628358840942383, 9.076726913452148, 16.89756202697754], \"type\": \"scatter\"}]}, {\"data\": [{\"x\": [1, 3, 6], \"y\": [3.8639588356018066, 9.077211380004883, 16.8970890045166], \"type\": \"scatter\"}]}, {\"data\": [{\"x\": [1, 3, 6], \"y\": [3.865081310272217, 9.077695846557617, 16.896617889404297], \"type\": \"scatter\"}]}, {\"data\": [{\"x\": [1, 3, 6], \"y\": [3.8662030696868896, 9.078181266784668, 16.896148681640625], \"type\": \"scatter\"}]}, {\"data\": [{\"x\": [1, 3, 6], \"y\": [3.8673243522644043, 9.078664779663086, 16.895675659179688], \"type\": \"scatter\"}]}, {\"data\": [{\"x\": [1, 3, 6], \"y\": [3.8684449195861816, 9.07914924621582, 16.895204544067383], \"type\": \"scatter\"}]}, {\"data\": [{\"x\": [1, 3, 6], \"y\": [3.869565010070801, 9.079633712768555, 16.89473533630371], \"type\": \"scatter\"}]}, {\"data\": [{\"x\": [1, 3, 6], \"y\": [3.8706846237182617, 9.080117225646973, 16.89426612854004], \"type\": \"scatter\"}]}, {\"data\": [{\"x\": [1, 3, 6], \"y\": [3.8718032836914062, 9.080599784851074, 16.893795013427734], \"type\": \"scatter\"}]}, {\"data\": [{\"x\": [1, 3, 6], \"y\": [3.8729214668273926, 9.081083297729492, 16.893325805664062], \"type\": \"scatter\"}]}, {\"data\": [{\"x\": [1, 3, 6], \"y\": [3.8740394115448, 9.08156681060791, 16.89285659790039], \"type\": \"scatter\"}]}, {\"data\": [{\"x\": [1, 3, 6], \"y\": [3.8751564025878906, 9.082049369812012, 16.89238739013672], \"type\": \"scatter\"}]}, {\"data\": [{\"x\": [1, 3, 6], \"y\": [3.8762729167938232, 9.082530975341797, 16.891918182373047], \"type\": \"scatter\"}]}, {\"data\": [{\"x\": [1, 3, 6], \"y\": [3.8773889541625977, 9.083013534545898, 16.891450881958008], \"type\": \"scatter\"}]}, {\"data\": [{\"x\": [1, 3, 6], \"y\": [3.8785042762756348, 9.083495140075684, 16.890981674194336], \"type\": \"scatter\"}]}, {\"data\": [{\"x\": [1, 3, 6], \"y\": [3.8796188831329346, 9.083976745605469, 16.890514373779297], \"type\": \"scatter\"}]}, {\"data\": [{\"x\": [1, 3, 6], \"y\": [3.880733013153076, 9.084458351135254, 16.890045166015625], \"type\": \"scatter\"}]}, {\"data\": [{\"x\": [1, 3, 6], \"y\": [3.8818469047546387, 9.084939002990723, 16.889577865600586], \"type\": \"scatter\"}]}, {\"data\": [{\"x\": [1, 3, 6], \"y\": [3.8829598426818848, 9.085419654846191, 16.889110565185547], \"type\": \"scatter\"}]}, {\"data\": [{\"x\": [1, 3, 6], \"y\": [3.8840723037719727, 9.085901260375977, 16.888643264770508], \"type\": \"scatter\"}]}, {\"data\": [{\"x\": [1, 3, 6], \"y\": [3.8851840496063232, 9.086381912231445, 16.8881778717041], \"type\": \"scatter\"}]}, {\"data\": [{\"x\": [1, 3, 6], \"y\": [3.8862953186035156, 9.086861610412598, 16.887710571289062], \"type\": \"scatter\"}]}, {\"data\": [{\"x\": [1, 3, 6], \"y\": [3.8874058723449707, 9.08734130859375, 16.887243270874023], \"type\": \"scatter\"}]}, {\"data\": [{\"x\": [1, 3, 6], \"y\": [3.8885159492492676, 9.087821006774902, 16.886777877807617], \"type\": \"scatter\"}]}, {\"data\": [{\"x\": [1, 3, 6], \"y\": [3.8896255493164062, 9.088299751281738, 16.886310577392578], \"type\": \"scatter\"}]}, {\"data\": [{\"x\": [1, 3, 6], \"y\": [3.8907341957092285, 9.088778495788574, 16.885845184326172], \"type\": \"scatter\"}]}, {\"data\": [{\"x\": [1, 3, 6], \"y\": [3.891842842102051, 9.089258193969727, 16.885379791259766], \"type\": \"scatter\"}]}, {\"data\": [{\"x\": [1, 3, 6], \"y\": [3.8929505348205566, 9.089735984802246, 16.88491439819336], \"type\": \"scatter\"}]}, {\"data\": [{\"x\": [1, 3, 6], \"y\": [3.894057512283325, 9.090213775634766, 16.884449005126953], \"type\": \"scatter\"}]}, {\"data\": [{\"x\": [1, 3, 6], \"y\": [3.8951640129089355, 9.090692520141602, 16.883983612060547], \"type\": \"scatter\"}]}, {\"data\": [{\"x\": [1, 3, 6], \"y\": [3.896270275115967, 9.091170310974121, 16.883520126342773], \"type\": \"scatter\"}]}, {\"data\": [{\"x\": [1, 3, 6], \"y\": [3.8973755836486816, 9.09164810180664, 16.883056640625], \"type\": \"scatter\"}]}, {\"data\": [{\"x\": [1, 3, 6], \"y\": [3.8984804153442383, 9.092124938964844, 16.882591247558594], \"type\": \"scatter\"}]}, {\"data\": [{\"x\": [1, 3, 6], \"y\": [3.8995847702026367, 9.092601776123047, 16.88212776184082], \"type\": \"scatter\"}]}, {\"data\": [{\"x\": [1, 3, 6], \"y\": [3.900688409805298, 9.09307861328125, 16.881664276123047], \"type\": \"scatter\"}]}, {\"data\": [{\"x\": [1, 3, 6], \"y\": [3.901791572570801, 9.093555450439453, 16.881200790405273], \"type\": \"scatter\"}]}, {\"data\": [{\"x\": [1, 3, 6], \"y\": [3.9028940200805664, 9.094032287597656, 16.880739212036133], \"type\": \"scatter\"}]}, {\"data\": [{\"x\": [1, 3, 6], \"y\": [3.903995990753174, 9.094507217407227, 16.88027572631836], \"type\": \"scatter\"}]}, {\"data\": [{\"x\": [1, 3, 6], \"y\": [3.905097246170044, 9.094983100891113, 16.879812240600586], \"type\": \"scatter\"}]}, {\"data\": [{\"x\": [1, 3, 6], \"y\": [3.906198024749756, 9.095458984375, 16.879350662231445], \"type\": \"scatter\"}]}, {\"data\": [{\"x\": [1, 3, 6], \"y\": [3.9072980880737305, 9.09593391418457, 16.878887176513672], \"type\": \"scatter\"}]}, {\"data\": [{\"x\": [1, 3, 6], \"y\": [3.908397674560547, 9.09640884399414, 16.87842559814453], \"type\": \"scatter\"}]}, {\"data\": [{\"x\": [1, 3, 6], \"y\": [3.909496784210205, 9.096883773803711, 16.87796401977539], \"type\": \"scatter\"}]}, {\"data\": [{\"x\": [1, 3, 6], \"y\": [3.910595417022705, 9.097358703613281, 16.87750244140625], \"type\": \"scatter\"}]}, {\"data\": [{\"x\": [1, 3, 6], \"y\": [3.9116933345794678, 9.097832679748535, 16.87704086303711], \"type\": \"scatter\"}]}, {\"data\": [{\"x\": [1, 3, 6], \"y\": [3.9127907752990723, 9.098306655883789, 16.8765811920166], \"type\": \"scatter\"}]}, {\"data\": [{\"x\": [1, 3, 6], \"y\": [3.9138875007629395, 9.09878158569336, 16.876121520996094], \"type\": \"scatter\"}]}, {\"data\": [{\"x\": [1, 3, 6], \"y\": [3.9149837493896484, 9.099254608154297, 16.875659942626953], \"type\": \"scatter\"}]}, {\"data\": [{\"x\": [1, 3, 6], \"y\": [3.91607928276062, 9.099727630615234, 16.875200271606445], \"type\": \"scatter\"}]}, {\"data\": [{\"x\": [1, 3, 6], \"y\": [3.9171743392944336, 9.100200653076172, 16.874740600585938], \"type\": \"scatter\"}]}, {\"data\": [{\"x\": [1, 3, 6], \"y\": [3.9182686805725098, 9.10067367553711, 16.87428092956543], \"type\": \"scatter\"}]}, {\"data\": [{\"x\": [1, 3, 6], \"y\": [3.9193625450134277, 9.101146697998047, 16.873821258544922], \"type\": \"scatter\"}]}, {\"data\": [{\"x\": [1, 3, 6], \"y\": [3.9204559326171875, 9.101618766784668, 16.873363494873047], \"type\": \"scatter\"}]}, {\"data\": [{\"x\": [1, 3, 6], \"y\": [3.92154860496521, 9.102090835571289, 16.87290382385254], \"type\": \"scatter\"}]}, {\"data\": [{\"x\": [1, 3, 6], \"y\": [3.922640800476074, 9.102561950683594, 16.87244415283203], \"type\": \"scatter\"}]}, {\"data\": [{\"x\": [1, 3, 6], \"y\": [3.923732280731201, 9.103034019470215, 16.871986389160156], \"type\": \"scatter\"}]}, {\"data\": [{\"x\": [1, 3, 6], \"y\": [3.92482328414917, 9.10350513458252, 16.87152671813965], \"type\": \"scatter\"}]}, {\"data\": [{\"x\": [1, 3, 6], \"y\": [3.9259135723114014, 9.103976249694824, 16.871068954467773], \"type\": \"scatter\"}]}, {\"data\": [{\"x\": [1, 3, 6], \"y\": [3.9270033836364746, 9.104447364807129, 16.87061309814453], \"type\": \"scatter\"}]}, {\"data\": [{\"x\": [1, 3, 6], \"y\": [3.9280927181243896, 9.104917526245117, 16.870153427124023], \"type\": \"scatter\"}]}, {\"data\": [{\"x\": [1, 3, 6], \"y\": [3.9291813373565674, 9.105386734008789, 16.86969566345215], \"type\": \"scatter\"}]}, {\"data\": [{\"x\": [1, 3, 6], \"y\": [3.930269479751587, 9.105857849121094, 16.869239807128906], \"type\": \"scatter\"}]}, {\"data\": [{\"x\": [1, 3, 6], \"y\": [3.9313571453094482, 9.106328010559082, 16.868783950805664], \"type\": \"scatter\"}]}, {\"data\": [{\"x\": [1, 3, 6], \"y\": [3.9324440956115723, 9.106797218322754, 16.868328094482422], \"type\": \"scatter\"}]}, {\"data\": [{\"x\": [1, 3, 6], \"y\": [3.933530569076538, 9.107266426086426, 16.867870330810547], \"type\": \"scatter\"}]}, {\"data\": [{\"x\": [1, 3, 6], \"y\": [3.9346165657043457, 9.107736587524414, 16.867416381835938], \"type\": \"scatter\"}]}, {\"data\": [{\"x\": [1, 3, 6], \"y\": [3.935701847076416, 9.10820484161377, 16.866960525512695], \"type\": \"scatter\"}]}, {\"data\": [{\"x\": [1, 3, 6], \"y\": [3.936786413192749, 9.108673095703125, 16.866504669189453], \"type\": \"scatter\"}]}, {\"data\": [{\"x\": [1, 3, 6], \"y\": [3.937870502471924, 9.109142303466797, 16.86604881286621], \"type\": \"scatter\"}]}, {\"data\": [{\"x\": [1, 3, 6], \"y\": [3.9389541149139404, 9.109609603881836, 16.86559295654297], \"type\": \"scatter\"}]}, {\"data\": [{\"x\": [1, 3, 6], \"y\": [3.940037250518799, 9.110077857971191, 16.86513900756836], \"type\": \"scatter\"}]}, {\"data\": [{\"x\": [1, 3, 6], \"y\": [3.94111967086792, 9.110546112060547, 16.86468505859375], \"type\": \"scatter\"}]}, {\"data\": [{\"x\": [1, 3, 6], \"y\": [3.942201614379883, 9.11101245880127, 16.864229202270508], \"type\": \"scatter\"}]}, {\"data\": [{\"x\": [1, 3, 6], \"y\": [3.9432828426361084, 9.111479759216309, 16.8637752532959], \"type\": \"scatter\"}]}, {\"data\": [{\"x\": [1, 3, 6], \"y\": [3.944363594055176, 9.111947059631348, 16.863323211669922], \"type\": \"scatter\"}]}, {\"data\": [{\"x\": [1, 3, 6], \"y\": [3.945443630218506, 9.11241340637207, 16.862869262695312], \"type\": \"scatter\"}]}, {\"data\": [{\"x\": [1, 3, 6], \"y\": [3.9465231895446777, 9.112879753112793, 16.86241340637207], \"type\": \"scatter\"}]}, {\"data\": [{\"x\": [1, 3, 6], \"y\": [3.9476022720336914, 9.113346099853516, 16.861961364746094], \"type\": \"scatter\"}]}, {\"data\": [{\"x\": [1, 3, 6], \"y\": [3.9486806392669678, 9.113811492919922, 16.861509323120117], \"type\": \"scatter\"}]}, {\"data\": [{\"x\": [1, 3, 6], \"y\": [3.949758529663086, 9.114277839660645, 16.861055374145508], \"type\": \"scatter\"}]}, {\"data\": [{\"x\": [1, 3, 6], \"y\": [3.950835943222046, 9.11474323272705, 16.86060333251953], \"type\": \"scatter\"}]}, {\"data\": [{\"x\": [1, 3, 6], \"y\": [3.9519126415252686, 9.11520767211914, 16.860149383544922], \"type\": \"scatter\"}]}, {\"data\": [{\"x\": [1, 3, 6], \"y\": [3.952988862991333, 9.115673065185547, 16.859699249267578], \"type\": \"scatter\"}]}, {\"data\": [{\"x\": [1, 3, 6], \"y\": [3.95406436920166, 9.116137504577637, 16.8592472076416], \"type\": \"scatter\"}]}, {\"data\": [{\"x\": [1, 3, 6], \"y\": [3.955139398574829, 9.116601943969727, 16.858795166015625], \"type\": \"scatter\"}]}, {\"data\": [{\"x\": [1, 3, 6], \"y\": [3.95621395111084, 9.1170654296875, 16.85834312438965], \"type\": \"scatter\"}]}, {\"data\": [{\"x\": [1, 3, 6], \"y\": [3.9572877883911133, 9.11752986907959, 16.857892990112305], \"type\": \"scatter\"}]}, {\"data\": [{\"x\": [1, 3, 6], \"y\": [3.9583611488342285, 9.117993354797363, 16.85744285583496], \"type\": \"scatter\"}]}, {\"data\": [{\"x\": [1, 3, 6], \"y\": [3.9594337940216064, 9.11845588684082, 16.856990814208984], \"type\": \"scatter\"}]}, {\"data\": [{\"x\": [1, 3, 6], \"y\": [3.960505962371826, 9.11892032623291, 16.85654067993164], \"type\": \"scatter\"}]}, {\"data\": [{\"x\": [1, 3, 6], \"y\": [3.961577892303467, 9.119382858276367, 16.856090545654297], \"type\": \"scatter\"}]}, {\"data\": [{\"x\": [1, 3, 6], \"y\": [3.962648868560791, 9.11984634399414, 16.855642318725586], \"type\": \"scatter\"}]}, {\"data\": [{\"x\": [1, 3, 6], \"y\": [3.963719606399536, 9.120307922363281, 16.855192184448242], \"type\": \"scatter\"}]}, {\"data\": [{\"x\": [1, 3, 6], \"y\": [3.964789867401123, 9.120771408081055, 16.85474395751953], \"type\": \"scatter\"}]}, {\"data\": [{\"x\": [1, 3, 6], \"y\": [3.9658591747283936, 9.121232986450195, 16.854293823242188], \"type\": \"scatter\"}]}, {\"data\": [{\"x\": [1, 3, 6], \"y\": [3.966928005218506, 9.121695518493652, 16.853845596313477], \"type\": \"scatter\"}]}, {\"data\": [{\"x\": [1, 3, 6], \"y\": [3.96799635887146, 9.122156143188477, 16.853397369384766], \"type\": \"scatter\"}]}, {\"data\": [{\"x\": [1, 3, 6], \"y\": [3.969064235687256, 9.122617721557617, 16.852949142456055], \"type\": \"scatter\"}]}, {\"data\": [{\"x\": [1, 3, 6], \"y\": [3.9701313972473145, 9.123078346252441, 16.85249900817871], \"type\": \"scatter\"}]}, {\"data\": [{\"x\": [1, 3, 6], \"y\": [3.971198081970215, 9.123539924621582, 16.852052688598633], \"type\": \"scatter\"}]}, {\"data\": [{\"x\": [1, 3, 6], \"y\": [3.972263813018799, 9.124000549316406, 16.851604461669922], \"type\": \"scatter\"}]}, {\"data\": [{\"x\": [1, 3, 6], \"y\": [3.973329544067383, 9.12446117401123, 16.851158142089844], \"type\": \"scatter\"}]}, {\"data\": [{\"x\": [1, 3, 6], \"y\": [3.9743943214416504, 9.124919891357422, 16.850709915161133], \"type\": \"scatter\"}]}, {\"data\": [{\"x\": [1, 3, 6], \"y\": [3.9754586219787598, 9.12537956237793, 16.850261688232422], \"type\": \"scatter\"}]}, {\"data\": [{\"x\": [1, 3, 6], \"y\": [3.976522445678711, 9.125840187072754, 16.849815368652344], \"type\": \"scatter\"}]}, {\"data\": [{\"x\": [1, 3, 6], \"y\": [3.977585792541504, 9.126298904418945, 16.849369049072266], \"type\": \"scatter\"}]}, {\"data\": [{\"x\": [1, 3, 6], \"y\": [3.9786481857299805, 9.126758575439453, 16.848922729492188], \"type\": \"scatter\"}]}, {\"data\": [{\"x\": [1, 3, 6], \"y\": [3.979710578918457, 9.127217292785645, 16.84847640991211], \"type\": \"scatter\"}]}, {\"data\": [{\"x\": [1, 3, 6], \"y\": [3.980772018432617, 9.127676010131836, 16.848031997680664], \"type\": \"scatter\"}]}, {\"data\": [{\"x\": [1, 3, 6], \"y\": [3.981832981109619, 9.128134727478027, 16.847585678100586], \"type\": \"scatter\"}]}, {\"data\": [{\"x\": [1, 3, 6], \"y\": [3.982893466949463, 9.128592491149902, 16.84714126586914], \"type\": \"scatter\"}]}, {\"data\": [{\"x\": [1, 3, 6], \"y\": [3.9839534759521484, 9.129050254821777, 16.846694946289062], \"type\": \"scatter\"}]}, {\"data\": [{\"x\": [1, 3, 6], \"y\": [3.9850125312805176, 9.129508018493652, 16.846250534057617], \"type\": \"scatter\"}]}, {\"data\": [{\"x\": [1, 3, 6], \"y\": [3.9860715866088867, 9.129964828491211, 16.845806121826172], \"type\": \"scatter\"}]}, {\"data\": [{\"x\": [1, 3, 6], \"y\": [3.9871296882629395, 9.13042163848877, 16.845359802246094], \"type\": \"scatter\"}]}, {\"data\": [{\"x\": [1, 3, 6], \"y\": [3.988187313079834, 9.130878448486328, 16.84491539001465], \"type\": \"scatter\"}]}, {\"data\": [{\"x\": [1, 3, 6], \"y\": [3.9892444610595703, 9.131335258483887, 16.844472885131836], \"type\": \"scatter\"}]}, {\"data\": [{\"x\": [1, 3, 6], \"y\": [3.9903006553649902, 9.131792068481445, 16.84402847290039], \"type\": \"scatter\"}]}, {\"data\": [{\"x\": [1, 3, 6], \"y\": [3.99135684967041, 9.132247924804688, 16.843584060668945], \"type\": \"scatter\"}]}, {\"data\": [{\"x\": [1, 3, 6], \"y\": [3.9924120903015137, 9.13270378112793, 16.843141555786133], \"type\": \"scatter\"}]}, {\"data\": [{\"x\": [1, 3, 6], \"y\": [3.993466854095459, 9.133159637451172, 16.842697143554688], \"type\": \"scatter\"}]}, {\"data\": [{\"x\": [1, 3, 6], \"y\": [3.994521141052246, 9.133614540100098, 16.842254638671875], \"type\": \"scatter\"}]}, {\"data\": [{\"x\": [1, 3, 6], \"y\": [3.995574951171875, 9.13407039642334, 16.841812133789062], \"type\": \"scatter\"}]}, {\"data\": [{\"x\": [1, 3, 6], \"y\": [3.9966282844543457, 9.13452434539795, 16.84136962890625], \"type\": \"scatter\"}]}, {\"data\": [{\"x\": [1, 3, 6], \"y\": [3.9976806640625, 9.134979248046875, 16.840927124023438], \"type\": \"scatter\"}]}, {\"data\": [{\"x\": [1, 3, 6], \"y\": [3.9987330436706543, 9.1354341506958, 16.840484619140625], \"type\": \"scatter\"}]}, {\"data\": [{\"x\": [1, 3, 6], \"y\": [3.999784469604492, 9.13588809967041, 16.840044021606445], \"type\": \"scatter\"}]}, {\"data\": [{\"x\": [1, 3, 6], \"y\": [4.000835418701172, 9.13634204864502, 16.839601516723633], \"type\": \"scatter\"}]}, {\"data\": [{\"x\": [1, 3, 6], \"y\": [4.001886367797852, 9.136795997619629, 16.839160919189453], \"type\": \"scatter\"}]}, {\"data\": [{\"x\": [1, 3, 6], \"y\": [4.002936363220215, 9.137249946594238, 16.838720321655273], \"type\": \"scatter\"}]}, {\"data\": [{\"x\": [1, 3, 6], \"y\": [4.003985404968262, 9.137702941894531, 16.838279724121094], \"type\": \"scatter\"}]}, {\"data\": [{\"x\": [1, 3, 6], \"y\": [4.005034446716309, 9.13815689086914, 16.837839126586914], \"type\": \"scatter\"}]}, {\"data\": [{\"x\": [1, 3, 6], \"y\": [4.006082534790039, 9.138608932495117, 16.837398529052734], \"type\": \"scatter\"}]}, {\"data\": [{\"x\": [1, 3, 6], \"y\": [4.0071306228637695, 9.13906192779541, 16.836957931518555], \"type\": \"scatter\"}]}, {\"data\": [{\"x\": [1, 3, 6], \"y\": [4.008177757263184, 9.139514923095703, 16.836519241333008], \"type\": \"scatter\"}]}, {\"data\": [{\"x\": [1, 3, 6], \"y\": [4.009223937988281, 9.139966011047363, 16.836078643798828], \"type\": \"scatter\"}]}, {\"data\": [{\"x\": [1, 3, 6], \"y\": [4.010270118713379, 9.14041805267334, 16.83563995361328], \"type\": \"scatter\"}]}, {\"data\": [{\"x\": [1, 3, 6], \"y\": [4.011315822601318, 9.140870094299316, 16.835201263427734], \"type\": \"scatter\"}]}, {\"data\": [{\"x\": [1, 3, 6], \"y\": [4.012360572814941, 9.141321182250977, 16.834762573242188], \"type\": \"scatter\"}]}, {\"data\": [{\"x\": [1, 3, 6], \"y\": [4.013404846191406, 9.141772270202637, 16.83432388305664], \"type\": \"scatter\"}]}, {\"data\": [{\"x\": [1, 3, 6], \"y\": [4.014449119567871, 9.142223358154297, 16.833885192871094], \"type\": \"scatter\"}]}, {\"data\": [{\"x\": [1, 3, 6], \"y\": [4.0154924392700195, 9.142674446105957, 16.833446502685547], \"type\": \"scatter\"}]}, {\"data\": [{\"x\": [1, 3, 6], \"y\": [4.01653528213501, 9.143125534057617, 16.833009719848633], \"type\": \"scatter\"}]}, {\"data\": [{\"x\": [1, 3, 6], \"y\": [4.017577648162842, 9.143575668334961, 16.83257293701172], \"type\": \"scatter\"}]}, {\"data\": [{\"x\": [1, 3, 6], \"y\": [4.018619537353516, 9.144025802612305, 16.832134246826172], \"type\": \"scatter\"}]}, {\"data\": [{\"x\": [1, 3, 6], \"y\": [4.019660472869873, 9.144475936889648, 16.831697463989258], \"type\": \"scatter\"}]}, {\"data\": [{\"x\": [1, 3, 6], \"y\": [4.0207014083862305, 9.144926071166992, 16.831262588500977], \"type\": \"scatter\"}]}, {\"data\": [{\"x\": [1, 3, 6], \"y\": [4.021740913391113, 9.145374298095703, 16.83082389831543], \"type\": \"scatter\"}]}, {\"data\": [{\"x\": [1, 3, 6], \"y\": [4.022780418395996, 9.14582347869873, 16.83038902282715], \"type\": \"scatter\"}]}, {\"data\": [{\"x\": [1, 3, 6], \"y\": [4.023819446563721, 9.146272659301758, 16.829952239990234], \"type\": \"scatter\"}]}, {\"data\": [{\"x\": [1, 3, 6], \"y\": [4.024857997894287, 9.146720886230469, 16.82951545715332], \"type\": \"scatter\"}]}, {\"data\": [{\"x\": [1, 3, 6], \"y\": [4.025896072387695, 9.14716911315918, 16.82908058166504], \"type\": \"scatter\"}]}, {\"data\": [{\"x\": [1, 3, 6], \"y\": [4.026933193206787, 9.14761734008789, 16.828643798828125], \"type\": \"scatter\"}]}, {\"data\": [{\"x\": [1, 3, 6], \"y\": [4.027969837188721, 9.148065567016602, 16.828208923339844], \"type\": \"scatter\"}]}, {\"data\": [{\"x\": [1, 3, 6], \"y\": [4.029006004333496, 9.148512840270996, 16.827774047851562], \"type\": \"scatter\"}]}, {\"data\": [{\"x\": [1, 3, 6], \"y\": [4.030041694641113, 9.14896011352539, 16.82733726501465], \"type\": \"scatter\"}]}, {\"data\": [{\"x\": [1, 3, 6], \"y\": [4.031076908111572, 9.149407386779785, 16.826904296875], \"type\": \"scatter\"}]}, {\"data\": [{\"x\": [1, 3, 6], \"y\": [4.032111167907715, 9.14985466003418, 16.82646942138672], \"type\": \"scatter\"}]}, {\"data\": [{\"x\": [1, 3, 6], \"y\": [4.033145427703857, 9.150300979614258, 16.826034545898438], \"type\": \"scatter\"}]}, {\"data\": [{\"x\": [1, 3, 6], \"y\": [4.034178733825684, 9.150747299194336, 16.825599670410156], \"type\": \"scatter\"}]}, {\"data\": [{\"x\": [1, 3, 6], \"y\": [4.03521203994751, 9.151193618774414, 16.825166702270508], \"type\": \"scatter\"}]}, {\"data\": [{\"x\": [1, 3, 6], \"y\": [4.0362443923950195, 9.151639938354492, 16.82473373413086], \"type\": \"scatter\"}]}, {\"data\": [{\"x\": [1, 3, 6], \"y\": [4.037276268005371, 9.15208625793457, 16.82430076599121], \"type\": \"scatter\"}]}, {\"data\": [{\"x\": [1, 3, 6], \"y\": [4.0383076667785645, 9.152531623840332, 16.823867797851562], \"type\": \"scatter\"}]}, {\"data\": [{\"x\": [1, 3, 6], \"y\": [4.0393385887146, 9.152976989746094, 16.823434829711914], \"type\": \"scatter\"}]}, {\"data\": [{\"x\": [1, 3, 6], \"y\": [4.040369033813477, 9.153422355651855, 16.823001861572266], \"type\": \"scatter\"}]}, {\"data\": [{\"x\": [1, 3, 6], \"y\": [4.041398525238037, 9.1538667678833, 16.822568893432617], \"type\": \"scatter\"}]}, {\"data\": [{\"x\": [1, 3, 6], \"y\": [4.0424275398254395, 9.154311180114746, 16.8221378326416], \"type\": \"scatter\"}]}, {\"data\": [{\"x\": [1, 3, 6], \"y\": [4.043456077575684, 9.154755592346191, 16.821704864501953], \"type\": \"scatter\"}]}, {\"data\": [{\"x\": [1, 3, 6], \"y\": [4.0444841384887695, 9.15519905090332, 16.821271896362305], \"type\": \"scatter\"}]}, {\"data\": [{\"x\": [1, 3, 6], \"y\": [4.045511722564697, 9.155643463134766, 16.82084083557129], \"type\": \"scatter\"}]}, {\"data\": [{\"x\": [1, 3, 6], \"y\": [4.046538829803467, 9.156087875366211, 16.820409774780273], \"type\": \"scatter\"}]}, {\"data\": [{\"x\": [1, 3, 6], \"y\": [4.047565460205078, 9.156530380249023, 16.819978713989258], \"type\": \"scatter\"}]}, {\"data\": [{\"x\": [1, 3, 6], \"y\": [4.048591136932373, 9.156973838806152, 16.819547653198242], \"type\": \"scatter\"}]}, {\"data\": [{\"x\": [1, 3, 6], \"y\": [4.049616813659668, 9.157417297363281, 16.81911849975586], \"type\": \"scatter\"}]}, {\"data\": [{\"x\": [1, 3, 6], \"y\": [4.0506415367126465, 9.157859802246094, 16.818687438964844], \"type\": \"scatter\"}]}, {\"data\": [{\"x\": [1, 3, 6], \"y\": [4.051665782928467, 9.158302307128906, 16.81825828552246], \"type\": \"scatter\"}]}, {\"data\": [{\"x\": [1, 3, 6], \"y\": [4.052689552307129, 9.158744812011719, 16.817827224731445], \"type\": \"scatter\"}]}, {\"data\": [{\"x\": [1, 3, 6], \"y\": [4.053712844848633, 9.159186363220215, 16.817398071289062], \"type\": \"scatter\"}]}, {\"data\": [{\"x\": [1, 3, 6], \"y\": [4.0547356605529785, 9.159628868103027, 16.81696891784668], \"type\": \"scatter\"}]}, {\"data\": [{\"x\": [1, 3, 6], \"y\": [4.055757522583008, 9.160069465637207, 16.816537857055664], \"type\": \"scatter\"}]}, {\"data\": [{\"x\": [1, 3, 6], \"y\": [4.056779384613037, 9.160511016845703, 16.81610870361328], \"type\": \"scatter\"}]}, {\"data\": [{\"x\": [1, 3, 6], \"y\": [4.05780029296875, 9.1609525680542, 16.81568145751953], \"type\": \"scatter\"}]}, {\"data\": [{\"x\": [1, 3, 6], \"y\": [4.058820724487305, 9.161393165588379, 16.81525230407715], \"type\": \"scatter\"}]}, {\"data\": [{\"x\": [1, 3, 6], \"y\": [4.059840679168701, 9.161833763122559, 16.814823150634766], \"type\": \"scatter\"}]}, {\"data\": [{\"x\": [1, 3, 6], \"y\": [4.060860633850098, 9.162275314331055, 16.814395904541016], \"type\": \"scatter\"}]}, {\"data\": [{\"x\": [1, 3, 6], \"y\": [4.0618791580200195, 9.162714004516602, 16.813966751098633], \"type\": \"scatter\"}]}, {\"data\": [{\"x\": [1, 3, 6], \"y\": [4.062897682189941, 9.163154602050781, 16.813539505004883], \"type\": \"scatter\"}]}, {\"data\": [{\"x\": [1, 3, 6], \"y\": [4.063915729522705, 9.163594245910645, 16.813112258911133], \"type\": \"scatter\"}]}, {\"data\": [{\"x\": [1, 3, 6], \"y\": [4.064932823181152, 9.164033889770508, 16.812685012817383], \"type\": \"scatter\"}]}, {\"data\": [{\"x\": [1, 3, 6], \"y\": [4.0659499168396, 9.164473533630371, 16.812257766723633], \"type\": \"scatter\"}]}, {\"data\": [{\"x\": [1, 3, 6], \"y\": [4.0669660568237305, 9.164912223815918, 16.811830520629883], \"type\": \"scatter\"}]}, {\"data\": [{\"x\": [1, 3, 6], \"y\": [4.067981719970703, 9.165350914001465, 16.811405181884766], \"type\": \"scatter\"}]}, {\"data\": [{\"x\": [1, 3, 6], \"y\": [4.068996906280518, 9.165789604187012, 16.81097984313965], \"type\": \"scatter\"}]}, {\"data\": [{\"x\": [1, 3, 6], \"y\": [4.070011615753174, 9.166227340698242, 16.8105525970459], \"type\": \"scatter\"}]}, {\"data\": [{\"x\": [1, 3, 6], \"y\": [4.071025848388672, 9.166666030883789, 16.81012535095215], \"type\": \"scatter\"}]}, {\"data\": [{\"x\": [1, 3, 6], \"y\": [4.0720391273498535, 9.16710376739502, 16.809701919555664], \"type\": \"scatter\"}]}, {\"data\": [{\"x\": [1, 3, 6], \"y\": [4.073052406311035, 9.16754150390625, 16.809274673461914], \"type\": \"scatter\"}]}, {\"data\": [{\"x\": [1, 3, 6], \"y\": [4.0740647315979, 9.16797924041748, 16.808849334716797], \"type\": \"scatter\"}]}, {\"data\": [{\"x\": [1, 3, 6], \"y\": [4.075077056884766, 9.168416023254395, 16.808425903320312], \"type\": \"scatter\"}]}, {\"data\": [{\"x\": [1, 3, 6], \"y\": [4.0760884284973145, 9.168852806091309, 16.808000564575195], \"type\": \"scatter\"}]}, {\"data\": [{\"x\": [1, 3, 6], \"y\": [4.077099323272705, 9.169290542602539, 16.807575225830078], \"type\": \"scatter\"}]}, {\"data\": [{\"x\": [1, 3, 6], \"y\": [4.0781097412109375, 9.169726371765137, 16.807151794433594], \"type\": \"scatter\"}]}, {\"data\": [{\"x\": [1, 3, 6], \"y\": [4.079119682312012, 9.170162200927734, 16.806726455688477], \"type\": \"scatter\"}]}, {\"data\": [{\"x\": [1, 3, 6], \"y\": [4.0801286697387695, 9.170598983764648, 16.806304931640625], \"type\": \"scatter\"}]}, {\"data\": [{\"x\": [1, 3, 6], \"y\": [4.081137657165527, 9.17103385925293, 16.805879592895508], \"type\": \"scatter\"}]}, {\"data\": [{\"x\": [1, 3, 6], \"y\": [4.082145690917969, 9.171469688415527, 16.805456161499023], \"type\": \"scatter\"}]}, {\"data\": [{\"x\": [1, 3, 6], \"y\": [4.08315372467041, 9.171905517578125, 16.80503273010254], \"type\": \"scatter\"}]}, {\"data\": [{\"x\": [1, 3, 6], \"y\": [4.084160804748535, 9.172340393066406, 16.804609298706055], \"type\": \"scatter\"}]}, {\"data\": [{\"x\": [1, 3, 6], \"y\": [4.08516788482666, 9.172775268554688, 16.804187774658203], \"type\": \"scatter\"}]}, {\"data\": [{\"x\": [1, 3, 6], \"y\": [4.0861735343933105, 9.173210144042969, 16.80376434326172], \"type\": \"scatter\"}]}, {\"data\": [{\"x\": [1, 3, 6], \"y\": [4.087179183959961, 9.173644065856934, 16.803340911865234], \"type\": \"scatter\"}]}, {\"data\": [{\"x\": [1, 3, 6], \"y\": [4.088184356689453, 9.174078941345215, 16.802919387817383], \"type\": \"scatter\"}]}, {\"data\": [{\"x\": [1, 3, 6], \"y\": [4.089189052581787, 9.174511909484863, 16.80249786376953], \"type\": \"scatter\"}]}, {\"data\": [{\"x\": [1, 3, 6], \"y\": [4.090192794799805, 9.174945831298828, 16.80207633972168], \"type\": \"scatter\"}]}, {\"data\": [{\"x\": [1, 3, 6], \"y\": [4.091196537017822, 9.175379753112793, 16.801654815673828], \"type\": \"scatter\"}]}, {\"data\": [{\"x\": [1, 3, 6], \"y\": [4.092199325561523, 9.175812721252441, 16.801233291625977], \"type\": \"scatter\"}]}, {\"data\": [{\"x\": [1, 3, 6], \"y\": [4.093202114105225, 9.176246643066406, 16.800811767578125], \"type\": \"scatter\"}]}, {\"data\": [{\"x\": [1, 3, 6], \"y\": [4.094203948974609, 9.176679611206055, 16.800392150878906], \"type\": \"scatter\"}]}, {\"data\": [{\"x\": [1, 3, 6], \"y\": [4.095205307006836, 9.177111625671387, 16.799970626831055], \"type\": \"scatter\"}]}, {\"data\": [{\"x\": [1, 3, 6], \"y\": [4.0962066650390625, 9.177544593811035, 16.799551010131836], \"type\": \"scatter\"}]}, {\"data\": [{\"x\": [1, 3, 6], \"y\": [4.097207069396973, 9.177976608276367, 16.799131393432617], \"type\": \"scatter\"}]}, {\"data\": [{\"x\": [1, 3, 6], \"y\": [4.098206520080566, 9.178407669067383, 16.798709869384766], \"type\": \"scatter\"}]}, {\"data\": [{\"x\": [1, 3, 6], \"y\": [4.09920597076416, 9.178840637207031, 16.79829216003418], \"type\": \"scatter\"}]}, {\"data\": [{\"x\": [1, 3, 6], \"y\": [4.100204944610596, 9.179271697998047, 16.797870635986328], \"type\": \"scatter\"}]}, {\"data\": [{\"x\": [1, 3, 6], \"y\": [4.101202964782715, 9.179702758789062, 16.797452926635742], \"type\": \"scatter\"}]}, {\"data\": [{\"x\": [1, 3, 6], \"y\": [4.102200984954834, 9.180133819580078, 16.797035217285156], \"type\": \"scatter\"}]}, {\"data\": [{\"x\": [1, 3, 6], \"y\": [4.103198051452637, 9.180564880371094, 16.796615600585938], \"type\": \"scatter\"}]}, {\"data\": [{\"x\": [1, 3, 6], \"y\": [4.104194641113281, 9.18099594116211, 16.79619598388672], \"type\": \"scatter\"}]}, {\"data\": [{\"x\": [1, 3, 6], \"y\": [4.105191230773926, 9.181426048278809, 16.795778274536133], \"type\": \"scatter\"}]}, {\"data\": [{\"x\": [1, 3, 6], \"y\": [4.106186866760254, 9.181856155395508, 16.795360565185547], \"type\": \"scatter\"}]}, {\"data\": [{\"x\": [1, 3, 6], \"y\": [4.107181549072266, 9.182286262512207, 16.79494285583496], \"type\": \"scatter\"}]}, {\"data\": [{\"x\": [1, 3, 6], \"y\": [4.108176231384277, 9.18271541595459, 16.794525146484375], \"type\": \"scatter\"}]}, {\"data\": [{\"x\": [1, 3, 6], \"y\": [4.109170436859131, 9.183145523071289, 16.79410743713379], \"type\": \"scatter\"}]}, {\"data\": [{\"x\": [1, 3, 6], \"y\": [4.110164165496826, 9.183574676513672, 16.793691635131836], \"type\": \"scatter\"}]}, {\"data\": [{\"x\": [1, 3, 6], \"y\": [4.111156940460205, 9.184003829956055, 16.79327392578125], \"type\": \"scatter\"}]}, {\"data\": [{\"x\": [1, 3, 6], \"y\": [4.112149715423584, 9.184432029724121, 16.792856216430664], \"type\": \"scatter\"}]}, {\"data\": [{\"x\": [1, 3, 6], \"y\": [4.1131415367126465, 9.184860229492188, 16.792438507080078], \"type\": \"scatter\"}]}, {\"data\": [{\"x\": [1, 3, 6], \"y\": [4.114132881164551, 9.18528938293457, 16.792022705078125], \"type\": \"scatter\"}]}, {\"data\": [{\"x\": [1, 3, 6], \"y\": [4.115123748779297, 9.185717582702637, 16.791606903076172], \"type\": \"scatter\"}]}, {\"data\": [{\"x\": [1, 3, 6], \"y\": [4.116114616394043, 9.186145782470703, 16.79119110107422], \"type\": \"scatter\"}]}, {\"data\": [{\"x\": [1, 3, 6], \"y\": [4.117104530334473, 9.186573028564453, 16.790775299072266], \"type\": \"scatter\"}]}, {\"data\": [{\"x\": [1, 3, 6], \"y\": [4.118093490600586, 9.186999320983887, 16.790359497070312], \"type\": \"scatter\"}]}, {\"data\": [{\"x\": [1, 3, 6], \"y\": [4.119082450866699, 9.187427520751953, 16.78994369506836], \"type\": \"scatter\"}]}, {\"data\": [{\"x\": [1, 3, 6], \"y\": [4.120070934295654, 9.187853813171387, 16.78952980041504], \"type\": \"scatter\"}]}, {\"data\": [{\"x\": [1, 3, 6], \"y\": [4.121058464050293, 9.18828010559082, 16.789113998413086], \"type\": \"scatter\"}]}, {\"data\": [{\"x\": [1, 3, 6], \"y\": [4.122045993804932, 9.18870735168457, 16.788698196411133], \"type\": \"scatter\"}]}, {\"data\": [{\"x\": [1, 3, 6], \"y\": [4.123032569885254, 9.189133644104004, 16.788286209106445], \"type\": \"scatter\"}]}, {\"data\": [{\"x\": [1, 3, 6], \"y\": [4.124019145965576, 9.189559936523438, 16.787872314453125], \"type\": \"scatter\"}]}, {\"data\": [{\"x\": [1, 3, 6], \"y\": [4.125004768371582, 9.189985275268555, 16.787456512451172], \"type\": \"scatter\"}]}, {\"data\": [{\"x\": [1, 3, 6], \"y\": [4.12598991394043, 9.190411567687988, 16.78704261779785], \"type\": \"scatter\"}]}, {\"data\": [{\"x\": [1, 3, 6], \"y\": [4.126974582672119, 9.190835952758789, 16.78662872314453], \"type\": \"scatter\"}]}, {\"data\": [{\"x\": [1, 3, 6], \"y\": [4.12795877456665, 9.191262245178223, 16.786216735839844], \"type\": \"scatter\"}]}, {\"data\": [{\"x\": [1, 3, 6], \"y\": [4.128942489624023, 9.191686630249023, 16.785802841186523], \"type\": \"scatter\"}]}, {\"data\": [{\"x\": [1, 3, 6], \"y\": [4.129925727844238, 9.19211196899414, 16.785390853881836], \"type\": \"scatter\"}]}, {\"data\": [{\"x\": [1, 3, 6], \"y\": [4.130908012390137, 9.192535400390625, 16.784976959228516], \"type\": \"scatter\"}]}, {\"data\": [{\"x\": [1, 3, 6], \"y\": [4.131890296936035, 9.192959785461426, 16.784564971923828], \"type\": \"scatter\"}]}, {\"data\": [{\"x\": [1, 3, 6], \"y\": [4.132872104644775, 9.193384170532227, 16.784151077270508], \"type\": \"scatter\"}]}, {\"data\": [{\"x\": [1, 3, 6], \"y\": [4.133852958679199, 9.193807601928711, 16.78373908996582], \"type\": \"scatter\"}]}, {\"data\": [{\"x\": [1, 3, 6], \"y\": [4.134833335876465, 9.194231033325195, 16.783327102661133], \"type\": \"scatter\"}]}, {\"data\": [{\"x\": [1, 3, 6], \"y\": [4.1358137130737305, 9.19465446472168, 16.782917022705078], \"type\": \"scatter\"}]}, {\"data\": [{\"x\": [1, 3, 6], \"y\": [4.13679313659668, 9.195077896118164, 16.78250503540039], \"type\": \"scatter\"}]}, {\"data\": [{\"x\": [1, 3, 6], \"y\": [4.137772560119629, 9.195501327514648, 16.782094955444336], \"type\": \"scatter\"}]}, {\"data\": [{\"x\": [1, 3, 6], \"y\": [4.138751029968262, 9.195923805236816, 16.78168296813965], \"type\": \"scatter\"}]}, {\"data\": [{\"x\": [1, 3, 6], \"y\": [4.139728546142578, 9.196346282958984, 16.78127098083496], \"type\": \"scatter\"}]}, {\"data\": [{\"x\": [1, 3, 6], \"y\": [4.140706539154053, 9.196768760681152, 16.780860900878906], \"type\": \"scatter\"}]}, {\"data\": [{\"x\": [1, 3, 6], \"y\": [4.141683578491211, 9.197190284729004, 16.78045082092285], \"type\": \"scatter\"}]}, {\"data\": [{\"x\": [1, 3, 6], \"y\": [4.142659664154053, 9.197612762451172, 16.780040740966797], \"type\": \"scatter\"}]}, {\"data\": [{\"x\": [1, 3, 6], \"y\": [4.1436357498168945, 9.198034286499023, 16.779632568359375], \"type\": \"scatter\"}]}, {\"data\": [{\"x\": [1, 3, 6], \"y\": [4.144611358642578, 9.198455810546875, 16.77922248840332], \"type\": \"scatter\"}]}, {\"data\": [{\"x\": [1, 3, 6], \"y\": [4.145586013793945, 9.198877334594727, 16.778812408447266], \"type\": \"scatter\"}]}, {\"data\": [{\"x\": [1, 3, 6], \"y\": [4.1465606689453125, 9.199297904968262, 16.778404235839844], \"type\": \"scatter\"}]}, {\"data\": [{\"x\": [1, 3, 6], \"y\": [4.147534370422363, 9.199718475341797, 16.77799415588379], \"type\": \"scatter\"}]}, {\"data\": [{\"x\": [1, 3, 6], \"y\": [4.148508071899414, 9.200139045715332, 16.777585983276367], \"type\": \"scatter\"}]}, {\"data\": [{\"x\": [1, 3, 6], \"y\": [4.149480819702148, 9.200559616088867, 16.777177810668945], \"type\": \"scatter\"}]}, {\"data\": [{\"x\": [1, 3, 6], \"y\": [4.150453090667725, 9.200980186462402, 16.776769638061523], \"type\": \"scatter\"}]}, {\"data\": [{\"x\": [1, 3, 6], \"y\": [4.151424884796143, 9.201399803161621, 16.7763614654541], \"type\": \"scatter\"}]}, {\"data\": [{\"x\": [1, 3, 6], \"y\": [4.152396202087402, 9.201818466186523, 16.77595329284668], \"type\": \"scatter\"}]}, {\"data\": [{\"x\": [1, 3, 6], \"y\": [4.153367042541504, 9.202238082885742, 16.775545120239258], \"type\": \"scatter\"}]}, {\"data\": [{\"x\": [1, 3, 6], \"y\": [4.154337406158447, 9.202657699584961, 16.775136947631836], \"type\": \"scatter\"}]}, {\"data\": [{\"x\": [1, 3, 6], \"y\": [4.155307292938232, 9.20307731628418, 16.774730682373047], \"type\": \"scatter\"}]}, {\"data\": [{\"x\": [1, 3, 6], \"y\": [4.156276702880859, 9.203495979309082, 16.774324417114258], \"type\": \"scatter\"}]}, {\"data\": [{\"x\": [1, 3, 6], \"y\": [4.157245635986328, 9.203913688659668, 16.773916244506836], \"type\": \"scatter\"}]}, {\"data\": [{\"x\": [1, 3, 6], \"y\": [4.1582136154174805, 9.20433235168457, 16.773509979248047], \"type\": \"scatter\"}]}, {\"data\": [{\"x\": [1, 3, 6], \"y\": [4.159181594848633, 9.204751014709473, 16.773103713989258], \"type\": \"scatter\"}]}, {\"data\": [{\"x\": [1, 3, 6], \"y\": [4.160148620605469, 9.205168724060059, 16.77269744873047], \"type\": \"scatter\"}]}, {\"data\": [{\"x\": [1, 3, 6], \"y\": [4.161115646362305, 9.205585479736328, 16.77229118347168], \"type\": \"scatter\"}]}, {\"data\": [{\"x\": [1, 3, 6], \"y\": [4.162081718444824, 9.206003189086914, 16.77188491821289], \"type\": \"scatter\"}]}, {\"data\": [{\"x\": [1, 3, 6], \"y\": [4.163047790527344, 9.2064208984375, 16.771480560302734], \"type\": \"scatter\"}]}, {\"data\": [{\"x\": [1, 3, 6], \"y\": [4.164012908935547, 9.20683765411377, 16.771074295043945], \"type\": \"scatter\"}]}, {\"data\": [{\"x\": [1, 3, 6], \"y\": [4.164977550506592, 9.207254409790039, 16.77066993713379], \"type\": \"scatter\"}]}, {\"data\": [{\"x\": [1, 3, 6], \"y\": [4.1659417152404785, 9.207670211791992, 16.770263671875], \"type\": \"scatter\"}]}, {\"data\": [{\"x\": [1, 3, 6], \"y\": [4.166905403137207, 9.208086967468262, 16.769859313964844], \"type\": \"scatter\"}]}, {\"data\": [{\"x\": [1, 3, 6], \"y\": [4.167868614196777, 9.208503723144531, 16.769454956054688], \"type\": \"scatter\"}]}, {\"data\": [{\"x\": [1, 3, 6], \"y\": [4.1688313484191895, 9.208919525146484, 16.76905059814453], \"type\": \"scatter\"}]}, {\"data\": [{\"x\": [1, 3, 6], \"y\": [4.169793605804443, 9.209335327148438, 16.768646240234375], \"type\": \"scatter\"}]}, {\"data\": [{\"x\": [1, 3, 6], \"y\": [4.170755386352539, 9.209750175476074, 16.76824188232422], \"type\": \"scatter\"}]}, {\"data\": [{\"x\": [1, 3, 6], \"y\": [4.171716213226318, 9.210165023803711, 16.767839431762695], \"type\": \"scatter\"}]}, {\"data\": [{\"x\": [1, 3, 6], \"y\": [4.172677040100098, 9.210580825805664, 16.76743507385254], \"type\": \"scatter\"}]}, {\"data\": [{\"x\": [1, 3, 6], \"y\": [4.173637390136719, 9.2109956741333, 16.767032623291016], \"type\": \"scatter\"}]}, {\"data\": [{\"x\": [1, 3, 6], \"y\": [4.174596786499023, 9.211409568786621, 16.76662826538086], \"type\": \"scatter\"}]}, {\"data\": [{\"x\": [1, 3, 6], \"y\": [4.175556182861328, 9.211823463439941, 16.766225814819336], \"type\": \"scatter\"}]}, {\"data\": [{\"x\": [1, 3, 6], \"y\": [4.176514625549316, 9.212238311767578, 16.765823364257812], \"type\": \"scatter\"}]}, {\"data\": [{\"x\": [1, 3, 6], \"y\": [4.177473068237305, 9.212652206420898, 16.76542091369629], \"type\": \"scatter\"}]}, {\"data\": [{\"x\": [1, 3, 6], \"y\": [4.178430557250977, 9.213065147399902, 16.765018463134766], \"type\": \"scatter\"}]}, {\"data\": [{\"x\": [1, 3, 6], \"y\": [4.179388046264648, 9.213479042053223, 16.764616012573242], \"type\": \"scatter\"}]}, {\"data\": [{\"x\": [1, 3, 6], \"y\": [4.180344581604004, 9.213891983032227, 16.76421356201172], \"type\": \"scatter\"}]}, {\"data\": [{\"x\": [1, 3, 6], \"y\": [4.181300640106201, 9.21430492401123, 16.763813018798828], \"type\": \"scatter\"}]}, {\"data\": [{\"x\": [1, 3, 6], \"y\": [4.18225622177124, 9.214717864990234, 16.763412475585938], \"type\": \"scatter\"}]}, {\"data\": [{\"x\": [1, 3, 6], \"y\": [4.183211326599121, 9.215130805969238, 16.763010025024414], \"type\": \"scatter\"}]}, {\"data\": [{\"x\": [1, 3, 6], \"y\": [4.184165954589844, 9.215542793273926, 16.762609481811523], \"type\": \"scatter\"}]}, {\"data\": [{\"x\": [1, 3, 6], \"y\": [4.185120105743408, 9.215954780578613, 16.76220703125], \"type\": \"scatter\"}]}, {\"data\": [{\"x\": [1, 3, 6], \"y\": [4.1860737800598145, 9.2163667678833, 16.76180648803711], \"type\": \"scatter\"}]}, {\"data\": [{\"x\": [1, 3, 6], \"y\": [4.1870269775390625, 9.216778755187988, 16.76140785217285], \"type\": \"scatter\"}]}, {\"data\": [{\"x\": [1, 3, 6], \"y\": [4.187979698181152, 9.217190742492676, 16.76100730895996], \"type\": \"scatter\"}]}, {\"data\": [{\"x\": [1, 3, 6], \"y\": [4.188931465148926, 9.217601776123047, 16.76060676574707], \"type\": \"scatter\"}]}, {\"data\": [{\"x\": [1, 3, 6], \"y\": [4.189883232116699, 9.218012809753418, 16.76020622253418], \"type\": \"scatter\"}]}, {\"data\": [{\"x\": [1, 3, 6], \"y\": [4.190834045410156, 9.218423843383789, 16.759807586669922], \"type\": \"scatter\"}]}, {\"data\": [{\"x\": [1, 3, 6], \"y\": [4.191784858703613, 9.218833923339844, 16.759408950805664], \"type\": \"scatter\"}]}, {\"data\": [{\"x\": [1, 3, 6], \"y\": [4.192735195159912, 9.219244956970215, 16.759008407592773], \"type\": \"scatter\"}]}, {\"data\": [{\"x\": [1, 3, 6], \"y\": [4.1936845779418945, 9.21965503692627, 16.75861167907715], \"type\": \"scatter\"}]}, {\"data\": [{\"x\": [1, 3, 6], \"y\": [4.194633960723877, 9.220065116882324, 16.75821304321289], \"type\": \"scatter\"}]}, {\"data\": [{\"x\": [1, 3, 6], \"y\": [4.195582389831543, 9.220474243164062, 16.7578125], \"type\": \"scatter\"}]}, {\"data\": [{\"x\": [1, 3, 6], \"y\": [4.196530818939209, 9.220884323120117, 16.757415771484375], \"type\": \"scatter\"}]}, {\"data\": [{\"x\": [1, 3, 6], \"y\": [4.197478294372559, 9.221294403076172, 16.757017135620117], \"type\": \"scatter\"}]}, {\"data\": [{\"x\": [1, 3, 6], \"y\": [4.19842529296875, 9.22170352935791, 16.756620407104492], \"type\": \"scatter\"}]}, {\"data\": [{\"x\": [1, 3, 6], \"y\": [4.199372291564941, 9.222112655639648, 16.756221771240234], \"type\": \"scatter\"}]}, {\"data\": [{\"x\": [1, 3, 6], \"y\": [4.200318336486816, 9.22252082824707, 16.75582504272461], \"type\": \"scatter\"}]}, {\"data\": [{\"x\": [1, 3, 6], \"y\": [4.201263904571533, 9.222929954528809, 16.755428314208984], \"type\": \"scatter\"}]}, {\"data\": [{\"x\": [1, 3, 6], \"y\": [4.202208995819092, 9.22333812713623, 16.75503158569336], \"type\": \"scatter\"}]}, {\"data\": [{\"x\": [1, 3, 6], \"y\": [4.203153610229492, 9.223746299743652, 16.754634857177734], \"type\": \"scatter\"}]}, {\"data\": [{\"x\": [1, 3, 6], \"y\": [4.204097747802734, 9.224153518676758, 16.75423812866211], \"type\": \"scatter\"}]}, {\"data\": [{\"x\": [1, 3, 6], \"y\": [4.205041885375977, 9.22456169128418, 16.753841400146484], \"type\": \"scatter\"}]}, {\"data\": [{\"x\": [1, 3, 6], \"y\": [4.205985069274902, 9.224969863891602, 16.753446578979492], \"type\": \"scatter\"}]}, {\"data\": [{\"x\": [1, 3, 6], \"y\": [4.20692777633667, 9.22537612915039, 16.753049850463867], \"type\": \"scatter\"}]}, {\"data\": [{\"x\": [1, 3, 6], \"y\": [4.207870006561279, 9.225783348083496, 16.752655029296875], \"type\": \"scatter\"}]}, {\"data\": [{\"x\": [1, 3, 6], \"y\": [4.2088117599487305, 9.226190567016602, 16.75225830078125], \"type\": \"scatter\"}]}, {\"data\": [{\"x\": [1, 3, 6], \"y\": [4.209753036499023, 9.22659683227539, 16.751863479614258], \"type\": \"scatter\"}]}, {\"data\": [{\"x\": [1, 3, 6], \"y\": [4.210693359375, 9.22700309753418, 16.751468658447266], \"type\": \"scatter\"}]}, {\"data\": [{\"x\": [1, 3, 6], \"y\": [4.211633682250977, 9.227409362792969, 16.75107192993164], \"type\": \"scatter\"}]}, {\"data\": [{\"x\": [1, 3, 6], \"y\": [4.212573528289795, 9.227815628051758, 16.75067901611328], \"type\": \"scatter\"}]}, {\"data\": [{\"x\": [1, 3, 6], \"y\": [4.213512420654297, 9.22822093963623, 16.75028419494629], \"type\": \"scatter\"}]}, {\"data\": [{\"x\": [1, 3, 6], \"y\": [4.214451313018799, 9.228626251220703, 16.749889373779297], \"type\": \"scatter\"}]}, {\"data\": [{\"x\": [1, 3, 6], \"y\": [4.215389251708984, 9.229031562805176, 16.749494552612305], \"type\": \"scatter\"}]}, {\"data\": [{\"x\": [1, 3, 6], \"y\": [4.21632719039917, 9.229436874389648, 16.749101638793945], \"type\": \"scatter\"}]}, {\"data\": [{\"x\": [1, 3, 6], \"y\": [4.217264652252197, 9.229842185974121, 16.748708724975586], \"type\": \"scatter\"}]}, {\"data\": [{\"x\": [1, 3, 6], \"y\": [4.218201160430908, 9.230246543884277, 16.748315811157227], \"type\": \"scatter\"}]}, {\"data\": [{\"x\": [1, 3, 6], \"y\": [4.219137668609619, 9.230650901794434, 16.747920989990234], \"type\": \"scatter\"}]}, {\"data\": [{\"x\": [1, 3, 6], \"y\": [4.220073223114014, 9.23105525970459, 16.747528076171875], \"type\": \"scatter\"}]}, {\"data\": [{\"x\": [1, 3, 6], \"y\": [4.22100830078125, 9.231459617614746, 16.747135162353516], \"type\": \"scatter\"}]}, {\"data\": [{\"x\": [1, 3, 6], \"y\": [4.221943378448486, 9.231863975524902, 16.74674415588379], \"type\": \"scatter\"}]}, {\"data\": [{\"x\": [1, 3, 6], \"y\": [4.222877502441406, 9.232267379760742, 16.74635124206543], \"type\": \"scatter\"}]}, {\"data\": [{\"x\": [1, 3, 6], \"y\": [4.223811626434326, 9.232670783996582, 16.74595832824707], \"type\": \"scatter\"}]}, {\"data\": [{\"x\": [1, 3, 6], \"y\": [4.22474479675293, 9.233073234558105, 16.745567321777344], \"type\": \"scatter\"}]}, {\"data\": [{\"x\": [1, 3, 6], \"y\": [4.225677490234375, 9.233476638793945, 16.745176315307617], \"type\": \"scatter\"}]}, {\"data\": [{\"x\": [1, 3, 6], \"y\": [4.22661018371582, 9.233879089355469, 16.744783401489258], \"type\": \"scatter\"}]}, {\"data\": [{\"x\": [1, 3, 6], \"y\": [4.227541923522949, 9.234281539916992, 16.74439239501953], \"type\": \"scatter\"}]}, {\"data\": [{\"x\": [1, 3, 6], \"y\": [4.22847318649292, 9.234684944152832, 16.744001388549805], \"type\": \"scatter\"}]}, {\"data\": [{\"x\": [1, 3, 6], \"y\": [4.229403972625732, 9.235086441040039, 16.743610382080078], \"type\": \"scatter\"}]}, {\"data\": [{\"x\": [1, 3, 6], \"y\": [4.230334281921387, 9.235488891601562, 16.743221282958984], \"type\": \"scatter\"}]}, {\"data\": [{\"x\": [1, 3, 6], \"y\": [4.231264114379883, 9.23589038848877, 16.742828369140625], \"type\": \"scatter\"}]}, {\"data\": [{\"x\": [1, 3, 6], \"y\": [4.232193946838379, 9.236291885375977, 16.74243927001953], \"type\": \"scatter\"}]}, {\"data\": [{\"x\": [1, 3, 6], \"y\": [4.233122825622559, 9.236693382263184, 16.742050170898438], \"type\": \"scatter\"}]}, {\"data\": [{\"x\": [1, 3, 6], \"y\": [4.23405122756958, 9.23709487915039, 16.74165916442871], \"type\": \"scatter\"}]}, {\"data\": [{\"x\": [1, 3, 6], \"y\": [4.234979152679443, 9.237495422363281, 16.741270065307617], \"type\": \"scatter\"}]}, {\"data\": [{\"x\": [1, 3, 6], \"y\": [4.235906600952148, 9.237895965576172, 16.74087905883789], \"type\": \"scatter\"}]}, {\"data\": [{\"x\": [1, 3, 6], \"y\": [4.236833572387695, 9.238296508789062, 16.740489959716797], \"type\": \"scatter\"}]}, {\"data\": [{\"x\": [1, 3, 6], \"y\": [4.237760066986084, 9.238696098327637, 16.740100860595703], \"type\": \"scatter\"}]}, {\"data\": [{\"x\": [1, 3, 6], \"y\": [4.2386860847473145, 9.239096641540527, 16.739713668823242], \"type\": \"scatter\"}]}, {\"data\": [{\"x\": [1, 3, 6], \"y\": [4.239611625671387, 9.239496231079102, 16.73932456970215], \"type\": \"scatter\"}]}, {\"data\": [{\"x\": [1, 3, 6], \"y\": [4.240536689758301, 9.239896774291992, 16.738935470581055], \"type\": \"scatter\"}]}, {\"data\": [{\"x\": [1, 3, 6], \"y\": [4.241460800170898, 9.24029541015625, 16.738548278808594], \"type\": \"scatter\"}]}, {\"data\": [{\"x\": [1, 3, 6], \"y\": [4.242384910583496, 9.240694046020508, 16.7381591796875], \"type\": \"scatter\"}]}, {\"data\": [{\"x\": [1, 3, 6], \"y\": [4.2433085441589355, 9.241093635559082, 16.737770080566406], \"type\": \"scatter\"}]}, {\"data\": [{\"x\": [1, 3, 6], \"y\": [4.244231700897217, 9.241493225097656, 16.737384796142578], \"type\": \"scatter\"}]}, {\"data\": [{\"x\": [1, 3, 6], \"y\": [4.24515438079834, 9.241891860961914, 16.736997604370117], \"type\": \"scatter\"}]}, {\"data\": [{\"x\": [1, 3, 6], \"y\": [4.246076583862305, 9.242289543151855, 16.736610412597656], \"type\": \"scatter\"}]}, {\"data\": [{\"x\": [1, 3, 6], \"y\": [4.246998310089111, 9.242688179016113, 16.736223220825195], \"type\": \"scatter\"}]}, {\"data\": [{\"x\": [1, 3, 6], \"y\": [4.247919082641602, 9.243085861206055, 16.735836029052734], \"type\": \"scatter\"}]}, {\"data\": [{\"x\": [1, 3, 6], \"y\": [4.248839855194092, 9.243483543395996, 16.735448837280273], \"type\": \"scatter\"}]}, {\"data\": [{\"x\": [1, 3, 6], \"y\": [4.249760150909424, 9.243881225585938, 16.735061645507812], \"type\": \"scatter\"}]}, {\"data\": [{\"x\": [1, 3, 6], \"y\": [4.250679969787598, 9.244278907775879, 16.734676361083984], \"type\": \"scatter\"}]}, {\"data\": [{\"x\": [1, 3, 6], \"y\": [4.251599311828613, 9.24467658996582, 16.734291076660156], \"type\": \"scatter\"}]}, {\"data\": [{\"x\": [1, 3, 6], \"y\": [4.2525177001953125, 9.245072364807129, 16.733905792236328], \"type\": \"scatter\"}]}, {\"data\": [{\"x\": [1, 3, 6], \"y\": [4.253436088562012, 9.24547004699707, 16.7335205078125], \"type\": \"scatter\"}]}, {\"data\": [{\"x\": [1, 3, 6], \"y\": [4.2543535232543945, 9.245865821838379, 16.733135223388672], \"type\": \"scatter\"}]}, {\"data\": [{\"x\": [1, 3, 6], \"y\": [4.255270957946777, 9.246261596679688, 16.73274803161621], \"type\": \"scatter\"}]}, {\"data\": [{\"x\": [1, 3, 6], \"y\": [4.256187915802002, 9.246658325195312, 16.732362747192383], \"type\": \"scatter\"}]}, {\"data\": [{\"x\": [1, 3, 6], \"y\": [4.25710391998291, 9.247054100036621, 16.731979370117188], \"type\": \"scatter\"}]}, {\"data\": [{\"x\": [1, 3, 6], \"y\": [4.258019924163818, 9.24744987487793, 16.731595993041992], \"type\": \"scatter\"}]}, {\"data\": [{\"x\": [1, 3, 6], \"y\": [4.258935451507568, 9.247845649719238, 16.731210708618164], \"type\": \"scatter\"}]}, {\"data\": [{\"x\": [1, 3, 6], \"y\": [4.259850025177002, 9.24824047088623, 16.73082733154297], \"type\": \"scatter\"}]}, {\"data\": [{\"x\": [1, 3, 6], \"y\": [4.2607645988464355, 9.248636245727539, 16.73044204711914], \"type\": \"scatter\"}]}, {\"data\": [{\"x\": [1, 3, 6], \"y\": [4.261678695678711, 9.249030113220215, 16.730056762695312], \"type\": \"scatter\"}]}, {\"data\": [{\"x\": [1, 3, 6], \"y\": [4.26259183883667, 9.249424934387207, 16.729673385620117], \"type\": \"scatter\"}]}, {\"data\": [{\"x\": [1, 3, 6], \"y\": [4.263504981994629, 9.2498197555542, 16.729291915893555], \"type\": \"scatter\"}]}, {\"data\": [{\"x\": [1, 3, 6], \"y\": [4.2644171714782715, 9.250213623046875, 16.72890853881836], \"type\": \"scatter\"}]}, {\"data\": [{\"x\": [1, 3, 6], \"y\": [4.265329360961914, 9.25060749053955, 16.728525161743164], \"type\": \"scatter\"}]}, {\"data\": [{\"x\": [1, 3, 6], \"y\": [4.266241073608398, 9.251001358032227, 16.7281436920166], \"type\": \"scatter\"}]}, {\"data\": [{\"x\": [1, 3, 6], \"y\": [4.267151832580566, 9.251395225524902, 16.727760314941406], \"type\": \"scatter\"}]}, {\"data\": [{\"x\": [1, 3, 6], \"y\": [4.268062591552734, 9.251788139343262, 16.72737693786621], \"type\": \"scatter\"}]}, {\"data\": [{\"x\": [1, 3, 6], \"y\": [4.268972396850586, 9.252181053161621, 16.72699546813965], \"type\": \"scatter\"}]}, {\"data\": [{\"x\": [1, 3, 6], \"y\": [4.2698822021484375, 9.252574920654297, 16.726613998413086], \"type\": \"scatter\"}]}, {\"data\": [{\"x\": [1, 3, 6], \"y\": [4.270791053771973, 9.252967834472656, 16.726232528686523], \"type\": \"scatter\"}]}, {\"data\": [{\"x\": [1, 3, 6], \"y\": [4.271699905395508, 9.2533597946167, 16.72585105895996], \"type\": \"scatter\"}]}]);}).then(function(){Plotly.animate('77bd7e5b-5a00-4d41-a58a-402a0af3826a');})\n",
       "        });</script><script type=\"text/javascript\">window.addEventListener(\"resize\", function(){window._Plotly.Plots.resize(document.getElementById(\"77bd7e5b-5a00-4d41-a58a-402a0af3826a\"));});</script>"
      ],
      "text/vnd.plotly.v1+html": [
       "<div id=\"77bd7e5b-5a00-4d41-a58a-402a0af3826a\" style=\"height: 525px; width: 100%;\" class=\"plotly-graph-div\"></div><script type=\"text/javascript\">require([\"plotly\"], function(Plotly) { window.PLOTLYENV=window.PLOTLYENV || {};window.PLOTLYENV.BASE_URL=\"https://plot.ly\";\n",
       "        Plotly.plot(\n",
       "            '77bd7e5b-5a00-4d41-a58a-402a0af3826a',\n",
       "            [{\"x\": [1, 3, 6], \"y\": [6, 10, 16], \"type\": \"scatter\", \"uid\": \"2cfb5b25-4679-438a-943d-7485c4436ae5\"}],\n",
       "            {\"title\": {\"text\": \"Gradient Descent\"}, \"updatemenus\": [{\"buttons\": [{\"args\": [null], \"label\": \"Play\", \"method\": \"animate\"}], \"type\": \"buttons\"}], \"xaxis\": {\"autorange\": false, \"range\": [0, 10]}, \"yaxis\": {\"autorange\": false, \"range\": [0, 20]}},\n",
       "            {\"showLink\": false, \"linkText\": \"Export to plot.ly\", \"plotlyServerURL\": \"https://plot.ly\"}\n",
       "        ).then(function () {return Plotly.addFrames('77bd7e5b-5a00-4d41-a58a-402a0af3826a',[{\"data\": [{\"x\": [1, 3, 6], \"y\": [-1.613602638244629, -3.638021945953369, -6.674651145935059], \"type\": \"scatter\"}]}, {\"data\": [{\"x\": [1, 3, 6], \"y\": [-1.4612679481506348, -3.23958683013916, -5.907064914703369], \"type\": \"scatter\"}]}, {\"data\": [{\"x\": [1, 3, 6], \"y\": [-1.3137810230255127, -2.8539366722106934, -5.164170265197754], \"type\": \"scatter\"}]}, {\"data\": [{\"x\": [1, 3, 6], \"y\": [-1.1709861755371094, -2.480660915374756, -4.4451727867126465], \"type\": \"scatter\"}]}, {\"data\": [{\"x\": [1, 3, 6], \"y\": [-1.0327322483062744, -2.119361639022827, -3.7493057250976562], \"type\": \"scatter\"}]}, {\"data\": [{\"x\": [1, 3, 6], \"y\": [-0.8988734483718872, -1.7696539163589478, -3.075824737548828], \"type\": \"scatter\"}]}, {\"data\": [{\"x\": [1, 3, 6], \"y\": [-0.7692687511444092, -1.4311654567718506, -2.424010753631592], \"type\": \"scatter\"}]}, {\"data\": [{\"x\": [1, 3, 6], \"y\": [-0.6437811851501465, -1.103535532951355, -1.793166995048523], \"type\": \"scatter\"}]}, {\"data\": [{\"x\": [1, 3, 6], \"y\": [-0.5222786068916321, -0.7864150404930115, -1.1826196908950806], \"type\": \"scatter\"}]}, {\"data\": [{\"x\": [1, 3, 6], \"y\": [-0.40463289618492126, -0.4794663190841675, -0.591716468334198], \"type\": \"scatter\"}]}, {\"data\": [{\"x\": [1, 3, 6], \"y\": [-0.290720134973526, -0.18236243724822998, -0.019825905561447144], \"type\": \"scatter\"}]}, {\"data\": [{\"x\": [1, 3, 6], \"y\": [-0.18042033910751343, 0.10521304607391357, 0.5336631536483765], \"type\": \"scatter\"}]}, {\"data\": [{\"x\": [1, 3, 6], \"y\": [-0.07361744344234467, 0.38356634974479675, 1.069342017173767], \"type\": \"scatter\"}]}, {\"data\": [{\"x\": [1, 3, 6], \"y\": [0.02980095148086548, 0.65299391746521, 1.5877833366394043], \"type\": \"scatter\"}]}, {\"data\": [{\"x\": [1, 3, 6], \"y\": [0.1299435794353485, 0.9137825965881348, 2.089540958404541], \"type\": \"scatter\"}]}, {\"data\": [{\"x\": [1, 3, 6], \"y\": [0.22691571712493896, 1.1662099361419678, 2.5751514434814453], \"type\": \"scatter\"}]}, {\"data\": [{\"x\": [1, 3, 6], \"y\": [0.32081925868988037, 1.410544991493225, 3.045133590698242], \"type\": \"scatter\"}]}, {\"data\": [{\"x\": [1, 3, 6], \"y\": [0.41175276041030884, 1.6470474004745483, 3.4999892711639404], \"type\": \"scatter\"}]}, {\"data\": [{\"x\": [1, 3, 6], \"y\": [0.49981170892715454, 1.8759692907333374, 3.9402055740356445], \"type\": \"scatter\"}]}, {\"data\": [{\"x\": [1, 3, 6], \"y\": [0.5850883722305298, 2.0975542068481445, 4.366252899169922], \"type\": \"scatter\"}]}, {\"data\": [{\"x\": [1, 3, 6], \"y\": [0.6676722764968872, 2.312037467956543, 4.778585433959961], \"type\": \"scatter\"}]}, {\"data\": [{\"x\": [1, 3, 6], \"y\": [0.7476499080657959, 2.5196480751037598, 5.177645683288574], \"type\": \"scatter\"}]}, {\"data\": [{\"x\": [1, 3, 6], \"y\": [0.8251049518585205, 2.720606565475464, 5.563858985900879], \"type\": \"scatter\"}]}, {\"data\": [{\"x\": [1, 3, 6], \"y\": [0.9001185297966003, 2.9151268005371094, 5.937639236450195], \"type\": \"scatter\"}]}, {\"data\": [{\"x\": [1, 3, 6], \"y\": [0.9727690815925598, 3.1034154891967773, 6.299385070800781], \"type\": \"scatter\"}]}, {\"data\": [{\"x\": [1, 3, 6], \"y\": [1.0431324243545532, 3.285673141479492, 6.649484157562256], \"type\": \"scatter\"}]}, {\"data\": [{\"x\": [1, 3, 6], \"y\": [1.111282229423523, 3.4620935916900635, 6.98831033706665], \"type\": \"scatter\"}]}, {\"data\": [{\"x\": [1, 3, 6], \"y\": [1.1772894859313965, 3.632864236831665, 7.316226005554199], \"type\": \"scatter\"}]}, {\"data\": [{\"x\": [1, 3, 6], \"y\": [1.2412232160568237, 3.7981669902801514, 7.633583068847656], \"type\": \"scatter\"}]}, {\"data\": [{\"x\": [1, 3, 6], \"y\": [1.303149700164795, 3.9581775665283203, 7.940719127655029], \"type\": \"scatter\"}]}, {\"data\": [{\"x\": [1, 3, 6], \"y\": [1.3631336688995361, 4.113065242767334, 8.23796272277832], \"type\": \"scatter\"}]}, {\"data\": [{\"x\": [1, 3, 6], \"y\": [1.4212374687194824, 4.262995719909668, 8.525632858276367], \"type\": \"scatter\"}]}, {\"data\": [{\"x\": [1, 3, 6], \"y\": [1.4775214195251465, 4.408127307891846, 8.804036140441895], \"type\": \"scatter\"}]}, {\"data\": [{\"x\": [1, 3, 6], \"y\": [1.5320442914962769, 4.548615455627441, 9.073472023010254], \"type\": \"scatter\"}]}, {\"data\": [{\"x\": [1, 3, 6], \"y\": [1.5848623514175415, 4.684608459472656, 9.334227561950684], \"type\": \"scatter\"}]}, {\"data\": [{\"x\": [1, 3, 6], \"y\": [1.6360304355621338, 4.816251277923584, 9.58658218383789], \"type\": \"scatter\"}]}, {\"data\": [{\"x\": [1, 3, 6], \"y\": [1.685601830482483, 4.943683624267578, 9.830805778503418], \"type\": \"scatter\"}]}, {\"data\": [{\"x\": [1, 3, 6], \"y\": [1.733627438545227, 5.06704044342041, 10.067160606384277], \"type\": \"scatter\"}]}, {\"data\": [{\"x\": [1, 3, 6], \"y\": [1.7801570892333984, 5.186453819274902, 10.2958984375], \"type\": \"scatter\"}]}, {\"data\": [{\"x\": [1, 3, 6], \"y\": [1.825238823890686, 5.302048683166504, 10.517263412475586], \"type\": \"scatter\"}]}, {\"data\": [{\"x\": [1, 3, 6], \"y\": [1.8689192533493042, 5.413949012756348, 10.731493949890137], \"type\": \"scatter\"}]}, {\"data\": [{\"x\": [1, 3, 6], \"y\": [1.911243200302124, 5.522273540496826, 10.93881893157959], \"type\": \"scatter\"}]}, {\"data\": [{\"x\": [1, 3, 6], \"y\": [1.9522544145584106, 5.627136707305908, 11.139459609985352], \"type\": \"scatter\"}]}, {\"data\": [{\"x\": [1, 3, 6], \"y\": [1.991994857788086, 5.728650093078613, 11.333633422851562], \"type\": \"scatter\"}]}, {\"data\": [{\"x\": [1, 3, 6], \"y\": [2.030505657196045, 5.826921463012695, 11.521544456481934], \"type\": \"scatter\"}]}, {\"data\": [{\"x\": [1, 3, 6], \"y\": [2.0678257942199707, 5.922054290771484, 11.703396797180176], \"type\": \"scatter\"}]}, {\"data\": [{\"x\": [1, 3, 6], \"y\": [2.103994131088257, 6.0141496658325195, 11.879383087158203], \"type\": \"scatter\"}]}, {\"data\": [{\"x\": [1, 3, 6], \"y\": [2.139047145843506, 6.103306293487549, 12.049694061279297], \"type\": \"scatter\"}]}, {\"data\": [{\"x\": [1, 3, 6], \"y\": [2.173021078109741, 6.189617156982422, 12.214510917663574], \"type\": \"scatter\"}]}, {\"data\": [{\"x\": [1, 3, 6], \"y\": [2.2059504985809326, 6.273174285888672, 12.37401008605957], \"type\": \"scatter\"}]}, {\"data\": [{\"x\": [1, 3, 6], \"y\": [2.2378687858581543, 6.354066848754883, 12.528364181518555], \"type\": \"scatter\"}]}, {\"data\": [{\"x\": [1, 3, 6], \"y\": [2.268808364868164, 6.432379245758057, 12.677736282348633], \"type\": \"scatter\"}]}, {\"data\": [{\"x\": [1, 3, 6], \"y\": [2.2988007068634033, 6.508195400238037, 12.822286605834961], \"type\": \"scatter\"}]}, {\"data\": [{\"x\": [1, 3, 6], \"y\": [2.327876567840576, 6.581594944000244, 12.962172508239746], \"type\": \"scatter\"}]}, {\"data\": [{\"x\": [1, 3, 6], \"y\": [2.356065034866333, 6.652655601501465, 13.097541809082031], \"type\": \"scatter\"}]}, {\"data\": [{\"x\": [1, 3, 6], \"y\": [2.383394718170166, 6.7214531898498535, 13.228540420532227], \"type\": \"scatter\"}]}, {\"data\": [{\"x\": [1, 3, 6], \"y\": [2.409893274307251, 6.788060188293457, 13.355310440063477], \"type\": \"scatter\"}]}, {\"data\": [{\"x\": [1, 3, 6], \"y\": [2.435587167739868, 6.852545738220215, 13.477984428405762], \"type\": \"scatter\"}]}, {\"data\": [{\"x\": [1, 3, 6], \"y\": [2.4605021476745605, 6.914979457855225, 13.596695899963379], \"type\": \"scatter\"}]}, {\"data\": [{\"x\": [1, 3, 6], \"y\": [2.484663724899292, 6.975427150726318, 13.711572647094727], \"type\": \"scatter\"}]}, {\"data\": [{\"x\": [1, 3, 6], \"y\": [2.5080957412719727, 7.033951759338379, 13.822735786437988], \"type\": \"scatter\"}]}, {\"data\": [{\"x\": [1, 3, 6], \"y\": [2.5308218002319336, 7.090616226196289, 13.930307388305664], \"type\": \"scatter\"}]}, {\"data\": [{\"x\": [1, 3, 6], \"y\": [2.5528643131256104, 7.145479202270508, 14.034401893615723], \"type\": \"scatter\"}]}, {\"data\": [{\"x\": [1, 3, 6], \"y\": [2.5742454528808594, 7.198599815368652, 14.135130882263184], \"type\": \"scatter\"}]}, {\"data\": [{\"x\": [1, 3, 6], \"y\": [2.5949859619140625, 7.250032424926758, 14.2326021194458], \"type\": \"scatter\"}]}, {\"data\": [{\"x\": [1, 3, 6], \"y\": [2.615107297897339, 7.299833297729492, 14.326921463012695], \"type\": \"scatter\"}]}, {\"data\": [{\"x\": [1, 3, 6], \"y\": [2.6346287727355957, 7.348052501678467, 14.41818904876709], \"type\": \"scatter\"}]}, {\"data\": [{\"x\": [1, 3, 6], \"y\": [2.653569459915161, 7.3947434425354, 14.50650405883789], \"type\": \"scatter\"}]}, {\"data\": [{\"x\": [1, 3, 6], \"y\": [2.6719484329223633, 7.439952850341797, 14.591958999633789], \"type\": \"scatter\"}]}, {\"data\": [{\"x\": [1, 3, 6], \"y\": [2.6897833347320557, 7.483729362487793, 14.674649238586426], \"type\": \"scatter\"}]}, {\"data\": [{\"x\": [1, 3, 6], \"y\": [2.707092046737671, 7.526120185852051, 14.754661560058594], \"type\": \"scatter\"}]}, {\"data\": [{\"x\": [1, 3, 6], \"y\": [2.723891019821167, 7.567167282104492, 14.83208179473877], \"type\": \"scatter\"}]}, {\"data\": [{\"x\": [1, 3, 6], \"y\": [2.74019718170166, 7.606916427612305, 14.906994819641113], \"type\": \"scatter\"}]}, {\"data\": [{\"x\": [1, 3, 6], \"y\": [2.756025552749634, 7.645407676696777, 14.979480743408203], \"type\": \"scatter\"}]}, {\"data\": [{\"x\": [1, 3, 6], \"y\": [2.771392345428467, 7.682682037353516, 15.049616813659668], \"type\": \"scatter\"}]}, {\"data\": [{\"x\": [1, 3, 6], \"y\": [2.7863118648529053, 7.71877908706665, 15.11747932434082], \"type\": \"scatter\"}]}, {\"data\": [{\"x\": [1, 3, 6], \"y\": [2.8007984161376953, 7.753735542297363, 15.183141708374023], \"type\": \"scatter\"}]}, {\"data\": [{\"x\": [1, 3, 6], \"y\": [2.814866065979004, 7.787588119506836, 15.246671676635742], \"type\": \"scatter\"}]}, {\"data\": [{\"x\": [1, 3, 6], \"y\": [2.8285281658172607, 7.82037353515625, 15.308141708374023], \"type\": \"scatter\"}]}, {\"data\": [{\"x\": [1, 3, 6], \"y\": [2.8417978286743164, 7.852125644683838, 15.367616653442383], \"type\": \"scatter\"}]}, {\"data\": [{\"x\": [1, 3, 6], \"y\": [2.8546876907348633, 7.882876873016357, 15.425161361694336], \"type\": \"scatter\"}]}, {\"data\": [{\"x\": [1, 3, 6], \"y\": [2.8672096729278564, 7.912659645080566, 15.4808349609375], \"type\": \"scatter\"}]}, {\"data\": [{\"x\": [1, 3, 6], \"y\": [2.879375696182251, 7.9415059089660645, 15.534700393676758], \"type\": \"scatter\"}]}, {\"data\": [{\"x\": [1, 3, 6], \"y\": [2.8911972045898438, 7.969444274902344, 15.586814880371094], \"type\": \"scatter\"}]}, {\"data\": [{\"x\": [1, 3, 6], \"y\": [2.9026851654052734, 7.996504783630371, 15.63723373413086], \"type\": \"scatter\"}]}, {\"data\": [{\"x\": [1, 3, 6], \"y\": [2.9138503074645996, 8.02271556854248, 15.686013221740723], \"type\": \"scatter\"}]}, {\"data\": [{\"x\": [1, 3, 6], \"y\": [2.924703359603882, 8.048104286193848, 15.733205795288086], \"type\": \"scatter\"}]}, {\"data\": [{\"x\": [1, 3, 6], \"y\": [2.935253858566284, 8.072697639465332, 15.778862953186035], \"type\": \"scatter\"}]}, {\"data\": [{\"x\": [1, 3, 6], \"y\": [2.94551157951355, 8.096519470214844, 15.823031425476074], \"type\": \"scatter\"}]}, {\"data\": [{\"x\": [1, 3, 6], \"y\": [2.9554860591888428, 8.119597434997559, 15.865763664245605], \"type\": \"scatter\"}]}, {\"data\": [{\"x\": [1, 3, 6], \"y\": [2.96518611907959, 8.141951560974121, 15.907099723815918], \"type\": \"scatter\"}]}, {\"data\": [{\"x\": [1, 3, 6], \"y\": [2.974621057510376, 8.163607597351074, 15.947088241577148], \"type\": \"scatter\"}]}, {\"data\": [{\"x\": [1, 3, 6], \"y\": [2.9837987422943115, 8.184588432312012, 15.985773086547852], \"type\": \"scatter\"}]}, {\"data\": [{\"x\": [1, 3, 6], \"y\": [2.992727756500244, 8.204915046691895, 16.023195266723633], \"type\": \"scatter\"}]}, {\"data\": [{\"x\": [1, 3, 6], \"y\": [3.0014162063598633, 8.224607467651367, 16.05939483642578], \"type\": \"scatter\"}]}, {\"data\": [{\"x\": [1, 3, 6], \"y\": [3.009871482849121, 8.24368667602539, 16.094409942626953], \"type\": \"scatter\"}]}, {\"data\": [{\"x\": [1, 3, 6], \"y\": [3.018101215362549, 8.262173652648926, 16.12828254699707], \"type\": \"scatter\"}]}, {\"data\": [{\"x\": [1, 3, 6], \"y\": [3.0261125564575195, 8.280086517333984, 16.161046981811523], \"type\": \"scatter\"}]}, {\"data\": [{\"x\": [1, 3, 6], \"y\": [3.0339126586914062, 8.297442436218262, 16.192737579345703], \"type\": \"scatter\"}]}, {\"data\": [{\"x\": [1, 3, 6], \"y\": [3.0415079593658447, 8.314260482788086, 16.223390579223633], \"type\": \"scatter\"}]}, {\"data\": [{\"x\": [1, 3, 6], \"y\": [3.048905611038208, 8.330558776855469, 16.25303840637207], \"type\": \"scatter\"}]}, {\"data\": [{\"x\": [1, 3, 6], \"y\": [3.0561113357543945, 8.346353530883789, 16.281715393066406], \"type\": \"scatter\"}]}, {\"data\": [{\"x\": [1, 3, 6], \"y\": [3.06313157081604, 8.361659049987793, 16.309450149536133], \"type\": \"scatter\"}]}, {\"data\": [{\"x\": [1, 3, 6], \"y\": [3.069972276687622, 8.376493453979492, 16.336275100708008], \"type\": \"scatter\"}]}, {\"data\": [{\"x\": [1, 3, 6], \"y\": [3.07663893699646, 8.390871047973633, 16.362218856811523], \"type\": \"scatter\"}]}, {\"data\": [{\"x\": [1, 3, 6], \"y\": [3.0831375122070312, 8.404806137084961, 16.387310028076172], \"type\": \"scatter\"}]}, {\"data\": [{\"x\": [1, 3, 6], \"y\": [3.089473247528076, 8.418313026428223, 16.41157341003418], \"type\": \"scatter\"}]}, {\"data\": [{\"x\": [1, 3, 6], \"y\": [3.095651149749756, 8.43140697479248, 16.435039520263672], \"type\": \"scatter\"}]}, {\"data\": [{\"x\": [1, 3, 6], \"y\": [3.1016764640808105, 8.444098472595215, 16.457731246948242], \"type\": \"scatter\"}]}, {\"data\": [{\"x\": [1, 3, 6], \"y\": [3.1075539588928223, 8.456401824951172, 16.47967529296875], \"type\": \"scatter\"}]}, {\"data\": [{\"x\": [1, 3, 6], \"y\": [3.113288402557373, 8.468330383300781, 16.50089454650879], \"type\": \"scatter\"}]}, {\"data\": [{\"x\": [1, 3, 6], \"y\": [3.118884325027466, 8.479894638061523, 16.52140998840332], \"type\": \"scatter\"}]}, {\"data\": [{\"x\": [1, 3, 6], \"y\": [3.1243460178375244, 8.491107940673828, 16.541250228881836], \"type\": \"scatter\"}]}, {\"data\": [{\"x\": [1, 3, 6], \"y\": [3.129678249359131, 8.50197982788086, 16.5604305267334], \"type\": \"scatter\"}]}, {\"data\": [{\"x\": [1, 3, 6], \"y\": [3.134884834289551, 8.512521743774414, 16.578977584838867], \"type\": \"scatter\"}]}, {\"data\": [{\"x\": [1, 3, 6], \"y\": [3.139969825744629, 8.522745132446289, 16.596908569335938], \"type\": \"scatter\"}]}, {\"data\": [{\"x\": [1, 3, 6], \"y\": [3.1449368000030518, 8.532659530639648, 16.61424446105957], \"type\": \"scatter\"}]}, {\"data\": [{\"x\": [1, 3, 6], \"y\": [3.149790048599243, 8.542274475097656, 16.63100242614746], \"type\": \"scatter\"}]}, {\"data\": [{\"x\": [1, 3, 6], \"y\": [3.1545331478118896, 8.55160140991211, 16.64720344543457], \"type\": \"scatter\"}]}, {\"data\": [{\"x\": [1, 3, 6], \"y\": [3.1591689586639404, 8.560647010803223, 16.66286277770996], \"type\": \"scatter\"}]}, {\"data\": [{\"x\": [1, 3, 6], \"y\": [3.1637017726898193, 8.569422721862793, 16.678003311157227], \"type\": \"scatter\"}]}, {\"data\": [{\"x\": [1, 3, 6], \"y\": [3.1681342124938965, 8.577934265136719, 16.69263458251953], \"type\": \"scatter\"}]}, {\"data\": [{\"x\": [1, 3, 6], \"y\": [3.1724700927734375, 8.586193084716797, 16.706777572631836], \"type\": \"scatter\"}]}, {\"data\": [{\"x\": [1, 3, 6], \"y\": [3.1767117977142334, 8.594205856323242, 16.72044563293457], \"type\": \"scatter\"}]}, {\"data\": [{\"x\": [1, 3, 6], \"y\": [3.1808629035949707, 8.601980209350586, 16.733657836914062], \"type\": \"scatter\"}]}, {\"data\": [{\"x\": [1, 3, 6], \"y\": [3.1849260330200195, 8.609526634216309, 16.74642562866211], \"type\": \"scatter\"}]}, {\"data\": [{\"x\": [1, 3, 6], \"y\": [3.188904285430908, 8.61684799194336, 16.75876235961914], \"type\": \"scatter\"}]}, {\"data\": [{\"x\": [1, 3, 6], \"y\": [3.1927998065948486, 8.623953819274902, 16.77068519592285], \"type\": \"scatter\"}]}, {\"data\": [{\"x\": [1, 3, 6], \"y\": [3.196615695953369, 8.630851745605469, 16.78220558166504], \"type\": \"scatter\"}]}, {\"data\": [{\"x\": [1, 3, 6], \"y\": [3.2003543376922607, 8.637547492980957, 16.793336868286133], \"type\": \"scatter\"}]}, {\"data\": [{\"x\": [1, 3, 6], \"y\": [3.2040181159973145, 8.644046783447266, 16.804088592529297], \"type\": \"scatter\"}]}, {\"data\": [{\"x\": [1, 3, 6], \"y\": [3.2076094150543213, 8.650357246398926, 16.81447982788086], \"type\": \"scatter\"}]}, {\"data\": [{\"x\": [1, 3, 6], \"y\": [3.2111308574676514, 8.65648365020752, 16.824514389038086], \"type\": \"scatter\"}]}, {\"data\": [{\"x\": [1, 3, 6], \"y\": [3.2145841121673584, 8.662434577941895, 16.834209442138672], \"type\": \"scatter\"}]}, {\"data\": [{\"x\": [1, 3, 6], \"y\": [3.2179718017578125, 8.668211936950684, 16.843570709228516], \"type\": \"scatter\"}]}, {\"data\": [{\"x\": [1, 3, 6], \"y\": [3.2212960720062256, 8.673824310302734, 16.852615356445312], \"type\": \"scatter\"}]}, {\"data\": [{\"x\": [1, 3, 6], \"y\": [3.2245585918426514, 8.679275512695312, 16.861351013183594], \"type\": \"scatter\"}]}, {\"data\": [{\"x\": [1, 3, 6], \"y\": [3.2277615070343018, 8.6845703125, 16.86978530883789], \"type\": \"scatter\"}]}, {\"data\": [{\"x\": [1, 3, 6], \"y\": [3.2309067249298096, 8.689716339111328, 16.8779296875], \"type\": \"scatter\"}]}, {\"data\": [{\"x\": [1, 3, 6], \"y\": [3.2339959144592285, 8.694714546203613, 16.885791778564453], \"type\": \"scatter\"}]}, {\"data\": [{\"x\": [1, 3, 6], \"y\": [3.2370309829711914, 8.699573516845703, 16.893386840820312], \"type\": \"scatter\"}]}, {\"data\": [{\"x\": [1, 3, 6], \"y\": [3.240013599395752, 8.704294204711914, 16.900714874267578], \"type\": \"scatter\"}]}, {\"data\": [{\"x\": [1, 3, 6], \"y\": [3.242945432662964, 8.708882331848145, 16.90778923034668], \"type\": \"scatter\"}]}, {\"data\": [{\"x\": [1, 3, 6], \"y\": [3.245828151702881, 8.71334457397461, 16.91461753845215], \"type\": \"scatter\"}]}, {\"data\": [{\"x\": [1, 3, 6], \"y\": [3.2486634254455566, 8.717681884765625, 16.92120933532715], \"type\": \"scatter\"}]}, {\"data\": [{\"x\": [1, 3, 6], \"y\": [3.2514524459838867, 8.721899032592773, 16.927568435668945], \"type\": \"scatter\"}]}, {\"data\": [{\"x\": [1, 3, 6], \"y\": [3.2541966438293457, 8.72599983215332, 16.933704376220703], \"type\": \"scatter\"}]}, {\"data\": [{\"x\": [1, 3, 6], \"y\": [3.2568979263305664, 8.729987144470215, 16.93962287902832], \"type\": \"scatter\"}]}, {\"data\": [{\"x\": [1, 3, 6], \"y\": [3.2595572471618652, 8.733867645263672, 16.94533348083496], \"type\": \"scatter\"}]}, {\"data\": [{\"x\": [1, 3, 6], \"y\": [3.262176036834717, 8.737642288208008, 16.950841903686523], \"type\": \"scatter\"}]}, {\"data\": [{\"x\": [1, 3, 6], \"y\": [3.2647552490234375, 8.741315841674805, 16.95615577697754], \"type\": \"scatter\"}]}, {\"data\": [{\"x\": [1, 3, 6], \"y\": [3.267296552658081, 8.744888305664062, 16.96127700805664], \"type\": \"scatter\"}]}, {\"data\": [{\"x\": [1, 3, 6], \"y\": [3.269801139831543, 8.748367309570312, 16.966215133666992], \"type\": \"scatter\"}]}, {\"data\": [{\"x\": [1, 3, 6], \"y\": [3.2722699642181396, 8.751752853393555, 16.970975875854492], \"type\": \"scatter\"}]}, {\"data\": [{\"x\": [1, 3, 6], \"y\": [3.2747044563293457, 8.755048751831055, 16.975566864013672], \"type\": \"scatter\"}]}, {\"data\": [{\"x\": [1, 3, 6], \"y\": [3.2771053314208984, 8.758259773254395, 16.979990005493164], \"type\": \"scatter\"}]}, {\"data\": [{\"x\": [1, 3, 6], \"y\": [3.2794740200042725, 8.761385917663574, 16.984254837036133], \"type\": \"scatter\"}]}, {\"data\": [{\"x\": [1, 3, 6], \"y\": [3.281811237335205, 8.764430046081543, 16.988357543945312], \"type\": \"scatter\"}]}, {\"data\": [{\"x\": [1, 3, 6], \"y\": [3.2841176986694336, 8.767396926879883, 16.9923152923584], \"type\": \"scatter\"}]}, {\"data\": [{\"x\": [1, 3, 6], \"y\": [3.2863950729370117, 8.770286560058594, 16.996124267578125], \"type\": \"scatter\"}]}, {\"data\": [{\"x\": [1, 3, 6], \"y\": [3.2886438369750977, 8.773104667663574, 16.999794006347656], \"type\": \"scatter\"}]}, {\"data\": [{\"x\": [1, 3, 6], \"y\": [3.290865182876587, 8.775849342346191, 17.003324508666992], \"type\": \"scatter\"}]}, {\"data\": [{\"x\": [1, 3, 6], \"y\": [3.2930595874786377, 8.778526306152344, 17.006725311279297], \"type\": \"scatter\"}]}, {\"data\": [{\"x\": [1, 3, 6], \"y\": [3.2952280044555664, 8.781135559082031, 17.009998321533203], \"type\": \"scatter\"}]}, {\"data\": [{\"x\": [1, 3, 6], \"y\": [3.2973713874816895, 8.783681869506836, 17.013147354125977], \"type\": \"scatter\"}]}, {\"data\": [{\"x\": [1, 3, 6], \"y\": [3.2994906902313232, 8.786164283752441, 17.016176223754883], \"type\": \"scatter\"}]}, {\"data\": [{\"x\": [1, 3, 6], \"y\": [3.301586151123047, 8.788586616516113, 17.019088745117188], \"type\": \"scatter\"}]}, {\"data\": [{\"x\": [1, 3, 6], \"y\": [3.3036584854125977, 8.790949821472168, 17.021886825561523], \"type\": \"scatter\"}]}, {\"data\": [{\"x\": [1, 3, 6], \"y\": [3.305708885192871, 8.793256759643555, 17.024578094482422], \"type\": \"scatter\"}]}, {\"data\": [{\"x\": [1, 3, 6], \"y\": [3.3077378273010254, 8.79550838470459, 17.027162551879883], \"type\": \"scatter\"}]}, {\"data\": [{\"x\": [1, 3, 6], \"y\": [3.309746265411377, 8.797706604003906, 17.029645919799805], \"type\": \"scatter\"}]}, {\"data\": [{\"x\": [1, 3, 6], \"y\": [3.311734199523926, 8.799853324890137, 17.032032012939453], \"type\": \"scatter\"}]}, {\"data\": [{\"x\": [1, 3, 6], \"y\": [3.3137028217315674, 8.80195140838623, 17.03432273864746], \"type\": \"scatter\"}]}, {\"data\": [{\"x\": [1, 3, 6], \"y\": [3.315652370452881, 8.803999900817871, 17.036521911621094], \"type\": \"scatter\"}]}, {\"data\": [{\"x\": [1, 3, 6], \"y\": [3.3175837993621826, 8.806001663208008, 17.03862762451172], \"type\": \"scatter\"}]}, {\"data\": [{\"x\": [1, 3, 6], \"y\": [3.3194973468780518, 8.80795955657959, 17.040651321411133], \"type\": \"scatter\"}]}, {\"data\": [{\"x\": [1, 3, 6], \"y\": [3.3213939666748047, 8.809871673583984, 17.04258918762207], \"type\": \"scatter\"}]}, {\"data\": [{\"x\": [1, 3, 6], \"y\": [3.3232736587524414, 8.81174373626709, 17.044448852539062], \"type\": \"scatter\"}]}, {\"data\": [{\"x\": [1, 3, 6], \"y\": [3.3251373767852783, 8.813573837280273, 17.046228408813477], \"type\": \"scatter\"}]}, {\"data\": [{\"x\": [1, 3, 6], \"y\": [3.3269851207733154, 8.815364837646484, 17.04793357849121], \"type\": \"scatter\"}]}, {\"data\": [{\"x\": [1, 3, 6], \"y\": [3.328817844390869, 8.817115783691406, 17.049562454223633], \"type\": \"scatter\"}]}, {\"data\": [{\"x\": [1, 3, 6], \"y\": [3.3306357860565186, 8.818830490112305, 17.051122665405273], \"type\": \"scatter\"}]}, {\"data\": [{\"x\": [1, 3, 6], \"y\": [3.332439422607422, 8.82050895690918, 17.052614212036133], \"type\": \"scatter\"}]}, {\"data\": [{\"x\": [1, 3, 6], \"y\": [3.3342292308807373, 8.822153091430664, 17.05403709411621], \"type\": \"scatter\"}]}, {\"data\": [{\"x\": [1, 3, 6], \"y\": [3.336005687713623, 8.823762893676758, 17.055397033691406], \"type\": \"scatter\"}]}, {\"data\": [{\"x\": [1, 3, 6], \"y\": [3.337769031524658, 8.825339317321777, 17.05669593811035], \"type\": \"scatter\"}]}, {\"data\": [{\"x\": [1, 3, 6], \"y\": [3.33951997756958, 8.826884269714355, 17.05792999267578], \"type\": \"scatter\"}]}, {\"data\": [{\"x\": [1, 3, 6], \"y\": [3.3412585258483887, 8.828399658203125, 17.059112548828125], \"type\": \"scatter\"}]}, {\"data\": [{\"x\": [1, 3, 6], \"y\": [3.3429853916168213, 8.82988452911377, 17.06023406982422], \"type\": \"scatter\"}]}, {\"data\": [{\"x\": [1, 3, 6], \"y\": [3.344700336456299, 8.831341743469238, 17.061302185058594], \"type\": \"scatter\"}]}, {\"data\": [{\"x\": [1, 3, 6], \"y\": [3.346404552459717, 8.832769393920898, 17.06231689453125], \"type\": \"scatter\"}]}, {\"data\": [{\"x\": [1, 3, 6], \"y\": [3.348097801208496, 8.834171295166016, 17.063282012939453], \"type\": \"scatter\"}]}, {\"data\": [{\"x\": [1, 3, 6], \"y\": [3.349780559539795, 8.83554744720459, 17.064197540283203], \"type\": \"scatter\"}]}, {\"data\": [{\"x\": [1, 3, 6], \"y\": [3.3514530658721924, 8.836896896362305, 17.0650634765625], \"type\": \"scatter\"}]}, {\"data\": [{\"x\": [1, 3, 6], \"y\": [3.3531157970428467, 8.838223457336426, 17.065885543823242], \"type\": \"scatter\"}]}, {\"data\": [{\"x\": [1, 3, 6], \"y\": [3.354768753051758, 8.839526176452637, 17.066661834716797], \"type\": \"scatter\"}]}, {\"data\": [{\"x\": [1, 3, 6], \"y\": [3.356412649154663, 8.840805053710938, 17.067394256591797], \"type\": \"scatter\"}]}, {\"data\": [{\"x\": [1, 3, 6], \"y\": [3.3580474853515625, 8.842062950134277, 17.068084716796875], \"type\": \"scatter\"}]}, {\"data\": [{\"x\": [1, 3, 6], \"y\": [3.359673500061035, 8.843297958374023, 17.068735122680664], \"type\": \"scatter\"}]}, {\"data\": [{\"x\": [1, 3, 6], \"y\": [3.36129093170166, 8.844512939453125, 17.069345474243164], \"type\": \"scatter\"}]}, {\"data\": [{\"x\": [1, 3, 6], \"y\": [3.3629002571105957, 8.845707893371582, 17.06991958618164], \"type\": \"scatter\"}]}, {\"data\": [{\"x\": [1, 3, 6], \"y\": [3.364501476287842, 8.846882820129395, 17.070453643798828], \"type\": \"scatter\"}]}, {\"data\": [{\"x\": [1, 3, 6], \"y\": [3.3660950660705566, 8.848038673400879, 17.070953369140625], \"type\": \"scatter\"}]}, {\"data\": [{\"x\": [1, 3, 6], \"y\": [3.3676810264587402, 8.849177360534668, 17.071420669555664], \"type\": \"scatter\"}]}, {\"data\": [{\"x\": [1, 3, 6], \"y\": [3.369259834289551, 8.850297927856445, 17.071855545043945], \"type\": \"scatter\"}]}, {\"data\": [{\"x\": [1, 3, 6], \"y\": [3.3708314895629883, 8.851401329040527, 17.072256088256836], \"type\": \"scatter\"}]}, {\"data\": [{\"x\": [1, 3, 6], \"y\": [3.3723959922790527, 8.852487564086914, 17.0726261138916], \"type\": \"scatter\"}]}, {\"data\": [{\"x\": [1, 3, 6], \"y\": [3.3739538192749023, 8.853557586669922, 17.07296371459961], \"type\": \"scatter\"}]}, {\"data\": [{\"x\": [1, 3, 6], \"y\": [3.3755054473876953, 8.8546142578125, 17.07327651977539], \"type\": \"scatter\"}]}, {\"data\": [{\"x\": [1, 3, 6], \"y\": [3.3770503997802734, 8.855652809143066, 17.07355499267578], \"type\": \"scatter\"}]}, {\"data\": [{\"x\": [1, 3, 6], \"y\": [3.378589630126953, 8.85667896270752, 17.07381248474121], \"type\": \"scatter\"}]}, {\"data\": [{\"x\": [1, 3, 6], \"y\": [3.380122423171997, 8.85768985748291, 17.074039459228516], \"type\": \"scatter\"}]}, {\"data\": [{\"x\": [1, 3, 6], \"y\": [3.3816494941711426, 8.858686447143555, 17.074241638183594], \"type\": \"scatter\"}]}, {\"data\": [{\"x\": [1, 3, 6], \"y\": [3.3831710815429688, 8.859670639038086, 17.074420928955078], \"type\": \"scatter\"}]}, {\"data\": [{\"x\": [1, 3, 6], \"y\": [3.3846871852874756, 8.860641479492188, 17.074573516845703], \"type\": \"scatter\"}]}, {\"data\": [{\"x\": [1, 3, 6], \"y\": [3.386197805404663, 8.861599922180176, 17.074703216552734], \"type\": \"scatter\"}]}, {\"data\": [{\"x\": [1, 3, 6], \"y\": [3.3877034187316895, 8.862546920776367, 17.074811935424805], \"type\": \"scatter\"}]}, {\"data\": [{\"x\": [1, 3, 6], \"y\": [3.3892037868499756, 8.863482475280762, 17.074899673461914], \"type\": \"scatter\"}]}, {\"data\": [{\"x\": [1, 3, 6], \"y\": [3.3906993865966797, 8.864405632019043, 17.07496452331543], \"type\": \"scatter\"}]}, {\"data\": [{\"x\": [1, 3, 6], \"y\": [3.3921899795532227, 8.865317344665527, 17.075008392333984], \"type\": \"scatter\"}]}, {\"data\": [{\"x\": [1, 3, 6], \"y\": [3.393676280975342, 8.866219520568848, 17.07503318786621], \"type\": \"scatter\"}]}, {\"data\": [{\"x\": [1, 3, 6], \"y\": [3.395158052444458, 8.867111206054688, 17.075040817260742], \"type\": \"scatter\"}]}, {\"data\": [{\"x\": [1, 3, 6], \"y\": [3.3966355323791504, 8.867993354797363, 17.075031280517578], \"type\": \"scatter\"}]}, {\"data\": [{\"x\": [1, 3, 6], \"y\": [3.39810848236084, 8.868865013122559, 17.07499885559082], \"type\": \"scatter\"}]}, {\"data\": [{\"x\": [1, 3, 6], \"y\": [3.3995773792266846, 8.869728088378906, 17.074954986572266], \"type\": \"scatter\"}]}, {\"data\": [{\"x\": [1, 3, 6], \"y\": [3.4010422229766846, 8.870580673217773, 17.07489013671875], \"type\": \"scatter\"}]}, {\"data\": [{\"x\": [1, 3, 6], \"y\": [3.402503252029419, 8.87142562866211, 17.074810028076172], \"type\": \"scatter\"}]}, {\"data\": [{\"x\": [1, 3, 6], \"y\": [3.4039602279663086, 8.872262954711914, 17.074716567993164], \"type\": \"scatter\"}]}, {\"data\": [{\"x\": [1, 3, 6], \"y\": [3.4054136276245117, 8.873090744018555, 17.07460594177246], \"type\": \"scatter\"}]}, {\"data\": [{\"x\": [1, 3, 6], \"y\": [3.406863212585449, 8.873909950256348, 17.074480056762695], \"type\": \"scatter\"}]}, {\"data\": [{\"x\": [1, 3, 6], \"y\": [3.4083092212677, 8.874722480773926, 17.0743408203125], \"type\": \"scatter\"}]}, {\"data\": [{\"x\": [1, 3, 6], \"y\": [3.4097518920898438, 8.875526428222656, 17.074188232421875], \"type\": \"scatter\"}]}, {\"data\": [{\"x\": [1, 3, 6], \"y\": [3.411191463470459, 8.876323699951172, 17.07402229309082], \"type\": \"scatter\"}]}, {\"data\": [{\"x\": [1, 3, 6], \"y\": [3.412627696990967, 8.877114295959473, 17.07384490966797], \"type\": \"scatter\"}]}, {\"data\": [{\"x\": [1, 3, 6], \"y\": [3.414060592651367, 8.877898216247559, 17.07365608215332], \"type\": \"scatter\"}]}, {\"data\": [{\"x\": [1, 3, 6], \"y\": [3.4154903888702393, 8.87867546081543, 17.07345199584961], \"type\": \"scatter\"}]}, {\"data\": [{\"x\": [1, 3, 6], \"y\": [3.416917324066162, 8.879446029663086, 17.073240280151367], \"type\": \"scatter\"}]}, {\"data\": [{\"x\": [1, 3, 6], \"y\": [3.4183411598205566, 8.880210876464844, 17.073015213012695], \"type\": \"scatter\"}]}, {\"data\": [{\"x\": [1, 3, 6], \"y\": [3.419761896133423, 8.88096809387207, 17.072778701782227], \"type\": \"scatter\"}]}, {\"data\": [{\"x\": [1, 3, 6], \"y\": [3.421180248260498, 8.881720542907715, 17.072532653808594], \"type\": \"scatter\"}]}, {\"data\": [{\"x\": [1, 3, 6], \"y\": [3.422595500946045, 8.882467269897461, 17.072275161743164], \"type\": \"scatter\"}]}, {\"data\": [{\"x\": [1, 3, 6], \"y\": [3.424008369445801, 8.883208274841309, 17.072010040283203], \"type\": \"scatter\"}]}, {\"data\": [{\"x\": [1, 3, 6], \"y\": [3.4254183769226074, 8.88394546508789, 17.071735382080078], \"type\": \"scatter\"}]}, {\"data\": [{\"x\": [1, 3, 6], \"y\": [3.426825761795044, 8.884675025939941, 17.071449279785156], \"type\": \"scatter\"}]}, {\"data\": [{\"x\": [1, 3, 6], \"y\": [3.4282307624816895, 8.885400772094727, 17.071155548095703], \"type\": \"scatter\"}]}, {\"data\": [{\"x\": [1, 3, 6], \"y\": [3.429633140563965, 8.88612174987793, 17.07085418701172], \"type\": \"scatter\"}]}, {\"data\": [{\"x\": [1, 3, 6], \"y\": [3.4310333728790283, 8.88683795928955, 17.07054328918457], \"type\": \"scatter\"}]}, {\"data\": [{\"x\": [1, 3, 6], \"y\": [3.432431221008301, 8.887548446655273, 17.07022476196289], \"type\": \"scatter\"}]}, {\"data\": [{\"x\": [1, 3, 6], \"y\": [3.4338266849517822, 8.88825511932373, 17.069896697998047], \"type\": \"scatter\"}]}, {\"data\": [{\"x\": [1, 3, 6], \"y\": [3.435220241546631, 8.888957977294922, 17.069564819335938], \"type\": \"scatter\"}]}, {\"data\": [{\"x\": [1, 3, 6], \"y\": [3.4366111755371094, 8.889657020568848, 17.069225311279297], \"type\": \"scatter\"}]}, {\"data\": [{\"x\": [1, 3, 6], \"y\": [3.438000202178955, 8.890350341796875, 17.068876266479492], \"type\": \"scatter\"}]}, {\"data\": [{\"x\": [1, 3, 6], \"y\": [3.439387321472168, 8.89104175567627, 17.068523406982422], \"type\": \"scatter\"}]}, {\"data\": [{\"x\": [1, 3, 6], \"y\": [3.440772294998169, 8.891728401184082, 17.06816291809082], \"type\": \"scatter\"}]}, {\"data\": [{\"x\": [1, 3, 6], \"y\": [3.442155122756958, 8.892411231994629, 17.06779670715332], \"type\": \"scatter\"}]}, {\"data\": [{\"x\": [1, 3, 6], \"y\": [3.4435362815856934, 8.893091201782227, 17.067424774169922], \"type\": \"scatter\"}]}, {\"data\": [{\"x\": [1, 3, 6], \"y\": [3.4449150562286377, 8.893766403198242, 17.06704330444336], \"type\": \"scatter\"}]}, {\"data\": [{\"x\": [1, 3, 6], \"y\": [3.4462921619415283, 8.894438743591309, 17.066659927368164], \"type\": \"scatter\"}]}, {\"data\": [{\"x\": [1, 3, 6], \"y\": [3.4476675987243652, 8.895108222961426, 17.066268920898438], \"type\": \"scatter\"}]}, {\"data\": [{\"x\": [1, 3, 6], \"y\": [3.4490408897399902, 8.895773887634277, 17.065872192382812], \"type\": \"scatter\"}]}, {\"data\": [{\"x\": [1, 3, 6], \"y\": [3.4504129886627197, 8.896437644958496, 17.065473556518555], \"type\": \"scatter\"}]}, {\"data\": [{\"x\": [1, 3, 6], \"y\": [3.4517831802368164, 8.89709758758545, 17.0650691986084], \"type\": \"scatter\"}]}, {\"data\": [{\"x\": [1, 3, 6], \"y\": [3.453151226043701, 8.897754669189453, 17.064659118652344], \"type\": \"scatter\"}]}, {\"data\": [{\"x\": [1, 3, 6], \"y\": [3.4545180797576904, 8.898408889770508, 17.064245223999023], \"type\": \"scatter\"}]}, {\"data\": [{\"x\": [1, 3, 6], \"y\": [3.455883026123047, 8.899060249328613, 17.063825607299805], \"type\": \"scatter\"}]}, {\"data\": [{\"x\": [1, 3, 6], \"y\": [3.4572465419769287, 8.899707794189453, 17.063400268554688], \"type\": \"scatter\"}]}, {\"data\": [{\"x\": [1, 3, 6], \"y\": [3.458608388900757, 8.900354385375977, 17.06297492980957], \"type\": \"scatter\"}]}, {\"data\": [{\"x\": [1, 3, 6], \"y\": [3.4599688053131104, 8.900999069213867, 17.062543869018555], \"type\": \"scatter\"}]}, {\"data\": [{\"x\": [1, 3, 6], \"y\": [3.46132755279541, 8.901639938354492, 17.06210708618164], \"type\": \"scatter\"}]}, {\"data\": [{\"x\": [1, 3, 6], \"y\": [3.4626848697662354, 8.902277946472168, 17.06166648864746], \"type\": \"scatter\"}]}, {\"data\": [{\"x\": [1, 3, 6], \"y\": [3.464040756225586, 8.902915000915527, 17.06122589111328], \"type\": \"scatter\"}]}, {\"data\": [{\"x\": [1, 3, 6], \"y\": [3.465395212173462, 8.903549194335938, 17.060779571533203], \"type\": \"scatter\"}]}, {\"data\": [{\"x\": [1, 3, 6], \"y\": [3.4667482376098633, 8.904180526733398, 17.06032943725586], \"type\": \"scatter\"}]}, {\"data\": [{\"x\": [1, 3, 6], \"y\": [3.468100070953369, 8.90481185913086, 17.059879302978516], \"type\": \"scatter\"}]}, {\"data\": [{\"x\": [1, 3, 6], \"y\": [3.4694504737854004, 8.905439376831055, 17.05942153930664], \"type\": \"scatter\"}]}, {\"data\": [{\"x\": [1, 3, 6], \"y\": [3.470799446105957, 8.906064987182617, 17.058963775634766], \"type\": \"scatter\"}]}, {\"data\": [{\"x\": [1, 3, 6], \"y\": [3.472146987915039, 8.906689643859863, 17.058502197265625], \"type\": \"scatter\"}]}, {\"data\": [{\"x\": [1, 3, 6], \"y\": [3.4734930992126465, 8.907310485839844, 17.05803680419922], \"type\": \"scatter\"}]}, {\"data\": [{\"x\": [1, 3, 6], \"y\": [3.4748382568359375, 8.907930374145508, 17.05756950378418], \"type\": \"scatter\"}]}, {\"data\": [{\"x\": [1, 3, 6], \"y\": [3.476181983947754, 8.908550262451172, 17.05710220336914], \"type\": \"scatter\"}]}, {\"data\": [{\"x\": [1, 3, 6], \"y\": [3.477524757385254, 8.90916633605957, 17.056629180908203], \"type\": \"scatter\"}]}, {\"data\": [{\"x\": [1, 3, 6], \"y\": [3.4788661003112793, 8.909781455993652, 17.056156158447266], \"type\": \"scatter\"}]}, {\"data\": [{\"x\": [1, 3, 6], \"y\": [3.48020601272583, 8.910395622253418, 17.055679321289062], \"type\": \"scatter\"}]}, {\"data\": [{\"x\": [1, 3, 6], \"y\": [3.4815449714660645, 8.911006927490234, 17.055198669433594], \"type\": \"scatter\"}]}, {\"data\": [{\"x\": [1, 3, 6], \"y\": [3.482882499694824, 8.911617279052734, 17.054718017578125], \"type\": \"scatter\"}]}, {\"data\": [{\"x\": [1, 3, 6], \"y\": [3.4842190742492676, 8.912225723266602, 17.054235458374023], \"type\": \"scatter\"}]}, {\"data\": [{\"x\": [1, 3, 6], \"y\": [3.4855542182922363, 8.912832260131836, 17.053749084472656], \"type\": \"scatter\"}]}, {\"data\": [{\"x\": [1, 3, 6], \"y\": [3.4868886470794678, 8.913437843322754, 17.05326271057129], \"type\": \"scatter\"}]}, {\"data\": [{\"x\": [1, 3, 6], \"y\": [3.4882216453552246, 8.914041519165039, 17.052772521972656], \"type\": \"scatter\"}]}, {\"data\": [{\"x\": [1, 3, 6], \"y\": [3.489553689956665, 8.914644241333008, 17.05228042602539], \"type\": \"scatter\"}]}, {\"data\": [{\"x\": [1, 3, 6], \"y\": [3.490884780883789, 8.915245056152344, 17.051786422729492], \"type\": \"scatter\"}]}, {\"data\": [{\"x\": [1, 3, 6], \"y\": [3.4922146797180176, 8.91584587097168, 17.051294326782227], \"type\": \"scatter\"}]}, {\"data\": [{\"x\": [1, 3, 6], \"y\": [3.4935433864593506, 8.916444778442383, 17.050798416137695], \"type\": \"scatter\"}]}, {\"data\": [{\"x\": [1, 3, 6], \"y\": [3.494871139526367, 8.91704273223877, 17.0502986907959], \"type\": \"scatter\"}]}, {\"data\": [{\"x\": [1, 3, 6], \"y\": [3.4961977005004883, 8.91763973236084, 17.049800872802734], \"type\": \"scatter\"}]}, {\"data\": [{\"x\": [1, 3, 6], \"y\": [3.497523546218872, 8.918233871459961, 17.049299240112305], \"type\": \"scatter\"}]}, {\"data\": [{\"x\": [1, 3, 6], \"y\": [3.4988481998443604, 8.918828964233398, 17.048799514770508], \"type\": \"scatter\"}]}, {\"data\": [{\"x\": [1, 3, 6], \"y\": [3.500171661376953, 8.919421195983887, 17.048294067382812], \"type\": \"scatter\"}]}, {\"data\": [{\"x\": [1, 3, 6], \"y\": [3.5014944076538086, 8.920012474060059, 17.047788619995117], \"type\": \"scatter\"}]}, {\"data\": [{\"x\": [1, 3, 6], \"y\": [3.5028159618377686, 8.920602798461914, 17.047283172607422], \"type\": \"scatter\"}]}, {\"data\": [{\"x\": [1, 3, 6], \"y\": [3.504136562347412, 8.921192169189453, 17.046775817871094], \"type\": \"scatter\"}]}, {\"data\": [{\"x\": [1, 3, 6], \"y\": [3.5054564476013184, 8.921781539916992, 17.0462703704834], \"type\": \"scatter\"}]}, {\"data\": [{\"x\": [1, 3, 6], \"y\": [3.50677490234375, 8.922368049621582, 17.045759201049805], \"type\": \"scatter\"}]}, {\"data\": [{\"x\": [1, 3, 6], \"y\": [3.5080926418304443, 8.922954559326172, 17.04524803161621], \"type\": \"scatter\"}]}, {\"data\": [{\"x\": [1, 3, 6], \"y\": [3.5094094276428223, 8.923540115356445, 17.044734954833984], \"type\": \"scatter\"}]}, {\"data\": [{\"x\": [1, 3, 6], \"y\": [3.510725259780884, 8.924124717712402, 17.04422378540039], \"type\": \"scatter\"}]}, {\"data\": [{\"x\": [1, 3, 6], \"y\": [3.512040138244629, 8.924707412719727, 17.04370880126953], \"type\": \"scatter\"}]}, {\"data\": [{\"x\": [1, 3, 6], \"y\": [3.5133543014526367, 8.925291061401367, 17.043195724487305], \"type\": \"scatter\"}]}, {\"data\": [{\"x\": [1, 3, 6], \"y\": [3.514667510986328, 8.925873756408691, 17.042682647705078], \"type\": \"scatter\"}]}, {\"data\": [{\"x\": [1, 3, 6], \"y\": [3.5159800052642822, 8.926454544067383, 17.04216766357422], \"type\": \"scatter\"}]}, {\"data\": [{\"x\": [1, 3, 6], \"y\": [3.517291307449341, 8.927035331726074, 17.041650772094727], \"type\": \"scatter\"}]}, {\"data\": [{\"x\": [1, 3, 6], \"y\": [3.518601894378662, 8.92761516571045, 17.041133880615234], \"type\": \"scatter\"}]}, {\"data\": [{\"x\": [1, 3, 6], \"y\": [3.519911527633667, 8.928194046020508, 17.040616989135742], \"type\": \"scatter\"}]}, {\"data\": [{\"x\": [1, 3, 6], \"y\": [3.5212202072143555, 8.928771018981934, 17.040096282958984], \"type\": \"scatter\"}]}, {\"data\": [{\"x\": [1, 3, 6], \"y\": [3.5225279331207275, 8.92934799194336, 17.03957748413086], \"type\": \"scatter\"}]}, {\"data\": [{\"x\": [1, 3, 6], \"y\": [3.5238351821899414, 8.929924011230469, 17.039058685302734], \"type\": \"scatter\"}]}, {\"data\": [{\"x\": [1, 3, 6], \"y\": [3.5251412391662598, 8.930500030517578, 17.038537979125977], \"type\": \"scatter\"}]}, {\"data\": [{\"x\": [1, 3, 6], \"y\": [3.526446580886841, 8.931074142456055, 17.03801727294922], \"type\": \"scatter\"}]}, {\"data\": [{\"x\": [1, 3, 6], \"y\": [3.5277509689331055, 8.931648254394531, 17.037494659423828], \"type\": \"scatter\"}]}, {\"data\": [{\"x\": [1, 3, 6], \"y\": [3.529054641723633, 8.932222366333008, 17.03697395324707], \"type\": \"scatter\"}]}, {\"data\": [{\"x\": [1, 3, 6], \"y\": [3.530357599258423, 8.932795524597168, 17.03645133972168], \"type\": \"scatter\"}]}, {\"data\": [{\"x\": [1, 3, 6], \"y\": [3.5316593647003174, 8.933367729187012, 17.03592872619629], \"type\": \"scatter\"}]}, {\"data\": [{\"x\": [1, 3, 6], \"y\": [3.5329606533050537, 8.933938980102539, 17.0354061126709], \"type\": \"scatter\"}]}, {\"data\": [{\"x\": [1, 3, 6], \"y\": [3.5342609882354736, 8.93450927734375, 17.034881591796875], \"type\": \"scatter\"}]}, {\"data\": [{\"x\": [1, 3, 6], \"y\": [3.535560369491577, 8.935079574584961, 17.03435707092285], \"type\": \"scatter\"}]}, {\"data\": [{\"x\": [1, 3, 6], \"y\": [3.5368592739105225, 8.935648918151855, 17.033832550048828], \"type\": \"scatter\"}]}, {\"data\": [{\"x\": [1, 3, 6], \"y\": [3.5381569862365723, 8.93621826171875, 17.033309936523438], \"type\": \"scatter\"}]}, {\"data\": [{\"x\": [1, 3, 6], \"y\": [3.5394539833068848, 8.936785697937012, 17.03278350830078], \"type\": \"scatter\"}]}, {\"data\": [{\"x\": [1, 3, 6], \"y\": [3.540750503540039, 8.93735408782959, 17.032258987426758], \"type\": \"scatter\"}]}, {\"data\": [{\"x\": [1, 3, 6], \"y\": [3.542045831680298, 8.937920570373535, 17.0317325592041], \"type\": \"scatter\"}]}, {\"data\": [{\"x\": [1, 3, 6], \"y\": [3.5433406829833984, 8.938488006591797, 17.031208038330078], \"type\": \"scatter\"}]}, {\"data\": [{\"x\": [1, 3, 6], \"y\": [3.5446345806121826, 8.93905258178711, 17.03067970275879], \"type\": \"scatter\"}]}, {\"data\": [{\"x\": [1, 3, 6], \"y\": [3.5459277629852295, 8.939619064331055, 17.030155181884766], \"type\": \"scatter\"}]}, {\"data\": [{\"x\": [1, 3, 6], \"y\": [3.547220230102539, 8.94018268585205, 17.029626846313477], \"type\": \"scatter\"}]}, {\"data\": [{\"x\": [1, 3, 6], \"y\": [3.5485119819641113, 8.94074821472168, 17.029102325439453], \"type\": \"scatter\"}]}, {\"data\": [{\"x\": [1, 3, 6], \"y\": [3.549802780151367, 8.941311836242676, 17.028573989868164], \"type\": \"scatter\"}]}, {\"data\": [{\"x\": [1, 3, 6], \"y\": [3.551093101501465, 8.941875457763672, 17.028047561645508], \"type\": \"scatter\"}]}, {\"data\": [{\"x\": [1, 3, 6], \"y\": [3.552382230758667, 8.942438125610352, 17.02752113342285], \"type\": \"scatter\"}]}, {\"data\": [{\"x\": [1, 3, 6], \"y\": [3.553670883178711, 8.943000793457031, 17.026994705200195], \"type\": \"scatter\"}]}, {\"data\": [{\"x\": [1, 3, 6], \"y\": [3.5549588203430176, 8.943561553955078, 17.026464462280273], \"type\": \"scatter\"}]}, {\"data\": [{\"x\": [1, 3, 6], \"y\": [3.556245803833008, 8.944123268127441, 17.025938034057617], \"type\": \"scatter\"}]}, {\"data\": [{\"x\": [1, 3, 6], \"y\": [3.5575320720672607, 8.944683074951172, 17.025409698486328], \"type\": \"scatter\"}]}, {\"data\": [{\"x\": [1, 3, 6], \"y\": [3.5588178634643555, 8.945243835449219, 17.024883270263672], \"type\": \"scatter\"}]}, {\"data\": [{\"x\": [1, 3, 6], \"y\": [3.5601024627685547, 8.94580364227295, 17.024354934692383], \"type\": \"scatter\"}]}, {\"data\": [{\"x\": [1, 3, 6], \"y\": [3.5613865852355957, 8.946362495422363, 17.023826599121094], \"type\": \"scatter\"}]}, {\"data\": [{\"x\": [1, 3, 6], \"y\": [3.5626697540283203, 8.946921348571777, 17.023298263549805], \"type\": \"scatter\"}]}, {\"data\": [{\"x\": [1, 3, 6], \"y\": [3.5639524459838867, 8.947479248046875, 17.022769927978516], \"type\": \"scatter\"}]}, {\"data\": [{\"x\": [1, 3, 6], \"y\": [3.5652341842651367, 8.948037147521973, 17.022241592407227], \"type\": \"scatter\"}]}, {\"data\": [{\"x\": [1, 3, 6], \"y\": [3.5665154457092285, 8.948594093322754, 17.021711349487305], \"type\": \"scatter\"}]}, {\"data\": [{\"x\": [1, 3, 6], \"y\": [3.567795753479004, 8.949151992797852, 17.02118492126465], \"type\": \"scatter\"}]}, {\"data\": [{\"x\": [1, 3, 6], \"y\": [3.569075345993042, 8.949707984924316, 17.02065658569336], \"type\": \"scatter\"}]}, {\"data\": [{\"x\": [1, 3, 6], \"y\": [3.570354461669922, 8.950263977050781, 17.02012825012207], \"type\": \"scatter\"}]}, {\"data\": [{\"x\": [1, 3, 6], \"y\": [3.5716326236724854, 8.950819969177246, 17.01959991455078], \"type\": \"scatter\"}]}, {\"data\": [{\"x\": [1, 3, 6], \"y\": [3.5729100704193115, 8.951375007629395, 17.019073486328125], \"type\": \"scatter\"}]}, {\"data\": [{\"x\": [1, 3, 6], \"y\": [3.5741868019104004, 8.951930046081543, 17.018543243408203], \"type\": \"scatter\"}]}, {\"data\": [{\"x\": [1, 3, 6], \"y\": [3.575463056564331, 8.952484130859375, 17.018016815185547], \"type\": \"scatter\"}]}, {\"data\": [{\"x\": [1, 3, 6], \"y\": [3.5767383575439453, 8.95303726196289, 17.017486572265625], \"type\": \"scatter\"}]}, {\"data\": [{\"x\": [1, 3, 6], \"y\": [3.5780129432678223, 8.953591346740723, 17.01696014404297], \"type\": \"scatter\"}]}, {\"data\": [{\"x\": [1, 3, 6], \"y\": [3.579287052154541, 8.954145431518555, 17.01643180847168], \"type\": \"scatter\"}]}, {\"data\": [{\"x\": [1, 3, 6], \"y\": [3.5805602073669434, 8.95469856262207, 17.015905380249023], \"type\": \"scatter\"}]}, {\"data\": [{\"x\": [1, 3, 6], \"y\": [3.5818328857421875, 8.95525074005127, 17.015378952026367], \"type\": \"scatter\"}]}, {\"data\": [{\"x\": [1, 3, 6], \"y\": [3.583104372024536, 8.955801963806152, 17.014848709106445], \"type\": \"scatter\"}]}, {\"data\": [{\"x\": [1, 3, 6], \"y\": [3.5843753814697266, 8.956353187561035, 17.014320373535156], \"type\": \"scatter\"}]}, {\"data\": [{\"x\": [1, 3, 6], \"y\": [3.585645914077759, 8.956905364990234, 17.0137939453125], \"type\": \"scatter\"}]}, {\"data\": [{\"x\": [1, 3, 6], \"y\": [3.5869154930114746, 8.9574556350708, 17.01326560974121], \"type\": \"scatter\"}]}, {\"data\": [{\"x\": [1, 3, 6], \"y\": [3.588184356689453, 8.958005905151367, 17.012739181518555], \"type\": \"scatter\"}]}, {\"data\": [{\"x\": [1, 3, 6], \"y\": [3.5894527435302734, 8.95855712890625, 17.0122127532959], \"type\": \"scatter\"}]}, {\"data\": [{\"x\": [1, 3, 6], \"y\": [3.5907204151153564, 8.9591064453125, 17.01168441772461], \"type\": \"scatter\"}]}, {\"data\": [{\"x\": [1, 3, 6], \"y\": [3.591987133026123, 8.95965576171875, 17.011157989501953], \"type\": \"scatter\"}]}, {\"data\": [{\"x\": [1, 3, 6], \"y\": [3.5932536125183105, 8.960204124450684, 17.010631561279297], \"type\": \"scatter\"}]}, {\"data\": [{\"x\": [1, 3, 6], \"y\": [3.5945191383361816, 8.960753440856934, 17.01010513305664], \"type\": \"scatter\"}]}, {\"data\": [{\"x\": [1, 3, 6], \"y\": [3.5957837104797363, 8.961301803588867, 17.009578704833984], \"type\": \"scatter\"}]}, {\"data\": [{\"x\": [1, 3, 6], \"y\": [3.597047805786133, 8.961849212646484, 17.009052276611328], \"type\": \"scatter\"}]}, {\"data\": [{\"x\": [1, 3, 6], \"y\": [3.598311424255371, 8.962396621704102, 17.008525848388672], \"type\": \"scatter\"}]}, {\"data\": [{\"x\": [1, 3, 6], \"y\": [3.599574089050293, 8.962944030761719, 17.007999420166016], \"type\": \"scatter\"}]}, {\"data\": [{\"x\": [1, 3, 6], \"y\": [3.6008360385894775, 8.96349048614502, 17.007471084594727], \"type\": \"scatter\"}]}, {\"data\": [{\"x\": [1, 3, 6], \"y\": [3.602097511291504, 8.96403694152832, 17.006946563720703], \"type\": \"scatter\"}]}, {\"data\": [{\"x\": [1, 3, 6], \"y\": [3.603358268737793, 8.964584350585938, 17.00642204284668], \"type\": \"scatter\"}]}, {\"data\": [{\"x\": [1, 3, 6], \"y\": [3.6046183109283447, 8.965128898620605, 17.005895614624023], \"type\": \"scatter\"}]}, {\"data\": [{\"x\": [1, 3, 6], \"y\": [3.605877637863159, 8.96567440032959, 17.00537109375], \"type\": \"scatter\"}]}, {\"data\": [{\"x\": [1, 3, 6], \"y\": [3.6071362495422363, 8.966219902038574, 17.004846572875977], \"type\": \"scatter\"}]}, {\"data\": [{\"x\": [1, 3, 6], \"y\": [3.608394145965576, 8.966764450073242, 17.00432014465332], \"type\": \"scatter\"}]}, {\"data\": [{\"x\": [1, 3, 6], \"y\": [3.6096513271331787, 8.96730899810791, 17.003795623779297], \"type\": \"scatter\"}]}, {\"data\": [{\"x\": [1, 3, 6], \"y\": [3.610908031463623, 8.967853546142578, 17.003273010253906], \"type\": \"scatter\"}]}, {\"data\": [{\"x\": [1, 3, 6], \"y\": [3.61216402053833, 8.96839714050293, 17.002748489379883], \"type\": \"scatter\"}]}, {\"data\": [{\"x\": [1, 3, 6], \"y\": [3.6134190559387207, 8.968940734863281, 17.002222061157227], \"type\": \"scatter\"}]}, {\"data\": [{\"x\": [1, 3, 6], \"y\": [3.614673614501953, 8.969483375549316, 17.001699447631836], \"type\": \"scatter\"}]}, {\"data\": [{\"x\": [1, 3, 6], \"y\": [3.6159276962280273, 8.970026969909668, 17.001174926757812], \"type\": \"scatter\"}]}, {\"data\": [{\"x\": [1, 3, 6], \"y\": [3.617180824279785, 8.970569610595703, 17.000652313232422], \"type\": \"scatter\"}]}, {\"data\": [{\"x\": [1, 3, 6], \"y\": [3.6184332370758057, 8.971111297607422, 17.0001277923584], \"type\": \"scatter\"}]}, {\"data\": [{\"x\": [1, 3, 6], \"y\": [3.619685173034668, 8.97165298461914, 16.999605178833008], \"type\": \"scatter\"}]}, {\"data\": [{\"x\": [1, 3, 6], \"y\": [3.620936393737793, 8.972195625305176, 16.999082565307617], \"type\": \"scatter\"}]}, {\"data\": [{\"x\": [1, 3, 6], \"y\": [3.6221868991851807, 8.972736358642578, 16.998559951782227], \"type\": \"scatter\"}]}, {\"data\": [{\"x\": [1, 3, 6], \"y\": [3.623436689376831, 8.973276138305664, 16.998035430908203], \"type\": \"scatter\"}]}, {\"data\": [{\"x\": [1, 3, 6], \"y\": [3.624685764312744, 8.973816871643066, 16.997514724731445], \"type\": \"scatter\"}]}, {\"data\": [{\"x\": [1, 3, 6], \"y\": [3.625934600830078, 8.974357604980469, 16.996992111206055], \"type\": \"scatter\"}]}, {\"data\": [{\"x\": [1, 3, 6], \"y\": [3.6271822452545166, 8.974897384643555, 16.996469497680664], \"type\": \"scatter\"}]}, {\"data\": [{\"x\": [1, 3, 6], \"y\": [3.628429412841797, 8.975436210632324, 16.995946884155273], \"type\": \"scatter\"}]}, {\"data\": [{\"x\": [1, 3, 6], \"y\": [3.62967586517334, 8.97597599029541, 16.995426177978516], \"type\": \"scatter\"}]}, {\"data\": [{\"x\": [1, 3, 6], \"y\": [3.6309218406677246, 8.976515769958496, 16.99490737915039], \"type\": \"scatter\"}]}, {\"data\": [{\"x\": [1, 3, 6], \"y\": [3.632166862487793, 8.97705364227295, 16.994384765625], \"type\": \"scatter\"}]}, {\"data\": [{\"x\": [1, 3, 6], \"y\": [3.633411407470703, 8.977591514587402, 16.99386215209961], \"type\": \"scatter\"}]}, {\"data\": [{\"x\": [1, 3, 6], \"y\": [3.634655475616455, 8.978130340576172, 16.99334144592285], \"type\": \"scatter\"}]}, {\"data\": [{\"x\": [1, 3, 6], \"y\": [3.6358985900878906, 8.978668212890625, 16.992822647094727], \"type\": \"scatter\"}]}, {\"data\": [{\"x\": [1, 3, 6], \"y\": [3.637141227722168, 8.979206085205078, 16.99230194091797], \"type\": \"scatter\"}]}, {\"data\": [{\"x\": [1, 3, 6], \"y\": [3.638382911682129, 8.979742050170898, 16.99178123474121], \"type\": \"scatter\"}]}, {\"data\": [{\"x\": [1, 3, 6], \"y\": [3.6396241188049316, 8.980278968811035, 16.991262435913086], \"type\": \"scatter\"}]}, {\"data\": [{\"x\": [1, 3, 6], \"y\": [3.640864849090576, 8.980816841125488, 16.990745544433594], \"type\": \"scatter\"}]}, {\"data\": [{\"x\": [1, 3, 6], \"y\": [3.6421046257019043, 8.981351852416992, 16.990222930908203], \"type\": \"scatter\"}]}, {\"data\": [{\"x\": [1, 3, 6], \"y\": [3.643343925476074, 8.981887817382812, 16.989704132080078], \"type\": \"scatter\"}]}, {\"data\": [{\"x\": [1, 3, 6], \"y\": [3.644582509994507, 8.98242473602295, 16.989187240600586], \"type\": \"scatter\"}]}, {\"data\": [{\"x\": [1, 3, 6], \"y\": [3.645820379257202, 8.982958793640137, 16.988666534423828], \"type\": \"scatter\"}]}, {\"data\": [{\"x\": [1, 3, 6], \"y\": [3.64705753326416, 8.983492851257324, 16.988147735595703], \"type\": \"scatter\"}]}, {\"data\": [{\"x\": [1, 3, 6], \"y\": [3.648293972015381, 8.984027862548828, 16.987628936767578], \"type\": \"scatter\"}]}, {\"data\": [{\"x\": [1, 3, 6], \"y\": [3.6495299339294434, 8.984562873840332, 16.987112045288086], \"type\": \"scatter\"}]}, {\"data\": [{\"x\": [1, 3, 6], \"y\": [3.6507654190063477, 8.985097885131836, 16.986595153808594], \"type\": \"scatter\"}]}, {\"data\": [{\"x\": [1, 3, 6], \"y\": [3.6519999504089355, 8.985630989074707, 16.98607635498047], \"type\": \"scatter\"}]}, {\"data\": [{\"x\": [1, 3, 6], \"y\": [3.653233766555786, 8.986164093017578, 16.985559463500977], \"type\": \"scatter\"}]}, {\"data\": [{\"x\": [1, 3, 6], \"y\": [3.6544671058654785, 8.986698150634766, 16.985044479370117], \"type\": \"scatter\"}]}, {\"data\": [{\"x\": [1, 3, 6], \"y\": [3.6556997299194336, 8.98723030090332, 16.984525680541992], \"type\": \"scatter\"}]}, {\"data\": [{\"x\": [1, 3, 6], \"y\": [3.6569316387176514, 8.987762451171875, 16.9840087890625], \"type\": \"scatter\"}]}, {\"data\": [{\"x\": [1, 3, 6], \"y\": [3.658163070678711, 8.988295555114746, 16.98349380493164], \"type\": \"scatter\"}]}, {\"data\": [{\"x\": [1, 3, 6], \"y\": [3.659393787384033, 8.988826751708984, 16.98297691345215], \"type\": \"scatter\"}]}, {\"data\": [{\"x\": [1, 3, 6], \"y\": [3.6606240272521973, 8.989358901977539, 16.98246192932129], \"type\": \"scatter\"}]}, {\"data\": [{\"x\": [1, 3, 6], \"y\": [3.661853313446045, 8.989890098571777, 16.98194694519043], \"type\": \"scatter\"}]}, {\"data\": [{\"x\": [1, 3, 6], \"y\": [3.6630821228027344, 8.990422248840332, 16.98143196105957], \"type\": \"scatter\"}]}, {\"data\": [{\"x\": [1, 3, 6], \"y\": [3.6643099784851074, 8.990952491760254, 16.980915069580078], \"type\": \"scatter\"}]}, {\"data\": [{\"x\": [1, 3, 6], \"y\": [3.6655375957489014, 8.991483688354492, 16.98040199279785], \"type\": \"scatter\"}]}, {\"data\": [{\"x\": [1, 3, 6], \"y\": [3.666764259338379, 8.992013931274414, 16.979887008666992], \"type\": \"scatter\"}]}, {\"data\": [{\"x\": [1, 3, 6], \"y\": [3.6679904460906982, 8.992544174194336, 16.979373931884766], \"type\": \"scatter\"}]}, {\"data\": [{\"x\": [1, 3, 6], \"y\": [3.6692161560058594, 8.993073463439941, 16.978858947753906], \"type\": \"scatter\"}]}, {\"data\": [{\"x\": [1, 3, 6], \"y\": [3.670441150665283, 8.993602752685547, 16.97834587097168], \"type\": \"scatter\"}]}, {\"data\": [{\"x\": [1, 3, 6], \"y\": [3.6716651916503906, 8.994132041931152, 16.977832794189453], \"type\": \"scatter\"}]}, {\"data\": [{\"x\": [1, 3, 6], \"y\": [3.67288875579834, 8.994661331176758, 16.977319717407227], \"type\": \"scatter\"}]}, {\"data\": [{\"x\": [1, 3, 6], \"y\": [3.674111843109131, 8.995189666748047, 16.976806640625], \"type\": \"scatter\"}]}, {\"data\": [{\"x\": [1, 3, 6], \"y\": [3.6753339767456055, 8.995718002319336, 16.976293563842773], \"type\": \"scatter\"}]}, {\"data\": [{\"x\": [1, 3, 6], \"y\": [3.676555633544922, 8.996245384216309, 16.975780487060547], \"type\": \"scatter\"}]}, {\"data\": [{\"x\": [1, 3, 6], \"y\": [3.677776575088501, 8.996773719787598, 16.975269317626953], \"type\": \"scatter\"}]}, {\"data\": [{\"x\": [1, 3, 6], \"y\": [3.678997039794922, 8.99730110168457, 16.974756240844727], \"type\": \"scatter\"}]}, {\"data\": [{\"x\": [1, 3, 6], \"y\": [3.6802167892456055, 8.997828483581543, 16.974245071411133], \"type\": \"scatter\"}]}, {\"data\": [{\"x\": [1, 3, 6], \"y\": [3.6814355850219727, 8.9983549118042, 16.97373390197754], \"type\": \"scatter\"}]}, {\"data\": [{\"x\": [1, 3, 6], \"y\": [3.6826539039611816, 8.998881340026855, 16.973222732543945], \"type\": \"scatter\"}]}, {\"data\": [{\"x\": [1, 3, 6], \"y\": [3.6838717460632324, 8.999407768249512, 16.97271156311035], \"type\": \"scatter\"}]}, {\"data\": [{\"x\": [1, 3, 6], \"y\": [3.685089111328125, 8.999934196472168, 16.97220230102539], \"type\": \"scatter\"}]}, {\"data\": [{\"x\": [1, 3, 6], \"y\": [3.686305522918701, 9.000459671020508, 16.971691131591797], \"type\": \"scatter\"}]}, {\"data\": [{\"x\": [1, 3, 6], \"y\": [3.68752121925354, 9.000985145568848, 16.971179962158203], \"type\": \"scatter\"}]}, {\"data\": [{\"x\": [1, 3, 6], \"y\": [3.6887364387512207, 9.001510620117188, 16.970670700073242], \"type\": \"scatter\"}]}, {\"data\": [{\"x\": [1, 3, 6], \"y\": [3.689950942993164, 9.002035140991211, 16.97016143798828], \"type\": \"scatter\"}]}, {\"data\": [{\"x\": [1, 3, 6], \"y\": [3.691164970397949, 9.002559661865234, 16.96965217590332], \"type\": \"scatter\"}]}, {\"data\": [{\"x\": [1, 3, 6], \"y\": [3.692378044128418, 9.003084182739258, 16.96914291381836], \"type\": \"scatter\"}]}, {\"data\": [{\"x\": [1, 3, 6], \"y\": [3.6935906410217285, 9.003607749938965, 16.9686336517334], \"type\": \"scatter\"}]}, {\"data\": [{\"x\": [1, 3, 6], \"y\": [3.694802761077881, 9.004131317138672, 16.968124389648438], \"type\": \"scatter\"}]}, {\"data\": [{\"x\": [1, 3, 6], \"y\": [3.696013927459717, 9.004654884338379, 16.967615127563477], \"type\": \"scatter\"}]}, {\"data\": [{\"x\": [1, 3, 6], \"y\": [3.6972246170043945, 9.005178451538086, 16.96710777282715], \"type\": \"scatter\"}]}, {\"data\": [{\"x\": [1, 3, 6], \"y\": [3.698434829711914, 9.005701065063477, 16.96660041809082], \"type\": \"scatter\"}]}, {\"data\": [{\"x\": [1, 3, 6], \"y\": [3.6996443271636963, 9.006223678588867, 16.966093063354492], \"type\": \"scatter\"}]}, {\"data\": [{\"x\": [1, 3, 6], \"y\": [3.700852870941162, 9.006746292114258, 16.965585708618164], \"type\": \"scatter\"}]}, {\"data\": [{\"x\": [1, 3, 6], \"y\": [3.702061176300049, 9.007267951965332, 16.965078353881836], \"type\": \"scatter\"}]}, {\"data\": [{\"x\": [1, 3, 6], \"y\": [3.703268527984619, 9.007789611816406, 16.964570999145508], \"type\": \"scatter\"}]}, {\"data\": [{\"x\": [1, 3, 6], \"y\": [3.7044756412506104, 9.00831127166748, 16.964065551757812], \"type\": \"scatter\"}]}, {\"data\": [{\"x\": [1, 3, 6], \"y\": [3.705681800842285, 9.008832931518555, 16.963558197021484], \"type\": \"scatter\"}]}, {\"data\": [{\"x\": [1, 3, 6], \"y\": [3.7068872451782227, 9.009353637695312, 16.96305274963379], \"type\": \"scatter\"}]}, {\"data\": [{\"x\": [1, 3, 6], \"y\": [3.708092212677002, 9.00987434387207, 16.962547302246094], \"type\": \"scatter\"}]}, {\"data\": [{\"x\": [1, 3, 6], \"y\": [3.709296703338623, 9.010395050048828, 16.9620418548584], \"type\": \"scatter\"}]}, {\"data\": [{\"x\": [1, 3, 6], \"y\": [3.710500478744507, 9.01091480255127, 16.961536407470703], \"type\": \"scatter\"}]}, {\"data\": [{\"x\": [1, 3, 6], \"y\": [3.7117035388946533, 9.011434555053711, 16.961030960083008], \"type\": \"scatter\"}]}, {\"data\": [{\"x\": [1, 3, 6], \"y\": [3.7129058837890625, 9.011954307556152, 16.960525512695312], \"type\": \"scatter\"}]}, {\"data\": [{\"x\": [1, 3, 6], \"y\": [3.7141079902648926, 9.012473106384277, 16.96002197265625], \"type\": \"scatter\"}]}, {\"data\": [{\"x\": [1, 3, 6], \"y\": [3.715308904647827, 9.012991905212402, 16.959516525268555], \"type\": \"scatter\"}]}, {\"data\": [{\"x\": [1, 3, 6], \"y\": [3.7165093421936035, 9.013510704040527, 16.959012985229492], \"type\": \"scatter\"}]}, {\"data\": [{\"x\": [1, 3, 6], \"y\": [3.717709541320801, 9.014029502868652, 16.95850944519043], \"type\": \"scatter\"}]}, {\"data\": [{\"x\": [1, 3, 6], \"y\": [3.7189087867736816, 9.014547348022461, 16.958005905151367], \"type\": \"scatter\"}]}, {\"data\": [{\"x\": [1, 3, 6], \"y\": [3.720107316970825, 9.01506519317627, 16.957502365112305], \"type\": \"scatter\"}]}, {\"data\": [{\"x\": [1, 3, 6], \"y\": [3.7213053703308105, 9.015583038330078, 16.957000732421875], \"type\": \"scatter\"}]}, {\"data\": [{\"x\": [1, 3, 6], \"y\": [3.7225027084350586, 9.01609992980957, 16.956497192382812], \"type\": \"scatter\"}]}, {\"data\": [{\"x\": [1, 3, 6], \"y\": [3.7236995697021484, 9.016617774963379, 16.955995559692383], \"type\": \"scatter\"}]}, {\"data\": [{\"x\": [1, 3, 6], \"y\": [3.724895477294922, 9.017134666442871, 16.95549201965332], \"type\": \"scatter\"}]}, {\"data\": [{\"x\": [1, 3, 6], \"y\": [3.726090908050537, 9.017650604248047, 16.95499038696289], \"type\": \"scatter\"}]}, {\"data\": [{\"x\": [1, 3, 6], \"y\": [3.727285861968994, 9.018167495727539, 16.95448875427246], \"type\": \"scatter\"}]}, {\"data\": [{\"x\": [1, 3, 6], \"y\": [3.728480339050293, 9.018683433532715, 16.95398712158203], \"type\": \"scatter\"}]}, {\"data\": [{\"x\": [1, 3, 6], \"y\": [3.7296738624572754, 9.01919937133789, 16.953487396240234], \"type\": \"scatter\"}]}, {\"data\": [{\"x\": [1, 3, 6], \"y\": [3.7308669090270996, 9.01971435546875, 16.952985763549805], \"type\": \"scatter\"}]}, {\"data\": [{\"x\": [1, 3, 6], \"y\": [3.7320592403411865, 9.02022933959961, 16.952486038208008], \"type\": \"scatter\"}]}, {\"data\": [{\"x\": [1, 3, 6], \"y\": [3.733250856399536, 9.020744323730469, 16.951984405517578], \"type\": \"scatter\"}]}, {\"data\": [{\"x\": [1, 3, 6], \"y\": [3.7344417572021484, 9.021258354187012, 16.95148277282715], \"type\": \"scatter\"}]}, {\"data\": [{\"x\": [1, 3, 6], \"y\": [3.7356324195861816, 9.021772384643555, 16.95098304748535], \"type\": \"scatter\"}]}, {\"data\": [{\"x\": [1, 3, 6], \"y\": [3.7368221282958984, 9.022286415100098, 16.950483322143555], \"type\": \"scatter\"}]}, {\"data\": [{\"x\": [1, 3, 6], \"y\": [3.738011360168457, 9.02280044555664, 16.949983596801758], \"type\": \"scatter\"}]}, {\"data\": [{\"x\": [1, 3, 6], \"y\": [3.7391998767852783, 9.023313522338867, 16.94948387145996], \"type\": \"scatter\"}]}, {\"data\": [{\"x\": [1, 3, 6], \"y\": [3.7403879165649414, 9.023826599121094, 16.948986053466797], \"type\": \"scatter\"}]}, {\"data\": [{\"x\": [1, 3, 6], \"y\": [3.741575241088867, 9.024340629577637, 16.948488235473633], \"type\": \"scatter\"}]}, {\"data\": [{\"x\": [1, 3, 6], \"y\": [3.7427618503570557, 9.024852752685547, 16.947988510131836], \"type\": \"scatter\"}]}, {\"data\": [{\"x\": [1, 3, 6], \"y\": [3.743947982788086, 9.025364875793457, 16.947490692138672], \"type\": \"scatter\"}]}, {\"data\": [{\"x\": [1, 3, 6], \"y\": [3.745133399963379, 9.025876998901367, 16.946992874145508], \"type\": \"scatter\"}]}, {\"data\": [{\"x\": [1, 3, 6], \"y\": [3.7463183403015137, 9.026389122009277, 16.946495056152344], \"type\": \"scatter\"}]}, {\"data\": [{\"x\": [1, 3, 6], \"y\": [3.747502326965332, 9.026900291442871, 16.94599723815918], \"type\": \"scatter\"}]}, {\"data\": [{\"x\": [1, 3, 6], \"y\": [3.748685836791992, 9.027411460876465, 16.945499420166016], \"type\": \"scatter\"}]}, {\"data\": [{\"x\": [1, 3, 6], \"y\": [3.749868869781494, 9.027922630310059, 16.945003509521484], \"type\": \"scatter\"}]}, {\"data\": [{\"x\": [1, 3, 6], \"y\": [3.751051425933838, 9.028433799743652, 16.944507598876953], \"type\": \"scatter\"}]}, {\"data\": [{\"x\": [1, 3, 6], \"y\": [3.7522330284118652, 9.02894401550293, 16.944011688232422], \"type\": \"scatter\"}]}, {\"data\": [{\"x\": [1, 3, 6], \"y\": [3.7534141540527344, 9.029454231262207, 16.943513870239258], \"type\": \"scatter\"}]}, {\"data\": [{\"x\": [1, 3, 6], \"y\": [3.7545948028564453, 9.029964447021484, 16.943017959594727], \"type\": \"scatter\"}]}, {\"data\": [{\"x\": [1, 3, 6], \"y\": [3.75577449798584, 9.030473709106445, 16.942523956298828], \"type\": \"scatter\"}]}, {\"data\": [{\"x\": [1, 3, 6], \"y\": [3.756953716278076, 9.030983924865723, 16.942028045654297], \"type\": \"scatter\"}]}, {\"data\": [{\"x\": [1, 3, 6], \"y\": [3.7581324577331543, 9.031492233276367, 16.941532135009766], \"type\": \"scatter\"}]}, {\"data\": [{\"x\": [1, 3, 6], \"y\": [3.759310483932495, 9.032001495361328, 16.941038131713867], \"type\": \"scatter\"}]}, {\"data\": [{\"x\": [1, 3, 6], \"y\": [3.7604880332946777, 9.032510757446289, 16.9405460357666], \"type\": \"scatter\"}]}, {\"data\": [{\"x\": [1, 3, 6], \"y\": [3.761664867401123, 9.033019065856934, 16.94005012512207], \"type\": \"scatter\"}]}, {\"data\": [{\"x\": [1, 3, 6], \"y\": [3.762840747833252, 9.033527374267578, 16.939556121826172], \"type\": \"scatter\"}]}, {\"data\": [{\"x\": [1, 3, 6], \"y\": [3.764016628265381, 9.034034729003906, 16.939062118530273], \"type\": \"scatter\"}]}, {\"data\": [{\"x\": [1, 3, 6], \"y\": [3.7651915550231934, 9.03454303741455, 16.938570022583008], \"type\": \"scatter\"}]}, {\"data\": [{\"x\": [1, 3, 6], \"y\": [3.7663657665252686, 9.035050392150879, 16.93807601928711], \"type\": \"scatter\"}]}, {\"data\": [{\"x\": [1, 3, 6], \"y\": [3.7675395011901855, 9.03555679321289, 16.937583923339844], \"type\": \"scatter\"}]}, {\"data\": [{\"x\": [1, 3, 6], \"y\": [3.7687125205993652, 9.036064147949219, 16.937091827392578], \"type\": \"scatter\"}]}, {\"data\": [{\"x\": [1, 3, 6], \"y\": [3.7698850631713867, 9.03657054901123, 16.93659782409668], \"type\": \"scatter\"}]}, {\"data\": [{\"x\": [1, 3, 6], \"y\": [3.771056652069092, 9.037076950073242, 16.936105728149414], \"type\": \"scatter\"}]}, {\"data\": [{\"x\": [1, 3, 6], \"y\": [3.7722280025482178, 9.037582397460938, 16.93561553955078], \"type\": \"scatter\"}]}, {\"data\": [{\"x\": [1, 3, 6], \"y\": [3.7733986377716064, 9.038087844848633, 16.935123443603516], \"type\": \"scatter\"}]}, {\"data\": [{\"x\": [1, 3, 6], \"y\": [3.774568557739258, 9.038594245910645, 16.93463134765625], \"type\": \"scatter\"}]}, {\"data\": [{\"x\": [1, 3, 6], \"y\": [3.775737762451172, 9.039098739624023, 16.934141159057617], \"type\": \"scatter\"}]}, {\"data\": [{\"x\": [1, 3, 6], \"y\": [3.776906728744507, 9.039604187011719, 16.93364906311035], \"type\": \"scatter\"}]}, {\"data\": [{\"x\": [1, 3, 6], \"y\": [3.7780749797821045, 9.040109634399414, 16.93316078186035], \"type\": \"scatter\"}]}, {\"data\": [{\"x\": [1, 3, 6], \"y\": [3.779242515563965, 9.040613174438477, 16.932668685913086], \"type\": \"scatter\"}]}, {\"data\": [{\"x\": [1, 3, 6], \"y\": [3.780409336090088, 9.041116714477539, 16.932178497314453], \"type\": \"scatter\"}]}, {\"data\": [{\"x\": [1, 3, 6], \"y\": [3.7815756797790527, 9.041621208190918, 16.93168830871582], \"type\": \"scatter\"}]}, {\"data\": [{\"x\": [1, 3, 6], \"y\": [3.7827413082122803, 9.04212474822998, 16.93120002746582], \"type\": \"scatter\"}]}, {\"data\": [{\"x\": [1, 3, 6], \"y\": [3.7839064598083496, 9.042627334594727, 16.930709838867188], \"type\": \"scatter\"}]}, {\"data\": [{\"x\": [1, 3, 6], \"y\": [3.7850708961486816, 9.043130874633789, 16.930219650268555], \"type\": \"scatter\"}]}, {\"data\": [{\"x\": [1, 3, 6], \"y\": [3.7862348556518555, 9.043634414672852, 16.929733276367188], \"type\": \"scatter\"}]}, {\"data\": [{\"x\": [1, 3, 6], \"y\": [3.787397861480713, 9.044136047363281, 16.929243087768555], \"type\": \"scatter\"}]}, {\"data\": [{\"x\": [1, 3, 6], \"y\": [3.788560390472412, 9.044638633728027, 16.928754806518555], \"type\": \"scatter\"}]}, {\"data\": [{\"x\": [1, 3, 6], \"y\": [3.789722442626953, 9.045140266418457, 16.928266525268555], \"type\": \"scatter\"}]}, {\"data\": [{\"x\": [1, 3, 6], \"y\": [3.790884017944336, 9.045641899108887, 16.927780151367188], \"type\": \"scatter\"}]}, {\"data\": [{\"x\": [1, 3, 6], \"y\": [3.7920446395874023, 9.046143531799316, 16.927291870117188], \"type\": \"scatter\"}]}, {\"data\": [{\"x\": [1, 3, 6], \"y\": [3.7932047843933105, 9.046645164489746, 16.92680549621582], \"type\": \"scatter\"}]}, {\"data\": [{\"x\": [1, 3, 6], \"y\": [3.7943644523620605, 9.04714584350586, 16.926319122314453], \"type\": \"scatter\"}]}, {\"data\": [{\"x\": [1, 3, 6], \"y\": [3.7955234050750732, 9.047646522521973, 16.925830841064453], \"type\": \"scatter\"}]}, {\"data\": [{\"x\": [1, 3, 6], \"y\": [3.7966818809509277, 9.04814624786377, 16.925344467163086], \"type\": \"scatter\"}]}, {\"data\": [{\"x\": [1, 3, 6], \"y\": [3.797839641571045, 9.048646926879883, 16.92485809326172], \"type\": \"scatter\"}]}, {\"data\": [{\"x\": [1, 3, 6], \"y\": [3.798996925354004, 9.04914665222168, 16.92437171936035], \"type\": \"scatter\"}]}, {\"data\": [{\"x\": [1, 3, 6], \"y\": [3.8001532554626465, 9.049646377563477, 16.923887252807617], \"type\": \"scatter\"}]}, {\"data\": [{\"x\": [1, 3, 6], \"y\": [3.801309108734131, 9.050146102905273, 16.92340087890625], \"type\": \"scatter\"}]}, {\"data\": [{\"x\": [1, 3, 6], \"y\": [3.802464485168457, 9.050644874572754, 16.922916412353516], \"type\": \"scatter\"}]}, {\"data\": [{\"x\": [1, 3, 6], \"y\": [3.803619384765625, 9.05114459991455, 16.92243194580078], \"type\": \"scatter\"}]}, {\"data\": [{\"x\": [1, 3, 6], \"y\": [3.8047733306884766, 9.051642417907715, 16.921945571899414], \"type\": \"scatter\"}]}, {\"data\": [{\"x\": [1, 3, 6], \"y\": [3.80592679977417, 9.052141189575195, 16.92146110534668], \"type\": \"scatter\"}]}, {\"data\": [{\"x\": [1, 3, 6], \"y\": [3.807079792022705, 9.05263900756836, 16.920976638793945], \"type\": \"scatter\"}]}, {\"data\": [{\"x\": [1, 3, 6], \"y\": [3.808231830596924, 9.053136825561523, 16.920494079589844], \"type\": \"scatter\"}]}, {\"data\": [{\"x\": [1, 3, 6], \"y\": [3.8093836307525635, 9.053633689880371, 16.92000961303711], \"type\": \"scatter\"}]}, {\"data\": [{\"x\": [1, 3, 6], \"y\": [3.810534715652466, 9.054130554199219, 16.919525146484375], \"type\": \"scatter\"}]}, {\"data\": [{\"x\": [1, 3, 6], \"y\": [3.81168532371521, 9.054628372192383, 16.919044494628906], \"type\": \"scatter\"}]}, {\"data\": [{\"x\": [1, 3, 6], \"y\": [3.812835216522217, 9.05512523651123, 16.918560028076172], \"type\": \"scatter\"}]}, {\"data\": [{\"x\": [1, 3, 6], \"y\": [3.8139843940734863, 9.055622100830078, 16.91807746887207], \"type\": \"scatter\"}]}, {\"data\": [{\"x\": [1, 3, 6], \"y\": [3.8151330947875977, 9.05611801147461, 16.91759490966797], \"type\": \"scatter\"}]}, {\"data\": [{\"x\": [1, 3, 6], \"y\": [3.8162810802459717, 9.05661392211914, 16.917112350463867], \"type\": \"scatter\"}]}, {\"data\": [{\"x\": [1, 3, 6], \"y\": [3.8174285888671875, 9.057108879089355, 16.916629791259766], \"type\": \"scatter\"}]}, {\"data\": [{\"x\": [1, 3, 6], \"y\": [3.818575382232666, 9.057604789733887, 16.916149139404297], \"type\": \"scatter\"}]}, {\"data\": [{\"x\": [1, 3, 6], \"y\": [3.8197216987609863, 9.058099746704102, 16.915668487548828], \"type\": \"scatter\"}]}, {\"data\": [{\"x\": [1, 3, 6], \"y\": [3.8208673000335693, 9.058594703674316, 16.915185928344727], \"type\": \"scatter\"}]}, {\"data\": [{\"x\": [1, 3, 6], \"y\": [3.822012424468994, 9.059089660644531, 16.914705276489258], \"type\": \"scatter\"}]}, {\"data\": [{\"x\": [1, 3, 6], \"y\": [3.8231568336486816, 9.05958366394043, 16.91422462463379], \"type\": \"scatter\"}]}, {\"data\": [{\"x\": [1, 3, 6], \"y\": [3.824300765991211, 9.060078620910645, 16.913745880126953], \"type\": \"scatter\"}]}, {\"data\": [{\"x\": [1, 3, 6], \"y\": [3.825443983078003, 9.060572624206543, 16.913265228271484], \"type\": \"scatter\"}]}, {\"data\": [{\"x\": [1, 3, 6], \"y\": [3.8265867233276367, 9.061065673828125, 16.912784576416016], \"type\": \"scatter\"}]}, {\"data\": [{\"x\": [1, 3, 6], \"y\": [3.827728748321533, 9.061559677124023, 16.91230583190918], \"type\": \"scatter\"}]}, {\"data\": [{\"x\": [1, 3, 6], \"y\": [3.8288700580596924, 9.062051773071289, 16.91182518005371], \"type\": \"scatter\"}]}, {\"data\": [{\"x\": [1, 3, 6], \"y\": [3.8300108909606934, 9.062545776367188, 16.911346435546875], \"type\": \"scatter\"}]}, {\"data\": [{\"x\": [1, 3, 6], \"y\": [3.831151008605957, 9.063037872314453, 16.91086769104004], \"type\": \"scatter\"}]}, {\"data\": [{\"x\": [1, 3, 6], \"y\": [3.8322908878326416, 9.063530921936035, 16.910390853881836], \"type\": \"scatter\"}]}, {\"data\": [{\"x\": [1, 3, 6], \"y\": [3.8334298133850098, 9.0640230178833, 16.909912109375], \"type\": \"scatter\"}]}, {\"data\": [{\"x\": [1, 3, 6], \"y\": [3.834568500518799, 9.06451416015625, 16.909433364868164], \"type\": \"scatter\"}]}, {\"data\": [{\"x\": [1, 3, 6], \"y\": [3.8357062339782715, 9.065006256103516, 16.90895652770996], \"type\": \"scatter\"}]}, {\"data\": [{\"x\": [1, 3, 6], \"y\": [3.836843490600586, 9.065497398376465, 16.908477783203125], \"type\": \"scatter\"}]}, {\"data\": [{\"x\": [1, 3, 6], \"y\": [3.837980270385742, 9.065988540649414, 16.908000946044922], \"type\": \"scatter\"}]}, {\"data\": [{\"x\": [1, 3, 6], \"y\": [3.839116096496582, 9.066478729248047, 16.90752410888672], \"type\": \"scatter\"}]}, {\"data\": [{\"x\": [1, 3, 6], \"y\": [3.8402514457702637, 9.066969871520996, 16.907047271728516], \"type\": \"scatter\"}]}, {\"data\": [{\"x\": [1, 3, 6], \"y\": [3.841386318206787, 9.067459106445312, 16.906570434570312], \"type\": \"scatter\"}]}, {\"data\": [{\"x\": [1, 3, 6], \"y\": [3.8425207138061523, 9.067949295043945, 16.90609359741211], \"type\": \"scatter\"}]}, {\"data\": [{\"x\": [1, 3, 6], \"y\": [3.8436543941497803, 9.068439483642578, 16.90561866760254], \"type\": \"scatter\"}]}, {\"data\": [{\"x\": [1, 3, 6], \"y\": [3.844787359237671, 9.068928718566895, 16.905139923095703], \"type\": \"scatter\"}]}, {\"data\": [{\"x\": [1, 3, 6], \"y\": [3.8459198474884033, 9.069417953491211, 16.904664993286133], \"type\": \"scatter\"}]}, {\"data\": [{\"x\": [1, 3, 6], \"y\": [3.8470516204833984, 9.069907188415527, 16.904190063476562], \"type\": \"scatter\"}]}, {\"data\": [{\"x\": [1, 3, 6], \"y\": [3.8481829166412354, 9.070395469665527, 16.903715133666992], \"type\": \"scatter\"}]}, {\"data\": [{\"x\": [1, 3, 6], \"y\": [3.849313735961914, 9.070883750915527, 16.903240203857422], \"type\": \"scatter\"}]}, {\"data\": [{\"x\": [1, 3, 6], \"y\": [3.8504438400268555, 9.071372985839844, 16.90276527404785], \"type\": \"scatter\"}]}, {\"data\": [{\"x\": [1, 3, 6], \"y\": [3.8515734672546387, 9.071860313415527, 16.902292251586914], \"type\": \"scatter\"}]}, {\"data\": [{\"x\": [1, 3, 6], \"y\": [3.8527021408081055, 9.072347640991211, 16.901817321777344], \"type\": \"scatter\"}]}, {\"data\": [{\"x\": [1, 3, 6], \"y\": [3.853830337524414, 9.072834968566895, 16.901342391967773], \"type\": \"scatter\"}]}, {\"data\": [{\"x\": [1, 3, 6], \"y\": [3.8549582958221436, 9.073323249816895, 16.900869369506836], \"type\": \"scatter\"}]}, {\"data\": [{\"x\": [1, 3, 6], \"y\": [3.8560853004455566, 9.073809623718262, 16.9003963470459], \"type\": \"scatter\"}]}, {\"data\": [{\"x\": [1, 3, 6], \"y\": [3.8572118282318115, 9.074295997619629, 16.899921417236328], \"type\": \"scatter\"}]}, {\"data\": [{\"x\": [1, 3, 6], \"y\": [3.858337879180908, 9.074783325195312, 16.899450302124023], \"type\": \"scatter\"}]}, {\"data\": [{\"x\": [1, 3, 6], \"y\": [3.8594632148742676, 9.07526969909668, 16.89897918701172], \"type\": \"scatter\"}]}, {\"data\": [{\"x\": [1, 3, 6], \"y\": [3.8605880737304688, 9.07575511932373, 16.89850616455078], \"type\": \"scatter\"}]}, {\"data\": [{\"x\": [1, 3, 6], \"y\": [3.8617122173309326, 9.076240539550781, 16.898033142089844], \"type\": \"scatter\"}]}, {\"data\": [{\"x\": [1, 3, 6], \"y\": [3.8628358840942383, 9.076726913452148, 16.89756202697754], \"type\": \"scatter\"}]}, {\"data\": [{\"x\": [1, 3, 6], \"y\": [3.8639588356018066, 9.077211380004883, 16.8970890045166], \"type\": \"scatter\"}]}, {\"data\": [{\"x\": [1, 3, 6], \"y\": [3.865081310272217, 9.077695846557617, 16.896617889404297], \"type\": \"scatter\"}]}, {\"data\": [{\"x\": [1, 3, 6], \"y\": [3.8662030696868896, 9.078181266784668, 16.896148681640625], \"type\": \"scatter\"}]}, {\"data\": [{\"x\": [1, 3, 6], \"y\": [3.8673243522644043, 9.078664779663086, 16.895675659179688], \"type\": \"scatter\"}]}, {\"data\": [{\"x\": [1, 3, 6], \"y\": [3.8684449195861816, 9.07914924621582, 16.895204544067383], \"type\": \"scatter\"}]}, {\"data\": [{\"x\": [1, 3, 6], \"y\": [3.869565010070801, 9.079633712768555, 16.89473533630371], \"type\": \"scatter\"}]}, {\"data\": [{\"x\": [1, 3, 6], \"y\": [3.8706846237182617, 9.080117225646973, 16.89426612854004], \"type\": \"scatter\"}]}, {\"data\": [{\"x\": [1, 3, 6], \"y\": [3.8718032836914062, 9.080599784851074, 16.893795013427734], \"type\": \"scatter\"}]}, {\"data\": [{\"x\": [1, 3, 6], \"y\": [3.8729214668273926, 9.081083297729492, 16.893325805664062], \"type\": \"scatter\"}]}, {\"data\": [{\"x\": [1, 3, 6], \"y\": [3.8740394115448, 9.08156681060791, 16.89285659790039], \"type\": \"scatter\"}]}, {\"data\": [{\"x\": [1, 3, 6], \"y\": [3.8751564025878906, 9.082049369812012, 16.89238739013672], \"type\": \"scatter\"}]}, {\"data\": [{\"x\": [1, 3, 6], \"y\": [3.8762729167938232, 9.082530975341797, 16.891918182373047], \"type\": \"scatter\"}]}, {\"data\": [{\"x\": [1, 3, 6], \"y\": [3.8773889541625977, 9.083013534545898, 16.891450881958008], \"type\": \"scatter\"}]}, {\"data\": [{\"x\": [1, 3, 6], \"y\": [3.8785042762756348, 9.083495140075684, 16.890981674194336], \"type\": \"scatter\"}]}, {\"data\": [{\"x\": [1, 3, 6], \"y\": [3.8796188831329346, 9.083976745605469, 16.890514373779297], \"type\": \"scatter\"}]}, {\"data\": [{\"x\": [1, 3, 6], \"y\": [3.880733013153076, 9.084458351135254, 16.890045166015625], \"type\": \"scatter\"}]}, {\"data\": [{\"x\": [1, 3, 6], \"y\": [3.8818469047546387, 9.084939002990723, 16.889577865600586], \"type\": \"scatter\"}]}, {\"data\": [{\"x\": [1, 3, 6], \"y\": [3.8829598426818848, 9.085419654846191, 16.889110565185547], \"type\": \"scatter\"}]}, {\"data\": [{\"x\": [1, 3, 6], \"y\": [3.8840723037719727, 9.085901260375977, 16.888643264770508], \"type\": \"scatter\"}]}, {\"data\": [{\"x\": [1, 3, 6], \"y\": [3.8851840496063232, 9.086381912231445, 16.8881778717041], \"type\": \"scatter\"}]}, {\"data\": [{\"x\": [1, 3, 6], \"y\": [3.8862953186035156, 9.086861610412598, 16.887710571289062], \"type\": \"scatter\"}]}, {\"data\": [{\"x\": [1, 3, 6], \"y\": [3.8874058723449707, 9.08734130859375, 16.887243270874023], \"type\": \"scatter\"}]}, {\"data\": [{\"x\": [1, 3, 6], \"y\": [3.8885159492492676, 9.087821006774902, 16.886777877807617], \"type\": \"scatter\"}]}, {\"data\": [{\"x\": [1, 3, 6], \"y\": [3.8896255493164062, 9.088299751281738, 16.886310577392578], \"type\": \"scatter\"}]}, {\"data\": [{\"x\": [1, 3, 6], \"y\": [3.8907341957092285, 9.088778495788574, 16.885845184326172], \"type\": \"scatter\"}]}, {\"data\": [{\"x\": [1, 3, 6], \"y\": [3.891842842102051, 9.089258193969727, 16.885379791259766], \"type\": \"scatter\"}]}, {\"data\": [{\"x\": [1, 3, 6], \"y\": [3.8929505348205566, 9.089735984802246, 16.88491439819336], \"type\": \"scatter\"}]}, {\"data\": [{\"x\": [1, 3, 6], \"y\": [3.894057512283325, 9.090213775634766, 16.884449005126953], \"type\": \"scatter\"}]}, {\"data\": [{\"x\": [1, 3, 6], \"y\": [3.8951640129089355, 9.090692520141602, 16.883983612060547], \"type\": \"scatter\"}]}, {\"data\": [{\"x\": [1, 3, 6], \"y\": [3.896270275115967, 9.091170310974121, 16.883520126342773], \"type\": \"scatter\"}]}, {\"data\": [{\"x\": [1, 3, 6], \"y\": [3.8973755836486816, 9.09164810180664, 16.883056640625], \"type\": \"scatter\"}]}, {\"data\": [{\"x\": [1, 3, 6], \"y\": [3.8984804153442383, 9.092124938964844, 16.882591247558594], \"type\": \"scatter\"}]}, {\"data\": [{\"x\": [1, 3, 6], \"y\": [3.8995847702026367, 9.092601776123047, 16.88212776184082], \"type\": \"scatter\"}]}, {\"data\": [{\"x\": [1, 3, 6], \"y\": [3.900688409805298, 9.09307861328125, 16.881664276123047], \"type\": \"scatter\"}]}, {\"data\": [{\"x\": [1, 3, 6], \"y\": [3.901791572570801, 9.093555450439453, 16.881200790405273], \"type\": \"scatter\"}]}, {\"data\": [{\"x\": [1, 3, 6], \"y\": [3.9028940200805664, 9.094032287597656, 16.880739212036133], \"type\": \"scatter\"}]}, {\"data\": [{\"x\": [1, 3, 6], \"y\": [3.903995990753174, 9.094507217407227, 16.88027572631836], \"type\": \"scatter\"}]}, {\"data\": [{\"x\": [1, 3, 6], \"y\": [3.905097246170044, 9.094983100891113, 16.879812240600586], \"type\": \"scatter\"}]}, {\"data\": [{\"x\": [1, 3, 6], \"y\": [3.906198024749756, 9.095458984375, 16.879350662231445], \"type\": \"scatter\"}]}, {\"data\": [{\"x\": [1, 3, 6], \"y\": [3.9072980880737305, 9.09593391418457, 16.878887176513672], \"type\": \"scatter\"}]}, {\"data\": [{\"x\": [1, 3, 6], \"y\": [3.908397674560547, 9.09640884399414, 16.87842559814453], \"type\": \"scatter\"}]}, {\"data\": [{\"x\": [1, 3, 6], \"y\": [3.909496784210205, 9.096883773803711, 16.87796401977539], \"type\": \"scatter\"}]}, {\"data\": [{\"x\": [1, 3, 6], \"y\": [3.910595417022705, 9.097358703613281, 16.87750244140625], \"type\": \"scatter\"}]}, {\"data\": [{\"x\": [1, 3, 6], \"y\": [3.9116933345794678, 9.097832679748535, 16.87704086303711], \"type\": \"scatter\"}]}, {\"data\": [{\"x\": [1, 3, 6], \"y\": [3.9127907752990723, 9.098306655883789, 16.8765811920166], \"type\": \"scatter\"}]}, {\"data\": [{\"x\": [1, 3, 6], \"y\": [3.9138875007629395, 9.09878158569336, 16.876121520996094], \"type\": \"scatter\"}]}, {\"data\": [{\"x\": [1, 3, 6], \"y\": [3.9149837493896484, 9.099254608154297, 16.875659942626953], \"type\": \"scatter\"}]}, {\"data\": [{\"x\": [1, 3, 6], \"y\": [3.91607928276062, 9.099727630615234, 16.875200271606445], \"type\": \"scatter\"}]}, {\"data\": [{\"x\": [1, 3, 6], \"y\": [3.9171743392944336, 9.100200653076172, 16.874740600585938], \"type\": \"scatter\"}]}, {\"data\": [{\"x\": [1, 3, 6], \"y\": [3.9182686805725098, 9.10067367553711, 16.87428092956543], \"type\": \"scatter\"}]}, {\"data\": [{\"x\": [1, 3, 6], \"y\": [3.9193625450134277, 9.101146697998047, 16.873821258544922], \"type\": \"scatter\"}]}, {\"data\": [{\"x\": [1, 3, 6], \"y\": [3.9204559326171875, 9.101618766784668, 16.873363494873047], \"type\": \"scatter\"}]}, {\"data\": [{\"x\": [1, 3, 6], \"y\": [3.92154860496521, 9.102090835571289, 16.87290382385254], \"type\": \"scatter\"}]}, {\"data\": [{\"x\": [1, 3, 6], \"y\": [3.922640800476074, 9.102561950683594, 16.87244415283203], \"type\": \"scatter\"}]}, {\"data\": [{\"x\": [1, 3, 6], \"y\": [3.923732280731201, 9.103034019470215, 16.871986389160156], \"type\": \"scatter\"}]}, {\"data\": [{\"x\": [1, 3, 6], \"y\": [3.92482328414917, 9.10350513458252, 16.87152671813965], \"type\": \"scatter\"}]}, {\"data\": [{\"x\": [1, 3, 6], \"y\": [3.9259135723114014, 9.103976249694824, 16.871068954467773], \"type\": \"scatter\"}]}, {\"data\": [{\"x\": [1, 3, 6], \"y\": [3.9270033836364746, 9.104447364807129, 16.87061309814453], \"type\": \"scatter\"}]}, {\"data\": [{\"x\": [1, 3, 6], \"y\": [3.9280927181243896, 9.104917526245117, 16.870153427124023], \"type\": \"scatter\"}]}, {\"data\": [{\"x\": [1, 3, 6], \"y\": [3.9291813373565674, 9.105386734008789, 16.86969566345215], \"type\": \"scatter\"}]}, {\"data\": [{\"x\": [1, 3, 6], \"y\": [3.930269479751587, 9.105857849121094, 16.869239807128906], \"type\": \"scatter\"}]}, {\"data\": [{\"x\": [1, 3, 6], \"y\": [3.9313571453094482, 9.106328010559082, 16.868783950805664], \"type\": \"scatter\"}]}, {\"data\": [{\"x\": [1, 3, 6], \"y\": [3.9324440956115723, 9.106797218322754, 16.868328094482422], \"type\": \"scatter\"}]}, {\"data\": [{\"x\": [1, 3, 6], \"y\": [3.933530569076538, 9.107266426086426, 16.867870330810547], \"type\": \"scatter\"}]}, {\"data\": [{\"x\": [1, 3, 6], \"y\": [3.9346165657043457, 9.107736587524414, 16.867416381835938], \"type\": \"scatter\"}]}, {\"data\": [{\"x\": [1, 3, 6], \"y\": [3.935701847076416, 9.10820484161377, 16.866960525512695], \"type\": \"scatter\"}]}, {\"data\": [{\"x\": [1, 3, 6], \"y\": [3.936786413192749, 9.108673095703125, 16.866504669189453], \"type\": \"scatter\"}]}, {\"data\": [{\"x\": [1, 3, 6], \"y\": [3.937870502471924, 9.109142303466797, 16.86604881286621], \"type\": \"scatter\"}]}, {\"data\": [{\"x\": [1, 3, 6], \"y\": [3.9389541149139404, 9.109609603881836, 16.86559295654297], \"type\": \"scatter\"}]}, {\"data\": [{\"x\": [1, 3, 6], \"y\": [3.940037250518799, 9.110077857971191, 16.86513900756836], \"type\": \"scatter\"}]}, {\"data\": [{\"x\": [1, 3, 6], \"y\": [3.94111967086792, 9.110546112060547, 16.86468505859375], \"type\": \"scatter\"}]}, {\"data\": [{\"x\": [1, 3, 6], \"y\": [3.942201614379883, 9.11101245880127, 16.864229202270508], \"type\": \"scatter\"}]}, {\"data\": [{\"x\": [1, 3, 6], \"y\": [3.9432828426361084, 9.111479759216309, 16.8637752532959], \"type\": \"scatter\"}]}, {\"data\": [{\"x\": [1, 3, 6], \"y\": [3.944363594055176, 9.111947059631348, 16.863323211669922], \"type\": \"scatter\"}]}, {\"data\": [{\"x\": [1, 3, 6], \"y\": [3.945443630218506, 9.11241340637207, 16.862869262695312], \"type\": \"scatter\"}]}, {\"data\": [{\"x\": [1, 3, 6], \"y\": [3.9465231895446777, 9.112879753112793, 16.86241340637207], \"type\": \"scatter\"}]}, {\"data\": [{\"x\": [1, 3, 6], \"y\": [3.9476022720336914, 9.113346099853516, 16.861961364746094], \"type\": \"scatter\"}]}, {\"data\": [{\"x\": [1, 3, 6], \"y\": [3.9486806392669678, 9.113811492919922, 16.861509323120117], \"type\": \"scatter\"}]}, {\"data\": [{\"x\": [1, 3, 6], \"y\": [3.949758529663086, 9.114277839660645, 16.861055374145508], \"type\": \"scatter\"}]}, {\"data\": [{\"x\": [1, 3, 6], \"y\": [3.950835943222046, 9.11474323272705, 16.86060333251953], \"type\": \"scatter\"}]}, {\"data\": [{\"x\": [1, 3, 6], \"y\": [3.9519126415252686, 9.11520767211914, 16.860149383544922], \"type\": \"scatter\"}]}, {\"data\": [{\"x\": [1, 3, 6], \"y\": [3.952988862991333, 9.115673065185547, 16.859699249267578], \"type\": \"scatter\"}]}, {\"data\": [{\"x\": [1, 3, 6], \"y\": [3.95406436920166, 9.116137504577637, 16.8592472076416], \"type\": \"scatter\"}]}, {\"data\": [{\"x\": [1, 3, 6], \"y\": [3.955139398574829, 9.116601943969727, 16.858795166015625], \"type\": \"scatter\"}]}, {\"data\": [{\"x\": [1, 3, 6], \"y\": [3.95621395111084, 9.1170654296875, 16.85834312438965], \"type\": \"scatter\"}]}, {\"data\": [{\"x\": [1, 3, 6], \"y\": [3.9572877883911133, 9.11752986907959, 16.857892990112305], \"type\": \"scatter\"}]}, {\"data\": [{\"x\": [1, 3, 6], \"y\": [3.9583611488342285, 9.117993354797363, 16.85744285583496], \"type\": \"scatter\"}]}, {\"data\": [{\"x\": [1, 3, 6], \"y\": [3.9594337940216064, 9.11845588684082, 16.856990814208984], \"type\": \"scatter\"}]}, {\"data\": [{\"x\": [1, 3, 6], \"y\": [3.960505962371826, 9.11892032623291, 16.85654067993164], \"type\": \"scatter\"}]}, {\"data\": [{\"x\": [1, 3, 6], \"y\": [3.961577892303467, 9.119382858276367, 16.856090545654297], \"type\": \"scatter\"}]}, {\"data\": [{\"x\": [1, 3, 6], \"y\": [3.962648868560791, 9.11984634399414, 16.855642318725586], \"type\": \"scatter\"}]}, {\"data\": [{\"x\": [1, 3, 6], \"y\": [3.963719606399536, 9.120307922363281, 16.855192184448242], \"type\": \"scatter\"}]}, {\"data\": [{\"x\": [1, 3, 6], \"y\": [3.964789867401123, 9.120771408081055, 16.85474395751953], \"type\": \"scatter\"}]}, {\"data\": [{\"x\": [1, 3, 6], \"y\": [3.9658591747283936, 9.121232986450195, 16.854293823242188], \"type\": \"scatter\"}]}, {\"data\": [{\"x\": [1, 3, 6], \"y\": [3.966928005218506, 9.121695518493652, 16.853845596313477], \"type\": \"scatter\"}]}, {\"data\": [{\"x\": [1, 3, 6], \"y\": [3.96799635887146, 9.122156143188477, 16.853397369384766], \"type\": \"scatter\"}]}, {\"data\": [{\"x\": [1, 3, 6], \"y\": [3.969064235687256, 9.122617721557617, 16.852949142456055], \"type\": \"scatter\"}]}, {\"data\": [{\"x\": [1, 3, 6], \"y\": [3.9701313972473145, 9.123078346252441, 16.85249900817871], \"type\": \"scatter\"}]}, {\"data\": [{\"x\": [1, 3, 6], \"y\": [3.971198081970215, 9.123539924621582, 16.852052688598633], \"type\": \"scatter\"}]}, {\"data\": [{\"x\": [1, 3, 6], \"y\": [3.972263813018799, 9.124000549316406, 16.851604461669922], \"type\": \"scatter\"}]}, {\"data\": [{\"x\": [1, 3, 6], \"y\": [3.973329544067383, 9.12446117401123, 16.851158142089844], \"type\": \"scatter\"}]}, {\"data\": [{\"x\": [1, 3, 6], \"y\": [3.9743943214416504, 9.124919891357422, 16.850709915161133], \"type\": \"scatter\"}]}, {\"data\": [{\"x\": [1, 3, 6], \"y\": [3.9754586219787598, 9.12537956237793, 16.850261688232422], \"type\": \"scatter\"}]}, {\"data\": [{\"x\": [1, 3, 6], \"y\": [3.976522445678711, 9.125840187072754, 16.849815368652344], \"type\": \"scatter\"}]}, {\"data\": [{\"x\": [1, 3, 6], \"y\": [3.977585792541504, 9.126298904418945, 16.849369049072266], \"type\": \"scatter\"}]}, {\"data\": [{\"x\": [1, 3, 6], \"y\": [3.9786481857299805, 9.126758575439453, 16.848922729492188], \"type\": \"scatter\"}]}, {\"data\": [{\"x\": [1, 3, 6], \"y\": [3.979710578918457, 9.127217292785645, 16.84847640991211], \"type\": \"scatter\"}]}, {\"data\": [{\"x\": [1, 3, 6], \"y\": [3.980772018432617, 9.127676010131836, 16.848031997680664], \"type\": \"scatter\"}]}, {\"data\": [{\"x\": [1, 3, 6], \"y\": [3.981832981109619, 9.128134727478027, 16.847585678100586], \"type\": \"scatter\"}]}, {\"data\": [{\"x\": [1, 3, 6], \"y\": [3.982893466949463, 9.128592491149902, 16.84714126586914], \"type\": \"scatter\"}]}, {\"data\": [{\"x\": [1, 3, 6], \"y\": [3.9839534759521484, 9.129050254821777, 16.846694946289062], \"type\": \"scatter\"}]}, {\"data\": [{\"x\": [1, 3, 6], \"y\": [3.9850125312805176, 9.129508018493652, 16.846250534057617], \"type\": \"scatter\"}]}, {\"data\": [{\"x\": [1, 3, 6], \"y\": [3.9860715866088867, 9.129964828491211, 16.845806121826172], \"type\": \"scatter\"}]}, {\"data\": [{\"x\": [1, 3, 6], \"y\": [3.9871296882629395, 9.13042163848877, 16.845359802246094], \"type\": \"scatter\"}]}, {\"data\": [{\"x\": [1, 3, 6], \"y\": [3.988187313079834, 9.130878448486328, 16.84491539001465], \"type\": \"scatter\"}]}, {\"data\": [{\"x\": [1, 3, 6], \"y\": [3.9892444610595703, 9.131335258483887, 16.844472885131836], \"type\": \"scatter\"}]}, {\"data\": [{\"x\": [1, 3, 6], \"y\": [3.9903006553649902, 9.131792068481445, 16.84402847290039], \"type\": \"scatter\"}]}, {\"data\": [{\"x\": [1, 3, 6], \"y\": [3.99135684967041, 9.132247924804688, 16.843584060668945], \"type\": \"scatter\"}]}, {\"data\": [{\"x\": [1, 3, 6], \"y\": [3.9924120903015137, 9.13270378112793, 16.843141555786133], \"type\": \"scatter\"}]}, {\"data\": [{\"x\": [1, 3, 6], \"y\": [3.993466854095459, 9.133159637451172, 16.842697143554688], \"type\": \"scatter\"}]}, {\"data\": [{\"x\": [1, 3, 6], \"y\": [3.994521141052246, 9.133614540100098, 16.842254638671875], \"type\": \"scatter\"}]}, {\"data\": [{\"x\": [1, 3, 6], \"y\": [3.995574951171875, 9.13407039642334, 16.841812133789062], \"type\": \"scatter\"}]}, {\"data\": [{\"x\": [1, 3, 6], \"y\": [3.9966282844543457, 9.13452434539795, 16.84136962890625], \"type\": \"scatter\"}]}, {\"data\": [{\"x\": [1, 3, 6], \"y\": [3.9976806640625, 9.134979248046875, 16.840927124023438], \"type\": \"scatter\"}]}, {\"data\": [{\"x\": [1, 3, 6], \"y\": [3.9987330436706543, 9.1354341506958, 16.840484619140625], \"type\": \"scatter\"}]}, {\"data\": [{\"x\": [1, 3, 6], \"y\": [3.999784469604492, 9.13588809967041, 16.840044021606445], \"type\": \"scatter\"}]}, {\"data\": [{\"x\": [1, 3, 6], \"y\": [4.000835418701172, 9.13634204864502, 16.839601516723633], \"type\": \"scatter\"}]}, {\"data\": [{\"x\": [1, 3, 6], \"y\": [4.001886367797852, 9.136795997619629, 16.839160919189453], \"type\": \"scatter\"}]}, {\"data\": [{\"x\": [1, 3, 6], \"y\": [4.002936363220215, 9.137249946594238, 16.838720321655273], \"type\": \"scatter\"}]}, {\"data\": [{\"x\": [1, 3, 6], \"y\": [4.003985404968262, 9.137702941894531, 16.838279724121094], \"type\": \"scatter\"}]}, {\"data\": [{\"x\": [1, 3, 6], \"y\": [4.005034446716309, 9.13815689086914, 16.837839126586914], \"type\": \"scatter\"}]}, {\"data\": [{\"x\": [1, 3, 6], \"y\": [4.006082534790039, 9.138608932495117, 16.837398529052734], \"type\": \"scatter\"}]}, {\"data\": [{\"x\": [1, 3, 6], \"y\": [4.0071306228637695, 9.13906192779541, 16.836957931518555], \"type\": \"scatter\"}]}, {\"data\": [{\"x\": [1, 3, 6], \"y\": [4.008177757263184, 9.139514923095703, 16.836519241333008], \"type\": \"scatter\"}]}, {\"data\": [{\"x\": [1, 3, 6], \"y\": [4.009223937988281, 9.139966011047363, 16.836078643798828], \"type\": \"scatter\"}]}, {\"data\": [{\"x\": [1, 3, 6], \"y\": [4.010270118713379, 9.14041805267334, 16.83563995361328], \"type\": \"scatter\"}]}, {\"data\": [{\"x\": [1, 3, 6], \"y\": [4.011315822601318, 9.140870094299316, 16.835201263427734], \"type\": \"scatter\"}]}, {\"data\": [{\"x\": [1, 3, 6], \"y\": [4.012360572814941, 9.141321182250977, 16.834762573242188], \"type\": \"scatter\"}]}, {\"data\": [{\"x\": [1, 3, 6], \"y\": [4.013404846191406, 9.141772270202637, 16.83432388305664], \"type\": \"scatter\"}]}, {\"data\": [{\"x\": [1, 3, 6], \"y\": [4.014449119567871, 9.142223358154297, 16.833885192871094], \"type\": \"scatter\"}]}, {\"data\": [{\"x\": [1, 3, 6], \"y\": [4.0154924392700195, 9.142674446105957, 16.833446502685547], \"type\": \"scatter\"}]}, {\"data\": [{\"x\": [1, 3, 6], \"y\": [4.01653528213501, 9.143125534057617, 16.833009719848633], \"type\": \"scatter\"}]}, {\"data\": [{\"x\": [1, 3, 6], \"y\": [4.017577648162842, 9.143575668334961, 16.83257293701172], \"type\": \"scatter\"}]}, {\"data\": [{\"x\": [1, 3, 6], \"y\": [4.018619537353516, 9.144025802612305, 16.832134246826172], \"type\": \"scatter\"}]}, {\"data\": [{\"x\": [1, 3, 6], \"y\": [4.019660472869873, 9.144475936889648, 16.831697463989258], \"type\": \"scatter\"}]}, {\"data\": [{\"x\": [1, 3, 6], \"y\": [4.0207014083862305, 9.144926071166992, 16.831262588500977], \"type\": \"scatter\"}]}, {\"data\": [{\"x\": [1, 3, 6], \"y\": [4.021740913391113, 9.145374298095703, 16.83082389831543], \"type\": \"scatter\"}]}, {\"data\": [{\"x\": [1, 3, 6], \"y\": [4.022780418395996, 9.14582347869873, 16.83038902282715], \"type\": \"scatter\"}]}, {\"data\": [{\"x\": [1, 3, 6], \"y\": [4.023819446563721, 9.146272659301758, 16.829952239990234], \"type\": \"scatter\"}]}, {\"data\": [{\"x\": [1, 3, 6], \"y\": [4.024857997894287, 9.146720886230469, 16.82951545715332], \"type\": \"scatter\"}]}, {\"data\": [{\"x\": [1, 3, 6], \"y\": [4.025896072387695, 9.14716911315918, 16.82908058166504], \"type\": \"scatter\"}]}, {\"data\": [{\"x\": [1, 3, 6], \"y\": [4.026933193206787, 9.14761734008789, 16.828643798828125], \"type\": \"scatter\"}]}, {\"data\": [{\"x\": [1, 3, 6], \"y\": [4.027969837188721, 9.148065567016602, 16.828208923339844], \"type\": \"scatter\"}]}, {\"data\": [{\"x\": [1, 3, 6], \"y\": [4.029006004333496, 9.148512840270996, 16.827774047851562], \"type\": \"scatter\"}]}, {\"data\": [{\"x\": [1, 3, 6], \"y\": [4.030041694641113, 9.14896011352539, 16.82733726501465], \"type\": \"scatter\"}]}, {\"data\": [{\"x\": [1, 3, 6], \"y\": [4.031076908111572, 9.149407386779785, 16.826904296875], \"type\": \"scatter\"}]}, {\"data\": [{\"x\": [1, 3, 6], \"y\": [4.032111167907715, 9.14985466003418, 16.82646942138672], \"type\": \"scatter\"}]}, {\"data\": [{\"x\": [1, 3, 6], \"y\": [4.033145427703857, 9.150300979614258, 16.826034545898438], \"type\": \"scatter\"}]}, {\"data\": [{\"x\": [1, 3, 6], \"y\": [4.034178733825684, 9.150747299194336, 16.825599670410156], \"type\": \"scatter\"}]}, {\"data\": [{\"x\": [1, 3, 6], \"y\": [4.03521203994751, 9.151193618774414, 16.825166702270508], \"type\": \"scatter\"}]}, {\"data\": [{\"x\": [1, 3, 6], \"y\": [4.0362443923950195, 9.151639938354492, 16.82473373413086], \"type\": \"scatter\"}]}, {\"data\": [{\"x\": [1, 3, 6], \"y\": [4.037276268005371, 9.15208625793457, 16.82430076599121], \"type\": \"scatter\"}]}, {\"data\": [{\"x\": [1, 3, 6], \"y\": [4.0383076667785645, 9.152531623840332, 16.823867797851562], \"type\": \"scatter\"}]}, {\"data\": [{\"x\": [1, 3, 6], \"y\": [4.0393385887146, 9.152976989746094, 16.823434829711914], \"type\": \"scatter\"}]}, {\"data\": [{\"x\": [1, 3, 6], \"y\": [4.040369033813477, 9.153422355651855, 16.823001861572266], \"type\": \"scatter\"}]}, {\"data\": [{\"x\": [1, 3, 6], \"y\": [4.041398525238037, 9.1538667678833, 16.822568893432617], \"type\": \"scatter\"}]}, {\"data\": [{\"x\": [1, 3, 6], \"y\": [4.0424275398254395, 9.154311180114746, 16.8221378326416], \"type\": \"scatter\"}]}, {\"data\": [{\"x\": [1, 3, 6], \"y\": [4.043456077575684, 9.154755592346191, 16.821704864501953], \"type\": \"scatter\"}]}, {\"data\": [{\"x\": [1, 3, 6], \"y\": [4.0444841384887695, 9.15519905090332, 16.821271896362305], \"type\": \"scatter\"}]}, {\"data\": [{\"x\": [1, 3, 6], \"y\": [4.045511722564697, 9.155643463134766, 16.82084083557129], \"type\": \"scatter\"}]}, {\"data\": [{\"x\": [1, 3, 6], \"y\": [4.046538829803467, 9.156087875366211, 16.820409774780273], \"type\": \"scatter\"}]}, {\"data\": [{\"x\": [1, 3, 6], \"y\": [4.047565460205078, 9.156530380249023, 16.819978713989258], \"type\": \"scatter\"}]}, {\"data\": [{\"x\": [1, 3, 6], \"y\": [4.048591136932373, 9.156973838806152, 16.819547653198242], \"type\": \"scatter\"}]}, {\"data\": [{\"x\": [1, 3, 6], \"y\": [4.049616813659668, 9.157417297363281, 16.81911849975586], \"type\": \"scatter\"}]}, {\"data\": [{\"x\": [1, 3, 6], \"y\": [4.0506415367126465, 9.157859802246094, 16.818687438964844], \"type\": \"scatter\"}]}, {\"data\": [{\"x\": [1, 3, 6], \"y\": [4.051665782928467, 9.158302307128906, 16.81825828552246], \"type\": \"scatter\"}]}, {\"data\": [{\"x\": [1, 3, 6], \"y\": [4.052689552307129, 9.158744812011719, 16.817827224731445], \"type\": \"scatter\"}]}, {\"data\": [{\"x\": [1, 3, 6], \"y\": [4.053712844848633, 9.159186363220215, 16.817398071289062], \"type\": \"scatter\"}]}, {\"data\": [{\"x\": [1, 3, 6], \"y\": [4.0547356605529785, 9.159628868103027, 16.81696891784668], \"type\": \"scatter\"}]}, {\"data\": [{\"x\": [1, 3, 6], \"y\": [4.055757522583008, 9.160069465637207, 16.816537857055664], \"type\": \"scatter\"}]}, {\"data\": [{\"x\": [1, 3, 6], \"y\": [4.056779384613037, 9.160511016845703, 16.81610870361328], \"type\": \"scatter\"}]}, {\"data\": [{\"x\": [1, 3, 6], \"y\": [4.05780029296875, 9.1609525680542, 16.81568145751953], \"type\": \"scatter\"}]}, {\"data\": [{\"x\": [1, 3, 6], \"y\": [4.058820724487305, 9.161393165588379, 16.81525230407715], \"type\": \"scatter\"}]}, {\"data\": [{\"x\": [1, 3, 6], \"y\": [4.059840679168701, 9.161833763122559, 16.814823150634766], \"type\": \"scatter\"}]}, {\"data\": [{\"x\": [1, 3, 6], \"y\": [4.060860633850098, 9.162275314331055, 16.814395904541016], \"type\": \"scatter\"}]}, {\"data\": [{\"x\": [1, 3, 6], \"y\": [4.0618791580200195, 9.162714004516602, 16.813966751098633], \"type\": \"scatter\"}]}, {\"data\": [{\"x\": [1, 3, 6], \"y\": [4.062897682189941, 9.163154602050781, 16.813539505004883], \"type\": \"scatter\"}]}, {\"data\": [{\"x\": [1, 3, 6], \"y\": [4.063915729522705, 9.163594245910645, 16.813112258911133], \"type\": \"scatter\"}]}, {\"data\": [{\"x\": [1, 3, 6], \"y\": [4.064932823181152, 9.164033889770508, 16.812685012817383], \"type\": \"scatter\"}]}, {\"data\": [{\"x\": [1, 3, 6], \"y\": [4.0659499168396, 9.164473533630371, 16.812257766723633], \"type\": \"scatter\"}]}, {\"data\": [{\"x\": [1, 3, 6], \"y\": [4.0669660568237305, 9.164912223815918, 16.811830520629883], \"type\": \"scatter\"}]}, {\"data\": [{\"x\": [1, 3, 6], \"y\": [4.067981719970703, 9.165350914001465, 16.811405181884766], \"type\": \"scatter\"}]}, {\"data\": [{\"x\": [1, 3, 6], \"y\": [4.068996906280518, 9.165789604187012, 16.81097984313965], \"type\": \"scatter\"}]}, {\"data\": [{\"x\": [1, 3, 6], \"y\": [4.070011615753174, 9.166227340698242, 16.8105525970459], \"type\": \"scatter\"}]}, {\"data\": [{\"x\": [1, 3, 6], \"y\": [4.071025848388672, 9.166666030883789, 16.81012535095215], \"type\": \"scatter\"}]}, {\"data\": [{\"x\": [1, 3, 6], \"y\": [4.0720391273498535, 9.16710376739502, 16.809701919555664], \"type\": \"scatter\"}]}, {\"data\": [{\"x\": [1, 3, 6], \"y\": [4.073052406311035, 9.16754150390625, 16.809274673461914], \"type\": \"scatter\"}]}, {\"data\": [{\"x\": [1, 3, 6], \"y\": [4.0740647315979, 9.16797924041748, 16.808849334716797], \"type\": \"scatter\"}]}, {\"data\": [{\"x\": [1, 3, 6], \"y\": [4.075077056884766, 9.168416023254395, 16.808425903320312], \"type\": \"scatter\"}]}, {\"data\": [{\"x\": [1, 3, 6], \"y\": [4.0760884284973145, 9.168852806091309, 16.808000564575195], \"type\": \"scatter\"}]}, {\"data\": [{\"x\": [1, 3, 6], \"y\": [4.077099323272705, 9.169290542602539, 16.807575225830078], \"type\": \"scatter\"}]}, {\"data\": [{\"x\": [1, 3, 6], \"y\": [4.0781097412109375, 9.169726371765137, 16.807151794433594], \"type\": \"scatter\"}]}, {\"data\": [{\"x\": [1, 3, 6], \"y\": [4.079119682312012, 9.170162200927734, 16.806726455688477], \"type\": \"scatter\"}]}, {\"data\": [{\"x\": [1, 3, 6], \"y\": [4.0801286697387695, 9.170598983764648, 16.806304931640625], \"type\": \"scatter\"}]}, {\"data\": [{\"x\": [1, 3, 6], \"y\": [4.081137657165527, 9.17103385925293, 16.805879592895508], \"type\": \"scatter\"}]}, {\"data\": [{\"x\": [1, 3, 6], \"y\": [4.082145690917969, 9.171469688415527, 16.805456161499023], \"type\": \"scatter\"}]}, {\"data\": [{\"x\": [1, 3, 6], \"y\": [4.08315372467041, 9.171905517578125, 16.80503273010254], \"type\": \"scatter\"}]}, {\"data\": [{\"x\": [1, 3, 6], \"y\": [4.084160804748535, 9.172340393066406, 16.804609298706055], \"type\": \"scatter\"}]}, {\"data\": [{\"x\": [1, 3, 6], \"y\": [4.08516788482666, 9.172775268554688, 16.804187774658203], \"type\": \"scatter\"}]}, {\"data\": [{\"x\": [1, 3, 6], \"y\": [4.0861735343933105, 9.173210144042969, 16.80376434326172], \"type\": \"scatter\"}]}, {\"data\": [{\"x\": [1, 3, 6], \"y\": [4.087179183959961, 9.173644065856934, 16.803340911865234], \"type\": \"scatter\"}]}, {\"data\": [{\"x\": [1, 3, 6], \"y\": [4.088184356689453, 9.174078941345215, 16.802919387817383], \"type\": \"scatter\"}]}, {\"data\": [{\"x\": [1, 3, 6], \"y\": [4.089189052581787, 9.174511909484863, 16.80249786376953], \"type\": \"scatter\"}]}, {\"data\": [{\"x\": [1, 3, 6], \"y\": [4.090192794799805, 9.174945831298828, 16.80207633972168], \"type\": \"scatter\"}]}, {\"data\": [{\"x\": [1, 3, 6], \"y\": [4.091196537017822, 9.175379753112793, 16.801654815673828], \"type\": \"scatter\"}]}, {\"data\": [{\"x\": [1, 3, 6], \"y\": [4.092199325561523, 9.175812721252441, 16.801233291625977], \"type\": \"scatter\"}]}, {\"data\": [{\"x\": [1, 3, 6], \"y\": [4.093202114105225, 9.176246643066406, 16.800811767578125], \"type\": \"scatter\"}]}, {\"data\": [{\"x\": [1, 3, 6], \"y\": [4.094203948974609, 9.176679611206055, 16.800392150878906], \"type\": \"scatter\"}]}, {\"data\": [{\"x\": [1, 3, 6], \"y\": [4.095205307006836, 9.177111625671387, 16.799970626831055], \"type\": \"scatter\"}]}, {\"data\": [{\"x\": [1, 3, 6], \"y\": [4.0962066650390625, 9.177544593811035, 16.799551010131836], \"type\": \"scatter\"}]}, {\"data\": [{\"x\": [1, 3, 6], \"y\": [4.097207069396973, 9.177976608276367, 16.799131393432617], \"type\": \"scatter\"}]}, {\"data\": [{\"x\": [1, 3, 6], \"y\": [4.098206520080566, 9.178407669067383, 16.798709869384766], \"type\": \"scatter\"}]}, {\"data\": [{\"x\": [1, 3, 6], \"y\": [4.09920597076416, 9.178840637207031, 16.79829216003418], \"type\": \"scatter\"}]}, {\"data\": [{\"x\": [1, 3, 6], \"y\": [4.100204944610596, 9.179271697998047, 16.797870635986328], \"type\": \"scatter\"}]}, {\"data\": [{\"x\": [1, 3, 6], \"y\": [4.101202964782715, 9.179702758789062, 16.797452926635742], \"type\": \"scatter\"}]}, {\"data\": [{\"x\": [1, 3, 6], \"y\": [4.102200984954834, 9.180133819580078, 16.797035217285156], \"type\": \"scatter\"}]}, {\"data\": [{\"x\": [1, 3, 6], \"y\": [4.103198051452637, 9.180564880371094, 16.796615600585938], \"type\": \"scatter\"}]}, {\"data\": [{\"x\": [1, 3, 6], \"y\": [4.104194641113281, 9.18099594116211, 16.79619598388672], \"type\": \"scatter\"}]}, {\"data\": [{\"x\": [1, 3, 6], \"y\": [4.105191230773926, 9.181426048278809, 16.795778274536133], \"type\": \"scatter\"}]}, {\"data\": [{\"x\": [1, 3, 6], \"y\": [4.106186866760254, 9.181856155395508, 16.795360565185547], \"type\": \"scatter\"}]}, {\"data\": [{\"x\": [1, 3, 6], \"y\": [4.107181549072266, 9.182286262512207, 16.79494285583496], \"type\": \"scatter\"}]}, {\"data\": [{\"x\": [1, 3, 6], \"y\": [4.108176231384277, 9.18271541595459, 16.794525146484375], \"type\": \"scatter\"}]}, {\"data\": [{\"x\": [1, 3, 6], \"y\": [4.109170436859131, 9.183145523071289, 16.79410743713379], \"type\": \"scatter\"}]}, {\"data\": [{\"x\": [1, 3, 6], \"y\": [4.110164165496826, 9.183574676513672, 16.793691635131836], \"type\": \"scatter\"}]}, {\"data\": [{\"x\": [1, 3, 6], \"y\": [4.111156940460205, 9.184003829956055, 16.79327392578125], \"type\": \"scatter\"}]}, {\"data\": [{\"x\": [1, 3, 6], \"y\": [4.112149715423584, 9.184432029724121, 16.792856216430664], \"type\": \"scatter\"}]}, {\"data\": [{\"x\": [1, 3, 6], \"y\": [4.1131415367126465, 9.184860229492188, 16.792438507080078], \"type\": \"scatter\"}]}, {\"data\": [{\"x\": [1, 3, 6], \"y\": [4.114132881164551, 9.18528938293457, 16.792022705078125], \"type\": \"scatter\"}]}, {\"data\": [{\"x\": [1, 3, 6], \"y\": [4.115123748779297, 9.185717582702637, 16.791606903076172], \"type\": \"scatter\"}]}, {\"data\": [{\"x\": [1, 3, 6], \"y\": [4.116114616394043, 9.186145782470703, 16.79119110107422], \"type\": \"scatter\"}]}, {\"data\": [{\"x\": [1, 3, 6], \"y\": [4.117104530334473, 9.186573028564453, 16.790775299072266], \"type\": \"scatter\"}]}, {\"data\": [{\"x\": [1, 3, 6], \"y\": [4.118093490600586, 9.186999320983887, 16.790359497070312], \"type\": \"scatter\"}]}, {\"data\": [{\"x\": [1, 3, 6], \"y\": [4.119082450866699, 9.187427520751953, 16.78994369506836], \"type\": \"scatter\"}]}, {\"data\": [{\"x\": [1, 3, 6], \"y\": [4.120070934295654, 9.187853813171387, 16.78952980041504], \"type\": \"scatter\"}]}, {\"data\": [{\"x\": [1, 3, 6], \"y\": [4.121058464050293, 9.18828010559082, 16.789113998413086], \"type\": \"scatter\"}]}, {\"data\": [{\"x\": [1, 3, 6], \"y\": [4.122045993804932, 9.18870735168457, 16.788698196411133], \"type\": \"scatter\"}]}, {\"data\": [{\"x\": [1, 3, 6], \"y\": [4.123032569885254, 9.189133644104004, 16.788286209106445], \"type\": \"scatter\"}]}, {\"data\": [{\"x\": [1, 3, 6], \"y\": [4.124019145965576, 9.189559936523438, 16.787872314453125], \"type\": \"scatter\"}]}, {\"data\": [{\"x\": [1, 3, 6], \"y\": [4.125004768371582, 9.189985275268555, 16.787456512451172], \"type\": \"scatter\"}]}, {\"data\": [{\"x\": [1, 3, 6], \"y\": [4.12598991394043, 9.190411567687988, 16.78704261779785], \"type\": \"scatter\"}]}, {\"data\": [{\"x\": [1, 3, 6], \"y\": [4.126974582672119, 9.190835952758789, 16.78662872314453], \"type\": \"scatter\"}]}, {\"data\": [{\"x\": [1, 3, 6], \"y\": [4.12795877456665, 9.191262245178223, 16.786216735839844], \"type\": \"scatter\"}]}, {\"data\": [{\"x\": [1, 3, 6], \"y\": [4.128942489624023, 9.191686630249023, 16.785802841186523], \"type\": \"scatter\"}]}, {\"data\": [{\"x\": [1, 3, 6], \"y\": [4.129925727844238, 9.19211196899414, 16.785390853881836], \"type\": \"scatter\"}]}, {\"data\": [{\"x\": [1, 3, 6], \"y\": [4.130908012390137, 9.192535400390625, 16.784976959228516], \"type\": \"scatter\"}]}, {\"data\": [{\"x\": [1, 3, 6], \"y\": [4.131890296936035, 9.192959785461426, 16.784564971923828], \"type\": \"scatter\"}]}, {\"data\": [{\"x\": [1, 3, 6], \"y\": [4.132872104644775, 9.193384170532227, 16.784151077270508], \"type\": \"scatter\"}]}, {\"data\": [{\"x\": [1, 3, 6], \"y\": [4.133852958679199, 9.193807601928711, 16.78373908996582], \"type\": \"scatter\"}]}, {\"data\": [{\"x\": [1, 3, 6], \"y\": [4.134833335876465, 9.194231033325195, 16.783327102661133], \"type\": \"scatter\"}]}, {\"data\": [{\"x\": [1, 3, 6], \"y\": [4.1358137130737305, 9.19465446472168, 16.782917022705078], \"type\": \"scatter\"}]}, {\"data\": [{\"x\": [1, 3, 6], \"y\": [4.13679313659668, 9.195077896118164, 16.78250503540039], \"type\": \"scatter\"}]}, {\"data\": [{\"x\": [1, 3, 6], \"y\": [4.137772560119629, 9.195501327514648, 16.782094955444336], \"type\": \"scatter\"}]}, {\"data\": [{\"x\": [1, 3, 6], \"y\": [4.138751029968262, 9.195923805236816, 16.78168296813965], \"type\": \"scatter\"}]}, {\"data\": [{\"x\": [1, 3, 6], \"y\": [4.139728546142578, 9.196346282958984, 16.78127098083496], \"type\": \"scatter\"}]}, {\"data\": [{\"x\": [1, 3, 6], \"y\": [4.140706539154053, 9.196768760681152, 16.780860900878906], \"type\": \"scatter\"}]}, {\"data\": [{\"x\": [1, 3, 6], \"y\": [4.141683578491211, 9.197190284729004, 16.78045082092285], \"type\": \"scatter\"}]}, {\"data\": [{\"x\": [1, 3, 6], \"y\": [4.142659664154053, 9.197612762451172, 16.780040740966797], \"type\": \"scatter\"}]}, {\"data\": [{\"x\": [1, 3, 6], \"y\": [4.1436357498168945, 9.198034286499023, 16.779632568359375], \"type\": \"scatter\"}]}, {\"data\": [{\"x\": [1, 3, 6], \"y\": [4.144611358642578, 9.198455810546875, 16.77922248840332], \"type\": \"scatter\"}]}, {\"data\": [{\"x\": [1, 3, 6], \"y\": [4.145586013793945, 9.198877334594727, 16.778812408447266], \"type\": \"scatter\"}]}, {\"data\": [{\"x\": [1, 3, 6], \"y\": [4.1465606689453125, 9.199297904968262, 16.778404235839844], \"type\": \"scatter\"}]}, {\"data\": [{\"x\": [1, 3, 6], \"y\": [4.147534370422363, 9.199718475341797, 16.77799415588379], \"type\": \"scatter\"}]}, {\"data\": [{\"x\": [1, 3, 6], \"y\": [4.148508071899414, 9.200139045715332, 16.777585983276367], \"type\": \"scatter\"}]}, {\"data\": [{\"x\": [1, 3, 6], \"y\": [4.149480819702148, 9.200559616088867, 16.777177810668945], \"type\": \"scatter\"}]}, {\"data\": [{\"x\": [1, 3, 6], \"y\": [4.150453090667725, 9.200980186462402, 16.776769638061523], \"type\": \"scatter\"}]}, {\"data\": [{\"x\": [1, 3, 6], \"y\": [4.151424884796143, 9.201399803161621, 16.7763614654541], \"type\": \"scatter\"}]}, {\"data\": [{\"x\": [1, 3, 6], \"y\": [4.152396202087402, 9.201818466186523, 16.77595329284668], \"type\": \"scatter\"}]}, {\"data\": [{\"x\": [1, 3, 6], \"y\": [4.153367042541504, 9.202238082885742, 16.775545120239258], \"type\": \"scatter\"}]}, {\"data\": [{\"x\": [1, 3, 6], \"y\": [4.154337406158447, 9.202657699584961, 16.775136947631836], \"type\": \"scatter\"}]}, {\"data\": [{\"x\": [1, 3, 6], \"y\": [4.155307292938232, 9.20307731628418, 16.774730682373047], \"type\": \"scatter\"}]}, {\"data\": [{\"x\": [1, 3, 6], \"y\": [4.156276702880859, 9.203495979309082, 16.774324417114258], \"type\": \"scatter\"}]}, {\"data\": [{\"x\": [1, 3, 6], \"y\": [4.157245635986328, 9.203913688659668, 16.773916244506836], \"type\": \"scatter\"}]}, {\"data\": [{\"x\": [1, 3, 6], \"y\": [4.1582136154174805, 9.20433235168457, 16.773509979248047], \"type\": \"scatter\"}]}, {\"data\": [{\"x\": [1, 3, 6], \"y\": [4.159181594848633, 9.204751014709473, 16.773103713989258], \"type\": \"scatter\"}]}, {\"data\": [{\"x\": [1, 3, 6], \"y\": [4.160148620605469, 9.205168724060059, 16.77269744873047], \"type\": \"scatter\"}]}, {\"data\": [{\"x\": [1, 3, 6], \"y\": [4.161115646362305, 9.205585479736328, 16.77229118347168], \"type\": \"scatter\"}]}, {\"data\": [{\"x\": [1, 3, 6], \"y\": [4.162081718444824, 9.206003189086914, 16.77188491821289], \"type\": \"scatter\"}]}, {\"data\": [{\"x\": [1, 3, 6], \"y\": [4.163047790527344, 9.2064208984375, 16.771480560302734], \"type\": \"scatter\"}]}, {\"data\": [{\"x\": [1, 3, 6], \"y\": [4.164012908935547, 9.20683765411377, 16.771074295043945], \"type\": \"scatter\"}]}, {\"data\": [{\"x\": [1, 3, 6], \"y\": [4.164977550506592, 9.207254409790039, 16.77066993713379], \"type\": \"scatter\"}]}, {\"data\": [{\"x\": [1, 3, 6], \"y\": [4.1659417152404785, 9.207670211791992, 16.770263671875], \"type\": \"scatter\"}]}, {\"data\": [{\"x\": [1, 3, 6], \"y\": [4.166905403137207, 9.208086967468262, 16.769859313964844], \"type\": \"scatter\"}]}, {\"data\": [{\"x\": [1, 3, 6], \"y\": [4.167868614196777, 9.208503723144531, 16.769454956054688], \"type\": \"scatter\"}]}, {\"data\": [{\"x\": [1, 3, 6], \"y\": [4.1688313484191895, 9.208919525146484, 16.76905059814453], \"type\": \"scatter\"}]}, {\"data\": [{\"x\": [1, 3, 6], \"y\": [4.169793605804443, 9.209335327148438, 16.768646240234375], \"type\": \"scatter\"}]}, {\"data\": [{\"x\": [1, 3, 6], \"y\": [4.170755386352539, 9.209750175476074, 16.76824188232422], \"type\": \"scatter\"}]}, {\"data\": [{\"x\": [1, 3, 6], \"y\": [4.171716213226318, 9.210165023803711, 16.767839431762695], \"type\": \"scatter\"}]}, {\"data\": [{\"x\": [1, 3, 6], \"y\": [4.172677040100098, 9.210580825805664, 16.76743507385254], \"type\": \"scatter\"}]}, {\"data\": [{\"x\": [1, 3, 6], \"y\": [4.173637390136719, 9.2109956741333, 16.767032623291016], \"type\": \"scatter\"}]}, {\"data\": [{\"x\": [1, 3, 6], \"y\": [4.174596786499023, 9.211409568786621, 16.76662826538086], \"type\": \"scatter\"}]}, {\"data\": [{\"x\": [1, 3, 6], \"y\": [4.175556182861328, 9.211823463439941, 16.766225814819336], \"type\": \"scatter\"}]}, {\"data\": [{\"x\": [1, 3, 6], \"y\": [4.176514625549316, 9.212238311767578, 16.765823364257812], \"type\": \"scatter\"}]}, {\"data\": [{\"x\": [1, 3, 6], \"y\": [4.177473068237305, 9.212652206420898, 16.76542091369629], \"type\": \"scatter\"}]}, {\"data\": [{\"x\": [1, 3, 6], \"y\": [4.178430557250977, 9.213065147399902, 16.765018463134766], \"type\": \"scatter\"}]}, {\"data\": [{\"x\": [1, 3, 6], \"y\": [4.179388046264648, 9.213479042053223, 16.764616012573242], \"type\": \"scatter\"}]}, {\"data\": [{\"x\": [1, 3, 6], \"y\": [4.180344581604004, 9.213891983032227, 16.76421356201172], \"type\": \"scatter\"}]}, {\"data\": [{\"x\": [1, 3, 6], \"y\": [4.181300640106201, 9.21430492401123, 16.763813018798828], \"type\": \"scatter\"}]}, {\"data\": [{\"x\": [1, 3, 6], \"y\": [4.18225622177124, 9.214717864990234, 16.763412475585938], \"type\": \"scatter\"}]}, {\"data\": [{\"x\": [1, 3, 6], \"y\": [4.183211326599121, 9.215130805969238, 16.763010025024414], \"type\": \"scatter\"}]}, {\"data\": [{\"x\": [1, 3, 6], \"y\": [4.184165954589844, 9.215542793273926, 16.762609481811523], \"type\": \"scatter\"}]}, {\"data\": [{\"x\": [1, 3, 6], \"y\": [4.185120105743408, 9.215954780578613, 16.76220703125], \"type\": \"scatter\"}]}, {\"data\": [{\"x\": [1, 3, 6], \"y\": [4.1860737800598145, 9.2163667678833, 16.76180648803711], \"type\": \"scatter\"}]}, {\"data\": [{\"x\": [1, 3, 6], \"y\": [4.1870269775390625, 9.216778755187988, 16.76140785217285], \"type\": \"scatter\"}]}, {\"data\": [{\"x\": [1, 3, 6], \"y\": [4.187979698181152, 9.217190742492676, 16.76100730895996], \"type\": \"scatter\"}]}, {\"data\": [{\"x\": [1, 3, 6], \"y\": [4.188931465148926, 9.217601776123047, 16.76060676574707], \"type\": \"scatter\"}]}, {\"data\": [{\"x\": [1, 3, 6], \"y\": [4.189883232116699, 9.218012809753418, 16.76020622253418], \"type\": \"scatter\"}]}, {\"data\": [{\"x\": [1, 3, 6], \"y\": [4.190834045410156, 9.218423843383789, 16.759807586669922], \"type\": \"scatter\"}]}, {\"data\": [{\"x\": [1, 3, 6], \"y\": [4.191784858703613, 9.218833923339844, 16.759408950805664], \"type\": \"scatter\"}]}, {\"data\": [{\"x\": [1, 3, 6], \"y\": [4.192735195159912, 9.219244956970215, 16.759008407592773], \"type\": \"scatter\"}]}, {\"data\": [{\"x\": [1, 3, 6], \"y\": [4.1936845779418945, 9.21965503692627, 16.75861167907715], \"type\": \"scatter\"}]}, {\"data\": [{\"x\": [1, 3, 6], \"y\": [4.194633960723877, 9.220065116882324, 16.75821304321289], \"type\": \"scatter\"}]}, {\"data\": [{\"x\": [1, 3, 6], \"y\": [4.195582389831543, 9.220474243164062, 16.7578125], \"type\": \"scatter\"}]}, {\"data\": [{\"x\": [1, 3, 6], \"y\": [4.196530818939209, 9.220884323120117, 16.757415771484375], \"type\": \"scatter\"}]}, {\"data\": [{\"x\": [1, 3, 6], \"y\": [4.197478294372559, 9.221294403076172, 16.757017135620117], \"type\": \"scatter\"}]}, {\"data\": [{\"x\": [1, 3, 6], \"y\": [4.19842529296875, 9.22170352935791, 16.756620407104492], \"type\": \"scatter\"}]}, {\"data\": [{\"x\": [1, 3, 6], \"y\": [4.199372291564941, 9.222112655639648, 16.756221771240234], \"type\": \"scatter\"}]}, {\"data\": [{\"x\": [1, 3, 6], \"y\": [4.200318336486816, 9.22252082824707, 16.75582504272461], \"type\": \"scatter\"}]}, {\"data\": [{\"x\": [1, 3, 6], \"y\": [4.201263904571533, 9.222929954528809, 16.755428314208984], \"type\": \"scatter\"}]}, {\"data\": [{\"x\": [1, 3, 6], \"y\": [4.202208995819092, 9.22333812713623, 16.75503158569336], \"type\": \"scatter\"}]}, {\"data\": [{\"x\": [1, 3, 6], \"y\": [4.203153610229492, 9.223746299743652, 16.754634857177734], \"type\": \"scatter\"}]}, {\"data\": [{\"x\": [1, 3, 6], \"y\": [4.204097747802734, 9.224153518676758, 16.75423812866211], \"type\": \"scatter\"}]}, {\"data\": [{\"x\": [1, 3, 6], \"y\": [4.205041885375977, 9.22456169128418, 16.753841400146484], \"type\": \"scatter\"}]}, {\"data\": [{\"x\": [1, 3, 6], \"y\": [4.205985069274902, 9.224969863891602, 16.753446578979492], \"type\": \"scatter\"}]}, {\"data\": [{\"x\": [1, 3, 6], \"y\": [4.20692777633667, 9.22537612915039, 16.753049850463867], \"type\": \"scatter\"}]}, {\"data\": [{\"x\": [1, 3, 6], \"y\": [4.207870006561279, 9.225783348083496, 16.752655029296875], \"type\": \"scatter\"}]}, {\"data\": [{\"x\": [1, 3, 6], \"y\": [4.2088117599487305, 9.226190567016602, 16.75225830078125], \"type\": \"scatter\"}]}, {\"data\": [{\"x\": [1, 3, 6], \"y\": [4.209753036499023, 9.22659683227539, 16.751863479614258], \"type\": \"scatter\"}]}, {\"data\": [{\"x\": [1, 3, 6], \"y\": [4.210693359375, 9.22700309753418, 16.751468658447266], \"type\": \"scatter\"}]}, {\"data\": [{\"x\": [1, 3, 6], \"y\": [4.211633682250977, 9.227409362792969, 16.75107192993164], \"type\": \"scatter\"}]}, {\"data\": [{\"x\": [1, 3, 6], \"y\": [4.212573528289795, 9.227815628051758, 16.75067901611328], \"type\": \"scatter\"}]}, {\"data\": [{\"x\": [1, 3, 6], \"y\": [4.213512420654297, 9.22822093963623, 16.75028419494629], \"type\": \"scatter\"}]}, {\"data\": [{\"x\": [1, 3, 6], \"y\": [4.214451313018799, 9.228626251220703, 16.749889373779297], \"type\": \"scatter\"}]}, {\"data\": [{\"x\": [1, 3, 6], \"y\": [4.215389251708984, 9.229031562805176, 16.749494552612305], \"type\": \"scatter\"}]}, {\"data\": [{\"x\": [1, 3, 6], \"y\": [4.21632719039917, 9.229436874389648, 16.749101638793945], \"type\": \"scatter\"}]}, {\"data\": [{\"x\": [1, 3, 6], \"y\": [4.217264652252197, 9.229842185974121, 16.748708724975586], \"type\": \"scatter\"}]}, {\"data\": [{\"x\": [1, 3, 6], \"y\": [4.218201160430908, 9.230246543884277, 16.748315811157227], \"type\": \"scatter\"}]}, {\"data\": [{\"x\": [1, 3, 6], \"y\": [4.219137668609619, 9.230650901794434, 16.747920989990234], \"type\": \"scatter\"}]}, {\"data\": [{\"x\": [1, 3, 6], \"y\": [4.220073223114014, 9.23105525970459, 16.747528076171875], \"type\": \"scatter\"}]}, {\"data\": [{\"x\": [1, 3, 6], \"y\": [4.22100830078125, 9.231459617614746, 16.747135162353516], \"type\": \"scatter\"}]}, {\"data\": [{\"x\": [1, 3, 6], \"y\": [4.221943378448486, 9.231863975524902, 16.74674415588379], \"type\": \"scatter\"}]}, {\"data\": [{\"x\": [1, 3, 6], \"y\": [4.222877502441406, 9.232267379760742, 16.74635124206543], \"type\": \"scatter\"}]}, {\"data\": [{\"x\": [1, 3, 6], \"y\": [4.223811626434326, 9.232670783996582, 16.74595832824707], \"type\": \"scatter\"}]}, {\"data\": [{\"x\": [1, 3, 6], \"y\": [4.22474479675293, 9.233073234558105, 16.745567321777344], \"type\": \"scatter\"}]}, {\"data\": [{\"x\": [1, 3, 6], \"y\": [4.225677490234375, 9.233476638793945, 16.745176315307617], \"type\": \"scatter\"}]}, {\"data\": [{\"x\": [1, 3, 6], \"y\": [4.22661018371582, 9.233879089355469, 16.744783401489258], \"type\": \"scatter\"}]}, {\"data\": [{\"x\": [1, 3, 6], \"y\": [4.227541923522949, 9.234281539916992, 16.74439239501953], \"type\": \"scatter\"}]}, {\"data\": [{\"x\": [1, 3, 6], \"y\": [4.22847318649292, 9.234684944152832, 16.744001388549805], \"type\": \"scatter\"}]}, {\"data\": [{\"x\": [1, 3, 6], \"y\": [4.229403972625732, 9.235086441040039, 16.743610382080078], \"type\": \"scatter\"}]}, {\"data\": [{\"x\": [1, 3, 6], \"y\": [4.230334281921387, 9.235488891601562, 16.743221282958984], \"type\": \"scatter\"}]}, {\"data\": [{\"x\": [1, 3, 6], \"y\": [4.231264114379883, 9.23589038848877, 16.742828369140625], \"type\": \"scatter\"}]}, {\"data\": [{\"x\": [1, 3, 6], \"y\": [4.232193946838379, 9.236291885375977, 16.74243927001953], \"type\": \"scatter\"}]}, {\"data\": [{\"x\": [1, 3, 6], \"y\": [4.233122825622559, 9.236693382263184, 16.742050170898438], \"type\": \"scatter\"}]}, {\"data\": [{\"x\": [1, 3, 6], \"y\": [4.23405122756958, 9.23709487915039, 16.74165916442871], \"type\": \"scatter\"}]}, {\"data\": [{\"x\": [1, 3, 6], \"y\": [4.234979152679443, 9.237495422363281, 16.741270065307617], \"type\": \"scatter\"}]}, {\"data\": [{\"x\": [1, 3, 6], \"y\": [4.235906600952148, 9.237895965576172, 16.74087905883789], \"type\": \"scatter\"}]}, {\"data\": [{\"x\": [1, 3, 6], \"y\": [4.236833572387695, 9.238296508789062, 16.740489959716797], \"type\": \"scatter\"}]}, {\"data\": [{\"x\": [1, 3, 6], \"y\": [4.237760066986084, 9.238696098327637, 16.740100860595703], \"type\": \"scatter\"}]}, {\"data\": [{\"x\": [1, 3, 6], \"y\": [4.2386860847473145, 9.239096641540527, 16.739713668823242], \"type\": \"scatter\"}]}, {\"data\": [{\"x\": [1, 3, 6], \"y\": [4.239611625671387, 9.239496231079102, 16.73932456970215], \"type\": \"scatter\"}]}, {\"data\": [{\"x\": [1, 3, 6], \"y\": [4.240536689758301, 9.239896774291992, 16.738935470581055], \"type\": \"scatter\"}]}, {\"data\": [{\"x\": [1, 3, 6], \"y\": [4.241460800170898, 9.24029541015625, 16.738548278808594], \"type\": \"scatter\"}]}, {\"data\": [{\"x\": [1, 3, 6], \"y\": [4.242384910583496, 9.240694046020508, 16.7381591796875], \"type\": \"scatter\"}]}, {\"data\": [{\"x\": [1, 3, 6], \"y\": [4.2433085441589355, 9.241093635559082, 16.737770080566406], \"type\": \"scatter\"}]}, {\"data\": [{\"x\": [1, 3, 6], \"y\": [4.244231700897217, 9.241493225097656, 16.737384796142578], \"type\": \"scatter\"}]}, {\"data\": [{\"x\": [1, 3, 6], \"y\": [4.24515438079834, 9.241891860961914, 16.736997604370117], \"type\": \"scatter\"}]}, {\"data\": [{\"x\": [1, 3, 6], \"y\": [4.246076583862305, 9.242289543151855, 16.736610412597656], \"type\": \"scatter\"}]}, {\"data\": [{\"x\": [1, 3, 6], \"y\": [4.246998310089111, 9.242688179016113, 16.736223220825195], \"type\": \"scatter\"}]}, {\"data\": [{\"x\": [1, 3, 6], \"y\": [4.247919082641602, 9.243085861206055, 16.735836029052734], \"type\": \"scatter\"}]}, {\"data\": [{\"x\": [1, 3, 6], \"y\": [4.248839855194092, 9.243483543395996, 16.735448837280273], \"type\": \"scatter\"}]}, {\"data\": [{\"x\": [1, 3, 6], \"y\": [4.249760150909424, 9.243881225585938, 16.735061645507812], \"type\": \"scatter\"}]}, {\"data\": [{\"x\": [1, 3, 6], \"y\": [4.250679969787598, 9.244278907775879, 16.734676361083984], \"type\": \"scatter\"}]}, {\"data\": [{\"x\": [1, 3, 6], \"y\": [4.251599311828613, 9.24467658996582, 16.734291076660156], \"type\": \"scatter\"}]}, {\"data\": [{\"x\": [1, 3, 6], \"y\": [4.2525177001953125, 9.245072364807129, 16.733905792236328], \"type\": \"scatter\"}]}, {\"data\": [{\"x\": [1, 3, 6], \"y\": [4.253436088562012, 9.24547004699707, 16.7335205078125], \"type\": \"scatter\"}]}, {\"data\": [{\"x\": [1, 3, 6], \"y\": [4.2543535232543945, 9.245865821838379, 16.733135223388672], \"type\": \"scatter\"}]}, {\"data\": [{\"x\": [1, 3, 6], \"y\": [4.255270957946777, 9.246261596679688, 16.73274803161621], \"type\": \"scatter\"}]}, {\"data\": [{\"x\": [1, 3, 6], \"y\": [4.256187915802002, 9.246658325195312, 16.732362747192383], \"type\": \"scatter\"}]}, {\"data\": [{\"x\": [1, 3, 6], \"y\": [4.25710391998291, 9.247054100036621, 16.731979370117188], \"type\": \"scatter\"}]}, {\"data\": [{\"x\": [1, 3, 6], \"y\": [4.258019924163818, 9.24744987487793, 16.731595993041992], \"type\": \"scatter\"}]}, {\"data\": [{\"x\": [1, 3, 6], \"y\": [4.258935451507568, 9.247845649719238, 16.731210708618164], \"type\": \"scatter\"}]}, {\"data\": [{\"x\": [1, 3, 6], \"y\": [4.259850025177002, 9.24824047088623, 16.73082733154297], \"type\": \"scatter\"}]}, {\"data\": [{\"x\": [1, 3, 6], \"y\": [4.2607645988464355, 9.248636245727539, 16.73044204711914], \"type\": \"scatter\"}]}, {\"data\": [{\"x\": [1, 3, 6], \"y\": [4.261678695678711, 9.249030113220215, 16.730056762695312], \"type\": \"scatter\"}]}, {\"data\": [{\"x\": [1, 3, 6], \"y\": [4.26259183883667, 9.249424934387207, 16.729673385620117], \"type\": \"scatter\"}]}, {\"data\": [{\"x\": [1, 3, 6], \"y\": [4.263504981994629, 9.2498197555542, 16.729291915893555], \"type\": \"scatter\"}]}, {\"data\": [{\"x\": [1, 3, 6], \"y\": [4.2644171714782715, 9.250213623046875, 16.72890853881836], \"type\": \"scatter\"}]}, {\"data\": [{\"x\": [1, 3, 6], \"y\": [4.265329360961914, 9.25060749053955, 16.728525161743164], \"type\": \"scatter\"}]}, {\"data\": [{\"x\": [1, 3, 6], \"y\": [4.266241073608398, 9.251001358032227, 16.7281436920166], \"type\": \"scatter\"}]}, {\"data\": [{\"x\": [1, 3, 6], \"y\": [4.267151832580566, 9.251395225524902, 16.727760314941406], \"type\": \"scatter\"}]}, {\"data\": [{\"x\": [1, 3, 6], \"y\": [4.268062591552734, 9.251788139343262, 16.72737693786621], \"type\": \"scatter\"}]}, {\"data\": [{\"x\": [1, 3, 6], \"y\": [4.268972396850586, 9.252181053161621, 16.72699546813965], \"type\": \"scatter\"}]}, {\"data\": [{\"x\": [1, 3, 6], \"y\": [4.2698822021484375, 9.252574920654297, 16.726613998413086], \"type\": \"scatter\"}]}, {\"data\": [{\"x\": [1, 3, 6], \"y\": [4.270791053771973, 9.252967834472656, 16.726232528686523], \"type\": \"scatter\"}]}, {\"data\": [{\"x\": [1, 3, 6], \"y\": [4.271699905395508, 9.2533597946167, 16.72585105895996], \"type\": \"scatter\"}]}]);}).then(function(){Plotly.animate('77bd7e5b-5a00-4d41-a58a-402a0af3826a');})\n",
       "        });</script><script type=\"text/javascript\">window.addEventListener(\"resize\", function(){window._Plotly.Plots.resize(document.getElementById(\"77bd7e5b-5a00-4d41-a58a-402a0af3826a\"));});</script>"
      ]
     },
     "metadata": {},
     "output_type": "display_data"
    }
   ],
   "source": [
    "\n",
    "from plotly.offline import init_notebook_mode, iplot\n",
    "from IPython.display import display, HTML\n",
    "\n",
    "init_notebook_mode(connected=True)\n",
    "\n",
    "figure = {'data': [{'x': x.flatten(), 'y': y.flatten()}],\n",
    "          'layout': {'xaxis': {'range': [0, 10], 'autorange': False},\n",
    "                     'yaxis': {'range': [0, 20], 'autorange': False},\n",
    "                     'title': 'Gradient Descent',\n",
    "                     'updatemenus': [{'type': 'buttons',\n",
    "                                      'buttons': [{'label': 'Play',\n",
    "                                                   'method': 'animate',\n",
    "                                                   'args': [None]}]}]\n",
    "                    },\n",
    "          'frames': li }\n",
    "# figure['frames']\n",
    "\n",
    "iplot(figure)"
   ]
  },
  {
   "cell_type": "markdown",
   "metadata": {},
   "source": []
  },
  {
   "cell_type": "code",
   "execution_count": null,
   "metadata": {},
   "outputs": [],
   "source": []
  },
  {
   "cell_type": "code",
   "execution_count": null,
   "metadata": {},
   "outputs": [],
   "source": []
  }
 ],
 "metadata": {
  "kernelspec": {
   "display_name": "Python 3",
   "language": "python",
   "name": "python3"
  },
  "language_info": {
   "codemirror_mode": {
    "name": "ipython",
    "version": 3
   },
   "file_extension": ".py",
   "mimetype": "text/x-python",
   "name": "python",
   "nbconvert_exporter": "python",
   "pygments_lexer": "ipython3",
   "version": "3.6.8"
  }
 },
 "nbformat": 4,
 "nbformat_minor": 2
}
