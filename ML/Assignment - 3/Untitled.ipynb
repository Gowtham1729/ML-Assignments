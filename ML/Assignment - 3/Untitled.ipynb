{
 "cells": [
  {
   "cell_type": "code",
   "execution_count": 1,
   "metadata": {},
   "outputs": [],
   "source": [
    "import plotly"
   ]
  },
  {
   "cell_type": "code",
   "execution_count": 2,
   "metadata": {},
   "outputs": [
    {
     "name": "stderr",
     "output_type": "stream",
     "text": [
      "/home/gowtham/anaconda3/lib/python3.6/site-packages/IPython/core/display.py:689: UserWarning:\n",
      "\n",
      "Consider using IPython.display.IFrame instead\n",
      "\n"
     ]
    },
    {
     "data": {
      "text/html": [
       "<iframe id=\"igraph\" scrolling=\"no\" style=\"border:none;\" seamless=\"seamless\" src=\"https://plot.ly/~Gowtham1729/14.embed\" height=\"525px\" width=\"100%\"></iframe>"
      ],
      "text/plain": [
       "<plotly.tools.PlotlyDisplay object>"
      ]
     },
     "execution_count": 2,
     "metadata": {},
     "output_type": "execute_result"
    }
   ],
   "source": [
    "import plotly.plotly as py\n",
    "import plotly.graph_objs as go\n",
    "\n",
    "# Create random data with numpy\n",
    "import numpy as np\n",
    "\n",
    "N = 1000\n",
    "random_x = np.random.randn(N)\n",
    "random_y = np.random.randn(N)\n",
    "\n",
    "# Create a trace\n",
    "trace = go.Scatter(\n",
    "    x = random_x,\n",
    "    y = random_y,\n",
    "    mode = 'markers'\n",
    ")\n",
    "\n",
    "data = [trace]\n",
    "\n",
    "# Plot and embed in ipython notebook!\n",
    "py.iplot(data, filename='basic-scatter')\n",
    "\n",
    "# or plot with: plot_url = py.plot(data, filename='basic-line')"
   ]
  },
  {
   "cell_type": "code",
   "execution_count": 3,
   "metadata": {},
   "outputs": [
    {
     "data": {
      "text/html": [
       "<script type=\"text/javascript\">window.PlotlyConfig = {MathJaxConfig: 'local'};</script><script type=\"text/javascript\">if (window.MathJax) {MathJax.Hub.Config({SVG: {font: \"STIX-Web\"}});}</script><script>requirejs.config({paths: { 'plotly': ['https://cdn.plot.ly/plotly-latest.min']},});if(!window._Plotly) {require(['plotly'],function(plotly) {window._Plotly=plotly;});}</script>"
      ],
      "text/vnd.plotly.v1+html": [
       "<script type=\"text/javascript\">window.PlotlyConfig = {MathJaxConfig: 'local'};</script><script type=\"text/javascript\">if (window.MathJax) {MathJax.Hub.Config({SVG: {font: \"STIX-Web\"}});}</script><script>requirejs.config({paths: { 'plotly': ['https://cdn.plot.ly/plotly-latest.min']},});if(!window._Plotly) {require(['plotly'],function(plotly) {window._Plotly=plotly;});}</script>"
      ]
     },
     "metadata": {},
     "output_type": "display_data"
    },
    {
     "data": {
      "application/vnd.plotly.v1+json": {
       "config": {
        "linkText": "Export to plot.ly",
        "plotlyServerURL": "https://plot.ly",
        "showLink": false
       },
       "data": [
        {
         "type": "scatter",
         "uid": "eb66a481-d184-4d14-bc06-a8c88c60d1b2",
         "x": [
          0,
          1
         ],
         "y": [
          0,
          1
         ]
        }
       ],
       "frames": [
        {
         "data": [
          {
           "type": "scatter",
           "x": [
            1,
            2
           ],
           "y": [
            1,
            2
           ]
          }
         ]
        },
        {
         "data": [
          {
           "type": "scatter",
           "x": [
            1,
            4
           ],
           "y": [
            1,
            4
           ]
          }
         ]
        },
        {
         "data": [
          {
           "type": "scatter",
           "x": [
            3,
            4
           ],
           "y": [
            3,
            4
           ]
          }
         ],
         "layout": {
          "title": {
           "text": "End Title"
          }
         }
        }
       ],
       "layout": {
        "title": {
         "text": "Start Title"
        },
        "xaxis": {
         "autorange": false,
         "range": [
          0,
          5
         ]
        },
        "yaxis": {
         "autorange": false,
         "range": [
          0,
          5
         ]
        }
       }
      },
      "text/html": [
       "<div id=\"dfcf9efa-5eb5-403d-8b7a-ac2114ccb7ec\" style=\"height: 525px; width: 100%;\" class=\"plotly-graph-div\"></div><script type=\"text/javascript\">require([\"plotly\"], function(Plotly) { window.PLOTLYENV=window.PLOTLYENV || {};window.PLOTLYENV.BASE_URL=\"https://plot.ly\";\n",
       "        Plotly.plot(\n",
       "            'dfcf9efa-5eb5-403d-8b7a-ac2114ccb7ec',\n",
       "            [{\"x\": [0, 1], \"y\": [0, 1], \"type\": \"scatter\", \"uid\": \"cfbbca0a-a574-4390-877f-f181953cecf1\"}],\n",
       "            {\"title\": {\"text\": \"Start Title\"}, \"xaxis\": {\"autorange\": false, \"range\": [0, 5]}, \"yaxis\": {\"autorange\": false, \"range\": [0, 5]}},\n",
       "            {\"showLink\": false, \"linkText\": \"Export to plot.ly\", \"plotlyServerURL\": \"https://plot.ly\"}\n",
       "        ).then(function () {return Plotly.addFrames('dfcf9efa-5eb5-403d-8b7a-ac2114ccb7ec',[{\"data\": [{\"x\": [1, 2], \"y\": [1, 2], \"type\": \"scatter\"}]}, {\"data\": [{\"x\": [1, 4], \"y\": [1, 4], \"type\": \"scatter\"}]}, {\"data\": [{\"x\": [3, 4], \"y\": [3, 4], \"type\": \"scatter\"}], \"layout\": {\"title\": {\"text\": \"End Title\"}}}]);}).then(function(){Plotly.animate('dfcf9efa-5eb5-403d-8b7a-ac2114ccb7ec');})\n",
       "        });</script><script type=\"text/javascript\">window.addEventListener(\"resize\", function(){window._Plotly.Plots.resize(document.getElementById(\"dfcf9efa-5eb5-403d-8b7a-ac2114ccb7ec\"));});</script>"
      ],
      "text/vnd.plotly.v1+html": [
       "<div id=\"dfcf9efa-5eb5-403d-8b7a-ac2114ccb7ec\" style=\"height: 525px; width: 100%;\" class=\"plotly-graph-div\"></div><script type=\"text/javascript\">require([\"plotly\"], function(Plotly) { window.PLOTLYENV=window.PLOTLYENV || {};window.PLOTLYENV.BASE_URL=\"https://plot.ly\";\n",
       "        Plotly.plot(\n",
       "            'dfcf9efa-5eb5-403d-8b7a-ac2114ccb7ec',\n",
       "            [{\"x\": [0, 1], \"y\": [0, 1], \"type\": \"scatter\", \"uid\": \"cfbbca0a-a574-4390-877f-f181953cecf1\"}],\n",
       "            {\"title\": {\"text\": \"Start Title\"}, \"xaxis\": {\"autorange\": false, \"range\": [0, 5]}, \"yaxis\": {\"autorange\": false, \"range\": [0, 5]}},\n",
       "            {\"showLink\": false, \"linkText\": \"Export to plot.ly\", \"plotlyServerURL\": \"https://plot.ly\"}\n",
       "        ).then(function () {return Plotly.addFrames('dfcf9efa-5eb5-403d-8b7a-ac2114ccb7ec',[{\"data\": [{\"x\": [1, 2], \"y\": [1, 2], \"type\": \"scatter\"}]}, {\"data\": [{\"x\": [1, 4], \"y\": [1, 4], \"type\": \"scatter\"}]}, {\"data\": [{\"x\": [3, 4], \"y\": [3, 4], \"type\": \"scatter\"}], \"layout\": {\"title\": {\"text\": \"End Title\"}}}]);}).then(function(){Plotly.animate('dfcf9efa-5eb5-403d-8b7a-ac2114ccb7ec');})\n",
       "        });</script><script type=\"text/javascript\">window.addEventListener(\"resize\", function(){window._Plotly.Plots.resize(document.getElementById(\"dfcf9efa-5eb5-403d-8b7a-ac2114ccb7ec\"));});</script>"
      ]
     },
     "metadata": {},
     "output_type": "display_data"
    }
   ],
   "source": [
    "from plotly.offline import init_notebook_mode, iplot\n",
    "from IPython.display import display, HTML\n",
    "\n",
    "init_notebook_mode(connected=True)\n",
    "\n",
    "figure = {'data': [{'x': [0, 1], 'y': [0, 1]}],\n",
    "          'layout': {'xaxis': {'range': [0, 5], 'autorange': False},\n",
    "                     'yaxis': {'range': [0, 5], 'autorange': False},\n",
    "                     'title': 'Start Title'},\n",
    "          'frames': [{'data': [{'x': [1, 2], 'y': [1, 2]}]},\n",
    "                     {'data': [{'x': [1, 4], 'y': [1, 4]}]},\n",
    "                     {'data': [{'x': [3, 4], 'y': [3, 4]}],\n",
    "                      'layout': {'title': 'End Title'}}]}\n",
    "\n",
    "iplot(figure)"
   ]
  },
  {
   "cell_type": "code",
   "execution_count": null,
   "metadata": {},
   "outputs": [],
   "source": []
  }
 ],
 "metadata": {
  "kernelspec": {
   "display_name": "Python 3",
   "language": "python",
   "name": "python3"
  },
  "language_info": {
   "codemirror_mode": {
    "name": "ipython",
    "version": 3
   },
   "file_extension": ".py",
   "mimetype": "text/x-python",
   "name": "python",
   "nbconvert_exporter": "python",
   "pygments_lexer": "ipython3",
   "version": "3.6.8"
  }
 },
 "nbformat": 4,
 "nbformat_minor": 2
}
