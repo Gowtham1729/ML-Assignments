{
 "cells": [
  {
   "cell_type": "code",
   "execution_count": 3,
   "metadata": {},
   "outputs": [],
   "source": [
    "import numpy as np\n",
    "import matplotlib.pyplot as plt\n",
    "import seaborn as sbn\n",
    "import pandas as pd"
   ]
  },
  {
   "cell_type": "code",
   "execution_count": 4,
   "metadata": {},
   "outputs": [],
   "source": [
    "def normalEquationRidgeRegression(X, y, alpha):\n",
    "    one = np.ones(X.shape[0]).reshape([-1, 1])\n",
    "    X = np.concatenate((one, X), axis = 1)\n",
    "    XXT = np.matmul(np.transpose(X), X)\n",
    "    XXTY = np.matmul(np.linalg.inv(XXT+alpha*np.identity(X.shape[1])), np.transpose(X))\n",
    "    reg = np.matmul(XXTY, y)\n",
    "    return reg"
   ]
  },
  {
   "cell_type": "code",
   "execution_count": 5,
   "metadata": {},
   "outputs": [],
   "source": [
    "X = np.array([1, 2, 2, 4, 3, 6, 4, 8]).reshape([4, 2])\n",
    "y = np.array([2, 3, 4, 5]).reshape([4, 1])"
   ]
  },
  {
   "cell_type": "code",
   "execution_count": 6,
   "metadata": {},
   "outputs": [],
   "source": [
    "x = np.array([1,2,3,4]).reshape([-1, 1])\n",
    "Y = np.array([1, 2, 3, 4]).reshape([-1, 1])"
   ]
  },
  {
   "cell_type": "code",
   "execution_count": 7,
   "metadata": {},
   "outputs": [
    {
     "data": {
      "text/plain": [
       "array([[0.60366714],\n",
       "       [0.22566996],\n",
       "       [0.45133992]])"
      ]
     },
     "execution_count": 7,
     "metadata": {},
     "output_type": "execute_result"
    }
   ],
   "source": [
    "normalEquationRidgeRegression(X, y, 0.5)"
   ]
  },
  {
   "cell_type": "code",
   "execution_count": 8,
   "metadata": {},
   "outputs": [
    {
     "data": {
      "text/plain": [
       "array([[0.13422819],\n",
       "       [0.93959732]])"
      ]
     },
     "execution_count": 8,
     "metadata": {},
     "output_type": "execute_result"
    }
   ],
   "source": [
    "normalEquationRidgeRegression(x, Y, 0.5)"
   ]
  },
  {
   "cell_type": "code",
   "execution_count": 9,
   "metadata": {},
   "outputs": [],
   "source": [
    "def coordinateDescentRegression(X, y):\n",
    "    \n",
    "    w = np.zeros(X.shape[1]+1).reshape([-1, 1])\n",
    "    X = np.concatenate((np.ones(X.shape[0]).reshape([-1, 1]), X), axis = 1)\n",
    "    \n",
    "    for j in range(10000):\n",
    "        for i in range(len(w)):\n",
    "            w[i] = 0\n",
    "            error = np.subtract(y,np.matmul(X, w))\n",
    "            p = np.matmul(X[:, i].T, error)\n",
    "            z = np.sum(np.square(X[:, i]))\n",
    "            w[i] = p/z\n",
    "    return w"
   ]
  },
  {
   "cell_type": "code",
   "execution_count": 10,
   "metadata": {},
   "outputs": [
    {
     "name": "stdout",
     "output_type": "stream",
     "text": [
      "[[8.04911693e-16]\n",
      " [1.00000000e+00]]\n"
     ]
    }
   ],
   "source": [
    "clf = coordinateDescentRegression(x, Y)\n",
    "print(clf)"
   ]
  },
  {
   "cell_type": "code",
   "execution_count": 11,
   "metadata": {},
   "outputs": [],
   "source": [
    "def coordinateDescentLasso(X, y, alpha):\n",
    "    w = np.zeros(X.shape[1]+1).reshape([-1, 1])\n",
    "    X = np.concatenate((np.ones(X.shape[0]).reshape([-1, 1]), X), axis = 1)\n",
    "    \n",
    "    for j in range(10000):\n",
    "        for i in range(len(w)):\n",
    "            w[i] = 0\n",
    "            errors = np.subtract(y,np.matmul(X, w))\n",
    "            p = np.matmul(X[:, i].T, errors)\n",
    "            z = np.sum(np.square(X[:, i]))\n",
    "            if(p < -(alpha**2)/2):\n",
    "                w[i] = ((p + (alpha**2)/2))/(z)\n",
    "            elif(p > (alpha**2)/2):\n",
    "                w[i] = ((p - (alpha**2)/2))/(z)\n",
    "            else:\n",
    "                w[i] = 0\n",
    "    return w"
   ]
  },
  {
   "cell_type": "code",
   "execution_count": 12,
   "metadata": {},
   "outputs": [
    {
     "name": "stdout",
     "output_type": "stream",
     "text": [
      "[[0.        ]\n",
      " [0.99999833]]\n"
     ]
    }
   ],
   "source": [
    "clf = coordinateDescentLasso(x, Y, 0.01)\n",
    "print(clf)"
   ]
  },
  {
   "cell_type": "code",
   "execution_count": 13,
   "metadata": {},
   "outputs": [],
   "source": [
    "def sgdRegression(X, y, alpha = 0.1):\n",
    "    w = np.zeros(X.shape[1]+1).reshape([-1, 1])\n",
    "    X = np.concatenate((np.ones(X.shape[0]).reshape([-1, 1]), X), axis = 1)\n",
    "    \n",
    "    for k in range(10):\n",
    "        for j in range(X.shape[0]):\n",
    "            for i in range(len(w)):\n",
    "                w[i] = w[i] + (((2*alpha*(y[j] - np.matmul(X[j], w))))*X[j, i])\n",
    "        \n",
    "    return w"
   ]
  },
  {
   "cell_type": "code",
   "execution_count": 14,
   "metadata": {},
   "outputs": [
    {
     "name": "stdout",
     "output_type": "stream",
     "text": [
      "[[0.28839986]\n",
      " [0.90966725]]\n"
     ]
    }
   ],
   "source": [
    "clf = sgdRegression(x, Y, 0.01)\n",
    "print(clf)"
   ]
  },
  {
   "cell_type": "code",
   "execution_count": 15,
   "metadata": {},
   "outputs": [],
   "source": [
    "from autograd import grad\n",
    "\n",
    "def gradientDescentAutogradLasso(X, y, l, alpha = 0.00001):\n",
    "    def error(w):\n",
    "        e = y - np.dot(X, w)\n",
    "        \n",
    "        return np.sum(np.square(e))+(l*np.linalg.norm(w, 1))\n",
    "        \n",
    "    w = np.zeros(X.shape[1]+1)\n",
    "    X = np.concatenate((np.ones(X.shape[0]).reshape([-1, 1]), X), axis = 1)\n",
    "    \n",
    "    \n",
    "    for i in range(1000):\n",
    "        w = w - alpha*grad(error)(w)\n",
    "        \n",
    "    print (error(w))\n",
    "    \n",
    "    return w"
   ]
  },
  {
   "cell_type": "code",
   "execution_count": 16,
   "metadata": {},
   "outputs": [
    {
     "name": "stdout",
     "output_type": "stream",
     "text": [
      "32.61360246004136\n",
      "[0.34610904 0.67398656]\n"
     ]
    }
   ],
   "source": [
    "clf = gradientDescentAutogradLasso(x, Y, 0.01)\n",
    "print(clf)"
   ]
  },
  {
   "cell_type": "code",
   "execution_count": 17,
   "metadata": {},
   "outputs": [
    {
     "name": "stdout",
     "output_type": "stream",
     "text": [
      "[[1]\n",
      " [3]\n",
      " [6]] [[ 6]\n",
      " [10]\n",
      " [16]]\n"
     ]
    }
   ],
   "source": [
    "X = np.array([1,3,6]).reshape([-1,1])\n",
    "y = np.array([6, 10, 16]).reshape([-1, 1])\n",
    "print(X, y)"
   ]
  },
  {
   "cell_type": "code",
   "execution_count": 18,
   "metadata": {},
   "outputs": [],
   "source": [
    "def sgdRegression(X, y, alpha = 0.1):\n",
    "    weights = []\n",
    "    w = np.zeros(X.shape[1]+1).reshape([-1, 1])\n",
    "    X = np.concatenate((np.ones(X.shape[0]).reshape([-1, 1]), X), axis = 1)\n",
    "    \n",
    "    for k in range(50):\n",
    "        for j in range(X.shape[0]):\n",
    "            for i in range(len(w)):\n",
    "                w[i] = w[i] + (((2*alpha*(y[j] - np.matmul(X[j], w))))*X[j, i])\n",
    "            weights.append(np.copy(w))\n",
    "    return weights"
   ]
  },
  {
   "cell_type": "code",
   "execution_count": 19,
   "metadata": {},
   "outputs": [],
   "source": [
    "w = sgdRegression(X, y, 0.01)\n",
    "# b = np.array([X*w[1]+w[0] for i in w])\n",
    "# print(b)\n",
    "li = []\n",
    "x_ = X.flatten()\n",
    "for i in range(len(w)):\n",
    "    li.append({'data':[{'x':x_, 'y':(x_*w[i][1] + w[i][0])}]})\n"
   ]
  },
  {
   "cell_type": "code",
   "execution_count": 472,
   "metadata": {},
   "outputs": [
    {
     "data": {
      "text/html": [
       "<script type=\"text/javascript\">window.PlotlyConfig = {MathJaxConfig: 'local'};</script><script type=\"text/javascript\">if (window.MathJax) {MathJax.Hub.Config({SVG: {font: \"STIX-Web\"}});}</script><script>requirejs.config({paths: { 'plotly': ['https://cdn.plot.ly/plotly-latest.min']},});if(!window._Plotly) {require(['plotly'],function(plotly) {window._Plotly=plotly;});}</script>"
      ],
      "text/vnd.plotly.v1+html": [
       "<script type=\"text/javascript\">window.PlotlyConfig = {MathJaxConfig: 'local'};</script><script type=\"text/javascript\">if (window.MathJax) {MathJax.Hub.Config({SVG: {font: \"STIX-Web\"}});}</script><script>requirejs.config({paths: { 'plotly': ['https://cdn.plot.ly/plotly-latest.min']},});if(!window._Plotly) {require(['plotly'],function(plotly) {window._Plotly=plotly;});}</script>"
      ]
     },
     "metadata": {},
     "output_type": "display_data"
    },
    {
     "data": {
      "application/vnd.plotly.v1+json": {
       "config": {
        "linkText": "Export to plot.ly",
        "plotlyServerURL": "https://plot.ly",
        "showLink": false
       },
       "data": [
        {
         "type": "scatter",
         "uid": "304dcf46-d66f-465b-866f-48b4625e4f27",
         "x": [
          1,
          3,
          6
         ],
         "y": [
          6,
          10,
          16
         ]
        }
       ],
       "frames": [
        {
         "data": [
          {
           "type": "scatter",
           "x": [
            1,
            3,
            6
           ],
           "y": [
            0.23759999999999998,
            0.4728,
            0.8256
           ]
          }
         ]
        },
        {
         "data": [
          {
           "type": "scatter",
           "x": [
            1,
            3,
            6
           ],
           "y": [
            0.9883433600000001,
            2.3439420800000006,
            4.377340160000001
           ]
          }
         ]
        },
        {
         "data": [
          {
           "type": "scatter",
           "x": [
            1,
            3,
            6
           ],
           "y": [
            2.587621353984,
            6.6768696683519995,
            12.810742139903999
           ]
          }
         ]
        },
        {
         "data": [
          {
           "type": "scatter",
           "x": [
            1,
            3,
            6
           ],
           "y": [
            2.7227515483662335,
            6.94576510565806,
            13.280285441595801
           ]
          }
         ]
        },
        {
         "data": [
          {
           "type": "scatter",
           "x": [
            1,
            3,
            6
           ],
           "y": [
            2.9634252580403784,
            7.545616838906818,
            14.418904210206478
           ]
          }
         ]
        },
        {
         "data": [
          {
           "type": "scatter",
           "x": [
            1,
            3,
            6
           ],
           "y": [
            3.1809840387159674,
            8.135049349341845,
            15.56614731528066
           ]
          }
         ]
        },
        {
         "data": [
          {
           "type": "scatter",
           "x": [
            1,
            3,
            6
           ],
           "y": [
            3.292617070782815,
            8.357187807091025,
            15.95404391155334
           ]
          }
         ]
        },
        {
         "data": [
          {
           "type": "scatter",
           "x": [
            1,
            3,
            6
           ],
           "y": [
            3.422070671584042,
            8.679836121778347,
            16.566484297069803
           ]
          }
         ]
        },
        {
         "data": [
          {
           "type": "scatter",
           "x": [
            1,
            3,
            6
           ],
           "y": [
            3.3441224323072367,
            8.468650775830724,
            16.155443291115954
           ]
          }
         ]
        },
        {
         "data": [
          {
           "type": "scatter",
           "x": [
            1,
            3,
            6
           ],
           "y": [
            3.44929518398787,
            8.677933928164911,
            16.520892044430475
           ]
          }
         ]
        },
        {
         "data": [
          {
           "type": "scatter",
           "x": [
            1,
            3,
            6
           ],
           "y": [
            3.553473990448475,
            8.937587704673325,
            17.0137582760106
           ]
          }
         ]
        },
        {
         "data": [
          {
           "type": "scatter",
           "x": [
            1,
            3,
            6
           ],
           "y": [
            3.413980851669417,
            8.559658619376574,
            16.278175270937307
           ]
          }
         ]
        },
        {
         "data": [
          {
           "type": "scatter",
           "x": [
            1,
            3,
            6
           ],
           "y": [
            3.516387209943308,
            8.763436928265023,
            16.634011505747598
           ]
          }
         ]
        },
        {
         "data": [
          {
           "type": "scatter",
           "x": [
            1,
            3,
            6
           ],
           "y": [
            3.613828379996024,
            9.006297915553773,
            17.095002218890397
           ]
          }
         ]
        },
        {
         "data": [
          {
           "type": "scatter",
           "x": [
            1,
            3,
            6
           ],
           "y": [
            3.4631560746767054,
            8.598081088351432,
            16.300468608863522
           ]
          }
         ]
        },
        {
         "data": [
          {
           "type": "scatter",
           "x": [
            1,
            3,
            6
           ],
           "y": [
            3.5636150941195073,
            8.797984389666908,
            16.64953833298801
           ]
          }
         ]
        },
        {
         "data": [
          {
           "type": "scatter",
           "x": [
            1,
            3,
            6
           ],
           "y": [
            3.658333924213755,
            9.034060255536327,
            17.097649752520184
           ]
          }
         ]
        },
        {
         "data": [
          {
           "type": "scatter",
           "x": [
            1,
            3,
            6
           ],
           "y": [
            3.5072973182669775,
            8.624856427796802,
            16.301195092091536
           ]
          }
         ]
        },
        {
         "data": [
          {
           "type": "scatter",
           "x": [
            1,
            3,
            6
           ],
           "y": [
            3.6060083444636053,
            8.821281399117364,
            16.644190981098003
           ]
          }
         ]
        },
        {
         "data": [
          {
           "type": "scatter",
           "x": [
            1,
            3,
            6
           ],
           "y": [
            3.6988913702131576,
            9.052781732330715,
            17.08361727550705
           ]
          }
         ]
        },
        {
         "data": [
          {
           "type": "scatter",
           "x": [
            1,
            3,
            6
           ],
           "y": [
            3.5497856331033875,
            8.648809212021686,
            16.297344580399134
           ]
          }
         ]
        },
        {
         "data": [
          {
           "type": "scatter",
           "x": [
            1,
            3,
            6
           ],
           "y": [
            3.6468141220324934,
            8.84188610413314,
            16.63449407728411
           ]
          }
         ]
        },
        {
         "data": [
          {
           "type": "scatter",
           "x": [
            1,
            3,
            6
           ],
           "y": [
            3.738073497026802,
            9.069339673281391,
            17.066238937663275
           ]
          }
         ]
        },
        {
         "data": [
          {
           "type": "scatter",
           "x": [
            1,
            3,
            6
           ],
           "y": [
            3.591359019204335,
            8.671845797320522,
            16.2925759644948
           ]
          }
         ]
        },
        {
         "data": [
          {
           "type": "scatter",
           "x": [
            1,
            3,
            6
           ],
           "y": [
            3.6867412020438435,
            8.86164670660722,
            16.624004963452286
           ]
          }
         ]
        },
        {
         "data": [
          {
           "type": "scatter",
           "x": [
            1,
            3,
            6
           ],
           "y": [
            3.7764434415631944,
            9.085219293429562,
            17.04838307122911
           ]
          }
         ]
        },
        {
         "data": [
          {
           "type": "scatter",
           "x": [
            1,
            3,
            6
           ],
           "y": [
            3.6321859309620685,
            8.694382084475349,
            16.28767631474527
           ]
          }
         ]
        },
        {
         "data": [
          {
           "type": "scatter",
           "x": [
            1,
            3,
            6
           ],
           "y": [
            3.725951368095971,
            8.880965833115537,
            16.61348753064489
           ]
          }
         ]
        },
        {
         "data": [
          {
           "type": "scatter",
           "x": [
            1,
            3,
            6
           ],
           "y": [
            3.814131260446466,
            9.100744143491646,
            17.030663468059416
           ]
          }
         ]
        },
        {
         "data": [
          {
           "type": "scatter",
           "x": [
            1,
            3,
            6
           ],
           "y": [
            3.6723119672414906,
            8.716512802599096,
            16.282814055635505
           ]
          }
         ]
        },
        {
         "data": [
          {
           "type": "scatter",
           "x": [
            1,
            3,
            6
           ],
           "y": [
            3.7644884133387277,
            8.899934619580467,
            16.603103928943078
           ]
          }
         ]
        },
        {
         "data": [
          {
           "type": "scatter",
           "x": [
            1,
            3,
            6
           ],
           "y": [
            3.851173565315787,
            9.115987460294862,
            17.013208302763477
           ]
          }
         ]
        },
        {
         "data": [
          {
           "type": "scatter",
           "x": [
            1,
            3,
            6
           ],
           "y": [
            3.7117561028555324,
            8.73826340502464,
            16.278024358278298
           ]
          }
         ]
        },
        {
         "data": [
          {
           "type": "scatter",
           "x": [
            1,
            3,
            6
           ],
           "y": [
            3.802370561182453,
            8.918577024119623,
            16.592886718525378
           ]
          }
         ]
        },
        {
         "data": [
          {
           "type": "scatter",
           "x": [
            1,
            3,
            6
           ],
           "y": [
            3.887586691681827,
            9.130968496582529,
            16.996041203933583
           ]
          }
         ]
        },
        {
         "data": [
          {
           "type": "scatter",
           "x": [
            1,
            3,
            6
           ],
           "y": [
            3.7505314220205657,
            8.75964433575609,
            16.273313706359374
           ]
          }
         ]
        },
        {
         "data": [
          {
           "type": "scatter",
           "x": [
            1,
            3,
            6
           ],
           "y": [
            3.839610377708551,
            8.936902459700867,
            16.582840582689343
           ]
          }
         ]
        },
        {
         "data": [
          {
           "type": "scatter",
           "x": [
            1,
            3,
            6
           ],
           "y": [
            3.923382463884123,
            9.145694816615617,
            16.97916334571286
           ]
          }
         ]
        },
        {
         "data": [
          {
           "type": "scatter",
           "x": [
            1,
            3,
            6
           ],
           "y": [
            3.7886495875140334,
            8.780662721333863,
            16.26868242206361
           ]
          }
         ]
        },
        {
         "data": [
          {
           "type": "scatter",
           "x": [
            1,
            3,
            6
           ],
           "y": [
            3.8762190638484775,
            8.954917133837757,
            16.572964238821676
           ]
          }
         ]
        },
        {
         "data": [
          {
           "type": "scatter",
           "x": [
            1,
            3,
            6
           ],
           "y": [
            3.958571593702062,
            9.16017140875202,
            16.962571131326957
           ]
          }
         ]
        },
        {
         "data": [
          {
           "type": "scatter",
           "x": [
            1,
            3,
            6
           ],
           "y": [
            3.8261218060314723,
            8.801324890993332,
            16.264129518436118
           ]
          }
         ]
        },
        {
         "data": [
          {
           "type": "scatter",
           "x": [
            1,
            3,
            6
           ],
           "y": [
            3.9122073825126265,
            8.972626492678051,
            16.56325515792619
           ]
          }
         ]
        },
        {
         "data": [
          {
           "type": "scatter",
           "x": [
            1,
            3,
            6
           ],
           "y": [
            3.9931644148895957,
            9.174402649516082,
            16.946260001455812
           ]
          }
         ]
        },
        {
         "data": [
          {
           "type": "scatter",
           "x": [
            1,
            3,
            6
           ],
           "y": [
            3.862959038689276,
            8.821636920973354,
            16.259653744399472
           ]
          }
         ]
        },
        {
         "data": [
          {
           "type": "scatter",
           "x": [
            1,
            3,
            6
           ],
           "y": [
            3.9475858607571803,
            8.99003574872464,
            16.55371058067583
           ]
          }
         ]
        },
        {
         "data": [
          {
           "type": "scatter",
           "x": [
            1,
            3,
            6
           ],
           "y": [
            4.027171043757679,
            9.18839272767512,
            16.93022525355128
           ]
          }
         ]
        },
        {
         "data": [
          {
           "type": "scatter",
           "x": [
            1,
            3,
            6
           ],
           "y": [
            3.8991720488690222,
            8.841604753151202,
            16.25525380957447
           ]
          }
         ]
        },
        {
         "data": [
          {
           "type": "scatter",
           "x": [
            1,
            3,
            6
           ],
           "y": [
            3.982364835733809,
            9.007149995700322,
            16.544327735650093
           ]
          }
         ]
        },
        {
         "data": [
          {
           "type": "scatter",
           "x": [
            1,
            3,
            6
           ],
           "y": [
            4.060601416072624,
            9.202145736544779,
            16.91446221725301
           ]
          }
         ]
        },
        {
         "data": [
          {
           "type": "scatter",
           "x": [
            1,
            3,
            6
           ],
           "y": [
            3.9347714149786084,
            8.861234221952856,
            16.250928432414224
           ]
          }
         ]
        },
        {
         "data": [
          {
           "type": "scatter",
           "x": [
            1,
            3,
            6
           ],
           "y": [
            4.016554466945456,
            9.023974234452542,
            16.53510388571317
           ]
          }
         ]
        },
        {
         "data": [
          {
           "type": "scatter",
           "x": [
            1,
            3,
            6
           ],
           "y": [
            4.093465297270596,
            9.215665694806063,
            16.89896629110926
           ]
          }
         ]
        },
        {
         "data": [
          {
           "type": "scatter",
           "x": [
            1,
            3,
            6
           ],
           "y": [
            3.9697675356139612,
            8.88053106148053,
            16.24667635028038
           ]
          }
         ]
        },
        {
         "data": [
          {
           "type": "scatter",
           "x": [
            1,
            3,
            6
           ],
           "y": [
            4.050164741203648,
            9.04051337967415,
            16.526036337379903
           ]
          }
         ]
        },
        {
         "data": [
          {
           "type": "scatter",
           "x": [
            1,
            3,
            6
           ],
           "y": [
            4.125772286885326,
            9.228956551906146,
            16.883732949437377
           ]
          }
         ]
        },
        {
         "data": [
          {
           "type": "scatter",
           "x": [
            1,
            3,
            6
           ],
           "y": [
            4.004170633042742,
            8.899500908355892,
            16.242496321325618
           ]
          }
         ]
        },
        {
         "data": [
          {
           "type": "scatter",
           "x": [
            1,
            3,
            6
           ],
           "y": [
            4.08320547597425,
            9.056772262472125,
            16.517122442218934
           ]
          }
         ]
        },
        {
         "data": [
          {
           "type": "scatter",
           "x": [
            1,
            3,
            6
           ],
           "y": [
            4.157531821691446,
            9.242022190122599,
            16.868757742769326
           ]
          }
         ]
        },
        {
         "data": [
          {
           "type": "scatter",
           "x": [
            1,
            3,
            6
           ],
           "y": [
            4.037990756286387,
            8.918149303618193,
            16.2383871246159
           ]
          }
         ]
        },
        {
         "data": [
          {
           "type": "scatter",
           "x": [
            1,
            3,
            6
           ],
           "y": [
            4.115686322337446,
            9.072755632022826,
            16.508359596550896
           ]
          }
         ]
        },
        {
         "data": [
          {
           "type": "scatter",
           "x": [
            1,
            3,
            6
           ],
           "y": [
            4.188753178534047,
            9.254866425893544,
            16.854036296932787
           ]
          }
         ]
        },
        {
         "data": [
          {
           "type": "scatter",
           "x": [
            1,
            3,
            6
           ],
           "y": [
            4.071237784076096,
            8.936481694397001,
            16.23434755987836
           ]
          }
         ]
        },
        {
         "data": [
          {
           "type": "scatter",
           "x": [
            1,
            3,
            6
           ],
           "y": [
            4.147616767826682,
            9.088468157011805,
            16.499745240789487
           ]
          }
         ]
        },
        {
         "data": [
          {
           "type": "scatter",
           "x": [
            1,
            3,
            6
           ],
           "y": [
            4.219445477054152,
            9.267493010974686,
            16.839564311855487
           ]
          }
         ]
        },
        {
         "data": [
          {
           "type": "scatter",
           "x": [
            1,
            3,
            6
           ],
           "y": [
            4.103921427742838,
            8.954503435514962,
            16.230376447173146
           ]
          }
         ]
        },
        {
         "data": [
          {
           "type": "scatter",
           "x": [
            1,
            3,
            6
           ],
           "y": [
            4.179006139204222,
            9.103914427008826,
            16.491276858715732
           ]
          }
         ]
        },
        {
         "data": [
          {
           "type": "scatter",
           "x": [
            1,
            3,
            6
           ],
           "y": [
            4.249617682355926,
            9.279905633544292,
            16.825337560326844
           ]
          }
         ]
        },
        {
         "data": [
          {
           "type": "scatter",
           "x": [
            1,
            3,
            6
           ],
           "y": [
            4.1360512340549525,
            8.972219791054446,
            16.226472626553686
           ]
          }
         ]
        },
        {
         "data": [
          {
           "type": "scatter",
           "x": [
            1,
            3,
            6
           ],
           "y": [
            4.209863605186377,
            9.119098953810916,
            16.482951976747724
           ]
          }
         ]
        },
        {
         "data": [
          {
           "type": "scatter",
           "x": [
            1,
            3,
            6
           ],
           "y": [
            4.279278607626077,
            9.292107919282454,
            16.811351886767017
           ]
          }
         ]
        },
        {
         "data": [
          {
           "type": "scatter",
           "x": [
            1,
            3,
            6
           ],
           "y": [
            4.1676365880069355,
            8.98963593589571,
            16.222634957728868
           ]
          }
         ]
        },
        {
         "data": [
          {
           "type": "scatter",
           "x": [
            1,
            3,
            6
           ],
           "y": [
            4.24019817912186,
            9.134026172760763,
            16.474768163219117
           ]
          }
         ]
        },
        {
         "data": [
          {
           "type": "scatter",
           "x": [
            1,
            3,
            6
           ],
           "y": [
            4.308436916708312,
            9.30410343243055,
            16.797603206013903
           ]
          }
         ]
        },
        {
         "data": [
          {
           "type": "scatter",
           "x": [
            1,
            3,
            6
           ],
           "y": [
            4.198686715560799,
            9.006756957228566,
            16.218862319730214
           ]
          }
         ]
        },
        {
         "data": [
          {
           "type": "scatter",
           "x": [
            1,
            3,
            6
           ],
           "y": [
            4.2700187216245915,
            9.148700444042376,
            16.46672302766905
           ]
          }
         ]
        },
        {
         "data": [
          {
           "type": "scatter",
           "x": [
            1,
            3,
            6
           ],
           "y": [
            4.337101126634053,
            9.315895676832453,
            16.784087502130053
           ]
          }
         ]
        },
        {
         "data": [
          {
           "type": "scatter",
           "x": [
            1,
            3,
            6
           ],
           "y": [
            4.2292106863409575,
            9.023587856038368,
            16.215153610584487
           ]
          }
         ]
        },
        {
         "data": [
          {
           "type": "scatter",
           "x": [
            1,
            3,
            6
           ],
           "y": [
            4.299333943161855,
            9.1631260539547,
            16.45881422014397
           ]
          }
         ]
        },
        {
         "data": [
          {
           "type": "scatter",
           "x": [
            1,
            3,
            6
           ],
           "y": [
            4.365279610110225,
            9.327488096957998,
            16.770800827229657
           ]
          }
         ]
        },
        {
         "data": [
          {
           "type": "scatter",
           "x": [
            1,
            3,
            6
           ],
           "y": [
            4.259217416283423,
            9.04013354856678,
            16.211507746991817
           ]
          }
         ]
        },
        {
         "data": [
          {
           "type": "scatter",
           "x": [
            1,
            3,
            6
           ],
           "y": [
            4.3281524065985995,
            9.177307216163646,
            16.451039430511216
           ]
          }
         ]
        },
        {
         "data": [
          {
           "type": "scatter",
           "x": [
            1,
            3,
            6
           ],
           "y": [
            4.392980597964904,
            9.338884078909105,
            16.757739300325408
           ]
          }
         ]
        },
        {
         "data": [
          {
           "type": "scatter",
           "x": [
            1,
            3,
            6
           ],
           "y": [
            4.288715670240128,
            9.056398867747793,
            16.207923664009293
           ]
          }
         ]
        },
        {
         "data": [
          {
           "type": "scatter",
           "x": [
            1,
            3,
            6
           ],
           "y": [
            4.356482529698619,
            9.191248072932872,
            16.44339638778425
           ]
          }
         ]
        },
        {
         "data": [
          {
           "type": "scatter",
           "x": [
            1,
            3,
            6
           ],
           "y": [
            4.420212181551509,
            9.350086951408857,
            16.744899106194875
           ]
          }
         ]
        },
        {
         "data": [
          {
           "type": "scatter",
           "x": [
            1,
            3,
            6
           ],
           "y": [
            4.317714064539094,
            9.072388564619406,
            16.20440031473987
           ]
          }
         ]
        },
        {
         "data": [
          {
           "type": "scatter",
           "x": [
            1,
            3,
            6
           ],
           "y": [
            4.384332587583345,
            9.204952696333724,
            16.43588285945929
           ]
          }
         ]
        },
        {
         "data": [
          {
           "type": "scatter",
           "x": [
            1,
            3,
            6
           ],
           "y": [
            4.446982315112248,
            9.36109998677378,
            16.73227649426608
           ]
          }
         ]
        },
        {
         "data": [
          {
           "type": "scatter",
           "x": [
            1,
            3,
            6
           ],
           "y": [
            4.346221069501235,
            9.088107309711386,
            16.200936670026614
           ]
          }
         ]
        },
        {
         "data": [
          {
           "type": "scatter",
           "x": [
            1,
            3,
            6
           ],
           "y": [
            4.4117107151489865,
            9.218425089434689,
            16.42849665086324
           ]
          }
         ]
        },
        {
         "data": [
          {
           "type": "scatter",
           "x": [
            1,
            3,
            6
           ],
           "y": [
            4.473298818101533,
            9.371926401869716,
            16.71986777752199
           ]
          }
         ]
        },
        {
         "data": [
          {
           "type": "scatter",
           "x": [
            1,
            3,
            6
           ],
           "y": [
            4.374245011914507,
            9.103559694409519,
            16.197531718152035
           ]
          }
         ]
        },
        {
         "data": [
          {
           "type": "scatter",
           "x": [
            1,
            3,
            6
           ],
           "y": [
            4.438624909442693,
            9.231669187470654,
            16.4212356045126
           ]
          }
         ]
        },
        {
         "data": [
          {
           "type": "scatter",
           "x": [
            1,
            3,
            6
           ],
           "y": [
            4.499169377470006,
            9.38256935905142,
            16.70766933142354
           ]
          }
         ]
        },
        {
         "data": [
          {
           "type": "scatter",
           "x": [
            1,
            3,
            6
           ],
           "y": [
            4.401794077466127,
            9.118750232296723,
            16.194184464542616
           ]
          }
         ]
        },
        {
         "data": [
          {
           "type": "scatter",
           "x": [
            1,
            3,
            6
           ],
           "y": [
            4.465083031998468,
            9.244688858992392,
            16.41409759948328
           ]
          }
         ]
        },
        {
         "data": [
          {
           "type": "scatter",
           "x": [
            1,
            3,
            6
           ],
           "y": [
            4.5246015499098675,
            9.393031967086287,
            16.695677592850917
           ]
          }
         ]
        },
        {
         "data": [
          {
           "type": "scatter",
           "x": [
            1,
            3,
            6
           ],
           "y": [
            4.428876313133581,
            9.133683360471466,
            16.190893931478293
           ]
          }
         ]
        },
        {
         "data": [
          {
           "type": "scatter",
           "x": [
            1,
            3,
            6
           ],
           "y": [
            4.491092811133491,
            9.25748790699654,
            16.40708055079111
           ]
          }
         ]
        },
        {
         "data": [
          {
           "type": "scatter",
           "x": [
            1,
            3,
            6
           ],
           "y": [
            4.549602764062165,
            9.40331728206242,
            16.6838890590628
           ]
          }
         ]
        },
        {
         "data": [
          {
           "type": "scatter",
           "x": [
            1,
            3,
            6
           ],
           "y": [
            4.455499629535122,
            9.148363440843807,
            16.187659157806834
           ]
          }
         ]
        },
        {
         "data": [
          {
           "type": "scatter",
           "x": [
            1,
            3,
            6
           ],
           "y": [
            4.516661844205531,
            9.27007007003644,
            16.4001824087828
           ]
          }
         ]
        },
        {
         "data": [
          {
           "type": "scatter",
           "x": [
            1,
            3,
            6
           ],
           "y": [
            4.574180322686661,
            9.413428308281283,
            16.672300286673217
           ]
          }
         ]
        },
        {
         "data": [
          {
           "type": "scatter",
           "x": [
            1,
            3,
            6
           ],
           "y": [
            4.481671803240426,
            9.162794761409508,
            16.18447919866313
           ]
          }
         ]
        },
        {
         "data": [
          {
           "type": "scatter",
           "x": [
            1,
            3,
            6
           ],
           "y": [
            4.541797599832105,
            9.282439023314161,
            16.393401158537245
           ]
          }
         ]
        },
        {
         "data": [
          {
           "type": "scatter",
           "x": [
            1,
            3,
            6
           ],
           "y": [
            4.598341404794949,
            9.42336799913526,
            16.660907890645728
           ]
          }
         ]
        },
        {
         "data": [
          {
           "type": "scatter",
           "x": [
            1,
            3,
            6
           ],
           "y": [
            4.507400479042097,
            9.176981537502533,
            16.181353125193187
           ]
          }
         ]
        },
        {
         "data": [
          {
           "type": "scatter",
           "x": [
            1,
            3,
            6
           ],
           "y": [
            4.56650742007203,
            9.294598379754017,
            16.386734819276995
           ]
          }
         ]
        },
        {
         "data": [
          {
           "type": "scatter",
           "x": [
            1,
            3,
            6
           ],
           "y": [
            4.622093067747414,
            9.433139257970328,
            16.649708543304698
           ]
          }
         ]
        },
        {
         "data": [
          {
           "type": "scatter",
           "x": [
            1,
            3,
            6
           ],
           "y": [
            4.532693172188687,
            9.190927913026336,
            16.17828002428281
           ]
          }
         ]
        },
        {
         "data": [
          {
           "type": "scatter",
           "x": [
            1,
            3,
            6
           ],
           "y": [
            4.590798522570015,
            9.306551691057868,
            16.380181443789645
           ]
          }
         ]
        },
        {
         "data": [
          {
           "type": "scatter",
           "x": [
            1,
            3,
            6
           ],
           "y": [
            4.645442249314655,
            9.442744938934103,
            16.638698973363272
           ]
          }
         ]
        },
        {
         "data": [
          {
           "type": "scatter",
           "x": [
            1,
            3,
            6
           ],
           "y": [
            4.557557270579869,
            9.204637961664275,
            16.175258998290882
           ]
          }
         ]
        },
        {
         "data": [
          {
           "type": "scatter",
           "x": [
            1,
            3,
            6
           ],
           "y": [
            4.614678002664906,
            9.31830244874258,
            16.373739117859092
           ]
          }
         ]
        },
        {
         "data": [
          {
           "type": "scatter",
           "x": [
            1,
            3,
            6
           ],
           "y": [
            4.668395769703991,
            9.452187847809537,
            16.627875964967856
           ]
          }
         ]
        },
        {
         "data": [
          {
           "type": "scatter",
           "x": [
            1,
            3,
            6
           ],
           "y": [
            4.582000036924414,
            9.21811568806952,
            16.17228916478718
           ]
          }
         ]
        },
        {
         "data": [
          {
           "type": "scatter",
           "x": [
            1,
            3,
            6
           ],
           "y": [
            4.638152835462207,
            9.329854085159877,
            16.36740595970638
           ]
          }
         ]
        },
        {
         "data": [
          {
           "type": "scatter",
           "x": [
            1,
            3,
            6
           ],
           "y": [
            4.690960333551608,
            9.461470742834477,
            16.617236356758777
           ]
          }
         ]
        },
        {
         "data": [
          {
           "type": "scatter",
           "x": [
            1,
            3,
            6
           ],
           "y": [
            4.6060286108616,
            9.231365029034803,
            16.16936965629461
           ]
          }
         ]
        },
        {
         "data": [
          {
           "type": "scatter",
           "x": [
            1,
            3,
            6
           ],
           "y": [
            4.661229877871481,
            9.341209974498911,
            16.361180119440053
           ]
          }
         ]
        },
        {
         "data": [
          {
           "type": "scatter",
           "x": [
            1,
            3,
            6
           ],
           "y": [
            4.713142531880967,
            9.470596335507324,
            16.60677704094686
           ]
          }
         ]
        },
        {
         "data": [
          {
           "type": "scatter",
           "x": [
            1,
            3,
            6
           ],
           "y": [
            4.62965001104668,
            9.244389854642336,
            16.16649962003582
           ]
          }
         ]
        },
        {
         "data": [
          {
           "type": "scatter",
           "x": [
            1,
            3,
            6
           ],
           "y": [
            4.683915870609231,
            9.352373433771858,
            16.3550597785158
           ]
          }
         ]
        },
        {
         "data": [
          {
           "type": "scatter",
           "x": [
            1,
            3,
            6
           ],
           "y": [
            4.7349488440280085,
            9.479567291379066,
            16.59649496240565
           ]
          }
         ]
        },
        {
         "data": [
          {
           "type": "scatter",
           "x": [
            1,
            3,
            6
           ],
           "y": [
            4.652871137200991,
            9.257193969394239,
            16.163678217684108
           ]
          }
         ]
        },
        {
         "data": [
          {
           "type": "scatter",
           "x": [
            1,
            3,
            6
           ],
           "y": [
            4.706217440167832,
            9.3633477237828,
            16.34904314920525
           ]
          }
         ]
        },
        {
         "data": [
          {
           "type": "scatter",
           "x": [
            1,
            3,
            6
           ],
           "y": [
            4.756385639533747,
            9.488386230831859,
            16.586387117779026
           ]
          }
         ]
        },
        {
         "data": [
          {
           "type": "scatter",
           "x": [
            1,
            3,
            6
           ],
           "y": [
            4.675698772127353,
            9.269781113323837,
            16.160904625118565
           ]
          }
         ]
        },
        {
         "data": [
          {
           "type": "scatter",
           "x": [
            1,
            3,
            6
           ],
           "y": [
            4.72814110075111,
            9.374136050080203,
            16.34312847407384
           ]
          }
         ]
        },
        {
         "data": [
          {
           "type": "scatter",
           "x": [
            1,
            3,
            6
           ],
           "y": [
            4.77745918000479,
            9.497055729844451,
            16.576450554603944
           ]
          }
         ]
        },
        {
         "data": [
          {
           "type": "scatter",
           "x": [
            1,
            3,
            6
           ],
           "y": [
            4.698139583691288,
            9.2821549630881,
            16.158178032183322
           ]
          }
         ]
        },
        {
         "data": [
          {
           "type": "scatter",
           "x": [
            1,
            3,
            6
           ],
           "y": [
            4.749693256177112,
            9.384741563893227,
            16.3373140254674
           ]
          }
         ]
        },
        {
         "data": [
          {
           "type": "scatter",
           "x": [
            1,
            3,
            6
           ],
           "y": [
            4.798175620942326,
            9.505578320744597,
            16.566682370448003
           ]
          }
         ]
        },
        {
         "data": [
          {
           "type": "scatter",
           "x": [
            1,
            3,
            6
           ],
           "y": [
            4.72020012676868,
            9.29431913304158,
            16.155497642450932
           ]
          }
         ]
        },
        {
         "data": [
          {
           "type": "scatter",
           "x": [
            1,
            3,
            6
           ],
           "y": [
            4.770880201748641,
            9.39516736305221,
            16.33159810500756
           ]
          }
         ]
        },
        {
         "data": [
          {
           "type": "scatter",
           "x": [
            1,
            3,
            6
           ],
           "y": [
            4.818541013540127,
            9.513956492948754,
            16.557079712061697
           ]
          }
         ]
        },
        {
         "data": [
          {
           "type": "scatter",
           "x": [
            1,
            3,
            6
           ],
           "y": [
            4.741886845160437,
            9.306277176292154,
            16.15286267298973
           ]
          }
         ]
        },
        {
         "data": [
          {
           "type": "scatter",
           "x": [
            1,
            3,
            6
           ],
           "y": [
            4.791708126092084,
            9.405416492893512,
            16.325979043095654
           ]
          }
         ]
        },
        {
         "data": [
          {
           "type": "scatter",
           "x": [
            1,
            3,
            6
           ],
           "y": [
            4.838561306452075,
            9.522192693689226,
            16.54763977454495
           ]
          }
         ]
        },
        {
         "data": [
          {
           "type": "scatter",
           "x": [
            1,
            3,
            6
           ],
           "y": [
            4.76320607347469,
            9.318032585738868,
            16.150272354135133
           ]
          }
         ]
        },
        {
         "data": [
          {
           "type": "scatter",
           "x": [
            1,
            3,
            6
           ],
           "y": [
            4.8121831129650925,
            9.415491947149063,
            16.320455198425016
           ]
          }
         ]
        },
        {
         "data": [
          {
           "type": "scatter",
           "x": [
            1,
            3,
            6
           ],
           "y": [
            4.858242347529746,
            9.530289328728985,
            16.538359800527843
           ]
          }
         ]
        },
        {
         "data": [
          {
           "type": "scatter",
           "x": [
            1,
            3,
            6
           ],
           "y": [
            4.7841640389771145,
            9.329588795092207,
            16.147725929264844
           ]
          }
         ]
        },
        {
         "data": [
          {
           "type": "scatter",
           "x": [
            1,
            3,
            6
           ],
           "y": [
            4.832311143033621,
            9.42539666882081,
            16.315024957501592
           ]
          }
         ]
        },
        {
         "data": [
          {
           "type": "scatter",
           "x": [
            1,
            3,
            6
           ],
           "y": [
            4.877589885530541,
            9.538248763064402,
            16.529237079365192
           ]
          }
         ]
        },
        {
         "data": [
          {
           "type": "scatter",
           "x": [
            1,
            3,
            6
           ],
           "y": [
            4.80476686340989,
            9.340949179877057,
            16.145222654577807
           ]
          }
         ]
        },
        {
         "data": [
          {
           "type": "scatter",
           "x": [
            1,
            3,
            6
           ],
           "y": [
            4.852098095618858,
            9.435133551040359,
            16.309686734172608
           ]
          }
         ]
        },
        {
         "data": [
          {
           "type": "scatter",
           "x": [
            1,
            3,
            6
           ],
           "y": [
            4.896609571796878,
            9.546073321616031,
            16.52026894634476
           ]
          }
         ]
        },
        {
         "data": [
          {
           "type": "scatter",
           "x": [
            1,
            3,
            6
           ],
           "y": [
            4.825020564779839,
            9.352117058418704,
            16.142761798877
           ]
          }
         ]
        }
       ],
       "layout": {
        "title": {
         "text": "Gradient Descent"
        },
        "updatemenus": [
         {
          "buttons": [
           {
            "args": [
             null
            ],
            "label": "Play",
            "method": "animate"
           }
          ],
          "type": "buttons"
         }
        ],
        "xaxis": {
         "autorange": false,
         "range": [
          0,
          10
         ]
        },
        "yaxis": {
         "autorange": false,
         "range": [
          0,
          20
         ]
        }
       }
      },
      "text/html": [
       "<div id=\"0d541761-87c6-47dc-bb77-83504c7d59db\" style=\"height: 525px; width: 100%;\" class=\"plotly-graph-div\"></div><script type=\"text/javascript\">require([\"plotly\"], function(Plotly) { window.PLOTLYENV=window.PLOTLYENV || {};window.PLOTLYENV.BASE_URL=\"https://plot.ly\";\n",
       "        Plotly.plot(\n",
       "            '0d541761-87c6-47dc-bb77-83504c7d59db',\n",
       "            [{\"x\": [1, 3, 6], \"y\": [6, 10, 16], \"type\": \"scatter\", \"uid\": \"facb1a28-f1c1-44d1-a33b-28adaa248f61\"}],\n",
       "            {\"title\": {\"text\": \"Gradient Descent\"}, \"updatemenus\": [{\"buttons\": [{\"args\": [null], \"label\": \"Play\", \"method\": \"animate\"}], \"type\": \"buttons\"}], \"xaxis\": {\"autorange\": false, \"range\": [0, 10]}, \"yaxis\": {\"autorange\": false, \"range\": [0, 20]}},\n",
       "            {\"showLink\": false, \"linkText\": \"Export to plot.ly\", \"plotlyServerURL\": \"https://plot.ly\"}\n",
       "        ).then(function () {return Plotly.addFrames('0d541761-87c6-47dc-bb77-83504c7d59db',[{\"data\": [{\"x\": [1, 3, 6], \"y\": [0.23759999999999998, 0.4728, 0.8256], \"type\": \"scatter\"}]}, {\"data\": [{\"x\": [1, 3, 6], \"y\": [0.9883433600000001, 2.3439420800000006, 4.377340160000001], \"type\": \"scatter\"}]}, {\"data\": [{\"x\": [1, 3, 6], \"y\": [2.587621353984, 6.6768696683519995, 12.810742139903999], \"type\": \"scatter\"}]}, {\"data\": [{\"x\": [1, 3, 6], \"y\": [2.7227515483662335, 6.94576510565806, 13.280285441595801], \"type\": \"scatter\"}]}, {\"data\": [{\"x\": [1, 3, 6], \"y\": [2.9634252580403784, 7.545616838906818, 14.418904210206478], \"type\": \"scatter\"}]}, {\"data\": [{\"x\": [1, 3, 6], \"y\": [3.1809840387159674, 8.135049349341845, 15.56614731528066], \"type\": \"scatter\"}]}, {\"data\": [{\"x\": [1, 3, 6], \"y\": [3.292617070782815, 8.357187807091025, 15.95404391155334], \"type\": \"scatter\"}]}, {\"data\": [{\"x\": [1, 3, 6], \"y\": [3.422070671584042, 8.679836121778347, 16.566484297069803], \"type\": \"scatter\"}]}, {\"data\": [{\"x\": [1, 3, 6], \"y\": [3.3441224323072367, 8.468650775830724, 16.155443291115954], \"type\": \"scatter\"}]}, {\"data\": [{\"x\": [1, 3, 6], \"y\": [3.44929518398787, 8.677933928164911, 16.520892044430475], \"type\": \"scatter\"}]}, {\"data\": [{\"x\": [1, 3, 6], \"y\": [3.553473990448475, 8.937587704673325, 17.0137582760106], \"type\": \"scatter\"}]}, {\"data\": [{\"x\": [1, 3, 6], \"y\": [3.413980851669417, 8.559658619376574, 16.278175270937307], \"type\": \"scatter\"}]}, {\"data\": [{\"x\": [1, 3, 6], \"y\": [3.516387209943308, 8.763436928265023, 16.634011505747598], \"type\": \"scatter\"}]}, {\"data\": [{\"x\": [1, 3, 6], \"y\": [3.613828379996024, 9.006297915553773, 17.095002218890397], \"type\": \"scatter\"}]}, {\"data\": [{\"x\": [1, 3, 6], \"y\": [3.4631560746767054, 8.598081088351432, 16.300468608863522], \"type\": \"scatter\"}]}, {\"data\": [{\"x\": [1, 3, 6], \"y\": [3.5636150941195073, 8.797984389666908, 16.64953833298801], \"type\": \"scatter\"}]}, {\"data\": [{\"x\": [1, 3, 6], \"y\": [3.658333924213755, 9.034060255536327, 17.097649752520184], \"type\": \"scatter\"}]}, {\"data\": [{\"x\": [1, 3, 6], \"y\": [3.5072973182669775, 8.624856427796802, 16.301195092091536], \"type\": \"scatter\"}]}, {\"data\": [{\"x\": [1, 3, 6], \"y\": [3.6060083444636053, 8.821281399117364, 16.644190981098003], \"type\": \"scatter\"}]}, {\"data\": [{\"x\": [1, 3, 6], \"y\": [3.6988913702131576, 9.052781732330715, 17.08361727550705], \"type\": \"scatter\"}]}, {\"data\": [{\"x\": [1, 3, 6], \"y\": [3.5497856331033875, 8.648809212021686, 16.297344580399134], \"type\": \"scatter\"}]}, {\"data\": [{\"x\": [1, 3, 6], \"y\": [3.6468141220324934, 8.84188610413314, 16.63449407728411], \"type\": \"scatter\"}]}, {\"data\": [{\"x\": [1, 3, 6], \"y\": [3.738073497026802, 9.069339673281391, 17.066238937663275], \"type\": \"scatter\"}]}, {\"data\": [{\"x\": [1, 3, 6], \"y\": [3.591359019204335, 8.671845797320522, 16.2925759644948], \"type\": \"scatter\"}]}, {\"data\": [{\"x\": [1, 3, 6], \"y\": [3.6867412020438435, 8.86164670660722, 16.624004963452286], \"type\": \"scatter\"}]}, {\"data\": [{\"x\": [1, 3, 6], \"y\": [3.7764434415631944, 9.085219293429562, 17.04838307122911], \"type\": \"scatter\"}]}, {\"data\": [{\"x\": [1, 3, 6], \"y\": [3.6321859309620685, 8.694382084475349, 16.28767631474527], \"type\": \"scatter\"}]}, {\"data\": [{\"x\": [1, 3, 6], \"y\": [3.725951368095971, 8.880965833115537, 16.61348753064489], \"type\": \"scatter\"}]}, {\"data\": [{\"x\": [1, 3, 6], \"y\": [3.814131260446466, 9.100744143491646, 17.030663468059416], \"type\": \"scatter\"}]}, {\"data\": [{\"x\": [1, 3, 6], \"y\": [3.6723119672414906, 8.716512802599096, 16.282814055635505], \"type\": \"scatter\"}]}, {\"data\": [{\"x\": [1, 3, 6], \"y\": [3.7644884133387277, 8.899934619580467, 16.603103928943078], \"type\": \"scatter\"}]}, {\"data\": [{\"x\": [1, 3, 6], \"y\": [3.851173565315787, 9.115987460294862, 17.013208302763477], \"type\": \"scatter\"}]}, {\"data\": [{\"x\": [1, 3, 6], \"y\": [3.7117561028555324, 8.73826340502464, 16.278024358278298], \"type\": \"scatter\"}]}, {\"data\": [{\"x\": [1, 3, 6], \"y\": [3.802370561182453, 8.918577024119623, 16.592886718525378], \"type\": \"scatter\"}]}, {\"data\": [{\"x\": [1, 3, 6], \"y\": [3.887586691681827, 9.130968496582529, 16.996041203933583], \"type\": \"scatter\"}]}, {\"data\": [{\"x\": [1, 3, 6], \"y\": [3.7505314220205657, 8.75964433575609, 16.273313706359374], \"type\": \"scatter\"}]}, {\"data\": [{\"x\": [1, 3, 6], \"y\": [3.839610377708551, 8.936902459700867, 16.582840582689343], \"type\": \"scatter\"}]}, {\"data\": [{\"x\": [1, 3, 6], \"y\": [3.923382463884123, 9.145694816615617, 16.97916334571286], \"type\": \"scatter\"}]}, {\"data\": [{\"x\": [1, 3, 6], \"y\": [3.7886495875140334, 8.780662721333863, 16.26868242206361], \"type\": \"scatter\"}]}, {\"data\": [{\"x\": [1, 3, 6], \"y\": [3.8762190638484775, 8.954917133837757, 16.572964238821676], \"type\": \"scatter\"}]}, {\"data\": [{\"x\": [1, 3, 6], \"y\": [3.958571593702062, 9.16017140875202, 16.962571131326957], \"type\": \"scatter\"}]}, {\"data\": [{\"x\": [1, 3, 6], \"y\": [3.8261218060314723, 8.801324890993332, 16.264129518436118], \"type\": \"scatter\"}]}, {\"data\": [{\"x\": [1, 3, 6], \"y\": [3.9122073825126265, 8.972626492678051, 16.56325515792619], \"type\": \"scatter\"}]}, {\"data\": [{\"x\": [1, 3, 6], \"y\": [3.9931644148895957, 9.174402649516082, 16.946260001455812], \"type\": \"scatter\"}]}, {\"data\": [{\"x\": [1, 3, 6], \"y\": [3.862959038689276, 8.821636920973354, 16.259653744399472], \"type\": \"scatter\"}]}, {\"data\": [{\"x\": [1, 3, 6], \"y\": [3.9475858607571803, 8.99003574872464, 16.55371058067583], \"type\": \"scatter\"}]}, {\"data\": [{\"x\": [1, 3, 6], \"y\": [4.027171043757679, 9.18839272767512, 16.93022525355128], \"type\": \"scatter\"}]}, {\"data\": [{\"x\": [1, 3, 6], \"y\": [3.8991720488690222, 8.841604753151202, 16.25525380957447], \"type\": \"scatter\"}]}, {\"data\": [{\"x\": [1, 3, 6], \"y\": [3.982364835733809, 9.007149995700322, 16.544327735650093], \"type\": \"scatter\"}]}, {\"data\": [{\"x\": [1, 3, 6], \"y\": [4.060601416072624, 9.202145736544779, 16.91446221725301], \"type\": \"scatter\"}]}, {\"data\": [{\"x\": [1, 3, 6], \"y\": [3.9347714149786084, 8.861234221952856, 16.250928432414224], \"type\": \"scatter\"}]}, {\"data\": [{\"x\": [1, 3, 6], \"y\": [4.016554466945456, 9.023974234452542, 16.53510388571317], \"type\": \"scatter\"}]}, {\"data\": [{\"x\": [1, 3, 6], \"y\": [4.093465297270596, 9.215665694806063, 16.89896629110926], \"type\": \"scatter\"}]}, {\"data\": [{\"x\": [1, 3, 6], \"y\": [3.9697675356139612, 8.88053106148053, 16.24667635028038], \"type\": \"scatter\"}]}, {\"data\": [{\"x\": [1, 3, 6], \"y\": [4.050164741203648, 9.04051337967415, 16.526036337379903], \"type\": \"scatter\"}]}, {\"data\": [{\"x\": [1, 3, 6], \"y\": [4.125772286885326, 9.228956551906146, 16.883732949437377], \"type\": \"scatter\"}]}, {\"data\": [{\"x\": [1, 3, 6], \"y\": [4.004170633042742, 8.899500908355892, 16.242496321325618], \"type\": \"scatter\"}]}, {\"data\": [{\"x\": [1, 3, 6], \"y\": [4.08320547597425, 9.056772262472125, 16.517122442218934], \"type\": \"scatter\"}]}, {\"data\": [{\"x\": [1, 3, 6], \"y\": [4.157531821691446, 9.242022190122599, 16.868757742769326], \"type\": \"scatter\"}]}, {\"data\": [{\"x\": [1, 3, 6], \"y\": [4.037990756286387, 8.918149303618193, 16.2383871246159], \"type\": \"scatter\"}]}, {\"data\": [{\"x\": [1, 3, 6], \"y\": [4.115686322337446, 9.072755632022826, 16.508359596550896], \"type\": \"scatter\"}]}, {\"data\": [{\"x\": [1, 3, 6], \"y\": [4.188753178534047, 9.254866425893544, 16.854036296932787], \"type\": \"scatter\"}]}, {\"data\": [{\"x\": [1, 3, 6], \"y\": [4.071237784076096, 8.936481694397001, 16.23434755987836], \"type\": \"scatter\"}]}, {\"data\": [{\"x\": [1, 3, 6], \"y\": [4.147616767826682, 9.088468157011805, 16.499745240789487], \"type\": \"scatter\"}]}, {\"data\": [{\"x\": [1, 3, 6], \"y\": [4.219445477054152, 9.267493010974686, 16.839564311855487], \"type\": \"scatter\"}]}, {\"data\": [{\"x\": [1, 3, 6], \"y\": [4.103921427742838, 8.954503435514962, 16.230376447173146], \"type\": \"scatter\"}]}, {\"data\": [{\"x\": [1, 3, 6], \"y\": [4.179006139204222, 9.103914427008826, 16.491276858715732], \"type\": \"scatter\"}]}, {\"data\": [{\"x\": [1, 3, 6], \"y\": [4.249617682355926, 9.279905633544292, 16.825337560326844], \"type\": \"scatter\"}]}, {\"data\": [{\"x\": [1, 3, 6], \"y\": [4.1360512340549525, 8.972219791054446, 16.226472626553686], \"type\": \"scatter\"}]}, {\"data\": [{\"x\": [1, 3, 6], \"y\": [4.209863605186377, 9.119098953810916, 16.482951976747724], \"type\": \"scatter\"}]}, {\"data\": [{\"x\": [1, 3, 6], \"y\": [4.279278607626077, 9.292107919282454, 16.811351886767017], \"type\": \"scatter\"}]}, {\"data\": [{\"x\": [1, 3, 6], \"y\": [4.1676365880069355, 8.98963593589571, 16.222634957728868], \"type\": \"scatter\"}]}, {\"data\": [{\"x\": [1, 3, 6], \"y\": [4.24019817912186, 9.134026172760763, 16.474768163219117], \"type\": \"scatter\"}]}, {\"data\": [{\"x\": [1, 3, 6], \"y\": [4.308436916708312, 9.30410343243055, 16.797603206013903], \"type\": \"scatter\"}]}, {\"data\": [{\"x\": [1, 3, 6], \"y\": [4.198686715560799, 9.006756957228566, 16.218862319730214], \"type\": \"scatter\"}]}, {\"data\": [{\"x\": [1, 3, 6], \"y\": [4.2700187216245915, 9.148700444042376, 16.46672302766905], \"type\": \"scatter\"}]}, {\"data\": [{\"x\": [1, 3, 6], \"y\": [4.337101126634053, 9.315895676832453, 16.784087502130053], \"type\": \"scatter\"}]}, {\"data\": [{\"x\": [1, 3, 6], \"y\": [4.2292106863409575, 9.023587856038368, 16.215153610584487], \"type\": \"scatter\"}]}, {\"data\": [{\"x\": [1, 3, 6], \"y\": [4.299333943161855, 9.1631260539547, 16.45881422014397], \"type\": \"scatter\"}]}, {\"data\": [{\"x\": [1, 3, 6], \"y\": [4.365279610110225, 9.327488096957998, 16.770800827229657], \"type\": \"scatter\"}]}, {\"data\": [{\"x\": [1, 3, 6], \"y\": [4.259217416283423, 9.04013354856678, 16.211507746991817], \"type\": \"scatter\"}]}, {\"data\": [{\"x\": [1, 3, 6], \"y\": [4.3281524065985995, 9.177307216163646, 16.451039430511216], \"type\": \"scatter\"}]}, {\"data\": [{\"x\": [1, 3, 6], \"y\": [4.392980597964904, 9.338884078909105, 16.757739300325408], \"type\": \"scatter\"}]}, {\"data\": [{\"x\": [1, 3, 6], \"y\": [4.288715670240128, 9.056398867747793, 16.207923664009293], \"type\": \"scatter\"}]}, {\"data\": [{\"x\": [1, 3, 6], \"y\": [4.356482529698619, 9.191248072932872, 16.44339638778425], \"type\": \"scatter\"}]}, {\"data\": [{\"x\": [1, 3, 6], \"y\": [4.420212181551509, 9.350086951408857, 16.744899106194875], \"type\": \"scatter\"}]}, {\"data\": [{\"x\": [1, 3, 6], \"y\": [4.317714064539094, 9.072388564619406, 16.20440031473987], \"type\": \"scatter\"}]}, {\"data\": [{\"x\": [1, 3, 6], \"y\": [4.384332587583345, 9.204952696333724, 16.43588285945929], \"type\": \"scatter\"}]}, {\"data\": [{\"x\": [1, 3, 6], \"y\": [4.446982315112248, 9.36109998677378, 16.73227649426608], \"type\": \"scatter\"}]}, {\"data\": [{\"x\": [1, 3, 6], \"y\": [4.346221069501235, 9.088107309711386, 16.200936670026614], \"type\": \"scatter\"}]}, {\"data\": [{\"x\": [1, 3, 6], \"y\": [4.4117107151489865, 9.218425089434689, 16.42849665086324], \"type\": \"scatter\"}]}, {\"data\": [{\"x\": [1, 3, 6], \"y\": [4.473298818101533, 9.371926401869716, 16.71986777752199], \"type\": \"scatter\"}]}, {\"data\": [{\"x\": [1, 3, 6], \"y\": [4.374245011914507, 9.103559694409519, 16.197531718152035], \"type\": \"scatter\"}]}, {\"data\": [{\"x\": [1, 3, 6], \"y\": [4.438624909442693, 9.231669187470654, 16.4212356045126], \"type\": \"scatter\"}]}, {\"data\": [{\"x\": [1, 3, 6], \"y\": [4.499169377470006, 9.38256935905142, 16.70766933142354], \"type\": \"scatter\"}]}, {\"data\": [{\"x\": [1, 3, 6], \"y\": [4.401794077466127, 9.118750232296723, 16.194184464542616], \"type\": \"scatter\"}]}, {\"data\": [{\"x\": [1, 3, 6], \"y\": [4.465083031998468, 9.244688858992392, 16.41409759948328], \"type\": \"scatter\"}]}, {\"data\": [{\"x\": [1, 3, 6], \"y\": [4.5246015499098675, 9.393031967086287, 16.695677592850917], \"type\": \"scatter\"}]}, {\"data\": [{\"x\": [1, 3, 6], \"y\": [4.428876313133581, 9.133683360471466, 16.190893931478293], \"type\": \"scatter\"}]}, {\"data\": [{\"x\": [1, 3, 6], \"y\": [4.491092811133491, 9.25748790699654, 16.40708055079111], \"type\": \"scatter\"}]}, {\"data\": [{\"x\": [1, 3, 6], \"y\": [4.549602764062165, 9.40331728206242, 16.6838890590628], \"type\": \"scatter\"}]}, {\"data\": [{\"x\": [1, 3, 6], \"y\": [4.455499629535122, 9.148363440843807, 16.187659157806834], \"type\": \"scatter\"}]}, {\"data\": [{\"x\": [1, 3, 6], \"y\": [4.516661844205531, 9.27007007003644, 16.4001824087828], \"type\": \"scatter\"}]}, {\"data\": [{\"x\": [1, 3, 6], \"y\": [4.574180322686661, 9.413428308281283, 16.672300286673217], \"type\": \"scatter\"}]}, {\"data\": [{\"x\": [1, 3, 6], \"y\": [4.481671803240426, 9.162794761409508, 16.18447919866313], \"type\": \"scatter\"}]}, {\"data\": [{\"x\": [1, 3, 6], \"y\": [4.541797599832105, 9.282439023314161, 16.393401158537245], \"type\": \"scatter\"}]}, {\"data\": [{\"x\": [1, 3, 6], \"y\": [4.598341404794949, 9.42336799913526, 16.660907890645728], \"type\": \"scatter\"}]}, {\"data\": [{\"x\": [1, 3, 6], \"y\": [4.507400479042097, 9.176981537502533, 16.181353125193187], \"type\": \"scatter\"}]}, {\"data\": [{\"x\": [1, 3, 6], \"y\": [4.56650742007203, 9.294598379754017, 16.386734819276995], \"type\": \"scatter\"}]}, {\"data\": [{\"x\": [1, 3, 6], \"y\": [4.622093067747414, 9.433139257970328, 16.649708543304698], \"type\": \"scatter\"}]}, {\"data\": [{\"x\": [1, 3, 6], \"y\": [4.532693172188687, 9.190927913026336, 16.17828002428281], \"type\": \"scatter\"}]}, {\"data\": [{\"x\": [1, 3, 6], \"y\": [4.590798522570015, 9.306551691057868, 16.380181443789645], \"type\": \"scatter\"}]}, {\"data\": [{\"x\": [1, 3, 6], \"y\": [4.645442249314655, 9.442744938934103, 16.638698973363272], \"type\": \"scatter\"}]}, {\"data\": [{\"x\": [1, 3, 6], \"y\": [4.557557270579869, 9.204637961664275, 16.175258998290882], \"type\": \"scatter\"}]}, {\"data\": [{\"x\": [1, 3, 6], \"y\": [4.614678002664906, 9.31830244874258, 16.373739117859092], \"type\": \"scatter\"}]}, {\"data\": [{\"x\": [1, 3, 6], \"y\": [4.668395769703991, 9.452187847809537, 16.627875964967856], \"type\": \"scatter\"}]}, {\"data\": [{\"x\": [1, 3, 6], \"y\": [4.582000036924414, 9.21811568806952, 16.17228916478718], \"type\": \"scatter\"}]}, {\"data\": [{\"x\": [1, 3, 6], \"y\": [4.638152835462207, 9.329854085159877, 16.36740595970638], \"type\": \"scatter\"}]}, {\"data\": [{\"x\": [1, 3, 6], \"y\": [4.690960333551608, 9.461470742834477, 16.617236356758777], \"type\": \"scatter\"}]}, {\"data\": [{\"x\": [1, 3, 6], \"y\": [4.6060286108616, 9.231365029034803, 16.16936965629461], \"type\": \"scatter\"}]}, {\"data\": [{\"x\": [1, 3, 6], \"y\": [4.661229877871481, 9.341209974498911, 16.361180119440053], \"type\": \"scatter\"}]}, {\"data\": [{\"x\": [1, 3, 6], \"y\": [4.713142531880967, 9.470596335507324, 16.60677704094686], \"type\": \"scatter\"}]}, {\"data\": [{\"x\": [1, 3, 6], \"y\": [4.62965001104668, 9.244389854642336, 16.16649962003582], \"type\": \"scatter\"}]}, {\"data\": [{\"x\": [1, 3, 6], \"y\": [4.683915870609231, 9.352373433771858, 16.3550597785158], \"type\": \"scatter\"}]}, {\"data\": [{\"x\": [1, 3, 6], \"y\": [4.7349488440280085, 9.479567291379066, 16.59649496240565], \"type\": \"scatter\"}]}, {\"data\": [{\"x\": [1, 3, 6], \"y\": [4.652871137200991, 9.257193969394239, 16.163678217684108], \"type\": \"scatter\"}]}, {\"data\": [{\"x\": [1, 3, 6], \"y\": [4.706217440167832, 9.3633477237828, 16.34904314920525], \"type\": \"scatter\"}]}, {\"data\": [{\"x\": [1, 3, 6], \"y\": [4.756385639533747, 9.488386230831859, 16.586387117779026], \"type\": \"scatter\"}]}, {\"data\": [{\"x\": [1, 3, 6], \"y\": [4.675698772127353, 9.269781113323837, 16.160904625118565], \"type\": \"scatter\"}]}, {\"data\": [{\"x\": [1, 3, 6], \"y\": [4.72814110075111, 9.374136050080203, 16.34312847407384], \"type\": \"scatter\"}]}, {\"data\": [{\"x\": [1, 3, 6], \"y\": [4.77745918000479, 9.497055729844451, 16.576450554603944], \"type\": \"scatter\"}]}, {\"data\": [{\"x\": [1, 3, 6], \"y\": [4.698139583691288, 9.2821549630881, 16.158178032183322], \"type\": \"scatter\"}]}, {\"data\": [{\"x\": [1, 3, 6], \"y\": [4.749693256177112, 9.384741563893227, 16.3373140254674], \"type\": \"scatter\"}]}, {\"data\": [{\"x\": [1, 3, 6], \"y\": [4.798175620942326, 9.505578320744597, 16.566682370448003], \"type\": \"scatter\"}]}, {\"data\": [{\"x\": [1, 3, 6], \"y\": [4.72020012676868, 9.29431913304158, 16.155497642450932], \"type\": \"scatter\"}]}, {\"data\": [{\"x\": [1, 3, 6], \"y\": [4.770880201748641, 9.39516736305221, 16.33159810500756], \"type\": \"scatter\"}]}, {\"data\": [{\"x\": [1, 3, 6], \"y\": [4.818541013540127, 9.513956492948754, 16.557079712061697], \"type\": \"scatter\"}]}, {\"data\": [{\"x\": [1, 3, 6], \"y\": [4.741886845160437, 9.306277176292154, 16.15286267298973], \"type\": \"scatter\"}]}, {\"data\": [{\"x\": [1, 3, 6], \"y\": [4.791708126092084, 9.405416492893512, 16.325979043095654], \"type\": \"scatter\"}]}, {\"data\": [{\"x\": [1, 3, 6], \"y\": [4.838561306452075, 9.522192693689226, 16.54763977454495], \"type\": \"scatter\"}]}, {\"data\": [{\"x\": [1, 3, 6], \"y\": [4.76320607347469, 9.318032585738868, 16.150272354135133], \"type\": \"scatter\"}]}, {\"data\": [{\"x\": [1, 3, 6], \"y\": [4.8121831129650925, 9.415491947149063, 16.320455198425016], \"type\": \"scatter\"}]}, {\"data\": [{\"x\": [1, 3, 6], \"y\": [4.858242347529746, 9.530289328728985, 16.538359800527843], \"type\": \"scatter\"}]}, {\"data\": [{\"x\": [1, 3, 6], \"y\": [4.7841640389771145, 9.329588795092207, 16.147725929264844], \"type\": \"scatter\"}]}, {\"data\": [{\"x\": [1, 3, 6], \"y\": [4.832311143033621, 9.42539666882081, 16.315024957501592], \"type\": \"scatter\"}]}, {\"data\": [{\"x\": [1, 3, 6], \"y\": [4.877589885530541, 9.538248763064402, 16.529237079365192], \"type\": \"scatter\"}]}, {\"data\": [{\"x\": [1, 3, 6], \"y\": [4.80476686340989, 9.340949179877057, 16.145222654577807], \"type\": \"scatter\"}]}, {\"data\": [{\"x\": [1, 3, 6], \"y\": [4.852098095618858, 9.435133551040359, 16.309686734172608], \"type\": \"scatter\"}]}, {\"data\": [{\"x\": [1, 3, 6], \"y\": [4.896609571796878, 9.546073321616031, 16.52026894634476], \"type\": \"scatter\"}]}, {\"data\": [{\"x\": [1, 3, 6], \"y\": [4.825020564779839, 9.352117058418704, 16.142761798877], \"type\": \"scatter\"}]}]);}).then(function(){Plotly.animate('0d541761-87c6-47dc-bb77-83504c7d59db');})\n",
       "        });</script><script type=\"text/javascript\">window.addEventListener(\"resize\", function(){window._Plotly.Plots.resize(document.getElementById(\"0d541761-87c6-47dc-bb77-83504c7d59db\"));});</script>"
      ],
      "text/vnd.plotly.v1+html": [
       "<div id=\"0d541761-87c6-47dc-bb77-83504c7d59db\" style=\"height: 525px; width: 100%;\" class=\"plotly-graph-div\"></div><script type=\"text/javascript\">require([\"plotly\"], function(Plotly) { window.PLOTLYENV=window.PLOTLYENV || {};window.PLOTLYENV.BASE_URL=\"https://plot.ly\";\n",
       "        Plotly.plot(\n",
       "            '0d541761-87c6-47dc-bb77-83504c7d59db',\n",
       "            [{\"x\": [1, 3, 6], \"y\": [6, 10, 16], \"type\": \"scatter\", \"uid\": \"facb1a28-f1c1-44d1-a33b-28adaa248f61\"}],\n",
       "            {\"title\": {\"text\": \"Gradient Descent\"}, \"updatemenus\": [{\"buttons\": [{\"args\": [null], \"label\": \"Play\", \"method\": \"animate\"}], \"type\": \"buttons\"}], \"xaxis\": {\"autorange\": false, \"range\": [0, 10]}, \"yaxis\": {\"autorange\": false, \"range\": [0, 20]}},\n",
       "            {\"showLink\": false, \"linkText\": \"Export to plot.ly\", \"plotlyServerURL\": \"https://plot.ly\"}\n",
       "        ).then(function () {return Plotly.addFrames('0d541761-87c6-47dc-bb77-83504c7d59db',[{\"data\": [{\"x\": [1, 3, 6], \"y\": [0.23759999999999998, 0.4728, 0.8256], \"type\": \"scatter\"}]}, {\"data\": [{\"x\": [1, 3, 6], \"y\": [0.9883433600000001, 2.3439420800000006, 4.377340160000001], \"type\": \"scatter\"}]}, {\"data\": [{\"x\": [1, 3, 6], \"y\": [2.587621353984, 6.6768696683519995, 12.810742139903999], \"type\": \"scatter\"}]}, {\"data\": [{\"x\": [1, 3, 6], \"y\": [2.7227515483662335, 6.94576510565806, 13.280285441595801], \"type\": \"scatter\"}]}, {\"data\": [{\"x\": [1, 3, 6], \"y\": [2.9634252580403784, 7.545616838906818, 14.418904210206478], \"type\": \"scatter\"}]}, {\"data\": [{\"x\": [1, 3, 6], \"y\": [3.1809840387159674, 8.135049349341845, 15.56614731528066], \"type\": \"scatter\"}]}, {\"data\": [{\"x\": [1, 3, 6], \"y\": [3.292617070782815, 8.357187807091025, 15.95404391155334], \"type\": \"scatter\"}]}, {\"data\": [{\"x\": [1, 3, 6], \"y\": [3.422070671584042, 8.679836121778347, 16.566484297069803], \"type\": \"scatter\"}]}, {\"data\": [{\"x\": [1, 3, 6], \"y\": [3.3441224323072367, 8.468650775830724, 16.155443291115954], \"type\": \"scatter\"}]}, {\"data\": [{\"x\": [1, 3, 6], \"y\": [3.44929518398787, 8.677933928164911, 16.520892044430475], \"type\": \"scatter\"}]}, {\"data\": [{\"x\": [1, 3, 6], \"y\": [3.553473990448475, 8.937587704673325, 17.0137582760106], \"type\": \"scatter\"}]}, {\"data\": [{\"x\": [1, 3, 6], \"y\": [3.413980851669417, 8.559658619376574, 16.278175270937307], \"type\": \"scatter\"}]}, {\"data\": [{\"x\": [1, 3, 6], \"y\": [3.516387209943308, 8.763436928265023, 16.634011505747598], \"type\": \"scatter\"}]}, {\"data\": [{\"x\": [1, 3, 6], \"y\": [3.613828379996024, 9.006297915553773, 17.095002218890397], \"type\": \"scatter\"}]}, {\"data\": [{\"x\": [1, 3, 6], \"y\": [3.4631560746767054, 8.598081088351432, 16.300468608863522], \"type\": \"scatter\"}]}, {\"data\": [{\"x\": [1, 3, 6], \"y\": [3.5636150941195073, 8.797984389666908, 16.64953833298801], \"type\": \"scatter\"}]}, {\"data\": [{\"x\": [1, 3, 6], \"y\": [3.658333924213755, 9.034060255536327, 17.097649752520184], \"type\": \"scatter\"}]}, {\"data\": [{\"x\": [1, 3, 6], \"y\": [3.5072973182669775, 8.624856427796802, 16.301195092091536], \"type\": \"scatter\"}]}, {\"data\": [{\"x\": [1, 3, 6], \"y\": [3.6060083444636053, 8.821281399117364, 16.644190981098003], \"type\": \"scatter\"}]}, {\"data\": [{\"x\": [1, 3, 6], \"y\": [3.6988913702131576, 9.052781732330715, 17.08361727550705], \"type\": \"scatter\"}]}, {\"data\": [{\"x\": [1, 3, 6], \"y\": [3.5497856331033875, 8.648809212021686, 16.297344580399134], \"type\": \"scatter\"}]}, {\"data\": [{\"x\": [1, 3, 6], \"y\": [3.6468141220324934, 8.84188610413314, 16.63449407728411], \"type\": \"scatter\"}]}, {\"data\": [{\"x\": [1, 3, 6], \"y\": [3.738073497026802, 9.069339673281391, 17.066238937663275], \"type\": \"scatter\"}]}, {\"data\": [{\"x\": [1, 3, 6], \"y\": [3.591359019204335, 8.671845797320522, 16.2925759644948], \"type\": \"scatter\"}]}, {\"data\": [{\"x\": [1, 3, 6], \"y\": [3.6867412020438435, 8.86164670660722, 16.624004963452286], \"type\": \"scatter\"}]}, {\"data\": [{\"x\": [1, 3, 6], \"y\": [3.7764434415631944, 9.085219293429562, 17.04838307122911], \"type\": \"scatter\"}]}, {\"data\": [{\"x\": [1, 3, 6], \"y\": [3.6321859309620685, 8.694382084475349, 16.28767631474527], \"type\": \"scatter\"}]}, {\"data\": [{\"x\": [1, 3, 6], \"y\": [3.725951368095971, 8.880965833115537, 16.61348753064489], \"type\": \"scatter\"}]}, {\"data\": [{\"x\": [1, 3, 6], \"y\": [3.814131260446466, 9.100744143491646, 17.030663468059416], \"type\": \"scatter\"}]}, {\"data\": [{\"x\": [1, 3, 6], \"y\": [3.6723119672414906, 8.716512802599096, 16.282814055635505], \"type\": \"scatter\"}]}, {\"data\": [{\"x\": [1, 3, 6], \"y\": [3.7644884133387277, 8.899934619580467, 16.603103928943078], \"type\": \"scatter\"}]}, {\"data\": [{\"x\": [1, 3, 6], \"y\": [3.851173565315787, 9.115987460294862, 17.013208302763477], \"type\": \"scatter\"}]}, {\"data\": [{\"x\": [1, 3, 6], \"y\": [3.7117561028555324, 8.73826340502464, 16.278024358278298], \"type\": \"scatter\"}]}, {\"data\": [{\"x\": [1, 3, 6], \"y\": [3.802370561182453, 8.918577024119623, 16.592886718525378], \"type\": \"scatter\"}]}, {\"data\": [{\"x\": [1, 3, 6], \"y\": [3.887586691681827, 9.130968496582529, 16.996041203933583], \"type\": \"scatter\"}]}, {\"data\": [{\"x\": [1, 3, 6], \"y\": [3.7505314220205657, 8.75964433575609, 16.273313706359374], \"type\": \"scatter\"}]}, {\"data\": [{\"x\": [1, 3, 6], \"y\": [3.839610377708551, 8.936902459700867, 16.582840582689343], \"type\": \"scatter\"}]}, {\"data\": [{\"x\": [1, 3, 6], \"y\": [3.923382463884123, 9.145694816615617, 16.97916334571286], \"type\": \"scatter\"}]}, {\"data\": [{\"x\": [1, 3, 6], \"y\": [3.7886495875140334, 8.780662721333863, 16.26868242206361], \"type\": \"scatter\"}]}, {\"data\": [{\"x\": [1, 3, 6], \"y\": [3.8762190638484775, 8.954917133837757, 16.572964238821676], \"type\": \"scatter\"}]}, {\"data\": [{\"x\": [1, 3, 6], \"y\": [3.958571593702062, 9.16017140875202, 16.962571131326957], \"type\": \"scatter\"}]}, {\"data\": [{\"x\": [1, 3, 6], \"y\": [3.8261218060314723, 8.801324890993332, 16.264129518436118], \"type\": \"scatter\"}]}, {\"data\": [{\"x\": [1, 3, 6], \"y\": [3.9122073825126265, 8.972626492678051, 16.56325515792619], \"type\": \"scatter\"}]}, {\"data\": [{\"x\": [1, 3, 6], \"y\": [3.9931644148895957, 9.174402649516082, 16.946260001455812], \"type\": \"scatter\"}]}, {\"data\": [{\"x\": [1, 3, 6], \"y\": [3.862959038689276, 8.821636920973354, 16.259653744399472], \"type\": \"scatter\"}]}, {\"data\": [{\"x\": [1, 3, 6], \"y\": [3.9475858607571803, 8.99003574872464, 16.55371058067583], \"type\": \"scatter\"}]}, {\"data\": [{\"x\": [1, 3, 6], \"y\": [4.027171043757679, 9.18839272767512, 16.93022525355128], \"type\": \"scatter\"}]}, {\"data\": [{\"x\": [1, 3, 6], \"y\": [3.8991720488690222, 8.841604753151202, 16.25525380957447], \"type\": \"scatter\"}]}, {\"data\": [{\"x\": [1, 3, 6], \"y\": [3.982364835733809, 9.007149995700322, 16.544327735650093], \"type\": \"scatter\"}]}, {\"data\": [{\"x\": [1, 3, 6], \"y\": [4.060601416072624, 9.202145736544779, 16.91446221725301], \"type\": \"scatter\"}]}, {\"data\": [{\"x\": [1, 3, 6], \"y\": [3.9347714149786084, 8.861234221952856, 16.250928432414224], \"type\": \"scatter\"}]}, {\"data\": [{\"x\": [1, 3, 6], \"y\": [4.016554466945456, 9.023974234452542, 16.53510388571317], \"type\": \"scatter\"}]}, {\"data\": [{\"x\": [1, 3, 6], \"y\": [4.093465297270596, 9.215665694806063, 16.89896629110926], \"type\": \"scatter\"}]}, {\"data\": [{\"x\": [1, 3, 6], \"y\": [3.9697675356139612, 8.88053106148053, 16.24667635028038], \"type\": \"scatter\"}]}, {\"data\": [{\"x\": [1, 3, 6], \"y\": [4.050164741203648, 9.04051337967415, 16.526036337379903], \"type\": \"scatter\"}]}, {\"data\": [{\"x\": [1, 3, 6], \"y\": [4.125772286885326, 9.228956551906146, 16.883732949437377], \"type\": \"scatter\"}]}, {\"data\": [{\"x\": [1, 3, 6], \"y\": [4.004170633042742, 8.899500908355892, 16.242496321325618], \"type\": \"scatter\"}]}, {\"data\": [{\"x\": [1, 3, 6], \"y\": [4.08320547597425, 9.056772262472125, 16.517122442218934], \"type\": \"scatter\"}]}, {\"data\": [{\"x\": [1, 3, 6], \"y\": [4.157531821691446, 9.242022190122599, 16.868757742769326], \"type\": \"scatter\"}]}, {\"data\": [{\"x\": [1, 3, 6], \"y\": [4.037990756286387, 8.918149303618193, 16.2383871246159], \"type\": \"scatter\"}]}, {\"data\": [{\"x\": [1, 3, 6], \"y\": [4.115686322337446, 9.072755632022826, 16.508359596550896], \"type\": \"scatter\"}]}, {\"data\": [{\"x\": [1, 3, 6], \"y\": [4.188753178534047, 9.254866425893544, 16.854036296932787], \"type\": \"scatter\"}]}, {\"data\": [{\"x\": [1, 3, 6], \"y\": [4.071237784076096, 8.936481694397001, 16.23434755987836], \"type\": \"scatter\"}]}, {\"data\": [{\"x\": [1, 3, 6], \"y\": [4.147616767826682, 9.088468157011805, 16.499745240789487], \"type\": \"scatter\"}]}, {\"data\": [{\"x\": [1, 3, 6], \"y\": [4.219445477054152, 9.267493010974686, 16.839564311855487], \"type\": \"scatter\"}]}, {\"data\": [{\"x\": [1, 3, 6], \"y\": [4.103921427742838, 8.954503435514962, 16.230376447173146], \"type\": \"scatter\"}]}, {\"data\": [{\"x\": [1, 3, 6], \"y\": [4.179006139204222, 9.103914427008826, 16.491276858715732], \"type\": \"scatter\"}]}, {\"data\": [{\"x\": [1, 3, 6], \"y\": [4.249617682355926, 9.279905633544292, 16.825337560326844], \"type\": \"scatter\"}]}, {\"data\": [{\"x\": [1, 3, 6], \"y\": [4.1360512340549525, 8.972219791054446, 16.226472626553686], \"type\": \"scatter\"}]}, {\"data\": [{\"x\": [1, 3, 6], \"y\": [4.209863605186377, 9.119098953810916, 16.482951976747724], \"type\": \"scatter\"}]}, {\"data\": [{\"x\": [1, 3, 6], \"y\": [4.279278607626077, 9.292107919282454, 16.811351886767017], \"type\": \"scatter\"}]}, {\"data\": [{\"x\": [1, 3, 6], \"y\": [4.1676365880069355, 8.98963593589571, 16.222634957728868], \"type\": \"scatter\"}]}, {\"data\": [{\"x\": [1, 3, 6], \"y\": [4.24019817912186, 9.134026172760763, 16.474768163219117], \"type\": \"scatter\"}]}, {\"data\": [{\"x\": [1, 3, 6], \"y\": [4.308436916708312, 9.30410343243055, 16.797603206013903], \"type\": \"scatter\"}]}, {\"data\": [{\"x\": [1, 3, 6], \"y\": [4.198686715560799, 9.006756957228566, 16.218862319730214], \"type\": \"scatter\"}]}, {\"data\": [{\"x\": [1, 3, 6], \"y\": [4.2700187216245915, 9.148700444042376, 16.46672302766905], \"type\": \"scatter\"}]}, {\"data\": [{\"x\": [1, 3, 6], \"y\": [4.337101126634053, 9.315895676832453, 16.784087502130053], \"type\": \"scatter\"}]}, {\"data\": [{\"x\": [1, 3, 6], \"y\": [4.2292106863409575, 9.023587856038368, 16.215153610584487], \"type\": \"scatter\"}]}, {\"data\": [{\"x\": [1, 3, 6], \"y\": [4.299333943161855, 9.1631260539547, 16.45881422014397], \"type\": \"scatter\"}]}, {\"data\": [{\"x\": [1, 3, 6], \"y\": [4.365279610110225, 9.327488096957998, 16.770800827229657], \"type\": \"scatter\"}]}, {\"data\": [{\"x\": [1, 3, 6], \"y\": [4.259217416283423, 9.04013354856678, 16.211507746991817], \"type\": \"scatter\"}]}, {\"data\": [{\"x\": [1, 3, 6], \"y\": [4.3281524065985995, 9.177307216163646, 16.451039430511216], \"type\": \"scatter\"}]}, {\"data\": [{\"x\": [1, 3, 6], \"y\": [4.392980597964904, 9.338884078909105, 16.757739300325408], \"type\": \"scatter\"}]}, {\"data\": [{\"x\": [1, 3, 6], \"y\": [4.288715670240128, 9.056398867747793, 16.207923664009293], \"type\": \"scatter\"}]}, {\"data\": [{\"x\": [1, 3, 6], \"y\": [4.356482529698619, 9.191248072932872, 16.44339638778425], \"type\": \"scatter\"}]}, {\"data\": [{\"x\": [1, 3, 6], \"y\": [4.420212181551509, 9.350086951408857, 16.744899106194875], \"type\": \"scatter\"}]}, {\"data\": [{\"x\": [1, 3, 6], \"y\": [4.317714064539094, 9.072388564619406, 16.20440031473987], \"type\": \"scatter\"}]}, {\"data\": [{\"x\": [1, 3, 6], \"y\": [4.384332587583345, 9.204952696333724, 16.43588285945929], \"type\": \"scatter\"}]}, {\"data\": [{\"x\": [1, 3, 6], \"y\": [4.446982315112248, 9.36109998677378, 16.73227649426608], \"type\": \"scatter\"}]}, {\"data\": [{\"x\": [1, 3, 6], \"y\": [4.346221069501235, 9.088107309711386, 16.200936670026614], \"type\": \"scatter\"}]}, {\"data\": [{\"x\": [1, 3, 6], \"y\": [4.4117107151489865, 9.218425089434689, 16.42849665086324], \"type\": \"scatter\"}]}, {\"data\": [{\"x\": [1, 3, 6], \"y\": [4.473298818101533, 9.371926401869716, 16.71986777752199], \"type\": \"scatter\"}]}, {\"data\": [{\"x\": [1, 3, 6], \"y\": [4.374245011914507, 9.103559694409519, 16.197531718152035], \"type\": \"scatter\"}]}, {\"data\": [{\"x\": [1, 3, 6], \"y\": [4.438624909442693, 9.231669187470654, 16.4212356045126], \"type\": \"scatter\"}]}, {\"data\": [{\"x\": [1, 3, 6], \"y\": [4.499169377470006, 9.38256935905142, 16.70766933142354], \"type\": \"scatter\"}]}, {\"data\": [{\"x\": [1, 3, 6], \"y\": [4.401794077466127, 9.118750232296723, 16.194184464542616], \"type\": \"scatter\"}]}, {\"data\": [{\"x\": [1, 3, 6], \"y\": [4.465083031998468, 9.244688858992392, 16.41409759948328], \"type\": \"scatter\"}]}, {\"data\": [{\"x\": [1, 3, 6], \"y\": [4.5246015499098675, 9.393031967086287, 16.695677592850917], \"type\": \"scatter\"}]}, {\"data\": [{\"x\": [1, 3, 6], \"y\": [4.428876313133581, 9.133683360471466, 16.190893931478293], \"type\": \"scatter\"}]}, {\"data\": [{\"x\": [1, 3, 6], \"y\": [4.491092811133491, 9.25748790699654, 16.40708055079111], \"type\": \"scatter\"}]}, {\"data\": [{\"x\": [1, 3, 6], \"y\": [4.549602764062165, 9.40331728206242, 16.6838890590628], \"type\": \"scatter\"}]}, {\"data\": [{\"x\": [1, 3, 6], \"y\": [4.455499629535122, 9.148363440843807, 16.187659157806834], \"type\": \"scatter\"}]}, {\"data\": [{\"x\": [1, 3, 6], \"y\": [4.516661844205531, 9.27007007003644, 16.4001824087828], \"type\": \"scatter\"}]}, {\"data\": [{\"x\": [1, 3, 6], \"y\": [4.574180322686661, 9.413428308281283, 16.672300286673217], \"type\": \"scatter\"}]}, {\"data\": [{\"x\": [1, 3, 6], \"y\": [4.481671803240426, 9.162794761409508, 16.18447919866313], \"type\": \"scatter\"}]}, {\"data\": [{\"x\": [1, 3, 6], \"y\": [4.541797599832105, 9.282439023314161, 16.393401158537245], \"type\": \"scatter\"}]}, {\"data\": [{\"x\": [1, 3, 6], \"y\": [4.598341404794949, 9.42336799913526, 16.660907890645728], \"type\": \"scatter\"}]}, {\"data\": [{\"x\": [1, 3, 6], \"y\": [4.507400479042097, 9.176981537502533, 16.181353125193187], \"type\": \"scatter\"}]}, {\"data\": [{\"x\": [1, 3, 6], \"y\": [4.56650742007203, 9.294598379754017, 16.386734819276995], \"type\": \"scatter\"}]}, {\"data\": [{\"x\": [1, 3, 6], \"y\": [4.622093067747414, 9.433139257970328, 16.649708543304698], \"type\": \"scatter\"}]}, {\"data\": [{\"x\": [1, 3, 6], \"y\": [4.532693172188687, 9.190927913026336, 16.17828002428281], \"type\": \"scatter\"}]}, {\"data\": [{\"x\": [1, 3, 6], \"y\": [4.590798522570015, 9.306551691057868, 16.380181443789645], \"type\": \"scatter\"}]}, {\"data\": [{\"x\": [1, 3, 6], \"y\": [4.645442249314655, 9.442744938934103, 16.638698973363272], \"type\": \"scatter\"}]}, {\"data\": [{\"x\": [1, 3, 6], \"y\": [4.557557270579869, 9.204637961664275, 16.175258998290882], \"type\": \"scatter\"}]}, {\"data\": [{\"x\": [1, 3, 6], \"y\": [4.614678002664906, 9.31830244874258, 16.373739117859092], \"type\": \"scatter\"}]}, {\"data\": [{\"x\": [1, 3, 6], \"y\": [4.668395769703991, 9.452187847809537, 16.627875964967856], \"type\": \"scatter\"}]}, {\"data\": [{\"x\": [1, 3, 6], \"y\": [4.582000036924414, 9.21811568806952, 16.17228916478718], \"type\": \"scatter\"}]}, {\"data\": [{\"x\": [1, 3, 6], \"y\": [4.638152835462207, 9.329854085159877, 16.36740595970638], \"type\": \"scatter\"}]}, {\"data\": [{\"x\": [1, 3, 6], \"y\": [4.690960333551608, 9.461470742834477, 16.617236356758777], \"type\": \"scatter\"}]}, {\"data\": [{\"x\": [1, 3, 6], \"y\": [4.6060286108616, 9.231365029034803, 16.16936965629461], \"type\": \"scatter\"}]}, {\"data\": [{\"x\": [1, 3, 6], \"y\": [4.661229877871481, 9.341209974498911, 16.361180119440053], \"type\": \"scatter\"}]}, {\"data\": [{\"x\": [1, 3, 6], \"y\": [4.713142531880967, 9.470596335507324, 16.60677704094686], \"type\": \"scatter\"}]}, {\"data\": [{\"x\": [1, 3, 6], \"y\": [4.62965001104668, 9.244389854642336, 16.16649962003582], \"type\": \"scatter\"}]}, {\"data\": [{\"x\": [1, 3, 6], \"y\": [4.683915870609231, 9.352373433771858, 16.3550597785158], \"type\": \"scatter\"}]}, {\"data\": [{\"x\": [1, 3, 6], \"y\": [4.7349488440280085, 9.479567291379066, 16.59649496240565], \"type\": \"scatter\"}]}, {\"data\": [{\"x\": [1, 3, 6], \"y\": [4.652871137200991, 9.257193969394239, 16.163678217684108], \"type\": \"scatter\"}]}, {\"data\": [{\"x\": [1, 3, 6], \"y\": [4.706217440167832, 9.3633477237828, 16.34904314920525], \"type\": \"scatter\"}]}, {\"data\": [{\"x\": [1, 3, 6], \"y\": [4.756385639533747, 9.488386230831859, 16.586387117779026], \"type\": \"scatter\"}]}, {\"data\": [{\"x\": [1, 3, 6], \"y\": [4.675698772127353, 9.269781113323837, 16.160904625118565], \"type\": \"scatter\"}]}, {\"data\": [{\"x\": [1, 3, 6], \"y\": [4.72814110075111, 9.374136050080203, 16.34312847407384], \"type\": \"scatter\"}]}, {\"data\": [{\"x\": [1, 3, 6], \"y\": [4.77745918000479, 9.497055729844451, 16.576450554603944], \"type\": \"scatter\"}]}, {\"data\": [{\"x\": [1, 3, 6], \"y\": [4.698139583691288, 9.2821549630881, 16.158178032183322], \"type\": \"scatter\"}]}, {\"data\": [{\"x\": [1, 3, 6], \"y\": [4.749693256177112, 9.384741563893227, 16.3373140254674], \"type\": \"scatter\"}]}, {\"data\": [{\"x\": [1, 3, 6], \"y\": [4.798175620942326, 9.505578320744597, 16.566682370448003], \"type\": \"scatter\"}]}, {\"data\": [{\"x\": [1, 3, 6], \"y\": [4.72020012676868, 9.29431913304158, 16.155497642450932], \"type\": \"scatter\"}]}, {\"data\": [{\"x\": [1, 3, 6], \"y\": [4.770880201748641, 9.39516736305221, 16.33159810500756], \"type\": \"scatter\"}]}, {\"data\": [{\"x\": [1, 3, 6], \"y\": [4.818541013540127, 9.513956492948754, 16.557079712061697], \"type\": \"scatter\"}]}, {\"data\": [{\"x\": [1, 3, 6], \"y\": [4.741886845160437, 9.306277176292154, 16.15286267298973], \"type\": \"scatter\"}]}, {\"data\": [{\"x\": [1, 3, 6], \"y\": [4.791708126092084, 9.405416492893512, 16.325979043095654], \"type\": \"scatter\"}]}, {\"data\": [{\"x\": [1, 3, 6], \"y\": [4.838561306452075, 9.522192693689226, 16.54763977454495], \"type\": \"scatter\"}]}, {\"data\": [{\"x\": [1, 3, 6], \"y\": [4.76320607347469, 9.318032585738868, 16.150272354135133], \"type\": \"scatter\"}]}, {\"data\": [{\"x\": [1, 3, 6], \"y\": [4.8121831129650925, 9.415491947149063, 16.320455198425016], \"type\": \"scatter\"}]}, {\"data\": [{\"x\": [1, 3, 6], \"y\": [4.858242347529746, 9.530289328728985, 16.538359800527843], \"type\": \"scatter\"}]}, {\"data\": [{\"x\": [1, 3, 6], \"y\": [4.7841640389771145, 9.329588795092207, 16.147725929264844], \"type\": \"scatter\"}]}, {\"data\": [{\"x\": [1, 3, 6], \"y\": [4.832311143033621, 9.42539666882081, 16.315024957501592], \"type\": \"scatter\"}]}, {\"data\": [{\"x\": [1, 3, 6], \"y\": [4.877589885530541, 9.538248763064402, 16.529237079365192], \"type\": \"scatter\"}]}, {\"data\": [{\"x\": [1, 3, 6], \"y\": [4.80476686340989, 9.340949179877057, 16.145222654577807], \"type\": \"scatter\"}]}, {\"data\": [{\"x\": [1, 3, 6], \"y\": [4.852098095618858, 9.435133551040359, 16.309686734172608], \"type\": \"scatter\"}]}, {\"data\": [{\"x\": [1, 3, 6], \"y\": [4.896609571796878, 9.546073321616031, 16.52026894634476], \"type\": \"scatter\"}]}, {\"data\": [{\"x\": [1, 3, 6], \"y\": [4.825020564779839, 9.352117058418704, 16.142761798877], \"type\": \"scatter\"}]}]);}).then(function(){Plotly.animate('0d541761-87c6-47dc-bb77-83504c7d59db');})\n",
       "        });</script><script type=\"text/javascript\">window.addEventListener(\"resize\", function(){window._Plotly.Plots.resize(document.getElementById(\"0d541761-87c6-47dc-bb77-83504c7d59db\"));});</script>"
      ]
     },
     "metadata": {},
     "output_type": "display_data"
    }
   ],
   "source": [
    "\n",
    "from plotly.offline import init_notebook_mode, iplot\n",
    "from IPython.display import display, HTML\n",
    "from plotly import tools\n",
    "import plotly.graph_objs as go\n",
    "\n",
    "init_notebook_mode(connected=True)\n",
    "a = np.linspace(0, 8, 25)\n",
    "b = np.array([a*w[1]+w[0] for i in w])\n",
    "figure = {'data': [{'x': X.flatten(), 'y': y.flatten()}],\n",
    "          'layout': {'xaxis': {'range': [0, 10], 'autorange': False},\n",
    "                     'yaxis': {'range': [0, 20], 'autorange': False},\n",
    "                     'title': 'Gradient Descent',\n",
    "                     'updatemenus': [{'type': 'buttons',\n",
    "                                      'buttons': [{'label': 'Play',\n",
    "                                                   'method': 'animate',\n",
    "                                                   'args': [None]}]}]\n",
    "                    },\n",
    "          'frames': li,}\n",
    "\n",
    "trace1 = go.Scatter(x = X.flatten(), y = y.flatten())\n",
    "# figure['frames']\n",
    "\n",
    "\n",
    "iplot(figure)"
   ]
  },
  {
   "cell_type": "code",
   "execution_count": 464,
   "metadata": {},
   "outputs": [
    {
     "data": {
      "text/plain": [
       "array([[ 6],\n",
       "       [10],\n",
       "       [16]])"
      ]
     },
     "execution_count": 464,
     "metadata": {},
     "output_type": "execute_result"
    }
   ],
   "source": [
    "y"
   ]
  },
  {
   "cell_type": "code",
   "execution_count": 20,
   "metadata": {},
   "outputs": [
    {
     "ename": "SyntaxError",
     "evalue": "invalid syntax (<ipython-input-20-b50e0dc4dc47>, line 4)",
     "output_type": "error",
     "traceback": [
      "\u001b[0;36m  File \u001b[0;32m\"<ipython-input-20-b50e0dc4dc47>\"\u001b[0;36m, line \u001b[0;32m4\u001b[0m\n\u001b[0;31m    theta0 = np.arange(-, 15, 0.2)\u001b[0m\n\u001b[0m                        ^\u001b[0m\n\u001b[0;31mSyntaxError\u001b[0m\u001b[0;31m:\u001b[0m invalid syntax\n"
     ]
    }
   ],
   "source": [
    "import plotly.plotly as py\n",
    "import plotly.graph_objs as go\n",
    "\n",
    "theta0 = np.arange(15,  15, 0.2)\n",
    "theta1 = np.arange(-15, 15, 0.2)\n",
    "Z = []\n",
    "for i in theta0:\n",
    "    for j in theta1:\n",
    "        Z.append(np.sum((np.subtract((X*j + i), y)**2)))\n",
    "data = [\n",
    "     go.Contour(\n",
    "        z=Z,\n",
    "         x = theta0, y = theta1, \n",
    "        colorscale='Jet'\n",
    "    )]\n",
    "py.iplot(data)"
   ]
  },
  {
   "cell_type": "code",
   "execution_count": 470,
   "metadata": {},
   "outputs": [
    {
     "data": {
      "image/png": "[encoded data removed]",
      "text/plain": [
       "<Figure size 432x288 with 1 Axes>"
      ]
     },
     "metadata": {
      "needs_background": "light"
     },
     "output_type": "display_data"
    }
   ],
   "source": [
    "Z = np.array(Z).reshape(x_axis.shape)\n",
    "x_axis, y_axis = np.meshgrid(theta0, theta1)\n",
    "plt.contour(x_axis, y_axis, Z, 300)\n",
    "plt.show()"
   ]
  },
  {
   "cell_type": "code",
   "execution_count": 1,
   "metadata": {},
   "outputs": [],
   "source": [
    "def coordinateDescentRegression(X, y):\n",
    "    \n",
    "    w = np.zeros(X.shape[1]+1).reshape([-1, 1])\n",
    "    X = np.concatenate((np.ones(X.shape[0]).reshape([-1, 1]), X), axis = 1)\n",
    "    weights = []\n",
    "    for j in range(10000):\n",
    "        for i in range(len(w)):\n",
    "            w[i] = 0\n",
    "            error = np.subtract(y,np.matmul(X, w))\n",
    "            p = np.matmul(X[:, i].T, error)\n",
    "            z = np.sum(np.square(X[:, i]))\n",
    "            w[i] = p/z\n",
    "            weights.append(np.copy(w))\n",
    "    return weights"
   ]
  },
  {
   "cell_type": "code",
   "execution_count": 2,
   "metadata": {},
   "outputs": [
    {
     "ename": "NameError",
     "evalue": "name 'X' is not defined",
     "output_type": "error",
     "traceback": [
      "\u001b[0;31m---------------------------------------------------------------------------\u001b[0m",
      "\u001b[0;31mNameError\u001b[0m                                 Traceback (most recent call last)",
      "\u001b[0;32m<ipython-input-2-a1f6bddfa08b>\u001b[0m in \u001b[0;36m<module>\u001b[0;34m\u001b[0m\n\u001b[0;32m----> 1\u001b[0;31m \u001b[0mw\u001b[0m \u001b[0;34m=\u001b[0m \u001b[0mcoordinateDescentRegression\u001b[0m\u001b[0;34m(\u001b[0m\u001b[0mX\u001b[0m\u001b[0;34m,\u001b[0m \u001b[0my\u001b[0m\u001b[0;34m)\u001b[0m\u001b[0;34m\u001b[0m\u001b[0;34m\u001b[0m\u001b[0m\n\u001b[0m\u001b[1;32m      2\u001b[0m \u001b[0;31m# b = np.array([X*w[1]+w[0] for i in w])\u001b[0m\u001b[0;34m\u001b[0m\u001b[0;34m\u001b[0m\u001b[0;34m\u001b[0m\u001b[0m\n\u001b[1;32m      3\u001b[0m \u001b[0;31m# print(b)\u001b[0m\u001b[0;34m\u001b[0m\u001b[0;34m\u001b[0m\u001b[0;34m\u001b[0m\u001b[0m\n\u001b[1;32m      4\u001b[0m \u001b[0mli\u001b[0m \u001b[0;34m=\u001b[0m \u001b[0;34m[\u001b[0m\u001b[0;34m]\u001b[0m\u001b[0;34m\u001b[0m\u001b[0;34m\u001b[0m\u001b[0m\n\u001b[1;32m      5\u001b[0m \u001b[0mx_\u001b[0m \u001b[0;34m=\u001b[0m \u001b[0mX\u001b[0m\u001b[0;34m.\u001b[0m\u001b[0mflatten\u001b[0m\u001b[0;34m(\u001b[0m\u001b[0;34m)\u001b[0m\u001b[0;34m\u001b[0m\u001b[0;34m\u001b[0m\u001b[0m\n",
      "\u001b[0;31mNameError\u001b[0m: name 'X' is not defined"
     ]
    }
   ],
   "source": [
    "w = coordinateDescentRegression(X, y)\n",
    "# b = np.array([X*w[1]+w[0] for i in w])\n",
    "# print(b)\n",
    "li = []\n",
    "x_ = X.flatten()\n",
    "for i in range(len(w)):\n",
    "    li.append({'data':[{'x':x_, 'y':(x_*w[i][1] + w[i][0])}]})\n"
   ]
  },
  {
   "cell_type": "code",
   "execution_count": null,
   "metadata": {},
   "outputs": [
    {
     "data": {
      "text/html": [
       "<script type=\"text/javascript\">window.PlotlyConfig = {MathJaxConfig: 'local'};</script><script type=\"text/javascript\">if (window.MathJax) {MathJax.Hub.Config({SVG: {font: \"STIX-Web\"}});}</script><script>requirejs.config({paths: { 'plotly': ['https://cdn.plot.ly/plotly-latest.min']},});if(!window._Plotly) {require(['plotly'],function(plotly) {window._Plotly=plotly;});}</script>"
      ],
      "text/vnd.plotly.v1+html": [
       "<script type=\"text/javascript\">window.PlotlyConfig = {MathJaxConfig: 'local'};</script><script type=\"text/javascript\">if (window.MathJax) {MathJax.Hub.Config({SVG: {font: \"STIX-Web\"}});}</script><script>requirejs.config({paths: { 'plotly': ['https://cdn.plot.ly/plotly-latest.min']},});if(!window._Plotly) {require(['plotly'],function(plotly) {window._Plotly=plotly;});}</script>"
      ]
     },
     "metadata": {},
     "output_type": "display_data"
    }
   ],
   "source": [
    "\n",
    "from plotly.offline import init_notebook_mode, iplot\n",
    "from IPython.display import display, HTML\n",
    "from plotly import tools\n",
    "import plotly.graph_objs as go\n",
    "\n",
    "init_notebook_mode(connected=True)\n",
    "a = np.linspace(0, 8, 25)\n",
    "b = np.array([a*w[1]+w[0] for i in w])\n",
    "figure = {'data': [{'x': X.flatten(), 'y': y.flatten()}],\n",
    "          'layout': {'xaxis': {'range': [0, 10], 'autorange': False},\n",
    "                     'yaxis': {'range': [0, 20], 'autorange': False},\n",
    "                     'title': 'Gradient Descent',\n",
    "                     'updatemenus': [{'type': 'buttons',\n",
    "                                      'buttons': [{'label': 'Play',\n",
    "                                                   'method': 'animate',\n",
    "                                                   'args': [None]}]}]\n",
    "                    },\n",
    "          'frames': li,}\n",
    "\n",
    "trace1 = go.Scatter(x = X.flatten(), y = y.flatten())\n",
    "# figure['frames']\n",
    "\n",
    "\n",
    "iplot(figure)"
   ]
  },
  {
   "cell_type": "code",
   "execution_count": null,
   "metadata": {},
   "outputs": [],
   "source": []
  }
 ],
 "metadata": {
  "kernelspec": {
   "display_name": "Python 3",
   "language": "python",
   "name": "python3"
  },
  "language_info": {
   "codemirror_mode": {
    "name": "ipython",
    "version": 3
   },
   "file_extension": ".py",
   "mimetype": "text/x-python",
   "name": "python",
   "nbconvert_exporter": "python",
   "pygments_lexer": "ipython3",
   "version": "3.6.8"
  }
 },
 "nbformat": 4,
 "nbformat_minor": 2
}
