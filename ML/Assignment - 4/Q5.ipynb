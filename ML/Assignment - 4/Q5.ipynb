{
 "cells": [
  {
   "cell_type": "code",
   "execution_count": 16,
   "metadata": {},
   "outputs": [],
   "source": [
    "import numpy as np\n",
    "import pandas as pd\n",
    "import matplotlib.pyplot as plt\n",
    "import plotly"
   ]
  },
  {
   "cell_type": "code",
   "execution_count": 17,
   "metadata": {},
   "outputs": [],
   "source": [
    "data = pd.read_excel(\"Real estate valuation data set.xlsx\")"
   ]
  },
  {
   "cell_type": "code",
   "execution_count": 18,
   "metadata": {},
   "outputs": [
    {
     "data": {
      "text/html": [
       "<div>\n",
       "<style scoped>\n",
       "    .dataframe tbody tr th:only-of-type {\n",
       "        vertical-align: middle;\n",
       "    }\n",
       "\n",
       "    .dataframe tbody tr th {\n",
       "        vertical-align: top;\n",
       "    }\n",
       "\n",
       "    .dataframe thead th {\n",
       "        text-align: right;\n",
       "    }\n",
       "</style>\n",
       "<table border=\"1\" class=\"dataframe\">\n",
       "  <thead>\n",
       "    <tr style=\"text-align: right;\">\n",
       "      <th></th>\n",
       "      <th>No</th>\n",
       "      <th>X1 transaction date</th>\n",
       "      <th>X2 house age</th>\n",
       "      <th>X3 distance to the nearest MRT station</th>\n",
       "      <th>X4 number of convenience stores</th>\n",
       "      <th>X5 latitude</th>\n",
       "      <th>X6 longitude</th>\n",
       "      <th>Y house price of unit area</th>\n",
       "    </tr>\n",
       "  </thead>\n",
       "  <tbody>\n",
       "    <tr>\n",
       "      <th>0</th>\n",
       "      <td>1</td>\n",
       "      <td>2012.916667</td>\n",
       "      <td>32.0</td>\n",
       "      <td>84.87882</td>\n",
       "      <td>10</td>\n",
       "      <td>24.98298</td>\n",
       "      <td>121.54024</td>\n",
       "      <td>37.9</td>\n",
       "    </tr>\n",
       "    <tr>\n",
       "      <th>1</th>\n",
       "      <td>2</td>\n",
       "      <td>2012.916667</td>\n",
       "      <td>19.5</td>\n",
       "      <td>306.59470</td>\n",
       "      <td>9</td>\n",
       "      <td>24.98034</td>\n",
       "      <td>121.53951</td>\n",
       "      <td>42.2</td>\n",
       "    </tr>\n",
       "    <tr>\n",
       "      <th>2</th>\n",
       "      <td>3</td>\n",
       "      <td>2013.583333</td>\n",
       "      <td>13.3</td>\n",
       "      <td>561.98450</td>\n",
       "      <td>5</td>\n",
       "      <td>24.98746</td>\n",
       "      <td>121.54391</td>\n",
       "      <td>47.3</td>\n",
       "    </tr>\n",
       "    <tr>\n",
       "      <th>3</th>\n",
       "      <td>4</td>\n",
       "      <td>2013.500000</td>\n",
       "      <td>13.3</td>\n",
       "      <td>561.98450</td>\n",
       "      <td>5</td>\n",
       "      <td>24.98746</td>\n",
       "      <td>121.54391</td>\n",
       "      <td>54.8</td>\n",
       "    </tr>\n",
       "    <tr>\n",
       "      <th>4</th>\n",
       "      <td>5</td>\n",
       "      <td>2012.833333</td>\n",
       "      <td>5.0</td>\n",
       "      <td>390.56840</td>\n",
       "      <td>5</td>\n",
       "      <td>24.97937</td>\n",
       "      <td>121.54245</td>\n",
       "      <td>43.1</td>\n",
       "    </tr>\n",
       "  </tbody>\n",
       "</table>\n",
       "</div>"
      ],
      "text/plain": [
       "   No  X1 transaction date  X2 house age  \\\n",
       "0   1          2012.916667          32.0   \n",
       "1   2          2012.916667          19.5   \n",
       "2   3          2013.583333          13.3   \n",
       "3   4          2013.500000          13.3   \n",
       "4   5          2012.833333           5.0   \n",
       "\n",
       "   X3 distance to the nearest MRT station  X4 number of convenience stores  \\\n",
       "0                                84.87882                               10   \n",
       "1                               306.59470                                9   \n",
       "2                               561.98450                                5   \n",
       "3                               561.98450                                5   \n",
       "4                               390.56840                                5   \n",
       "\n",
       "   X5 latitude  X6 longitude  Y house price of unit area  \n",
       "0     24.98298     121.54024                        37.9  \n",
       "1     24.98034     121.53951                        42.2  \n",
       "2     24.98746     121.54391                        47.3  \n",
       "3     24.98746     121.54391                        54.8  \n",
       "4     24.97937     121.54245                        43.1  "
      ]
     },
     "execution_count": 18,
     "metadata": {},
     "output_type": "execute_result"
    }
   ],
   "source": [
    "data.head()"
   ]
  },
  {
   "cell_type": "code",
   "execution_count": 19,
   "metadata": {},
   "outputs": [],
   "source": [
    "data = data.iloc[:, 1:]\n",
    "X = data.iloc[:, :-1].values\n",
    "y = data.iloc[:, -1].values"
   ]
  },
  {
   "cell_type": "code",
   "execution_count": 20,
   "metadata": {},
   "outputs": [],
   "source": [
    "from sklearn.preprocessing import MinMaxScaler\n",
    "scaler = MinMaxScaler()\n",
    "X = scaler.fit_transform(X)"
   ]
  },
  {
   "cell_type": "code",
   "execution_count": null,
   "metadata": {},
   "outputs": [],
   "source": []
  },
  {
   "cell_type": "code",
   "execution_count": 21,
   "metadata": {},
   "outputs": [],
   "source": [
    "from sklearn.model_selection import train_test_split, KFold\n",
    "kf = KFold(n_splits = 5, shuffle = True)"
   ]
  },
  {
   "cell_type": "code",
   "execution_count": 22,
   "metadata": {},
   "outputs": [
    {
     "name": "stdout",
     "output_type": "stream",
     "text": [
      "[1.0, 9.060171458485069, 8.858812918722226, 8.228151941279258]\n",
      "[0.1, 8.995396131187618, 9.71959011291731, 7.366183470971133]\n",
      "[0.1, 9.104328157814448, 9.066624923906057, 7.766058188790818]\n",
      "[0.1, 8.80447223950159, 9.009918950418461, 8.559324064587226]\n",
      "[1.0, 7.95465255425127, 7.375803822898989, 12.50966892823836]\n"
     ]
    }
   ],
   "source": [
    "from sklearn.linear_model import Ridge, Lasso\n",
    "from sklearn.metrics import mean_squared_error\n",
    "\n",
    "i = 0\n",
    "errors = []\n",
    "data = data.values\n",
    "for train, test in kf.split(data):\n",
    "    train_D = data[train]\n",
    "    test_D = data[test]\n",
    "    X_train, X_val, y_train, y_val = train_test_split(train_D[:, :-1], train_D[:, -1])\n",
    "    scaler_ = MinMaxScaler()\n",
    "    X_train = scaler.fit_transform(X_train)\n",
    "    X_val = scaler.transform(X_val)\n",
    "    alphas = np.array([1e-15, 1e-10, 1e-8, 0.0001, 0.001, 0.01,0.1, 1, 5, 10, 20, 1000])\n",
    "    best_rmse = 99999\n",
    "    alpha = 0\n",
    "    for i in alphas:\n",
    "        clf = Ridge(i)\n",
    "        clf.fit(X_train, y_train)\n",
    "        y_pred = clf.predict(X_val)\n",
    "        rmse = np.sqrt(mean_squared_error(y_pred, y_val))\n",
    "        if(rmse < best_rmse):\n",
    "            best_rmse = rmse\n",
    "            alpha = i\n",
    "#         print(rmse, alpha)\n",
    "    clf = Ridge(alpha)\n",
    "    clf.fit(X_train, y_train)\n",
    "    errors.append([alpha, np.sqrt(mean_squared_error(clf.predict(X_train), y_train)), np.sqrt(mean_squared_error(clf.predict(X_val), y_val)), np.sqrt(mean_squared_error(clf.predict(scaler.transform(test_D[:, :-1])), test_D[:, -1]))])\n",
    "    print(errors[-1])\n",
    "\n",
    "    "
   ]
  },
  {
   "cell_type": "code",
   "execution_count": 23,
   "metadata": {},
   "outputs": [
    {
     "name": "stdout",
     "output_type": "stream",
     "text": [
      "[0.01, 9.166865446000982, 7.918937662407261, 8.536563200010164]\n",
      "[0.01, 9.310376219052387, 8.074756474098123, 7.959982132771687]\n",
      "[0.01, 8.205808845409045, 7.280933376668508, 11.803994751774443]\n",
      "[1e-08, 9.41425107232001, 7.7062046508949145, 7.945460373058206]\n",
      "[0.0001, 7.72872196897338, 11.998703209858851, 8.1349623413988]\n"
     ]
    },
    {
     "name": "stderr",
     "output_type": "stream",
     "text": [
      "/home/gowtham/anaconda3/lib/python3.6/site-packages/sklearn/linear_model/coordinate_descent.py:492: ConvergenceWarning:\n",
      "\n",
      "Objective did not converge. You might want to increase the number of iterations. Fitting data with very small alpha may cause precision problems.\n",
      "\n"
     ]
    }
   ],
   "source": [
    "# import warnings\n",
    "# warnings.filterwarnings('ignore')\n",
    "\n",
    "errors = []\n",
    "for train, test in kf.split(data):\n",
    "    train_D = data[train]\n",
    "    test_D = data[test]\n",
    "    X_train, X_val, y_train, y_val = train_test_split(train_D[:, :-1], train_D[:, -1])\n",
    "    scaler_ = MinMaxScaler()\n",
    "    X_train = scaler.fit_transform(X_train)\n",
    "    X_val = scaler.transform(X_val)\n",
    "    alphas = np.array([1e-15, 1e-10, 1e-8, 0.0001, 0.001, 0.01,0.1, 1, 5, 10, 20, 1000])\n",
    "    best_rmse = 99999\n",
    "    alpha = 0\n",
    "    for i in alphas:\n",
    "        clf = Lasso(i)\n",
    "        clf.fit(X_train, y_train)\n",
    "        y_pred = clf.predict(X_val)\n",
    "        rmse = np.sqrt(mean_squared_error(y_pred, y_val))\n",
    "        if(rmse < best_rmse):\n",
    "            best_rmse = rmse\n",
    "            alpha = i\n",
    "#         print(rmse, alpha)\n",
    "    clf = Lasso(alpha)\n",
    "    clf.fit(X_train, y_train)\n",
    "    errors.append([alpha, np.sqrt(mean_squared_error(clf.predict(X_train), y_train)), np.sqrt(mean_squared_error(clf.predict(X_val), y_val)), np.sqrt(mean_squared_error(clf.predict(scaler.transform(test_D[:, :-1])), test_D[:, -1]))])\n",
    "    print(errors[-1])\n",
    "\n",
    "    "
   ]
  },
  {
   "cell_type": "code",
   "execution_count": 24,
   "metadata": {},
   "outputs": [
    {
     "data": {
      "text/plain": [
       "array([[0.72727271, 0.38127854, 0.62782047, 0.        , 0.10555964,\n",
       "        0.35164325],\n",
       "       [0.45454541, 0.36986301, 0.04113795, 0.5       , 0.60127357,\n",
       "        0.81233306],\n",
       "       [0.90909094, 0.74885845, 0.05482865, 0.9       , 0.47244673,\n",
       "        0.81256532],\n",
       "       ...,\n",
       "       [1.        , 0.70091324, 0.19202114, 0.        , 0.19470977,\n",
       "        0.6504471 ],\n",
       "       [0.90909094, 0.37442922, 0.58119373, 0.        , 0.        ,\n",
       "        0.44710254],\n",
       "       [0.45454541, 0.94292237, 0.01571756, 0.6       , 0.4140338 ,\n",
       "        0.77644873]])"
      ]
     },
     "execution_count": 24,
     "metadata": {},
     "output_type": "execute_result"
    }
   ],
   "source": [
    "X_train"
   ]
  },
  {
   "cell_type": "code",
   "execution_count": 25,
   "metadata": {},
   "outputs": [],
   "source": [
    "X_train, X_test, y_train, y_test = train_test_split(X, y, test_size = 0.2, random_state = 10)\n",
    "\n",
    "lasso_e_t = []\n",
    "lasso_e = []\n",
    "lasso_c = []\n",
    "\n",
    "for i in np.linspace(1e-5, 10, 10000):\n",
    "        clf = Lasso(i, max_iter = 10000)\n",
    "        clf.fit(X_train, y_train)\n",
    "        \n",
    "        y_pred = clf.predict(X_test)\n",
    "        rmse = np.sqrt(mean_squared_error(y_pred, y_test))\n",
    "        lasso_e.append(rmse)\n",
    "        \n",
    "        lasso_e_t.append(np.sqrt(mean_squared_error(clf.predict(X_train), y_train)))\n",
    "        coeffs = list(clf.coef_)\n",
    "        coeffs.append(clf.intercept_)\n",
    "        lasso_c.append(np.array(coeffs))\n",
    "        \n",
    "\n",
    "\n",
    "lasso_c = np.array(lasso_c)"
   ]
  },
  {
   "cell_type": "code",
   "execution_count": 26,
   "metadata": {},
   "outputs": [
    {
     "name": "stderr",
     "output_type": "stream",
     "text": [
      "/home/gowtham/anaconda3/lib/python3.6/site-packages/IPython/core/display.py:689: UserWarning:\n",
      "\n",
      "Consider using IPython.display.IFrame instead\n",
      "\n"
     ]
    },
    {
     "data": {
      "text/html": [
       "<iframe id=\"igraph\" scrolling=\"no\" style=\"border:none;\" seamless=\"seamless\" src=\"https://plot.ly/~rithwikkukunuri30/4.embed\" height=\"525px\" width=\"100%\"></iframe>"
      ],
      "text/plain": [
       "<plotly.tools.PlotlyDisplay object>"
      ]
     },
     "execution_count": 26,
     "metadata": {},
     "output_type": "execute_result"
    }
   ],
   "source": [
    "import plotly.plotly as py\n",
    "import plotly.graph_objs as go\n",
    "\n",
    "alphas = np.linspace(1e-5, 10, 10000)\n",
    "\n",
    "# Create a trace\n",
    "trace1 = go.Scatter(\n",
    "    x = alphas,\n",
    "    y = lasso_e_t,\n",
    "    mode = \"lines\",\n",
    "    name = \"Train\"\n",
    ")\n",
    "\n",
    "trace2 = go.Scatter(\n",
    "    x = alphas,\n",
    "    y = lasso_e,\n",
    "    mode = \"lines\",\n",
    "    name = \"Test\"\n",
    ")\n",
    "\n",
    "layout = dict(title = \"Lasso Regression\",\n",
    "                xaxis = dict(title = \"lambda\"),\n",
    "                 yaxis = dict(title = \"RMSE\"))\n",
    "\n",
    "data1 = [trace1, trace2]\n",
    "fig = dict(data = data1, layout = layout)\n",
    "\n",
    "\n",
    "py.iplot(fig, filename='basic-line')"
   ]
  },
  {
   "cell_type": "code",
   "execution_count": 27,
   "metadata": {},
   "outputs": [
    {
     "name": "stdout",
     "output_type": "stream",
     "text": [
      "The draw time for this plot will be slow for all clients.\n"
     ]
    },
    {
     "name": "stderr",
     "output_type": "stream",
     "text": [
      "/home/gowtham/anaconda3/lib/python3.6/site-packages/plotly/api/v1/clientresp.py:40: UserWarning:\n",
      "\n",
      "Estimated Draw Time Too Long\n",
      "\n"
     ]
    },
    {
     "data": {
      "text/html": [
       "<iframe id=\"igraph\" scrolling=\"no\" style=\"border:none;\" seamless=\"seamless\" src=\"https://plot.ly/~rithwikkukunuri30/4.embed\" height=\"525px\" width=\"100%\"></iframe>"
      ],
      "text/plain": [
       "<plotly.tools.PlotlyDisplay object>"
      ]
     },
     "execution_count": 27,
     "metadata": {},
     "output_type": "execute_result"
    }
   ],
   "source": [
    "import plotly.plotly as py\n",
    "import plotly.graph_objs as go\n",
    "\n",
    "alphas = np.linspace(1e-5, 10, 10000)\n",
    "\n",
    "# Create a trace\n",
    "trace0 = go.Scatter(\n",
    "    x = alphas,\n",
    "    y = lasso_c[:, 0],\n",
    "    mode = \"lines\",\n",
    "    name = \"Theta1\"\n",
    ")\n",
    "\n",
    "trace1 = go.Scatter(\n",
    "    x = alphas,\n",
    "    y = lasso_c[:, 1],\n",
    "    mode = \"lines\",\n",
    "    name = \"Theta2\"\n",
    ")\n",
    "\n",
    "trace2 = go.Scatter(\n",
    "    x = alphas,\n",
    "    y = lasso_c[:, 2],\n",
    "    mode = \"lines\",\n",
    "    name = \"Theta3\"\n",
    ")\n",
    "\n",
    "trace3 = go.Scatter(\n",
    "    x = alphas,\n",
    "    y = lasso_c[:, 3],\n",
    "    mode = \"lines\",\n",
    "    name = \"Theta4\"\n",
    ")\n",
    "trace4 = go.Scatter(\n",
    "    x = alphas,\n",
    "    y = lasso_c[:, 4],\n",
    "    mode = \"lines\",\n",
    "    name = \"Theta5\"\n",
    ")\n",
    "trace5 = go.Scatter(\n",
    "    x = alphas,\n",
    "    y = lasso_c[:, 5],\n",
    "    mode = \"lines\",\n",
    "    name = \"Theta6\"\n",
    ")\n",
    "trace6 = go.Scatter(\n",
    "    x = alphas,\n",
    "    y = lasso_c[:, 6],\n",
    "    mode = \"lines\",\n",
    "    name = \"Theta0\"\n",
    ")\n",
    "layout = dict(title = \"Lasso Regression\",\n",
    "                xaxis = dict(title = \"Lambda\"),\n",
    "                 yaxis = dict(title = \"Coefficients\"))\n",
    "\n",
    "data1 = [trace0,trace1, trace2, trace3, trace4, trace5, trace6]\n",
    "fig = dict(data = data1, layout = layout)\n",
    "\n",
    "\n",
    "py.iplot(fig, filename='basic-line')"
   ]
  },
  {
   "cell_type": "code",
   "execution_count": 30,
   "metadata": {},
   "outputs": [],
   "source": [
    "X_train, X_test, y_train, y_test = train_test_split(data[:, :-1], data[:, -1], test_size = 0.2, random_state = 0)\n",
    "\n",
    "ridge_e_t = []\n",
    "ridge_e = []\n",
    "ridge_c = []\n",
    "\n",
    "for i in np.linspace(0.001, 20, 10000):\n",
    "        clf = Ridge(i)\n",
    "        clf.fit(X_train, y_train)\n",
    "        \n",
    "        y_pred = clf.predict(X_test)\n",
    "        rmse = np.sqrt(mean_squared_error(y_test, y_pred))\n",
    "        ridge_e.append(rmse)\n",
    "        \n",
    "        ridge_e_t.append(np.sqrt(mean_squared_error(y_train, clf.predict(X_train))))\n",
    "        coeffs = list(clf.coef_)\n",
    "        coeffs.append(clf.intercept_)\n",
    "        ridge_c.append(np.array(coeffs))\n",
    "        \n",
    "\n",
    "\n",
    "ridge_c = np.array(ridge_c)"
   ]
  },
  {
   "cell_type": "code",
   "execution_count": 31,
   "metadata": {},
   "outputs": [
    {
     "name": "stderr",
     "output_type": "stream",
     "text": [
      "/home/gowtham/anaconda3/lib/python3.6/site-packages/IPython/core/display.py:689: UserWarning:\n",
      "\n",
      "Consider using IPython.display.IFrame instead\n",
      "\n"
     ]
    },
    {
     "data": {
      "text/html": [
       "<iframe id=\"igraph\" scrolling=\"no\" style=\"border:none;\" seamless=\"seamless\" src=\"https://plot.ly/~rithwikkukunuri30/4.embed\" height=\"525px\" width=\"100%\"></iframe>"
      ],
      "text/plain": [
       "<plotly.tools.PlotlyDisplay object>"
      ]
     },
     "execution_count": 31,
     "metadata": {},
     "output_type": "execute_result"
    }
   ],
   "source": [
    "import plotly.plotly as py\n",
    "import plotly.graph_objs as go\n",
    "\n",
    "alphas = np.linspace(0.001, 20, 10000)\n",
    "\n",
    "# Create a trace\n",
    "trace1 = go.Scatter(\n",
    "    x = alphas,\n",
    "    y = ridge_e_t,\n",
    "    mode = \"lines\",\n",
    "    name = \"Train\"\n",
    ")\n",
    "\n",
    "trace2 = go.Scatter(\n",
    "    x = alphas,\n",
    "    y = ridge_e,\n",
    "    mode = \"lines\",\n",
    "    name = \"Test\"\n",
    ")\n",
    "\n",
    "layout = dict(title = \"Ridge Regression\",\n",
    "                xaxis = dict(title = \"lambda\"),\n",
    "                 yaxis = dict(title = \"RMSE\"))\n",
    "\n",
    "data1 = [trace1, trace2]\n",
    "fig = dict(data = data1, layout = layout)\n",
    "\n",
    "\n",
    "py.iplot(fig, filename='basic-line')"
   ]
  },
  {
   "cell_type": "code",
   "execution_count": 32,
   "metadata": {},
   "outputs": [
    {
     "name": "stdout",
     "output_type": "stream",
     "text": [
      "The draw time for this plot will be slow for clients without much RAM.\n"
     ]
    },
    {
     "name": "stderr",
     "output_type": "stream",
     "text": [
      "/home/gowtham/anaconda3/lib/python3.6/site-packages/plotly/api/v1/clientresp.py:40: UserWarning:\n",
      "\n",
      "Estimated Draw Time Slow\n",
      "\n"
     ]
    },
    {
     "data": {
      "text/html": [
       "<iframe id=\"igraph\" scrolling=\"no\" style=\"border:none;\" seamless=\"seamless\" src=\"https://plot.ly/~rithwikkukunuri30/4.embed\" height=\"525px\" width=\"100%\"></iframe>"
      ],
      "text/plain": [
       "<plotly.tools.PlotlyDisplay object>"
      ]
     },
     "execution_count": 32,
     "metadata": {},
     "output_type": "execute_result"
    }
   ],
   "source": [
    "import plotly.plotly as py\n",
    "import plotly.graph_objs as go\n",
    "\n",
    "alphas = np.linspace(0.001, 20, 10000)\n",
    "\n",
    "# Create a trace\n",
    "trace0 = go.Scatter(\n",
    "    x = alphas,\n",
    "    y = ridge_c[:, 0],\n",
    "    mode = \"lines\",\n",
    "    name = \"Theta0\"\n",
    ")\n",
    "\n",
    "trace1 = go.Scatter(\n",
    "    x = alphas,\n",
    "    y = ridge_c[:, 1],\n",
    "    mode = \"lines\",\n",
    "    name = \"Theta1\"\n",
    ")\n",
    "\n",
    "trace2 = go.Scatter(\n",
    "    x = alphas,\n",
    "    y = ridge_c[:, 2],\n",
    "    mode = \"lines\",\n",
    "    name = \"Theta2\"\n",
    ")\n",
    "\n",
    "trace3 = go.Scatter(\n",
    "    x = alphas,\n",
    "    y = ridge_c[:, 3],\n",
    "    mode = \"lines\",\n",
    "    name = \"Theta3\"\n",
    ")\n",
    "trace4 = go.Scatter(\n",
    "    x = alphas,\n",
    "    y = ridge_c[:, 4],\n",
    "    mode = \"lines\",\n",
    "    name = \"Theta4\"\n",
    ")\n",
    "trace5 = go.Scatter(\n",
    "    x = alphas,\n",
    "    y = ridge_c[:, 5],\n",
    "    mode = \"lines\",\n",
    "    name = \"Theta5\"\n",
    ")\n",
    "trace6 = go.Scatter(\n",
    "    x = alphas,\n",
    "    y = ridge_c[:, 6],\n",
    "    mode = \"lines\",\n",
    "    name = \"Theta6\"\n",
    ")\n",
    "# trace7 = go.Scatter(\n",
    "#     x = alphas,\n",
    "#     y = ridge_c[:, 7],\n",
    "#     mode = \"lines\",\n",
    "#     name = \"Theta7\"\n",
    "# )\n",
    "\n",
    "layout = dict(title = \"Ridge Regression\",\n",
    "                xaxis = dict(title = \"lambda\"),\n",
    "                 yaxis = dict(title = \"Coefficients\"))\n",
    "\n",
    "data1 = [trace0,trace1, trace2, trace3, trace4, trace5]\n",
    "fig = dict(data = data1, layout = layout)\n",
    "\n",
    "\n",
    "py.iplot(fig, filename='basic-line')"
   ]
  },
  {
   "cell_type": "code",
   "execution_count": null,
   "metadata": {},
   "outputs": [],
   "source": []
  },
  {
   "cell_type": "code",
   "execution_count": null,
   "metadata": {},
   "outputs": [],
   "source": []
  },
  {
   "cell_type": "code",
   "execution_count": null,
   "metadata": {},
   "outputs": [],
   "source": []
  }
 ],
 "metadata": {
  "kernelspec": {
   "display_name": "Python 3",
   "language": "python",
   "name": "python3"
  },
  "language_info": {
   "codemirror_mode": {
    "name": "ipython",
    "version": 3
   },
   "file_extension": ".py",
   "mimetype": "text/x-python",
   "name": "python",
   "nbconvert_exporter": "python",
   "pygments_lexer": "ipython3",
   "version": "3.6.8"
  }
 },
 "nbformat": 4,
 "nbformat_minor": 2
}
